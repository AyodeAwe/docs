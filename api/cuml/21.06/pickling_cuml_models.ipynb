{
 "cells": [
  {
   "cell_type": "markdown",
   "metadata": {},
   "source": [
    "# Pickling cuML Models for Persistence\n",
    "\n",
    "This notebook demonstrates simple pickling of both single-GPU and multi-GPU cuML models for persistence"
   ]
  },
  {
   "cell_type": "code",
   "execution_count": 1,
   "metadata": {
    "execution": {
     "iopub.execute_input": "2021-06-07T09:46:22.618926Z",
     "iopub.status.busy": "2021-06-07T09:46:22.617453Z",
     "iopub.status.idle": "2021-06-07T09:46:22.620968Z",
     "shell.execute_reply": "2021-06-07T09:46:22.622104Z"
    }
   },
   "outputs": [],
   "source": [
    "import warnings\n",
    "warnings.filterwarnings(\"ignore\", category=FutureWarning)"
   ]
  },
  {
   "cell_type": "markdown",
   "metadata": {},
   "source": [
    "## Single GPU Model Pickling\n",
    "\n",
    "All single-GPU estimators are pickleable. The following example demonstrates the creation of a synthetic dataset, training, and pickling of the resulting model for storage. Trained single-GPU models can also be used to distribute the inference on a Dask cluster, which the `Distributed Model Pickling` section below demonstrates."
   ]
  },
  {
   "cell_type": "code",
   "execution_count": 2,
   "metadata": {
    "execution": {
     "iopub.execute_input": "2021-06-07T09:46:22.632079Z",
     "iopub.status.busy": "2021-06-07T09:46:22.630700Z",
     "iopub.status.idle": "2021-06-07T09:46:28.542475Z",
     "shell.execute_reply": "2021-06-07T09:46:28.541174Z"
    }
   },
   "outputs": [],
   "source": [
    "from cuml.datasets import make_blobs\n",
    "\n",
    "X, y = make_blobs(n_samples=50,\n",
    "                  n_features=10,\n",
    "                  centers=5,\n",
    "                  cluster_std=0.4,\n",
    "                  random_state=0)"
   ]
  },
  {
   "cell_type": "code",
   "execution_count": 3,
   "metadata": {
    "execution": {
     "iopub.execute_input": "2021-06-07T09:46:28.551133Z",
     "iopub.status.busy": "2021-06-07T09:46:28.549626Z",
     "iopub.status.idle": "2021-06-07T09:46:28.855454Z",
     "shell.execute_reply": "2021-06-07T09:46:28.856694Z"
    }
   },
   "outputs": [
    {
     "data": {
      "text/plain": [
       "KMeans()"
      ]
     },
     "execution_count": 1,
     "metadata": {},
     "output_type": "execute_result"
    }
   ],
   "source": [
    "from cuml.cluster import KMeans\n",
    "\n",
    "model = KMeans(n_clusters=5)\n",
    "\n",
    "model.fit(X)"
   ]
  },
  {
   "cell_type": "code",
   "execution_count": 4,
   "metadata": {
    "execution": {
     "iopub.execute_input": "2021-06-07T09:46:28.863648Z",
     "iopub.status.busy": "2021-06-07T09:46:28.862164Z",
     "iopub.status.idle": "2021-06-07T09:46:28.866955Z",
     "shell.execute_reply": "2021-06-07T09:46:28.865736Z"
    }
   },
   "outputs": [],
   "source": [
    "import pickle\n",
    "\n",
    "pickle.dump(model, open(\"kmeans_model.pkl\", \"wb\"))"
   ]
  },
  {
   "cell_type": "code",
   "execution_count": 5,
   "metadata": {
    "execution": {
     "iopub.execute_input": "2021-06-07T09:46:28.873646Z",
     "iopub.status.busy": "2021-06-07T09:46:28.872281Z",
     "iopub.status.idle": "2021-06-07T09:46:28.875358Z",
     "shell.execute_reply": "2021-06-07T09:46:28.876495Z"
    }
   },
   "outputs": [],
   "source": [
    "model = pickle.load(open(\"kmeans_model.pkl\", \"rb\"))"
   ]
  },
  {
   "cell_type": "code",
   "execution_count": 6,
   "metadata": {
    "execution": {
     "iopub.execute_input": "2021-06-07T09:46:28.884344Z",
     "iopub.status.busy": "2021-06-07T09:46:28.883053Z",
     "iopub.status.idle": "2021-06-07T09:46:28.887595Z",
     "shell.execute_reply": "2021-06-07T09:46:28.888673Z"
    }
   },
   "outputs": [
    {
     "data": {
      "text/plain": [
       "array([[ 5.2615476 , -4.0487256 ,  4.464928  , -2.9367518 ,  3.5061095 ,\n",
       "        -4.0168314 , -3.463885  ,  6.078449  , -6.953326  , -1.004144  ],\n",
       "       [-4.2439985 ,  5.6107073 , -5.669777  , -1.7957245 , -9.255529  ,\n",
       "         0.7177438 ,  4.4435906 , -2.8747156 , -5.090096  ,  9.68412   ],\n",
       "       [ 4.674985  ,  8.213466  , -9.07572   ,  9.568374  ,  8.454808  ,\n",
       "        -1.2327975 ,  3.3903713 , -7.828242  , -0.8454461 ,  0.62885725],\n",
       "       [-3.008261  ,  4.625961  , -4.483249  ,  2.228457  ,  1.6435319 ,\n",
       "        -2.4505196 , -5.258201  , -1.6679403 , -7.985754  ,  2.8311467 ],\n",
       "       [-5.60724   ,  2.2695985 , -3.7516537 , -1.8182005 , -5.1430273 ,\n",
       "         7.599363  ,  2.8252368 ,  8.773042  ,  1.6198314 ,  1.1772048 ]],\n",
       "      dtype=float32)"
      ]
     },
     "execution_count": 1,
     "metadata": {},
     "output_type": "execute_result"
    }
   ],
   "source": [
    "model.cluster_centers_"
   ]
  },
  {
   "cell_type": "markdown",
   "metadata": {},
   "source": [
    "## Distributed Model Pickling"
   ]
  },
  {
   "cell_type": "markdown",
   "metadata": {},
   "source": [
    "The distributed estimator wrappers inside of the `cuml.dask` are not intended to be pickled directly. The Dask cuML estimators provide a function `get_combined_model()`, which returns the trained single-GPU model for pickling. The combined model can be used for inference on a single-GPU, and the `ParallelPostFit` wrapper from the [Dask-ML](https://ml.dask.org/meta-estimators.html) library can be used to perform distributed inference on a Dask cluster."
   ]
  },
  {
   "cell_type": "code",
   "execution_count": 7,
   "metadata": {
    "execution": {
     "iopub.execute_input": "2021-06-07T09:46:28.895290Z",
     "iopub.status.busy": "2021-06-07T09:46:28.894083Z",
     "iopub.status.idle": "2021-06-07T09:46:33.531346Z",
     "shell.execute_reply": "2021-06-07T09:46:33.532609Z"
    }
   },
   "outputs": [
    {
     "data": {
      "text/html": [
       "<table style=\"border: 2px solid white;\">\n",
       "<tr>\n",
       "<td style=\"vertical-align: top; border: 0px solid white\">\n",
       "<h3 style=\"text-align: left;\">Client</h3>\n",
       "<ul style=\"text-align: left; list-style: none; margin: 0; padding: 0;\">\n",
       "  <li><b>Scheduler: </b>tcp://127.0.0.1:44601</li>\n",
       "  <li><b>Dashboard: </b><a href='http://127.0.0.1:8787/status' target='_blank'>http://127.0.0.1:8787/status</a></li>\n",
       "</ul>\n",
       "</td>\n",
       "<td style=\"vertical-align: top; border: 0px solid white\">\n",
       "<h3 style=\"text-align: left;\">Cluster</h3>\n",
       "<ul style=\"text-align: left; list-style:none; margin: 0; padding: 0;\">\n",
       "  <li><b>Workers: </b>1</li>\n",
       "  <li><b>Cores: </b>1</li>\n",
       "  <li><b>Memory: </b>251.80 GiB</li>\n",
       "</ul>\n",
       "</td>\n",
       "</tr>\n",
       "</table>"
      ],
      "text/plain": [
       "<Client: 'tcp://127.0.0.1:44601' processes=1 threads=1, memory=251.80 GiB>"
      ]
     },
     "execution_count": 1,
     "metadata": {},
     "output_type": "execute_result"
    }
   ],
   "source": [
    "from dask.distributed import Client\n",
    "from dask_cuda import LocalCUDACluster\n",
    "\n",
    "cluster = LocalCUDACluster()\n",
    "client = Client(cluster)\n",
    "client"
   ]
  },
  {
   "cell_type": "code",
   "execution_count": 8,
   "metadata": {
    "execution": {
     "iopub.execute_input": "2021-06-07T09:46:33.546190Z",
     "iopub.status.busy": "2021-06-07T09:46:33.537933Z",
     "iopub.status.idle": "2021-06-07T09:46:33.643353Z",
     "shell.execute_reply": "2021-06-07T09:46:33.648480Z"
    }
   },
   "outputs": [],
   "source": [
    "from cuml.dask.datasets import make_blobs\n",
    "\n",
    "n_workers = len(client.scheduler_info()[\"workers\"].keys())\n",
    "\n",
    "X, y = make_blobs(n_samples=5000, \n",
    "                  n_features=30,\n",
    "                  centers=5, \n",
    "                  cluster_std=0.4, \n",
    "                  random_state=0,\n",
    "                  n_parts=n_workers*5)\n",
    "\n",
    "X = X.persist()\n",
    "y = y.persist()"
   ]
  },
  {
   "cell_type": "code",
   "execution_count": 9,
   "metadata": {
    "execution": {
     "iopub.execute_input": "2021-06-07T09:46:33.657437Z",
     "iopub.status.busy": "2021-06-07T09:46:33.656393Z",
     "iopub.status.idle": "2021-06-07T09:46:33.673101Z",
     "shell.execute_reply": "2021-06-07T09:46:33.672229Z"
    }
   },
   "outputs": [],
   "source": [
    "from cuml.dask.cluster import KMeans\n",
    "\n",
    "dist_model = KMeans(n_clusters=5)"
   ]
  },
  {
   "cell_type": "code",
   "execution_count": 10,
   "metadata": {
    "execution": {
     "iopub.execute_input": "2021-06-07T09:46:33.686333Z",
     "iopub.status.busy": "2021-06-07T09:46:33.683237Z",
     "iopub.status.idle": "2021-06-07T09:46:37.009128Z",
     "shell.execute_reply": "2021-06-07T09:46:37.007801Z"
    }
   },
   "outputs": [
    {
     "data": {
      "text/plain": [
       "<cuml.dask.cluster.kmeans.KMeans at 0x7f4136e8ac10>"
      ]
     },
     "execution_count": 1,
     "metadata": {},
     "output_type": "execute_result"
    }
   ],
   "source": [
    "dist_model.fit(X)"
   ]
  },
  {
   "cell_type": "code",
   "execution_count": 11,
   "metadata": {
    "execution": {
     "iopub.execute_input": "2021-06-07T09:46:37.019090Z",
     "iopub.status.busy": "2021-06-07T09:46:37.017627Z",
     "iopub.status.idle": "2021-06-07T09:46:37.032979Z",
     "shell.execute_reply": "2021-06-07T09:46:37.034105Z"
    }
   },
   "outputs": [],
   "source": [
    "import pickle\n",
    "\n",
    "single_gpu_model = dist_model.get_combined_model()\n",
    "pickle.dump(single_gpu_model, open(\"kmeans_model.pkl\", \"wb\"))"
   ]
  },
  {
   "cell_type": "code",
   "execution_count": 12,
   "metadata": {
    "execution": {
     "iopub.execute_input": "2021-06-07T09:46:37.044286Z",
     "iopub.status.busy": "2021-06-07T09:46:37.040674Z",
     "iopub.status.idle": "2021-06-07T09:46:37.046375Z",
     "shell.execute_reply": "2021-06-07T09:46:37.047461Z"
    }
   },
   "outputs": [],
   "source": [
    "single_gpu_model = pickle.load(open(\"kmeans_model.pkl\", \"rb\"))"
   ]
  },
  {
   "cell_type": "code",
   "execution_count": 13,
   "metadata": {
    "execution": {
     "iopub.execute_input": "2021-06-07T09:46:37.060573Z",
     "iopub.status.busy": "2021-06-07T09:46:37.059315Z",
     "iopub.status.idle": "2021-06-07T09:46:37.064194Z",
     "shell.execute_reply": "2021-06-07T09:46:37.065197Z"
    }
   },
   "outputs": [
    {
     "data": {
      "text/plain": [
       "array([[-2.8796387e+00,  4.4348760e+00, -4.4264808e+00,  2.3959143e+00,\n",
       "         1.7286437e+00, -2.4991987e+00, -5.1794515e+00, -1.6771442e+00,\n",
       "        -8.1329165e+00,  2.6659229e+00, -4.3131099e+00,  5.5827818e+00,\n",
       "        -5.7318311e+00, -1.7427168e+00, -9.3456116e+00,  7.1365565e-01,\n",
       "         4.4255495e+00, -2.9118378e+00, -4.9467444e+00,  9.6786413e+00,\n",
       "         8.4222736e+00, -6.2710242e+00, -6.3596501e+00,  1.9645505e+00,\n",
       "         4.1715994e+00, -9.1683636e+00,  4.6156688e+00,  8.7916489e+00,\n",
       "         6.8754420e+00,  2.2288744e+00],\n",
       "       [-6.9536958e+00, -9.7635880e+00, -6.5648260e+00, -4.3536153e-01,\n",
       "         6.0998106e+00,  3.7550373e+00, -3.9558539e+00,  6.1595521e+00,\n",
       "        -1.8599317e+00,  5.0400305e+00, -6.8397546e+00,  1.3435435e+00,\n",
       "         8.9749012e+00, -9.9621773e-01,  9.6651936e+00,  9.8009653e+00,\n",
       "        -8.6188354e+00,  5.9978371e+00,  2.2295928e+00, -3.6477714e+00,\n",
       "         7.0758505e+00, -7.3772259e+00, -5.3214231e+00, -6.9927959e+00,\n",
       "        -7.9296322e+00,  6.6705360e+00, -5.5850182e+00,  7.1526046e+00,\n",
       "         6.5703216e+00, -8.3389397e+00],\n",
       "       [ 4.8136683e+00,  8.3985281e+00, -9.2161245e+00,  9.4185524e+00,\n",
       "         8.5280886e+00, -1.0969982e+00,  3.3253176e+00, -7.8064370e+00,\n",
       "        -5.9660637e-01,  2.5423867e-01,  5.5004091e+00, -4.1162963e+00,\n",
       "         4.2832379e+00, -2.8173411e+00,  3.6207721e+00, -4.1576214e+00,\n",
       "        -3.6048706e+00,  6.2125406e+00, -6.9080992e+00, -1.0732133e+00,\n",
       "        -5.8362112e+00,  2.2357666e+00, -3.8588786e+00, -1.6835877e+00,\n",
       "        -5.3240366e+00,  7.5769191e+00,  2.9358530e+00,  8.5267372e+00,\n",
       "         1.5667247e+00,  1.0779673e+00],\n",
       "       [-4.6475406e+00, -9.5672178e+00,  6.6923518e+00,  4.4359241e+00,\n",
       "         2.1902738e+00,  2.5834756e+00,  5.9448928e-01,  6.2568660e+00,\n",
       "        -8.7821646e+00, -4.1232017e-01,  9.8151779e+00,  7.5641575e+00,\n",
       "         1.0003011e+01, -5.8680434e+00, -1.2743107e+00, -2.5393457e+00,\n",
       "        -1.0847499e+00, -5.2629199e+00, -9.3071022e+00,  4.6179357e+00,\n",
       "        -9.7068973e-02, -3.9351208e+00,  6.1767278e+00, -7.4346881e+00,\n",
       "         5.6496072e+00, -8.5544853e+00, -7.5265574e+00, -5.5195603e+00,\n",
       "         4.8197637e+00,  2.5235438e+00],\n",
       "       [ 6.2794290e+00,  9.2293959e+00,  8.3403702e+00,  9.0330496e+00,\n",
       "         7.6893487e+00, -9.9538213e-01, -6.2780762e+00,  1.3599334e+00,\n",
       "        -6.9744482e+00, -5.9463458e+00,  1.0695115e+00, -8.0422489e-03,\n",
       "         2.8183141e+00,  1.8317666e+00, -8.2557335e+00,  3.0514314e+00,\n",
       "        -8.4958019e+00,  9.7238474e+00, -7.7455082e+00,  3.4521689e+00,\n",
       "        -3.9248335e+00, -4.1106415e+00,  2.6693089e+00,  1.2985625e+00,\n",
       "         1.0421573e+00,  5.2490616e+00, -1.6496239e+00,  6.1451659e+00,\n",
       "        -6.9103327e+00, -9.6390305e+00]], dtype=float32)"
      ]
     },
     "execution_count": 1,
     "metadata": {},
     "output_type": "execute_result"
    }
   ],
   "source": [
    "single_gpu_model.cluster_centers_"
   ]
  },
  {
   "cell_type": "markdown",
   "metadata": {},
   "source": [
    "## Exporting cuML Random Forest models for inferencing on machines without GPUs"
   ]
  },
  {
   "cell_type": "markdown",
   "metadata": {},
   "source": [
    "Starting with cuML version 21.06, you can export cuML Random Forest models and run predictions with them on machines without an NVIDIA GPUs. The [Treelite](https://github.com/dmlc/treelite) package defines an efficient exchange format that lets you portably move the cuML Random Forest models to other machines. We will refer to the exchange format as \"checkpoints.\"\n",
    "\n",
    "Here are the steps to export the model:\n",
    "\n",
    "1. Call `to_treelite_checkpoint()` to obtain the checkpoint file from the cuML Random Forest model."
   ]
  },
  {
   "cell_type": "code",
   "execution_count": 14,
   "metadata": {
    "execution": {
     "iopub.execute_input": "2021-06-07T09:46:37.079043Z",
     "iopub.status.busy": "2021-06-07T09:46:37.077818Z",
     "iopub.status.idle": "2021-06-07T09:46:37.163274Z",
     "shell.execute_reply": "2021-06-07T09:46:37.164524Z"
    }
   },
   "outputs": [
    {
     "name": "stderr",
     "output_type": "stream",
     "text": [
      "/opt/conda/envs/rapids/lib/python3.7/site-packages/cuml/internals/api_decorators.py:794: UserWarning: For reproducible results in Random Forest Classifier or for almost reproducible results in Random Forest Regressor, n_streams==1 is recommended. If n_streams is > 1, results may vary due to stream/thread timing differences, even when random_state is set\n",
      "  return func(**kwargs)\n"
     ]
    }
   ],
   "source": [
    "from cuml.ensemble import RandomForestClassifier as cumlRandomForestClassifier\n",
    "from sklearn.datasets import load_iris\n",
    "import numpy as np\n",
    "\n",
    "X, y = load_iris(return_X_y=True)\n",
    "X, y = X.astype(np.float32), y.astype(np.int32)\n",
    "clf = cumlRandomForestClassifier(max_depth=3, random_state=0, n_estimators=10)\n",
    "clf.fit(X, y)\n",
    "\n",
    "checkpoint_path = './checkpoint.tl'\n",
    "# Export cuML RF model as Treelite checkpoint\n",
    "clf.convert_to_treelite_model().to_treelite_checkpoint(checkpoint_path)"
   ]
  },
  {
   "cell_type": "markdown",
   "metadata": {},
   "source": [
    "2. Copy the generated checkpoint file `checkpoint.tl` to another machine on which you'd like to run predictions.\n",
    "\n",
    "3. On the target machine, install Treelite by running `pip install treelite` or `conda install -c conda-forge treelite`. The machine does not need to have an NVIDIA GPUs and does not need to have cuML installed.\n",
    "\n",
    "4. You can now load the model from the checkpoint, by running the following on the target machine:"
   ]
  },
  {
   "cell_type": "code",
   "execution_count": 15,
   "metadata": {
    "execution": {
     "iopub.execute_input": "2021-06-07T09:46:37.173900Z",
     "iopub.status.busy": "2021-06-07T09:46:37.172375Z",
     "iopub.status.idle": "2021-06-07T09:46:37.184655Z",
     "shell.execute_reply": "2021-06-07T09:46:37.185743Z"
    }
   },
   "outputs": [
    {
     "name": "stdout",
     "output_type": "stream",
     "text": [
      "[[1.  0.  0. ]\n",
      " [1.  0.  0. ]\n",
      " [1.  0.  0. ]\n",
      " [1.  0.  0. ]\n",
      " [1.  0.  0. ]\n",
      " [1.  0.  0. ]\n",
      " [1.  0.  0. ]\n",
      " [1.  0.  0. ]\n",
      " [1.  0.  0. ]\n",
      " [1.  0.  0. ]\n",
      " [1.  0.  0. ]\n",
      " [1.  0.  0. ]\n",
      " [1.  0.  0. ]\n",
      " [1.  0.  0. ]\n",
      " [1.  0.  0. ]\n",
      " [1.  0.  0. ]\n",
      " [1.  0.  0. ]\n",
      " [1.  0.  0. ]\n",
      " [1.  0.  0. ]\n",
      " [1.  0.  0. ]\n",
      " [1.  0.  0. ]\n",
      " [1.  0.  0. ]\n",
      " [1.  0.  0. ]\n",
      " [1.  0.  0. ]\n",
      " [1.  0.  0. ]\n",
      " [1.  0.  0. ]\n",
      " [1.  0.  0. ]\n",
      " [1.  0.  0. ]\n",
      " [1.  0.  0. ]\n",
      " [1.  0.  0. ]\n",
      " [1.  0.  0. ]\n",
      " [1.  0.  0. ]\n",
      " [1.  0.  0. ]\n",
      " [1.  0.  0. ]\n",
      " [1.  0.  0. ]\n",
      " [1.  0.  0. ]\n",
      " [1.  0.  0. ]\n",
      " [1.  0.  0. ]\n",
      " [1.  0.  0. ]\n",
      " [1.  0.  0. ]\n",
      " [1.  0.  0. ]\n",
      " [1.  0.  0. ]\n",
      " [1.  0.  0. ]\n",
      " [1.  0.  0. ]\n",
      " [1.  0.  0. ]\n",
      " [1.  0.  0. ]\n",
      " [1.  0.  0. ]\n",
      " [1.  0.  0. ]\n",
      " [1.  0.  0. ]\n",
      " [1.  0.  0. ]\n",
      " [0.  1.  0. ]\n",
      " [0.  1.  0. ]\n",
      " [0.  0.5 0.5]\n",
      " [0.  1.  0. ]\n",
      " [0.  1.  0. ]\n",
      " [0.  1.  0. ]\n",
      " [0.  1.  0. ]\n",
      " [0.  0.8 0.2]\n",
      " [0.  1.  0. ]\n",
      " [0.  1.  0. ]\n",
      " [0.  1.  0. ]\n",
      " [0.  1.  0. ]\n",
      " [0.  1.  0. ]\n",
      " [0.  1.  0. ]\n",
      " [0.  1.  0. ]\n",
      " [0.  1.  0. ]\n",
      " [0.  1.  0. ]\n",
      " [0.  1.  0. ]\n",
      " [0.  1.  0. ]\n",
      " [0.  1.  0. ]\n",
      " [0.  0.3 0.7]\n",
      " [0.  1.  0. ]\n",
      " [0.  0.5 0.5]\n",
      " [0.  1.  0. ]\n",
      " [0.  1.  0. ]\n",
      " [0.  1.  0. ]\n",
      " [0.  0.8 0.2]\n",
      " [0.  0.3 0.7]\n",
      " [0.  1.  0. ]\n",
      " [0.  1.  0. ]\n",
      " [0.  1.  0. ]\n",
      " [0.  1.  0. ]\n",
      " [0.  1.  0. ]\n",
      " [0.  0.3 0.7]\n",
      " [0.  1.  0. ]\n",
      " [0.  1.  0. ]\n",
      " [0.  1.  0. ]\n",
      " [0.  1.  0. ]\n",
      " [0.  1.  0. ]\n",
      " [0.  1.  0. ]\n",
      " [0.  1.  0. ]\n",
      " [0.  1.  0. ]\n",
      " [0.  1.  0. ]\n",
      " [0.  1.  0. ]\n",
      " [0.  1.  0. ]\n",
      " [0.  1.  0. ]\n",
      " [0.  1.  0. ]\n",
      " [0.  1.  0. ]\n",
      " [0.  1.  0. ]\n",
      " [0.  1.  0. ]\n",
      " [0.  0.  1. ]\n",
      " [0.  0.  1. ]\n",
      " [0.  0.  1. ]\n",
      " [0.  0.  1. ]\n",
      " [0.  0.  1. ]\n",
      " [0.  0.  1. ]\n",
      " [0.  0.7 0.3]\n",
      " [0.  0.  1. ]\n",
      " [0.  0.  1. ]\n",
      " [0.  0.  1. ]\n",
      " [0.  0.  1. ]\n",
      " [0.  0.  1. ]\n",
      " [0.  0.  1. ]\n",
      " [0.  0.  1. ]\n",
      " [0.  0.  1. ]\n",
      " [0.  0.  1. ]\n",
      " [0.  0.  1. ]\n",
      " [0.  0.  1. ]\n",
      " [0.  0.  1. ]\n",
      " [0.  0.3 0.7]\n",
      " [0.  0.  1. ]\n",
      " [0.  0.  1. ]\n",
      " [0.  0.  1. ]\n",
      " [0.  0.  1. ]\n",
      " [0.  0.  1. ]\n",
      " [0.  0.  1. ]\n",
      " [0.  0.3 0.7]\n",
      " [0.  0.  1. ]\n",
      " [0.  0.  1. ]\n",
      " [0.  0.2 0.8]\n",
      " [0.  0.  1. ]\n",
      " [0.  0.  1. ]\n",
      " [0.  0.  1. ]\n",
      " [0.  0.3 0.7]\n",
      " [0.  0.2 0.8]\n",
      " [0.  0.  1. ]\n",
      " [0.  0.  1. ]\n",
      " [0.  0.  1. ]\n",
      " [0.  0.3 0.7]\n",
      " [0.  0.  1. ]\n",
      " [0.  0.  1. ]\n",
      " [0.  0.  1. ]\n",
      " [0.  0.  1. ]\n",
      " [0.  0.  1. ]\n",
      " [0.  0.  1. ]\n",
      " [0.  0.  1. ]\n",
      " [0.  0.  1. ]\n",
      " [0.  0.  1. ]\n",
      " [0.  0.  1. ]\n",
      " [0.  0.  1. ]]\n"
     ]
    }
   ],
   "source": [
    "import treelite\n",
    "\n",
    "# The checkpoint file has been copied over\n",
    "checkpoint_path = './checkpoint.tl'\n",
    "tl_model = treelite.Model.deserialize(checkpoint_path)\n",
    "out_prob = treelite.gtil.predict(tl_model, X, pred_margin=True)\n",
    "print(out_prob)"
   ]
  }
 ],
 "metadata": {
  "kernelspec": {
   "display_name": "Python 3",
   "language": "python",
   "name": "python3"
  },
  "language_info": {
   "codemirror_mode": {
    "name": "ipython",
    "version": 3
   },
   "file_extension": ".py",
   "mimetype": "text/x-python",
   "name": "python",
   "nbconvert_exporter": "python",
   "pygments_lexer": "ipython3",
   "version": "3.7.10"
  }
 },
 "nbformat": 4,
 "nbformat_minor": 4
}
