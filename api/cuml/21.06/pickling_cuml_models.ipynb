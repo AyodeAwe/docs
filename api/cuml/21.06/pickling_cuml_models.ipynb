{
 "cells": [
  {
   "cell_type": "markdown",
   "metadata": {},
   "source": [
    "# Pickling cuML Models for Persistence\n",
    "\n",
    "This notebook demonstrates simple pickling of both single-GPU and multi-GPU cuML models for persistence"
   ]
  },
  {
   "cell_type": "code",
   "execution_count": 1,
   "metadata": {
    "execution": {
     "iopub.execute_input": "2021-06-12T11:25:09.270337Z",
     "iopub.status.busy": "2021-06-12T11:25:09.268995Z",
     "iopub.status.idle": "2021-06-12T11:25:09.272583Z",
     "shell.execute_reply": "2021-06-12T11:25:09.273656Z"
    }
   },
   "outputs": [],
   "source": [
    "import warnings\n",
    "warnings.filterwarnings(\"ignore\", category=FutureWarning)"
   ]
  },
  {
   "cell_type": "markdown",
   "metadata": {},
   "source": [
    "## Single GPU Model Pickling\n",
    "\n",
    "All single-GPU estimators are pickleable. The following example demonstrates the creation of a synthetic dataset, training, and pickling of the resulting model for storage. Trained single-GPU models can also be used to distribute the inference on a Dask cluster, which the `Distributed Model Pickling` section below demonstrates."
   ]
  },
  {
   "cell_type": "code",
   "execution_count": 2,
   "metadata": {
    "execution": {
     "iopub.execute_input": "2021-06-12T11:25:09.283196Z",
     "iopub.status.busy": "2021-06-12T11:25:09.281861Z",
     "iopub.status.idle": "2021-06-12T11:25:13.538090Z",
     "shell.execute_reply": "2021-06-12T11:25:13.536762Z"
    }
   },
   "outputs": [],
   "source": [
    "from cuml.datasets import make_blobs\n",
    "\n",
    "X, y = make_blobs(n_samples=50,\n",
    "                  n_features=10,\n",
    "                  centers=5,\n",
    "                  cluster_std=0.4,\n",
    "                  random_state=0)"
   ]
  },
  {
   "cell_type": "code",
   "execution_count": 3,
   "metadata": {
    "execution": {
     "iopub.execute_input": "2021-06-12T11:25:13.545492Z",
     "iopub.status.busy": "2021-06-12T11:25:13.544060Z",
     "iopub.status.idle": "2021-06-12T11:25:13.814656Z",
     "shell.execute_reply": "2021-06-12T11:25:13.815892Z"
    }
   },
   "outputs": [
    {
     "data": {
      "text/plain": [
       "KMeans()"
      ]
     },
     "execution_count": 1,
     "metadata": {},
     "output_type": "execute_result"
    }
   ],
   "source": [
    "from cuml.cluster import KMeans\n",
    "\n",
    "model = KMeans(n_clusters=5)\n",
    "\n",
    "model.fit(X)"
   ]
  },
  {
   "cell_type": "code",
   "execution_count": 4,
   "metadata": {
    "execution": {
     "iopub.execute_input": "2021-06-12T11:25:13.822468Z",
     "iopub.status.busy": "2021-06-12T11:25:13.821013Z",
     "iopub.status.idle": "2021-06-12T11:25:13.824064Z",
     "shell.execute_reply": "2021-06-12T11:25:13.825169Z"
    }
   },
   "outputs": [],
   "source": [
    "import pickle\n",
    "\n",
    "pickle.dump(model, open(\"kmeans_model.pkl\", \"wb\"))"
   ]
  },
  {
   "cell_type": "code",
   "execution_count": 5,
   "metadata": {
    "execution": {
     "iopub.execute_input": "2021-06-12T11:25:13.831284Z",
     "iopub.status.busy": "2021-06-12T11:25:13.829947Z",
     "iopub.status.idle": "2021-06-12T11:25:13.833108Z",
     "shell.execute_reply": "2021-06-12T11:25:13.834239Z"
    }
   },
   "outputs": [],
   "source": [
    "model = pickle.load(open(\"kmeans_model.pkl\", \"rb\"))"
   ]
  },
  {
   "cell_type": "code",
   "execution_count": 6,
   "metadata": {
    "execution": {
     "iopub.execute_input": "2021-06-12T11:25:13.841626Z",
     "iopub.status.busy": "2021-06-12T11:25:13.840379Z",
     "iopub.status.idle": "2021-06-12T11:25:13.844804Z",
     "shell.execute_reply": "2021-06-12T11:25:13.845849Z"
    }
   },
   "outputs": [
    {
     "data": {
      "text/plain": [
       "array([[ 5.2615476, -4.0487256,  4.464928 , -2.9367511,  3.5061095,\n",
       "        -4.0168314, -3.463885 ,  6.078449 , -6.953326 , -1.004144 ],\n",
       "       [-4.2439985,  5.6107073, -5.669777 , -1.7957243, -9.255529 ,\n",
       "         0.7177438,  4.4435906, -2.8747156, -5.090096 ,  9.684121 ],\n",
       "       [ 4.6749854,  8.213466 , -9.07572  ,  9.568374 ,  8.454807 ,\n",
       "        -1.2327975,  3.3903713, -7.828242 , -0.8454461,  0.6288572],\n",
       "       [-3.0082612,  4.6259604, -4.4832497,  2.228457 ,  1.643532 ,\n",
       "        -2.4505196, -5.258201 , -1.6679403, -7.985753 ,  2.8311467],\n",
       "       [-5.6072407,  2.2695985, -3.7516537, -1.8182003, -5.143028 ,\n",
       "         7.599363 ,  2.8252368,  8.773042 ,  1.6198314,  1.1772048]],\n",
       "      dtype=float32)"
      ]
     },
     "execution_count": 1,
     "metadata": {},
     "output_type": "execute_result"
    }
   ],
   "source": [
    "model.cluster_centers_"
   ]
  },
  {
   "cell_type": "markdown",
   "metadata": {},
   "source": [
    "## Distributed Model Pickling"
   ]
  },
  {
   "cell_type": "markdown",
   "metadata": {},
   "source": [
    "The distributed estimator wrappers inside of the `cuml.dask` are not intended to be pickled directly. The Dask cuML estimators provide a function `get_combined_model()`, which returns the trained single-GPU model for pickling. The combined model can be used for inference on a single-GPU, and the `ParallelPostFit` wrapper from the [Dask-ML](https://ml.dask.org/meta-estimators.html) library can be used to perform distributed inference on a Dask cluster."
   ]
  },
  {
   "cell_type": "code",
   "execution_count": 7,
   "metadata": {
    "execution": {
     "iopub.execute_input": "2021-06-12T11:25:13.852542Z",
     "iopub.status.busy": "2021-06-12T11:25:13.851281Z",
     "iopub.status.idle": "2021-06-12T11:25:17.735551Z",
     "shell.execute_reply": "2021-06-12T11:25:17.736784Z"
    }
   },
   "outputs": [
    {
     "data": {
      "text/html": [
       "<table style=\"border: 2px solid white;\">\n",
       "<tr>\n",
       "<td style=\"vertical-align: top; border: 0px solid white\">\n",
       "<h3 style=\"text-align: left;\">Client</h3>\n",
       "<ul style=\"text-align: left; list-style: none; margin: 0; padding: 0;\">\n",
       "  <li><b>Scheduler: </b>tcp://127.0.0.1:38618</li>\n",
       "  <li><b>Dashboard: </b><a href='http://127.0.0.1:8787/status' target='_blank'>http://127.0.0.1:8787/status</a></li>\n",
       "</ul>\n",
       "</td>\n",
       "<td style=\"vertical-align: top; border: 0px solid white\">\n",
       "<h3 style=\"text-align: left;\">Cluster</h3>\n",
       "<ul style=\"text-align: left; list-style:none; margin: 0; padding: 0;\">\n",
       "  <li><b>Workers: </b>1</li>\n",
       "  <li><b>Cores: </b>1</li>\n",
       "  <li><b>Memory: </b>251.80 GiB</li>\n",
       "</ul>\n",
       "</td>\n",
       "</tr>\n",
       "</table>"
      ],
      "text/plain": [
       "<Client: 'tcp://127.0.0.1:38618' processes=1 threads=1, memory=251.80 GiB>"
      ]
     },
     "execution_count": 1,
     "metadata": {},
     "output_type": "execute_result"
    }
   ],
   "source": [
    "from dask.distributed import Client\n",
    "from dask_cuda import LocalCUDACluster\n",
    "\n",
    "cluster = LocalCUDACluster()\n",
    "client = Client(cluster)\n",
    "client"
   ]
  },
  {
   "cell_type": "code",
   "execution_count": 8,
   "metadata": {
    "execution": {
     "iopub.execute_input": "2021-06-12T11:25:17.748585Z",
     "iopub.status.busy": "2021-06-12T11:25:17.746707Z",
     "iopub.status.idle": "2021-06-12T11:25:17.816142Z",
     "shell.execute_reply": "2021-06-12T11:25:17.814902Z"
    }
   },
   "outputs": [],
   "source": [
    "from cuml.dask.datasets import make_blobs\n",
    "\n",
    "n_workers = len(client.scheduler_info()[\"workers\"].keys())\n",
    "\n",
    "X, y = make_blobs(n_samples=5000, \n",
    "                  n_features=30,\n",
    "                  centers=5, \n",
    "                  cluster_std=0.4, \n",
    "                  random_state=0,\n",
    "                  n_parts=n_workers*5)\n",
    "\n",
    "X = X.persist()\n",
    "y = y.persist()"
   ]
  },
  {
   "cell_type": "code",
   "execution_count": 9,
   "metadata": {
    "execution": {
     "iopub.execute_input": "2021-06-12T11:25:17.829470Z",
     "iopub.status.busy": "2021-06-12T11:25:17.828214Z",
     "iopub.status.idle": "2021-06-12T11:25:17.841431Z",
     "shell.execute_reply": "2021-06-12T11:25:17.840435Z"
    }
   },
   "outputs": [],
   "source": [
    "from cuml.dask.cluster import KMeans\n",
    "\n",
    "dist_model = KMeans(n_clusters=5)"
   ]
  },
  {
   "cell_type": "code",
   "execution_count": 10,
   "metadata": {
    "execution": {
     "iopub.execute_input": "2021-06-12T11:25:17.849596Z",
     "iopub.status.busy": "2021-06-12T11:25:17.846438Z",
     "iopub.status.idle": "2021-06-12T11:25:20.754677Z",
     "shell.execute_reply": "2021-06-12T11:25:20.753383Z"
    }
   },
   "outputs": [
    {
     "data": {
      "text/plain": [
       "<cuml.dask.cluster.kmeans.KMeans at 0x7f79f8048310>"
      ]
     },
     "execution_count": 1,
     "metadata": {},
     "output_type": "execute_result"
    }
   ],
   "source": [
    "dist_model.fit(X)"
   ]
  },
  {
   "cell_type": "code",
   "execution_count": 11,
   "metadata": {
    "execution": {
     "iopub.execute_input": "2021-06-12T11:25:20.762283Z",
     "iopub.status.busy": "2021-06-12T11:25:20.760826Z",
     "iopub.status.idle": "2021-06-12T11:25:20.773756Z",
     "shell.execute_reply": "2021-06-12T11:25:20.772400Z"
    }
   },
   "outputs": [],
   "source": [
    "import pickle\n",
    "\n",
    "single_gpu_model = dist_model.get_combined_model()\n",
    "pickle.dump(single_gpu_model, open(\"kmeans_model.pkl\", \"wb\"))"
   ]
  },
  {
   "cell_type": "code",
   "execution_count": 12,
   "metadata": {
    "execution": {
     "iopub.execute_input": "2021-06-12T11:25:20.780187Z",
     "iopub.status.busy": "2021-06-12T11:25:20.778801Z",
     "iopub.status.idle": "2021-06-12T11:25:20.782834Z",
     "shell.execute_reply": "2021-06-12T11:25:20.781729Z"
    }
   },
   "outputs": [],
   "source": [
    "single_gpu_model = pickle.load(open(\"kmeans_model.pkl\", \"rb\"))"
   ]
  },
  {
   "cell_type": "code",
   "execution_count": 13,
   "metadata": {
    "execution": {
     "iopub.execute_input": "2021-06-12T11:25:20.793625Z",
     "iopub.status.busy": "2021-06-12T11:25:20.792368Z",
     "iopub.status.idle": "2021-06-12T11:25:20.796875Z",
     "shell.execute_reply": "2021-06-12T11:25:20.797916Z"
    }
   },
   "outputs": [
    {
     "data": {
      "text/plain": [
       "array([[-2.8796387e+00,  4.4348769e+00, -4.4264793e+00,  2.3959138e+00,\n",
       "         1.7286433e+00, -2.4991994e+00, -5.1794515e+00, -1.6771439e+00,\n",
       "        -8.1329155e+00,  2.6659219e+00, -4.3131099e+00,  5.5827804e+00,\n",
       "        -5.7318296e+00, -1.7427168e+00, -9.3456154e+00,  7.1365565e-01,\n",
       "         4.4255476e+00, -2.9118392e+00, -4.9467444e+00,  9.6786385e+00,\n",
       "         8.4222708e+00, -6.2710233e+00, -6.3596520e+00,  1.9645506e+00,\n",
       "         4.1715994e+00, -9.1683664e+00,  4.6156664e+00,  8.7916451e+00,\n",
       "         6.8754430e+00,  2.2288754e+00],\n",
       "       [-6.9536953e+00, -9.7635908e+00, -6.5648251e+00, -4.3536150e-01,\n",
       "         6.0998106e+00,  3.7550368e+00, -3.9558530e+00,  6.1595507e+00,\n",
       "        -1.8599321e+00,  5.0400314e+00, -6.8397579e+00,  1.3435435e+00,\n",
       "         8.9748983e+00, -9.9621779e-01,  9.6651955e+00,  9.8009672e+00,\n",
       "        -8.6188374e+00,  5.9978356e+00,  2.2295933e+00, -3.6477711e+00,\n",
       "         7.0758529e+00, -7.3772268e+00, -5.3214231e+00, -6.9927983e+00,\n",
       "        -7.9296312e+00,  6.6705365e+00, -5.5850163e+00,  7.1526041e+00,\n",
       "         6.5703201e+00, -8.3389406e+00],\n",
       "       [ 4.8136678e+00,  8.3985291e+00, -9.2161245e+00,  9.4185514e+00,\n",
       "         8.5280838e+00, -1.0969983e+00,  3.3253169e+00, -7.8064342e+00,\n",
       "        -5.9660637e-01,  2.5423872e-01,  5.5004086e+00, -4.1162977e+00,\n",
       "         4.2832394e+00, -2.8173406e+00,  3.6207726e+00, -4.1576214e+00,\n",
       "        -3.6048708e+00,  6.2125421e+00, -6.9080997e+00, -1.0732130e+00,\n",
       "        -5.8362107e+00,  2.2357659e+00, -3.8588784e+00, -1.6835879e+00,\n",
       "        -5.3240352e+00,  7.5769176e+00,  2.9358530e+00,  8.5267382e+00,\n",
       "         1.5667247e+00,  1.0779670e+00],\n",
       "       [-4.6475406e+00, -9.5672150e+00,  6.6923504e+00,  4.4359231e+00,\n",
       "         2.1902730e+00,  2.5834751e+00,  5.9448928e-01,  6.2568660e+00,\n",
       "        -8.7821655e+00, -4.1232005e-01,  9.8151741e+00,  7.5641565e+00,\n",
       "         1.0003009e+01, -5.8680425e+00, -1.2743113e+00, -2.5393457e+00,\n",
       "        -1.0847497e+00, -5.2629189e+00, -9.3071003e+00,  4.6179366e+00,\n",
       "        -9.7068980e-02, -3.9351203e+00,  6.1767263e+00, -7.4346881e+00,\n",
       "         5.6496077e+00, -8.5544844e+00, -7.5265584e+00, -5.5195594e+00,\n",
       "         4.8197632e+00,  2.5235438e+00],\n",
       "       [ 6.2794304e+00,  9.2293978e+00,  8.3403692e+00,  9.0330534e+00,\n",
       "         7.6893463e+00, -9.9538195e-01, -6.2780752e+00,  1.3599334e+00,\n",
       "        -6.9744487e+00, -5.9463463e+00,  1.0695120e+00, -8.0422340e-03,\n",
       "         2.8183148e+00,  1.8317667e+00, -8.2557364e+00,  3.0514309e+00,\n",
       "        -8.4958000e+00,  9.7238503e+00, -7.7455096e+00,  3.4521689e+00,\n",
       "        -3.9248323e+00, -4.1106424e+00,  2.6693094e+00,  1.2985628e+00,\n",
       "         1.0421571e+00,  5.2490630e+00, -1.6496239e+00,  6.1451678e+00,\n",
       "        -6.9103303e+00, -9.6390314e+00]], dtype=float32)"
      ]
     },
     "execution_count": 1,
     "metadata": {},
     "output_type": "execute_result"
    }
   ],
   "source": [
    "single_gpu_model.cluster_centers_"
   ]
  },
  {
   "cell_type": "markdown",
   "metadata": {},
   "source": [
    "## Exporting cuML Random Forest models for inferencing on machines without GPUs"
   ]
  },
  {
   "cell_type": "markdown",
   "metadata": {},
   "source": [
    "Starting with cuML version 21.06, you can export cuML Random Forest models and run predictions with them on machines without an NVIDIA GPUs. The [Treelite](https://github.com/dmlc/treelite) package defines an efficient exchange format that lets you portably move the cuML Random Forest models to other machines. We will refer to the exchange format as \"checkpoints.\"\n",
    "\n",
    "Here are the steps to export the model:\n",
    "\n",
    "1. Call `to_treelite_checkpoint()` to obtain the checkpoint file from the cuML Random Forest model."
   ]
  },
  {
   "cell_type": "code",
   "execution_count": 14,
   "metadata": {
    "execution": {
     "iopub.execute_input": "2021-06-12T11:25:20.807237Z",
     "iopub.status.busy": "2021-06-12T11:25:20.805968Z",
     "iopub.status.idle": "2021-06-12T11:25:20.869710Z",
     "shell.execute_reply": "2021-06-12T11:25:20.870919Z"
    }
   },
   "outputs": [
    {
     "name": "stderr",
     "output_type": "stream",
     "text": [
      "/opt/conda/envs/rapids/lib/python3.7/site-packages/cuml/internals/api_decorators.py:794: UserWarning: For reproducible results in Random Forest Classifier or for almost reproducible results in Random Forest Regressor, n_streams==1 is recommended. If n_streams is > 1, results may vary due to stream/thread timing differences, even when random_state is set\n",
      "  return func(**kwargs)\n"
     ]
    }
   ],
   "source": [
    "from cuml.ensemble import RandomForestClassifier as cumlRandomForestClassifier\n",
    "from sklearn.datasets import load_iris\n",
    "import numpy as np\n",
    "\n",
    "X, y = load_iris(return_X_y=True)\n",
    "X, y = X.astype(np.float32), y.astype(np.int32)\n",
    "clf = cumlRandomForestClassifier(max_depth=3, random_state=0, n_estimators=10)\n",
    "clf.fit(X, y)\n",
    "\n",
    "checkpoint_path = './checkpoint.tl'\n",
    "# Export cuML RF model as Treelite checkpoint\n",
    "clf.convert_to_treelite_model().to_treelite_checkpoint(checkpoint_path)"
   ]
  },
  {
   "cell_type": "markdown",
   "metadata": {},
   "source": [
    "2. Copy the generated checkpoint file `checkpoint.tl` to another machine on which you'd like to run predictions.\n",
    "\n",
    "3. On the target machine, install Treelite by running `pip install treelite` or `conda install -c conda-forge treelite`. The machine does not need to have an NVIDIA GPUs and does not need to have cuML installed.\n",
    "\n",
    "4. You can now load the model from the checkpoint, by running the following on the target machine:"
   ]
  },
  {
   "cell_type": "code",
   "execution_count": 15,
   "metadata": {
    "execution": {
     "iopub.execute_input": "2021-06-12T11:25:20.879658Z",
     "iopub.status.busy": "2021-06-12T11:25:20.878219Z",
     "iopub.status.idle": "2021-06-12T11:25:20.889777Z",
     "shell.execute_reply": "2021-06-12T11:25:20.888648Z"
    }
   },
   "outputs": [
    {
     "name": "stdout",
     "output_type": "stream",
     "text": [
      "[[1.  0.  0. ]\n",
      " [1.  0.  0. ]\n",
      " [1.  0.  0. ]\n",
      " [1.  0.  0. ]\n",
      " [1.  0.  0. ]\n",
      " [1.  0.  0. ]\n",
      " [1.  0.  0. ]\n",
      " [1.  0.  0. ]\n",
      " [1.  0.  0. ]\n",
      " [1.  0.  0. ]\n",
      " [1.  0.  0. ]\n",
      " [1.  0.  0. ]\n",
      " [1.  0.  0. ]\n",
      " [1.  0.  0. ]\n",
      " [1.  0.  0. ]\n",
      " [1.  0.  0. ]\n",
      " [1.  0.  0. ]\n",
      " [1.  0.  0. ]\n",
      " [1.  0.  0. ]\n",
      " [1.  0.  0. ]\n",
      " [1.  0.  0. ]\n",
      " [1.  0.  0. ]\n",
      " [1.  0.  0. ]\n",
      " [1.  0.  0. ]\n",
      " [1.  0.  0. ]\n",
      " [1.  0.  0. ]\n",
      " [1.  0.  0. ]\n",
      " [1.  0.  0. ]\n",
      " [1.  0.  0. ]\n",
      " [1.  0.  0. ]\n",
      " [1.  0.  0. ]\n",
      " [1.  0.  0. ]\n",
      " [1.  0.  0. ]\n",
      " [1.  0.  0. ]\n",
      " [1.  0.  0. ]\n",
      " [1.  0.  0. ]\n",
      " [1.  0.  0. ]\n",
      " [1.  0.  0. ]\n",
      " [1.  0.  0. ]\n",
      " [1.  0.  0. ]\n",
      " [1.  0.  0. ]\n",
      " [1.  0.  0. ]\n",
      " [1.  0.  0. ]\n",
      " [1.  0.  0. ]\n",
      " [1.  0.  0. ]\n",
      " [1.  0.  0. ]\n",
      " [1.  0.  0. ]\n",
      " [1.  0.  0. ]\n",
      " [1.  0.  0. ]\n",
      " [1.  0.  0. ]\n",
      " [0.  1.  0. ]\n",
      " [0.  1.  0. ]\n",
      " [0.  0.5 0.5]\n",
      " [0.  1.  0. ]\n",
      " [0.  1.  0. ]\n",
      " [0.  1.  0. ]\n",
      " [0.  1.  0. ]\n",
      " [0.  0.8 0.2]\n",
      " [0.  1.  0. ]\n",
      " [0.  1.  0. ]\n",
      " [0.  1.  0. ]\n",
      " [0.  1.  0. ]\n",
      " [0.  1.  0. ]\n",
      " [0.  1.  0. ]\n",
      " [0.  1.  0. ]\n",
      " [0.  1.  0. ]\n",
      " [0.  1.  0. ]\n",
      " [0.  1.  0. ]\n",
      " [0.  1.  0. ]\n",
      " [0.  1.  0. ]\n",
      " [0.  0.3 0.7]\n",
      " [0.  1.  0. ]\n",
      " [0.  0.5 0.5]\n",
      " [0.  1.  0. ]\n",
      " [0.  1.  0. ]\n",
      " [0.  1.  0. ]\n",
      " [0.  0.8 0.2]\n",
      " [0.  0.3 0.7]\n",
      " [0.  1.  0. ]\n",
      " [0.  1.  0. ]\n",
      " [0.  1.  0. ]\n",
      " [0.  1.  0. ]\n",
      " [0.  1.  0. ]\n",
      " [0.  0.3 0.7]\n",
      " [0.  1.  0. ]\n",
      " [0.  1.  0. ]\n",
      " [0.  1.  0. ]\n",
      " [0.  1.  0. ]\n",
      " [0.  1.  0. ]\n",
      " [0.  1.  0. ]\n",
      " [0.  1.  0. ]\n",
      " [0.  1.  0. ]\n",
      " [0.  1.  0. ]\n",
      " [0.  1.  0. ]\n",
      " [0.  1.  0. ]\n",
      " [0.  1.  0. ]\n",
      " [0.  1.  0. ]\n",
      " [0.  1.  0. ]\n",
      " [0.  1.  0. ]\n",
      " [0.  1.  0. ]\n",
      " [0.  0.  1. ]\n",
      " [0.  0.  1. ]\n",
      " [0.  0.  1. ]\n",
      " [0.  0.  1. ]\n",
      " [0.  0.  1. ]\n",
      " [0.  0.  1. ]\n",
      " [0.  0.7 0.3]\n",
      " [0.  0.  1. ]\n",
      " [0.  0.  1. ]\n",
      " [0.  0.  1. ]\n",
      " [0.  0.  1. ]\n",
      " [0.  0.  1. ]\n",
      " [0.  0.  1. ]\n",
      " [0.  0.  1. ]\n",
      " [0.  0.  1. ]\n",
      " [0.  0.  1. ]\n",
      " [0.  0.  1. ]\n",
      " [0.  0.  1. ]\n",
      " [0.  0.  1. ]\n",
      " [0.  0.3 0.7]\n",
      " [0.  0.  1. ]\n",
      " [0.  0.  1. ]\n",
      " [0.  0.  1. ]\n",
      " [0.  0.  1. ]\n",
      " [0.  0.  1. ]\n",
      " [0.  0.  1. ]\n",
      " [0.  0.3 0.7]\n",
      " [0.  0.  1. ]\n",
      " [0.  0.  1. ]\n",
      " [0.  0.2 0.8]\n",
      " [0.  0.  1. ]\n",
      " [0.  0.  1. ]\n",
      " [0.  0.  1. ]\n",
      " [0.  0.3 0.7]\n",
      " [0.  0.2 0.8]\n",
      " [0.  0.  1. ]\n",
      " [0.  0.  1. ]\n",
      " [0.  0.  1. ]\n",
      " [0.  0.3 0.7]\n",
      " [0.  0.  1. ]\n",
      " [0.  0.  1. ]\n",
      " [0.  0.  1. ]\n",
      " [0.  0.  1. ]\n",
      " [0.  0.  1. ]\n",
      " [0.  0.  1. ]\n",
      " [0.  0.  1. ]\n",
      " [0.  0.  1. ]\n",
      " [0.  0.  1. ]\n",
      " [0.  0.  1. ]\n",
      " [0.  0.  1. ]]\n"
     ]
    }
   ],
   "source": [
    "import treelite\n",
    "\n",
    "# The checkpoint file has been copied over\n",
    "checkpoint_path = './checkpoint.tl'\n",
    "tl_model = treelite.Model.deserialize(checkpoint_path)\n",
    "out_prob = treelite.gtil.predict(tl_model, X, pred_margin=True)\n",
    "print(out_prob)"
   ]
  }
 ],
 "metadata": {
  "kernelspec": {
   "display_name": "Python 3",
   "language": "python",
   "name": "python3"
  },
  "language_info": {
   "codemirror_mode": {
    "name": "ipython",
    "version": 3
   },
   "file_extension": ".py",
   "mimetype": "text/x-python",
   "name": "python",
   "nbconvert_exporter": "python",
   "pygments_lexer": "ipython3",
   "version": "3.7.10"
  }
 },
 "nbformat": 4,
 "nbformat_minor": 4
}
