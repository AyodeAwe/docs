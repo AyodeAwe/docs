{
 "cells": [
  {
   "cell_type": "markdown",
   "metadata": {},
   "source": [
    "# Pickling cuML Models for Persistence\n",
    "\n",
    "This notebook demonstrates simple pickling of both single-GPU and multi-GPU cuML models for persistence"
   ]
  },
  {
   "cell_type": "code",
   "execution_count": 1,
   "metadata": {
    "execution": {
     "iopub.execute_input": "2021-06-15T10:50:21.435214Z",
     "iopub.status.busy": "2021-06-15T10:50:21.434314Z",
     "iopub.status.idle": "2021-06-15T10:50:21.436555Z",
     "shell.execute_reply": "2021-06-15T10:50:21.437461Z"
    }
   },
   "outputs": [],
   "source": [
    "import warnings\n",
    "warnings.filterwarnings(\"ignore\", category=FutureWarning)"
   ]
  },
  {
   "cell_type": "markdown",
   "metadata": {},
   "source": [
    "## Single GPU Model Pickling\n",
    "\n",
    "All single-GPU estimators are pickleable. The following example demonstrates the creation of a synthetic dataset, training, and pickling of the resulting model for storage. Trained single-GPU models can also be used to distribute the inference on a Dask cluster, which the `Distributed Model Pickling` section below demonstrates."
   ]
  },
  {
   "cell_type": "code",
   "execution_count": 2,
   "metadata": {
    "execution": {
     "iopub.execute_input": "2021-06-15T10:50:21.443571Z",
     "iopub.status.busy": "2021-06-15T10:50:21.442647Z",
     "iopub.status.idle": "2021-06-15T10:50:25.773764Z",
     "shell.execute_reply": "2021-06-15T10:50:25.774407Z"
    }
   },
   "outputs": [],
   "source": [
    "from cuml.datasets import make_blobs\n",
    "\n",
    "X, y = make_blobs(n_samples=50,\n",
    "                  n_features=10,\n",
    "                  centers=5,\n",
    "                  cluster_std=0.4,\n",
    "                  random_state=0)"
   ]
  },
  {
   "cell_type": "code",
   "execution_count": 3,
   "metadata": {
    "execution": {
     "iopub.execute_input": "2021-06-15T10:50:25.781503Z",
     "iopub.status.busy": "2021-06-15T10:50:25.780756Z",
     "iopub.status.idle": "2021-06-15T10:50:26.094619Z",
     "shell.execute_reply": "2021-06-15T10:50:26.095493Z"
    }
   },
   "outputs": [
    {
     "data": {
      "text/plain": [
       "KMeans()"
      ]
     },
     "execution_count": 1,
     "metadata": {},
     "output_type": "execute_result"
    }
   ],
   "source": [
    "from cuml.cluster import KMeans\n",
    "\n",
    "model = KMeans(n_clusters=5)\n",
    "\n",
    "model.fit(X)"
   ]
  },
  {
   "cell_type": "code",
   "execution_count": 4,
   "metadata": {
    "execution": {
     "iopub.execute_input": "2021-06-15T10:50:26.101043Z",
     "iopub.status.busy": "2021-06-15T10:50:26.100019Z",
     "iopub.status.idle": "2021-06-15T10:50:26.104013Z",
     "shell.execute_reply": "2021-06-15T10:50:26.103129Z"
    }
   },
   "outputs": [],
   "source": [
    "import pickle\n",
    "\n",
    "pickle.dump(model, open(\"kmeans_model.pkl\", \"wb\"))"
   ]
  },
  {
   "cell_type": "code",
   "execution_count": 5,
   "metadata": {
    "execution": {
     "iopub.execute_input": "2021-06-15T10:50:26.109188Z",
     "iopub.status.busy": "2021-06-15T10:50:26.108219Z",
     "iopub.status.idle": "2021-06-15T10:50:26.111127Z",
     "shell.execute_reply": "2021-06-15T10:50:26.112092Z"
    }
   },
   "outputs": [],
   "source": [
    "model = pickle.load(open(\"kmeans_model.pkl\", \"rb\"))"
   ]
  },
  {
   "cell_type": "code",
   "execution_count": 6,
   "metadata": {
    "execution": {
     "iopub.execute_input": "2021-06-15T10:50:26.118641Z",
     "iopub.status.busy": "2021-06-15T10:50:26.117659Z",
     "iopub.status.idle": "2021-06-15T10:50:26.121058Z",
     "shell.execute_reply": "2021-06-15T10:50:26.121818Z"
    }
   },
   "outputs": [
    {
     "data": {
      "text/plain": [
       "array([[ 5.2615476, -4.0487256,  4.464928 , -2.9367518,  3.5061095,\n",
       "        -4.016832 , -3.463885 ,  6.078449 , -6.9533257, -1.004144 ],\n",
       "       [-4.2439985,  5.6107073, -5.669777 , -1.7957243, -9.255529 ,\n",
       "         0.7177438,  4.4435906, -2.8747156, -5.090096 ,  9.684121 ],\n",
       "       [ 4.6749854,  8.213466 , -9.075721 ,  9.568374 ,  8.454807 ,\n",
       "        -1.2327975,  3.3903713, -7.828242 , -0.8454461,  0.6288572],\n",
       "       [-3.0082612,  4.6259604, -4.483249 ,  2.228457 ,  1.643532 ,\n",
       "        -2.4505196, -5.258201 , -1.6679403, -7.9857535,  2.8311467],\n",
       "       [-5.6072407,  2.2695982, -3.7516532, -1.8182003, -5.143028 ,\n",
       "         7.599363 ,  2.8252368,  8.773042 ,  1.6198314,  1.1772048]],\n",
       "      dtype=float32)"
      ]
     },
     "execution_count": 1,
     "metadata": {},
     "output_type": "execute_result"
    }
   ],
   "source": [
    "model.cluster_centers_"
   ]
  },
  {
   "cell_type": "markdown",
   "metadata": {},
   "source": [
    "## Distributed Model Pickling"
   ]
  },
  {
   "cell_type": "markdown",
   "metadata": {},
   "source": [
    "The distributed estimator wrappers inside of the `cuml.dask` are not intended to be pickled directly. The Dask cuML estimators provide a function `get_combined_model()`, which returns the trained single-GPU model for pickling. The combined model can be used for inference on a single-GPU, and the `ParallelPostFit` wrapper from the [Dask-ML](https://ml.dask.org/meta-estimators.html) library can be used to perform distributed inference on a Dask cluster."
   ]
  },
  {
   "cell_type": "code",
   "execution_count": 7,
   "metadata": {
    "execution": {
     "iopub.execute_input": "2021-06-15T10:50:26.127386Z",
     "iopub.status.busy": "2021-06-15T10:50:26.126467Z",
     "iopub.status.idle": "2021-06-15T10:50:30.100629Z",
     "shell.execute_reply": "2021-06-15T10:50:30.101358Z"
    }
   },
   "outputs": [
    {
     "data": {
      "text/html": [
       "<table style=\"border: 2px solid white;\">\n",
       "<tr>\n",
       "<td style=\"vertical-align: top; border: 0px solid white\">\n",
       "<h3 style=\"text-align: left;\">Client</h3>\n",
       "<ul style=\"text-align: left; list-style: none; margin: 0; padding: 0;\">\n",
       "  <li><b>Scheduler: </b>tcp://127.0.0.1:44089</li>\n",
       "  <li><b>Dashboard: </b><a href='http://127.0.0.1:8787/status' target='_blank'>http://127.0.0.1:8787/status</a></li>\n",
       "</ul>\n",
       "</td>\n",
       "<td style=\"vertical-align: top; border: 0px solid white\">\n",
       "<h3 style=\"text-align: left;\">Cluster</h3>\n",
       "<ul style=\"text-align: left; list-style:none; margin: 0; padding: 0;\">\n",
       "  <li><b>Workers: </b>1</li>\n",
       "  <li><b>Cores: </b>1</li>\n",
       "  <li><b>Memory: </b>251.80 GiB</li>\n",
       "</ul>\n",
       "</td>\n",
       "</tr>\n",
       "</table>"
      ],
      "text/plain": [
       "<Client: 'tcp://127.0.0.1:44089' processes=1 threads=1, memory=251.80 GiB>"
      ]
     },
     "execution_count": 1,
     "metadata": {},
     "output_type": "execute_result"
    }
   ],
   "source": [
    "from dask.distributed import Client\n",
    "from dask_cuda import LocalCUDACluster\n",
    "\n",
    "cluster = LocalCUDACluster()\n",
    "client = Client(cluster)\n",
    "client"
   ]
  },
  {
   "cell_type": "code",
   "execution_count": 8,
   "metadata": {
    "execution": {
     "iopub.execute_input": "2021-06-15T10:50:30.109235Z",
     "iopub.status.busy": "2021-06-15T10:50:30.108243Z",
     "iopub.status.idle": "2021-06-15T10:50:30.200725Z",
     "shell.execute_reply": "2021-06-15T10:50:30.199442Z"
    }
   },
   "outputs": [],
   "source": [
    "from cuml.dask.datasets import make_blobs\n",
    "\n",
    "n_workers = len(client.scheduler_info()[\"workers\"].keys())\n",
    "\n",
    "X, y = make_blobs(n_samples=5000, \n",
    "                  n_features=30,\n",
    "                  centers=5, \n",
    "                  cluster_std=0.4, \n",
    "                  random_state=0,\n",
    "                  n_parts=n_workers*5)\n",
    "\n",
    "X = X.persist()\n",
    "y = y.persist()"
   ]
  },
  {
   "cell_type": "code",
   "execution_count": 9,
   "metadata": {
    "execution": {
     "iopub.execute_input": "2021-06-15T10:50:30.208365Z",
     "iopub.status.busy": "2021-06-15T10:50:30.207140Z",
     "iopub.status.idle": "2021-06-15T10:50:30.236495Z",
     "shell.execute_reply": "2021-06-15T10:50:30.237467Z"
    }
   },
   "outputs": [],
   "source": [
    "from cuml.dask.cluster import KMeans\n",
    "\n",
    "dist_model = KMeans(n_clusters=5)"
   ]
  },
  {
   "cell_type": "code",
   "execution_count": 10,
   "metadata": {
    "execution": {
     "iopub.execute_input": "2021-06-15T10:50:30.249762Z",
     "iopub.status.busy": "2021-06-15T10:50:30.248706Z",
     "iopub.status.idle": "2021-06-15T10:50:33.047703Z",
     "shell.execute_reply": "2021-06-15T10:50:33.048898Z"
    }
   },
   "outputs": [
    {
     "data": {
      "text/plain": [
       "<cuml.dask.cluster.kmeans.KMeans at 0x7f5d343610d0>"
      ]
     },
     "execution_count": 1,
     "metadata": {},
     "output_type": "execute_result"
    }
   ],
   "source": [
    "dist_model.fit(X)"
   ]
  },
  {
   "cell_type": "code",
   "execution_count": 11,
   "metadata": {
    "execution": {
     "iopub.execute_input": "2021-06-15T10:50:33.057746Z",
     "iopub.status.busy": "2021-06-15T10:50:33.056471Z",
     "iopub.status.idle": "2021-06-15T10:50:33.074276Z",
     "shell.execute_reply": "2021-06-15T10:50:33.073064Z"
    }
   },
   "outputs": [],
   "source": [
    "import pickle\n",
    "\n",
    "single_gpu_model = dist_model.get_combined_model()\n",
    "pickle.dump(single_gpu_model, open(\"kmeans_model.pkl\", \"wb\"))"
   ]
  },
  {
   "cell_type": "code",
   "execution_count": 12,
   "metadata": {
    "execution": {
     "iopub.execute_input": "2021-06-15T10:50:33.081531Z",
     "iopub.status.busy": "2021-06-15T10:50:33.080342Z",
     "iopub.status.idle": "2021-06-15T10:50:33.083668Z",
     "shell.execute_reply": "2021-06-15T10:50:33.084824Z"
    }
   },
   "outputs": [],
   "source": [
    "single_gpu_model = pickle.load(open(\"kmeans_model.pkl\", \"rb\"))"
   ]
  },
  {
   "cell_type": "code",
   "execution_count": 13,
   "metadata": {
    "execution": {
     "iopub.execute_input": "2021-06-15T10:50:33.099959Z",
     "iopub.status.busy": "2021-06-15T10:50:33.098740Z",
     "iopub.status.idle": "2021-06-15T10:50:33.103926Z",
     "shell.execute_reply": "2021-06-15T10:50:33.102953Z"
    }
   },
   "outputs": [
    {
     "data": {
      "text/plain": [
       "array([[-2.8796389e+00,  4.4348745e+00, -4.4264803e+00,  2.3959136e+00,\n",
       "         1.7286437e+00, -2.4991992e+00, -5.1794505e+00, -1.6771438e+00,\n",
       "        -8.1329165e+00,  2.6659229e+00, -4.3131084e+00,  5.5827823e+00,\n",
       "        -5.7318301e+00, -1.7427174e+00, -9.3456135e+00,  7.1365559e-01,\n",
       "         4.4255500e+00, -2.9118373e+00, -4.9467435e+00,  9.6786423e+00,\n",
       "         8.4222727e+00, -6.2710242e+00, -6.3596501e+00,  1.9645507e+00,\n",
       "         4.1715994e+00, -9.1683645e+00,  4.6156664e+00,  8.7916470e+00,\n",
       "         6.8754420e+00,  2.2288752e+00],\n",
       "       [-6.9536967e+00, -9.7635899e+00, -6.5648260e+00, -4.3536144e-01,\n",
       "         6.0998101e+00,  3.7550373e+00, -3.9558532e+00,  6.1595507e+00,\n",
       "        -1.8599319e+00,  5.0400300e+00, -6.8397570e+00,  1.3435428e+00,\n",
       "         8.9748974e+00, -9.9621785e-01,  9.6651917e+00,  9.8009672e+00,\n",
       "        -8.6188383e+00,  5.9978366e+00,  2.2295935e+00, -3.6477714e+00,\n",
       "         7.0758519e+00, -7.3772259e+00, -5.3214235e+00, -6.9927979e+00,\n",
       "        -7.9296322e+00,  6.6705351e+00, -5.5850191e+00,  7.1526055e+00,\n",
       "         6.5703201e+00, -8.3389416e+00],\n",
       "       [ 4.8136673e+00,  8.3985271e+00, -9.2161236e+00,  9.4185514e+00,\n",
       "         8.5280838e+00, -1.0969981e+00,  3.3253174e+00, -7.8064361e+00,\n",
       "        -5.9660631e-01,  2.5423875e-01,  5.5004091e+00, -4.1162968e+00,\n",
       "         4.2832384e+00, -2.8173418e+00,  3.6207726e+00, -4.1576214e+00,\n",
       "        -3.6048703e+00,  6.2125411e+00, -6.9080992e+00, -1.0732132e+00,\n",
       "        -5.8362122e+00,  2.2357659e+00, -3.8588779e+00, -1.6835874e+00,\n",
       "        -5.3240380e+00,  7.5769181e+00,  2.9358525e+00,  8.5267372e+00,\n",
       "         1.5667242e+00,  1.0779676e+00],\n",
       "       [-4.6475406e+00, -9.5672207e+00,  6.6923523e+00,  4.4359231e+00,\n",
       "         2.1902723e+00,  2.5834756e+00,  5.9448928e-01,  6.2568674e+00,\n",
       "        -8.7821627e+00, -4.1232014e-01,  9.8151789e+00,  7.5641570e+00,\n",
       "         1.0003011e+01, -5.8680420e+00, -1.2743111e+00, -2.5393460e+00,\n",
       "        -1.0847499e+00, -5.2629185e+00, -9.3070984e+00,  4.6179366e+00,\n",
       "        -9.7068973e-02, -3.9351206e+00,  6.1767282e+00, -7.4346890e+00,\n",
       "         5.6496067e+00, -8.5544844e+00, -7.5265579e+00, -5.5195589e+00,\n",
       "         4.8197622e+00,  2.5235443e+00],\n",
       "       [ 6.2794290e+00,  9.2293987e+00,  8.3403721e+00,  9.0330477e+00,\n",
       "         7.6893477e+00, -9.9538195e-01, -6.2780752e+00,  1.3599335e+00,\n",
       "        -6.9744482e+00, -5.9463472e+00,  1.0695117e+00, -8.0422368e-03,\n",
       "         2.8183138e+00,  1.8317667e+00, -8.2557335e+00,  3.0514312e+00,\n",
       "        -8.4958000e+00,  9.7238483e+00, -7.7455068e+00,  3.4521692e+00,\n",
       "        -3.9248335e+00, -4.1106420e+00,  2.6693091e+00,  1.2985625e+00,\n",
       "         1.0421573e+00,  5.2490606e+00, -1.6496236e+00,  6.1451650e+00,\n",
       "        -6.9103336e+00, -9.6390295e+00]], dtype=float32)"
      ]
     },
     "execution_count": 1,
     "metadata": {},
     "output_type": "execute_result"
    }
   ],
   "source": [
    "single_gpu_model.cluster_centers_"
   ]
  },
  {
   "cell_type": "markdown",
   "metadata": {},
   "source": [
    "## Exporting cuML Random Forest models for inferencing on machines without GPUs"
   ]
  },
  {
   "cell_type": "markdown",
   "metadata": {},
   "source": [
    "Starting with cuML version 21.06, you can export cuML Random Forest models and run predictions with them on machines without an NVIDIA GPUs. The [Treelite](https://github.com/dmlc/treelite) package defines an efficient exchange format that lets you portably move the cuML Random Forest models to other machines. We will refer to the exchange format as \"checkpoints.\"\n",
    "\n",
    "Here are the steps to export the model:\n",
    "\n",
    "1. Call `to_treelite_checkpoint()` to obtain the checkpoint file from the cuML Random Forest model."
   ]
  },
  {
   "cell_type": "code",
   "execution_count": 14,
   "metadata": {
    "execution": {
     "iopub.execute_input": "2021-06-15T10:50:33.115643Z",
     "iopub.status.busy": "2021-06-15T10:50:33.114566Z",
     "iopub.status.idle": "2021-06-15T10:50:33.195145Z",
     "shell.execute_reply": "2021-06-15T10:50:33.196406Z"
    }
   },
   "outputs": [
    {
     "name": "stderr",
     "output_type": "stream",
     "text": [
      "/opt/conda/envs/rapids/lib/python3.7/site-packages/cuml/internals/api_decorators.py:794: UserWarning: For reproducible results in Random Forest Classifier or for almost reproducible results in Random Forest Regressor, n_streams==1 is recommended. If n_streams is > 1, results may vary due to stream/thread timing differences, even when random_state is set\n",
      "  return func(**kwargs)\n"
     ]
    }
   ],
   "source": [
    "from cuml.ensemble import RandomForestClassifier as cumlRandomForestClassifier\n",
    "from sklearn.datasets import load_iris\n",
    "import numpy as np\n",
    "\n",
    "X, y = load_iris(return_X_y=True)\n",
    "X, y = X.astype(np.float32), y.astype(np.int32)\n",
    "clf = cumlRandomForestClassifier(max_depth=3, random_state=0, n_estimators=10)\n",
    "clf.fit(X, y)\n",
    "\n",
    "checkpoint_path = './checkpoint.tl'\n",
    "# Export cuML RF model as Treelite checkpoint\n",
    "clf.convert_to_treelite_model().to_treelite_checkpoint(checkpoint_path)"
   ]
  },
  {
   "cell_type": "markdown",
   "metadata": {},
   "source": [
    "2. Copy the generated checkpoint file `checkpoint.tl` to another machine on which you'd like to run predictions.\n",
    "\n",
    "3. On the target machine, install Treelite by running `pip install treelite` or `conda install -c conda-forge treelite`. The machine does not need to have an NVIDIA GPUs and does not need to have cuML installed.\n",
    "\n",
    "4. You can now load the model from the checkpoint, by running the following on the target machine:"
   ]
  },
  {
   "cell_type": "code",
   "execution_count": 15,
   "metadata": {
    "execution": {
     "iopub.execute_input": "2021-06-15T10:50:33.204268Z",
     "iopub.status.busy": "2021-06-15T10:50:33.202807Z",
     "iopub.status.idle": "2021-06-15T10:50:33.214068Z",
     "shell.execute_reply": "2021-06-15T10:50:33.215147Z"
    }
   },
   "outputs": [
    {
     "name": "stdout",
     "output_type": "stream",
     "text": [
      "[[1.  0.  0. ]\n",
      " [1.  0.  0. ]\n",
      " [1.  0.  0. ]\n",
      " [1.  0.  0. ]\n",
      " [1.  0.  0. ]\n",
      " [1.  0.  0. ]\n",
      " [1.  0.  0. ]\n",
      " [1.  0.  0. ]\n",
      " [1.  0.  0. ]\n",
      " [1.  0.  0. ]\n",
      " [1.  0.  0. ]\n",
      " [1.  0.  0. ]\n",
      " [1.  0.  0. ]\n",
      " [1.  0.  0. ]\n",
      " [1.  0.  0. ]\n",
      " [1.  0.  0. ]\n",
      " [1.  0.  0. ]\n",
      " [1.  0.  0. ]\n",
      " [1.  0.  0. ]\n",
      " [1.  0.  0. ]\n",
      " [1.  0.  0. ]\n",
      " [1.  0.  0. ]\n",
      " [1.  0.  0. ]\n",
      " [1.  0.  0. ]\n",
      " [1.  0.  0. ]\n",
      " [1.  0.  0. ]\n",
      " [1.  0.  0. ]\n",
      " [1.  0.  0. ]\n",
      " [1.  0.  0. ]\n",
      " [1.  0.  0. ]\n",
      " [1.  0.  0. ]\n",
      " [1.  0.  0. ]\n",
      " [1.  0.  0. ]\n",
      " [1.  0.  0. ]\n",
      " [1.  0.  0. ]\n",
      " [1.  0.  0. ]\n",
      " [1.  0.  0. ]\n",
      " [1.  0.  0. ]\n",
      " [1.  0.  0. ]\n",
      " [1.  0.  0. ]\n",
      " [1.  0.  0. ]\n",
      " [1.  0.  0. ]\n",
      " [1.  0.  0. ]\n",
      " [1.  0.  0. ]\n",
      " [1.  0.  0. ]\n",
      " [1.  0.  0. ]\n",
      " [1.  0.  0. ]\n",
      " [1.  0.  0. ]\n",
      " [1.  0.  0. ]\n",
      " [1.  0.  0. ]\n",
      " [0.  1.  0. ]\n",
      " [0.  1.  0. ]\n",
      " [0.  0.5 0.5]\n",
      " [0.  1.  0. ]\n",
      " [0.  1.  0. ]\n",
      " [0.  1.  0. ]\n",
      " [0.  1.  0. ]\n",
      " [0.  0.8 0.2]\n",
      " [0.  1.  0. ]\n",
      " [0.  1.  0. ]\n",
      " [0.  1.  0. ]\n",
      " [0.  1.  0. ]\n",
      " [0.  1.  0. ]\n",
      " [0.  1.  0. ]\n",
      " [0.  1.  0. ]\n",
      " [0.  1.  0. ]\n",
      " [0.  1.  0. ]\n",
      " [0.  1.  0. ]\n",
      " [0.  1.  0. ]\n",
      " [0.  1.  0. ]\n",
      " [0.  0.3 0.7]\n",
      " [0.  1.  0. ]\n",
      " [0.  0.5 0.5]\n",
      " [0.  1.  0. ]\n",
      " [0.  1.  0. ]\n",
      " [0.  1.  0. ]\n",
      " [0.  0.8 0.2]\n",
      " [0.  0.3 0.7]\n",
      " [0.  1.  0. ]\n",
      " [0.  1.  0. ]\n",
      " [0.  1.  0. ]\n",
      " [0.  1.  0. ]\n",
      " [0.  1.  0. ]\n",
      " [0.  0.3 0.7]\n",
      " [0.  1.  0. ]\n",
      " [0.  1.  0. ]\n",
      " [0.  1.  0. ]\n",
      " [0.  1.  0. ]\n",
      " [0.  1.  0. ]\n",
      " [0.  1.  0. ]\n",
      " [0.  1.  0. ]\n",
      " [0.  1.  0. ]\n",
      " [0.  1.  0. ]\n",
      " [0.  1.  0. ]\n",
      " [0.  1.  0. ]\n",
      " [0.  1.  0. ]\n",
      " [0.  1.  0. ]\n",
      " [0.  1.  0. ]\n",
      " [0.  1.  0. ]\n",
      " [0.  1.  0. ]\n",
      " [0.  0.  1. ]\n",
      " [0.  0.  1. ]\n",
      " [0.  0.  1. ]\n",
      " [0.  0.  1. ]\n",
      " [0.  0.  1. ]\n",
      " [0.  0.  1. ]\n",
      " [0.  0.7 0.3]\n",
      " [0.  0.  1. ]\n",
      " [0.  0.  1. ]\n",
      " [0.  0.  1. ]\n",
      " [0.  0.  1. ]\n",
      " [0.  0.  1. ]\n",
      " [0.  0.  1. ]\n",
      " [0.  0.  1. ]\n",
      " [0.  0.  1. ]\n",
      " [0.  0.  1. ]\n",
      " [0.  0.  1. ]\n",
      " [0.  0.  1. ]\n",
      " [0.  0.  1. ]\n",
      " [0.  0.3 0.7]\n",
      " [0.  0.  1. ]\n",
      " [0.  0.  1. ]\n",
      " [0.  0.  1. ]\n",
      " [0.  0.  1. ]\n",
      " [0.  0.  1. ]\n",
      " [0.  0.  1. ]\n",
      " [0.  0.3 0.7]\n",
      " [0.  0.  1. ]\n",
      " [0.  0.  1. ]\n",
      " [0.  0.2 0.8]\n",
      " [0.  0.  1. ]\n",
      " [0.  0.  1. ]\n",
      " [0.  0.  1. ]\n",
      " [0.  0.3 0.7]\n",
      " [0.  0.2 0.8]\n",
      " [0.  0.  1. ]\n",
      " [0.  0.  1. ]\n",
      " [0.  0.  1. ]\n",
      " [0.  0.3 0.7]\n",
      " [0.  0.  1. ]\n",
      " [0.  0.  1. ]\n",
      " [0.  0.  1. ]\n",
      " [0.  0.  1. ]\n",
      " [0.  0.  1. ]\n",
      " [0.  0.  1. ]\n",
      " [0.  0.  1. ]\n",
      " [0.  0.  1. ]\n",
      " [0.  0.  1. ]\n",
      " [0.  0.  1. ]\n",
      " [0.  0.  1. ]]\n"
     ]
    }
   ],
   "source": [
    "import treelite\n",
    "\n",
    "# The checkpoint file has been copied over\n",
    "checkpoint_path = './checkpoint.tl'\n",
    "tl_model = treelite.Model.deserialize(checkpoint_path)\n",
    "out_prob = treelite.gtil.predict(tl_model, X, pred_margin=True)\n",
    "print(out_prob)"
   ]
  }
 ],
 "metadata": {
  "kernelspec": {
   "display_name": "Python 3",
   "language": "python",
   "name": "python3"
  },
  "language_info": {
   "codemirror_mode": {
    "name": "ipython",
    "version": 3
   },
   "file_extension": ".py",
   "mimetype": "text/x-python",
   "name": "python",
   "nbconvert_exporter": "python",
   "pygments_lexer": "ipython3",
   "version": "3.7.10"
  }
 },
 "nbformat": 4,
 "nbformat_minor": 4
}
