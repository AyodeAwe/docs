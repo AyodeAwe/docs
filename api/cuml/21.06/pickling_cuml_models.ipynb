{
 "cells": [
  {
   "cell_type": "markdown",
   "metadata": {},
   "source": [
    "# Pickling cuML Models for Persistence\n",
    "\n",
    "This notebook demonstrates simple pickling of both single-GPU and multi-GPU cuML models for persistence"
   ]
  },
  {
   "cell_type": "code",
   "execution_count": 1,
   "metadata": {
    "execution": {
     "iopub.execute_input": "2021-06-09T09:45:42.811093Z",
     "iopub.status.busy": "2021-06-09T09:45:42.809687Z",
     "iopub.status.idle": "2021-06-09T09:45:42.812904Z",
     "shell.execute_reply": "2021-06-09T09:45:42.813999Z"
    }
   },
   "outputs": [],
   "source": [
    "import warnings\n",
    "warnings.filterwarnings(\"ignore\", category=FutureWarning)"
   ]
  },
  {
   "cell_type": "markdown",
   "metadata": {},
   "source": [
    "## Single GPU Model Pickling\n",
    "\n",
    "All single-GPU estimators are pickleable. The following example demonstrates the creation of a synthetic dataset, training, and pickling of the resulting model for storage. Trained single-GPU models can also be used to distribute the inference on a Dask cluster, which the `Distributed Model Pickling` section below demonstrates."
   ]
  },
  {
   "cell_type": "code",
   "execution_count": 2,
   "metadata": {
    "execution": {
     "iopub.execute_input": "2021-06-09T09:45:42.823095Z",
     "iopub.status.busy": "2021-06-09T09:45:42.821772Z",
     "iopub.status.idle": "2021-06-09T09:45:48.404368Z",
     "shell.execute_reply": "2021-06-09T09:45:48.405553Z"
    }
   },
   "outputs": [],
   "source": [
    "from cuml.datasets import make_blobs\n",
    "\n",
    "X, y = make_blobs(n_samples=50,\n",
    "                  n_features=10,\n",
    "                  centers=5,\n",
    "                  cluster_std=0.4,\n",
    "                  random_state=0)"
   ]
  },
  {
   "cell_type": "code",
   "execution_count": 3,
   "metadata": {
    "execution": {
     "iopub.execute_input": "2021-06-09T09:45:48.418806Z",
     "iopub.status.busy": "2021-06-09T09:45:48.417369Z",
     "iopub.status.idle": "2021-06-09T09:45:48.817399Z",
     "shell.execute_reply": "2021-06-09T09:45:48.818185Z"
    }
   },
   "outputs": [
    {
     "data": {
      "text/plain": [
       "KMeans()"
      ]
     },
     "execution_count": 1,
     "metadata": {},
     "output_type": "execute_result"
    }
   ],
   "source": [
    "from cuml.cluster import KMeans\n",
    "\n",
    "model = KMeans(n_clusters=5)\n",
    "\n",
    "model.fit(X)"
   ]
  },
  {
   "cell_type": "code",
   "execution_count": 4,
   "metadata": {
    "execution": {
     "iopub.execute_input": "2021-06-09T09:45:48.825277Z",
     "iopub.status.busy": "2021-06-09T09:45:48.823895Z",
     "iopub.status.idle": "2021-06-09T09:45:48.827307Z",
     "shell.execute_reply": "2021-06-09T09:45:48.828377Z"
    }
   },
   "outputs": [],
   "source": [
    "import pickle\n",
    "\n",
    "pickle.dump(model, open(\"kmeans_model.pkl\", \"wb\"))"
   ]
  },
  {
   "cell_type": "code",
   "execution_count": 5,
   "metadata": {
    "execution": {
     "iopub.execute_input": "2021-06-09T09:45:48.835791Z",
     "iopub.status.busy": "2021-06-09T09:45:48.834353Z",
     "iopub.status.idle": "2021-06-09T09:45:48.837619Z",
     "shell.execute_reply": "2021-06-09T09:45:48.838841Z"
    }
   },
   "outputs": [],
   "source": [
    "model = pickle.load(open(\"kmeans_model.pkl\", \"rb\"))"
   ]
  },
  {
   "cell_type": "code",
   "execution_count": 6,
   "metadata": {
    "execution": {
     "iopub.execute_input": "2021-06-09T09:45:48.847796Z",
     "iopub.status.busy": "2021-06-09T09:45:48.846440Z",
     "iopub.status.idle": "2021-06-09T09:45:48.851279Z",
     "shell.execute_reply": "2021-06-09T09:45:48.852407Z"
    }
   },
   "outputs": [
    {
     "data": {
      "text/plain": [
       "array([[ 5.2615476 , -4.0487256 ,  4.464928  , -2.9367518 ,  3.5061095 ,\n",
       "        -4.0168314 , -3.463885  ,  6.078449  , -6.953326  , -1.004144  ],\n",
       "       [-4.243999  ,  5.610707  , -5.669777  , -1.7957243 , -9.255528  ,\n",
       "         0.71774375,  4.4435897 , -2.874715  , -5.0900965 ,  9.684122  ],\n",
       "       [ 4.6749854 ,  8.213466  , -9.075721  ,  9.568374  ,  8.454808  ,\n",
       "        -1.2327975 ,  3.3903713 , -7.828242  , -0.8454461 ,  0.62885725],\n",
       "       [-3.008261  ,  4.6259604 , -4.483249  ,  2.228457  ,  1.6435319 ,\n",
       "        -2.4505196 , -5.258201  , -1.6679403 , -7.9857535 ,  2.8311467 ],\n",
       "       [-5.6072407 ,  2.2695985 , -3.7516537 , -1.8182003 , -5.1430283 ,\n",
       "         7.599364  ,  2.8252368 ,  8.773042  ,  1.6198314 ,  1.1772048 ]],\n",
       "      dtype=float32)"
      ]
     },
     "execution_count": 1,
     "metadata": {},
     "output_type": "execute_result"
    }
   ],
   "source": [
    "model.cluster_centers_"
   ]
  },
  {
   "cell_type": "markdown",
   "metadata": {},
   "source": [
    "## Distributed Model Pickling"
   ]
  },
  {
   "cell_type": "markdown",
   "metadata": {},
   "source": [
    "The distributed estimator wrappers inside of the `cuml.dask` are not intended to be pickled directly. The Dask cuML estimators provide a function `get_combined_model()`, which returns the trained single-GPU model for pickling. The combined model can be used for inference on a single-GPU, and the `ParallelPostFit` wrapper from the [Dask-ML](https://ml.dask.org/meta-estimators.html) library can be used to perform distributed inference on a Dask cluster."
   ]
  },
  {
   "cell_type": "code",
   "execution_count": 7,
   "metadata": {
    "execution": {
     "iopub.execute_input": "2021-06-09T09:45:48.859249Z",
     "iopub.status.busy": "2021-06-09T09:45:48.858435Z",
     "iopub.status.idle": "2021-06-09T09:45:52.914002Z",
     "shell.execute_reply": "2021-06-09T09:45:52.915165Z"
    }
   },
   "outputs": [
    {
     "data": {
      "text/html": [
       "<table style=\"border: 2px solid white;\">\n",
       "<tr>\n",
       "<td style=\"vertical-align: top; border: 0px solid white\">\n",
       "<h3 style=\"text-align: left;\">Client</h3>\n",
       "<ul style=\"text-align: left; list-style: none; margin: 0; padding: 0;\">\n",
       "  <li><b>Scheduler: </b>tcp://127.0.0.1:33978</li>\n",
       "  <li><b>Dashboard: </b><a href='http://127.0.0.1:8787/status' target='_blank'>http://127.0.0.1:8787/status</a></li>\n",
       "</ul>\n",
       "</td>\n",
       "<td style=\"vertical-align: top; border: 0px solid white\">\n",
       "<h3 style=\"text-align: left;\">Cluster</h3>\n",
       "<ul style=\"text-align: left; list-style:none; margin: 0; padding: 0;\">\n",
       "  <li><b>Workers: </b>1</li>\n",
       "  <li><b>Cores: </b>1</li>\n",
       "  <li><b>Memory: </b>251.80 GiB</li>\n",
       "</ul>\n",
       "</td>\n",
       "</tr>\n",
       "</table>"
      ],
      "text/plain": [
       "<Client: 'tcp://127.0.0.1:33978' processes=1 threads=1, memory=251.80 GiB>"
      ]
     },
     "execution_count": 1,
     "metadata": {},
     "output_type": "execute_result"
    }
   ],
   "source": [
    "from dask.distributed import Client\n",
    "from dask_cuda import LocalCUDACluster\n",
    "\n",
    "cluster = LocalCUDACluster()\n",
    "client = Client(cluster)\n",
    "client"
   ]
  },
  {
   "cell_type": "code",
   "execution_count": 8,
   "metadata": {
    "execution": {
     "iopub.execute_input": "2021-06-09T09:45:52.928553Z",
     "iopub.status.busy": "2021-06-09T09:45:52.927175Z",
     "iopub.status.idle": "2021-06-09T09:45:53.000701Z",
     "shell.execute_reply": "2021-06-09T09:45:53.001831Z"
    }
   },
   "outputs": [],
   "source": [
    "from cuml.dask.datasets import make_blobs\n",
    "\n",
    "n_workers = len(client.scheduler_info()[\"workers\"].keys())\n",
    "\n",
    "X, y = make_blobs(n_samples=5000, \n",
    "                  n_features=30,\n",
    "                  centers=5, \n",
    "                  cluster_std=0.4, \n",
    "                  random_state=0,\n",
    "                  n_parts=n_workers*5)\n",
    "\n",
    "X = X.persist()\n",
    "y = y.persist()"
   ]
  },
  {
   "cell_type": "code",
   "execution_count": 9,
   "metadata": {
    "execution": {
     "iopub.execute_input": "2021-06-09T09:45:53.012141Z",
     "iopub.status.busy": "2021-06-09T09:45:53.010701Z",
     "iopub.status.idle": "2021-06-09T09:45:53.028218Z",
     "shell.execute_reply": "2021-06-09T09:45:53.029354Z"
    }
   },
   "outputs": [],
   "source": [
    "from cuml.dask.cluster import KMeans\n",
    "\n",
    "dist_model = KMeans(n_clusters=5)"
   ]
  },
  {
   "cell_type": "code",
   "execution_count": 10,
   "metadata": {
    "execution": {
     "iopub.execute_input": "2021-06-09T09:45:53.040920Z",
     "iopub.status.busy": "2021-06-09T09:45:53.038558Z",
     "iopub.status.idle": "2021-06-09T09:45:56.431982Z",
     "shell.execute_reply": "2021-06-09T09:45:56.430615Z"
    }
   },
   "outputs": [
    {
     "data": {
      "text/plain": [
       "<cuml.dask.cluster.kmeans.KMeans at 0x7f5c008249d0>"
      ]
     },
     "execution_count": 1,
     "metadata": {},
     "output_type": "execute_result"
    }
   ],
   "source": [
    "dist_model.fit(X)"
   ]
  },
  {
   "cell_type": "code",
   "execution_count": 11,
   "metadata": {
    "execution": {
     "iopub.execute_input": "2021-06-09T09:45:56.442685Z",
     "iopub.status.busy": "2021-06-09T09:45:56.441226Z",
     "iopub.status.idle": "2021-06-09T09:45:56.460548Z",
     "shell.execute_reply": "2021-06-09T09:45:56.461585Z"
    }
   },
   "outputs": [],
   "source": [
    "import pickle\n",
    "\n",
    "single_gpu_model = dist_model.get_combined_model()\n",
    "pickle.dump(single_gpu_model, open(\"kmeans_model.pkl\", \"wb\"))"
   ]
  },
  {
   "cell_type": "code",
   "execution_count": 12,
   "metadata": {
    "execution": {
     "iopub.execute_input": "2021-06-09T09:45:56.470648Z",
     "iopub.status.busy": "2021-06-09T09:45:56.469114Z",
     "iopub.status.idle": "2021-06-09T09:45:56.473539Z",
     "shell.execute_reply": "2021-06-09T09:45:56.474614Z"
    }
   },
   "outputs": [],
   "source": [
    "single_gpu_model = pickle.load(open(\"kmeans_model.pkl\", \"rb\"))"
   ]
  },
  {
   "cell_type": "code",
   "execution_count": 13,
   "metadata": {
    "execution": {
     "iopub.execute_input": "2021-06-09T09:45:56.492191Z",
     "iopub.status.busy": "2021-06-09T09:45:56.490825Z",
     "iopub.status.idle": "2021-06-09T09:45:56.496913Z",
     "shell.execute_reply": "2021-06-09T09:45:56.495831Z"
    }
   },
   "outputs": [
    {
     "data": {
      "text/plain": [
       "array([[-2.8796387e+00,  4.4348760e+00, -4.4264808e+00,  2.3959141e+00,\n",
       "         1.7286434e+00, -2.4991984e+00, -5.1794524e+00, -1.6771443e+00,\n",
       "        -8.1329165e+00,  2.6659229e+00, -4.3131099e+00,  5.5827813e+00,\n",
       "        -5.7318311e+00, -1.7427169e+00, -9.3456116e+00,  7.1365565e-01,\n",
       "         4.4255495e+00, -2.9118378e+00, -4.9467440e+00,  9.6786423e+00,\n",
       "         8.4222736e+00, -6.2710252e+00, -6.3596501e+00,  1.9645507e+00,\n",
       "         4.1715994e+00, -9.1683636e+00,  4.6156683e+00,  8.7916489e+00,\n",
       "         6.8754420e+00,  2.2288747e+00],\n",
       "       [-6.9536953e+00, -9.7635870e+00, -6.5648260e+00, -4.3536153e-01,\n",
       "         6.0998106e+00,  3.7550373e+00, -3.9558539e+00,  6.1595526e+00,\n",
       "        -1.8599318e+00,  5.0400310e+00, -6.8397551e+00,  1.3435434e+00,\n",
       "         8.9749031e+00, -9.9621773e-01,  9.6651945e+00,  9.8009663e+00,\n",
       "        -8.6188364e+00,  5.9978366e+00,  2.2295930e+00, -3.6477714e+00,\n",
       "         7.0758510e+00, -7.3772259e+00, -5.3214226e+00, -6.9927955e+00,\n",
       "        -7.9296327e+00,  6.6705365e+00, -5.5850186e+00,  7.1526051e+00,\n",
       "         6.5703216e+00, -8.3389397e+00],\n",
       "       [ 4.8136687e+00,  8.3985281e+00, -9.2161245e+00,  9.4185524e+00,\n",
       "         8.5280876e+00, -1.0969982e+00,  3.3253171e+00, -7.8064375e+00,\n",
       "        -5.9660637e-01,  2.5423864e-01,  5.5004082e+00, -4.1162963e+00,\n",
       "         4.2832375e+00, -2.8173413e+00,  3.6207721e+00, -4.1576219e+00,\n",
       "        -3.6048701e+00,  6.2125411e+00, -6.9080992e+00, -1.0732135e+00,\n",
       "        -5.8362112e+00,  2.2357669e+00, -3.8588789e+00, -1.6835879e+00,\n",
       "        -5.3240366e+00,  7.5769191e+00,  2.9358525e+00,  8.5267372e+00,\n",
       "         1.5667247e+00,  1.0779674e+00],\n",
       "       [-4.6475401e+00, -9.5672178e+00,  6.6923518e+00,  4.4359241e+00,\n",
       "         2.1902738e+00,  2.5834756e+00,  5.9448940e-01,  6.2568665e+00,\n",
       "        -8.7821636e+00, -4.1232011e-01,  9.8151779e+00,  7.5641570e+00,\n",
       "         1.0003010e+01, -5.8680439e+00, -1.2743111e+00, -2.5393455e+00,\n",
       "        -1.0847501e+00, -5.2629204e+00, -9.3071022e+00,  4.6179357e+00,\n",
       "        -9.7068965e-02, -3.9351211e+00,  6.1767273e+00, -7.4346886e+00,\n",
       "         5.6496072e+00, -8.5544844e+00, -7.5265579e+00, -5.5195599e+00,\n",
       "         4.8197637e+00,  2.5235438e+00],\n",
       "       [ 6.2794290e+00,  9.2293949e+00,  8.3403692e+00,  9.0330496e+00,\n",
       "         7.6893492e+00, -9.9538213e-01, -6.2780757e+00,  1.3599334e+00,\n",
       "        -6.9744487e+00, -5.9463458e+00,  1.0695117e+00, -8.0422470e-03,\n",
       "         2.8183138e+00,  1.8317666e+00, -8.2557344e+00,  3.0514314e+00,\n",
       "        -8.4958010e+00,  9.7238464e+00, -7.7455082e+00,  3.4521689e+00,\n",
       "        -3.9248333e+00, -4.1106415e+00,  2.6693091e+00,  1.2985629e+00,\n",
       "         1.0421573e+00,  5.2490616e+00, -1.6496238e+00,  6.1451659e+00,\n",
       "        -6.9103332e+00, -9.6390305e+00]], dtype=float32)"
      ]
     },
     "execution_count": 1,
     "metadata": {},
     "output_type": "execute_result"
    }
   ],
   "source": [
    "single_gpu_model.cluster_centers_"
   ]
  },
  {
   "cell_type": "markdown",
   "metadata": {},
   "source": [
    "## Exporting cuML Random Forest models for inferencing on machines without GPUs"
   ]
  },
  {
   "cell_type": "markdown",
   "metadata": {},
   "source": [
    "Starting with cuML version 21.06, you can export cuML Random Forest models and run predictions with them on machines without an NVIDIA GPUs. The [Treelite](https://github.com/dmlc/treelite) package defines an efficient exchange format that lets you portably move the cuML Random Forest models to other machines. We will refer to the exchange format as \"checkpoints.\"\n",
    "\n",
    "Here are the steps to export the model:\n",
    "\n",
    "1. Call `to_treelite_checkpoint()` to obtain the checkpoint file from the cuML Random Forest model."
   ]
  },
  {
   "cell_type": "code",
   "execution_count": 14,
   "metadata": {
    "execution": {
     "iopub.execute_input": "2021-06-09T09:45:56.511740Z",
     "iopub.status.busy": "2021-06-09T09:45:56.510522Z",
     "iopub.status.idle": "2021-06-09T09:45:56.627854Z",
     "shell.execute_reply": "2021-06-09T09:45:56.628947Z"
    }
   },
   "outputs": [
    {
     "name": "stderr",
     "output_type": "stream",
     "text": [
      "/opt/conda/envs/rapids/lib/python3.7/site-packages/cuml/internals/api_decorators.py:794: UserWarning: For reproducible results in Random Forest Classifier or for almost reproducible results in Random Forest Regressor, n_streams==1 is recommended. If n_streams is > 1, results may vary due to stream/thread timing differences, even when random_state is set\n",
      "  return func(**kwargs)\n"
     ]
    }
   ],
   "source": [
    "from cuml.ensemble import RandomForestClassifier as cumlRandomForestClassifier\n",
    "from sklearn.datasets import load_iris\n",
    "import numpy as np\n",
    "\n",
    "X, y = load_iris(return_X_y=True)\n",
    "X, y = X.astype(np.float32), y.astype(np.int32)\n",
    "clf = cumlRandomForestClassifier(max_depth=3, random_state=0, n_estimators=10)\n",
    "clf.fit(X, y)\n",
    "\n",
    "checkpoint_path = './checkpoint.tl'\n",
    "# Export cuML RF model as Treelite checkpoint\n",
    "clf.convert_to_treelite_model().to_treelite_checkpoint(checkpoint_path)"
   ]
  },
  {
   "cell_type": "markdown",
   "metadata": {},
   "source": [
    "2. Copy the generated checkpoint file `checkpoint.tl` to another machine on which you'd like to run predictions.\n",
    "\n",
    "3. On the target machine, install Treelite by running `pip install treelite` or `conda install -c conda-forge treelite`. The machine does not need to have an NVIDIA GPUs and does not need to have cuML installed.\n",
    "\n",
    "4. You can now load the model from the checkpoint, by running the following on the target machine:"
   ]
  },
  {
   "cell_type": "code",
   "execution_count": 15,
   "metadata": {
    "execution": {
     "iopub.execute_input": "2021-06-09T09:45:56.639579Z",
     "iopub.status.busy": "2021-06-09T09:45:56.638109Z",
     "iopub.status.idle": "2021-06-09T09:45:56.654973Z",
     "shell.execute_reply": "2021-06-09T09:45:56.653826Z"
    }
   },
   "outputs": [
    {
     "name": "stdout",
     "output_type": "stream",
     "text": [
      "[[1.  0.  0. ]\n",
      " [1.  0.  0. ]\n",
      " [1.  0.  0. ]\n",
      " [1.  0.  0. ]\n",
      " [1.  0.  0. ]\n",
      " [1.  0.  0. ]\n",
      " [1.  0.  0. ]\n",
      " [1.  0.  0. ]\n",
      " [1.  0.  0. ]\n",
      " [1.  0.  0. ]\n",
      " [1.  0.  0. ]\n",
      " [1.  0.  0. ]\n",
      " [1.  0.  0. ]\n",
      " [1.  0.  0. ]\n",
      " [1.  0.  0. ]\n",
      " [1.  0.  0. ]\n",
      " [1.  0.  0. ]\n",
      " [1.  0.  0. ]\n",
      " [1.  0.  0. ]\n",
      " [1.  0.  0. ]\n",
      " [1.  0.  0. ]\n",
      " [1.  0.  0. ]\n",
      " [1.  0.  0. ]\n",
      " [1.  0.  0. ]\n",
      " [1.  0.  0. ]\n",
      " [1.  0.  0. ]\n",
      " [1.  0.  0. ]\n",
      " [1.  0.  0. ]\n",
      " [1.  0.  0. ]\n",
      " [1.  0.  0. ]\n",
      " [1.  0.  0. ]\n",
      " [1.  0.  0. ]\n",
      " [1.  0.  0. ]\n",
      " [1.  0.  0. ]\n",
      " [1.  0.  0. ]\n",
      " [1.  0.  0. ]\n",
      " [1.  0.  0. ]\n",
      " [1.  0.  0. ]\n",
      " [1.  0.  0. ]\n",
      " [1.  0.  0. ]\n",
      " [1.  0.  0. ]\n",
      " [1.  0.  0. ]\n",
      " [1.  0.  0. ]\n",
      " [1.  0.  0. ]\n",
      " [1.  0.  0. ]\n",
      " [1.  0.  0. ]\n",
      " [1.  0.  0. ]\n",
      " [1.  0.  0. ]\n",
      " [1.  0.  0. ]\n",
      " [1.  0.  0. ]\n",
      " [0.  1.  0. ]\n",
      " [0.  1.  0. ]\n",
      " [0.  0.5 0.5]\n",
      " [0.  1.  0. ]\n",
      " [0.  1.  0. ]\n",
      " [0.  1.  0. ]\n",
      " [0.  1.  0. ]\n",
      " [0.  0.8 0.2]\n",
      " [0.  1.  0. ]\n",
      " [0.  1.  0. ]\n",
      " [0.  1.  0. ]\n",
      " [0.  1.  0. ]\n",
      " [0.  1.  0. ]\n",
      " [0.  1.  0. ]\n",
      " [0.  1.  0. ]\n",
      " [0.  1.  0. ]\n",
      " [0.  1.  0. ]\n",
      " [0.  1.  0. ]\n",
      " [0.  1.  0. ]\n",
      " [0.  1.  0. ]\n",
      " [0.  0.3 0.7]\n",
      " [0.  1.  0. ]\n",
      " [0.  0.5 0.5]\n",
      " [0.  1.  0. ]\n",
      " [0.  1.  0. ]\n",
      " [0.  1.  0. ]\n",
      " [0.  0.8 0.2]\n",
      " [0.  0.3 0.7]\n",
      " [0.  1.  0. ]\n",
      " [0.  1.  0. ]\n",
      " [0.  1.  0. ]\n",
      " [0.  1.  0. ]\n",
      " [0.  1.  0. ]\n",
      " [0.  0.3 0.7]\n",
      " [0.  1.  0. ]\n",
      " [0.  1.  0. ]\n",
      " [0.  1.  0. ]\n",
      " [0.  1.  0. ]\n",
      " [0.  1.  0. ]\n",
      " [0.  1.  0. ]\n",
      " [0.  1.  0. ]\n",
      " [0.  1.  0. ]\n",
      " [0.  1.  0. ]\n",
      " [0.  1.  0. ]\n",
      " [0.  1.  0. ]\n",
      " [0.  1.  0. ]\n",
      " [0.  1.  0. ]\n",
      " [0.  1.  0. ]\n",
      " [0.  1.  0. ]\n",
      " [0.  1.  0. ]\n",
      " [0.  0.  1. ]\n",
      " [0.  0.  1. ]\n",
      " [0.  0.  1. ]\n",
      " [0.  0.  1. ]\n",
      " [0.  0.  1. ]\n",
      " [0.  0.  1. ]\n",
      " [0.  0.7 0.3]\n",
      " [0.  0.  1. ]\n",
      " [0.  0.  1. ]\n",
      " [0.  0.  1. ]\n",
      " [0.  0.  1. ]\n",
      " [0.  0.  1. ]\n",
      " [0.  0.  1. ]\n",
      " [0.  0.  1. ]\n",
      " [0.  0.  1. ]\n",
      " [0.  0.  1. ]\n",
      " [0.  0.  1. ]\n",
      " [0.  0.  1. ]\n",
      " [0.  0.  1. ]\n",
      " [0.  0.3 0.7]\n",
      " [0.  0.  1. ]\n",
      " [0.  0.  1. ]\n",
      " [0.  0.  1. ]\n",
      " [0.  0.  1. ]\n",
      " [0.  0.  1. ]\n",
      " [0.  0.  1. ]\n",
      " [0.  0.3 0.7]\n",
      " [0.  0.  1. ]\n",
      " [0.  0.  1. ]\n",
      " [0.  0.2 0.8]\n",
      " [0.  0.  1. ]\n",
      " [0.  0.  1. ]\n",
      " [0.  0.  1. ]\n",
      " [0.  0.3 0.7]\n",
      " [0.  0.2 0.8]\n",
      " [0.  0.  1. ]\n",
      " [0.  0.  1. ]\n",
      " [0.  0.  1. ]\n",
      " [0.  0.3 0.7]\n",
      " [0.  0.  1. ]\n",
      " [0.  0.  1. ]\n",
      " [0.  0.  1. ]\n",
      " [0.  0.  1. ]\n",
      " [0.  0.  1. ]\n",
      " [0.  0.  1. ]\n",
      " [0.  0.  1. ]\n",
      " [0.  0.  1. ]\n",
      " [0.  0.  1. ]\n",
      " [0.  0.  1. ]\n",
      " [0.  0.  1. ]]\n"
     ]
    }
   ],
   "source": [
    "import treelite\n",
    "\n",
    "# The checkpoint file has been copied over\n",
    "checkpoint_path = './checkpoint.tl'\n",
    "tl_model = treelite.Model.deserialize(checkpoint_path)\n",
    "out_prob = treelite.gtil.predict(tl_model, X, pred_margin=True)\n",
    "print(out_prob)"
   ]
  }
 ],
 "metadata": {
  "kernelspec": {
   "display_name": "Python 3",
   "language": "python",
   "name": "python3"
  },
  "language_info": {
   "codemirror_mode": {
    "name": "ipython",
    "version": 3
   },
   "file_extension": ".py",
   "mimetype": "text/x-python",
   "name": "python",
   "nbconvert_exporter": "python",
   "pygments_lexer": "ipython3",
   "version": "3.7.10"
  }
 },
 "nbformat": 4,
 "nbformat_minor": 4
}
