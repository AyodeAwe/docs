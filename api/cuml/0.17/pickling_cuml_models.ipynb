{
 "cells": [
  {
   "cell_type": "markdown",
   "metadata": {},
   "source": [
    "# Pickling cuML Models for Persistence\n",
    "\n",
    "This notebook demonstrates simple pickling of both single-GPU and multi-GPU cuML models for persistence"
   ]
  },
  {
   "cell_type": "code",
   "execution_count": 1,
   "metadata": {
    "execution": {
     "iopub.execute_input": "2020-12-01T15:35:50.704301Z",
     "iopub.status.busy": "2020-12-01T15:35:50.702963Z",
     "iopub.status.idle": "2020-12-01T15:35:50.708105Z",
     "shell.execute_reply": "2020-12-01T15:35:50.706760Z"
    }
   },
   "outputs": [],
   "source": [
    "import warnings\n",
    "warnings.filterwarnings(\"ignore\", category=FutureWarning)"
   ]
  },
  {
   "cell_type": "markdown",
   "metadata": {},
   "source": [
    "## Single GPU Model Pickling\n",
    "\n",
    "All single-GPU estimators are pickleable. The following example demonstrates the creation of a synthetic dataset, training, and pickling of the resulting model for storage. Trained single-GPU models can also be used to distribute the inference on a Dask cluster, which the `Distributed Model Pickling` section below demonstrates."
   ]
  },
  {
   "cell_type": "code",
   "execution_count": 2,
   "metadata": {
    "execution": {
     "iopub.execute_input": "2020-12-01T15:35:50.717765Z",
     "iopub.status.busy": "2020-12-01T15:35:50.716522Z",
     "iopub.status.idle": "2020-12-01T15:35:55.352834Z",
     "shell.execute_reply": "2020-12-01T15:35:55.354034Z"
    }
   },
   "outputs": [],
   "source": [
    "from cuml.datasets import make_blobs\n",
    "\n",
    "X, y = make_blobs(n_samples=50,\n",
    "                  n_features=10,\n",
    "                  centers=5,\n",
    "                  cluster_std=0.4,\n",
    "                  random_state=0)"
   ]
  },
  {
   "cell_type": "code",
   "execution_count": 3,
   "metadata": {
    "execution": {
     "iopub.execute_input": "2020-12-01T15:35:55.362004Z",
     "iopub.status.busy": "2020-12-01T15:35:55.360577Z",
     "iopub.status.idle": "2020-12-01T15:35:55.799561Z",
     "shell.execute_reply": "2020-12-01T15:35:55.800761Z"
    }
   },
   "outputs": [
    {
     "data": {
      "text/plain": [
       "KMeans(handle=<cuml.raft.common.handle.Handle object at 0x7f6c1c2d1950>, n_clusters=5, max_iter=300, tol=0.0001, verbose=4, random_state=1, init='scalable-k-means++', n_init=1, oversampling_factor=2.0, max_samples_per_batch=32768, output_type='input')"
      ]
     },
     "execution_count": 1,
     "metadata": {},
     "output_type": "execute_result"
    }
   ],
   "source": [
    "from cuml.cluster import KMeans\n",
    "\n",
    "model = KMeans(n_clusters=5)\n",
    "\n",
    "model.fit(X)"
   ]
  },
  {
   "cell_type": "code",
   "execution_count": 4,
   "metadata": {
    "execution": {
     "iopub.execute_input": "2020-12-01T15:35:55.807146Z",
     "iopub.status.busy": "2020-12-01T15:35:55.806176Z",
     "iopub.status.idle": "2020-12-01T15:35:55.810972Z",
     "shell.execute_reply": "2020-12-01T15:35:55.810089Z"
    }
   },
   "outputs": [],
   "source": [
    "import pickle\n",
    "\n",
    "pickle.dump(model, open(\"kmeans_model.pkl\", \"wb\"))"
   ]
  },
  {
   "cell_type": "code",
   "execution_count": 5,
   "metadata": {
    "execution": {
     "iopub.execute_input": "2020-12-01T15:35:55.816973Z",
     "iopub.status.busy": "2020-12-01T15:35:55.816002Z",
     "iopub.status.idle": "2020-12-01T15:35:55.820556Z",
     "shell.execute_reply": "2020-12-01T15:35:55.819661Z"
    }
   },
   "outputs": [],
   "source": [
    "model = pickle.load(open(\"kmeans_model.pkl\", \"rb\"))"
   ]
  },
  {
   "cell_type": "code",
   "execution_count": 6,
   "metadata": {
    "execution": {
     "iopub.execute_input": "2020-12-01T15:35:55.828022Z",
     "iopub.status.busy": "2020-12-01T15:35:55.826941Z",
     "iopub.status.idle": "2020-12-01T15:35:55.832500Z",
     "shell.execute_reply": "2020-12-01T15:35:55.831613Z"
    }
   },
   "outputs": [
    {
     "data": {
      "text/plain": [
       "array([[-5.7684636 ,  2.3276033 , -3.7457774 , -1.8541754 , -5.1695833 ,\n",
       "         7.667088  ,  2.7118318 ,  8.495609  ,  1.7038484 ,  1.1884269 ],\n",
       "       [ 4.647688  ,  8.37788   , -9.070581  ,  9.459332  ,  8.450423  ,\n",
       "        -1.0210547 ,  3.3920872 , -7.8629856 , -0.7527662 ,  0.48384118],\n",
       "       [-2.9414437 ,  4.6401706 , -4.5027537 ,  2.2855108 ,  1.644645  ,\n",
       "        -2.4937892 , -5.2241607 , -1.5499196 , -8.063638  ,  2.816936  ],\n",
       "       [-4.271077  ,  5.561165  , -5.6640916 , -1.8229512 , -9.2925    ,\n",
       "         0.73028314,  4.4586773 , -2.8876226 , -5.1257744 ,  9.694357  ],\n",
       "       [ 5.5837417 , -4.1515303 ,  4.369667  , -3.0020504 ,  3.638897  ,\n",
       "        -4.3419113 , -3.3187115 ,  6.503671  , -6.865036  , -1.0266497 ]],\n",
       "      dtype=float32)"
      ]
     },
     "execution_count": 1,
     "metadata": {},
     "output_type": "execute_result"
    }
   ],
   "source": [
    "model.cluster_centers_"
   ]
  },
  {
   "cell_type": "markdown",
   "metadata": {},
   "source": [
    "## Distributed Model Pickling"
   ]
  },
  {
   "cell_type": "markdown",
   "metadata": {},
   "source": [
    "The distributed estimator wrappers inside of the `cuml.dask` are not intended to be pickled directly. The Dask cuML estimators provide a function `get_combined_model()`, which returns the trained single-GPU model for pickling. The combined model can be used for inference on a single-GPU, and the `ParallelPostFit` wrapper from the [Dask-ML](https://ml.dask.org/meta-estimators.html) library can be used to perform distributed inference on a Dask cluster."
   ]
  },
  {
   "cell_type": "code",
   "execution_count": 7,
   "metadata": {
    "execution": {
     "iopub.execute_input": "2020-12-01T15:35:55.839252Z",
     "iopub.status.busy": "2020-12-01T15:35:55.838001Z",
     "iopub.status.idle": "2020-12-01T15:35:59.955908Z",
     "shell.execute_reply": "2020-12-01T15:35:59.957087Z"
    }
   },
   "outputs": [
    {
     "data": {
      "text/html": [
       "<table style=\"border: 2px solid white;\">\n",
       "<tr>\n",
       "<td style=\"vertical-align: top; border: 0px solid white\">\n",
       "<h3 style=\"text-align: left;\">Client</h3>\n",
       "<ul style=\"text-align: left; list-style: none; margin: 0; padding: 0;\">\n",
       "  <li><b>Scheduler: </b>tcp://127.0.0.1:44455</li>\n",
       "  <li><b>Dashboard: </b><a href='http://127.0.0.1:8787/status' target='_blank'>http://127.0.0.1:8787/status</a></li>\n",
       "</ul>\n",
       "</td>\n",
       "<td style=\"vertical-align: top; border: 0px solid white\">\n",
       "<h3 style=\"text-align: left;\">Cluster</h3>\n",
       "<ul style=\"text-align: left; list-style:none; margin: 0; padding: 0;\">\n",
       "  <li><b>Workers: </b>1</li>\n",
       "  <li><b>Cores: </b>1</li>\n",
       "  <li><b>Memory: </b>270.37 GB</li>\n",
       "</ul>\n",
       "</td>\n",
       "</tr>\n",
       "</table>"
      ],
      "text/plain": [
       "<Client: 'tcp://127.0.0.1:44455' processes=1 threads=1, memory=270.37 GB>"
      ]
     },
     "execution_count": 1,
     "metadata": {},
     "output_type": "execute_result"
    }
   ],
   "source": [
    "from dask.distributed import Client\n",
    "from dask_cuda import LocalCUDACluster\n",
    "\n",
    "cluster = LocalCUDACluster()\n",
    "client = Client(cluster)\n",
    "client"
   ]
  },
  {
   "cell_type": "code",
   "execution_count": 8,
   "metadata": {
    "execution": {
     "iopub.execute_input": "2020-12-01T15:35:59.971047Z",
     "iopub.status.busy": "2020-12-01T15:35:59.969601Z",
     "iopub.status.idle": "2020-12-01T15:36:00.432832Z",
     "shell.execute_reply": "2020-12-01T15:36:00.430106Z"
    }
   },
   "outputs": [],
   "source": [
    "from cuml.dask.datasets import make_blobs\n",
    "\n",
    "n_workers = len(client.scheduler_info()[\"workers\"].keys())\n",
    "\n",
    "X, y = make_blobs(n_samples=5000, \n",
    "                  n_features=30,\n",
    "                  centers=5, \n",
    "                  cluster_std=0.4, \n",
    "                  random_state=0,\n",
    "                  n_parts=n_workers*5)\n",
    "\n",
    "X = X.persist()\n",
    "y = y.persist()"
   ]
  },
  {
   "cell_type": "code",
   "execution_count": 9,
   "metadata": {
    "execution": {
     "iopub.execute_input": "2020-12-01T15:36:00.441368Z",
     "iopub.status.busy": "2020-12-01T15:36:00.439936Z",
     "iopub.status.idle": "2020-12-01T15:36:00.469825Z",
     "shell.execute_reply": "2020-12-01T15:36:00.471010Z"
    }
   },
   "outputs": [],
   "source": [
    "from cuml.dask.cluster import KMeans\n",
    "\n",
    "dist_model = KMeans(n_clusters=5)"
   ]
  },
  {
   "cell_type": "code",
   "execution_count": 10,
   "metadata": {
    "execution": {
     "iopub.execute_input": "2020-12-01T15:36:00.482426Z",
     "iopub.status.busy": "2020-12-01T15:36:00.480959Z",
     "iopub.status.idle": "2020-12-01T15:36:04.113089Z",
     "shell.execute_reply": "2020-12-01T15:36:04.114275Z"
    }
   },
   "outputs": [
    {
     "data": {
      "text/plain": [
       "<cuml.dask.cluster.kmeans.KMeans at 0x7f6c1494d3d0>"
      ]
     },
     "execution_count": 1,
     "metadata": {},
     "output_type": "execute_result"
    }
   ],
   "source": [
    "dist_model.fit(X)"
   ]
  },
  {
   "cell_type": "code",
   "execution_count": 11,
   "metadata": {
    "execution": {
     "iopub.execute_input": "2020-12-01T15:36:04.125591Z",
     "iopub.status.busy": "2020-12-01T15:36:04.122661Z",
     "iopub.status.idle": "2020-12-01T15:36:04.142957Z",
     "shell.execute_reply": "2020-12-01T15:36:04.143852Z"
    }
   },
   "outputs": [],
   "source": [
    "import pickle\n",
    "\n",
    "single_gpu_model = dist_model.get_combined_model()\n",
    "pickle.dump(single_gpu_model, open(\"kmeans_model.pkl\", \"wb\"))"
   ]
  },
  {
   "cell_type": "code",
   "execution_count": 12,
   "metadata": {
    "execution": {
     "iopub.execute_input": "2020-12-01T15:36:04.151730Z",
     "iopub.status.busy": "2020-12-01T15:36:04.150261Z",
     "iopub.status.idle": "2020-12-01T15:36:04.153139Z",
     "shell.execute_reply": "2020-12-01T15:36:04.154546Z"
    }
   },
   "outputs": [],
   "source": [
    "single_gpu_model = pickle.load(open(\"kmeans_model.pkl\", \"rb\"))"
   ]
  },
  {
   "cell_type": "code",
   "execution_count": 13,
   "metadata": {
    "execution": {
     "iopub.execute_input": "2020-12-01T15:36:04.167304Z",
     "iopub.status.busy": "2020-12-01T15:36:04.165878Z",
     "iopub.status.idle": "2020-12-01T15:36:04.170474Z",
     "shell.execute_reply": "2020-12-01T15:36:04.171806Z"
    }
   },
   "outputs": [
    {
     "data": {
      "text/plain": [
       "array([[ 4.809874  ,  8.422671  , -9.239023  ,  9.379141  ,  8.499881  ,\n",
       "        -1.0592818 ,  3.343786  , -7.8026123 , -0.5946333 ,  0.26447597,\n",
       "         5.5073957 , -4.10698   ,  4.2890778 , -2.8172052 ,  3.6150153 ,\n",
       "        -4.1613    , -3.6209643 ,  6.218529  , -6.9460473 , -1.0828305 ,\n",
       "        -5.82677   ,  2.225876  , -3.8601222 , -1.6974076 , -5.3134174 ,\n",
       "         7.579578  ,  2.9187474 ,  8.540423  ,  1.5523204 ,  1.0841804 ],\n",
       "       [-2.8941853 ,  4.4741907 , -4.4475675 ,  2.3820987 ,  1.7478832 ,\n",
       "        -2.5046246 , -5.2083306 , -1.6937687 , -8.134754  ,  2.6468296 ,\n",
       "        -4.316362  ,  5.5655394 , -5.732198  , -1.7384952 , -9.344658  ,\n",
       "         0.70846575,  4.4358397 , -2.9009    , -4.948638  ,  9.695302  ,\n",
       "         8.366521  , -6.2474537 , -6.3494725 ,  1.9546971 ,  4.157616  ,\n",
       "        -9.167902  ,  4.6070676 ,  8.788584  ,  6.864423  ,  2.2319882 ],\n",
       "       [-4.665713  , -9.558958  ,  6.657229  ,  4.4401307 ,  2.1730306 ,\n",
       "         2.5904036 ,  0.58000994,  6.255035  , -8.829285  , -0.4139966 ,\n",
       "         9.831051  ,  7.5897346 ,  9.975544  , -5.8561754 , -1.2414308 ,\n",
       "        -2.5572667 , -1.0441563 , -5.24611   , -9.311467  ,  4.636607  ,\n",
       "        -0.11776031, -3.929529  ,  6.207367  , -7.399014  ,  5.6740923 ,\n",
       "        -8.540299  , -7.5186524 , -5.530122  ,  4.8341303 ,  2.569168  ],\n",
       "       [-6.9581094 , -9.760796  , -6.55061   , -0.4196504 ,  6.0687685 ,\n",
       "         3.7602885 , -3.9751325 ,  6.1493387 , -1.8729935 ,  5.025274  ,\n",
       "        -6.8340993 ,  1.3383294 ,  9.001677  , -0.98648345,  9.654021  ,\n",
       "         9.790738  , -8.618676  ,  5.995579  ,  2.2099133 , -3.63091   ,\n",
       "         7.0714087 , -7.394622  , -5.2996345 , -6.9737043 , -7.908465  ,\n",
       "         6.6810637 , -5.575639  ,  7.1313105 ,  6.5996184 , -8.309575  ],\n",
       "       [ 6.2617536 ,  9.228769  ,  8.35813   ,  9.017298  ,  7.704466  ,\n",
       "        -1.0047106 , -6.2457666 ,  1.3951722 , -6.976181  , -5.948059  ,\n",
       "         1.0575897 , -0.0107428 ,  2.8210258 ,  1.8389363 , -8.247101  ,\n",
       "         3.049896  , -8.483243  ,  9.72164   , -7.7502723 ,  3.4655957 ,\n",
       "        -3.9312136 , -4.0965166 ,  2.6586986 ,  1.283246  ,  1.0177819 ,\n",
       "         5.257111  , -1.644438  ,  6.1383214 , -6.8840537 , -9.663092  ]],\n",
       "      dtype=float32)"
      ]
     },
     "execution_count": 1,
     "metadata": {},
     "output_type": "execute_result"
    }
   ],
   "source": [
    "single_gpu_model.cluster_centers_"
   ]
  }
 ],
 "metadata": {
  "kernelspec": {
   "display_name": "Python 3",
   "language": "python",
   "name": "python3"
  },
  "language_info": {
   "codemirror_mode": {
    "name": "ipython",
    "version": 3
   },
   "file_extension": ".py",
   "mimetype": "text/x-python",
   "name": "python",
   "nbconvert_exporter": "python",
   "pygments_lexer": "ipython3",
   "version": "3.7.8"
  }
 },
 "nbformat": 4,
 "nbformat_minor": 4
}
