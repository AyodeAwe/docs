{
 "cells": [
  {
   "cell_type": "markdown",
   "metadata": {},
   "source": [
    "# Pickling cuML Models for Persistence\n",
    "\n",
    "This notebook demonstrates simple pickling of both single-GPU and multi-GPU cuML models for persistence"
   ]
  },
  {
   "cell_type": "code",
   "execution_count": 1,
   "metadata": {
    "execution": {
     "iopub.execute_input": "2020-12-04T14:54:48.246136Z",
     "iopub.status.busy": "2020-12-04T14:54:48.244701Z",
     "iopub.status.idle": "2020-12-04T14:54:48.249403Z",
     "shell.execute_reply": "2020-12-04T14:54:48.247897Z"
    }
   },
   "outputs": [],
   "source": [
    "import warnings\n",
    "warnings.filterwarnings(\"ignore\", category=FutureWarning)"
   ]
  },
  {
   "cell_type": "markdown",
   "metadata": {},
   "source": [
    "## Single GPU Model Pickling\n",
    "\n",
    "All single-GPU estimators are pickleable. The following example demonstrates the creation of a synthetic dataset, training, and pickling of the resulting model for storage. Trained single-GPU models can also be used to distribute the inference on a Dask cluster, which the `Distributed Model Pickling` section below demonstrates."
   ]
  },
  {
   "cell_type": "code",
   "execution_count": 2,
   "metadata": {
    "execution": {
     "iopub.execute_input": "2020-12-04T14:54:48.259146Z",
     "iopub.status.busy": "2020-12-04T14:54:48.257813Z",
     "iopub.status.idle": "2020-12-04T14:54:54.269038Z",
     "shell.execute_reply": "2020-12-04T14:54:54.270256Z"
    }
   },
   "outputs": [],
   "source": [
    "from cuml.datasets import make_blobs\n",
    "\n",
    "X, y = make_blobs(n_samples=50,\n",
    "                  n_features=10,\n",
    "                  centers=5,\n",
    "                  cluster_std=0.4,\n",
    "                  random_state=0)"
   ]
  },
  {
   "cell_type": "code",
   "execution_count": 3,
   "metadata": {
    "execution": {
     "iopub.execute_input": "2020-12-04T14:54:54.278088Z",
     "iopub.status.busy": "2020-12-04T14:54:54.276660Z",
     "iopub.status.idle": "2020-12-04T14:54:54.672383Z",
     "shell.execute_reply": "2020-12-04T14:54:54.673543Z"
    }
   },
   "outputs": [
    {
     "data": {
      "text/plain": [
       "KMeans(handle=<cuml.raft.common.handle.Handle object at 0x7fc9150d9810>, n_clusters=5, max_iter=300, tol=0.0001, verbose=4, random_state=1, init='scalable-k-means++', n_init=1, oversampling_factor=2.0, max_samples_per_batch=32768, output_type='input')"
      ]
     },
     "execution_count": 1,
     "metadata": {},
     "output_type": "execute_result"
    }
   ],
   "source": [
    "from cuml.cluster import KMeans\n",
    "\n",
    "model = KMeans(n_clusters=5)\n",
    "\n",
    "model.fit(X)"
   ]
  },
  {
   "cell_type": "code",
   "execution_count": 4,
   "metadata": {
    "execution": {
     "iopub.execute_input": "2020-12-04T14:54:54.680624Z",
     "iopub.status.busy": "2020-12-04T14:54:54.679464Z",
     "iopub.status.idle": "2020-12-04T14:54:54.684042Z",
     "shell.execute_reply": "2020-12-04T14:54:54.682824Z"
    }
   },
   "outputs": [],
   "source": [
    "import pickle\n",
    "\n",
    "pickle.dump(model, open(\"kmeans_model.pkl\", \"wb\"))"
   ]
  },
  {
   "cell_type": "code",
   "execution_count": 5,
   "metadata": {
    "execution": {
     "iopub.execute_input": "2020-12-04T14:54:54.690330Z",
     "iopub.status.busy": "2020-12-04T14:54:54.689167Z",
     "iopub.status.idle": "2020-12-04T14:54:54.693505Z",
     "shell.execute_reply": "2020-12-04T14:54:54.692513Z"
    }
   },
   "outputs": [],
   "source": [
    "model = pickle.load(open(\"kmeans_model.pkl\", \"rb\"))"
   ]
  },
  {
   "cell_type": "code",
   "execution_count": 6,
   "metadata": {
    "execution": {
     "iopub.execute_input": "2020-12-04T14:54:54.701604Z",
     "iopub.status.busy": "2020-12-04T14:54:54.700447Z",
     "iopub.status.idle": "2020-12-04T14:54:54.704295Z",
     "shell.execute_reply": "2020-12-04T14:54:54.705424Z"
    }
   },
   "outputs": [
    {
     "data": {
      "text/plain": [
       "array([[-5.7684636 ,  2.3276033 , -3.7457774 , -1.8541754 , -5.1695833 ,\n",
       "         7.667088  ,  2.7118318 ,  8.495609  ,  1.7038484 ,  1.1884269 ],\n",
       "       [ 4.647688  ,  8.37788   , -9.070581  ,  9.459332  ,  8.450423  ,\n",
       "        -1.0210547 ,  3.392087  , -7.8629856 , -0.7527662 ,  0.48384127],\n",
       "       [-2.9414437 ,  4.6401706 , -4.5027537 ,  2.2855108 ,  1.644645  ,\n",
       "        -2.4937892 , -5.2241607 , -1.5499196 , -8.063638  ,  2.8169358 ],\n",
       "       [-4.271077  ,  5.561165  , -5.6640916 , -1.8229512 , -9.2925    ,\n",
       "         0.73028314,  4.4586773 , -2.8876226 , -5.1257744 ,  9.694357  ],\n",
       "       [ 5.5837417 , -4.1515303 ,  4.369667  , -3.0020504 ,  3.638897  ,\n",
       "        -4.341912  , -3.318711  ,  6.503671  , -6.865036  , -1.0266498 ]],\n",
       "      dtype=float32)"
      ]
     },
     "execution_count": 1,
     "metadata": {},
     "output_type": "execute_result"
    }
   ],
   "source": [
    "model.cluster_centers_"
   ]
  },
  {
   "cell_type": "markdown",
   "metadata": {},
   "source": [
    "## Distributed Model Pickling"
   ]
  },
  {
   "cell_type": "markdown",
   "metadata": {},
   "source": [
    "The distributed estimator wrappers inside of the `cuml.dask` are not intended to be pickled directly. The Dask cuML estimators provide a function `get_combined_model()`, which returns the trained single-GPU model for pickling. The combined model can be used for inference on a single-GPU, and the `ParallelPostFit` wrapper from the [Dask-ML](https://ml.dask.org/meta-estimators.html) library can be used to perform distributed inference on a Dask cluster."
   ]
  },
  {
   "cell_type": "code",
   "execution_count": 7,
   "metadata": {
    "execution": {
     "iopub.execute_input": "2020-12-04T14:54:54.712278Z",
     "iopub.status.busy": "2020-12-04T14:54:54.711117Z",
     "iopub.status.idle": "2020-12-04T14:54:58.547430Z",
     "shell.execute_reply": "2020-12-04T14:54:58.546124Z"
    }
   },
   "outputs": [
    {
     "data": {
      "text/html": [
       "<table style=\"border: 2px solid white;\">\n",
       "<tr>\n",
       "<td style=\"vertical-align: top; border: 0px solid white\">\n",
       "<h3 style=\"text-align: left;\">Client</h3>\n",
       "<ul style=\"text-align: left; list-style: none; margin: 0; padding: 0;\">\n",
       "  <li><b>Scheduler: </b>tcp://127.0.0.1:39543</li>\n",
       "  <li><b>Dashboard: </b><a href='http://127.0.0.1:8787/status' target='_blank'>http://127.0.0.1:8787/status</a></li>\n",
       "</ul>\n",
       "</td>\n",
       "<td style=\"vertical-align: top; border: 0px solid white\">\n",
       "<h3 style=\"text-align: left;\">Cluster</h3>\n",
       "<ul style=\"text-align: left; list-style:none; margin: 0; padding: 0;\">\n",
       "  <li><b>Workers: </b>1</li>\n",
       "  <li><b>Cores: </b>1</li>\n",
       "  <li><b>Memory: </b>270.37 GB</li>\n",
       "</ul>\n",
       "</td>\n",
       "</tr>\n",
       "</table>"
      ],
      "text/plain": [
       "<Client: 'tcp://127.0.0.1:39543' processes=1 threads=1, memory=270.37 GB>"
      ]
     },
     "execution_count": 1,
     "metadata": {},
     "output_type": "execute_result"
    }
   ],
   "source": [
    "from dask.distributed import Client\n",
    "from dask_cuda import LocalCUDACluster\n",
    "\n",
    "cluster = LocalCUDACluster()\n",
    "client = Client(cluster)\n",
    "client"
   ]
  },
  {
   "cell_type": "code",
   "execution_count": 8,
   "metadata": {
    "execution": {
     "iopub.execute_input": "2020-12-04T14:54:58.560409Z",
     "iopub.status.busy": "2020-12-04T14:54:58.557254Z",
     "iopub.status.idle": "2020-12-04T14:54:59.077427Z",
     "shell.execute_reply": "2020-12-04T14:54:59.076124Z"
    }
   },
   "outputs": [],
   "source": [
    "from cuml.dask.datasets import make_blobs\n",
    "\n",
    "n_workers = len(client.scheduler_info()[\"workers\"].keys())\n",
    "\n",
    "X, y = make_blobs(n_samples=5000, \n",
    "                  n_features=30,\n",
    "                  centers=5, \n",
    "                  cluster_std=0.4, \n",
    "                  random_state=0,\n",
    "                  n_parts=n_workers*5)\n",
    "\n",
    "X = X.persist()\n",
    "y = y.persist()"
   ]
  },
  {
   "cell_type": "code",
   "execution_count": 9,
   "metadata": {
    "execution": {
     "iopub.execute_input": "2020-12-04T14:54:59.085367Z",
     "iopub.status.busy": "2020-12-04T14:54:59.083934Z",
     "iopub.status.idle": "2020-12-04T14:54:59.117865Z",
     "shell.execute_reply": "2020-12-04T14:54:59.119078Z"
    }
   },
   "outputs": [],
   "source": [
    "from cuml.dask.cluster import KMeans\n",
    "\n",
    "dist_model = KMeans(n_clusters=5)"
   ]
  },
  {
   "cell_type": "code",
   "execution_count": 10,
   "metadata": {
    "execution": {
     "iopub.execute_input": "2020-12-04T14:54:59.131203Z",
     "iopub.status.busy": "2020-12-04T14:54:59.129788Z",
     "iopub.status.idle": "2020-12-04T14:55:03.926048Z",
     "shell.execute_reply": "2020-12-04T14:55:03.924506Z"
    }
   },
   "outputs": [
    {
     "data": {
      "text/plain": [
       "<cuml.dask.cluster.kmeans.KMeans at 0x7fc8fe2e4750>"
      ]
     },
     "execution_count": 1,
     "metadata": {},
     "output_type": "execute_result"
    }
   ],
   "source": [
    "dist_model.fit(X)"
   ]
  },
  {
   "cell_type": "code",
   "execution_count": 11,
   "metadata": {
    "execution": {
     "iopub.execute_input": "2020-12-04T14:55:03.937665Z",
     "iopub.status.busy": "2020-12-04T14:55:03.936336Z",
     "iopub.status.idle": "2020-12-04T14:55:03.952240Z",
     "shell.execute_reply": "2020-12-04T14:55:03.952867Z"
    }
   },
   "outputs": [],
   "source": [
    "import pickle\n",
    "\n",
    "single_gpu_model = dist_model.get_combined_model()\n",
    "pickle.dump(single_gpu_model, open(\"kmeans_model.pkl\", \"wb\"))"
   ]
  },
  {
   "cell_type": "code",
   "execution_count": 12,
   "metadata": {
    "execution": {
     "iopub.execute_input": "2020-12-04T14:55:03.960940Z",
     "iopub.status.busy": "2020-12-04T14:55:03.959597Z",
     "iopub.status.idle": "2020-12-04T14:55:03.964740Z",
     "shell.execute_reply": "2020-12-04T14:55:03.963564Z"
    }
   },
   "outputs": [],
   "source": [
    "single_gpu_model = pickle.load(open(\"kmeans_model.pkl\", \"rb\"))"
   ]
  },
  {
   "cell_type": "code",
   "execution_count": 13,
   "metadata": {
    "execution": {
     "iopub.execute_input": "2020-12-04T14:55:03.977425Z",
     "iopub.status.busy": "2020-12-04T14:55:03.976200Z",
     "iopub.status.idle": "2020-12-04T14:55:03.981751Z",
     "shell.execute_reply": "2020-12-04T14:55:03.980491Z"
    }
   },
   "outputs": [
    {
     "data": {
      "text/plain": [
       "array([[ 4.809875  ,  8.422671  , -9.239023  ,  9.379142  ,  8.499881  ,\n",
       "        -1.0592818 ,  3.3437858 , -7.802612  , -0.5946332 ,  0.26447597,\n",
       "         5.5073953 , -4.1069803 ,  4.2890773 , -2.8172054 ,  3.615015  ,\n",
       "        -4.1613    , -3.620964  ,  6.218529  , -6.9460473 , -1.0828305 ,\n",
       "        -5.82677   ,  2.2258763 , -3.8601215 , -1.6974076 , -5.3134174 ,\n",
       "         7.5795784 ,  2.9187474 ,  8.540423  ,  1.5523206 ,  1.0841804 ],\n",
       "       [-2.8941855 ,  4.4741907 , -4.447567  ,  2.3820987 ,  1.7478832 ,\n",
       "        -2.5046248 , -5.2083306 , -1.6937687 , -8.134755  ,  2.6468298 ,\n",
       "        -4.3163624 ,  5.5655403 , -5.732198  , -1.7384952 , -9.344658  ,\n",
       "         0.7084658 ,  4.435839  , -2.9009    , -4.948638  ,  9.695302  ,\n",
       "         8.366521  , -6.2474537 , -6.3494725 ,  1.9546973 ,  4.157616  ,\n",
       "        -9.167903  ,  4.6070676 ,  8.788584  ,  6.864423  ,  2.2319884 ],\n",
       "       [-4.665713  , -9.558958  ,  6.6572285 ,  4.4401307 ,  2.1730306 ,\n",
       "         2.5904036 ,  0.58000994,  6.255035  , -8.829285  , -0.41399658,\n",
       "         9.831051  ,  7.5897346 ,  9.975543  , -5.8561754 , -1.2414306 ,\n",
       "        -2.5572667 , -1.0441562 , -5.2461095 , -9.311468  ,  4.636607  ,\n",
       "        -0.11776032, -3.929529  ,  6.207367  , -7.399014  ,  5.674092  ,\n",
       "        -8.5403    , -7.5186524 , -5.5301213 ,  4.8341303 ,  2.569168  ],\n",
       "       [-6.9581094 , -9.760797  , -6.5506096 , -0.41965044,  6.0687685 ,\n",
       "         3.7602885 , -3.9751325 ,  6.1493382 , -1.8729935 ,  5.025274  ,\n",
       "        -6.8340993 ,  1.3383292 ,  9.001677  , -0.98648345,  9.65402   ,\n",
       "         9.790737  , -8.618676  ,  5.9955792 ,  2.2099133 , -3.63091   ,\n",
       "         7.0714083 , -7.394622  , -5.299633  , -6.9737043 , -7.908465  ,\n",
       "         6.6810646 , -5.575639  ,  7.1313105 ,  6.5996184 , -8.309574  ],\n",
       "       [ 6.261754  ,  9.228769  ,  8.358131  ,  9.017298  ,  7.704466  ,\n",
       "        -1.0047106 , -6.2457666 ,  1.3951722 , -6.976181  , -5.94806   ,\n",
       "         1.0575897 , -0.01074281,  2.8210258 ,  1.8389363 , -8.247101  ,\n",
       "         3.0498962 , -8.483243  ,  9.721642  , -7.7502723 ,  3.4655957 ,\n",
       "        -3.9312134 , -4.0965166 ,  2.6586986 ,  1.283246  ,  1.0177817 ,\n",
       "         5.2571115 , -1.6444379 ,  6.1383214 , -6.884054  , -9.663092  ]],\n",
       "      dtype=float32)"
      ]
     },
     "execution_count": 1,
     "metadata": {},
     "output_type": "execute_result"
    }
   ],
   "source": [
    "single_gpu_model.cluster_centers_"
   ]
  }
 ],
 "metadata": {
  "kernelspec": {
   "display_name": "Python 3",
   "language": "python",
   "name": "python3"
  },
  "language_info": {
   "codemirror_mode": {
    "name": "ipython",
    "version": 3
   },
   "file_extension": ".py",
   "mimetype": "text/x-python",
   "name": "python",
   "nbconvert_exporter": "python",
   "pygments_lexer": "ipython3",
   "version": "3.7.8"
  }
 },
 "nbformat": 4,
 "nbformat_minor": 4
}
