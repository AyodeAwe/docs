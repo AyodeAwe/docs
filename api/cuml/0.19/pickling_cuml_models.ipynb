{
 "cells": [
  {
   "cell_type": "markdown",
   "metadata": {},
   "source": [
    "# Pickling cuML Models for Persistence\n",
    "\n",
    "This notebook demonstrates simple pickling of both single-GPU and multi-GPU cuML models for persistence"
   ]
  },
  {
   "cell_type": "code",
   "execution_count": 1,
   "metadata": {
    "execution": {
     "iopub.execute_input": "2021-04-18T09:42:33.020442Z",
     "iopub.status.busy": "2021-04-18T09:42:33.018835Z",
     "iopub.status.idle": "2021-04-18T09:42:33.024129Z",
     "shell.execute_reply": "2021-04-18T09:42:33.022499Z"
    }
   },
   "outputs": [],
   "source": [
    "import warnings\n",
    "warnings.filterwarnings(\"ignore\", category=FutureWarning)"
   ]
  },
  {
   "cell_type": "markdown",
   "metadata": {},
   "source": [
    "## Single GPU Model Pickling\n",
    "\n",
    "All single-GPU estimators are pickleable. The following example demonstrates the creation of a synthetic dataset, training, and pickling of the resulting model for storage. Trained single-GPU models can also be used to distribute the inference on a Dask cluster, which the `Distributed Model Pickling` section below demonstrates."
   ]
  },
  {
   "cell_type": "code",
   "execution_count": 2,
   "metadata": {
    "execution": {
     "iopub.execute_input": "2021-04-18T09:42:33.034085Z",
     "iopub.status.busy": "2021-04-18T09:42:33.032632Z",
     "iopub.status.idle": "2021-04-18T09:42:37.753865Z",
     "shell.execute_reply": "2021-04-18T09:42:37.753230Z"
    }
   },
   "outputs": [],
   "source": [
    "from cuml.datasets import make_blobs\n",
    "\n",
    "X, y = make_blobs(n_samples=50,\n",
    "                  n_features=10,\n",
    "                  centers=5,\n",
    "                  cluster_std=0.4,\n",
    "                  random_state=0)"
   ]
  },
  {
   "cell_type": "code",
   "execution_count": 3,
   "metadata": {
    "execution": {
     "iopub.execute_input": "2021-04-18T09:42:37.764810Z",
     "iopub.status.busy": "2021-04-18T09:42:37.763310Z",
     "iopub.status.idle": "2021-04-18T09:42:38.181964Z",
     "shell.execute_reply": "2021-04-18T09:42:38.183191Z"
    }
   },
   "outputs": [
    {
     "data": {
      "text/plain": [
       "KMeans()"
      ]
     },
     "execution_count": 1,
     "metadata": {},
     "output_type": "execute_result"
    }
   ],
   "source": [
    "from cuml.cluster import KMeans\n",
    "\n",
    "model = KMeans(n_clusters=5)\n",
    "\n",
    "model.fit(X)"
   ]
  },
  {
   "cell_type": "code",
   "execution_count": 4,
   "metadata": {
    "execution": {
     "iopub.execute_input": "2021-04-18T09:42:38.190412Z",
     "iopub.status.busy": "2021-04-18T09:42:38.188944Z",
     "iopub.status.idle": "2021-04-18T09:42:38.193466Z",
     "shell.execute_reply": "2021-04-18T09:42:38.192272Z"
    }
   },
   "outputs": [],
   "source": [
    "import pickle\n",
    "\n",
    "pickle.dump(model, open(\"kmeans_model.pkl\", \"wb\"))"
   ]
  },
  {
   "cell_type": "code",
   "execution_count": 5,
   "metadata": {
    "execution": {
     "iopub.execute_input": "2021-04-18T09:42:38.200443Z",
     "iopub.status.busy": "2021-04-18T09:42:38.199038Z",
     "iopub.status.idle": "2021-04-18T09:42:38.202161Z",
     "shell.execute_reply": "2021-04-18T09:42:38.203373Z"
    }
   },
   "outputs": [],
   "source": [
    "model = pickle.load(open(\"kmeans_model.pkl\", \"rb\"))"
   ]
  },
  {
   "cell_type": "code",
   "execution_count": 6,
   "metadata": {
    "execution": {
     "iopub.execute_input": "2021-04-18T09:42:38.211867Z",
     "iopub.status.busy": "2021-04-18T09:42:38.210593Z",
     "iopub.status.idle": "2021-04-18T09:42:38.215041Z",
     "shell.execute_reply": "2021-04-18T09:42:38.216128Z"
    }
   },
   "outputs": [
    {
     "data": {
      "text/plain": [
       "array([[-5.768463  ,  2.3276033 , -3.7457771 , -1.8541754 , -5.1695833 ,\n",
       "         7.667088  ,  2.7118318 ,  8.495609  ,  1.7038484 ,  1.1884269 ],\n",
       "       [ 4.6476874 ,  8.377879  , -9.070581  ,  9.459332  ,  8.450422  ,\n",
       "        -1.0210547 ,  3.3920872 , -7.8629856 , -0.75276613,  0.4838412 ],\n",
       "       [-2.9414442 ,  4.6401706 , -4.502753  ,  2.2855108 ,  1.644645  ,\n",
       "        -2.4937892 , -5.2241607 , -1.5499198 , -8.063638  ,  2.816936  ],\n",
       "       [-4.271077  ,  5.561165  , -5.6640916 , -1.8229512 , -9.2925    ,\n",
       "         0.73028314,  4.4586773 , -2.8876226 , -5.1257744 ,  9.694357  ],\n",
       "       [ 5.5837417 , -4.1515303 ,  4.369667  , -3.00205   ,  3.6388965 ,\n",
       "        -4.341912  , -3.3187115 ,  6.503671  , -6.865036  , -1.0266498 ]],\n",
       "      dtype=float32)"
      ]
     },
     "execution_count": 1,
     "metadata": {},
     "output_type": "execute_result"
    }
   ],
   "source": [
    "model.cluster_centers_"
   ]
  },
  {
   "cell_type": "markdown",
   "metadata": {},
   "source": [
    "## Distributed Model Pickling"
   ]
  },
  {
   "cell_type": "markdown",
   "metadata": {},
   "source": [
    "The distributed estimator wrappers inside of the `cuml.dask` are not intended to be pickled directly. The Dask cuML estimators provide a function `get_combined_model()`, which returns the trained single-GPU model for pickling. The combined model can be used for inference on a single-GPU, and the `ParallelPostFit` wrapper from the [Dask-ML](https://ml.dask.org/meta-estimators.html) library can be used to perform distributed inference on a Dask cluster."
   ]
  },
  {
   "cell_type": "code",
   "execution_count": 7,
   "metadata": {
    "execution": {
     "iopub.execute_input": "2021-04-18T09:42:38.223316Z",
     "iopub.status.busy": "2021-04-18T09:42:38.222126Z",
     "iopub.status.idle": "2021-04-18T09:42:42.735400Z",
     "shell.execute_reply": "2021-04-18T09:42:42.734422Z"
    }
   },
   "outputs": [
    {
     "data": {
      "text/html": [
       "<table style=\"border: 2px solid white;\">\n",
       "<tr>\n",
       "<td style=\"vertical-align: top; border: 0px solid white\">\n",
       "<h3 style=\"text-align: left;\">Client</h3>\n",
       "<ul style=\"text-align: left; list-style: none; margin: 0; padding: 0;\">\n",
       "  <li><b>Scheduler: </b>tcp://127.0.0.1:38856</li>\n",
       "  <li><b>Dashboard: </b><a href='http://127.0.0.1:8787/status' target='_blank'>http://127.0.0.1:8787/status</a></li>\n",
       "</ul>\n",
       "</td>\n",
       "<td style=\"vertical-align: top; border: 0px solid white\">\n",
       "<h3 style=\"text-align: left;\">Cluster</h3>\n",
       "<ul style=\"text-align: left; list-style:none; margin: 0; padding: 0;\">\n",
       "  <li><b>Workers: </b>1</li>\n",
       "  <li><b>Cores: </b>1</li>\n",
       "  <li><b>Memory: </b>251.80 GiB</li>\n",
       "</ul>\n",
       "</td>\n",
       "</tr>\n",
       "</table>"
      ],
      "text/plain": [
       "<Client: 'tcp://127.0.0.1:38856' processes=1 threads=1, memory=251.80 GiB>"
      ]
     },
     "execution_count": 1,
     "metadata": {},
     "output_type": "execute_result"
    }
   ],
   "source": [
    "from dask.distributed import Client\n",
    "from dask_cuda import LocalCUDACluster\n",
    "\n",
    "cluster = LocalCUDACluster()\n",
    "client = Client(cluster)\n",
    "client"
   ]
  },
  {
   "cell_type": "code",
   "execution_count": 8,
   "metadata": {
    "execution": {
     "iopub.execute_input": "2021-04-18T09:42:42.751425Z",
     "iopub.status.busy": "2021-04-18T09:42:42.749857Z",
     "iopub.status.idle": "2021-04-18T09:42:43.287095Z",
     "shell.execute_reply": "2021-04-18T09:42:43.288312Z"
    }
   },
   "outputs": [],
   "source": [
    "from cuml.dask.datasets import make_blobs\n",
    "\n",
    "n_workers = len(client.scheduler_info()[\"workers\"].keys())\n",
    "\n",
    "X, y = make_blobs(n_samples=5000, \n",
    "                  n_features=30,\n",
    "                  centers=5, \n",
    "                  cluster_std=0.4, \n",
    "                  random_state=0,\n",
    "                  n_parts=n_workers*5)\n",
    "\n",
    "X = X.persist()\n",
    "y = y.persist()"
   ]
  },
  {
   "cell_type": "code",
   "execution_count": 9,
   "metadata": {
    "execution": {
     "iopub.execute_input": "2021-04-18T09:42:43.299610Z",
     "iopub.status.busy": "2021-04-18T09:42:43.298115Z",
     "iopub.status.idle": "2021-04-18T09:42:43.333910Z",
     "shell.execute_reply": "2021-04-18T09:42:43.335012Z"
    }
   },
   "outputs": [],
   "source": [
    "from cuml.dask.cluster import KMeans\n",
    "\n",
    "dist_model = KMeans(n_clusters=5)"
   ]
  },
  {
   "cell_type": "code",
   "execution_count": 10,
   "metadata": {
    "execution": {
     "iopub.execute_input": "2021-04-18T09:42:43.346628Z",
     "iopub.status.busy": "2021-04-18T09:42:43.342445Z",
     "iopub.status.idle": "2021-04-18T09:42:46.034473Z",
     "shell.execute_reply": "2021-04-18T09:42:46.035650Z"
    }
   },
   "outputs": [
    {
     "data": {
      "text/plain": [
       "<cuml.dask.cluster.kmeans.KMeans at 0x7fef976b8610>"
      ]
     },
     "execution_count": 1,
     "metadata": {},
     "output_type": "execute_result"
    }
   ],
   "source": [
    "dist_model.fit(X)"
   ]
  },
  {
   "cell_type": "code",
   "execution_count": 11,
   "metadata": {
    "execution": {
     "iopub.execute_input": "2021-04-18T09:42:46.045695Z",
     "iopub.status.busy": "2021-04-18T09:42:46.044327Z",
     "iopub.status.idle": "2021-04-18T09:42:46.057496Z",
     "shell.execute_reply": "2021-04-18T09:42:46.058578Z"
    }
   },
   "outputs": [],
   "source": [
    "import pickle\n",
    "\n",
    "single_gpu_model = dist_model.get_combined_model()\n",
    "pickle.dump(single_gpu_model, open(\"kmeans_model.pkl\", \"wb\"))"
   ]
  },
  {
   "cell_type": "code",
   "execution_count": 12,
   "metadata": {
    "execution": {
     "iopub.execute_input": "2021-04-18T09:42:46.067520Z",
     "iopub.status.busy": "2021-04-18T09:42:46.066139Z",
     "iopub.status.idle": "2021-04-18T09:42:46.072115Z",
     "shell.execute_reply": "2021-04-18T09:42:46.070871Z"
    }
   },
   "outputs": [],
   "source": [
    "single_gpu_model = pickle.load(open(\"kmeans_model.pkl\", \"rb\"))"
   ]
  },
  {
   "cell_type": "code",
   "execution_count": 13,
   "metadata": {
    "execution": {
     "iopub.execute_input": "2021-04-18T09:42:46.086804Z",
     "iopub.status.busy": "2021-04-18T09:42:46.085432Z",
     "iopub.status.idle": "2021-04-18T09:42:46.092820Z",
     "shell.execute_reply": "2021-04-18T09:42:46.091460Z"
    }
   },
   "outputs": [
    {
     "data": {
      "text/plain": [
       "array([[ 4.8098736 ,  8.422671  , -9.239024  ,  9.379143  ,  8.49988   ,\n",
       "        -1.0592817 ,  3.3437848 , -7.802611  , -0.59463316,  0.26447606,\n",
       "         5.507395  , -4.1069803 ,  4.2890778 , -2.8172054 ,  3.6150155 ,\n",
       "        -4.1612997 , -3.6209636 ,  6.2185297 , -6.9460444 , -1.0828307 ,\n",
       "        -5.8267694 ,  2.2258768 , -3.8601208 , -1.6974077 , -5.313418  ,\n",
       "         7.5795755 ,  2.9187477 ,  8.540424  ,  1.55232   ,  1.0841808 ],\n",
       "       [-2.8941844 ,  4.474191  , -4.447568  ,  2.3820987 ,  1.7478832 ,\n",
       "        -2.5046246 , -5.2083306 , -1.6937684 , -8.134755  ,  2.6468296 ,\n",
       "        -4.3163633 ,  5.5655403 , -5.732199  , -1.7384955 , -9.344654  ,\n",
       "         0.70846575,  4.4358406 , -2.9008992 , -4.948638  ,  9.695305  ,\n",
       "         8.36652   , -6.2474546 , -6.3494725 ,  1.9546976 ,  4.157617  ,\n",
       "        -9.167904  ,  4.607067  ,  8.788586  ,  6.8644214 ,  2.2319875 ],\n",
       "       [-4.6657143 , -9.558959  ,  6.657229  ,  4.440131  ,  2.1730301 ,\n",
       "         2.5904036 ,  0.5800098 ,  6.2550364 , -8.829284  , -0.41399655,\n",
       "         9.83105   ,  7.5897355 ,  9.975544  , -5.856175  , -1.2414312 ,\n",
       "        -2.5572667 , -1.0441561 , -5.2461095 , -9.311469  ,  4.6366067 ,\n",
       "        -0.11776033, -3.929528  ,  6.207367  , -7.3990145 ,  5.674092  ,\n",
       "        -8.540299  , -7.518654  , -5.530122  ,  4.8341312 ,  2.5691667 ],\n",
       "       [-6.958112  , -9.7607975 , -6.550611  , -0.41965038,  6.068767  ,\n",
       "         3.760288  , -3.975132  ,  6.149337  , -1.8729935 ,  5.0252733 ,\n",
       "        -6.8340974 ,  1.3383292 ,  9.001679  , -0.9864833 ,  9.65402   ,\n",
       "         9.790742  , -8.61868   ,  5.9955773 ,  2.2099135 , -3.6309092 ,\n",
       "         7.0714073 , -7.3946223 , -5.299633  , -6.973705  , -7.908465  ,\n",
       "         6.6810656 , -5.5756397 ,  7.13131   ,  6.599617  , -8.309573  ],\n",
       "       [ 6.2617536 ,  9.228768  ,  8.35813   ,  9.017294  ,  7.7044673 ,\n",
       "        -1.0047107 , -6.245766  ,  1.3951719 , -6.976181  , -5.948058  ,\n",
       "         1.05759   , -0.01074279,  2.8210258 ,  1.8389357 , -8.247102  ,\n",
       "         3.049897  , -8.483237  ,  9.721646  , -7.750272  ,  3.4655957 ,\n",
       "        -3.931214  , -4.0965166 ,  2.6586978 ,  1.2832456 ,  1.0177819 ,\n",
       "         5.257111  , -1.6444379 ,  6.138324  , -6.8840556 , -9.663093  ]],\n",
       "      dtype=float32)"
      ]
     },
     "execution_count": 1,
     "metadata": {},
     "output_type": "execute_result"
    }
   ],
   "source": [
    "single_gpu_model.cluster_centers_"
   ]
  }
 ],
 "metadata": {
  "kernelspec": {
   "display_name": "Python 3",
   "language": "python",
   "name": "python3"
  },
  "language_info": {
   "codemirror_mode": {
    "name": "ipython",
    "version": 3
   },
   "file_extension": ".py",
   "mimetype": "text/x-python",
   "name": "python",
   "nbconvert_exporter": "python",
   "pygments_lexer": "ipython3",
   "version": "3.7.10"
  }
 },
 "nbformat": 4,
 "nbformat_minor": 4
}
