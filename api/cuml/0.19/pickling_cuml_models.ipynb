{
 "cells": [
  {
   "cell_type": "markdown",
   "metadata": {},
   "source": [
    "# Pickling cuML Models for Persistence\n",
    "\n",
    "This notebook demonstrates simple pickling of both single-GPU and multi-GPU cuML models for persistence"
   ]
  },
  {
   "cell_type": "code",
   "execution_count": 1,
   "metadata": {
    "execution": {
     "iopub.execute_input": "2021-04-10T09:45:38.521906Z",
     "iopub.status.busy": "2021-04-10T09:45:38.520073Z",
     "iopub.status.idle": "2021-04-10T09:45:38.523773Z",
     "shell.execute_reply": "2021-04-10T09:45:38.530138Z"
    }
   },
   "outputs": [],
   "source": [
    "import warnings\n",
    "warnings.filterwarnings(\"ignore\", category=FutureWarning)"
   ]
  },
  {
   "cell_type": "markdown",
   "metadata": {},
   "source": [
    "## Single GPU Model Pickling\n",
    "\n",
    "All single-GPU estimators are pickleable. The following example demonstrates the creation of a synthetic dataset, training, and pickling of the resulting model for storage. Trained single-GPU models can also be used to distribute the inference on a Dask cluster, which the `Distributed Model Pickling` section below demonstrates."
   ]
  },
  {
   "cell_type": "code",
   "execution_count": 2,
   "metadata": {
    "execution": {
     "iopub.execute_input": "2021-04-10T09:45:38.542408Z",
     "iopub.status.busy": "2021-04-10T09:45:38.540824Z",
     "iopub.status.idle": "2021-04-10T09:45:43.427349Z",
     "shell.execute_reply": "2021-04-10T09:45:43.427942Z"
    }
   },
   "outputs": [],
   "source": [
    "from cuml.datasets import make_blobs\n",
    "\n",
    "X, y = make_blobs(n_samples=50,\n",
    "                  n_features=10,\n",
    "                  centers=5,\n",
    "                  cluster_std=0.4,\n",
    "                  random_state=0)"
   ]
  },
  {
   "cell_type": "code",
   "execution_count": 3,
   "metadata": {
    "execution": {
     "iopub.execute_input": "2021-04-10T09:45:43.439163Z",
     "iopub.status.busy": "2021-04-10T09:45:43.437631Z",
     "iopub.status.idle": "2021-04-10T09:45:43.890553Z",
     "shell.execute_reply": "2021-04-10T09:45:43.891810Z"
    }
   },
   "outputs": [
    {
     "data": {
      "text/plain": [
       "KMeans()"
      ]
     },
     "execution_count": 1,
     "metadata": {},
     "output_type": "execute_result"
    }
   ],
   "source": [
    "from cuml.cluster import KMeans\n",
    "\n",
    "model = KMeans(n_clusters=5)\n",
    "\n",
    "model.fit(X)"
   ]
  },
  {
   "cell_type": "code",
   "execution_count": 4,
   "metadata": {
    "execution": {
     "iopub.execute_input": "2021-04-10T09:45:43.898873Z",
     "iopub.status.busy": "2021-04-10T09:45:43.897376Z",
     "iopub.status.idle": "2021-04-10T09:45:43.901826Z",
     "shell.execute_reply": "2021-04-10T09:45:43.900593Z"
    }
   },
   "outputs": [],
   "source": [
    "import pickle\n",
    "\n",
    "pickle.dump(model, open(\"kmeans_model.pkl\", \"wb\"))"
   ]
  },
  {
   "cell_type": "code",
   "execution_count": 5,
   "metadata": {
    "execution": {
     "iopub.execute_input": "2021-04-10T09:45:43.910275Z",
     "iopub.status.busy": "2021-04-10T09:45:43.908890Z",
     "iopub.status.idle": "2021-04-10T09:45:43.913350Z",
     "shell.execute_reply": "2021-04-10T09:45:43.914448Z"
    }
   },
   "outputs": [],
   "source": [
    "model = pickle.load(open(\"kmeans_model.pkl\", \"rb\"))"
   ]
  },
  {
   "cell_type": "code",
   "execution_count": 6,
   "metadata": {
    "execution": {
     "iopub.execute_input": "2021-04-10T09:45:43.925471Z",
     "iopub.status.busy": "2021-04-10T09:45:43.924147Z",
     "iopub.status.idle": "2021-04-10T09:45:43.928730Z",
     "shell.execute_reply": "2021-04-10T09:45:43.929817Z"
    }
   },
   "outputs": [
    {
     "data": {
      "text/plain": [
       "array([[-5.7684636,  2.3276033, -3.7457774, -1.8541754, -5.1695833,\n",
       "         7.667088 ,  2.7118316,  8.495609 ,  1.7038484,  1.1884269],\n",
       "       [ 4.6476874,  8.37788  , -9.070581 ,  9.459332 ,  8.450422 ,\n",
       "        -1.0210547,  3.3920872, -7.8629856, -0.7527662,  0.4838412],\n",
       "       [-2.9414442,  4.6401706, -4.5027533,  2.2855108,  1.644645 ,\n",
       "        -2.4937892, -5.2241607, -1.5499196, -8.063638 ,  2.8169358],\n",
       "       [-4.271077 ,  5.561165 , -5.6640916, -1.8229512, -9.2925   ,\n",
       "         0.730283 ,  4.4586773, -2.8876226, -5.1257744,  9.694357 ],\n",
       "       [ 5.5837417, -4.1515303,  4.369667 , -3.00205  ,  3.6388965,\n",
       "        -4.341912 , -3.318711 ,  6.503671 , -6.865036 , -1.0266498]],\n",
       "      dtype=float32)"
      ]
     },
     "execution_count": 1,
     "metadata": {},
     "output_type": "execute_result"
    }
   ],
   "source": [
    "model.cluster_centers_"
   ]
  },
  {
   "cell_type": "markdown",
   "metadata": {},
   "source": [
    "## Distributed Model Pickling"
   ]
  },
  {
   "cell_type": "markdown",
   "metadata": {},
   "source": [
    "The distributed estimator wrappers inside of the `cuml.dask` are not intended to be pickled directly. The Dask cuML estimators provide a function `get_combined_model()`, which returns the trained single-GPU model for pickling. The combined model can be used for inference on a single-GPU, and the `ParallelPostFit` wrapper from the [Dask-ML](https://ml.dask.org/meta-estimators.html) library can be used to perform distributed inference on a Dask cluster."
   ]
  },
  {
   "cell_type": "code",
   "execution_count": 7,
   "metadata": {
    "execution": {
     "iopub.execute_input": "2021-04-10T09:45:43.938929Z",
     "iopub.status.busy": "2021-04-10T09:45:43.937446Z",
     "iopub.status.idle": "2021-04-10T09:45:48.305929Z",
     "shell.execute_reply": "2021-04-10T09:45:48.304563Z"
    }
   },
   "outputs": [
    {
     "data": {
      "text/html": [
       "<table style=\"border: 2px solid white;\">\n",
       "<tr>\n",
       "<td style=\"vertical-align: top; border: 0px solid white\">\n",
       "<h3 style=\"text-align: left;\">Client</h3>\n",
       "<ul style=\"text-align: left; list-style: none; margin: 0; padding: 0;\">\n",
       "  <li><b>Scheduler: </b>tcp://127.0.0.1:44910</li>\n",
       "  <li><b>Dashboard: </b><a href='http://127.0.0.1:8787/status' target='_blank'>http://127.0.0.1:8787/status</a></li>\n",
       "</ul>\n",
       "</td>\n",
       "<td style=\"vertical-align: top; border: 0px solid white\">\n",
       "<h3 style=\"text-align: left;\">Cluster</h3>\n",
       "<ul style=\"text-align: left; list-style:none; margin: 0; padding: 0;\">\n",
       "  <li><b>Workers: </b>1</li>\n",
       "  <li><b>Cores: </b>1</li>\n",
       "  <li><b>Memory: </b>251.80 GiB</li>\n",
       "</ul>\n",
       "</td>\n",
       "</tr>\n",
       "</table>"
      ],
      "text/plain": [
       "<Client: 'tcp://127.0.0.1:44910' processes=1 threads=1, memory=251.80 GiB>"
      ]
     },
     "execution_count": 1,
     "metadata": {},
     "output_type": "execute_result"
    }
   ],
   "source": [
    "from dask.distributed import Client\n",
    "from dask_cuda import LocalCUDACluster\n",
    "\n",
    "cluster = LocalCUDACluster()\n",
    "client = Client(cluster)\n",
    "client"
   ]
  },
  {
   "cell_type": "code",
   "execution_count": 8,
   "metadata": {
    "execution": {
     "iopub.execute_input": "2021-04-10T09:45:48.322484Z",
     "iopub.status.busy": "2021-04-10T09:45:48.320713Z",
     "iopub.status.idle": "2021-04-10T09:45:48.877448Z",
     "shell.execute_reply": "2021-04-10T09:45:48.878800Z"
    }
   },
   "outputs": [],
   "source": [
    "from cuml.dask.datasets import make_blobs\n",
    "\n",
    "n_workers = len(client.scheduler_info()[\"workers\"].keys())\n",
    "\n",
    "X, y = make_blobs(n_samples=5000, \n",
    "                  n_features=30,\n",
    "                  centers=5, \n",
    "                  cluster_std=0.4, \n",
    "                  random_state=0,\n",
    "                  n_parts=n_workers*5)\n",
    "\n",
    "X = X.persist()\n",
    "y = y.persist()"
   ]
  },
  {
   "cell_type": "code",
   "execution_count": 9,
   "metadata": {
    "execution": {
     "iopub.execute_input": "2021-04-10T09:45:48.889177Z",
     "iopub.status.busy": "2021-04-10T09:45:48.887689Z",
     "iopub.status.idle": "2021-04-10T09:45:48.923423Z",
     "shell.execute_reply": "2021-04-10T09:45:48.922120Z"
    }
   },
   "outputs": [],
   "source": [
    "from cuml.dask.cluster import KMeans\n",
    "\n",
    "dist_model = KMeans(n_clusters=5)"
   ]
  },
  {
   "cell_type": "code",
   "execution_count": 10,
   "metadata": {
    "execution": {
     "iopub.execute_input": "2021-04-10T09:45:48.936697Z",
     "iopub.status.busy": "2021-04-10T09:45:48.935249Z",
     "iopub.status.idle": "2021-04-10T09:45:51.597463Z",
     "shell.execute_reply": "2021-04-10T09:45:51.598653Z"
    }
   },
   "outputs": [
    {
     "data": {
      "text/plain": [
       "<cuml.dask.cluster.kmeans.KMeans at 0x7f98d4257c90>"
      ]
     },
     "execution_count": 1,
     "metadata": {},
     "output_type": "execute_result"
    }
   ],
   "source": [
    "dist_model.fit(X)"
   ]
  },
  {
   "cell_type": "code",
   "execution_count": 11,
   "metadata": {
    "execution": {
     "iopub.execute_input": "2021-04-10T09:45:51.608968Z",
     "iopub.status.busy": "2021-04-10T09:45:51.607534Z",
     "iopub.status.idle": "2021-04-10T09:45:51.625178Z",
     "shell.execute_reply": "2021-04-10T09:45:51.623919Z"
    }
   },
   "outputs": [],
   "source": [
    "import pickle\n",
    "\n",
    "single_gpu_model = dist_model.get_combined_model()\n",
    "pickle.dump(single_gpu_model, open(\"kmeans_model.pkl\", \"wb\"))"
   ]
  },
  {
   "cell_type": "code",
   "execution_count": 12,
   "metadata": {
    "execution": {
     "iopub.execute_input": "2021-04-10T09:45:51.634671Z",
     "iopub.status.busy": "2021-04-10T09:45:51.632910Z",
     "iopub.status.idle": "2021-04-10T09:45:51.638452Z",
     "shell.execute_reply": "2021-04-10T09:45:51.637241Z"
    }
   },
   "outputs": [],
   "source": [
    "single_gpu_model = pickle.load(open(\"kmeans_model.pkl\", \"rb\"))"
   ]
  },
  {
   "cell_type": "code",
   "execution_count": 13,
   "metadata": {
    "execution": {
     "iopub.execute_input": "2021-04-10T09:45:51.653013Z",
     "iopub.status.busy": "2021-04-10T09:45:51.651643Z",
     "iopub.status.idle": "2021-04-10T09:45:51.657844Z",
     "shell.execute_reply": "2021-04-10T09:45:51.659078Z"
    }
   },
   "outputs": [
    {
     "data": {
      "text/plain": [
       "array([[ 4.8098736 ,  8.42267   , -9.239025  ,  9.37914   ,  8.499883  ,\n",
       "        -1.0592817 ,  3.3437853 , -7.802611  , -0.5946334 ,  0.26447594,\n",
       "         5.5073943 , -4.1069794 ,  4.2890787 , -2.8172042 ,  3.615015  ,\n",
       "        -4.161299  , -3.620964  ,  6.2185297 , -6.9460464 , -1.0828302 ,\n",
       "        -5.82677   ,  2.2258763 , -3.860123  , -1.6974074 , -5.313418  ,\n",
       "         7.5795803 ,  2.9187474 ,  8.540423  ,  1.5523205 ,  1.0841802 ],\n",
       "       [-2.8941858 ,  4.4741893 , -4.4475675 ,  2.382099  ,  1.747883  ,\n",
       "        -2.504625  , -5.2083306 , -1.6937685 , -8.134757  ,  2.6468298 ,\n",
       "        -4.3163643 ,  5.5655384 , -5.7321987 , -1.7384956 , -9.344659  ,\n",
       "         0.70846593,  4.43584   , -2.9008996 , -4.94864   ,  9.695302  ,\n",
       "         8.366521  , -6.2474537 , -6.349474  ,  1.9546976 ,  4.1576157 ,\n",
       "        -9.167904  ,  4.6070685 ,  8.788585  ,  6.8644233 ,  2.2319872 ],\n",
       "       [-4.6657147 , -9.558953  ,  6.6572294 ,  4.44013   ,  2.1730306 ,\n",
       "         2.5904038 ,  0.58000964,  6.255035  , -8.829286  , -0.41399664,\n",
       "         9.831048  ,  7.5897346 ,  9.975546  , -5.856174  , -1.2414308 ,\n",
       "        -2.5572672 , -1.0441567 , -5.2461104 , -9.311466  ,  4.6366067 ,\n",
       "        -0.11776031, -3.9295287 ,  6.207366  , -7.399016  ,  5.674092  ,\n",
       "        -8.540295  , -7.5186524 , -5.530124  ,  4.83413   ,  2.5691671 ],\n",
       "       [-6.95811   , -9.760796  , -6.5506096 , -0.41965038,  6.0687666 ,\n",
       "         3.7602887 , -3.975132  ,  6.1493373 , -1.8729932 ,  5.025273  ,\n",
       "        -6.8340993 ,  1.3383293 ,  9.0016775 , -0.98648345,  9.654021  ,\n",
       "         9.790738  , -8.618676  ,  5.9955783 ,  2.2099135 , -3.6309092 ,\n",
       "         7.0714083 , -7.394622  , -5.299636  , -6.9737062 , -7.908462  ,\n",
       "         6.6810646 , -5.575639  ,  7.131311  ,  6.5996184 , -8.30957   ],\n",
       "       [ 6.261752  ,  9.228773  ,  8.3581295 ,  9.0173    ,  7.7044673 ,\n",
       "        -1.0047107 , -6.245765  ,  1.3951719 , -6.9761806 , -5.9480596 ,\n",
       "         1.0575898 , -0.01074278,  2.821026  ,  1.8389361 , -8.247102  ,\n",
       "         3.049897  , -8.483241  ,  9.72164   , -7.7502713 ,  3.4655952 ,\n",
       "        -3.931213  , -4.096516  ,  2.658699  ,  1.2832457 ,  1.0177817 ,\n",
       "         5.257111  , -1.6444378 ,  6.1383233 , -6.8840523 , -9.663089  ]],\n",
       "      dtype=float32)"
      ]
     },
     "execution_count": 1,
     "metadata": {},
     "output_type": "execute_result"
    }
   ],
   "source": [
    "single_gpu_model.cluster_centers_"
   ]
  }
 ],
 "metadata": {
  "kernelspec": {
   "display_name": "Python 3",
   "language": "python",
   "name": "python3"
  },
  "language_info": {
   "codemirror_mode": {
    "name": "ipython",
    "version": 3
   },
   "file_extension": ".py",
   "mimetype": "text/x-python",
   "name": "python",
   "nbconvert_exporter": "python",
   "pygments_lexer": "ipython3",
   "version": "3.7.10"
  }
 },
 "nbformat": 4,
 "nbformat_minor": 4
}
