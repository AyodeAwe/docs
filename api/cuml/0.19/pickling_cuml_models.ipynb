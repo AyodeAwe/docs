{
 "cells": [
  {
   "cell_type": "markdown",
   "metadata": {},
   "source": [
    "# Pickling cuML Models for Persistence\n",
    "\n",
    "This notebook demonstrates simple pickling of both single-GPU and multi-GPU cuML models for persistence"
   ]
  },
  {
   "cell_type": "code",
   "execution_count": 1,
   "metadata": {
    "execution": {
     "iopub.execute_input": "2021-04-11T09:44:05.455566Z",
     "iopub.status.busy": "2021-04-11T09:44:05.454005Z",
     "iopub.status.idle": "2021-04-11T09:44:05.457469Z",
     "shell.execute_reply": "2021-04-11T09:44:05.458766Z"
    }
   },
   "outputs": [],
   "source": [
    "import warnings\n",
    "warnings.filterwarnings(\"ignore\", category=FutureWarning)"
   ]
  },
  {
   "cell_type": "markdown",
   "metadata": {},
   "source": [
    "## Single GPU Model Pickling\n",
    "\n",
    "All single-GPU estimators are pickleable. The following example demonstrates the creation of a synthetic dataset, training, and pickling of the resulting model for storage. Trained single-GPU models can also be used to distribute the inference on a Dask cluster, which the `Distributed Model Pickling` section below demonstrates."
   ]
  },
  {
   "cell_type": "code",
   "execution_count": 2,
   "metadata": {
    "execution": {
     "iopub.execute_input": "2021-04-11T09:44:05.469145Z",
     "iopub.status.busy": "2021-04-11T09:44:05.467570Z",
     "iopub.status.idle": "2021-04-11T09:44:10.276146Z",
     "shell.execute_reply": "2021-04-11T09:44:10.277314Z"
    }
   },
   "outputs": [],
   "source": [
    "from cuml.datasets import make_blobs\n",
    "\n",
    "X, y = make_blobs(n_samples=50,\n",
    "                  n_features=10,\n",
    "                  centers=5,\n",
    "                  cluster_std=0.4,\n",
    "                  random_state=0)"
   ]
  },
  {
   "cell_type": "code",
   "execution_count": 3,
   "metadata": {
    "execution": {
     "iopub.execute_input": "2021-04-11T09:44:10.286464Z",
     "iopub.status.busy": "2021-04-11T09:44:10.285011Z",
     "iopub.status.idle": "2021-04-11T09:44:10.577551Z",
     "shell.execute_reply": "2021-04-11T09:44:10.578773Z"
    }
   },
   "outputs": [
    {
     "data": {
      "text/plain": [
       "KMeans()"
      ]
     },
     "execution_count": 1,
     "metadata": {},
     "output_type": "execute_result"
    }
   ],
   "source": [
    "from cuml.cluster import KMeans\n",
    "\n",
    "model = KMeans(n_clusters=5)\n",
    "\n",
    "model.fit(X)"
   ]
  },
  {
   "cell_type": "code",
   "execution_count": 4,
   "metadata": {
    "execution": {
     "iopub.execute_input": "2021-04-11T09:44:10.585436Z",
     "iopub.status.busy": "2021-04-11T09:44:10.583964Z",
     "iopub.status.idle": "2021-04-11T09:44:10.588434Z",
     "shell.execute_reply": "2021-04-11T09:44:10.587053Z"
    }
   },
   "outputs": [],
   "source": [
    "import pickle\n",
    "\n",
    "pickle.dump(model, open(\"kmeans_model.pkl\", \"wb\"))"
   ]
  },
  {
   "cell_type": "code",
   "execution_count": 5,
   "metadata": {
    "execution": {
     "iopub.execute_input": "2021-04-11T09:44:10.594811Z",
     "iopub.status.busy": "2021-04-11T09:44:10.593451Z",
     "iopub.status.idle": "2021-04-11T09:44:10.596278Z",
     "shell.execute_reply": "2021-04-11T09:44:10.597400Z"
    }
   },
   "outputs": [],
   "source": [
    "model = pickle.load(open(\"kmeans_model.pkl\", \"rb\"))"
   ]
  },
  {
   "cell_type": "code",
   "execution_count": 6,
   "metadata": {
    "execution": {
     "iopub.execute_input": "2021-04-11T09:44:10.604941Z",
     "iopub.status.busy": "2021-04-11T09:44:10.603576Z",
     "iopub.status.idle": "2021-04-11T09:44:10.609480Z",
     "shell.execute_reply": "2021-04-11T09:44:10.608282Z"
    }
   },
   "outputs": [
    {
     "data": {
      "text/plain": [
       "array([[-5.7684636 ,  2.3276033 , -3.7457774 , -1.8541752 , -5.1695833 ,\n",
       "         7.6670885 ,  2.7118318 ,  8.495609  ,  1.7038486 ,  1.1884269 ],\n",
       "       [ 4.6476874 ,  8.37788   , -9.070581  ,  9.459332  ,  8.450422  ,\n",
       "        -1.0210547 ,  3.3920872 , -7.8629856 , -0.75276613,  0.4838412 ],\n",
       "       [-2.9414442 ,  4.6401706 , -4.5027533 ,  2.2855108 ,  1.644645  ,\n",
       "        -2.4937892 , -5.2241607 , -1.5499196 , -8.063638  ,  2.8169358 ],\n",
       "       [-4.2710767 ,  5.5611653 , -5.6640916 , -1.8229512 , -9.2925    ,\n",
       "         0.73028314,  4.4586773 , -2.8876224 , -5.1257744 ,  9.694357  ],\n",
       "       [ 5.583742  , -4.1515303 ,  4.369667  , -3.0020502 ,  3.638897  ,\n",
       "        -4.341912  , -3.3187115 ,  6.503671  , -6.865036  , -1.0266497 ]],\n",
       "      dtype=float32)"
      ]
     },
     "execution_count": 1,
     "metadata": {},
     "output_type": "execute_result"
    }
   ],
   "source": [
    "model.cluster_centers_"
   ]
  },
  {
   "cell_type": "markdown",
   "metadata": {},
   "source": [
    "## Distributed Model Pickling"
   ]
  },
  {
   "cell_type": "markdown",
   "metadata": {},
   "source": [
    "The distributed estimator wrappers inside of the `cuml.dask` are not intended to be pickled directly. The Dask cuML estimators provide a function `get_combined_model()`, which returns the trained single-GPU model for pickling. The combined model can be used for inference on a single-GPU, and the `ParallelPostFit` wrapper from the [Dask-ML](https://ml.dask.org/meta-estimators.html) library can be used to perform distributed inference on a Dask cluster."
   ]
  },
  {
   "cell_type": "code",
   "execution_count": 7,
   "metadata": {
    "execution": {
     "iopub.execute_input": "2021-04-11T09:44:10.616477Z",
     "iopub.status.busy": "2021-04-11T09:44:10.615085Z",
     "iopub.status.idle": "2021-04-11T09:44:14.683073Z",
     "shell.execute_reply": "2021-04-11T09:44:14.681766Z"
    }
   },
   "outputs": [
    {
     "data": {
      "text/html": [
       "<table style=\"border: 2px solid white;\">\n",
       "<tr>\n",
       "<td style=\"vertical-align: top; border: 0px solid white\">\n",
       "<h3 style=\"text-align: left;\">Client</h3>\n",
       "<ul style=\"text-align: left; list-style: none; margin: 0; padding: 0;\">\n",
       "  <li><b>Scheduler: </b>tcp://127.0.0.1:44750</li>\n",
       "  <li><b>Dashboard: </b><a href='http://127.0.0.1:8787/status' target='_blank'>http://127.0.0.1:8787/status</a></li>\n",
       "</ul>\n",
       "</td>\n",
       "<td style=\"vertical-align: top; border: 0px solid white\">\n",
       "<h3 style=\"text-align: left;\">Cluster</h3>\n",
       "<ul style=\"text-align: left; list-style:none; margin: 0; padding: 0;\">\n",
       "  <li><b>Workers: </b>1</li>\n",
       "  <li><b>Cores: </b>1</li>\n",
       "  <li><b>Memory: </b>251.80 GiB</li>\n",
       "</ul>\n",
       "</td>\n",
       "</tr>\n",
       "</table>"
      ],
      "text/plain": [
       "<Client: 'tcp://127.0.0.1:44750' processes=1 threads=1, memory=251.80 GiB>"
      ]
     },
     "execution_count": 1,
     "metadata": {},
     "output_type": "execute_result"
    }
   ],
   "source": [
    "from dask.distributed import Client\n",
    "from dask_cuda import LocalCUDACluster\n",
    "\n",
    "cluster = LocalCUDACluster()\n",
    "client = Client(cluster)\n",
    "client"
   ]
  },
  {
   "cell_type": "code",
   "execution_count": 8,
   "metadata": {
    "execution": {
     "iopub.execute_input": "2021-04-11T09:44:14.699061Z",
     "iopub.status.busy": "2021-04-11T09:44:14.697506Z",
     "iopub.status.idle": "2021-04-11T09:44:15.153747Z",
     "shell.execute_reply": "2021-04-11T09:44:15.149378Z"
    }
   },
   "outputs": [],
   "source": [
    "from cuml.dask.datasets import make_blobs\n",
    "\n",
    "n_workers = len(client.scheduler_info()[\"workers\"].keys())\n",
    "\n",
    "X, y = make_blobs(n_samples=5000, \n",
    "                  n_features=30,\n",
    "                  centers=5, \n",
    "                  cluster_std=0.4, \n",
    "                  random_state=0,\n",
    "                  n_parts=n_workers*5)\n",
    "\n",
    "X = X.persist()\n",
    "y = y.persist()"
   ]
  },
  {
   "cell_type": "code",
   "execution_count": 9,
   "metadata": {
    "execution": {
     "iopub.execute_input": "2021-04-11T09:44:15.162171Z",
     "iopub.status.busy": "2021-04-11T09:44:15.160787Z",
     "iopub.status.idle": "2021-04-11T09:44:15.181966Z",
     "shell.execute_reply": "2021-04-11T09:44:15.180874Z"
    }
   },
   "outputs": [],
   "source": [
    "from cuml.dask.cluster import KMeans\n",
    "\n",
    "dist_model = KMeans(n_clusters=5)"
   ]
  },
  {
   "cell_type": "code",
   "execution_count": 10,
   "metadata": {
    "execution": {
     "iopub.execute_input": "2021-04-11T09:44:15.191404Z",
     "iopub.status.busy": "2021-04-11T09:44:15.190124Z",
     "iopub.status.idle": "2021-04-11T09:44:18.091312Z",
     "shell.execute_reply": "2021-04-11T09:44:18.092434Z"
    }
   },
   "outputs": [
    {
     "data": {
      "text/plain": [
       "<cuml.dask.cluster.kmeans.KMeans at 0x7efed11b1d90>"
      ]
     },
     "execution_count": 1,
     "metadata": {},
     "output_type": "execute_result"
    }
   ],
   "source": [
    "dist_model.fit(X)"
   ]
  },
  {
   "cell_type": "code",
   "execution_count": 11,
   "metadata": {
    "execution": {
     "iopub.execute_input": "2021-04-11T09:44:18.103271Z",
     "iopub.status.busy": "2021-04-11T09:44:18.101886Z",
     "iopub.status.idle": "2021-04-11T09:44:18.124979Z",
     "shell.execute_reply": "2021-04-11T09:44:18.123882Z"
    }
   },
   "outputs": [],
   "source": [
    "import pickle\n",
    "\n",
    "single_gpu_model = dist_model.get_combined_model()\n",
    "pickle.dump(single_gpu_model, open(\"kmeans_model.pkl\", \"wb\"))"
   ]
  },
  {
   "cell_type": "code",
   "execution_count": 12,
   "metadata": {
    "execution": {
     "iopub.execute_input": "2021-04-11T09:44:18.134021Z",
     "iopub.status.busy": "2021-04-11T09:44:18.132729Z",
     "iopub.status.idle": "2021-04-11T09:44:18.137475Z",
     "shell.execute_reply": "2021-04-11T09:44:18.136306Z"
    }
   },
   "outputs": [],
   "source": [
    "single_gpu_model = pickle.load(open(\"kmeans_model.pkl\", \"rb\"))"
   ]
  },
  {
   "cell_type": "code",
   "execution_count": 13,
   "metadata": {
    "execution": {
     "iopub.execute_input": "2021-04-11T09:44:18.150603Z",
     "iopub.status.busy": "2021-04-11T09:44:18.149394Z",
     "iopub.status.idle": "2021-04-11T09:44:18.155453Z",
     "shell.execute_reply": "2021-04-11T09:44:18.154310Z"
    }
   },
   "outputs": [
    {
     "data": {
      "text/plain": [
       "array([[ 4.8098755 ,  8.422671  , -9.239025  ,  9.379142  ,  8.499884  ,\n",
       "        -1.0592817 ,  3.343786  , -7.80261   , -0.5946333 ,  0.26447597,\n",
       "         5.507395  , -4.1069794 ,  4.289077  , -2.8172052 ,  3.6150148 ,\n",
       "        -4.1612997 , -3.6209636 ,  6.2185307 , -6.946049  , -1.0828307 ,\n",
       "        -5.8267713 ,  2.225876  , -3.8601213 , -1.6974076 , -5.3134165 ,\n",
       "         7.579578  ,  2.9187474 ,  8.540423  ,  1.5523204 ,  1.0841808 ],\n",
       "       [-2.894186  ,  4.474189  , -4.447567  ,  2.382099  ,  1.7478833 ,\n",
       "        -2.504626  , -5.208331  , -1.6937685 , -8.134755  ,  2.6468296 ,\n",
       "        -4.316363  ,  5.5655403 , -5.732199  , -1.7384951 , -9.344656  ,\n",
       "         0.7084658 ,  4.4358377 , -2.9009006 , -4.948639  ,  9.695302  ,\n",
       "         8.366523  , -6.2474537 , -6.3494735 ,  1.9546981 ,  4.1576157 ,\n",
       "        -9.167905  ,  4.607067  ,  8.788585  ,  6.8644223 ,  2.2319875 ],\n",
       "       [-4.665716  , -9.558953  ,  6.657229  ,  4.4401317 ,  2.17303   ,\n",
       "         2.5904028 ,  0.58000994,  6.255035  , -8.829287  , -0.41399643,\n",
       "         9.831053  ,  7.589733  ,  9.975542  , -5.8561726 , -1.2414306 ,\n",
       "        -2.5572665 , -1.0441563 , -5.2461095 , -9.311471  ,  4.6366053 ,\n",
       "        -0.11776034, -3.929528  ,  6.207366  , -7.3990145 ,  5.674093  ,\n",
       "        -8.540296  , -7.518652  , -5.5301228 ,  4.8341303 ,  2.5691683 ],\n",
       "       [-6.9581094 , -9.760795  , -6.550611  , -0.41965044,  6.06877   ,\n",
       "         3.7602894 , -3.975133  ,  6.1493397 , -1.8729936 ,  5.025273  ,\n",
       "        -6.8341    ,  1.3383291 ,  9.001676  , -0.98648363,  9.654023  ,\n",
       "         9.790739  , -8.618673  ,  5.9955783 ,  2.2099142 , -3.6309097 ,\n",
       "         7.071409  , -7.3946204 , -5.299634  , -6.973704  , -7.908464  ,\n",
       "         6.681065  , -5.5756392 ,  7.13131   ,  6.5996175 , -8.309571  ],\n",
       "       [ 6.261754  ,  9.228771  ,  8.358131  ,  9.0173025 ,  7.7044635 ,\n",
       "        -1.0047104 , -6.2457676 ,  1.3951722 , -6.9761796 , -5.94806   ,\n",
       "         1.0575898 , -0.01074278,  2.8210254 ,  1.8389362 , -8.247103  ,\n",
       "         3.0498958 , -8.483237  ,  9.721642  , -7.7502713 ,  3.4655948 ,\n",
       "        -3.9312134 , -4.096516  ,  2.6586971 ,  1.2832465 ,  1.0177819 ,\n",
       "         5.2571096 , -1.6444384 ,  6.1383224 , -6.884052  , -9.663094  ]],\n",
       "      dtype=float32)"
      ]
     },
     "execution_count": 1,
     "metadata": {},
     "output_type": "execute_result"
    }
   ],
   "source": [
    "single_gpu_model.cluster_centers_"
   ]
  }
 ],
 "metadata": {
  "kernelspec": {
   "display_name": "Python 3",
   "language": "python",
   "name": "python3"
  },
  "language_info": {
   "codemirror_mode": {
    "name": "ipython",
    "version": 3
   },
   "file_extension": ".py",
   "mimetype": "text/x-python",
   "name": "python",
   "nbconvert_exporter": "python",
   "pygments_lexer": "ipython3",
   "version": "3.7.10"
  }
 },
 "nbformat": 4,
 "nbformat_minor": 4
}
