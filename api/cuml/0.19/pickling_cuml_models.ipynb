{
 "cells": [
  {
   "cell_type": "markdown",
   "metadata": {},
   "source": [
    "# Pickling cuML Models for Persistence\n",
    "\n",
    "This notebook demonstrates simple pickling of both single-GPU and multi-GPU cuML models for persistence"
   ]
  },
  {
   "cell_type": "code",
   "execution_count": 1,
   "metadata": {
    "execution": {
     "iopub.execute_input": "2021-04-04T09:42:24.553247Z",
     "iopub.status.busy": "2021-04-04T09:42:24.551807Z",
     "iopub.status.idle": "2021-04-04T09:42:24.556658Z",
     "shell.execute_reply": "2021-04-04T09:42:24.555362Z"
    }
   },
   "outputs": [],
   "source": [
    "import warnings\n",
    "warnings.filterwarnings(\"ignore\", category=FutureWarning)"
   ]
  },
  {
   "cell_type": "markdown",
   "metadata": {},
   "source": [
    "## Single GPU Model Pickling\n",
    "\n",
    "All single-GPU estimators are pickleable. The following example demonstrates the creation of a synthetic dataset, training, and pickling of the resulting model for storage. Trained single-GPU models can also be used to distribute the inference on a Dask cluster, which the `Distributed Model Pickling` section below demonstrates."
   ]
  },
  {
   "cell_type": "code",
   "execution_count": 2,
   "metadata": {
    "execution": {
     "iopub.execute_input": "2021-04-04T09:42:24.565800Z",
     "iopub.status.busy": "2021-04-04T09:42:24.564443Z",
     "iopub.status.idle": "2021-04-04T09:42:28.774121Z",
     "shell.execute_reply": "2021-04-04T09:42:28.772778Z"
    }
   },
   "outputs": [],
   "source": [
    "from cuml.datasets import make_blobs\n",
    "\n",
    "X, y = make_blobs(n_samples=50,\n",
    "                  n_features=10,\n",
    "                  centers=5,\n",
    "                  cluster_std=0.4,\n",
    "                  random_state=0)"
   ]
  },
  {
   "cell_type": "code",
   "execution_count": 3,
   "metadata": {
    "execution": {
     "iopub.execute_input": "2021-04-04T09:42:28.782778Z",
     "iopub.status.busy": "2021-04-04T09:42:28.781242Z",
     "iopub.status.idle": "2021-04-04T09:42:29.071100Z",
     "shell.execute_reply": "2021-04-04T09:42:29.072344Z"
    }
   },
   "outputs": [
    {
     "data": {
      "text/plain": [
       "KMeans()"
      ]
     },
     "execution_count": 1,
     "metadata": {},
     "output_type": "execute_result"
    }
   ],
   "source": [
    "from cuml.cluster import KMeans\n",
    "\n",
    "model = KMeans(n_clusters=5)\n",
    "\n",
    "model.fit(X)"
   ]
  },
  {
   "cell_type": "code",
   "execution_count": 4,
   "metadata": {
    "execution": {
     "iopub.execute_input": "2021-04-04T09:42:29.078866Z",
     "iopub.status.busy": "2021-04-04T09:42:29.077405Z",
     "iopub.status.idle": "2021-04-04T09:42:29.080452Z",
     "shell.execute_reply": "2021-04-04T09:42:29.081579Z"
    }
   },
   "outputs": [],
   "source": [
    "import pickle\n",
    "\n",
    "pickle.dump(model, open(\"kmeans_model.pkl\", \"wb\"))"
   ]
  },
  {
   "cell_type": "code",
   "execution_count": 5,
   "metadata": {
    "execution": {
     "iopub.execute_input": "2021-04-04T09:42:29.087772Z",
     "iopub.status.busy": "2021-04-04T09:42:29.086420Z",
     "iopub.status.idle": "2021-04-04T09:42:29.089517Z",
     "shell.execute_reply": "2021-04-04T09:42:29.090640Z"
    }
   },
   "outputs": [],
   "source": [
    "model = pickle.load(open(\"kmeans_model.pkl\", \"rb\"))"
   ]
  },
  {
   "cell_type": "code",
   "execution_count": 6,
   "metadata": {
    "execution": {
     "iopub.execute_input": "2021-04-04T09:42:29.097728Z",
     "iopub.status.busy": "2021-04-04T09:42:29.096458Z",
     "iopub.status.idle": "2021-04-04T09:42:29.100885Z",
     "shell.execute_reply": "2021-04-04T09:42:29.101931Z"
    }
   },
   "outputs": [
    {
     "data": {
      "text/plain": [
       "array([[-5.7684636 ,  2.3276033 , -3.7457771 , -1.8541752 , -5.1695833 ,\n",
       "         7.667088  ,  2.7118318 ,  8.495609  ,  1.7038486 ,  1.1884269 ],\n",
       "       [ 4.647688  ,  8.377879  , -9.070581  ,  9.459332  ,  8.450423  ,\n",
       "        -1.0210547 ,  3.3920872 , -7.8629856 , -0.75276613,  0.4838412 ],\n",
       "       [-2.9414442 ,  4.6401706 , -4.5027537 ,  2.2855108 ,  1.644645  ,\n",
       "        -2.4937892 , -5.2241607 , -1.5499196 , -8.063638  ,  2.8169358 ],\n",
       "       [-4.2710767 ,  5.561165  , -5.6640916 , -1.8229512 , -9.2925    ,\n",
       "         0.73028314,  4.4586773 , -2.8876226 , -5.1257744 ,  9.694357  ],\n",
       "       [ 5.5837426 , -4.1515303 ,  4.369667  , -3.0020502 ,  3.6388965 ,\n",
       "        -4.341912  , -3.318711  ,  6.503671  , -6.865036  , -1.0266498 ]],\n",
       "      dtype=float32)"
      ]
     },
     "execution_count": 1,
     "metadata": {},
     "output_type": "execute_result"
    }
   ],
   "source": [
    "model.cluster_centers_"
   ]
  },
  {
   "cell_type": "markdown",
   "metadata": {},
   "source": [
    "## Distributed Model Pickling"
   ]
  },
  {
   "cell_type": "markdown",
   "metadata": {},
   "source": [
    "The distributed estimator wrappers inside of the `cuml.dask` are not intended to be pickled directly. The Dask cuML estimators provide a function `get_combined_model()`, which returns the trained single-GPU model for pickling. The combined model can be used for inference on a single-GPU, and the `ParallelPostFit` wrapper from the [Dask-ML](https://ml.dask.org/meta-estimators.html) library can be used to perform distributed inference on a Dask cluster."
   ]
  },
  {
   "cell_type": "code",
   "execution_count": 7,
   "metadata": {
    "execution": {
     "iopub.execute_input": "2021-04-04T09:42:29.108284Z",
     "iopub.status.busy": "2021-04-04T09:42:29.106956Z",
     "iopub.status.idle": "2021-04-04T09:42:32.867835Z",
     "shell.execute_reply": "2021-04-04T09:42:32.869052Z"
    }
   },
   "outputs": [
    {
     "data": {
      "text/html": [
       "<table style=\"border: 2px solid white;\">\n",
       "<tr>\n",
       "<td style=\"vertical-align: top; border: 0px solid white\">\n",
       "<h3 style=\"text-align: left;\">Client</h3>\n",
       "<ul style=\"text-align: left; list-style: none; margin: 0; padding: 0;\">\n",
       "  <li><b>Scheduler: </b>tcp://127.0.0.1:36069</li>\n",
       "  <li><b>Dashboard: </b><a href='http://127.0.0.1:8787/status' target='_blank'>http://127.0.0.1:8787/status</a></li>\n",
       "</ul>\n",
       "</td>\n",
       "<td style=\"vertical-align: top; border: 0px solid white\">\n",
       "<h3 style=\"text-align: left;\">Cluster</h3>\n",
       "<ul style=\"text-align: left; list-style:none; margin: 0; padding: 0;\">\n",
       "  <li><b>Workers: </b>1</li>\n",
       "  <li><b>Cores: </b>1</li>\n",
       "  <li><b>Memory: </b>251.80 GiB</li>\n",
       "</ul>\n",
       "</td>\n",
       "</tr>\n",
       "</table>"
      ],
      "text/plain": [
       "<Client: 'tcp://127.0.0.1:36069' processes=1 threads=1, memory=251.80 GiB>"
      ]
     },
     "execution_count": 1,
     "metadata": {},
     "output_type": "execute_result"
    }
   ],
   "source": [
    "from dask.distributed import Client\n",
    "from dask_cuda import LocalCUDACluster\n",
    "\n",
    "cluster = LocalCUDACluster()\n",
    "client = Client(cluster)\n",
    "client"
   ]
  },
  {
   "cell_type": "code",
   "execution_count": 8,
   "metadata": {
    "execution": {
     "iopub.execute_input": "2021-04-04T09:42:32.881202Z",
     "iopub.status.busy": "2021-04-04T09:42:32.879871Z",
     "iopub.status.idle": "2021-04-04T09:42:33.321168Z",
     "shell.execute_reply": "2021-04-04T09:42:33.322406Z"
    }
   },
   "outputs": [],
   "source": [
    "from cuml.dask.datasets import make_blobs\n",
    "\n",
    "n_workers = len(client.scheduler_info()[\"workers\"].keys())\n",
    "\n",
    "X, y = make_blobs(n_samples=5000, \n",
    "                  n_features=30,\n",
    "                  centers=5, \n",
    "                  cluster_std=0.4, \n",
    "                  random_state=0,\n",
    "                  n_parts=n_workers*5)\n",
    "\n",
    "X = X.persist()\n",
    "y = y.persist()"
   ]
  },
  {
   "cell_type": "code",
   "execution_count": 9,
   "metadata": {
    "execution": {
     "iopub.execute_input": "2021-04-04T09:42:33.329369Z",
     "iopub.status.busy": "2021-04-04T09:42:33.327930Z",
     "iopub.status.idle": "2021-04-04T09:42:33.348617Z",
     "shell.execute_reply": "2021-04-04T09:42:33.349701Z"
    }
   },
   "outputs": [],
   "source": [
    "from cuml.dask.cluster import KMeans\n",
    "\n",
    "dist_model = KMeans(n_clusters=5)"
   ]
  },
  {
   "cell_type": "code",
   "execution_count": 10,
   "metadata": {
    "execution": {
     "iopub.execute_input": "2021-04-04T09:42:33.359650Z",
     "iopub.status.busy": "2021-04-04T09:42:33.358299Z",
     "iopub.status.idle": "2021-04-04T09:42:35.977905Z",
     "shell.execute_reply": "2021-04-04T09:42:35.976666Z"
    }
   },
   "outputs": [
    {
     "data": {
      "text/plain": [
       "<cuml.dask.cluster.kmeans.KMeans at 0x7f27e77ec2d0>"
      ]
     },
     "execution_count": 1,
     "metadata": {},
     "output_type": "execute_result"
    }
   ],
   "source": [
    "dist_model.fit(X)"
   ]
  },
  {
   "cell_type": "code",
   "execution_count": 11,
   "metadata": {
    "execution": {
     "iopub.execute_input": "2021-04-04T09:42:35.988824Z",
     "iopub.status.busy": "2021-04-04T09:42:35.987386Z",
     "iopub.status.idle": "2021-04-04T09:42:35.998974Z",
     "shell.execute_reply": "2021-04-04T09:42:35.997785Z"
    }
   },
   "outputs": [],
   "source": [
    "import pickle\n",
    "\n",
    "single_gpu_model = dist_model.get_combined_model()\n",
    "pickle.dump(single_gpu_model, open(\"kmeans_model.pkl\", \"wb\"))"
   ]
  },
  {
   "cell_type": "code",
   "execution_count": 12,
   "metadata": {
    "execution": {
     "iopub.execute_input": "2021-04-04T09:42:36.006444Z",
     "iopub.status.busy": "2021-04-04T09:42:36.005093Z",
     "iopub.status.idle": "2021-04-04T09:42:36.009161Z",
     "shell.execute_reply": "2021-04-04T09:42:36.010271Z"
    }
   },
   "outputs": [],
   "source": [
    "single_gpu_model = pickle.load(open(\"kmeans_model.pkl\", \"rb\"))"
   ]
  },
  {
   "cell_type": "code",
   "execution_count": 13,
   "metadata": {
    "execution": {
     "iopub.execute_input": "2021-04-04T09:42:36.022153Z",
     "iopub.status.busy": "2021-04-04T09:42:36.020913Z",
     "iopub.status.idle": "2021-04-04T09:42:36.025327Z",
     "shell.execute_reply": "2021-04-04T09:42:36.026380Z"
    }
   },
   "outputs": [
    {
     "data": {
      "text/plain": [
       "array([[ 4.809875  ,  8.422672  , -9.239024  ,  9.379145  ,  8.499883  ,\n",
       "        -1.0592817 ,  3.343786  , -7.802612  , -0.59463334,  0.264476  ,\n",
       "         5.5073943 , -4.1069803 ,  4.289077  , -2.8172052 ,  3.6150155 ,\n",
       "        -4.1612997 , -3.620963  ,  6.218531  , -6.9460473 , -1.0828305 ,\n",
       "        -5.8267717 ,  2.2258768 , -3.8601217 , -1.6974078 , -5.313418  ,\n",
       "         7.5795784 ,  2.9187474 ,  8.540426  ,  1.5523205 ,  1.0841807 ],\n",
       "       [-2.894185  ,  4.47419   , -4.4475684 ,  2.3820994 ,  1.7478836 ,\n",
       "        -2.5046246 , -5.2083297 , -1.6937679 , -8.134755  ,  2.6468303 ,\n",
       "        -4.3163643 ,  5.56554   , -5.7321978 , -1.7384951 , -9.344656  ,\n",
       "         0.70846575,  4.43584   , -2.9009001 , -4.9486403 ,  9.695298  ,\n",
       "         8.366521  , -6.2474537 , -6.3494716 ,  1.9546977 ,  4.157616  ,\n",
       "        -9.167904  ,  4.6070685 ,  8.788583  ,  6.864423  ,  2.231987  ],\n",
       "       [-4.6657147 , -9.558953  ,  6.6572285 ,  4.4401307 ,  2.1730306 ,\n",
       "         2.5904036 ,  0.58001006,  6.255037  , -8.829286  , -0.41399643,\n",
       "         9.831053  ,  7.589733  ,  9.975547  , -5.8561745 , -1.2414308 ,\n",
       "        -2.557268  , -1.0441566 , -5.246108  , -9.311467  ,  4.6366067 ,\n",
       "        -0.1177603 , -3.9295287 ,  6.207367  , -7.399015  ,  5.6740923 ,\n",
       "        -8.540298  , -7.5186534 , -5.530123  ,  4.83413   ,  2.5691674 ],\n",
       "       [-6.958107  , -9.760792  , -6.550611  , -0.41965032,  6.0687685 ,\n",
       "         3.760288  , -3.975133  ,  6.1493363 , -1.8729935 ,  5.0252743 ,\n",
       "        -6.8341002 ,  1.3383291 ,  9.001676  , -0.98648345,  9.654023  ,\n",
       "         9.790742  , -8.618676  ,  5.9955797 ,  2.2099144 , -3.6309097 ,\n",
       "         7.0714073 , -7.394621  , -5.299636  , -6.9737062 , -7.908465  ,\n",
       "         6.6810637 , -5.575641  ,  7.13131   ,  6.5996165 , -8.309571  ],\n",
       "       [ 6.261753  ,  9.228772  ,  8.358132  ,  9.017301  ,  7.704467  ,\n",
       "        -1.0047107 , -6.245765  ,  1.3951722 , -6.976179  , -5.948059  ,\n",
       "         1.0575897 , -0.01074279,  2.8210258 ,  1.8389364 , -8.247102  ,\n",
       "         3.0498965 , -8.48324   ,  9.721641  , -7.7502713 ,  3.4655962 ,\n",
       "        -3.9312143 , -4.0965157 ,  2.658698  ,  1.2832462 ,  1.017782  ,\n",
       "         5.257108  , -1.6444378 ,  6.138322  , -6.884053  , -9.663094  ]],\n",
       "      dtype=float32)"
      ]
     },
     "execution_count": 1,
     "metadata": {},
     "output_type": "execute_result"
    }
   ],
   "source": [
    "single_gpu_model.cluster_centers_"
   ]
  }
 ],
 "metadata": {
  "kernelspec": {
   "display_name": "Python 3",
   "language": "python",
   "name": "python3"
  },
  "language_info": {
   "codemirror_mode": {
    "name": "ipython",
    "version": 3
   },
   "file_extension": ".py",
   "mimetype": "text/x-python",
   "name": "python",
   "nbconvert_exporter": "python",
   "pygments_lexer": "ipython3",
   "version": "3.7.10"
  }
 },
 "nbformat": 4,
 "nbformat_minor": 4
}
