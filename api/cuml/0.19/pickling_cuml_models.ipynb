{
 "cells": [
  {
   "cell_type": "markdown",
   "metadata": {},
   "source": [
    "# Pickling cuML Models for Persistence\n",
    "\n",
    "This notebook demonstrates simple pickling of both single-GPU and multi-GPU cuML models for persistence"
   ]
  },
  {
   "cell_type": "code",
   "execution_count": 1,
   "metadata": {
    "execution": {
     "iopub.execute_input": "2021-04-05T09:45:14.026365Z",
     "iopub.status.busy": "2021-04-05T09:45:14.024810Z",
     "iopub.status.idle": "2021-04-05T09:45:14.030038Z",
     "shell.execute_reply": "2021-04-05T09:45:14.028377Z"
    }
   },
   "outputs": [],
   "source": [
    "import warnings\n",
    "warnings.filterwarnings(\"ignore\", category=FutureWarning)"
   ]
  },
  {
   "cell_type": "markdown",
   "metadata": {},
   "source": [
    "## Single GPU Model Pickling\n",
    "\n",
    "All single-GPU estimators are pickleable. The following example demonstrates the creation of a synthetic dataset, training, and pickling of the resulting model for storage. Trained single-GPU models can also be used to distribute the inference on a Dask cluster, which the `Distributed Model Pickling` section below demonstrates."
   ]
  },
  {
   "cell_type": "code",
   "execution_count": 2,
   "metadata": {
    "execution": {
     "iopub.execute_input": "2021-04-05T09:45:14.040086Z",
     "iopub.status.busy": "2021-04-05T09:45:14.038573Z",
     "iopub.status.idle": "2021-04-05T09:45:18.857470Z",
     "shell.execute_reply": "2021-04-05T09:45:18.856123Z"
    }
   },
   "outputs": [],
   "source": [
    "from cuml.datasets import make_blobs\n",
    "\n",
    "X, y = make_blobs(n_samples=50,\n",
    "                  n_features=10,\n",
    "                  centers=5,\n",
    "                  cluster_std=0.4,\n",
    "                  random_state=0)"
   ]
  },
  {
   "cell_type": "code",
   "execution_count": 3,
   "metadata": {
    "execution": {
     "iopub.execute_input": "2021-04-05T09:45:18.866011Z",
     "iopub.status.busy": "2021-04-05T09:45:18.864516Z",
     "iopub.status.idle": "2021-04-05T09:45:19.233911Z",
     "shell.execute_reply": "2021-04-05T09:45:19.233096Z"
    }
   },
   "outputs": [
    {
     "data": {
      "text/plain": [
       "KMeans()"
      ]
     },
     "execution_count": 1,
     "metadata": {},
     "output_type": "execute_result"
    }
   ],
   "source": [
    "from cuml.cluster import KMeans\n",
    "\n",
    "model = KMeans(n_clusters=5)\n",
    "\n",
    "model.fit(X)"
   ]
  },
  {
   "cell_type": "code",
   "execution_count": 4,
   "metadata": {
    "execution": {
     "iopub.execute_input": "2021-04-05T09:45:19.241594Z",
     "iopub.status.busy": "2021-04-05T09:45:19.240684Z",
     "iopub.status.idle": "2021-04-05T09:45:19.245959Z",
     "shell.execute_reply": "2021-04-05T09:45:19.245158Z"
    }
   },
   "outputs": [],
   "source": [
    "import pickle\n",
    "\n",
    "pickle.dump(model, open(\"kmeans_model.pkl\", \"wb\"))"
   ]
  },
  {
   "cell_type": "code",
   "execution_count": 5,
   "metadata": {
    "execution": {
     "iopub.execute_input": "2021-04-05T09:45:19.253360Z",
     "iopub.status.busy": "2021-04-05T09:45:19.252443Z",
     "iopub.status.idle": "2021-04-05T09:45:19.256573Z",
     "shell.execute_reply": "2021-04-05T09:45:19.257300Z"
    }
   },
   "outputs": [],
   "source": [
    "model = pickle.load(open(\"kmeans_model.pkl\", \"rb\"))"
   ]
  },
  {
   "cell_type": "code",
   "execution_count": 6,
   "metadata": {
    "execution": {
     "iopub.execute_input": "2021-04-05T09:45:19.266764Z",
     "iopub.status.busy": "2021-04-05T09:45:19.265856Z",
     "iopub.status.idle": "2021-04-05T09:45:19.270579Z",
     "shell.execute_reply": "2021-04-05T09:45:19.271303Z"
    }
   },
   "outputs": [
    {
     "data": {
      "text/plain": [
       "array([[-5.768463  ,  2.3276033 , -3.7457771 , -1.8541754 , -5.1695833 ,\n",
       "         7.6670885 ,  2.7118316 ,  8.495609  ,  1.7038486 ,  1.1884269 ],\n",
       "       [ 4.6476874 ,  8.37788   , -9.070581  ,  9.459332  ,  8.450422  ,\n",
       "        -1.0210547 ,  3.3920872 , -7.8629856 , -0.75276613,  0.48384127],\n",
       "       [-2.9414442 ,  4.6401706 , -4.5027533 ,  2.2855108 ,  1.644645  ,\n",
       "        -2.4937892 , -5.2241607 , -1.5499196 , -8.063638  ,  2.816936  ],\n",
       "       [-4.271077  ,  5.561165  , -5.6640916 , -1.8229512 , -9.2925    ,\n",
       "         0.73028314,  4.4586773 , -2.8876224 , -5.125774  ,  9.694357  ],\n",
       "       [ 5.5837426 , -4.1515303 ,  4.369667  , -3.0020502 ,  3.6388965 ,\n",
       "        -4.341912  , -3.3187115 ,  6.503671  , -6.865036  , -1.0266498 ]],\n",
       "      dtype=float32)"
      ]
     },
     "execution_count": 1,
     "metadata": {},
     "output_type": "execute_result"
    }
   ],
   "source": [
    "model.cluster_centers_"
   ]
  },
  {
   "cell_type": "markdown",
   "metadata": {},
   "source": [
    "## Distributed Model Pickling"
   ]
  },
  {
   "cell_type": "markdown",
   "metadata": {},
   "source": [
    "The distributed estimator wrappers inside of the `cuml.dask` are not intended to be pickled directly. The Dask cuML estimators provide a function `get_combined_model()`, which returns the trained single-GPU model for pickling. The combined model can be used for inference on a single-GPU, and the `ParallelPostFit` wrapper from the [Dask-ML](https://ml.dask.org/meta-estimators.html) library can be used to perform distributed inference on a Dask cluster."
   ]
  },
  {
   "cell_type": "code",
   "execution_count": 7,
   "metadata": {
    "execution": {
     "iopub.execute_input": "2021-04-05T09:45:19.278795Z",
     "iopub.status.busy": "2021-04-05T09:45:19.277867Z",
     "iopub.status.idle": "2021-04-05T09:45:23.501588Z",
     "shell.execute_reply": "2021-04-05T09:45:23.502857Z"
    }
   },
   "outputs": [
    {
     "data": {
      "text/html": [
       "<table style=\"border: 2px solid white;\">\n",
       "<tr>\n",
       "<td style=\"vertical-align: top; border: 0px solid white\">\n",
       "<h3 style=\"text-align: left;\">Client</h3>\n",
       "<ul style=\"text-align: left; list-style: none; margin: 0; padding: 0;\">\n",
       "  <li><b>Scheduler: </b>tcp://127.0.0.1:38594</li>\n",
       "  <li><b>Dashboard: </b><a href='http://127.0.0.1:8787/status' target='_blank'>http://127.0.0.1:8787/status</a></li>\n",
       "</ul>\n",
       "</td>\n",
       "<td style=\"vertical-align: top; border: 0px solid white\">\n",
       "<h3 style=\"text-align: left;\">Cluster</h3>\n",
       "<ul style=\"text-align: left; list-style:none; margin: 0; padding: 0;\">\n",
       "  <li><b>Workers: </b>1</li>\n",
       "  <li><b>Cores: </b>1</li>\n",
       "  <li><b>Memory: </b>251.80 GiB</li>\n",
       "</ul>\n",
       "</td>\n",
       "</tr>\n",
       "</table>"
      ],
      "text/plain": [
       "<Client: 'tcp://127.0.0.1:38594' processes=1 threads=1, memory=251.80 GiB>"
      ]
     },
     "execution_count": 1,
     "metadata": {},
     "output_type": "execute_result"
    }
   ],
   "source": [
    "from dask.distributed import Client\n",
    "from dask_cuda import LocalCUDACluster\n",
    "\n",
    "cluster = LocalCUDACluster()\n",
    "client = Client(cluster)\n",
    "client"
   ]
  },
  {
   "cell_type": "code",
   "execution_count": 8,
   "metadata": {
    "execution": {
     "iopub.execute_input": "2021-04-05T09:45:23.517412Z",
     "iopub.status.busy": "2021-04-05T09:45:23.515865Z",
     "iopub.status.idle": "2021-04-05T09:45:24.045673Z",
     "shell.execute_reply": "2021-04-05T09:45:24.046933Z"
    }
   },
   "outputs": [],
   "source": [
    "from cuml.dask.datasets import make_blobs\n",
    "\n",
    "n_workers = len(client.scheduler_info()[\"workers\"].keys())\n",
    "\n",
    "X, y = make_blobs(n_samples=5000, \n",
    "                  n_features=30,\n",
    "                  centers=5, \n",
    "                  cluster_std=0.4, \n",
    "                  random_state=0,\n",
    "                  n_parts=n_workers*5)\n",
    "\n",
    "X = X.persist()\n",
    "y = y.persist()"
   ]
  },
  {
   "cell_type": "code",
   "execution_count": 9,
   "metadata": {
    "execution": {
     "iopub.execute_input": "2021-04-05T09:45:24.056324Z",
     "iopub.status.busy": "2021-04-05T09:45:24.054770Z",
     "iopub.status.idle": "2021-04-05T09:45:24.079260Z",
     "shell.execute_reply": "2021-04-05T09:45:24.078077Z"
    }
   },
   "outputs": [],
   "source": [
    "from cuml.dask.cluster import KMeans\n",
    "\n",
    "dist_model = KMeans(n_clusters=5)"
   ]
  },
  {
   "cell_type": "code",
   "execution_count": 10,
   "metadata": {
    "execution": {
     "iopub.execute_input": "2021-04-05T09:45:24.088682Z",
     "iopub.status.busy": "2021-04-05T09:45:24.085075Z",
     "iopub.status.idle": "2021-04-05T09:45:26.739121Z",
     "shell.execute_reply": "2021-04-05T09:45:26.740092Z"
    }
   },
   "outputs": [
    {
     "data": {
      "text/plain": [
       "<cuml.dask.cluster.kmeans.KMeans at 0x7f902c0027d0>"
      ]
     },
     "execution_count": 1,
     "metadata": {},
     "output_type": "execute_result"
    }
   ],
   "source": [
    "dist_model.fit(X)"
   ]
  },
  {
   "cell_type": "code",
   "execution_count": 11,
   "metadata": {
    "execution": {
     "iopub.execute_input": "2021-04-05T09:45:26.750455Z",
     "iopub.status.busy": "2021-04-05T09:45:26.749157Z",
     "iopub.status.idle": "2021-04-05T09:45:26.764560Z",
     "shell.execute_reply": "2021-04-05T09:45:26.765463Z"
    }
   },
   "outputs": [],
   "source": [
    "import pickle\n",
    "\n",
    "single_gpu_model = dist_model.get_combined_model()\n",
    "pickle.dump(single_gpu_model, open(\"kmeans_model.pkl\", \"wb\"))"
   ]
  },
  {
   "cell_type": "code",
   "execution_count": 12,
   "metadata": {
    "execution": {
     "iopub.execute_input": "2021-04-05T09:45:26.773523Z",
     "iopub.status.busy": "2021-04-05T09:45:26.772331Z",
     "iopub.status.idle": "2021-04-05T09:45:26.777220Z",
     "shell.execute_reply": "2021-04-05T09:45:26.778195Z"
    }
   },
   "outputs": [],
   "source": [
    "single_gpu_model = pickle.load(open(\"kmeans_model.pkl\", \"rb\"))"
   ]
  },
  {
   "cell_type": "code",
   "execution_count": 13,
   "metadata": {
    "execution": {
     "iopub.execute_input": "2021-04-05T09:45:26.791914Z",
     "iopub.status.busy": "2021-04-05T09:45:26.790712Z",
     "iopub.status.idle": "2021-04-05T09:45:26.796678Z",
     "shell.execute_reply": "2021-04-05T09:45:26.795670Z"
    }
   },
   "outputs": [
    {
     "data": {
      "text/plain": [
       "array([[ 4.809873  ,  8.42267   , -9.23902   ,  9.379145  ,  8.499882  ,\n",
       "        -1.0592816 ,  3.3437853 , -7.8026123 , -0.59463334,  0.26447597,\n",
       "         5.5073953 , -4.1069794 ,  4.2890763 , -2.8172047 ,  3.615015  ,\n",
       "        -4.1612997 , -3.6209638 ,  6.2185297 , -6.946046  , -1.0828305 ,\n",
       "        -5.8267703 ,  2.225877  , -3.8601213 , -1.6974078 , -5.313416  ,\n",
       "         7.579578  ,  2.918748  ,  8.540429  ,  1.5523201 ,  1.0841806 ],\n",
       "       [-2.8941858 ,  4.4741893 , -4.447567  ,  2.3820987 ,  1.7478831 ,\n",
       "        -2.5046253 , -5.20833   , -1.6937687 , -8.134756  ,  2.64683   ,\n",
       "        -4.3163643 ,  5.56554   , -5.7321987 , -1.7384953 , -9.344659  ,\n",
       "         0.7084658 ,  4.4358397 , -2.9009    , -4.948638  ,  9.695304  ,\n",
       "         8.366521  , -6.247453  , -6.3494725 ,  1.9546975 ,  4.157615  ,\n",
       "        -9.167905  ,  4.607067  ,  8.788589  ,  6.8644233 ,  2.2319875 ],\n",
       "       [-4.665716  , -9.558954  ,  6.6572294 ,  4.4401307 ,  2.1730306 ,\n",
       "         2.5904033 ,  0.58001   ,  6.2550344 , -8.829286  , -0.41399646,\n",
       "         9.83105   ,  7.5897326 ,  9.975548  , -5.856176  , -1.2414306 ,\n",
       "        -2.5572667 , -1.0441562 , -5.2461104 , -9.311467  ,  4.6366057 ,\n",
       "        -0.11776032, -3.9295292 ,  6.207367  , -7.399014  ,  5.6740923 ,\n",
       "        -8.540298  , -7.518654  , -5.530122  ,  4.83413   ,  2.5691676 ],\n",
       "       [-6.9581103 , -9.760799  , -6.5506096 , -0.4196505 ,  6.068767  ,\n",
       "         3.7602885 , -3.975132  ,  6.1493387 , -1.8729935 ,  5.0252724 ,\n",
       "        -6.8340993 ,  1.3383287 ,  9.001677  , -0.98648345,  9.654019  ,\n",
       "         9.790737  , -8.618672  ,  5.9955792 ,  2.209914  , -3.6309094 ,\n",
       "         7.0714064 , -7.394621  , -5.2996325 , -6.973706  , -7.908465  ,\n",
       "         6.6810646 , -5.575639  ,  7.1313114 ,  6.599617  , -8.309571  ],\n",
       "       [ 6.261753  ,  9.228767  ,  8.358131  ,  9.017302  ,  7.7044663 ,\n",
       "        -1.0047106 , -6.2457666 ,  1.3951715 , -6.976183  , -5.9480586 ,\n",
       "         1.0575899 , -0.01074279,  2.8210247 ,  1.8389363 , -8.247104  ,\n",
       "         3.0498962 , -8.483245  ,  9.721639  , -7.750271  ,  3.4655955 ,\n",
       "        -3.931214  , -4.0965166 ,  2.658698  ,  1.2832464 ,  1.0177819 ,\n",
       "         5.2571115 , -1.644438  ,  6.1383214 , -6.8840547 , -9.663091  ]],\n",
       "      dtype=float32)"
      ]
     },
     "execution_count": 1,
     "metadata": {},
     "output_type": "execute_result"
    }
   ],
   "source": [
    "single_gpu_model.cluster_centers_"
   ]
  }
 ],
 "metadata": {
  "kernelspec": {
   "display_name": "Python 3",
   "language": "python",
   "name": "python3"
  },
  "language_info": {
   "codemirror_mode": {
    "name": "ipython",
    "version": 3
   },
   "file_extension": ".py",
   "mimetype": "text/x-python",
   "name": "python",
   "nbconvert_exporter": "python",
   "pygments_lexer": "ipython3",
   "version": "3.7.10"
  }
 },
 "nbformat": 4,
 "nbformat_minor": 4
}
