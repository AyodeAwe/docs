{
 "cells": [
  {
   "cell_type": "markdown",
   "metadata": {},
   "source": [
    "# Pickling cuML Models for Persistence\n",
    "\n",
    "This notebook demonstrates simple pickling of both single-GPU and multi-GPU cuML models for persistence"
   ]
  },
  {
   "cell_type": "code",
   "execution_count": 1,
   "metadata": {
    "execution": {
     "iopub.execute_input": "2021-04-13T09:44:13.397637Z",
     "iopub.status.busy": "2021-04-13T09:44:13.396110Z",
     "iopub.status.idle": "2021-04-13T09:44:13.399812Z",
     "shell.execute_reply": "2021-04-13T09:44:13.401041Z"
    }
   },
   "outputs": [],
   "source": [
    "import warnings\n",
    "warnings.filterwarnings(\"ignore\", category=FutureWarning)"
   ]
  },
  {
   "cell_type": "markdown",
   "metadata": {},
   "source": [
    "## Single GPU Model Pickling\n",
    "\n",
    "All single-GPU estimators are pickleable. The following example demonstrates the creation of a synthetic dataset, training, and pickling of the resulting model for storage. Trained single-GPU models can also be used to distribute the inference on a Dask cluster, which the `Distributed Model Pickling` section below demonstrates."
   ]
  },
  {
   "cell_type": "code",
   "execution_count": 2,
   "metadata": {
    "execution": {
     "iopub.execute_input": "2021-04-13T09:44:13.411416Z",
     "iopub.status.busy": "2021-04-13T09:44:13.409912Z",
     "iopub.status.idle": "2021-04-13T09:44:18.316977Z",
     "shell.execute_reply": "2021-04-13T09:44:18.318174Z"
    }
   },
   "outputs": [],
   "source": [
    "from cuml.datasets import make_blobs\n",
    "\n",
    "X, y = make_blobs(n_samples=50,\n",
    "                  n_features=10,\n",
    "                  centers=5,\n",
    "                  cluster_std=0.4,\n",
    "                  random_state=0)"
   ]
  },
  {
   "cell_type": "code",
   "execution_count": 3,
   "metadata": {
    "execution": {
     "iopub.execute_input": "2021-04-13T09:44:18.330559Z",
     "iopub.status.busy": "2021-04-13T09:44:18.329163Z",
     "iopub.status.idle": "2021-04-13T09:44:18.731038Z",
     "shell.execute_reply": "2021-04-13T09:44:18.732337Z"
    }
   },
   "outputs": [
    {
     "data": {
      "text/plain": [
       "KMeans()"
      ]
     },
     "execution_count": 1,
     "metadata": {},
     "output_type": "execute_result"
    }
   ],
   "source": [
    "from cuml.cluster import KMeans\n",
    "\n",
    "model = KMeans(n_clusters=5)\n",
    "\n",
    "model.fit(X)"
   ]
  },
  {
   "cell_type": "code",
   "execution_count": 4,
   "metadata": {
    "execution": {
     "iopub.execute_input": "2021-04-13T09:44:18.739705Z",
     "iopub.status.busy": "2021-04-13T09:44:18.738184Z",
     "iopub.status.idle": "2021-04-13T09:44:18.741938Z",
     "shell.execute_reply": "2021-04-13T09:44:18.743056Z"
    }
   },
   "outputs": [],
   "source": [
    "import pickle\n",
    "\n",
    "pickle.dump(model, open(\"kmeans_model.pkl\", \"wb\"))"
   ]
  },
  {
   "cell_type": "code",
   "execution_count": 5,
   "metadata": {
    "execution": {
     "iopub.execute_input": "2021-04-13T09:44:18.750222Z",
     "iopub.status.busy": "2021-04-13T09:44:18.748808Z",
     "iopub.status.idle": "2021-04-13T09:44:18.753391Z",
     "shell.execute_reply": "2021-04-13T09:44:18.752285Z"
    }
   },
   "outputs": [],
   "source": [
    "model = pickle.load(open(\"kmeans_model.pkl\", \"rb\"))"
   ]
  },
  {
   "cell_type": "code",
   "execution_count": 6,
   "metadata": {
    "execution": {
     "iopub.execute_input": "2021-04-13T09:44:18.761738Z",
     "iopub.status.busy": "2021-04-13T09:44:18.760432Z",
     "iopub.status.idle": "2021-04-13T09:44:18.765019Z",
     "shell.execute_reply": "2021-04-13T09:44:18.766062Z"
    }
   },
   "outputs": [
    {
     "data": {
      "text/plain": [
       "array([[-5.768463  ,  2.3276033 , -3.7457774 , -1.8541754 , -5.169583  ,\n",
       "         7.667088  ,  2.7118318 ,  8.495609  ,  1.7038484 ,  1.1884269 ],\n",
       "       [ 4.6476874 ,  8.37788   , -9.070581  ,  9.459332  ,  8.450423  ,\n",
       "        -1.0210547 ,  3.3920872 , -7.8629856 , -0.75276613,  0.48384127],\n",
       "       [-2.9414442 ,  4.6401706 , -4.5027533 ,  2.2855108 ,  1.644645  ,\n",
       "        -2.4937892 , -5.2241607 , -1.5499196 , -8.063638  ,  2.8169358 ],\n",
       "       [-4.271077  ,  5.561165  , -5.6640925 , -1.8229512 , -9.2925    ,\n",
       "         0.730283  ,  4.4586773 , -2.8876226 , -5.125775  ,  9.694357  ],\n",
       "       [ 5.5837426 , -4.1515303 ,  4.369667  , -3.0020502 ,  3.6388965 ,\n",
       "        -4.341912  , -3.3187115 ,  6.503671  , -6.865036  , -1.0266498 ]],\n",
       "      dtype=float32)"
      ]
     },
     "execution_count": 1,
     "metadata": {},
     "output_type": "execute_result"
    }
   ],
   "source": [
    "model.cluster_centers_"
   ]
  },
  {
   "cell_type": "markdown",
   "metadata": {},
   "source": [
    "## Distributed Model Pickling"
   ]
  },
  {
   "cell_type": "markdown",
   "metadata": {},
   "source": [
    "The distributed estimator wrappers inside of the `cuml.dask` are not intended to be pickled directly. The Dask cuML estimators provide a function `get_combined_model()`, which returns the trained single-GPU model for pickling. The combined model can be used for inference on a single-GPU, and the `ParallelPostFit` wrapper from the [Dask-ML](https://ml.dask.org/meta-estimators.html) library can be used to perform distributed inference on a Dask cluster."
   ]
  },
  {
   "cell_type": "code",
   "execution_count": 7,
   "metadata": {
    "execution": {
     "iopub.execute_input": "2021-04-13T09:44:18.773234Z",
     "iopub.status.busy": "2021-04-13T09:44:18.771981Z",
     "iopub.status.idle": "2021-04-13T09:44:23.177339Z",
     "shell.execute_reply": "2021-04-13T09:44:23.175937Z"
    }
   },
   "outputs": [
    {
     "data": {
      "text/html": [
       "<table style=\"border: 2px solid white;\">\n",
       "<tr>\n",
       "<td style=\"vertical-align: top; border: 0px solid white\">\n",
       "<h3 style=\"text-align: left;\">Client</h3>\n",
       "<ul style=\"text-align: left; list-style: none; margin: 0; padding: 0;\">\n",
       "  <li><b>Scheduler: </b>tcp://127.0.0.1:44048</li>\n",
       "  <li><b>Dashboard: </b><a href='http://127.0.0.1:8787/status' target='_blank'>http://127.0.0.1:8787/status</a></li>\n",
       "</ul>\n",
       "</td>\n",
       "<td style=\"vertical-align: top; border: 0px solid white\">\n",
       "<h3 style=\"text-align: left;\">Cluster</h3>\n",
       "<ul style=\"text-align: left; list-style:none; margin: 0; padding: 0;\">\n",
       "  <li><b>Workers: </b>1</li>\n",
       "  <li><b>Cores: </b>1</li>\n",
       "  <li><b>Memory: </b>251.80 GiB</li>\n",
       "</ul>\n",
       "</td>\n",
       "</tr>\n",
       "</table>"
      ],
      "text/plain": [
       "<Client: 'tcp://127.0.0.1:44048' processes=1 threads=1, memory=251.80 GiB>"
      ]
     },
     "execution_count": 1,
     "metadata": {},
     "output_type": "execute_result"
    }
   ],
   "source": [
    "from dask.distributed import Client\n",
    "from dask_cuda import LocalCUDACluster\n",
    "\n",
    "cluster = LocalCUDACluster()\n",
    "client = Client(cluster)\n",
    "client"
   ]
  },
  {
   "cell_type": "code",
   "execution_count": 8,
   "metadata": {
    "execution": {
     "iopub.execute_input": "2021-04-13T09:44:23.193155Z",
     "iopub.status.busy": "2021-04-13T09:44:23.191570Z",
     "iopub.status.idle": "2021-04-13T09:44:23.679424Z",
     "shell.execute_reply": "2021-04-13T09:44:23.680771Z"
    }
   },
   "outputs": [],
   "source": [
    "from cuml.dask.datasets import make_blobs\n",
    "\n",
    "n_workers = len(client.scheduler_info()[\"workers\"].keys())\n",
    "\n",
    "X, y = make_blobs(n_samples=5000, \n",
    "                  n_features=30,\n",
    "                  centers=5, \n",
    "                  cluster_std=0.4, \n",
    "                  random_state=0,\n",
    "                  n_parts=n_workers*5)\n",
    "\n",
    "X = X.persist()\n",
    "y = y.persist()"
   ]
  },
  {
   "cell_type": "code",
   "execution_count": 9,
   "metadata": {
    "execution": {
     "iopub.execute_input": "2021-04-13T09:44:23.692571Z",
     "iopub.status.busy": "2021-04-13T09:44:23.688441Z",
     "iopub.status.idle": "2021-04-13T09:44:23.714138Z",
     "shell.execute_reply": "2021-04-13T09:44:23.715277Z"
    }
   },
   "outputs": [],
   "source": [
    "from cuml.dask.cluster import KMeans\n",
    "\n",
    "dist_model = KMeans(n_clusters=5)"
   ]
  },
  {
   "cell_type": "code",
   "execution_count": 10,
   "metadata": {
    "execution": {
     "iopub.execute_input": "2021-04-13T09:44:23.726091Z",
     "iopub.status.busy": "2021-04-13T09:44:23.724673Z",
     "iopub.status.idle": "2021-04-13T09:44:26.426480Z",
     "shell.execute_reply": "2021-04-13T09:44:26.427877Z"
    }
   },
   "outputs": [
    {
     "data": {
      "text/plain": [
       "<cuml.dask.cluster.kmeans.KMeans at 0x7fe7507a0950>"
      ]
     },
     "execution_count": 1,
     "metadata": {},
     "output_type": "execute_result"
    }
   ],
   "source": [
    "dist_model.fit(X)"
   ]
  },
  {
   "cell_type": "code",
   "execution_count": 11,
   "metadata": {
    "execution": {
     "iopub.execute_input": "2021-04-13T09:44:26.448780Z",
     "iopub.status.busy": "2021-04-13T09:44:26.447178Z",
     "iopub.status.idle": "2021-04-13T09:44:26.462480Z",
     "shell.execute_reply": "2021-04-13T09:44:26.463654Z"
    }
   },
   "outputs": [],
   "source": [
    "import pickle\n",
    "\n",
    "single_gpu_model = dist_model.get_combined_model()\n",
    "pickle.dump(single_gpu_model, open(\"kmeans_model.pkl\", \"wb\"))"
   ]
  },
  {
   "cell_type": "code",
   "execution_count": 12,
   "metadata": {
    "execution": {
     "iopub.execute_input": "2021-04-13T09:44:26.472495Z",
     "iopub.status.busy": "2021-04-13T09:44:26.470969Z",
     "iopub.status.idle": "2021-04-13T09:44:26.477133Z",
     "shell.execute_reply": "2021-04-13T09:44:26.475676Z"
    }
   },
   "outputs": [],
   "source": [
    "single_gpu_model = pickle.load(open(\"kmeans_model.pkl\", \"rb\"))"
   ]
  },
  {
   "cell_type": "code",
   "execution_count": 13,
   "metadata": {
    "execution": {
     "iopub.execute_input": "2021-04-13T09:44:26.491171Z",
     "iopub.status.busy": "2021-04-13T09:44:26.489675Z",
     "iopub.status.idle": "2021-04-13T09:44:26.494845Z",
     "shell.execute_reply": "2021-04-13T09:44:26.496039Z"
    }
   },
   "outputs": [
    {
     "data": {
      "text/plain": [
       "array([[ 4.8098736 ,  8.422671  , -9.239024  ,  9.379146  ,  8.499883  ,\n",
       "        -1.0592818 ,  3.3437867 , -7.802613  , -0.5946331 ,  0.26447597,\n",
       "         5.507395  , -4.1069803 ,  4.2890773 , -2.817205  ,  3.615015  ,\n",
       "        -4.1612997 , -3.6209638 ,  6.2185287 , -6.946047  , -1.0828305 ,\n",
       "        -5.8267717 ,  2.225876  , -3.8601224 , -1.6974077 , -5.313416  ,\n",
       "         7.579578  ,  2.9187477 ,  8.540423  ,  1.5523204 ,  1.0841813 ],\n",
       "       [-2.8941853 ,  4.4741883 , -4.447566  ,  2.3820994 ,  1.7478832 ,\n",
       "        -2.5046248 , -5.2083306 , -1.6937685 , -8.134754  ,  2.6468306 ,\n",
       "        -4.3163633 ,  5.5655394 , -5.732199  , -1.7384956 , -9.344656  ,\n",
       "         0.70846593,  4.435839  , -2.9008994 , -4.948641  ,  9.695302  ,\n",
       "         8.366521  , -6.2474537 , -6.3494735 ,  1.9546977 ,  4.1576157 ,\n",
       "        -9.167906  ,  4.6070685 ,  8.788585  ,  6.8644238 ,  2.2319877 ],\n",
       "       [-4.6657143 , -9.558953  ,  6.6572285 ,  4.4401307 ,  2.1730297 ,\n",
       "         2.5904047 ,  0.58001   ,  6.255036  , -8.829283  , -0.41399658,\n",
       "         9.83105   ,  7.589734  ,  9.975546  , -5.856176  , -1.2414306 ,\n",
       "        -2.5572665 , -1.0441561 , -5.24611   , -9.31147   ,  4.6366067 ,\n",
       "        -0.11776033, -3.929529  ,  6.207368  , -7.399015  ,  5.6740923 ,\n",
       "        -8.5402975 , -7.518653  , -5.530123  ,  4.8341312 ,  2.5691679 ],\n",
       "       [-6.9581094 , -9.760794  , -6.5506086 , -0.41965032,  6.0687675 ,\n",
       "         3.7602887 , -3.975134  ,  6.149338  , -1.8729936 ,  5.0252733 ,\n",
       "        -6.8341002 ,  1.3383291 ,  9.0016775 , -0.9864836 ,  9.654017  ,\n",
       "         9.790739  , -8.618676  ,  5.995578  ,  2.2099125 , -3.6309097 ,\n",
       "         7.0714087 , -7.394623  , -5.299635  , -6.973705  , -7.908465  ,\n",
       "         6.681064  , -5.5756392 ,  7.1313105 ,  6.599619  , -8.309574  ],\n",
       "       [ 6.261752  ,  9.22877   ,  8.358132  ,  9.017298  ,  7.704468  ,\n",
       "        -1.0047104 , -6.245766  ,  1.395172  , -6.97618   , -5.9480596 ,\n",
       "         1.0575899 , -0.01074278,  2.8210256 ,  1.8389364 , -8.247101  ,\n",
       "         3.0498962 , -8.48324   ,  9.721641  , -7.7502723 ,  3.465596  ,\n",
       "        -3.9312139 , -4.096515  ,  2.658698  ,  1.2832465 ,  1.0177819 ,\n",
       "         5.257111  , -1.644438  ,  6.1383233 , -6.884053  , -9.66309   ]],\n",
       "      dtype=float32)"
      ]
     },
     "execution_count": 1,
     "metadata": {},
     "output_type": "execute_result"
    }
   ],
   "source": [
    "single_gpu_model.cluster_centers_"
   ]
  }
 ],
 "metadata": {
  "kernelspec": {
   "display_name": "Python 3",
   "language": "python",
   "name": "python3"
  },
  "language_info": {
   "codemirror_mode": {
    "name": "ipython",
    "version": 3
   },
   "file_extension": ".py",
   "mimetype": "text/x-python",
   "name": "python",
   "nbconvert_exporter": "python",
   "pygments_lexer": "ipython3",
   "version": "3.7.10"
  }
 },
 "nbformat": 4,
 "nbformat_minor": 4
}
