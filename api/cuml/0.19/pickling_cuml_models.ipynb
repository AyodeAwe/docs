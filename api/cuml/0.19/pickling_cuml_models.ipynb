{
 "cells": [
  {
   "cell_type": "markdown",
   "metadata": {},
   "source": [
    "# Pickling cuML Models for Persistence\n",
    "\n",
    "This notebook demonstrates simple pickling of both single-GPU and multi-GPU cuML models for persistence"
   ]
  },
  {
   "cell_type": "code",
   "execution_count": 1,
   "metadata": {
    "execution": {
     "iopub.execute_input": "2021-04-01T15:43:02.050888Z",
     "iopub.status.busy": "2021-04-01T15:43:02.049361Z",
     "iopub.status.idle": "2021-04-01T15:43:02.054173Z",
     "shell.execute_reply": "2021-04-01T15:43:02.052857Z"
    }
   },
   "outputs": [],
   "source": [
    "import warnings\n",
    "warnings.filterwarnings(\"ignore\", category=FutureWarning)"
   ]
  },
  {
   "cell_type": "markdown",
   "metadata": {},
   "source": [
    "## Single GPU Model Pickling\n",
    "\n",
    "All single-GPU estimators are pickleable. The following example demonstrates the creation of a synthetic dataset, training, and pickling of the resulting model for storage. Trained single-GPU models can also be used to distribute the inference on a Dask cluster, which the `Distributed Model Pickling` section below demonstrates."
   ]
  },
  {
   "cell_type": "code",
   "execution_count": 2,
   "metadata": {
    "execution": {
     "iopub.execute_input": "2021-04-01T15:43:02.063568Z",
     "iopub.status.busy": "2021-04-01T15:43:02.062284Z",
     "iopub.status.idle": "2021-04-01T15:43:07.850853Z",
     "shell.execute_reply": "2021-04-01T15:43:07.849731Z"
    }
   },
   "outputs": [],
   "source": [
    "from cuml.datasets import make_blobs\n",
    "\n",
    "X, y = make_blobs(n_samples=50,\n",
    "                  n_features=10,\n",
    "                  centers=5,\n",
    "                  cluster_std=0.4,\n",
    "                  random_state=0)"
   ]
  },
  {
   "cell_type": "code",
   "execution_count": 3,
   "metadata": {
    "execution": {
     "iopub.execute_input": "2021-04-01T15:43:07.859016Z",
     "iopub.status.busy": "2021-04-01T15:43:07.857551Z",
     "iopub.status.idle": "2021-04-01T15:43:08.152324Z",
     "shell.execute_reply": "2021-04-01T15:43:08.154136Z"
    }
   },
   "outputs": [
    {
     "data": {
      "text/plain": [
       "KMeans(handle=<cuml.raft.common.handle.Handle object at 0x7fd0d8494f70>, n_clusters=5, max_iter=300, tol=0.0001, verbose=4, random_state=1, init='scalable-k-means++', n_init=1, oversampling_factor=2.0, max_samples_per_batch=32768, output_type='input')"
      ]
     },
     "execution_count": 1,
     "metadata": {},
     "output_type": "execute_result"
    }
   ],
   "source": [
    "from cuml.cluster import KMeans\n",
    "\n",
    "model = KMeans(n_clusters=5)\n",
    "\n",
    "model.fit(X)"
   ]
  },
  {
   "cell_type": "code",
   "execution_count": 4,
   "metadata": {
    "execution": {
     "iopub.execute_input": "2021-04-01T15:43:08.161499Z",
     "iopub.status.busy": "2021-04-01T15:43:08.160028Z",
     "iopub.status.idle": "2021-04-01T15:43:08.164360Z",
     "shell.execute_reply": "2021-04-01T15:43:08.163171Z"
    }
   },
   "outputs": [],
   "source": [
    "import pickle\n",
    "\n",
    "pickle.dump(model, open(\"kmeans_model.pkl\", \"wb\"))"
   ]
  },
  {
   "cell_type": "code",
   "execution_count": 5,
   "metadata": {
    "execution": {
     "iopub.execute_input": "2021-04-01T15:43:08.170706Z",
     "iopub.status.busy": "2021-04-01T15:43:08.169372Z",
     "iopub.status.idle": "2021-04-01T15:43:08.172643Z",
     "shell.execute_reply": "2021-04-01T15:43:08.173702Z"
    }
   },
   "outputs": [],
   "source": [
    "model = pickle.load(open(\"kmeans_model.pkl\", \"rb\"))"
   ]
  },
  {
   "cell_type": "code",
   "execution_count": 6,
   "metadata": {
    "execution": {
     "iopub.execute_input": "2021-04-01T15:43:08.180847Z",
     "iopub.status.busy": "2021-04-01T15:43:08.179603Z",
     "iopub.status.idle": "2021-04-01T15:43:08.184246Z",
     "shell.execute_reply": "2021-04-01T15:43:08.185278Z"
    }
   },
   "outputs": [
    {
     "data": {
      "text/plain": [
       "array([[-5.7684636 ,  2.3276033 , -3.7457774 , -1.8541754 , -5.169583  ,\n",
       "         7.667088  ,  2.7118316 ,  8.495609  ,  1.7038484 ,  1.1884269 ],\n",
       "       [ 4.6476874 ,  8.377879  , -9.070581  ,  9.459332  ,  8.450423  ,\n",
       "        -1.0210547 ,  3.3920872 , -7.8629856 , -0.75276613,  0.48384118],\n",
       "       [-2.9414442 ,  4.6401715 , -4.5027533 ,  2.2855108 ,  1.644645  ,\n",
       "        -2.4937892 , -5.2241607 , -1.5499196 , -8.063638  ,  2.816936  ],\n",
       "       [-4.271077  ,  5.561165  , -5.6640916 , -1.8229512 , -9.2925    ,\n",
       "         0.73028314,  4.4586773 , -2.8876226 , -5.1257744 ,  9.694357  ],\n",
       "       [ 5.583742  , -4.1515303 ,  4.369667  , -3.00205   ,  3.6388965 ,\n",
       "        -4.3419113 , -3.318711  ,  6.503671  , -6.865036  , -1.0266498 ]],\n",
       "      dtype=float32)"
      ]
     },
     "execution_count": 1,
     "metadata": {},
     "output_type": "execute_result"
    }
   ],
   "source": [
    "model.cluster_centers_"
   ]
  },
  {
   "cell_type": "markdown",
   "metadata": {},
   "source": [
    "## Distributed Model Pickling"
   ]
  },
  {
   "cell_type": "markdown",
   "metadata": {},
   "source": [
    "The distributed estimator wrappers inside of the `cuml.dask` are not intended to be pickled directly. The Dask cuML estimators provide a function `get_combined_model()`, which returns the trained single-GPU model for pickling. The combined model can be used for inference on a single-GPU, and the `ParallelPostFit` wrapper from the [Dask-ML](https://ml.dask.org/meta-estimators.html) library can be used to perform distributed inference on a Dask cluster."
   ]
  },
  {
   "cell_type": "code",
   "execution_count": 7,
   "metadata": {
    "execution": {
     "iopub.execute_input": "2021-04-01T15:43:08.191454Z",
     "iopub.status.busy": "2021-04-01T15:43:08.190256Z",
     "iopub.status.idle": "2021-04-01T15:43:12.600894Z",
     "shell.execute_reply": "2021-04-01T15:43:12.602108Z"
    }
   },
   "outputs": [
    {
     "data": {
      "text/html": [
       "<table style=\"border: 2px solid white;\">\n",
       "<tr>\n",
       "<td style=\"vertical-align: top; border: 0px solid white\">\n",
       "<h3 style=\"text-align: left;\">Client</h3>\n",
       "<ul style=\"text-align: left; list-style: none; margin: 0; padding: 0;\">\n",
       "  <li><b>Scheduler: </b>tcp://127.0.0.1:34238</li>\n",
       "  <li><b>Dashboard: </b><a href='http://127.0.0.1:8787/status' target='_blank'>http://127.0.0.1:8787/status</a></li>\n",
       "</ul>\n",
       "</td>\n",
       "<td style=\"vertical-align: top; border: 0px solid white\">\n",
       "<h3 style=\"text-align: left;\">Cluster</h3>\n",
       "<ul style=\"text-align: left; list-style:none; margin: 0; padding: 0;\">\n",
       "  <li><b>Workers: </b>1</li>\n",
       "  <li><b>Cores: </b>1</li>\n",
       "  <li><b>Memory: </b>540.96 GB</li>\n",
       "</ul>\n",
       "</td>\n",
       "</tr>\n",
       "</table>"
      ],
      "text/plain": [
       "<Client: 'tcp://127.0.0.1:34238' processes=1 threads=1, memory=540.96 GB>"
      ]
     },
     "execution_count": 1,
     "metadata": {},
     "output_type": "execute_result"
    }
   ],
   "source": [
    "from dask.distributed import Client\n",
    "from dask_cuda import LocalCUDACluster\n",
    "\n",
    "cluster = LocalCUDACluster()\n",
    "client = Client(cluster)\n",
    "client"
   ]
  },
  {
   "cell_type": "code",
   "execution_count": 8,
   "metadata": {
    "execution": {
     "iopub.execute_input": "2021-04-01T15:43:12.614399Z",
     "iopub.status.busy": "2021-04-01T15:43:12.612108Z",
     "iopub.status.idle": "2021-04-01T15:43:13.087095Z",
     "shell.execute_reply": "2021-04-01T15:43:13.085874Z"
    }
   },
   "outputs": [],
   "source": [
    "from cuml.dask.datasets import make_blobs\n",
    "\n",
    "n_workers = len(client.scheduler_info()[\"workers\"].keys())\n",
    "\n",
    "X, y = make_blobs(n_samples=5000, \n",
    "                  n_features=30,\n",
    "                  centers=5, \n",
    "                  cluster_std=0.4, \n",
    "                  random_state=0,\n",
    "                  n_parts=n_workers*5)\n",
    "\n",
    "X = X.persist()\n",
    "y = y.persist()"
   ]
  },
  {
   "cell_type": "code",
   "execution_count": 9,
   "metadata": {
    "execution": {
     "iopub.execute_input": "2021-04-01T15:43:13.095289Z",
     "iopub.status.busy": "2021-04-01T15:43:13.093840Z",
     "iopub.status.idle": "2021-04-01T15:43:13.116608Z",
     "shell.execute_reply": "2021-04-01T15:43:13.117742Z"
    }
   },
   "outputs": [],
   "source": [
    "from cuml.dask.cluster import KMeans\n",
    "\n",
    "dist_model = KMeans(n_clusters=5)"
   ]
  },
  {
   "cell_type": "code",
   "execution_count": 10,
   "metadata": {
    "execution": {
     "iopub.execute_input": "2021-04-01T15:43:13.128903Z",
     "iopub.status.busy": "2021-04-01T15:43:13.127428Z",
     "iopub.status.idle": "2021-04-01T15:43:16.785558Z",
     "shell.execute_reply": "2021-04-01T15:43:16.784869Z"
    }
   },
   "outputs": [
    {
     "data": {
      "text/plain": [
       "<cuml.dask.cluster.kmeans.KMeans at 0x7fd08833df10>"
      ]
     },
     "execution_count": 1,
     "metadata": {},
     "output_type": "execute_result"
    }
   ],
   "source": [
    "dist_model.fit(X)"
   ]
  },
  {
   "cell_type": "code",
   "execution_count": 11,
   "metadata": {
    "execution": {
     "iopub.execute_input": "2021-04-01T15:43:16.793988Z",
     "iopub.status.busy": "2021-04-01T15:43:16.792816Z",
     "iopub.status.idle": "2021-04-01T15:43:16.807201Z",
     "shell.execute_reply": "2021-04-01T15:43:16.807789Z"
    }
   },
   "outputs": [],
   "source": [
    "import pickle\n",
    "\n",
    "single_gpu_model = dist_model.get_combined_model()\n",
    "pickle.dump(single_gpu_model, open(\"kmeans_model.pkl\", \"wb\"))"
   ]
  },
  {
   "cell_type": "code",
   "execution_count": 12,
   "metadata": {
    "execution": {
     "iopub.execute_input": "2021-04-01T15:43:16.813437Z",
     "iopub.status.busy": "2021-04-01T15:43:16.812735Z",
     "iopub.status.idle": "2021-04-01T15:43:16.816828Z",
     "shell.execute_reply": "2021-04-01T15:43:16.816229Z"
    }
   },
   "outputs": [],
   "source": [
    "single_gpu_model = pickle.load(open(\"kmeans_model.pkl\", \"rb\"))"
   ]
  },
  {
   "cell_type": "code",
   "execution_count": 13,
   "metadata": {
    "execution": {
     "iopub.execute_input": "2021-04-01T15:43:16.826710Z",
     "iopub.status.busy": "2021-04-01T15:43:16.825991Z",
     "iopub.status.idle": "2021-04-01T15:43:16.830175Z",
     "shell.execute_reply": "2021-04-01T15:43:16.830760Z"
    }
   },
   "outputs": [
    {
     "data": {
      "text/plain": [
       "array([[ 4.809875  ,  8.422671  , -9.239023  ,  9.379141  ,  8.499882  ,\n",
       "        -1.059282  ,  3.3437858 , -7.802612  , -0.5946332 ,  0.26447594,\n",
       "         5.5073953 , -4.1069803 ,  4.2890778 , -2.817205  ,  3.615015  ,\n",
       "        -4.1613    , -3.620964  ,  6.218529  , -6.946047  , -1.0828305 ,\n",
       "        -5.8267694 ,  2.2258763 , -3.8601213 , -1.6974076 , -5.313418  ,\n",
       "         7.579578  ,  2.9187474 ,  8.540423  ,  1.5523206 ,  1.0841805 ],\n",
       "       [-2.8941855 ,  4.4741907 , -4.4475665 ,  2.3820987 ,  1.747883  ,\n",
       "        -2.5046248 , -5.20833   , -1.6937686 , -8.134755  ,  2.6468294 ,\n",
       "        -4.316362  ,  5.5655394 , -5.7321987 , -1.7384951 , -9.344657  ,\n",
       "         0.70846575,  4.4358397 , -2.9009    , -4.948638  ,  9.695301  ,\n",
       "         8.366521  , -6.247453  , -6.3494725 ,  1.9546973 ,  4.157616  ,\n",
       "        -9.167902  ,  4.607068  ,  8.788585  ,  6.864423  ,  2.2319882 ],\n",
       "       [-4.665713  , -9.558956  ,  6.657229  ,  4.440131  ,  2.1730304 ,\n",
       "         2.590403  ,  0.58000994,  6.255035  , -8.829285  , -0.4139966 ,\n",
       "         9.831051  ,  7.5897346 ,  9.975543  , -5.856175  , -1.2414308 ,\n",
       "        -2.5572667 , -1.0441563 , -5.24611   , -9.311468  ,  4.636607  ,\n",
       "        -0.1177603 , -3.929529  ,  6.2073665 , -7.3990135 ,  5.6740923 ,\n",
       "        -8.5403    , -7.5186524 , -5.530121  ,  4.8341303 ,  2.5691679 ],\n",
       "       [-6.9581084 , -9.760796  , -6.5506096 , -0.41965044,  6.0687685 ,\n",
       "         3.7602885 , -3.9751325 ,  6.149339  , -1.8729935 ,  5.025274  ,\n",
       "        -6.8340993 ,  1.3383294 ,  9.0016775 , -0.9864835 ,  9.654021  ,\n",
       "         9.790738  , -8.618676  ,  5.995579  ,  2.2099135 , -3.63091   ,\n",
       "         7.0714087 , -7.3946223 , -5.2996335 , -6.9737053 , -7.908465  ,\n",
       "         6.681064  , -5.575639  ,  7.1313105 ,  6.599618  , -8.309575  ],\n",
       "       [ 6.2617536 ,  9.22877   ,  8.35813   ,  9.017297  ,  7.7044663 ,\n",
       "        -1.0047106 , -6.2457666 ,  1.3951722 , -6.976181  , -5.94806   ,\n",
       "         1.0575897 , -0.0107428 ,  2.8210258 ,  1.8389362 , -8.247101  ,\n",
       "         3.049896  , -8.483243  ,  9.721642  , -7.7502723 ,  3.465596  ,\n",
       "        -3.9312134 , -4.0965166 ,  2.658699  ,  1.283246  ,  1.0177819 ,\n",
       "         5.257111  , -1.6444379 ,  6.138321  , -6.8840537 , -9.663093  ]],\n",
       "      dtype=float32)"
      ]
     },
     "execution_count": 1,
     "metadata": {},
     "output_type": "execute_result"
    }
   ],
   "source": [
    "single_gpu_model.cluster_centers_"
   ]
  }
 ],
 "metadata": {
  "kernelspec": {
   "display_name": "Python 3",
   "language": "python",
   "name": "python3"
  },
  "language_info": {
   "codemirror_mode": {
    "name": "ipython",
    "version": 3
   },
   "file_extension": ".py",
   "mimetype": "text/x-python",
   "name": "python",
   "nbconvert_exporter": "python",
   "pygments_lexer": "ipython3",
   "version": "3.7.10"
  }
 },
 "nbformat": 4,
 "nbformat_minor": 4
}
