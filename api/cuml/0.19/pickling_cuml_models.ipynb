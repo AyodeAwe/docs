{
 "cells": [
  {
   "cell_type": "markdown",
   "metadata": {},
   "source": [
    "# Pickling cuML Models for Persistence\n",
    "\n",
    "This notebook demonstrates simple pickling of both single-GPU and multi-GPU cuML models for persistence"
   ]
  },
  {
   "cell_type": "code",
   "execution_count": 1,
   "metadata": {
    "execution": {
     "iopub.execute_input": "2021-04-08T09:45:43.700013Z",
     "iopub.status.busy": "2021-04-08T09:45:43.698685Z",
     "iopub.status.idle": "2021-04-08T09:45:43.704066Z",
     "shell.execute_reply": "2021-04-08T09:45:43.702454Z"
    }
   },
   "outputs": [],
   "source": [
    "import warnings\n",
    "warnings.filterwarnings(\"ignore\", category=FutureWarning)"
   ]
  },
  {
   "cell_type": "markdown",
   "metadata": {},
   "source": [
    "## Single GPU Model Pickling\n",
    "\n",
    "All single-GPU estimators are pickleable. The following example demonstrates the creation of a synthetic dataset, training, and pickling of the resulting model for storage. Trained single-GPU models can also be used to distribute the inference on a Dask cluster, which the `Distributed Model Pickling` section below demonstrates."
   ]
  },
  {
   "cell_type": "code",
   "execution_count": 2,
   "metadata": {
    "execution": {
     "iopub.execute_input": "2021-04-08T09:45:43.714056Z",
     "iopub.status.busy": "2021-04-08T09:45:43.712471Z",
     "iopub.status.idle": "2021-04-08T09:45:48.747400Z",
     "shell.execute_reply": "2021-04-08T09:45:48.745965Z"
    }
   },
   "outputs": [],
   "source": [
    "from cuml.datasets import make_blobs\n",
    "\n",
    "X, y = make_blobs(n_samples=50,\n",
    "                  n_features=10,\n",
    "                  centers=5,\n",
    "                  cluster_std=0.4,\n",
    "                  random_state=0)"
   ]
  },
  {
   "cell_type": "code",
   "execution_count": 3,
   "metadata": {
    "execution": {
     "iopub.execute_input": "2021-04-08T09:45:48.756613Z",
     "iopub.status.busy": "2021-04-08T09:45:48.755065Z",
     "iopub.status.idle": "2021-04-08T09:45:49.027992Z",
     "shell.execute_reply": "2021-04-08T09:45:49.029247Z"
    }
   },
   "outputs": [
    {
     "data": {
      "text/plain": [
       "KMeans()"
      ]
     },
     "execution_count": 1,
     "metadata": {},
     "output_type": "execute_result"
    }
   ],
   "source": [
    "from cuml.cluster import KMeans\n",
    "\n",
    "model = KMeans(n_clusters=5)\n",
    "\n",
    "model.fit(X)"
   ]
  },
  {
   "cell_type": "code",
   "execution_count": 4,
   "metadata": {
    "execution": {
     "iopub.execute_input": "2021-04-08T09:45:49.035855Z",
     "iopub.status.busy": "2021-04-08T09:45:49.034335Z",
     "iopub.status.idle": "2021-04-08T09:45:49.038635Z",
     "shell.execute_reply": "2021-04-08T09:45:49.037417Z"
    }
   },
   "outputs": [],
   "source": [
    "import pickle\n",
    "\n",
    "pickle.dump(model, open(\"kmeans_model.pkl\", \"wb\"))"
   ]
  },
  {
   "cell_type": "code",
   "execution_count": 5,
   "metadata": {
    "execution": {
     "iopub.execute_input": "2021-04-08T09:45:49.045120Z",
     "iopub.status.busy": "2021-04-08T09:45:49.043728Z",
     "iopub.status.idle": "2021-04-08T09:45:49.046734Z",
     "shell.execute_reply": "2021-04-08T09:45:49.047883Z"
    }
   },
   "outputs": [],
   "source": [
    "model = pickle.load(open(\"kmeans_model.pkl\", \"rb\"))"
   ]
  },
  {
   "cell_type": "code",
   "execution_count": 6,
   "metadata": {
    "execution": {
     "iopub.execute_input": "2021-04-08T09:45:49.055273Z",
     "iopub.status.busy": "2021-04-08T09:45:49.053903Z",
     "iopub.status.idle": "2021-04-08T09:45:49.060582Z",
     "shell.execute_reply": "2021-04-08T09:45:49.058824Z"
    }
   },
   "outputs": [
    {
     "data": {
      "text/plain": [
       "array([[-5.7684636 ,  2.3276033 , -3.7457771 , -1.8541754 , -5.1695833 ,\n",
       "         7.667088  ,  2.7118318 ,  8.495609  ,  1.7038484 ,  1.1884269 ],\n",
       "       [ 4.647688  ,  8.37788   , -9.0705805 ,  9.459332  ,  8.450422  ,\n",
       "        -1.0210547 ,  3.3920872 , -7.8629856 , -0.75276613,  0.48384127],\n",
       "       [-2.9414437 ,  4.6401706 , -4.5027533 ,  2.2855108 ,  1.644645  ,\n",
       "        -2.4937892 , -5.2241607 , -1.5499196 , -8.063638  ,  2.816936  ],\n",
       "       [-4.2710767 ,  5.5611653 , -5.6640916 , -1.8229512 , -9.2925    ,\n",
       "         0.73028314,  4.4586773 , -2.8876226 , -5.1257744 ,  9.694357  ],\n",
       "       [ 5.583742  , -4.1515303 ,  4.369667  , -3.0020504 ,  3.6388965 ,\n",
       "        -4.3419113 , -3.318711  ,  6.503671  , -6.865036  , -1.0266497 ]],\n",
       "      dtype=float32)"
      ]
     },
     "execution_count": 1,
     "metadata": {},
     "output_type": "execute_result"
    }
   ],
   "source": [
    "model.cluster_centers_"
   ]
  },
  {
   "cell_type": "markdown",
   "metadata": {},
   "source": [
    "## Distributed Model Pickling"
   ]
  },
  {
   "cell_type": "markdown",
   "metadata": {},
   "source": [
    "The distributed estimator wrappers inside of the `cuml.dask` are not intended to be pickled directly. The Dask cuML estimators provide a function `get_combined_model()`, which returns the trained single-GPU model for pickling. The combined model can be used for inference on a single-GPU, and the `ParallelPostFit` wrapper from the [Dask-ML](https://ml.dask.org/meta-estimators.html) library can be used to perform distributed inference on a Dask cluster."
   ]
  },
  {
   "cell_type": "code",
   "execution_count": 7,
   "metadata": {
    "execution": {
     "iopub.execute_input": "2021-04-08T09:45:49.067843Z",
     "iopub.status.busy": "2021-04-08T09:45:49.066448Z",
     "iopub.status.idle": "2021-04-08T09:45:53.318589Z",
     "shell.execute_reply": "2021-04-08T09:45:53.319897Z"
    }
   },
   "outputs": [
    {
     "data": {
      "text/html": [
       "<table style=\"border: 2px solid white;\">\n",
       "<tr>\n",
       "<td style=\"vertical-align: top; border: 0px solid white\">\n",
       "<h3 style=\"text-align: left;\">Client</h3>\n",
       "<ul style=\"text-align: left; list-style: none; margin: 0; padding: 0;\">\n",
       "  <li><b>Scheduler: </b>tcp://127.0.0.1:38149</li>\n",
       "  <li><b>Dashboard: </b><a href='http://127.0.0.1:8787/status' target='_blank'>http://127.0.0.1:8787/status</a></li>\n",
       "</ul>\n",
       "</td>\n",
       "<td style=\"vertical-align: top; border: 0px solid white\">\n",
       "<h3 style=\"text-align: left;\">Cluster</h3>\n",
       "<ul style=\"text-align: left; list-style:none; margin: 0; padding: 0;\">\n",
       "  <li><b>Workers: </b>1</li>\n",
       "  <li><b>Cores: </b>1</li>\n",
       "  <li><b>Memory: </b>251.80 GiB</li>\n",
       "</ul>\n",
       "</td>\n",
       "</tr>\n",
       "</table>"
      ],
      "text/plain": [
       "<Client: 'tcp://127.0.0.1:38149' processes=1 threads=1, memory=251.80 GiB>"
      ]
     },
     "execution_count": 1,
     "metadata": {},
     "output_type": "execute_result"
    }
   ],
   "source": [
    "from dask.distributed import Client\n",
    "from dask_cuda import LocalCUDACluster\n",
    "\n",
    "cluster = LocalCUDACluster()\n",
    "client = Client(cluster)\n",
    "client"
   ]
  },
  {
   "cell_type": "code",
   "execution_count": 8,
   "metadata": {
    "execution": {
     "iopub.execute_input": "2021-04-08T09:45:53.335052Z",
     "iopub.status.busy": "2021-04-08T09:45:53.333460Z",
     "iopub.status.idle": "2021-04-08T09:45:53.816716Z",
     "shell.execute_reply": "2021-04-08T09:45:53.815582Z"
    }
   },
   "outputs": [],
   "source": [
    "from cuml.dask.datasets import make_blobs\n",
    "\n",
    "n_workers = len(client.scheduler_info()[\"workers\"].keys())\n",
    "\n",
    "X, y = make_blobs(n_samples=5000, \n",
    "                  n_features=30,\n",
    "                  centers=5, \n",
    "                  cluster_std=0.4, \n",
    "                  random_state=0,\n",
    "                  n_parts=n_workers*5)\n",
    "\n",
    "X = X.persist()\n",
    "y = y.persist()"
   ]
  },
  {
   "cell_type": "code",
   "execution_count": 9,
   "metadata": {
    "execution": {
     "iopub.execute_input": "2021-04-08T09:45:53.825915Z",
     "iopub.status.busy": "2021-04-08T09:45:53.824658Z",
     "iopub.status.idle": "2021-04-08T09:45:53.848335Z",
     "shell.execute_reply": "2021-04-08T09:45:53.849374Z"
    }
   },
   "outputs": [],
   "source": [
    "from cuml.dask.cluster import KMeans\n",
    "\n",
    "dist_model = KMeans(n_clusters=5)"
   ]
  },
  {
   "cell_type": "code",
   "execution_count": 10,
   "metadata": {
    "execution": {
     "iopub.execute_input": "2021-04-08T09:45:53.858884Z",
     "iopub.status.busy": "2021-04-08T09:45:53.857558Z",
     "iopub.status.idle": "2021-04-08T09:45:56.459772Z",
     "shell.execute_reply": "2021-04-08T09:45:56.460897Z"
    }
   },
   "outputs": [
    {
     "data": {
      "text/plain": [
       "<cuml.dask.cluster.kmeans.KMeans at 0x7f89bd4c3f90>"
      ]
     },
     "execution_count": 1,
     "metadata": {},
     "output_type": "execute_result"
    }
   ],
   "source": [
    "dist_model.fit(X)"
   ]
  },
  {
   "cell_type": "code",
   "execution_count": 11,
   "metadata": {
    "execution": {
     "iopub.execute_input": "2021-04-08T09:45:56.471357Z",
     "iopub.status.busy": "2021-04-08T09:45:56.469835Z",
     "iopub.status.idle": "2021-04-08T09:45:56.492110Z",
     "shell.execute_reply": "2021-04-08T09:45:56.491270Z"
    }
   },
   "outputs": [],
   "source": [
    "import pickle\n",
    "\n",
    "single_gpu_model = dist_model.get_combined_model()\n",
    "pickle.dump(single_gpu_model, open(\"kmeans_model.pkl\", \"wb\"))"
   ]
  },
  {
   "cell_type": "code",
   "execution_count": 12,
   "metadata": {
    "execution": {
     "iopub.execute_input": "2021-04-08T09:45:56.501619Z",
     "iopub.status.busy": "2021-04-08T09:45:56.500325Z",
     "iopub.status.idle": "2021-04-08T09:45:56.504990Z",
     "shell.execute_reply": "2021-04-08T09:45:56.503901Z"
    }
   },
   "outputs": [],
   "source": [
    "single_gpu_model = pickle.load(open(\"kmeans_model.pkl\", \"rb\"))"
   ]
  },
  {
   "cell_type": "code",
   "execution_count": 13,
   "metadata": {
    "execution": {
     "iopub.execute_input": "2021-04-08T09:45:56.520127Z",
     "iopub.status.busy": "2021-04-08T09:45:56.518940Z",
     "iopub.status.idle": "2021-04-08T09:45:56.524320Z",
     "shell.execute_reply": "2021-04-08T09:45:56.525192Z"
    }
   },
   "outputs": [
    {
     "data": {
      "text/plain": [
       "array([[ 4.809875  ,  8.422671  , -9.239023  ,  9.379142  ,  8.499883  ,\n",
       "        -1.0592821 ,  3.3437853 , -7.8026133 , -0.5946334 ,  0.264476  ,\n",
       "         5.5073953 , -4.106979  ,  4.2890787 , -2.817205  ,  3.6150157 ,\n",
       "        -4.1612997 , -3.620963  ,  6.218531  , -6.9460464 , -1.0828305 ,\n",
       "        -5.8267713 ,  2.2258773 , -3.8601215 , -1.6974076 , -5.313416  ,\n",
       "         7.579577  ,  2.9187481 ,  8.540427  ,  1.5523201 ,  1.0841807 ],\n",
       "       [-2.8941855 ,  4.474188  , -4.447566  ,  2.3820994 ,  1.7478832 ,\n",
       "        -2.5046248 , -5.208329  , -1.6937679 , -8.134757  ,  2.6468298 ,\n",
       "        -4.3163624 ,  5.5655394 , -5.7321997 , -1.7384953 , -9.34465   ,\n",
       "         0.7084658 ,  4.435839  , -2.9009004 , -4.9486394 ,  9.695301  ,\n",
       "         8.366521  , -6.2474546 , -6.349472  ,  1.9546975 ,  4.1576157 ,\n",
       "        -9.167905  ,  4.6070676 ,  8.788581  ,  6.8644238 ,  2.2319865 ],\n",
       "       [-4.6657143 , -9.558952  ,  6.6572275 ,  4.440131  ,  2.1730297 ,\n",
       "         2.5904038 ,  0.58000994,  6.255038  , -8.829285  , -0.4139966 ,\n",
       "         9.83105   ,  7.589736  ,  9.975546  , -5.856175  , -1.2414303 ,\n",
       "        -2.5572674 , -1.0441566 , -5.2461114 , -9.311465  ,  4.6366043 ,\n",
       "        -0.11776034, -3.9295297 ,  6.2073674 , -7.399014  ,  5.674091  ,\n",
       "        -8.540299  , -7.518653  , -5.5301223 ,  4.834131  ,  2.5691674 ],\n",
       "       [-6.9581094 , -9.760797  , -6.5506096 , -0.41965044,  6.0687685 ,\n",
       "         3.7602897 , -3.975132  ,  6.1493373 , -1.8729931 ,  5.0252733 ,\n",
       "        -6.8340993 ,  1.3383297 ,  9.001675  , -0.98648345,  9.654021  ,\n",
       "         9.79074   , -8.618673  ,  5.9955792 ,  2.2099142 , -3.6309087 ,\n",
       "         7.0714083 , -7.3946223 , -5.2996335 , -6.9737062 , -7.908464  ,\n",
       "         6.6810646 , -5.575639  ,  7.1313095 ,  6.5996175 , -8.309572  ],\n",
       "       [ 6.2617536 ,  9.2287655 ,  8.35813   ,  9.017302  ,  7.704466  ,\n",
       "        -1.0047108 , -6.2457657 ,  1.3951718 , -6.976182  , -5.9480586 ,\n",
       "         1.0575895 , -0.01074279,  2.8210254 ,  1.8389363 , -8.247102  ,\n",
       "         3.0498962 , -8.483242  ,  9.7216425 , -7.7502728 ,  3.465596  ,\n",
       "        -3.9312134 , -4.0965157 ,  2.6586983 ,  1.2832459 ,  1.017782  ,\n",
       "         5.25711   , -1.644438  ,  6.1383224 , -6.8840528 , -9.663096  ]],\n",
       "      dtype=float32)"
      ]
     },
     "execution_count": 1,
     "metadata": {},
     "output_type": "execute_result"
    }
   ],
   "source": [
    "single_gpu_model.cluster_centers_"
   ]
  }
 ],
 "metadata": {
  "kernelspec": {
   "display_name": "Python 3",
   "language": "python",
   "name": "python3"
  },
  "language_info": {
   "codemirror_mode": {
    "name": "ipython",
    "version": 3
   },
   "file_extension": ".py",
   "mimetype": "text/x-python",
   "name": "python",
   "nbconvert_exporter": "python",
   "pygments_lexer": "ipython3",
   "version": "3.7.10"
  }
 },
 "nbformat": 4,
 "nbformat_minor": 4
}
