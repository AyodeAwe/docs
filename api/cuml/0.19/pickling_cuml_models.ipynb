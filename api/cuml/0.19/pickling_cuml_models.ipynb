{
 "cells": [
  {
   "cell_type": "markdown",
   "metadata": {},
   "source": [
    "# Pickling cuML Models for Persistence\n",
    "\n",
    "This notebook demonstrates simple pickling of both single-GPU and multi-GPU cuML models for persistence"
   ]
  },
  {
   "cell_type": "code",
   "execution_count": 1,
   "metadata": {
    "execution": {
     "iopub.execute_input": "2021-04-07T09:43:32.255582Z",
     "iopub.status.busy": "2021-04-07T09:43:32.253952Z",
     "iopub.status.idle": "2021-04-07T09:43:32.259073Z",
     "shell.execute_reply": "2021-04-07T09:43:32.257573Z"
    }
   },
   "outputs": [],
   "source": [
    "import warnings\n",
    "warnings.filterwarnings(\"ignore\", category=FutureWarning)"
   ]
  },
  {
   "cell_type": "markdown",
   "metadata": {},
   "source": [
    "## Single GPU Model Pickling\n",
    "\n",
    "All single-GPU estimators are pickleable. The following example demonstrates the creation of a synthetic dataset, training, and pickling of the resulting model for storage. Trained single-GPU models can also be used to distribute the inference on a Dask cluster, which the `Distributed Model Pickling` section below demonstrates."
   ]
  },
  {
   "cell_type": "code",
   "execution_count": 2,
   "metadata": {
    "execution": {
     "iopub.execute_input": "2021-04-07T09:43:32.269011Z",
     "iopub.status.busy": "2021-04-07T09:43:32.267506Z",
     "iopub.status.idle": "2021-04-07T09:43:36.939861Z",
     "shell.execute_reply": "2021-04-07T09:43:36.941078Z"
    }
   },
   "outputs": [],
   "source": [
    "from cuml.datasets import make_blobs\n",
    "\n",
    "X, y = make_blobs(n_samples=50,\n",
    "                  n_features=10,\n",
    "                  centers=5,\n",
    "                  cluster_std=0.4,\n",
    "                  random_state=0)"
   ]
  },
  {
   "cell_type": "code",
   "execution_count": 3,
   "metadata": {
    "execution": {
     "iopub.execute_input": "2021-04-07T09:43:36.950113Z",
     "iopub.status.busy": "2021-04-07T09:43:36.948615Z",
     "iopub.status.idle": "2021-04-07T09:43:37.377164Z",
     "shell.execute_reply": "2021-04-07T09:43:37.378750Z"
    }
   },
   "outputs": [
    {
     "data": {
      "text/plain": [
       "KMeans()"
      ]
     },
     "execution_count": 1,
     "metadata": {},
     "output_type": "execute_result"
    }
   ],
   "source": [
    "from cuml.cluster import KMeans\n",
    "\n",
    "model = KMeans(n_clusters=5)\n",
    "\n",
    "model.fit(X)"
   ]
  },
  {
   "cell_type": "code",
   "execution_count": 4,
   "metadata": {
    "execution": {
     "iopub.execute_input": "2021-04-07T09:43:37.386521Z",
     "iopub.status.busy": "2021-04-07T09:43:37.385106Z",
     "iopub.status.idle": "2021-04-07T09:43:37.389452Z",
     "shell.execute_reply": "2021-04-07T09:43:37.390662Z"
    }
   },
   "outputs": [],
   "source": [
    "import pickle\n",
    "\n",
    "pickle.dump(model, open(\"kmeans_model.pkl\", \"wb\"))"
   ]
  },
  {
   "cell_type": "code",
   "execution_count": 5,
   "metadata": {
    "execution": {
     "iopub.execute_input": "2021-04-07T09:43:37.397942Z",
     "iopub.status.busy": "2021-04-07T09:43:37.396441Z",
     "iopub.status.idle": "2021-04-07T09:43:37.401795Z",
     "shell.execute_reply": "2021-04-07T09:43:37.400604Z"
    }
   },
   "outputs": [],
   "source": [
    "model = pickle.load(open(\"kmeans_model.pkl\", \"rb\"))"
   ]
  },
  {
   "cell_type": "code",
   "execution_count": 6,
   "metadata": {
    "execution": {
     "iopub.execute_input": "2021-04-07T09:43:37.412978Z",
     "iopub.status.busy": "2021-04-07T09:43:37.411543Z",
     "iopub.status.idle": "2021-04-07T09:43:37.416784Z",
     "shell.execute_reply": "2021-04-07T09:43:37.417948Z"
    }
   },
   "outputs": [
    {
     "data": {
      "text/plain": [
       "array([[-5.768463  ,  2.3276033 , -3.7457774 , -1.8541754 , -5.169583  ,\n",
       "         7.667088  ,  2.7118318 ,  8.495609  ,  1.7038486 ,  1.1884269 ],\n",
       "       [ 4.6476874 ,  8.37788   , -9.070581  ,  9.459332  ,  8.450422  ,\n",
       "        -1.0210547 ,  3.3920872 , -7.8629856 , -0.75276613,  0.4838412 ],\n",
       "       [-2.9414442 ,  4.6401706 , -4.5027533 ,  2.2855108 ,  1.644645  ,\n",
       "        -2.4937892 , -5.2241607 , -1.5499196 , -8.063638  ,  2.8169358 ],\n",
       "       [-4.271077  ,  5.561165  , -5.6640916 , -1.8229512 , -9.2925    ,\n",
       "         0.73028314,  4.4586773 , -2.8876226 , -5.1257744 ,  9.694357  ],\n",
       "       [ 5.5837426 , -4.1515303 ,  4.369667  , -3.0020502 ,  3.6388965 ,\n",
       "        -4.341912  , -3.3187115 ,  6.503671  , -6.865036  , -1.0266498 ]],\n",
       "      dtype=float32)"
      ]
     },
     "execution_count": 1,
     "metadata": {},
     "output_type": "execute_result"
    }
   ],
   "source": [
    "model.cluster_centers_"
   ]
  },
  {
   "cell_type": "markdown",
   "metadata": {},
   "source": [
    "## Distributed Model Pickling"
   ]
  },
  {
   "cell_type": "markdown",
   "metadata": {},
   "source": [
    "The distributed estimator wrappers inside of the `cuml.dask` are not intended to be pickled directly. The Dask cuML estimators provide a function `get_combined_model()`, which returns the trained single-GPU model for pickling. The combined model can be used for inference on a single-GPU, and the `ParallelPostFit` wrapper from the [Dask-ML](https://ml.dask.org/meta-estimators.html) library can be used to perform distributed inference on a Dask cluster."
   ]
  },
  {
   "cell_type": "code",
   "execution_count": 7,
   "metadata": {
    "execution": {
     "iopub.execute_input": "2021-04-07T09:43:37.427321Z",
     "iopub.status.busy": "2021-04-07T09:43:37.425939Z",
     "iopub.status.idle": "2021-04-07T09:43:41.480973Z",
     "shell.execute_reply": "2021-04-07T09:43:41.479588Z"
    }
   },
   "outputs": [
    {
     "data": {
      "text/html": [
       "<table style=\"border: 2px solid white;\">\n",
       "<tr>\n",
       "<td style=\"vertical-align: top; border: 0px solid white\">\n",
       "<h3 style=\"text-align: left;\">Client</h3>\n",
       "<ul style=\"text-align: left; list-style: none; margin: 0; padding: 0;\">\n",
       "  <li><b>Scheduler: </b>tcp://127.0.0.1:41416</li>\n",
       "  <li><b>Dashboard: </b><a href='http://127.0.0.1:8787/status' target='_blank'>http://127.0.0.1:8787/status</a></li>\n",
       "</ul>\n",
       "</td>\n",
       "<td style=\"vertical-align: top; border: 0px solid white\">\n",
       "<h3 style=\"text-align: left;\">Cluster</h3>\n",
       "<ul style=\"text-align: left; list-style:none; margin: 0; padding: 0;\">\n",
       "  <li><b>Workers: </b>1</li>\n",
       "  <li><b>Cores: </b>1</li>\n",
       "  <li><b>Memory: </b>251.80 GiB</li>\n",
       "</ul>\n",
       "</td>\n",
       "</tr>\n",
       "</table>"
      ],
      "text/plain": [
       "<Client: 'tcp://127.0.0.1:41416' processes=1 threads=1, memory=251.80 GiB>"
      ]
     },
     "execution_count": 1,
     "metadata": {},
     "output_type": "execute_result"
    }
   ],
   "source": [
    "from dask.distributed import Client\n",
    "from dask_cuda import LocalCUDACluster\n",
    "\n",
    "cluster = LocalCUDACluster()\n",
    "client = Client(cluster)\n",
    "client"
   ]
  },
  {
   "cell_type": "code",
   "execution_count": 8,
   "metadata": {
    "execution": {
     "iopub.execute_input": "2021-04-07T09:43:41.497072Z",
     "iopub.status.busy": "2021-04-07T09:43:41.495116Z",
     "iopub.status.idle": "2021-04-07T09:43:41.979548Z",
     "shell.execute_reply": "2021-04-07T09:43:41.978208Z"
    }
   },
   "outputs": [],
   "source": [
    "from cuml.dask.datasets import make_blobs\n",
    "\n",
    "n_workers = len(client.scheduler_info()[\"workers\"].keys())\n",
    "\n",
    "X, y = make_blobs(n_samples=5000, \n",
    "                  n_features=30,\n",
    "                  centers=5, \n",
    "                  cluster_std=0.4, \n",
    "                  random_state=0,\n",
    "                  n_parts=n_workers*5)\n",
    "\n",
    "X = X.persist()\n",
    "y = y.persist()"
   ]
  },
  {
   "cell_type": "code",
   "execution_count": 9,
   "metadata": {
    "execution": {
     "iopub.execute_input": "2021-04-07T09:43:41.991595Z",
     "iopub.status.busy": "2021-04-07T09:43:41.989990Z",
     "iopub.status.idle": "2021-04-07T09:43:42.024391Z",
     "shell.execute_reply": "2021-04-07T09:43:42.022973Z"
    }
   },
   "outputs": [],
   "source": [
    "from cuml.dask.cluster import KMeans\n",
    "\n",
    "dist_model = KMeans(n_clusters=5)"
   ]
  },
  {
   "cell_type": "code",
   "execution_count": 10,
   "metadata": {
    "execution": {
     "iopub.execute_input": "2021-04-07T09:43:42.046194Z",
     "iopub.status.busy": "2021-04-07T09:43:42.044762Z",
     "iopub.status.idle": "2021-04-07T09:43:44.706009Z",
     "shell.execute_reply": "2021-04-07T09:43:44.707298Z"
    }
   },
   "outputs": [
    {
     "data": {
      "text/plain": [
       "<cuml.dask.cluster.kmeans.KMeans at 0x7fc2b98bfb10>"
      ]
     },
     "execution_count": 1,
     "metadata": {},
     "output_type": "execute_result"
    }
   ],
   "source": [
    "dist_model.fit(X)"
   ]
  },
  {
   "cell_type": "code",
   "execution_count": 11,
   "metadata": {
    "execution": {
     "iopub.execute_input": "2021-04-07T09:43:44.719024Z",
     "iopub.status.busy": "2021-04-07T09:43:44.716776Z",
     "iopub.status.idle": "2021-04-07T09:43:44.736541Z",
     "shell.execute_reply": "2021-04-07T09:43:44.737754Z"
    }
   },
   "outputs": [],
   "source": [
    "import pickle\n",
    "\n",
    "single_gpu_model = dist_model.get_combined_model()\n",
    "pickle.dump(single_gpu_model, open(\"kmeans_model.pkl\", \"wb\"))"
   ]
  },
  {
   "cell_type": "code",
   "execution_count": 12,
   "metadata": {
    "execution": {
     "iopub.execute_input": "2021-04-07T09:43:44.747328Z",
     "iopub.status.busy": "2021-04-07T09:43:44.745799Z",
     "iopub.status.idle": "2021-04-07T09:43:44.752207Z",
     "shell.execute_reply": "2021-04-07T09:43:44.750626Z"
    }
   },
   "outputs": [],
   "source": [
    "single_gpu_model = pickle.load(open(\"kmeans_model.pkl\", \"rb\"))"
   ]
  },
  {
   "cell_type": "code",
   "execution_count": 13,
   "metadata": {
    "execution": {
     "iopub.execute_input": "2021-04-07T09:43:44.765291Z",
     "iopub.status.busy": "2021-04-07T09:43:44.759744Z",
     "iopub.status.idle": "2021-04-07T09:43:44.773283Z",
     "shell.execute_reply": "2021-04-07T09:43:44.774435Z"
    }
   },
   "outputs": [
    {
     "data": {
      "text/plain": [
       "array([[ 4.809875  ,  8.42267   , -9.239025  ,  9.379138  ,  8.499883  ,\n",
       "        -1.0592818 ,  3.3437858 , -7.8026133 , -0.59463334,  0.26447603,\n",
       "         5.5073953 , -4.106981  ,  4.2890773 , -2.8172052 ,  3.6150165 ,\n",
       "        -4.161299  , -3.620963  ,  6.2185297 , -6.946046  , -1.0828304 ,\n",
       "        -5.8267727 ,  2.2258763 , -3.8601217 , -1.6974076 , -5.3134174 ,\n",
       "         7.579579  ,  2.9187472 ,  8.540425  ,  1.5523201 ,  1.0841806 ],\n",
       "       [-2.8941853 ,  4.4741907 , -4.447565  ,  2.3820996 ,  1.7478831 ,\n",
       "        -2.5046246 , -5.2083297 , -1.6937687 , -8.134757  ,  2.6468306 ,\n",
       "        -4.316362  ,  5.5655394 , -5.7322006 , -1.7384953 , -9.344653  ,\n",
       "         0.7084657 ,  4.4358406 , -2.900899  , -4.9486375 ,  9.695303  ,\n",
       "         8.366519  , -6.247454  , -6.3494725 ,  1.9546975 ,  4.157616  ,\n",
       "        -9.167901  ,  4.607068  ,  8.788582  ,  6.8644233 ,  2.231988  ],\n",
       "       [-4.6657157 , -9.558958  ,  6.6572285 ,  4.4401317 ,  2.1730297 ,\n",
       "         2.5904036 ,  0.5800098 ,  6.255035  , -8.829283  , -0.41399652,\n",
       "         9.831051  ,  7.589734  ,  9.975542  , -5.856175  , -1.2414308 ,\n",
       "        -2.5572665 , -1.0441563 , -5.2461114 , -9.311467  ,  4.636606  ,\n",
       "        -0.11776031, -3.929528  ,  6.2073693 , -7.399013  ,  5.674092  ,\n",
       "        -8.540298  , -7.518652  , -5.530122  ,  4.8341303 ,  2.5691679 ],\n",
       "       [-6.958111  , -9.760796  , -6.5506105 , -0.41965044,  6.0687675 ,\n",
       "         3.760289  , -3.9751325 ,  6.1493382 , -1.8729936 ,  5.025273  ,\n",
       "        -6.8341002 ,  1.3383293 ,  9.001677  , -0.9864834 ,  9.654023  ,\n",
       "         9.790738  , -8.618677  ,  5.99558   ,  2.2099135 , -3.6309094 ,\n",
       "         7.071409  , -7.394623  , -5.299634  , -6.973705  , -7.908462  ,\n",
       "         6.681064  , -5.5756383 ,  7.1313095 ,  6.599616  , -8.30957   ],\n",
       "       [ 6.261754  ,  9.228767  ,  8.3581295 ,  9.017299  ,  7.7044663 ,\n",
       "        -1.0047107 , -6.2457643 ,  1.3951721 , -6.9761815 , -5.9480586 ,\n",
       "         1.0575899 , -0.01074279,  2.8210256 ,  1.838937  , -8.247102  ,\n",
       "         3.0498962 , -8.483239  ,  9.7216425 , -7.7502723 ,  3.4655948 ,\n",
       "        -3.931214  , -4.096516  ,  2.6586974 ,  1.283246  ,  1.0177817 ,\n",
       "         5.257111  , -1.6444383 ,  6.1383224 , -6.884055  , -9.6630945 ]],\n",
       "      dtype=float32)"
      ]
     },
     "execution_count": 1,
     "metadata": {},
     "output_type": "execute_result"
    }
   ],
   "source": [
    "single_gpu_model.cluster_centers_"
   ]
  }
 ],
 "metadata": {
  "kernelspec": {
   "display_name": "Python 3",
   "language": "python",
   "name": "python3"
  },
  "language_info": {
   "codemirror_mode": {
    "name": "ipython",
    "version": 3
   },
   "file_extension": ".py",
   "mimetype": "text/x-python",
   "name": "python",
   "nbconvert_exporter": "python",
   "pygments_lexer": "ipython3",
   "version": "3.7.10"
  }
 },
 "nbformat": 4,
 "nbformat_minor": 4
}
