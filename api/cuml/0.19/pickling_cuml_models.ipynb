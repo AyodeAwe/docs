{
 "cells": [
  {
   "cell_type": "markdown",
   "metadata": {},
   "source": [
    "# Pickling cuML Models for Persistence\n",
    "\n",
    "This notebook demonstrates simple pickling of both single-GPU and multi-GPU cuML models for persistence"
   ]
  },
  {
   "cell_type": "code",
   "execution_count": 1,
   "metadata": {
    "execution": {
     "iopub.execute_input": "2021-04-02T09:43:11.561252Z",
     "iopub.status.busy": "2021-04-02T09:43:11.559710Z",
     "iopub.status.idle": "2021-04-02T09:43:11.564881Z",
     "shell.execute_reply": "2021-04-02T09:43:11.563214Z"
    }
   },
   "outputs": [],
   "source": [
    "import warnings\n",
    "warnings.filterwarnings(\"ignore\", category=FutureWarning)"
   ]
  },
  {
   "cell_type": "markdown",
   "metadata": {},
   "source": [
    "## Single GPU Model Pickling\n",
    "\n",
    "All single-GPU estimators are pickleable. The following example demonstrates the creation of a synthetic dataset, training, and pickling of the resulting model for storage. Trained single-GPU models can also be used to distribute the inference on a Dask cluster, which the `Distributed Model Pickling` section below demonstrates."
   ]
  },
  {
   "cell_type": "code",
   "execution_count": 2,
   "metadata": {
    "execution": {
     "iopub.execute_input": "2021-04-02T09:43:11.574897Z",
     "iopub.status.busy": "2021-04-02T09:43:11.573434Z",
     "iopub.status.idle": "2021-04-02T09:43:16.280687Z",
     "shell.execute_reply": "2021-04-02T09:43:16.281871Z"
    }
   },
   "outputs": [],
   "source": [
    "from cuml.datasets import make_blobs\n",
    "\n",
    "X, y = make_blobs(n_samples=50,\n",
    "                  n_features=10,\n",
    "                  centers=5,\n",
    "                  cluster_std=0.4,\n",
    "                  random_state=0)"
   ]
  },
  {
   "cell_type": "code",
   "execution_count": 3,
   "metadata": {
    "execution": {
     "iopub.execute_input": "2021-04-02T09:43:16.293353Z",
     "iopub.status.busy": "2021-04-02T09:43:16.291941Z",
     "iopub.status.idle": "2021-04-02T09:43:16.663428Z",
     "shell.execute_reply": "2021-04-02T09:43:16.664642Z"
    }
   },
   "outputs": [
    {
     "data": {
      "text/plain": [
       "KMeans(handle=<cuml.raft.common.handle.Handle object at 0x7f5b25331f70>, n_clusters=5, max_iter=300, tol=0.0001, verbose=4, random_state=1, init='scalable-k-means++', n_init=1, oversampling_factor=2.0, max_samples_per_batch=32768, output_type='input')"
      ]
     },
     "execution_count": 1,
     "metadata": {},
     "output_type": "execute_result"
    }
   ],
   "source": [
    "from cuml.cluster import KMeans\n",
    "\n",
    "model = KMeans(n_clusters=5)\n",
    "\n",
    "model.fit(X)"
   ]
  },
  {
   "cell_type": "code",
   "execution_count": 4,
   "metadata": {
    "execution": {
     "iopub.execute_input": "2021-04-02T09:43:16.673336Z",
     "iopub.status.busy": "2021-04-02T09:43:16.671934Z",
     "iopub.status.idle": "2021-04-02T09:43:16.676632Z",
     "shell.execute_reply": "2021-04-02T09:43:16.677727Z"
    }
   },
   "outputs": [],
   "source": [
    "import pickle\n",
    "\n",
    "pickle.dump(model, open(\"kmeans_model.pkl\", \"wb\"))"
   ]
  },
  {
   "cell_type": "code",
   "execution_count": 5,
   "metadata": {
    "execution": {
     "iopub.execute_input": "2021-04-02T09:43:16.686391Z",
     "iopub.status.busy": "2021-04-02T09:43:16.685066Z",
     "iopub.status.idle": "2021-04-02T09:43:16.690771Z",
     "shell.execute_reply": "2021-04-02T09:43:16.689687Z"
    }
   },
   "outputs": [],
   "source": [
    "model = pickle.load(open(\"kmeans_model.pkl\", \"rb\"))"
   ]
  },
  {
   "cell_type": "code",
   "execution_count": 6,
   "metadata": {
    "execution": {
     "iopub.execute_input": "2021-04-02T09:43:16.701572Z",
     "iopub.status.busy": "2021-04-02T09:43:16.700266Z",
     "iopub.status.idle": "2021-04-02T09:43:16.705493Z",
     "shell.execute_reply": "2021-04-02T09:43:16.706548Z"
    }
   },
   "outputs": [
    {
     "data": {
      "text/plain": [
       "array([[-5.768463  ,  2.3276033 , -3.7457774 , -1.8541754 , -5.169583  ,\n",
       "         7.667088  ,  2.7118316 ,  8.495609  ,  1.7038484 ,  1.188427  ],\n",
       "       [ 4.6476874 ,  8.37788   , -9.070581  ,  9.459332  ,  8.450422  ,\n",
       "        -1.0210547 ,  3.3920872 , -7.8629856 , -0.7527663 ,  0.4838412 ],\n",
       "       [-2.9414442 ,  4.6401706 , -4.5027533 ,  2.2855108 ,  1.644645  ,\n",
       "        -2.4937892 , -5.2241607 , -1.5499198 , -8.063638  ,  2.816936  ],\n",
       "       [-4.271077  ,  5.5611653 , -5.6640916 , -1.8229512 , -9.2925    ,\n",
       "         0.73028314,  4.4586773 , -2.8876226 , -5.1257744 ,  9.694357  ],\n",
       "       [ 5.5837426 , -4.1515303 ,  4.369667  , -3.0020502 ,  3.6388965 ,\n",
       "        -4.341912  , -3.3187115 ,  6.503671  , -6.865036  , -1.0266498 ]],\n",
       "      dtype=float32)"
      ]
     },
     "execution_count": 1,
     "metadata": {},
     "output_type": "execute_result"
    }
   ],
   "source": [
    "model.cluster_centers_"
   ]
  },
  {
   "cell_type": "markdown",
   "metadata": {},
   "source": [
    "## Distributed Model Pickling"
   ]
  },
  {
   "cell_type": "markdown",
   "metadata": {},
   "source": [
    "The distributed estimator wrappers inside of the `cuml.dask` are not intended to be pickled directly. The Dask cuML estimators provide a function `get_combined_model()`, which returns the trained single-GPU model for pickling. The combined model can be used for inference on a single-GPU, and the `ParallelPostFit` wrapper from the [Dask-ML](https://ml.dask.org/meta-estimators.html) library can be used to perform distributed inference on a Dask cluster."
   ]
  },
  {
   "cell_type": "code",
   "execution_count": 7,
   "metadata": {
    "execution": {
     "iopub.execute_input": "2021-04-02T09:43:16.716637Z",
     "iopub.status.busy": "2021-04-02T09:43:16.715036Z",
     "iopub.status.idle": "2021-04-02T09:43:21.053173Z",
     "shell.execute_reply": "2021-04-02T09:43:21.054426Z"
    }
   },
   "outputs": [
    {
     "data": {
      "text/html": [
       "<table style=\"border: 2px solid white;\">\n",
       "<tr>\n",
       "<td style=\"vertical-align: top; border: 0px solid white\">\n",
       "<h3 style=\"text-align: left;\">Client</h3>\n",
       "<ul style=\"text-align: left; list-style: none; margin: 0; padding: 0;\">\n",
       "  <li><b>Scheduler: </b>tcp://127.0.0.1:36550</li>\n",
       "  <li><b>Dashboard: </b><a href='http://127.0.0.1:8787/status' target='_blank'>http://127.0.0.1:8787/status</a></li>\n",
       "</ul>\n",
       "</td>\n",
       "<td style=\"vertical-align: top; border: 0px solid white\">\n",
       "<h3 style=\"text-align: left;\">Cluster</h3>\n",
       "<ul style=\"text-align: left; list-style:none; margin: 0; padding: 0;\">\n",
       "  <li><b>Workers: </b>1</li>\n",
       "  <li><b>Cores: </b>1</li>\n",
       "  <li><b>Memory: </b>270.37 GB</li>\n",
       "</ul>\n",
       "</td>\n",
       "</tr>\n",
       "</table>"
      ],
      "text/plain": [
       "<Client: 'tcp://127.0.0.1:36550' processes=1 threads=1, memory=270.37 GB>"
      ]
     },
     "execution_count": 1,
     "metadata": {},
     "output_type": "execute_result"
    }
   ],
   "source": [
    "from dask.distributed import Client\n",
    "from dask_cuda import LocalCUDACluster\n",
    "\n",
    "cluster = LocalCUDACluster()\n",
    "client = Client(cluster)\n",
    "client"
   ]
  },
  {
   "cell_type": "code",
   "execution_count": 8,
   "metadata": {
    "execution": {
     "iopub.execute_input": "2021-04-02T09:43:21.069406Z",
     "iopub.status.busy": "2021-04-02T09:43:21.067982Z",
     "iopub.status.idle": "2021-04-02T09:43:21.575185Z",
     "shell.execute_reply": "2021-04-02T09:43:21.576458Z"
    }
   },
   "outputs": [],
   "source": [
    "from cuml.dask.datasets import make_blobs\n",
    "\n",
    "n_workers = len(client.scheduler_info()[\"workers\"].keys())\n",
    "\n",
    "X, y = make_blobs(n_samples=5000, \n",
    "                  n_features=30,\n",
    "                  centers=5, \n",
    "                  cluster_std=0.4, \n",
    "                  random_state=0,\n",
    "                  n_parts=n_workers*5)\n",
    "\n",
    "X = X.persist()\n",
    "y = y.persist()"
   ]
  },
  {
   "cell_type": "code",
   "execution_count": 9,
   "metadata": {
    "execution": {
     "iopub.execute_input": "2021-04-02T09:43:21.584315Z",
     "iopub.status.busy": "2021-04-02T09:43:21.582788Z",
     "iopub.status.idle": "2021-04-02T09:43:21.609244Z",
     "shell.execute_reply": "2021-04-02T09:43:21.607974Z"
    }
   },
   "outputs": [],
   "source": [
    "from cuml.dask.cluster import KMeans\n",
    "\n",
    "dist_model = KMeans(n_clusters=5)"
   ]
  },
  {
   "cell_type": "code",
   "execution_count": 10,
   "metadata": {
    "execution": {
     "iopub.execute_input": "2021-04-02T09:43:21.620382Z",
     "iopub.status.busy": "2021-04-02T09:43:21.618856Z",
     "iopub.status.idle": "2021-04-02T09:43:24.488805Z",
     "shell.execute_reply": "2021-04-02T09:43:24.490223Z"
    }
   },
   "outputs": [
    {
     "data": {
      "text/plain": [
       "<cuml.dask.cluster.kmeans.KMeans at 0x7f5af41b9a50>"
      ]
     },
     "execution_count": 1,
     "metadata": {},
     "output_type": "execute_result"
    }
   ],
   "source": [
    "dist_model.fit(X)"
   ]
  },
  {
   "cell_type": "code",
   "execution_count": 11,
   "metadata": {
    "execution": {
     "iopub.execute_input": "2021-04-02T09:43:24.502113Z",
     "iopub.status.busy": "2021-04-02T09:43:24.499216Z",
     "iopub.status.idle": "2021-04-02T09:43:24.523191Z",
     "shell.execute_reply": "2021-04-02T09:43:24.521904Z"
    }
   },
   "outputs": [],
   "source": [
    "import pickle\n",
    "\n",
    "single_gpu_model = dist_model.get_combined_model()\n",
    "pickle.dump(single_gpu_model, open(\"kmeans_model.pkl\", \"wb\"))"
   ]
  },
  {
   "cell_type": "code",
   "execution_count": 12,
   "metadata": {
    "execution": {
     "iopub.execute_input": "2021-04-02T09:43:24.531955Z",
     "iopub.status.busy": "2021-04-02T09:43:24.530496Z",
     "iopub.status.idle": "2021-04-02T09:43:24.536897Z",
     "shell.execute_reply": "2021-04-02T09:43:24.535273Z"
    }
   },
   "outputs": [],
   "source": [
    "single_gpu_model = pickle.load(open(\"kmeans_model.pkl\", \"rb\"))"
   ]
  },
  {
   "cell_type": "code",
   "execution_count": 13,
   "metadata": {
    "execution": {
     "iopub.execute_input": "2021-04-02T09:43:24.549660Z",
     "iopub.status.busy": "2021-04-02T09:43:24.543994Z",
     "iopub.status.idle": "2021-04-02T09:43:24.556107Z",
     "shell.execute_reply": "2021-04-02T09:43:24.554733Z"
    }
   },
   "outputs": [
    {
     "data": {
      "text/plain": [
       "array([[ 4.809874  ,  8.42267   , -9.239025  ,  9.379146  ,  8.499881  ,\n",
       "        -1.0592816 ,  3.343786  , -7.8026123 , -0.5946332 ,  0.26447606,\n",
       "         5.5073943 , -4.1069803 ,  4.2890778 , -2.817205  ,  3.6150143 ,\n",
       "        -4.161299  , -3.6209633 ,  6.2185297 , -6.946046  , -1.0828303 ,\n",
       "        -5.8267717 ,  2.225877  , -3.860121  , -1.6974074 , -5.313417  ,\n",
       "         7.5795803 ,  2.9187467 ,  8.540427  ,  1.5523205 ,  1.0841805 ],\n",
       "       [-2.8941858 ,  4.4741898 , -4.4475656 ,  2.3820984 ,  1.747883  ,\n",
       "        -2.5046256 , -5.2083306 , -1.6937683 , -8.134756  ,  2.6468291 ,\n",
       "        -4.316363  ,  5.5655394 , -5.7321987 , -1.7384956 , -9.344655  ,\n",
       "         0.708466  ,  4.435841  , -2.9009    , -4.9486394 ,  9.695301  ,\n",
       "         8.366521  , -6.247453  , -6.3494744 ,  1.9546975 ,  4.1576157 ,\n",
       "        -9.167905  ,  4.6070666 ,  8.788584  ,  6.864422  ,  2.2319877 ],\n",
       "       [-4.6657147 , -9.558955  ,  6.657228  ,  4.44013   ,  2.1730292 ,\n",
       "         2.590404  ,  0.58000994,  6.2550364 , -8.829284  , -0.41399667,\n",
       "         9.83105   ,  7.589734  ,  9.975543  , -5.8561745 , -1.2414308 ,\n",
       "        -2.5572672 , -1.0441564 , -5.2461095 , -9.311469  ,  4.636607  ,\n",
       "        -0.1177603 , -3.9295287 ,  6.2073665 , -7.3990135 ,  5.6740923 ,\n",
       "        -8.5403    , -7.518653  , -5.5301228 ,  4.8341293 ,  2.5691683 ],\n",
       "       [-6.958109  , -9.760795  , -6.5506096 , -0.41965038,  6.068767  ,\n",
       "         3.7602892 , -3.975133  ,  6.149337  , -1.8729938 ,  5.0252743 ,\n",
       "        -6.8341002 ,  1.3383292 ,  9.0016775 , -0.9864832 ,  9.654023  ,\n",
       "         9.790739  , -8.618676  ,  5.995579  ,  2.2099142 , -3.63091   ,\n",
       "         7.0714087 , -7.394622  , -5.299634  , -6.973705  , -7.908465  ,\n",
       "         6.681063  , -5.575639  ,  7.131311  ,  6.5996156 , -8.309573  ],\n",
       "       [ 6.261753  ,  9.228768  ,  8.3581295 ,  9.017296  ,  7.704466  ,\n",
       "        -1.0047107 , -6.245766  ,  1.3951719 , -6.976181  , -5.94806   ,\n",
       "         1.0575898 , -0.01074278,  2.8210247 ,  1.8389362 , -8.247102  ,\n",
       "         3.0498965 , -8.483243  ,  9.721642  , -7.750272  ,  3.465596  ,\n",
       "        -3.9312143 , -4.0965157 ,  2.6586974 ,  1.2832456 ,  1.0177819 ,\n",
       "         5.2571096 , -1.6444381 ,  6.138322  , -6.8840537 , -9.663094  ]],\n",
       "      dtype=float32)"
      ]
     },
     "execution_count": 1,
     "metadata": {},
     "output_type": "execute_result"
    }
   ],
   "source": [
    "single_gpu_model.cluster_centers_"
   ]
  }
 ],
 "metadata": {
  "kernelspec": {
   "display_name": "Python 3",
   "language": "python",
   "name": "python3"
  },
  "language_info": {
   "codemirror_mode": {
    "name": "ipython",
    "version": 3
   },
   "file_extension": ".py",
   "mimetype": "text/x-python",
   "name": "python",
   "nbconvert_exporter": "python",
   "pygments_lexer": "ipython3",
   "version": "3.7.10"
  }
 },
 "nbformat": 4,
 "nbformat_minor": 4
}
