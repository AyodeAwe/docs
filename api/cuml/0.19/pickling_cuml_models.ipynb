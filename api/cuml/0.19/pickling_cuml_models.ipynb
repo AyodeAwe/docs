{
 "cells": [
  {
   "cell_type": "markdown",
   "metadata": {},
   "source": [
    "# Pickling cuML Models for Persistence\n",
    "\n",
    "This notebook demonstrates simple pickling of both single-GPU and multi-GPU cuML models for persistence"
   ]
  },
  {
   "cell_type": "code",
   "execution_count": 1,
   "metadata": {
    "execution": {
     "iopub.execute_input": "2021-04-17T09:44:27.213119Z",
     "iopub.status.busy": "2021-04-17T09:44:27.211592Z",
     "iopub.status.idle": "2021-04-17T09:44:27.215543Z",
     "shell.execute_reply": "2021-04-17T09:44:27.216757Z"
    }
   },
   "outputs": [],
   "source": [
    "import warnings\n",
    "warnings.filterwarnings(\"ignore\", category=FutureWarning)"
   ]
  },
  {
   "cell_type": "markdown",
   "metadata": {},
   "source": [
    "## Single GPU Model Pickling\n",
    "\n",
    "All single-GPU estimators are pickleable. The following example demonstrates the creation of a synthetic dataset, training, and pickling of the resulting model for storage. Trained single-GPU models can also be used to distribute the inference on a Dask cluster, which the `Distributed Model Pickling` section below demonstrates."
   ]
  },
  {
   "cell_type": "code",
   "execution_count": 2,
   "metadata": {
    "execution": {
     "iopub.execute_input": "2021-04-17T09:44:27.227173Z",
     "iopub.status.busy": "2021-04-17T09:44:27.225697Z",
     "iopub.status.idle": "2021-04-17T09:44:32.293897Z",
     "shell.execute_reply": "2021-04-17T09:44:32.295198Z"
    }
   },
   "outputs": [],
   "source": [
    "from cuml.datasets import make_blobs\n",
    "\n",
    "X, y = make_blobs(n_samples=50,\n",
    "                  n_features=10,\n",
    "                  centers=5,\n",
    "                  cluster_std=0.4,\n",
    "                  random_state=0)"
   ]
  },
  {
   "cell_type": "code",
   "execution_count": 3,
   "metadata": {
    "execution": {
     "iopub.execute_input": "2021-04-17T09:44:32.306377Z",
     "iopub.status.busy": "2021-04-17T09:44:32.304854Z",
     "iopub.status.idle": "2021-04-17T09:44:32.713917Z",
     "shell.execute_reply": "2021-04-17T09:44:32.715183Z"
    }
   },
   "outputs": [
    {
     "data": {
      "text/plain": [
       "KMeans()"
      ]
     },
     "execution_count": 1,
     "metadata": {},
     "output_type": "execute_result"
    }
   ],
   "source": [
    "from cuml.cluster import KMeans\n",
    "\n",
    "model = KMeans(n_clusters=5)\n",
    "\n",
    "model.fit(X)"
   ]
  },
  {
   "cell_type": "code",
   "execution_count": 4,
   "metadata": {
    "execution": {
     "iopub.execute_input": "2021-04-17T09:44:32.725215Z",
     "iopub.status.busy": "2021-04-17T09:44:32.723694Z",
     "iopub.status.idle": "2021-04-17T09:44:32.728793Z",
     "shell.execute_reply": "2021-04-17T09:44:32.727552Z"
    }
   },
   "outputs": [],
   "source": [
    "import pickle\n",
    "\n",
    "pickle.dump(model, open(\"kmeans_model.pkl\", \"wb\"))"
   ]
  },
  {
   "cell_type": "code",
   "execution_count": 5,
   "metadata": {
    "execution": {
     "iopub.execute_input": "2021-04-17T09:44:32.737781Z",
     "iopub.status.busy": "2021-04-17T09:44:32.736352Z",
     "iopub.status.idle": "2021-04-17T09:44:32.741953Z",
     "shell.execute_reply": "2021-04-17T09:44:32.740763Z"
    }
   },
   "outputs": [],
   "source": [
    "model = pickle.load(open(\"kmeans_model.pkl\", \"rb\"))"
   ]
  },
  {
   "cell_type": "code",
   "execution_count": 6,
   "metadata": {
    "execution": {
     "iopub.execute_input": "2021-04-17T09:44:32.758140Z",
     "iopub.status.busy": "2021-04-17T09:44:32.751776Z",
     "iopub.status.idle": "2021-04-17T09:44:32.763382Z",
     "shell.execute_reply": "2021-04-17T09:44:32.759574Z"
    }
   },
   "outputs": [
    {
     "data": {
      "text/plain": [
       "array([[-5.7684636 ,  2.3276033 , -3.7457774 , -1.8541754 , -5.1695833 ,\n",
       "         7.6670885 ,  2.7118316 ,  8.495609  ,  1.7038486 ,  1.1884269 ],\n",
       "       [ 4.647688  ,  8.377879  , -9.070581  ,  9.459332  ,  8.450422  ,\n",
       "        -1.0210547 ,  3.3920877 , -7.8629856 , -0.75276613,  0.48384127],\n",
       "       [-2.9414442 ,  4.6401706 , -4.502753  ,  2.2855108 ,  1.644645  ,\n",
       "        -2.4937892 , -5.2241607 , -1.5499196 , -8.063638  ,  2.816936  ],\n",
       "       [-4.271077  ,  5.561165  , -5.6640916 , -1.8229512 , -9.2925    ,\n",
       "         0.73028314,  4.4586773 , -2.8876226 , -5.1257744 ,  9.694357  ],\n",
       "       [ 5.5837426 , -4.1515303 ,  4.369667  , -3.00205   ,  3.638897  ,\n",
       "        -4.3419113 , -3.318711  ,  6.503671  , -6.865036  , -1.0266498 ]],\n",
       "      dtype=float32)"
      ]
     },
     "execution_count": 1,
     "metadata": {},
     "output_type": "execute_result"
    }
   ],
   "source": [
    "model.cluster_centers_"
   ]
  },
  {
   "cell_type": "markdown",
   "metadata": {},
   "source": [
    "## Distributed Model Pickling"
   ]
  },
  {
   "cell_type": "markdown",
   "metadata": {},
   "source": [
    "The distributed estimator wrappers inside of the `cuml.dask` are not intended to be pickled directly. The Dask cuML estimators provide a function `get_combined_model()`, which returns the trained single-GPU model for pickling. The combined model can be used for inference on a single-GPU, and the `ParallelPostFit` wrapper from the [Dask-ML](https://ml.dask.org/meta-estimators.html) library can be used to perform distributed inference on a Dask cluster."
   ]
  },
  {
   "cell_type": "code",
   "execution_count": 7,
   "metadata": {
    "execution": {
     "iopub.execute_input": "2021-04-17T09:44:32.772626Z",
     "iopub.status.busy": "2021-04-17T09:44:32.771233Z",
     "iopub.status.idle": "2021-04-17T09:44:37.263476Z",
     "shell.execute_reply": "2021-04-17T09:44:37.264842Z"
    }
   },
   "outputs": [
    {
     "data": {
      "text/html": [
       "<table style=\"border: 2px solid white;\">\n",
       "<tr>\n",
       "<td style=\"vertical-align: top; border: 0px solid white\">\n",
       "<h3 style=\"text-align: left;\">Client</h3>\n",
       "<ul style=\"text-align: left; list-style: none; margin: 0; padding: 0;\">\n",
       "  <li><b>Scheduler: </b>tcp://127.0.0.1:40017</li>\n",
       "  <li><b>Dashboard: </b><a href='http://127.0.0.1:8787/status' target='_blank'>http://127.0.0.1:8787/status</a></li>\n",
       "</ul>\n",
       "</td>\n",
       "<td style=\"vertical-align: top; border: 0px solid white\">\n",
       "<h3 style=\"text-align: left;\">Cluster</h3>\n",
       "<ul style=\"text-align: left; list-style:none; margin: 0; padding: 0;\">\n",
       "  <li><b>Workers: </b>1</li>\n",
       "  <li><b>Cores: </b>1</li>\n",
       "  <li><b>Memory: </b>251.80 GiB</li>\n",
       "</ul>\n",
       "</td>\n",
       "</tr>\n",
       "</table>"
      ],
      "text/plain": [
       "<Client: 'tcp://127.0.0.1:40017' processes=1 threads=1, memory=251.80 GiB>"
      ]
     },
     "execution_count": 1,
     "metadata": {},
     "output_type": "execute_result"
    }
   ],
   "source": [
    "from dask.distributed import Client\n",
    "from dask_cuda import LocalCUDACluster\n",
    "\n",
    "cluster = LocalCUDACluster()\n",
    "client = Client(cluster)\n",
    "client"
   ]
  },
  {
   "cell_type": "code",
   "execution_count": 8,
   "metadata": {
    "execution": {
     "iopub.execute_input": "2021-04-17T09:44:37.281763Z",
     "iopub.status.busy": "2021-04-17T09:44:37.279862Z",
     "iopub.status.idle": "2021-04-17T09:44:37.827498Z",
     "shell.execute_reply": "2021-04-17T09:44:37.828715Z"
    }
   },
   "outputs": [],
   "source": [
    "from cuml.dask.datasets import make_blobs\n",
    "\n",
    "n_workers = len(client.scheduler_info()[\"workers\"].keys())\n",
    "\n",
    "X, y = make_blobs(n_samples=5000, \n",
    "                  n_features=30,\n",
    "                  centers=5, \n",
    "                  cluster_std=0.4, \n",
    "                  random_state=0,\n",
    "                  n_parts=n_workers*5)\n",
    "\n",
    "X = X.persist()\n",
    "y = y.persist()"
   ]
  },
  {
   "cell_type": "code",
   "execution_count": 9,
   "metadata": {
    "execution": {
     "iopub.execute_input": "2021-04-17T09:44:37.839802Z",
     "iopub.status.busy": "2021-04-17T09:44:37.838822Z",
     "iopub.status.idle": "2021-04-17T09:44:37.876534Z",
     "shell.execute_reply": "2021-04-17T09:44:37.875462Z"
    }
   },
   "outputs": [],
   "source": [
    "from cuml.dask.cluster import KMeans\n",
    "\n",
    "dist_model = KMeans(n_clusters=5)"
   ]
  },
  {
   "cell_type": "code",
   "execution_count": 10,
   "metadata": {
    "execution": {
     "iopub.execute_input": "2021-04-17T09:44:37.888702Z",
     "iopub.status.busy": "2021-04-17T09:44:37.887219Z",
     "iopub.status.idle": "2021-04-17T09:44:40.542487Z",
     "shell.execute_reply": "2021-04-17T09:44:40.541557Z"
    }
   },
   "outputs": [
    {
     "data": {
      "text/plain": [
       "<cuml.dask.cluster.kmeans.KMeans at 0x7fef881efd50>"
      ]
     },
     "execution_count": 1,
     "metadata": {},
     "output_type": "execute_result"
    }
   ],
   "source": [
    "dist_model.fit(X)"
   ]
  },
  {
   "cell_type": "code",
   "execution_count": 11,
   "metadata": {
    "execution": {
     "iopub.execute_input": "2021-04-17T09:44:40.553440Z",
     "iopub.status.busy": "2021-04-17T09:44:40.551971Z",
     "iopub.status.idle": "2021-04-17T09:44:40.565605Z",
     "shell.execute_reply": "2021-04-17T09:44:40.566913Z"
    }
   },
   "outputs": [],
   "source": [
    "import pickle\n",
    "\n",
    "single_gpu_model = dist_model.get_combined_model()\n",
    "pickle.dump(single_gpu_model, open(\"kmeans_model.pkl\", \"wb\"))"
   ]
  },
  {
   "cell_type": "code",
   "execution_count": 12,
   "metadata": {
    "execution": {
     "iopub.execute_input": "2021-04-17T09:44:40.575235Z",
     "iopub.status.busy": "2021-04-17T09:44:40.573851Z",
     "iopub.status.idle": "2021-04-17T09:44:40.579247Z",
     "shell.execute_reply": "2021-04-17T09:44:40.578092Z"
    }
   },
   "outputs": [],
   "source": [
    "single_gpu_model = pickle.load(open(\"kmeans_model.pkl\", \"rb\"))"
   ]
  },
  {
   "cell_type": "code",
   "execution_count": 13,
   "metadata": {
    "execution": {
     "iopub.execute_input": "2021-04-17T09:44:40.595293Z",
     "iopub.status.busy": "2021-04-17T09:44:40.593737Z",
     "iopub.status.idle": "2021-04-17T09:44:40.599707Z",
     "shell.execute_reply": "2021-04-17T09:44:40.600893Z"
    }
   },
   "outputs": [
    {
     "data": {
      "text/plain": [
       "array([[ 4.809875  ,  8.422671  , -9.239024  ,  9.37914   ,  8.499884  ,\n",
       "        -1.0592816 ,  3.3437858 , -7.8026114 , -0.5946332 ,  0.26447597,\n",
       "         5.5073957 , -4.1069794 ,  4.2890778 , -2.8172052 ,  3.615016  ,\n",
       "        -4.1612988 , -3.6209638 ,  6.2185307 , -6.946047  , -1.0828305 ,\n",
       "        -5.8267713 ,  2.2258768 , -3.8601215 , -1.6974075 , -5.3134184 ,\n",
       "         7.5795784 ,  2.918747  ,  8.540425  ,  1.5523204 ,  1.0841805 ],\n",
       "       [-2.8941853 ,  4.4741874 , -4.4475656 ,  2.3821    ,  1.7478832 ,\n",
       "        -2.5046253 , -5.20833   , -1.6937687 , -8.134755  ,  2.6468296 ,\n",
       "        -4.3163633 ,  5.5655384 , -5.7321987 , -1.7384952 , -9.344653  ,\n",
       "         0.7084657 ,  4.4358406 , -2.9009004 , -4.9486394 ,  9.695298  ,\n",
       "         8.36652   , -6.2474527 , -6.3494725 ,  1.9546974 ,  4.1576157 ,\n",
       "        -9.1679    ,  4.6070685 ,  8.788585  ,  6.864423  ,  2.2319884 ],\n",
       "       [-4.6657157 , -9.558954  ,  6.657229  ,  4.4401307 ,  2.1730306 ,\n",
       "         2.5904045 ,  0.58001   ,  6.255036  , -8.829282  , -0.41399652,\n",
       "         9.831049  ,  7.5897346 ,  9.975545  , -5.8561726 , -1.2414305 ,\n",
       "        -2.5572672 , -1.0441563 , -5.246111  , -9.311466  ,  4.6366076 ,\n",
       "        -0.11776033, -3.9295297 ,  6.207368  , -7.3990126 ,  5.6740923 ,\n",
       "        -8.5402975 , -7.5186534 , -5.530122  ,  4.834131  ,  2.569168  ],\n",
       "       [-6.9581094 , -9.760798  , -6.5506086 , -0.41965044,  6.068766  ,\n",
       "         3.7602885 , -3.9751334 ,  6.149338  , -1.8729936 ,  5.0252733 ,\n",
       "        -6.8341    ,  1.3383287 ,  9.0016775 , -0.9864834 ,  9.654019  ,\n",
       "         9.790738  , -8.618674  ,  5.995579  ,  2.2099135 , -3.6309097 ,\n",
       "         7.071407  , -7.394622  , -5.2996335 , -6.9737067 , -7.908463  ,\n",
       "         6.681067  , -5.575639  ,  7.131312  ,  6.5996184 , -8.309572  ],\n",
       "       [ 6.2617545 ,  9.22877   ,  8.358132  ,  9.017301  ,  7.704465  ,\n",
       "        -1.0047106 , -6.245767  ,  1.395172  , -6.97618   , -5.9480596 ,\n",
       "         1.0575894 , -0.01074279,  2.8210256 ,  1.8389364 , -8.247102  ,\n",
       "         3.0498965 , -8.483243  ,  9.721641  , -7.750272  ,  3.4655962 ,\n",
       "        -3.9312134 , -4.0965157 ,  2.6586974 ,  1.2832462 ,  1.017782  ,\n",
       "         5.2571087 , -1.6444379 ,  6.138322  , -6.884053  , -9.663095  ]],\n",
       "      dtype=float32)"
      ]
     },
     "execution_count": 1,
     "metadata": {},
     "output_type": "execute_result"
    }
   ],
   "source": [
    "single_gpu_model.cluster_centers_"
   ]
  }
 ],
 "metadata": {
  "kernelspec": {
   "display_name": "Python 3",
   "language": "python",
   "name": "python3"
  },
  "language_info": {
   "codemirror_mode": {
    "name": "ipython",
    "version": 3
   },
   "file_extension": ".py",
   "mimetype": "text/x-python",
   "name": "python",
   "nbconvert_exporter": "python",
   "pygments_lexer": "ipython3",
   "version": "3.7.10"
  }
 },
 "nbformat": 4,
 "nbformat_minor": 4
}
