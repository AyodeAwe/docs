{
 "cells": [
  {
   "cell_type": "markdown",
   "metadata": {},
   "source": [
    "# Pickling cuML Models for Persistence\n",
    "\n",
    "This notebook demonstrates simple pickling of both single-GPU and multi-GPU cuML models for persistence"
   ]
  },
  {
   "cell_type": "code",
   "execution_count": 1,
   "metadata": {
    "execution": {
     "iopub.execute_input": "2021-04-06T10:12:35.435800Z",
     "iopub.status.busy": "2021-04-06T10:12:35.434316Z",
     "iopub.status.idle": "2021-04-06T10:12:35.437811Z",
     "shell.execute_reply": "2021-04-06T10:12:35.438910Z"
    }
   },
   "outputs": [],
   "source": [
    "import warnings\n",
    "warnings.filterwarnings(\"ignore\", category=FutureWarning)"
   ]
  },
  {
   "cell_type": "markdown",
   "metadata": {},
   "source": [
    "## Single GPU Model Pickling\n",
    "\n",
    "All single-GPU estimators are pickleable. The following example demonstrates the creation of a synthetic dataset, training, and pickling of the resulting model for storage. Trained single-GPU models can also be used to distribute the inference on a Dask cluster, which the `Distributed Model Pickling` section below demonstrates."
   ]
  },
  {
   "cell_type": "code",
   "execution_count": 2,
   "metadata": {
    "execution": {
     "iopub.execute_input": "2021-04-06T10:12:35.448789Z",
     "iopub.status.busy": "2021-04-06T10:12:35.447443Z",
     "iopub.status.idle": "2021-04-06T10:12:40.158348Z",
     "shell.execute_reply": "2021-04-06T10:12:40.157060Z"
    }
   },
   "outputs": [],
   "source": [
    "from cuml.datasets import make_blobs\n",
    "\n",
    "X, y = make_blobs(n_samples=50,\n",
    "                  n_features=10,\n",
    "                  centers=5,\n",
    "                  cluster_std=0.4,\n",
    "                  random_state=0)"
   ]
  },
  {
   "cell_type": "code",
   "execution_count": 3,
   "metadata": {
    "execution": {
     "iopub.execute_input": "2021-04-06T10:12:40.167839Z",
     "iopub.status.busy": "2021-04-06T10:12:40.166348Z",
     "iopub.status.idle": "2021-04-06T10:12:40.546613Z",
     "shell.execute_reply": "2021-04-06T10:12:40.545690Z"
    }
   },
   "outputs": [
    {
     "data": {
      "text/plain": [
       "KMeans()"
      ]
     },
     "execution_count": 1,
     "metadata": {},
     "output_type": "execute_result"
    }
   ],
   "source": [
    "from cuml.cluster import KMeans\n",
    "\n",
    "model = KMeans(n_clusters=5)\n",
    "\n",
    "model.fit(X)"
   ]
  },
  {
   "cell_type": "code",
   "execution_count": 4,
   "metadata": {
    "execution": {
     "iopub.execute_input": "2021-04-06T10:12:40.555329Z",
     "iopub.status.busy": "2021-04-06T10:12:40.554443Z",
     "iopub.status.idle": "2021-04-06T10:12:40.559438Z",
     "shell.execute_reply": "2021-04-06T10:12:40.558684Z"
    }
   },
   "outputs": [],
   "source": [
    "import pickle\n",
    "\n",
    "pickle.dump(model, open(\"kmeans_model.pkl\", \"wb\"))"
   ]
  },
  {
   "cell_type": "code",
   "execution_count": 5,
   "metadata": {
    "execution": {
     "iopub.execute_input": "2021-04-06T10:12:40.566760Z",
     "iopub.status.busy": "2021-04-06T10:12:40.565878Z",
     "iopub.status.idle": "2021-04-06T10:12:40.570370Z",
     "shell.execute_reply": "2021-04-06T10:12:40.571069Z"
    }
   },
   "outputs": [],
   "source": [
    "model = pickle.load(open(\"kmeans_model.pkl\", \"rb\"))"
   ]
  },
  {
   "cell_type": "code",
   "execution_count": 6,
   "metadata": {
    "execution": {
     "iopub.execute_input": "2021-04-06T10:12:40.580135Z",
     "iopub.status.busy": "2021-04-06T10:12:40.579237Z",
     "iopub.status.idle": "2021-04-06T10:12:40.583679Z",
     "shell.execute_reply": "2021-04-06T10:12:40.584405Z"
    }
   },
   "outputs": [
    {
     "data": {
      "text/plain": [
       "array([[-5.7684636 ,  2.3276033 , -3.7457771 , -1.8541754 , -5.169583  ,\n",
       "         7.667088  ,  2.7118318 ,  8.495609  ,  1.7038484 ,  1.1884269 ],\n",
       "       [ 4.6476874 ,  8.37788   , -9.070581  ,  9.459332  ,  8.450422  ,\n",
       "        -1.0210547 ,  3.3920872 , -7.8629856 , -0.75276613,  0.48384127],\n",
       "       [-2.9414442 ,  4.6401706 , -4.5027533 ,  2.2855108 ,  1.644645  ,\n",
       "        -2.4937894 , -5.2241607 , -1.5499196 , -8.063638  ,  2.8169358 ],\n",
       "       [-4.271077  ,  5.561165  , -5.6640916 , -1.8229512 , -9.2925    ,\n",
       "         0.73028314,  4.4586773 , -2.8876226 , -5.1257744 ,  9.694357  ],\n",
       "       [ 5.583742  , -4.1515303 ,  4.369667  , -3.0020502 ,  3.6388965 ,\n",
       "        -4.341912  , -3.318711  ,  6.503671  , -6.865036  , -1.0266498 ]],\n",
       "      dtype=float32)"
      ]
     },
     "execution_count": 1,
     "metadata": {},
     "output_type": "execute_result"
    }
   ],
   "source": [
    "model.cluster_centers_"
   ]
  },
  {
   "cell_type": "markdown",
   "metadata": {},
   "source": [
    "## Distributed Model Pickling"
   ]
  },
  {
   "cell_type": "markdown",
   "metadata": {},
   "source": [
    "The distributed estimator wrappers inside of the `cuml.dask` are not intended to be pickled directly. The Dask cuML estimators provide a function `get_combined_model()`, which returns the trained single-GPU model for pickling. The combined model can be used for inference on a single-GPU, and the `ParallelPostFit` wrapper from the [Dask-ML](https://ml.dask.org/meta-estimators.html) library can be used to perform distributed inference on a Dask cluster."
   ]
  },
  {
   "cell_type": "code",
   "execution_count": 7,
   "metadata": {
    "execution": {
     "iopub.execute_input": "2021-04-06T10:12:40.592408Z",
     "iopub.status.busy": "2021-04-06T10:12:40.591489Z",
     "iopub.status.idle": "2021-04-06T10:12:45.002706Z",
     "shell.execute_reply": "2021-04-06T10:12:45.003892Z"
    }
   },
   "outputs": [
    {
     "data": {
      "text/html": [
       "<table style=\"border: 2px solid white;\">\n",
       "<tr>\n",
       "<td style=\"vertical-align: top; border: 0px solid white\">\n",
       "<h3 style=\"text-align: left;\">Client</h3>\n",
       "<ul style=\"text-align: left; list-style: none; margin: 0; padding: 0;\">\n",
       "  <li><b>Scheduler: </b>tcp://127.0.0.1:39349</li>\n",
       "  <li><b>Dashboard: </b><a href='http://127.0.0.1:8787/status' target='_blank'>http://127.0.0.1:8787/status</a></li>\n",
       "</ul>\n",
       "</td>\n",
       "<td style=\"vertical-align: top; border: 0px solid white\">\n",
       "<h3 style=\"text-align: left;\">Cluster</h3>\n",
       "<ul style=\"text-align: left; list-style:none; margin: 0; padding: 0;\">\n",
       "  <li><b>Workers: </b>1</li>\n",
       "  <li><b>Cores: </b>1</li>\n",
       "  <li><b>Memory: </b>251.80 GiB</li>\n",
       "</ul>\n",
       "</td>\n",
       "</tr>\n",
       "</table>"
      ],
      "text/plain": [
       "<Client: 'tcp://127.0.0.1:39349' processes=1 threads=1, memory=251.80 GiB>"
      ]
     },
     "execution_count": 1,
     "metadata": {},
     "output_type": "execute_result"
    }
   ],
   "source": [
    "from dask.distributed import Client\n",
    "from dask_cuda import LocalCUDACluster\n",
    "\n",
    "cluster = LocalCUDACluster()\n",
    "client = Client(cluster)\n",
    "client"
   ]
  },
  {
   "cell_type": "code",
   "execution_count": 8,
   "metadata": {
    "execution": {
     "iopub.execute_input": "2021-04-06T10:12:45.018552Z",
     "iopub.status.busy": "2021-04-06T10:12:45.017171Z",
     "iopub.status.idle": "2021-04-06T10:12:45.469261Z",
     "shell.execute_reply": "2021-04-06T10:12:45.470450Z"
    }
   },
   "outputs": [],
   "source": [
    "from cuml.dask.datasets import make_blobs\n",
    "\n",
    "n_workers = len(client.scheduler_info()[\"workers\"].keys())\n",
    "\n",
    "X, y = make_blobs(n_samples=5000, \n",
    "                  n_features=30,\n",
    "                  centers=5, \n",
    "                  cluster_std=0.4, \n",
    "                  random_state=0,\n",
    "                  n_parts=n_workers*5)\n",
    "\n",
    "X = X.persist()\n",
    "y = y.persist()"
   ]
  },
  {
   "cell_type": "code",
   "execution_count": 9,
   "metadata": {
    "execution": {
     "iopub.execute_input": "2021-04-06T10:12:45.478041Z",
     "iopub.status.busy": "2021-04-06T10:12:45.476556Z",
     "iopub.status.idle": "2021-04-06T10:12:45.497142Z",
     "shell.execute_reply": "2021-04-06T10:12:45.498344Z"
    }
   },
   "outputs": [],
   "source": [
    "from cuml.dask.cluster import KMeans\n",
    "\n",
    "dist_model = KMeans(n_clusters=5)"
   ]
  },
  {
   "cell_type": "code",
   "execution_count": 10,
   "metadata": {
    "execution": {
     "iopub.execute_input": "2021-04-06T10:12:45.507317Z",
     "iopub.status.busy": "2021-04-06T10:12:45.503889Z",
     "iopub.status.idle": "2021-04-06T10:12:48.325213Z",
     "shell.execute_reply": "2021-04-06T10:12:48.326405Z"
    }
   },
   "outputs": [
    {
     "data": {
      "text/plain": [
       "<cuml.dask.cluster.kmeans.KMeans at 0x7f40484b6b90>"
      ]
     },
     "execution_count": 1,
     "metadata": {},
     "output_type": "execute_result"
    }
   ],
   "source": [
    "dist_model.fit(X)"
   ]
  },
  {
   "cell_type": "code",
   "execution_count": 11,
   "metadata": {
    "execution": {
     "iopub.execute_input": "2021-04-06T10:12:48.337731Z",
     "iopub.status.busy": "2021-04-06T10:12:48.336348Z",
     "iopub.status.idle": "2021-04-06T10:12:48.350140Z",
     "shell.execute_reply": "2021-04-06T10:12:48.348943Z"
    }
   },
   "outputs": [],
   "source": [
    "import pickle\n",
    "\n",
    "single_gpu_model = dist_model.get_combined_model()\n",
    "pickle.dump(single_gpu_model, open(\"kmeans_model.pkl\", \"wb\"))"
   ]
  },
  {
   "cell_type": "code",
   "execution_count": 12,
   "metadata": {
    "execution": {
     "iopub.execute_input": "2021-04-06T10:12:48.357906Z",
     "iopub.status.busy": "2021-04-06T10:12:48.356562Z",
     "iopub.status.idle": "2021-04-06T10:12:48.361568Z",
     "shell.execute_reply": "2021-04-06T10:12:48.360462Z"
    }
   },
   "outputs": [],
   "source": [
    "single_gpu_model = pickle.load(open(\"kmeans_model.pkl\", \"rb\"))"
   ]
  },
  {
   "cell_type": "code",
   "execution_count": 13,
   "metadata": {
    "execution": {
     "iopub.execute_input": "2021-04-06T10:12:48.373560Z",
     "iopub.status.busy": "2021-04-06T10:12:48.372308Z",
     "iopub.status.idle": "2021-04-06T10:12:48.376796Z",
     "shell.execute_reply": "2021-04-06T10:12:48.377881Z"
    }
   },
   "outputs": [
    {
     "data": {
      "text/plain": [
       "array([[ 4.8098755 ,  8.422669  , -9.239023  ,  9.379143  ,  8.499882  ,\n",
       "        -1.0592817 ,  3.3437855 , -7.802613  , -0.5946332 ,  0.264476  ,\n",
       "         5.5073934 , -4.1069803 ,  4.289078  , -2.817205  ,  3.615015  ,\n",
       "        -4.161299  , -3.6209636 ,  6.21853   , -6.9460454 , -1.0828307 ,\n",
       "        -5.8267713 ,  2.2258768 , -3.860121  , -1.6974078 , -5.313416  ,\n",
       "         7.579578  ,  2.918747  ,  8.540424  ,  1.5523202 ,  1.0841804 ],\n",
       "       [-2.8941853 ,  4.4741893 , -4.4475646 ,  2.3820994 ,  1.7478831 ,\n",
       "        -2.5046246 , -5.208331  , -1.693768  , -8.134756  ,  2.6468298 ,\n",
       "        -4.3163633 ,  5.565538  , -5.7321978 , -1.7384957 , -9.34465   ,\n",
       "         0.7084659 ,  4.435841  , -2.9008994 , -4.948639  ,  9.695303  ,\n",
       "         8.366523  , -6.2474537 , -6.3494744 ,  1.9546974 ,  4.1576157 ,\n",
       "        -9.167903  ,  4.6070685 ,  8.788585  ,  6.8644238 ,  2.2319865 ],\n",
       "       [-4.665715  , -9.558954  ,  6.6572275 ,  4.440132  ,  2.1730292 ,\n",
       "         2.590403  ,  0.58000994,  6.2550373 , -8.829282  , -0.41399652,\n",
       "         9.831049  ,  7.589734  ,  9.975545  , -5.856176  , -1.2414308 ,\n",
       "        -2.5572665 , -1.0441563 , -5.2461085 , -9.311469  ,  4.6366053 ,\n",
       "        -0.11776032, -3.929529  ,  6.2073684 , -7.399017  ,  5.6740923 ,\n",
       "        -8.5402975 , -7.5186524 , -5.5301223 ,  4.834131  ,  2.5691676 ],\n",
       "       [-6.95811   , -9.760796  , -6.55061   , -0.4196504 ,  6.068769  ,\n",
       "         3.7602882 , -3.9751325 ,  6.149338  , -1.8729934 ,  5.0252724 ,\n",
       "        -6.8341002 ,  1.3383293 ,  9.001677  , -0.98648363,  9.654021  ,\n",
       "         9.790741  , -8.618678  ,  5.9955783 ,  2.2099142 , -3.6309097 ,\n",
       "         7.0714083 , -7.3946223 , -5.2996335 , -6.9737067 , -7.908462  ,\n",
       "         6.681062  , -5.575639  ,  7.131311  ,  6.5996165 , -8.309572  ],\n",
       "       [ 6.261753  ,  9.228769  ,  8.358132  ,  9.017299  ,  7.704468  ,\n",
       "        -1.0047107 , -6.2457666 ,  1.3951714 , -6.97618   , -5.948058  ,\n",
       "         1.0575902 , -0.01074279,  2.8210256 ,  1.838936  , -8.2471    ,\n",
       "         3.049897  , -8.483243  ,  9.721642  , -7.7502737 ,  3.465595  ,\n",
       "        -3.9312139 , -4.0965157 ,  2.6586978 ,  1.2832459 ,  1.0177817 ,\n",
       "         5.25711   , -1.6444381 ,  6.138324  , -6.8840547 , -9.663093  ]],\n",
       "      dtype=float32)"
      ]
     },
     "execution_count": 1,
     "metadata": {},
     "output_type": "execute_result"
    }
   ],
   "source": [
    "single_gpu_model.cluster_centers_"
   ]
  }
 ],
 "metadata": {
  "kernelspec": {
   "display_name": "Python 3",
   "language": "python",
   "name": "python3"
  },
  "language_info": {
   "codemirror_mode": {
    "name": "ipython",
    "version": 3
   },
   "file_extension": ".py",
   "mimetype": "text/x-python",
   "name": "python",
   "nbconvert_exporter": "python",
   "pygments_lexer": "ipython3",
   "version": "3.7.10"
  }
 },
 "nbformat": 4,
 "nbformat_minor": 4
}
