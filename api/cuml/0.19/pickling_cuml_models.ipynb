{
 "cells": [
  {
   "cell_type": "markdown",
   "metadata": {},
   "source": [
    "# Pickling cuML Models for Persistence\n",
    "\n",
    "This notebook demonstrates simple pickling of both single-GPU and multi-GPU cuML models for persistence"
   ]
  },
  {
   "cell_type": "code",
   "execution_count": 1,
   "metadata": {
    "execution": {
     "iopub.execute_input": "2021-04-09T09:46:20.386985Z",
     "iopub.status.busy": "2021-04-09T09:46:20.385428Z",
     "iopub.status.idle": "2021-04-09T09:46:20.390721Z",
     "shell.execute_reply": "2021-04-09T09:46:20.389349Z"
    }
   },
   "outputs": [],
   "source": [
    "import warnings\n",
    "warnings.filterwarnings(\"ignore\", category=FutureWarning)"
   ]
  },
  {
   "cell_type": "markdown",
   "metadata": {},
   "source": [
    "## Single GPU Model Pickling\n",
    "\n",
    "All single-GPU estimators are pickleable. The following example demonstrates the creation of a synthetic dataset, training, and pickling of the resulting model for storage. Trained single-GPU models can also be used to distribute the inference on a Dask cluster, which the `Distributed Model Pickling` section below demonstrates."
   ]
  },
  {
   "cell_type": "code",
   "execution_count": 2,
   "metadata": {
    "execution": {
     "iopub.execute_input": "2021-04-09T09:46:20.400558Z",
     "iopub.status.busy": "2021-04-09T09:46:20.399094Z",
     "iopub.status.idle": "2021-04-09T09:46:25.336027Z",
     "shell.execute_reply": "2021-04-09T09:46:25.334647Z"
    }
   },
   "outputs": [],
   "source": [
    "from cuml.datasets import make_blobs\n",
    "\n",
    "X, y = make_blobs(n_samples=50,\n",
    "                  n_features=10,\n",
    "                  centers=5,\n",
    "                  cluster_std=0.4,\n",
    "                  random_state=0)"
   ]
  },
  {
   "cell_type": "code",
   "execution_count": 3,
   "metadata": {
    "execution": {
     "iopub.execute_input": "2021-04-09T09:46:25.348709Z",
     "iopub.status.busy": "2021-04-09T09:46:25.347226Z",
     "iopub.status.idle": "2021-04-09T09:46:25.744117Z",
     "shell.execute_reply": "2021-04-09T09:46:25.745365Z"
    }
   },
   "outputs": [
    {
     "data": {
      "text/plain": [
       "KMeans()"
      ]
     },
     "execution_count": 1,
     "metadata": {},
     "output_type": "execute_result"
    }
   ],
   "source": [
    "from cuml.cluster import KMeans\n",
    "\n",
    "model = KMeans(n_clusters=5)\n",
    "\n",
    "model.fit(X)"
   ]
  },
  {
   "cell_type": "code",
   "execution_count": 4,
   "metadata": {
    "execution": {
     "iopub.execute_input": "2021-04-09T09:46:25.753012Z",
     "iopub.status.busy": "2021-04-09T09:46:25.751577Z",
     "iopub.status.idle": "2021-04-09T09:46:25.754631Z",
     "shell.execute_reply": "2021-04-09T09:46:25.755771Z"
    }
   },
   "outputs": [],
   "source": [
    "import pickle\n",
    "\n",
    "pickle.dump(model, open(\"kmeans_model.pkl\", \"wb\"))"
   ]
  },
  {
   "cell_type": "code",
   "execution_count": 5,
   "metadata": {
    "execution": {
     "iopub.execute_input": "2021-04-09T09:46:25.763001Z",
     "iopub.status.busy": "2021-04-09T09:46:25.761639Z",
     "iopub.status.idle": "2021-04-09T09:46:25.764848Z",
     "shell.execute_reply": "2021-04-09T09:46:25.765865Z"
    }
   },
   "outputs": [],
   "source": [
    "model = pickle.load(open(\"kmeans_model.pkl\", \"rb\"))"
   ]
  },
  {
   "cell_type": "code",
   "execution_count": 6,
   "metadata": {
    "execution": {
     "iopub.execute_input": "2021-04-09T09:46:25.774103Z",
     "iopub.status.busy": "2021-04-09T09:46:25.772800Z",
     "iopub.status.idle": "2021-04-09T09:46:25.777307Z",
     "shell.execute_reply": "2021-04-09T09:46:25.778379Z"
    }
   },
   "outputs": [
    {
     "data": {
      "text/plain": [
       "array([[-5.768463 ,  2.3276033, -3.7457774, -1.8541754, -5.1695833,\n",
       "         7.6670885,  2.7118316,  8.495609 ,  1.7038484,  1.1884269],\n",
       "       [ 4.647688 ,  8.37788  , -9.070581 ,  9.459332 ,  8.450422 ,\n",
       "        -1.0210547,  3.392087 , -7.8629856, -0.7527662,  0.4838412],\n",
       "       [-2.9414442,  4.6401706, -4.5027533,  2.2855108,  1.644645 ,\n",
       "        -2.4937892, -5.2241607, -1.5499196, -8.063638 ,  2.816936 ],\n",
       "       [-4.271077 ,  5.5611653, -5.6640916, -1.8229511, -9.2925   ,\n",
       "         0.730283 ,  4.4586773, -2.8876226, -5.1257744,  9.694357 ],\n",
       "       [ 5.583742 , -4.1515303,  4.369667 , -3.00205  ,  3.6388965,\n",
       "        -4.341912 , -3.3187115,  6.503671 , -6.865036 , -1.0266498]],\n",
       "      dtype=float32)"
      ]
     },
     "execution_count": 1,
     "metadata": {},
     "output_type": "execute_result"
    }
   ],
   "source": [
    "model.cluster_centers_"
   ]
  },
  {
   "cell_type": "markdown",
   "metadata": {},
   "source": [
    "## Distributed Model Pickling"
   ]
  },
  {
   "cell_type": "markdown",
   "metadata": {},
   "source": [
    "The distributed estimator wrappers inside of the `cuml.dask` are not intended to be pickled directly. The Dask cuML estimators provide a function `get_combined_model()`, which returns the trained single-GPU model for pickling. The combined model can be used for inference on a single-GPU, and the `ParallelPostFit` wrapper from the [Dask-ML](https://ml.dask.org/meta-estimators.html) library can be used to perform distributed inference on a Dask cluster."
   ]
  },
  {
   "cell_type": "code",
   "execution_count": 7,
   "metadata": {
    "execution": {
     "iopub.execute_input": "2021-04-09T09:46:25.785707Z",
     "iopub.status.busy": "2021-04-09T09:46:25.784421Z",
     "iopub.status.idle": "2021-04-09T09:46:30.001667Z",
     "shell.execute_reply": "2021-04-09T09:46:30.002924Z"
    }
   },
   "outputs": [
    {
     "data": {
      "text/html": [
       "<table style=\"border: 2px solid white;\">\n",
       "<tr>\n",
       "<td style=\"vertical-align: top; border: 0px solid white\">\n",
       "<h3 style=\"text-align: left;\">Client</h3>\n",
       "<ul style=\"text-align: left; list-style: none; margin: 0; padding: 0;\">\n",
       "  <li><b>Scheduler: </b>tcp://127.0.0.1:42847</li>\n",
       "  <li><b>Dashboard: </b><a href='http://127.0.0.1:8787/status' target='_blank'>http://127.0.0.1:8787/status</a></li>\n",
       "</ul>\n",
       "</td>\n",
       "<td style=\"vertical-align: top; border: 0px solid white\">\n",
       "<h3 style=\"text-align: left;\">Cluster</h3>\n",
       "<ul style=\"text-align: left; list-style:none; margin: 0; padding: 0;\">\n",
       "  <li><b>Workers: </b>1</li>\n",
       "  <li><b>Cores: </b>1</li>\n",
       "  <li><b>Memory: </b>251.80 GiB</li>\n",
       "</ul>\n",
       "</td>\n",
       "</tr>\n",
       "</table>"
      ],
      "text/plain": [
       "<Client: 'tcp://127.0.0.1:42847' processes=1 threads=1, memory=251.80 GiB>"
      ]
     },
     "execution_count": 1,
     "metadata": {},
     "output_type": "execute_result"
    }
   ],
   "source": [
    "from dask.distributed import Client\n",
    "from dask_cuda import LocalCUDACluster\n",
    "\n",
    "cluster = LocalCUDACluster()\n",
    "client = Client(cluster)\n",
    "client"
   ]
  },
  {
   "cell_type": "code",
   "execution_count": 8,
   "metadata": {
    "execution": {
     "iopub.execute_input": "2021-04-09T09:46:30.017805Z",
     "iopub.status.busy": "2021-04-09T09:46:30.016346Z",
     "iopub.status.idle": "2021-04-09T09:46:30.524791Z",
     "shell.execute_reply": "2021-04-09T09:46:30.523439Z"
    }
   },
   "outputs": [],
   "source": [
    "from cuml.dask.datasets import make_blobs\n",
    "\n",
    "n_workers = len(client.scheduler_info()[\"workers\"].keys())\n",
    "\n",
    "X, y = make_blobs(n_samples=5000, \n",
    "                  n_features=30,\n",
    "                  centers=5, \n",
    "                  cluster_std=0.4, \n",
    "                  random_state=0,\n",
    "                  n_parts=n_workers*5)\n",
    "\n",
    "X = X.persist()\n",
    "y = y.persist()"
   ]
  },
  {
   "cell_type": "code",
   "execution_count": 9,
   "metadata": {
    "execution": {
     "iopub.execute_input": "2021-04-09T09:46:30.533074Z",
     "iopub.status.busy": "2021-04-09T09:46:30.531732Z",
     "iopub.status.idle": "2021-04-09T09:46:30.556706Z",
     "shell.execute_reply": "2021-04-09T09:46:30.555350Z"
    }
   },
   "outputs": [],
   "source": [
    "from cuml.dask.cluster import KMeans\n",
    "\n",
    "dist_model = KMeans(n_clusters=5)"
   ]
  },
  {
   "cell_type": "code",
   "execution_count": 10,
   "metadata": {
    "execution": {
     "iopub.execute_input": "2021-04-09T09:46:30.567084Z",
     "iopub.status.busy": "2021-04-09T09:46:30.565278Z",
     "iopub.status.idle": "2021-04-09T09:46:33.291749Z",
     "shell.execute_reply": "2021-04-09T09:46:33.292996Z"
    }
   },
   "outputs": [
    {
     "data": {
      "text/plain": [
       "<cuml.dask.cluster.kmeans.KMeans at 0x7f594c47c5d0>"
      ]
     },
     "execution_count": 1,
     "metadata": {},
     "output_type": "execute_result"
    }
   ],
   "source": [
    "dist_model.fit(X)"
   ]
  },
  {
   "cell_type": "code",
   "execution_count": 11,
   "metadata": {
    "execution": {
     "iopub.execute_input": "2021-04-09T09:46:33.306149Z",
     "iopub.status.busy": "2021-04-09T09:46:33.304693Z",
     "iopub.status.idle": "2021-04-09T09:46:33.321284Z",
     "shell.execute_reply": "2021-04-09T09:46:33.322453Z"
    }
   },
   "outputs": [],
   "source": [
    "import pickle\n",
    "\n",
    "single_gpu_model = dist_model.get_combined_model()\n",
    "pickle.dump(single_gpu_model, open(\"kmeans_model.pkl\", \"wb\"))"
   ]
  },
  {
   "cell_type": "code",
   "execution_count": 12,
   "metadata": {
    "execution": {
     "iopub.execute_input": "2021-04-09T09:46:33.330944Z",
     "iopub.status.busy": "2021-04-09T09:46:33.329488Z",
     "iopub.status.idle": "2021-04-09T09:46:33.335641Z",
     "shell.execute_reply": "2021-04-09T09:46:33.334168Z"
    }
   },
   "outputs": [],
   "source": [
    "single_gpu_model = pickle.load(open(\"kmeans_model.pkl\", \"rb\"))"
   ]
  },
  {
   "cell_type": "code",
   "execution_count": 13,
   "metadata": {
    "execution": {
     "iopub.execute_input": "2021-04-09T09:46:33.348736Z",
     "iopub.status.busy": "2021-04-09T09:46:33.347310Z",
     "iopub.status.idle": "2021-04-09T09:46:33.353419Z",
     "shell.execute_reply": "2021-04-09T09:46:33.352226Z"
    }
   },
   "outputs": [
    {
     "data": {
      "text/plain": [
       "array([[ 4.809874  ,  8.42267   , -9.23902   ,  9.379147  ,  8.499882  ,\n",
       "        -1.0592816 ,  3.3437858 , -7.8026114 , -0.5946332 ,  0.26447594,\n",
       "         5.5073967 , -4.1069794 ,  4.2890773 , -2.8172054 ,  3.6150153 ,\n",
       "        -4.161299  , -3.6209638 ,  6.2185297 , -6.946047  , -1.0828307 ,\n",
       "        -5.8267713 ,  2.225877  , -3.8601208 , -1.6974078 , -5.3134174 ,\n",
       "         7.5795784 ,  2.9187477 ,  8.540422  ,  1.5523204 ,  1.0841805 ],\n",
       "       [-2.8941855 ,  4.47419   , -4.447567  ,  2.382099  ,  1.7478831 ,\n",
       "        -2.5046248 , -5.208331  , -1.6937691 , -8.134754  ,  2.64683   ,\n",
       "        -4.316363  ,  5.5655394 , -5.7322    , -1.7384955 , -9.344655  ,\n",
       "         0.7084657 ,  4.435839  , -2.9009006 , -4.9486365 ,  9.695302  ,\n",
       "         8.366521  , -6.247454  , -6.349474  ,  1.9546973 ,  4.1576157 ,\n",
       "        -9.167903  ,  4.607068  ,  8.788585  ,  6.864424  ,  2.231988  ],\n",
       "       [-4.665715  , -9.558958  ,  6.657229  ,  4.440129  ,  2.1730294 ,\n",
       "         2.5904036 ,  0.5800098 ,  6.2550354 , -8.829282  , -0.41399652,\n",
       "         9.831053  ,  7.589734  ,  9.975544  , -5.856174  , -1.24143   ,\n",
       "        -2.5572665 , -1.0441562 , -5.246112  , -9.31147   ,  4.6366057 ,\n",
       "        -0.11776034, -3.9295285 ,  6.2073674 , -7.399015  ,  5.6740923 ,\n",
       "        -8.540297  , -7.5186524 , -5.5301213 ,  4.8341312 ,  2.569168  ],\n",
       "       [-6.958111  , -9.760795  , -6.550609  , -0.4196504 ,  6.0687675 ,\n",
       "         3.7602892 , -3.9751325 ,  6.1493363 , -1.8729935 ,  5.025273  ,\n",
       "        -6.8341002 ,  1.3383285 ,  9.0016775 , -0.9864836 ,  9.65402   ,\n",
       "         9.79074   , -8.618675  ,  5.9955764 ,  2.209914  , -3.6309092 ,\n",
       "         7.071409  , -7.394622  , -5.2996335 , -6.973703  , -7.908463  ,\n",
       "         6.681064  , -5.5756397 ,  7.1313124 ,  6.599615  , -8.309572  ],\n",
       "       [ 6.261755  ,  9.228771  ,  8.3581295 ,  9.017301  ,  7.7044663 ,\n",
       "        -1.0047106 , -6.245766  ,  1.3951722 , -6.97618   , -5.9480586 ,\n",
       "         1.0575895 , -0.01074278,  2.821025  ,  1.8389361 , -8.247101  ,\n",
       "         3.049896  , -8.483242  ,  9.721644  , -7.750271  ,  3.4655948 ,\n",
       "        -3.9312139 , -4.0965166 ,  2.6586983 ,  1.2832465 ,  1.0177817 ,\n",
       "         5.2571106 , -1.6444381 ,  6.138323  , -6.884054  , -9.663094  ]],\n",
       "      dtype=float32)"
      ]
     },
     "execution_count": 1,
     "metadata": {},
     "output_type": "execute_result"
    }
   ],
   "source": [
    "single_gpu_model.cluster_centers_"
   ]
  }
 ],
 "metadata": {
  "kernelspec": {
   "display_name": "Python 3",
   "language": "python",
   "name": "python3"
  },
  "language_info": {
   "codemirror_mode": {
    "name": "ipython",
    "version": 3
   },
   "file_extension": ".py",
   "mimetype": "text/x-python",
   "name": "python",
   "nbconvert_exporter": "python",
   "pygments_lexer": "ipython3",
   "version": "3.7.10"
  }
 },
 "nbformat": 4,
 "nbformat_minor": 4
}
