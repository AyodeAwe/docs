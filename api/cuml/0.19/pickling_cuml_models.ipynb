{
 "cells": [
  {
   "cell_type": "markdown",
   "metadata": {},
   "source": [
    "# Pickling cuML Models for Persistence\n",
    "\n",
    "This notebook demonstrates simple pickling of both single-GPU and multi-GPU cuML models for persistence"
   ]
  },
  {
   "cell_type": "code",
   "execution_count": 1,
   "metadata": {
    "execution": {
     "iopub.execute_input": "2021-03-23T09:49:50.857668Z",
     "iopub.status.busy": "2021-03-23T09:49:50.856163Z",
     "iopub.status.idle": "2021-03-23T09:49:50.861694Z",
     "shell.execute_reply": "2021-03-23T09:49:50.860000Z"
    }
   },
   "outputs": [],
   "source": [
    "import warnings\n",
    "warnings.filterwarnings(\"ignore\", category=FutureWarning)"
   ]
  },
  {
   "cell_type": "markdown",
   "metadata": {},
   "source": [
    "## Single GPU Model Pickling\n",
    "\n",
    "All single-GPU estimators are pickleable. The following example demonstrates the creation of a synthetic dataset, training, and pickling of the resulting model for storage. Trained single-GPU models can also be used to distribute the inference on a Dask cluster, which the `Distributed Model Pickling` section below demonstrates."
   ]
  },
  {
   "cell_type": "code",
   "execution_count": 2,
   "metadata": {
    "execution": {
     "iopub.execute_input": "2021-03-23T09:49:50.871916Z",
     "iopub.status.busy": "2021-03-23T09:49:50.870418Z",
     "iopub.status.idle": "2021-03-23T09:49:56.837117Z",
     "shell.execute_reply": "2021-03-23T09:49:56.835615Z"
    }
   },
   "outputs": [],
   "source": [
    "from cuml.datasets import make_blobs\n",
    "\n",
    "X, y = make_blobs(n_samples=50,\n",
    "                  n_features=10,\n",
    "                  centers=5,\n",
    "                  cluster_std=0.4,\n",
    "                  random_state=0)"
   ]
  },
  {
   "cell_type": "code",
   "execution_count": 3,
   "metadata": {
    "execution": {
     "iopub.execute_input": "2021-03-23T09:49:56.845498Z",
     "iopub.status.busy": "2021-03-23T09:49:56.844071Z",
     "iopub.status.idle": "2021-03-23T09:49:57.254271Z",
     "shell.execute_reply": "2021-03-23T09:49:57.255700Z"
    }
   },
   "outputs": [
    {
     "data": {
      "text/plain": [
       "KMeans(handle=<cuml.raft.common.handle.Handle object at 0x7f361e9f0af0>, n_clusters=5, max_iter=300, tol=0.0001, verbose=4, random_state=1, init='scalable-k-means++', n_init=1, oversampling_factor=2.0, max_samples_per_batch=32768, output_type='input')"
      ]
     },
     "execution_count": 1,
     "metadata": {},
     "output_type": "execute_result"
    }
   ],
   "source": [
    "from cuml.cluster import KMeans\n",
    "\n",
    "model = KMeans(n_clusters=5)\n",
    "\n",
    "model.fit(X)"
   ]
  },
  {
   "cell_type": "code",
   "execution_count": 4,
   "metadata": {
    "execution": {
     "iopub.execute_input": "2021-03-23T09:49:57.262684Z",
     "iopub.status.busy": "2021-03-23T09:49:57.261239Z",
     "iopub.status.idle": "2021-03-23T09:49:57.265558Z",
     "shell.execute_reply": "2021-03-23T09:49:57.266756Z"
    }
   },
   "outputs": [],
   "source": [
    "import pickle\n",
    "\n",
    "pickle.dump(model, open(\"kmeans_model.pkl\", \"wb\"))"
   ]
  },
  {
   "cell_type": "code",
   "execution_count": 5,
   "metadata": {
    "execution": {
     "iopub.execute_input": "2021-03-23T09:49:57.278995Z",
     "iopub.status.busy": "2021-03-23T09:49:57.275099Z",
     "iopub.status.idle": "2021-03-23T09:49:57.283314Z",
     "shell.execute_reply": "2021-03-23T09:49:57.284426Z"
    }
   },
   "outputs": [],
   "source": [
    "model = pickle.load(open(\"kmeans_model.pkl\", \"rb\"))"
   ]
  },
  {
   "cell_type": "code",
   "execution_count": 6,
   "metadata": {
    "execution": {
     "iopub.execute_input": "2021-03-23T09:49:57.296381Z",
     "iopub.status.busy": "2021-03-23T09:49:57.294841Z",
     "iopub.status.idle": "2021-03-23T09:49:57.300009Z",
     "shell.execute_reply": "2021-03-23T09:49:57.301497Z"
    }
   },
   "outputs": [
    {
     "data": {
      "text/plain": [
       "array([[-5.7684636 ,  2.3276033 , -3.7457771 , -1.8541752 , -5.1695833 ,\n",
       "         7.667088  ,  2.7118318 ,  8.495609  ,  1.7038484 ,  1.1884269 ],\n",
       "       [ 4.647688  ,  8.37788   , -9.070581  ,  9.459332  ,  8.450423  ,\n",
       "        -1.0210547 ,  3.3920872 , -7.8629856 , -0.7527662 ,  0.48384118],\n",
       "       [-2.9414442 ,  4.6401706 , -4.5027537 ,  2.2855108 ,  1.644645  ,\n",
       "        -2.4937894 , -5.2241607 , -1.5499196 , -8.063638  ,  2.816936  ],\n",
       "       [-4.271077  ,  5.561165  , -5.6640916 , -1.8229512 , -9.2925    ,\n",
       "         0.73028314,  4.4586773 , -2.8876226 , -5.1257744 ,  9.694357  ],\n",
       "       [ 5.5837417 , -4.1515303 ,  4.369667  , -3.0020504 ,  3.638897  ,\n",
       "        -4.3419113 , -3.3187115 ,  6.503671  , -6.865036  , -1.0266497 ]],\n",
       "      dtype=float32)"
      ]
     },
     "execution_count": 1,
     "metadata": {},
     "output_type": "execute_result"
    }
   ],
   "source": [
    "model.cluster_centers_"
   ]
  },
  {
   "cell_type": "markdown",
   "metadata": {},
   "source": [
    "## Distributed Model Pickling"
   ]
  },
  {
   "cell_type": "markdown",
   "metadata": {},
   "source": [
    "The distributed estimator wrappers inside of the `cuml.dask` are not intended to be pickled directly. The Dask cuML estimators provide a function `get_combined_model()`, which returns the trained single-GPU model for pickling. The combined model can be used for inference on a single-GPU, and the `ParallelPostFit` wrapper from the [Dask-ML](https://ml.dask.org/meta-estimators.html) library can be used to perform distributed inference on a Dask cluster."
   ]
  },
  {
   "cell_type": "code",
   "execution_count": 7,
   "metadata": {
    "execution": {
     "iopub.execute_input": "2021-03-23T09:49:57.310869Z",
     "iopub.status.busy": "2021-03-23T09:49:57.309499Z",
     "iopub.status.idle": "2021-03-23T09:50:01.493294Z",
     "shell.execute_reply": "2021-03-23T09:50:01.494606Z"
    }
   },
   "outputs": [
    {
     "data": {
      "text/html": [
       "<table style=\"border: 2px solid white;\">\n",
       "<tr>\n",
       "<td style=\"vertical-align: top; border: 0px solid white\">\n",
       "<h3 style=\"text-align: left;\">Client</h3>\n",
       "<ul style=\"text-align: left; list-style: none; margin: 0; padding: 0;\">\n",
       "  <li><b>Scheduler: </b>tcp://127.0.0.1:35404</li>\n",
       "  <li><b>Dashboard: </b><a href='http://127.0.0.1:8787/status' target='_blank'>http://127.0.0.1:8787/status</a></li>\n",
       "</ul>\n",
       "</td>\n",
       "<td style=\"vertical-align: top; border: 0px solid white\">\n",
       "<h3 style=\"text-align: left;\">Cluster</h3>\n",
       "<ul style=\"text-align: left; list-style:none; margin: 0; padding: 0;\">\n",
       "  <li><b>Workers: </b>1</li>\n",
       "  <li><b>Cores: </b>1</li>\n",
       "  <li><b>Memory: </b>270.37 GB</li>\n",
       "</ul>\n",
       "</td>\n",
       "</tr>\n",
       "</table>"
      ],
      "text/plain": [
       "<Client: 'tcp://127.0.0.1:35404' processes=1 threads=1, memory=270.37 GB>"
      ]
     },
     "execution_count": 1,
     "metadata": {},
     "output_type": "execute_result"
    }
   ],
   "source": [
    "from dask.distributed import Client\n",
    "from dask_cuda import LocalCUDACluster\n",
    "\n",
    "cluster = LocalCUDACluster()\n",
    "client = Client(cluster)\n",
    "client"
   ]
  },
  {
   "cell_type": "code",
   "execution_count": 8,
   "metadata": {
    "execution": {
     "iopub.execute_input": "2021-03-23T09:50:01.516839Z",
     "iopub.status.busy": "2021-03-23T09:50:01.515342Z",
     "iopub.status.idle": "2021-03-23T09:50:02.071204Z",
     "shell.execute_reply": "2021-03-23T09:50:02.069535Z"
    }
   },
   "outputs": [],
   "source": [
    "from cuml.dask.datasets import make_blobs\n",
    "\n",
    "n_workers = len(client.scheduler_info()[\"workers\"].keys())\n",
    "\n",
    "X, y = make_blobs(n_samples=5000, \n",
    "                  n_features=30,\n",
    "                  centers=5, \n",
    "                  cluster_std=0.4, \n",
    "                  random_state=0,\n",
    "                  n_parts=n_workers*5)\n",
    "\n",
    "X = X.persist()\n",
    "y = y.persist()"
   ]
  },
  {
   "cell_type": "code",
   "execution_count": 9,
   "metadata": {
    "execution": {
     "iopub.execute_input": "2021-03-23T09:50:02.088444Z",
     "iopub.status.busy": "2021-03-23T09:50:02.086843Z",
     "iopub.status.idle": "2021-03-23T09:50:02.130608Z",
     "shell.execute_reply": "2021-03-23T09:50:02.129265Z"
    }
   },
   "outputs": [],
   "source": [
    "from cuml.dask.cluster import KMeans\n",
    "\n",
    "dist_model = KMeans(n_clusters=5)"
   ]
  },
  {
   "cell_type": "code",
   "execution_count": 10,
   "metadata": {
    "execution": {
     "iopub.execute_input": "2021-03-23T09:50:02.144807Z",
     "iopub.status.busy": "2021-03-23T09:50:02.143339Z",
     "iopub.status.idle": "2021-03-23T09:50:06.689673Z",
     "shell.execute_reply": "2021-03-23T09:50:06.690910Z"
    }
   },
   "outputs": [
    {
     "data": {
      "text/plain": [
       "<cuml.dask.cluster.kmeans.KMeans at 0x7f35c56c01d0>"
      ]
     },
     "execution_count": 1,
     "metadata": {},
     "output_type": "execute_result"
    }
   ],
   "source": [
    "dist_model.fit(X)"
   ]
  },
  {
   "cell_type": "code",
   "execution_count": 11,
   "metadata": {
    "execution": {
     "iopub.execute_input": "2021-03-23T09:50:06.703375Z",
     "iopub.status.busy": "2021-03-23T09:50:06.701967Z",
     "iopub.status.idle": "2021-03-23T09:50:06.724425Z",
     "shell.execute_reply": "2021-03-23T09:50:06.723034Z"
    }
   },
   "outputs": [],
   "source": [
    "import pickle\n",
    "\n",
    "single_gpu_model = dist_model.get_combined_model()\n",
    "pickle.dump(single_gpu_model, open(\"kmeans_model.pkl\", \"wb\"))"
   ]
  },
  {
   "cell_type": "code",
   "execution_count": 12,
   "metadata": {
    "execution": {
     "iopub.execute_input": "2021-03-23T09:50:06.733426Z",
     "iopub.status.busy": "2021-03-23T09:50:06.732142Z",
     "iopub.status.idle": "2021-03-23T09:50:06.738026Z",
     "shell.execute_reply": "2021-03-23T09:50:06.736910Z"
    }
   },
   "outputs": [],
   "source": [
    "single_gpu_model = pickle.load(open(\"kmeans_model.pkl\", \"rb\"))"
   ]
  },
  {
   "cell_type": "code",
   "execution_count": 13,
   "metadata": {
    "execution": {
     "iopub.execute_input": "2021-03-23T09:50:06.752714Z",
     "iopub.status.busy": "2021-03-23T09:50:06.751453Z",
     "iopub.status.idle": "2021-03-23T09:50:06.755991Z",
     "shell.execute_reply": "2021-03-23T09:50:06.757182Z"
    }
   },
   "outputs": [
    {
     "data": {
      "text/plain": [
       "array([[ 4.809875  ,  8.422671  , -9.239023  ,  9.379143  ,  8.499881  ,\n",
       "        -1.0592818 ,  3.3437855 , -7.8026123 , -0.5946332 ,  0.264476  ,\n",
       "         5.5073957 , -4.10698   ,  4.2890778 , -2.8172052 ,  3.615015  ,\n",
       "        -4.1613    , -3.620964  ,  6.218529  , -6.9460473 , -1.0828307 ,\n",
       "        -5.8267703 ,  2.2258763 , -3.8601213 , -1.6974076 , -5.3134174 ,\n",
       "         7.579578  ,  2.9187474 ,  8.540424  ,  1.5523206 ,  1.0841804 ],\n",
       "       [-2.8941855 ,  4.4741907 , -4.447567  ,  2.3820987 ,  1.7478832 ,\n",
       "        -2.5046248 , -5.208331  , -1.6937687 , -8.134755  ,  2.6468298 ,\n",
       "        -4.3163624 ,  5.5655394 , -5.7321987 , -1.7384951 , -9.344658  ,\n",
       "         0.70846575,  4.435839  , -2.9009    , -4.948638  ,  9.695301  ,\n",
       "         8.366521  , -6.247453  , -6.3494725 ,  1.9546973 ,  4.157616  ,\n",
       "        -9.167902  ,  4.6070676 ,  8.788584  ,  6.864423  ,  2.2319882 ],\n",
       "       [-4.665713  , -9.558958  ,  6.6572285 ,  4.4401307 ,  2.1730304 ,\n",
       "         2.5904036 ,  0.58000994,  6.255035  , -8.829284  , -0.41399658,\n",
       "         9.831051  ,  7.5897346 ,  9.975543  , -5.856175  , -1.2414306 ,\n",
       "        -2.5572665 , -1.0441562 , -5.24611   , -9.311466  ,  4.6366067 ,\n",
       "        -0.11776029, -3.9295292 ,  6.207367  , -7.399014  ,  5.6740923 ,\n",
       "        -8.5403    , -7.5186524 , -5.5301213 ,  4.8341303 ,  2.569168  ],\n",
       "       [-6.95811   , -9.760797  , -6.550609  , -0.41965044,  6.0687685 ,\n",
       "         3.7602885 , -3.9751325 ,  6.1493387 , -1.8729935 ,  5.025274  ,\n",
       "        -6.8340993 ,  1.3383294 ,  9.0016775 , -0.98648345,  9.654021  ,\n",
       "         9.790737  , -8.618677  ,  5.995579  ,  2.2099135 , -3.63091   ,\n",
       "         7.0714087 , -7.3946223 , -5.2996345 , -6.9737043 , -7.908465  ,\n",
       "         6.681064  , -5.575639  ,  7.1313105 ,  6.5996184 , -8.309575  ],\n",
       "       [ 6.2617536 ,  9.22877   ,  8.35813   ,  9.017298  ,  7.704466  ,\n",
       "        -1.0047106 , -6.2457666 ,  1.3951722 , -6.976181  , -5.948059  ,\n",
       "         1.0575897 , -0.0107428 ,  2.8210258 ,  1.8389363 , -8.247101  ,\n",
       "         3.0498962 , -8.483243  ,  9.72164   , -7.7502723 ,  3.465596  ,\n",
       "        -3.9312136 , -4.0965166 ,  2.6586986 ,  1.283246  ,  1.0177819 ,\n",
       "         5.257111  , -1.644438  ,  6.1383214 , -6.884054  , -9.663093  ]],\n",
       "      dtype=float32)"
      ]
     },
     "execution_count": 1,
     "metadata": {},
     "output_type": "execute_result"
    }
   ],
   "source": [
    "single_gpu_model.cluster_centers_"
   ]
  }
 ],
 "metadata": {
  "kernelspec": {
   "display_name": "Python 3",
   "language": "python",
   "name": "python3"
  },
  "language_info": {
   "codemirror_mode": {
    "name": "ipython",
    "version": 3
   },
   "file_extension": ".py",
   "mimetype": "text/x-python",
   "name": "python",
   "nbconvert_exporter": "python",
   "pygments_lexer": "ipython3",
   "version": "3.7.10"
  }
 },
 "nbformat": 4,
 "nbformat_minor": 4
}
