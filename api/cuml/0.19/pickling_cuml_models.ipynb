{
 "cells": [
  {
   "cell_type": "markdown",
   "metadata": {},
   "source": [
    "# Pickling cuML Models for Persistence\n",
    "\n",
    "This notebook demonstrates simple pickling of both single-GPU and multi-GPU cuML models for persistence"
   ]
  },
  {
   "cell_type": "code",
   "execution_count": 1,
   "metadata": {
    "execution": {
     "iopub.execute_input": "2021-04-21T09:43:58.215493Z",
     "iopub.status.busy": "2021-04-21T09:43:58.214001Z",
     "iopub.status.idle": "2021-04-21T09:43:58.219269Z",
     "shell.execute_reply": "2021-04-21T09:43:58.217826Z"
    }
   },
   "outputs": [],
   "source": [
    "import warnings\n",
    "warnings.filterwarnings(\"ignore\", category=FutureWarning)"
   ]
  },
  {
   "cell_type": "markdown",
   "metadata": {},
   "source": [
    "## Single GPU Model Pickling\n",
    "\n",
    "All single-GPU estimators are pickleable. The following example demonstrates the creation of a synthetic dataset, training, and pickling of the resulting model for storage. Trained single-GPU models can also be used to distribute the inference on a Dask cluster, which the `Distributed Model Pickling` section below demonstrates."
   ]
  },
  {
   "cell_type": "code",
   "execution_count": 2,
   "metadata": {
    "execution": {
     "iopub.execute_input": "2021-04-21T09:43:58.229338Z",
     "iopub.status.busy": "2021-04-21T09:43:58.227879Z",
     "iopub.status.idle": "2021-04-21T09:44:03.792423Z",
     "shell.execute_reply": "2021-04-21T09:44:03.793615Z"
    }
   },
   "outputs": [],
   "source": [
    "from cuml.datasets import make_blobs\n",
    "\n",
    "X, y = make_blobs(n_samples=50,\n",
    "                  n_features=10,\n",
    "                  centers=5,\n",
    "                  cluster_std=0.4,\n",
    "                  random_state=0)"
   ]
  },
  {
   "cell_type": "code",
   "execution_count": 3,
   "metadata": {
    "execution": {
     "iopub.execute_input": "2021-04-21T09:44:03.803844Z",
     "iopub.status.busy": "2021-04-21T09:44:03.802344Z",
     "iopub.status.idle": "2021-04-21T09:44:04.172186Z",
     "shell.execute_reply": "2021-04-21T09:44:04.173418Z"
    }
   },
   "outputs": [
    {
     "data": {
      "text/plain": [
       "KMeans()"
      ]
     },
     "execution_count": 1,
     "metadata": {},
     "output_type": "execute_result"
    }
   ],
   "source": [
    "from cuml.cluster import KMeans\n",
    "\n",
    "model = KMeans(n_clusters=5)\n",
    "\n",
    "model.fit(X)"
   ]
  },
  {
   "cell_type": "code",
   "execution_count": 4,
   "metadata": {
    "execution": {
     "iopub.execute_input": "2021-04-21T09:44:04.180693Z",
     "iopub.status.busy": "2021-04-21T09:44:04.179231Z",
     "iopub.status.idle": "2021-04-21T09:44:04.182773Z",
     "shell.execute_reply": "2021-04-21T09:44:04.183860Z"
    }
   },
   "outputs": [],
   "source": [
    "import pickle\n",
    "\n",
    "pickle.dump(model, open(\"kmeans_model.pkl\", \"wb\"))"
   ]
  },
  {
   "cell_type": "code",
   "execution_count": 5,
   "metadata": {
    "execution": {
     "iopub.execute_input": "2021-04-21T09:44:04.190728Z",
     "iopub.status.busy": "2021-04-21T09:44:04.189349Z",
     "iopub.status.idle": "2021-04-21T09:44:04.192830Z",
     "shell.execute_reply": "2021-04-21T09:44:04.193919Z"
    }
   },
   "outputs": [],
   "source": [
    "model = pickle.load(open(\"kmeans_model.pkl\", \"rb\"))"
   ]
  },
  {
   "cell_type": "code",
   "execution_count": 6,
   "metadata": {
    "execution": {
     "iopub.execute_input": "2021-04-21T09:44:04.202458Z",
     "iopub.status.busy": "2021-04-21T09:44:04.201162Z",
     "iopub.status.idle": "2021-04-21T09:44:04.205614Z",
     "shell.execute_reply": "2021-04-21T09:44:04.206686Z"
    }
   },
   "outputs": [
    {
     "data": {
      "text/plain": [
       "array([[-5.7684636 ,  2.3276033 , -3.7457774 , -1.8541754 , -5.1695833 ,\n",
       "         7.667088  ,  2.7118318 ,  8.495609  ,  1.7038484 ,  1.1884269 ],\n",
       "       [ 4.6476874 ,  8.377879  , -9.070581  ,  9.459332  ,  8.450423  ,\n",
       "        -1.0210547 ,  3.392087  , -7.8629856 , -0.7527662 ,  0.48384118],\n",
       "       [-2.9414437 ,  4.6401706 , -4.5027537 ,  2.2855108 ,  1.644645  ,\n",
       "        -2.4937892 , -5.2241607 , -1.5499196 , -8.063638  ,  2.816936  ],\n",
       "       [-4.271077  ,  5.561165  , -5.6640916 , -1.8229512 , -9.2925    ,\n",
       "         0.73028314,  4.4586773 , -2.8876226 , -5.1257744 ,  9.694357  ],\n",
       "       [ 5.5837417 , -4.1515303 ,  4.369667  , -3.0020504 ,  3.638897  ,\n",
       "        -4.341912  , -3.318711  ,  6.503671  , -6.865036  , -1.0266498 ]],\n",
       "      dtype=float32)"
      ]
     },
     "execution_count": 1,
     "metadata": {},
     "output_type": "execute_result"
    }
   ],
   "source": [
    "model.cluster_centers_"
   ]
  },
  {
   "cell_type": "markdown",
   "metadata": {},
   "source": [
    "## Distributed Model Pickling"
   ]
  },
  {
   "cell_type": "markdown",
   "metadata": {},
   "source": [
    "The distributed estimator wrappers inside of the `cuml.dask` are not intended to be pickled directly. The Dask cuML estimators provide a function `get_combined_model()`, which returns the trained single-GPU model for pickling. The combined model can be used for inference on a single-GPU, and the `ParallelPostFit` wrapper from the [Dask-ML](https://ml.dask.org/meta-estimators.html) library can be used to perform distributed inference on a Dask cluster."
   ]
  },
  {
   "cell_type": "code",
   "execution_count": 7,
   "metadata": {
    "execution": {
     "iopub.execute_input": "2021-04-21T09:44:04.214029Z",
     "iopub.status.busy": "2021-04-21T09:44:04.212763Z",
     "iopub.status.idle": "2021-04-21T09:44:08.661923Z",
     "shell.execute_reply": "2021-04-21T09:44:08.663265Z"
    }
   },
   "outputs": [
    {
     "data": {
      "text/html": [
       "<table style=\"border: 2px solid white;\">\n",
       "<tr>\n",
       "<td style=\"vertical-align: top; border: 0px solid white\">\n",
       "<h3 style=\"text-align: left;\">Client</h3>\n",
       "<ul style=\"text-align: left; list-style: none; margin: 0; padding: 0;\">\n",
       "  <li><b>Scheduler: </b>tcp://127.0.0.1:42962</li>\n",
       "  <li><b>Dashboard: </b><a href='http://127.0.0.1:8787/status' target='_blank'>http://127.0.0.1:8787/status</a></li>\n",
       "</ul>\n",
       "</td>\n",
       "<td style=\"vertical-align: top; border: 0px solid white\">\n",
       "<h3 style=\"text-align: left;\">Cluster</h3>\n",
       "<ul style=\"text-align: left; list-style:none; margin: 0; padding: 0;\">\n",
       "  <li><b>Workers: </b>1</li>\n",
       "  <li><b>Cores: </b>1</li>\n",
       "  <li><b>Memory: </b>251.80 GiB</li>\n",
       "</ul>\n",
       "</td>\n",
       "</tr>\n",
       "</table>"
      ],
      "text/plain": [
       "<Client: 'tcp://127.0.0.1:42962' processes=1 threads=1, memory=251.80 GiB>"
      ]
     },
     "execution_count": 1,
     "metadata": {},
     "output_type": "execute_result"
    }
   ],
   "source": [
    "from dask.distributed import Client\n",
    "from dask_cuda import LocalCUDACluster\n",
    "\n",
    "cluster = LocalCUDACluster()\n",
    "client = Client(cluster)\n",
    "client"
   ]
  },
  {
   "cell_type": "code",
   "execution_count": 8,
   "metadata": {
    "execution": {
     "iopub.execute_input": "2021-04-21T09:44:08.678411Z",
     "iopub.status.busy": "2021-04-21T09:44:08.676840Z",
     "iopub.status.idle": "2021-04-21T09:44:09.172653Z",
     "shell.execute_reply": "2021-04-21T09:44:09.171183Z"
    }
   },
   "outputs": [],
   "source": [
    "from cuml.dask.datasets import make_blobs\n",
    "\n",
    "n_workers = len(client.scheduler_info()[\"workers\"].keys())\n",
    "\n",
    "X, y = make_blobs(n_samples=5000, \n",
    "                  n_features=30,\n",
    "                  centers=5, \n",
    "                  cluster_std=0.4, \n",
    "                  random_state=0,\n",
    "                  n_parts=n_workers*5)\n",
    "\n",
    "X = X.persist()\n",
    "y = y.persist()"
   ]
  },
  {
   "cell_type": "code",
   "execution_count": 9,
   "metadata": {
    "execution": {
     "iopub.execute_input": "2021-04-21T09:44:09.182300Z",
     "iopub.status.busy": "2021-04-21T09:44:09.180757Z",
     "iopub.status.idle": "2021-04-21T09:44:09.211288Z",
     "shell.execute_reply": "2021-04-21T09:44:09.210091Z"
    }
   },
   "outputs": [],
   "source": [
    "from cuml.dask.cluster import KMeans\n",
    "\n",
    "dist_model = KMeans(n_clusters=5)"
   ]
  },
  {
   "cell_type": "code",
   "execution_count": 10,
   "metadata": {
    "execution": {
     "iopub.execute_input": "2021-04-21T09:44:09.225973Z",
     "iopub.status.busy": "2021-04-21T09:44:09.223361Z",
     "iopub.status.idle": "2021-04-21T09:44:12.695688Z",
     "shell.execute_reply": "2021-04-21T09:44:12.694430Z"
    }
   },
   "outputs": [
    {
     "data": {
      "text/plain": [
       "<cuml.dask.cluster.kmeans.KMeans at 0x7fe7ce0a5590>"
      ]
     },
     "execution_count": 1,
     "metadata": {},
     "output_type": "execute_result"
    }
   ],
   "source": [
    "dist_model.fit(X)"
   ]
  },
  {
   "cell_type": "code",
   "execution_count": 11,
   "metadata": {
    "execution": {
     "iopub.execute_input": "2021-04-21T09:44:12.705782Z",
     "iopub.status.busy": "2021-04-21T09:44:12.704309Z",
     "iopub.status.idle": "2021-04-21T09:44:12.719786Z",
     "shell.execute_reply": "2021-04-21T09:44:12.720968Z"
    }
   },
   "outputs": [],
   "source": [
    "import pickle\n",
    "\n",
    "single_gpu_model = dist_model.get_combined_model()\n",
    "pickle.dump(single_gpu_model, open(\"kmeans_model.pkl\", \"wb\"))"
   ]
  },
  {
   "cell_type": "code",
   "execution_count": 12,
   "metadata": {
    "execution": {
     "iopub.execute_input": "2021-04-21T09:44:12.729559Z",
     "iopub.status.busy": "2021-04-21T09:44:12.728041Z",
     "iopub.status.idle": "2021-04-21T09:44:12.732337Z",
     "shell.execute_reply": "2021-04-21T09:44:12.733535Z"
    }
   },
   "outputs": [],
   "source": [
    "single_gpu_model = pickle.load(open(\"kmeans_model.pkl\", \"rb\"))"
   ]
  },
  {
   "cell_type": "code",
   "execution_count": 13,
   "metadata": {
    "execution": {
     "iopub.execute_input": "2021-04-21T09:44:12.746974Z",
     "iopub.status.busy": "2021-04-21T09:44:12.745513Z",
     "iopub.status.idle": "2021-04-21T09:44:12.750583Z",
     "shell.execute_reply": "2021-04-21T09:44:12.751780Z"
    }
   },
   "outputs": [
    {
     "data": {
      "text/plain": [
       "array([[ 4.809874  ,  8.422671  , -9.239023  ,  9.379143  ,  8.499881  ,\n",
       "        -1.0592818 ,  3.3437858 , -7.802612  , -0.5946333 ,  0.26447597,\n",
       "         5.5073957 , -4.1069803 ,  4.2890778 , -2.8172054 ,  3.6150153 ,\n",
       "        -4.1613    , -3.6209643 ,  6.218529  , -6.946047  , -1.0828307 ,\n",
       "        -5.82677   ,  2.225876  , -3.8601215 , -1.6974077 , -5.3134174 ,\n",
       "         7.579578  ,  2.9187472 ,  8.540423  ,  1.5523205 ,  1.0841805 ],\n",
       "       [-2.8941853 ,  4.4741907 , -4.4475675 ,  2.3820987 ,  1.7478832 ,\n",
       "        -2.5046248 , -5.2083306 , -1.6937687 , -8.134755  ,  2.6468296 ,\n",
       "        -4.316362  ,  5.56554   , -5.732198  , -1.7384952 , -9.344658  ,\n",
       "         0.7084658 ,  4.4358397 , -2.9009    , -4.9486375 ,  9.695301  ,\n",
       "         8.366521  , -6.2474537 , -6.3494725 ,  1.9546973 ,  4.157616  ,\n",
       "        -9.167902  ,  4.6070676 ,  8.788584  ,  6.864423  ,  2.2319882 ],\n",
       "       [-4.665713  , -9.558958  ,  6.6572285 ,  4.440131  ,  2.1730306 ,\n",
       "         2.5904036 ,  0.58000994,  6.255035  , -8.829284  , -0.41399658,\n",
       "         9.831052  ,  7.5897346 ,  9.975543  , -5.8561754 , -1.2414308 ,\n",
       "        -2.5572667 , -1.0441563 , -5.24611   , -9.311468  ,  4.636607  ,\n",
       "        -0.11776032, -3.9295292 ,  6.2073665 , -7.399014  ,  5.674093  ,\n",
       "        -8.5403    , -7.5186524 , -5.530122  ,  4.8341303 ,  2.5691679 ],\n",
       "       [-6.9581094 , -9.760797  , -6.5506096 , -0.41965044,  6.068768  ,\n",
       "         3.7602885 , -3.975133  ,  6.1493382 , -1.8729935 ,  5.025274  ,\n",
       "        -6.8340993 ,  1.3383294 ,  9.0016775 , -0.9864835 ,  9.65402   ,\n",
       "         9.790735  , -8.618677  ,  5.995579  ,  2.2099135 , -3.63091   ,\n",
       "         7.0714083 , -7.394622  , -5.299634  , -6.9737053 , -7.908465  ,\n",
       "         6.681064  , -5.575639  ,  7.1313105 ,  6.5996184 , -8.309575  ],\n",
       "       [ 6.2617536 ,  9.22877   ,  8.358131  ,  9.017298  ,  7.704466  ,\n",
       "        -1.0047106 , -6.2457666 ,  1.3951722 , -6.976181  , -5.94806   ,\n",
       "         1.0575897 , -0.0107428 ,  2.8210258 ,  1.8389361 , -8.247101  ,\n",
       "         3.0498962 , -8.483243  ,  9.721641  , -7.7502713 ,  3.465596  ,\n",
       "        -3.9312131 , -4.0965166 ,  2.6586986 ,  1.2832462 ,  1.0177817 ,\n",
       "         5.257111  , -1.644438  ,  6.1383214 , -6.884054  , -9.663093  ]],\n",
       "      dtype=float32)"
      ]
     },
     "execution_count": 1,
     "metadata": {},
     "output_type": "execute_result"
    }
   ],
   "source": [
    "single_gpu_model.cluster_centers_"
   ]
  }
 ],
 "metadata": {
  "kernelspec": {
   "display_name": "Python 3",
   "language": "python",
   "name": "python3"
  },
  "language_info": {
   "codemirror_mode": {
    "name": "ipython",
    "version": 3
   },
   "file_extension": ".py",
   "mimetype": "text/x-python",
   "name": "python",
   "nbconvert_exporter": "python",
   "pygments_lexer": "ipython3",
   "version": "3.7.10"
  }
 },
 "nbformat": 4,
 "nbformat_minor": 4
}
