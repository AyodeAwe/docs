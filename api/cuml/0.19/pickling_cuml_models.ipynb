{
 "cells": [
  {
   "cell_type": "markdown",
   "metadata": {},
   "source": [
    "# Pickling cuML Models for Persistence\n",
    "\n",
    "This notebook demonstrates simple pickling of both single-GPU and multi-GPU cuML models for persistence"
   ]
  },
  {
   "cell_type": "code",
   "execution_count": 1,
   "metadata": {
    "execution": {
     "iopub.execute_input": "2021-04-12T09:46:57.028190Z",
     "iopub.status.busy": "2021-04-12T09:46:57.026717Z",
     "iopub.status.idle": "2021-04-12T09:46:57.032108Z",
     "shell.execute_reply": "2021-04-12T09:46:57.030665Z"
    }
   },
   "outputs": [],
   "source": [
    "import warnings\n",
    "warnings.filterwarnings(\"ignore\", category=FutureWarning)"
   ]
  },
  {
   "cell_type": "markdown",
   "metadata": {},
   "source": [
    "## Single GPU Model Pickling\n",
    "\n",
    "All single-GPU estimators are pickleable. The following example demonstrates the creation of a synthetic dataset, training, and pickling of the resulting model for storage. Trained single-GPU models can also be used to distribute the inference on a Dask cluster, which the `Distributed Model Pickling` section below demonstrates."
   ]
  },
  {
   "cell_type": "code",
   "execution_count": 2,
   "metadata": {
    "execution": {
     "iopub.execute_input": "2021-04-12T09:46:57.042001Z",
     "iopub.status.busy": "2021-04-12T09:46:57.040563Z",
     "iopub.status.idle": "2021-04-12T09:47:01.508013Z",
     "shell.execute_reply": "2021-04-12T09:47:01.506723Z"
    }
   },
   "outputs": [],
   "source": [
    "from cuml.datasets import make_blobs\n",
    "\n",
    "X, y = make_blobs(n_samples=50,\n",
    "                  n_features=10,\n",
    "                  centers=5,\n",
    "                  cluster_std=0.4,\n",
    "                  random_state=0)"
   ]
  },
  {
   "cell_type": "code",
   "execution_count": 3,
   "metadata": {
    "execution": {
     "iopub.execute_input": "2021-04-12T09:47:01.517094Z",
     "iopub.status.busy": "2021-04-12T09:47:01.515622Z",
     "iopub.status.idle": "2021-04-12T09:47:01.926552Z",
     "shell.execute_reply": "2021-04-12T09:47:01.925260Z"
    }
   },
   "outputs": [
    {
     "data": {
      "text/plain": [
       "KMeans()"
      ]
     },
     "execution_count": 1,
     "metadata": {},
     "output_type": "execute_result"
    }
   ],
   "source": [
    "from cuml.cluster import KMeans\n",
    "\n",
    "model = KMeans(n_clusters=5)\n",
    "\n",
    "model.fit(X)"
   ]
  },
  {
   "cell_type": "code",
   "execution_count": 4,
   "metadata": {
    "execution": {
     "iopub.execute_input": "2021-04-12T09:47:01.932957Z",
     "iopub.status.busy": "2021-04-12T09:47:01.931554Z",
     "iopub.status.idle": "2021-04-12T09:47:01.934924Z",
     "shell.execute_reply": "2021-04-12T09:47:01.936034Z"
    }
   },
   "outputs": [],
   "source": [
    "import pickle\n",
    "\n",
    "pickle.dump(model, open(\"kmeans_model.pkl\", \"wb\"))"
   ]
  },
  {
   "cell_type": "code",
   "execution_count": 5,
   "metadata": {
    "execution": {
     "iopub.execute_input": "2021-04-12T09:47:01.942399Z",
     "iopub.status.busy": "2021-04-12T09:47:01.941052Z",
     "iopub.status.idle": "2021-04-12T09:47:01.944044Z",
     "shell.execute_reply": "2021-04-12T09:47:01.945095Z"
    }
   },
   "outputs": [],
   "source": [
    "model = pickle.load(open(\"kmeans_model.pkl\", \"rb\"))"
   ]
  },
  {
   "cell_type": "code",
   "execution_count": 6,
   "metadata": {
    "execution": {
     "iopub.execute_input": "2021-04-12T09:47:01.952371Z",
     "iopub.status.busy": "2021-04-12T09:47:01.951086Z",
     "iopub.status.idle": "2021-04-12T09:47:01.955473Z",
     "shell.execute_reply": "2021-04-12T09:47:01.956526Z"
    }
   },
   "outputs": [
    {
     "data": {
      "text/plain": [
       "array([[-5.7684636 ,  2.3276033 , -3.7457771 , -1.8541754 , -5.169583  ,\n",
       "         7.667088  ,  2.7118318 ,  8.495609  ,  1.7038484 ,  1.1884269 ],\n",
       "       [ 4.6476874 ,  8.377879  , -9.070581  ,  9.459332  ,  8.450422  ,\n",
       "        -1.0210547 ,  3.3920872 , -7.862985  , -0.7527663 ,  0.4838412 ],\n",
       "       [-2.9414442 ,  4.6401715 , -4.502753  ,  2.2855108 ,  1.644645  ,\n",
       "        -2.493789  , -5.224161  , -1.5499196 , -8.063638  ,  2.816936  ],\n",
       "       [-4.271077  ,  5.5611653 , -5.6640916 , -1.8229512 , -9.2925    ,\n",
       "         0.73028314,  4.4586773 , -2.8876226 , -5.1257744 ,  9.694357  ],\n",
       "       [ 5.5837426 , -4.1515303 ,  4.369667  , -3.0020502 ,  3.6388965 ,\n",
       "        -4.341912  , -3.318711  ,  6.503671  , -6.865036  , -1.0266498 ]],\n",
       "      dtype=float32)"
      ]
     },
     "execution_count": 1,
     "metadata": {},
     "output_type": "execute_result"
    }
   ],
   "source": [
    "model.cluster_centers_"
   ]
  },
  {
   "cell_type": "markdown",
   "metadata": {},
   "source": [
    "## Distributed Model Pickling"
   ]
  },
  {
   "cell_type": "markdown",
   "metadata": {},
   "source": [
    "The distributed estimator wrappers inside of the `cuml.dask` are not intended to be pickled directly. The Dask cuML estimators provide a function `get_combined_model()`, which returns the trained single-GPU model for pickling. The combined model can be used for inference on a single-GPU, and the `ParallelPostFit` wrapper from the [Dask-ML](https://ml.dask.org/meta-estimators.html) library can be used to perform distributed inference on a Dask cluster."
   ]
  },
  {
   "cell_type": "code",
   "execution_count": 7,
   "metadata": {
    "execution": {
     "iopub.execute_input": "2021-04-12T09:47:01.963075Z",
     "iopub.status.busy": "2021-04-12T09:47:01.961816Z",
     "iopub.status.idle": "2021-04-12T09:47:06.189612Z",
     "shell.execute_reply": "2021-04-12T09:47:06.188021Z"
    }
   },
   "outputs": [
    {
     "data": {
      "text/html": [
       "<table style=\"border: 2px solid white;\">\n",
       "<tr>\n",
       "<td style=\"vertical-align: top; border: 0px solid white\">\n",
       "<h3 style=\"text-align: left;\">Client</h3>\n",
       "<ul style=\"text-align: left; list-style: none; margin: 0; padding: 0;\">\n",
       "  <li><b>Scheduler: </b>tcp://127.0.0.1:39785</li>\n",
       "  <li><b>Dashboard: </b><a href='http://127.0.0.1:8787/status' target='_blank'>http://127.0.0.1:8787/status</a></li>\n",
       "</ul>\n",
       "</td>\n",
       "<td style=\"vertical-align: top; border: 0px solid white\">\n",
       "<h3 style=\"text-align: left;\">Cluster</h3>\n",
       "<ul style=\"text-align: left; list-style:none; margin: 0; padding: 0;\">\n",
       "  <li><b>Workers: </b>1</li>\n",
       "  <li><b>Cores: </b>1</li>\n",
       "  <li><b>Memory: </b>251.80 GiB</li>\n",
       "</ul>\n",
       "</td>\n",
       "</tr>\n",
       "</table>"
      ],
      "text/plain": [
       "<Client: 'tcp://127.0.0.1:39785' processes=1 threads=1, memory=251.80 GiB>"
      ]
     },
     "execution_count": 1,
     "metadata": {},
     "output_type": "execute_result"
    }
   ],
   "source": [
    "from dask.distributed import Client\n",
    "from dask_cuda import LocalCUDACluster\n",
    "\n",
    "cluster = LocalCUDACluster()\n",
    "client = Client(cluster)\n",
    "client"
   ]
  },
  {
   "cell_type": "code",
   "execution_count": 8,
   "metadata": {
    "execution": {
     "iopub.execute_input": "2021-04-12T09:47:06.204158Z",
     "iopub.status.busy": "2021-04-12T09:47:06.202578Z",
     "iopub.status.idle": "2021-04-12T09:47:06.708783Z",
     "shell.execute_reply": "2021-04-12T09:47:06.707446Z"
    }
   },
   "outputs": [],
   "source": [
    "from cuml.dask.datasets import make_blobs\n",
    "\n",
    "n_workers = len(client.scheduler_info()[\"workers\"].keys())\n",
    "\n",
    "X, y = make_blobs(n_samples=5000, \n",
    "                  n_features=30,\n",
    "                  centers=5, \n",
    "                  cluster_std=0.4, \n",
    "                  random_state=0,\n",
    "                  n_parts=n_workers*5)\n",
    "\n",
    "X = X.persist()\n",
    "y = y.persist()"
   ]
  },
  {
   "cell_type": "code",
   "execution_count": 9,
   "metadata": {
    "execution": {
     "iopub.execute_input": "2021-04-12T09:47:06.717358Z",
     "iopub.status.busy": "2021-04-12T09:47:06.715836Z",
     "iopub.status.idle": "2021-04-12T09:47:06.741538Z",
     "shell.execute_reply": "2021-04-12T09:47:06.740268Z"
    }
   },
   "outputs": [],
   "source": [
    "from cuml.dask.cluster import KMeans\n",
    "\n",
    "dist_model = KMeans(n_clusters=5)"
   ]
  },
  {
   "cell_type": "code",
   "execution_count": 10,
   "metadata": {
    "execution": {
     "iopub.execute_input": "2021-04-12T09:47:06.753457Z",
     "iopub.status.busy": "2021-04-12T09:47:06.752059Z",
     "iopub.status.idle": "2021-04-12T09:47:09.474002Z",
     "shell.execute_reply": "2021-04-12T09:47:09.472670Z"
    }
   },
   "outputs": [
    {
     "data": {
      "text/plain": [
       "<cuml.dask.cluster.kmeans.KMeans at 0x7f5a093e7ed0>"
      ]
     },
     "execution_count": 1,
     "metadata": {},
     "output_type": "execute_result"
    }
   ],
   "source": [
    "dist_model.fit(X)"
   ]
  },
  {
   "cell_type": "code",
   "execution_count": 11,
   "metadata": {
    "execution": {
     "iopub.execute_input": "2021-04-12T09:47:09.486067Z",
     "iopub.status.busy": "2021-04-12T09:47:09.483767Z",
     "iopub.status.idle": "2021-04-12T09:47:09.503090Z",
     "shell.execute_reply": "2021-04-12T09:47:09.504255Z"
    }
   },
   "outputs": [],
   "source": [
    "import pickle\n",
    "\n",
    "single_gpu_model = dist_model.get_combined_model()\n",
    "pickle.dump(single_gpu_model, open(\"kmeans_model.pkl\", \"wb\"))"
   ]
  },
  {
   "cell_type": "code",
   "execution_count": 12,
   "metadata": {
    "execution": {
     "iopub.execute_input": "2021-04-12T09:47:09.513074Z",
     "iopub.status.busy": "2021-04-12T09:47:09.511700Z",
     "iopub.status.idle": "2021-04-12T09:47:09.516482Z",
     "shell.execute_reply": "2021-04-12T09:47:09.517545Z"
    }
   },
   "outputs": [],
   "source": [
    "single_gpu_model = pickle.load(open(\"kmeans_model.pkl\", \"rb\"))"
   ]
  },
  {
   "cell_type": "code",
   "execution_count": 13,
   "metadata": {
    "execution": {
     "iopub.execute_input": "2021-04-12T09:47:09.531202Z",
     "iopub.status.busy": "2021-04-12T09:47:09.529860Z",
     "iopub.status.idle": "2021-04-12T09:47:09.535001Z",
     "shell.execute_reply": "2021-04-12T09:47:09.536039Z"
    }
   },
   "outputs": [
    {
     "data": {
      "text/plain": [
       "array([[ 4.8098736 ,  8.42267   , -9.239022  ,  9.379142  ,  8.499881  ,\n",
       "        -1.0592818 ,  3.343786  , -7.802612  , -0.5946333 ,  0.264476  ,\n",
       "         5.5073957 , -4.1069803 ,  4.2890778 , -2.8172054 ,  3.615015  ,\n",
       "        -4.1612997 , -3.6209636 ,  6.218529  , -6.9460464 , -1.0828307 ,\n",
       "        -5.8267713 ,  2.2258768 , -3.8601217 , -1.6974075 , -5.3134174 ,\n",
       "         7.579577  ,  2.9187474 ,  8.540427  ,  1.5523204 ,  1.0841804 ],\n",
       "       [-2.8941853 ,  4.47419   , -4.447567  ,  2.3820994 ,  1.7478833 ,\n",
       "        -2.504625  , -5.2083297 , -1.6937683 , -8.134756  ,  2.6468298 ,\n",
       "        -4.316362  ,  5.5655394 , -5.732201  , -1.7384952 , -9.344653  ,\n",
       "         0.7084658 ,  4.435841  , -2.9008994 , -4.9486384 ,  9.695303  ,\n",
       "         8.366519  , -6.2474527 , -6.3494725 ,  1.9546974 ,  4.157616  ,\n",
       "        -9.167902  ,  4.607068  ,  8.788589  ,  6.864423  ,  2.2319877 ],\n",
       "       [-4.6657157 , -9.558955  ,  6.657228  ,  4.4401298 ,  2.1730304 ,\n",
       "         2.5904036 ,  0.5800097 ,  6.255035  , -8.829284  , -0.41399658,\n",
       "         9.831051  ,  7.589734  ,  9.975546  , -5.856176  , -1.241431  ,\n",
       "        -2.5572672 , -1.0441566 , -5.2461095 , -9.311468  ,  4.6366043 ,\n",
       "        -0.11776033, -3.9295287 ,  6.207367  , -7.399016  ,  5.6740947 ,\n",
       "        -8.540297  , -7.518654  , -5.5301223 ,  4.8341312 ,  2.569168  ],\n",
       "       [-6.958109  , -9.760795  , -6.550611  , -0.41965038,  6.0687656 ,\n",
       "         3.760289  , -3.975133  ,  6.149338  , -1.8729936 ,  5.025274  ,\n",
       "        -6.8340974 ,  1.338329  ,  9.0016775 , -0.9864835 ,  9.654025  ,\n",
       "         9.790743  , -8.618679  ,  5.9955797 ,  2.209914  , -3.630909  ,\n",
       "         7.0714083 , -7.394621  , -5.299633  , -6.9737043 , -7.908466  ,\n",
       "         6.6810646 , -5.5756392 ,  7.131311  ,  6.599617  , -8.309571  ],\n",
       "       [ 6.261752  ,  9.22877   ,  8.35813   ,  9.017301  ,  7.704465  ,\n",
       "        -1.0047104 , -6.2457657 ,  1.3951721 , -6.9761806 , -5.948057  ,\n",
       "         1.05759   , -0.01074278,  2.8210254 ,  1.8389363 , -8.247102  ,\n",
       "         3.0498965 , -8.483244  ,  9.72164   , -7.7502737 ,  3.4655948 ,\n",
       "        -3.9312146 , -4.096515  ,  2.6586978 ,  1.2832462 ,  1.017782  ,\n",
       "         5.2571087 , -1.6444374 ,  6.138323  , -6.8840547 , -9.6630945 ]],\n",
       "      dtype=float32)"
      ]
     },
     "execution_count": 1,
     "metadata": {},
     "output_type": "execute_result"
    }
   ],
   "source": [
    "single_gpu_model.cluster_centers_"
   ]
  }
 ],
 "metadata": {
  "kernelspec": {
   "display_name": "Python 3",
   "language": "python",
   "name": "python3"
  },
  "language_info": {
   "codemirror_mode": {
    "name": "ipython",
    "version": 3
   },
   "file_extension": ".py",
   "mimetype": "text/x-python",
   "name": "python",
   "nbconvert_exporter": "python",
   "pygments_lexer": "ipython3",
   "version": "3.7.10"
  }
 },
 "nbformat": 4,
 "nbformat_minor": 4
}
