{
 "cells": [
  {
   "cell_type": "markdown",
   "metadata": {},
   "source": [
    "# Pickling cuML Models for Persistence\n",
    "\n",
    "This notebook demonstrates simple pickling of both single-GPU and multi-GPU cuML models for persistence"
   ]
  },
  {
   "cell_type": "code",
   "execution_count": 1,
   "metadata": {
    "execution": {
     "iopub.execute_input": "2021-04-03T09:45:06.478419Z",
     "iopub.status.busy": "2021-04-03T09:45:06.476944Z",
     "iopub.status.idle": "2021-04-03T09:45:06.482097Z",
     "shell.execute_reply": "2021-04-03T09:45:06.480707Z"
    }
   },
   "outputs": [],
   "source": [
    "import warnings\n",
    "warnings.filterwarnings(\"ignore\", category=FutureWarning)"
   ]
  },
  {
   "cell_type": "markdown",
   "metadata": {},
   "source": [
    "## Single GPU Model Pickling\n",
    "\n",
    "All single-GPU estimators are pickleable. The following example demonstrates the creation of a synthetic dataset, training, and pickling of the resulting model for storage. Trained single-GPU models can also be used to distribute the inference on a Dask cluster, which the `Distributed Model Pickling` section below demonstrates."
   ]
  },
  {
   "cell_type": "code",
   "execution_count": 2,
   "metadata": {
    "execution": {
     "iopub.execute_input": "2021-04-03T09:45:06.491977Z",
     "iopub.status.busy": "2021-04-03T09:45:06.490480Z",
     "iopub.status.idle": "2021-04-03T09:45:11.330272Z",
     "shell.execute_reply": "2021-04-03T09:45:11.329008Z"
    }
   },
   "outputs": [],
   "source": [
    "from cuml.datasets import make_blobs\n",
    "\n",
    "X, y = make_blobs(n_samples=50,\n",
    "                  n_features=10,\n",
    "                  centers=5,\n",
    "                  cluster_std=0.4,\n",
    "                  random_state=0)"
   ]
  },
  {
   "cell_type": "code",
   "execution_count": 3,
   "metadata": {
    "execution": {
     "iopub.execute_input": "2021-04-03T09:45:11.341146Z",
     "iopub.status.busy": "2021-04-03T09:45:11.339706Z",
     "iopub.status.idle": "2021-04-03T09:45:11.711490Z",
     "shell.execute_reply": "2021-04-03T09:45:11.712694Z"
    }
   },
   "outputs": [
    {
     "data": {
      "text/plain": [
       "KMeans()"
      ]
     },
     "execution_count": 1,
     "metadata": {},
     "output_type": "execute_result"
    }
   ],
   "source": [
    "from cuml.cluster import KMeans\n",
    "\n",
    "model = KMeans(n_clusters=5)\n",
    "\n",
    "model.fit(X)"
   ]
  },
  {
   "cell_type": "code",
   "execution_count": 4,
   "metadata": {
    "execution": {
     "iopub.execute_input": "2021-04-03T09:45:11.721891Z",
     "iopub.status.busy": "2021-04-03T09:45:11.720507Z",
     "iopub.status.idle": "2021-04-03T09:45:11.726068Z",
     "shell.execute_reply": "2021-04-03T09:45:11.724844Z"
    }
   },
   "outputs": [],
   "source": [
    "import pickle\n",
    "\n",
    "pickle.dump(model, open(\"kmeans_model.pkl\", \"wb\"))"
   ]
  },
  {
   "cell_type": "code",
   "execution_count": 5,
   "metadata": {
    "execution": {
     "iopub.execute_input": "2021-04-03T09:45:11.734899Z",
     "iopub.status.busy": "2021-04-03T09:45:11.733484Z",
     "iopub.status.idle": "2021-04-03T09:45:11.738051Z",
     "shell.execute_reply": "2021-04-03T09:45:11.739149Z"
    }
   },
   "outputs": [],
   "source": [
    "model = pickle.load(open(\"kmeans_model.pkl\", \"rb\"))"
   ]
  },
  {
   "cell_type": "code",
   "execution_count": 6,
   "metadata": {
    "execution": {
     "iopub.execute_input": "2021-04-03T09:45:11.750390Z",
     "iopub.status.busy": "2021-04-03T09:45:11.749025Z",
     "iopub.status.idle": "2021-04-03T09:45:11.753708Z",
     "shell.execute_reply": "2021-04-03T09:45:11.754811Z"
    }
   },
   "outputs": [
    {
     "data": {
      "text/plain": [
       "array([[-5.7684636 ,  2.3276033 , -3.7457774 , -1.8541754 , -5.1695833 ,\n",
       "         7.6670885 ,  2.7118318 ,  8.495609  ,  1.7038484 ,  1.1884269 ],\n",
       "       [ 4.647688  ,  8.37788   , -9.070581  ,  9.459332  ,  8.450423  ,\n",
       "        -1.0210547 ,  3.3920872 , -7.862985  , -0.75276613,  0.4838412 ],\n",
       "       [-2.9414442 ,  4.6401706 , -4.5027533 ,  2.2855108 ,  1.644645  ,\n",
       "        -2.4937892 , -5.2241607 , -1.5499196 , -8.063638  ,  2.8169358 ],\n",
       "       [-4.2710767 ,  5.5611653 , -5.6640916 , -1.8229512 , -9.2925    ,\n",
       "         0.730283  ,  4.4586773 , -2.8876224 , -5.1257744 ,  9.694357  ],\n",
       "       [ 5.583742  , -4.1515303 ,  4.369667  , -3.0020504 ,  3.638897  ,\n",
       "        -4.3419113 , -3.3187115 ,  6.503671  , -6.865036  , -1.0266498 ]],\n",
       "      dtype=float32)"
      ]
     },
     "execution_count": 1,
     "metadata": {},
     "output_type": "execute_result"
    }
   ],
   "source": [
    "model.cluster_centers_"
   ]
  },
  {
   "cell_type": "markdown",
   "metadata": {},
   "source": [
    "## Distributed Model Pickling"
   ]
  },
  {
   "cell_type": "markdown",
   "metadata": {},
   "source": [
    "The distributed estimator wrappers inside of the `cuml.dask` are not intended to be pickled directly. The Dask cuML estimators provide a function `get_combined_model()`, which returns the trained single-GPU model for pickling. The combined model can be used for inference on a single-GPU, and the `ParallelPostFit` wrapper from the [Dask-ML](https://ml.dask.org/meta-estimators.html) library can be used to perform distributed inference on a Dask cluster."
   ]
  },
  {
   "cell_type": "code",
   "execution_count": 7,
   "metadata": {
    "execution": {
     "iopub.execute_input": "2021-04-03T09:45:11.763795Z",
     "iopub.status.busy": "2021-04-03T09:45:11.762469Z",
     "iopub.status.idle": "2021-04-03T09:45:16.038508Z",
     "shell.execute_reply": "2021-04-03T09:45:16.037142Z"
    }
   },
   "outputs": [
    {
     "data": {
      "text/html": [
       "<table style=\"border: 2px solid white;\">\n",
       "<tr>\n",
       "<td style=\"vertical-align: top; border: 0px solid white\">\n",
       "<h3 style=\"text-align: left;\">Client</h3>\n",
       "<ul style=\"text-align: left; list-style: none; margin: 0; padding: 0;\">\n",
       "  <li><b>Scheduler: </b>tcp://127.0.0.1:42631</li>\n",
       "  <li><b>Dashboard: </b><a href='http://127.0.0.1:8787/status' target='_blank'>http://127.0.0.1:8787/status</a></li>\n",
       "</ul>\n",
       "</td>\n",
       "<td style=\"vertical-align: top; border: 0px solid white\">\n",
       "<h3 style=\"text-align: left;\">Cluster</h3>\n",
       "<ul style=\"text-align: left; list-style:none; margin: 0; padding: 0;\">\n",
       "  <li><b>Workers: </b>1</li>\n",
       "  <li><b>Cores: </b>1</li>\n",
       "  <li><b>Memory: </b>270.37 GB</li>\n",
       "</ul>\n",
       "</td>\n",
       "</tr>\n",
       "</table>"
      ],
      "text/plain": [
       "<Client: 'tcp://127.0.0.1:42631' processes=1 threads=1, memory=270.37 GB>"
      ]
     },
     "execution_count": 1,
     "metadata": {},
     "output_type": "execute_result"
    }
   ],
   "source": [
    "from dask.distributed import Client\n",
    "from dask_cuda import LocalCUDACluster\n",
    "\n",
    "cluster = LocalCUDACluster()\n",
    "client = Client(cluster)\n",
    "client"
   ]
  },
  {
   "cell_type": "code",
   "execution_count": 8,
   "metadata": {
    "execution": {
     "iopub.execute_input": "2021-04-03T09:45:16.054246Z",
     "iopub.status.busy": "2021-04-03T09:45:16.052793Z",
     "iopub.status.idle": "2021-04-03T09:45:16.597254Z",
     "shell.execute_reply": "2021-04-03T09:45:16.598418Z"
    }
   },
   "outputs": [],
   "source": [
    "from cuml.dask.datasets import make_blobs\n",
    "\n",
    "n_workers = len(client.scheduler_info()[\"workers\"].keys())\n",
    "\n",
    "X, y = make_blobs(n_samples=5000, \n",
    "                  n_features=30,\n",
    "                  centers=5, \n",
    "                  cluster_std=0.4, \n",
    "                  random_state=0,\n",
    "                  n_parts=n_workers*5)\n",
    "\n",
    "X = X.persist()\n",
    "y = y.persist()"
   ]
  },
  {
   "cell_type": "code",
   "execution_count": 9,
   "metadata": {
    "execution": {
     "iopub.execute_input": "2021-04-03T09:45:16.606060Z",
     "iopub.status.busy": "2021-04-03T09:45:16.604674Z",
     "iopub.status.idle": "2021-04-03T09:45:16.626097Z",
     "shell.execute_reply": "2021-04-03T09:45:16.627196Z"
    }
   },
   "outputs": [],
   "source": [
    "from cuml.dask.cluster import KMeans\n",
    "\n",
    "dist_model = KMeans(n_clusters=5)"
   ]
  },
  {
   "cell_type": "code",
   "execution_count": 10,
   "metadata": {
    "execution": {
     "iopub.execute_input": "2021-04-03T09:45:16.636220Z",
     "iopub.status.busy": "2021-04-03T09:45:16.632998Z",
     "iopub.status.idle": "2021-04-03T09:45:19.364311Z",
     "shell.execute_reply": "2021-04-03T09:45:19.362857Z"
    }
   },
   "outputs": [
    {
     "data": {
      "text/plain": [
       "<cuml.dask.cluster.kmeans.KMeans at 0x7f6852ee0350>"
      ]
     },
     "execution_count": 1,
     "metadata": {},
     "output_type": "execute_result"
    }
   ],
   "source": [
    "dist_model.fit(X)"
   ]
  },
  {
   "cell_type": "code",
   "execution_count": 11,
   "metadata": {
    "execution": {
     "iopub.execute_input": "2021-04-03T09:45:19.376163Z",
     "iopub.status.busy": "2021-04-03T09:45:19.374503Z",
     "iopub.status.idle": "2021-04-03T09:45:19.395830Z",
     "shell.execute_reply": "2021-04-03T09:45:19.394428Z"
    }
   },
   "outputs": [],
   "source": [
    "import pickle\n",
    "\n",
    "single_gpu_model = dist_model.get_combined_model()\n",
    "pickle.dump(single_gpu_model, open(\"kmeans_model.pkl\", \"wb\"))"
   ]
  },
  {
   "cell_type": "code",
   "execution_count": 12,
   "metadata": {
    "execution": {
     "iopub.execute_input": "2021-04-03T09:45:19.406189Z",
     "iopub.status.busy": "2021-04-03T09:45:19.404680Z",
     "iopub.status.idle": "2021-04-03T09:45:19.410739Z",
     "shell.execute_reply": "2021-04-03T09:45:19.411954Z"
    }
   },
   "outputs": [],
   "source": [
    "single_gpu_model = pickle.load(open(\"kmeans_model.pkl\", \"rb\"))"
   ]
  },
  {
   "cell_type": "code",
   "execution_count": 13,
   "metadata": {
    "execution": {
     "iopub.execute_input": "2021-04-03T09:45:19.426371Z",
     "iopub.status.busy": "2021-04-03T09:45:19.419269Z",
     "iopub.status.idle": "2021-04-03T09:45:19.432929Z",
     "shell.execute_reply": "2021-04-03T09:45:19.431663Z"
    }
   },
   "outputs": [
    {
     "data": {
      "text/plain": [
       "array([[ 4.8098736 ,  8.42267   , -9.239021  ,  9.379146  ,  8.499882  ,\n",
       "        -1.0592816 ,  3.3437858 , -7.802612  , -0.5946332 ,  0.264476  ,\n",
       "         5.5073957 , -4.10698   ,  4.289078  , -2.8172052 ,  3.6150155 ,\n",
       "        -4.1613    , -3.6209636 ,  6.2185307 , -6.946048  , -1.0828305 ,\n",
       "        -5.826771  ,  2.2258766 , -3.8601208 , -1.6974077 , -5.3134184 ,\n",
       "         7.579579  ,  2.9187474 ,  8.540424  ,  1.5523208 ,  1.0841806 ],\n",
       "       [-2.8941855 ,  4.4741898 , -4.447567  ,  2.3820984 ,  1.7478832 ,\n",
       "        -2.5046253 , -5.208329  , -1.6937686 , -8.134755  ,  2.6468296 ,\n",
       "        -4.3163633 ,  5.5655394 , -5.732199  , -1.738495  , -9.344657  ,\n",
       "         0.70846575,  4.435839  , -2.9009004 , -4.9486394 ,  9.695306  ,\n",
       "         8.36652   , -6.247453  , -6.3494735 ,  1.9546976 ,  4.157616  ,\n",
       "        -9.167903  ,  4.6070676 ,  8.788586  ,  6.8644223 ,  2.231988  ],\n",
       "       [-4.6657143 , -9.558954  ,  6.6572313 ,  4.440131  ,  2.1730309 ,\n",
       "         2.5904033 ,  0.58000994,  6.2550364 , -8.829283  , -0.41399658,\n",
       "         9.831049  ,  7.5897346 ,  9.975543  , -5.856175  , -1.2414306 ,\n",
       "        -2.5572672 , -1.0441564 , -5.24611   , -9.311466  ,  4.636607  ,\n",
       "        -0.11776035, -3.929529  ,  6.2073674 , -7.3990135 ,  5.6740904 ,\n",
       "        -8.5402975 , -7.518653  , -5.530122  ,  4.8341303 ,  2.5691683 ],\n",
       "       [-6.958109  , -9.760797  , -6.550611  , -0.41965035,  6.068768  ,\n",
       "         3.7602887 , -3.9751334 ,  6.1493363 , -1.8729941 ,  5.0252733 ,\n",
       "        -6.8340983 ,  1.338329  ,  9.001671  , -0.9864837 ,  9.654023  ,\n",
       "         9.790737  , -8.618676  ,  5.9955797 ,  2.209914  , -3.6309094 ,\n",
       "         7.071409  , -7.394619  , -5.299634  , -6.9737062 , -7.908463  ,\n",
       "         6.681064  , -5.5756397 ,  7.131309  ,  6.5996194 , -8.309569  ],\n",
       "       [ 6.261754  ,  9.228768  ,  8.35813   ,  9.017304  ,  7.704466  ,\n",
       "        -1.0047107 , -6.245766  ,  1.395172  , -6.9761806 , -5.94806   ,\n",
       "         1.0575897 , -0.01074279,  2.8210256 ,  1.8389361 , -8.247101  ,\n",
       "         3.0498981 , -8.483245  ,  9.721642  , -7.750271  ,  3.4655952 ,\n",
       "        -3.9312143 , -4.0965166 ,  2.658698  ,  1.2832462 ,  1.0177819 ,\n",
       "         5.2571115 , -1.6444379 ,  6.138322  , -6.884054  , -9.6630945 ]],\n",
       "      dtype=float32)"
      ]
     },
     "execution_count": 1,
     "metadata": {},
     "output_type": "execute_result"
    }
   ],
   "source": [
    "single_gpu_model.cluster_centers_"
   ]
  }
 ],
 "metadata": {
  "kernelspec": {
   "display_name": "Python 3",
   "language": "python",
   "name": "python3"
  },
  "language_info": {
   "codemirror_mode": {
    "name": "ipython",
    "version": 3
   },
   "file_extension": ".py",
   "mimetype": "text/x-python",
   "name": "python",
   "nbconvert_exporter": "python",
   "pygments_lexer": "ipython3",
   "version": "3.7.10"
  }
 },
 "nbformat": 4,
 "nbformat_minor": 4
}
