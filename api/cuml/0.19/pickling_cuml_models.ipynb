{
 "cells": [
  {
   "cell_type": "markdown",
   "metadata": {},
   "source": [
    "# Pickling cuML Models for Persistence\n",
    "\n",
    "This notebook demonstrates simple pickling of both single-GPU and multi-GPU cuML models for persistence"
   ]
  },
  {
   "cell_type": "code",
   "execution_count": 1,
   "metadata": {
    "execution": {
     "iopub.execute_input": "2021-03-26T15:00:41.741033Z",
     "iopub.status.busy": "2021-03-26T15:00:41.740403Z",
     "iopub.status.idle": "2021-03-26T15:00:41.742517Z",
     "shell.execute_reply": "2021-03-26T15:00:41.743017Z"
    }
   },
   "outputs": [],
   "source": [
    "import warnings\n",
    "warnings.filterwarnings(\"ignore\", category=FutureWarning)"
   ]
  },
  {
   "cell_type": "markdown",
   "metadata": {},
   "source": [
    "## Single GPU Model Pickling\n",
    "\n",
    "All single-GPU estimators are pickleable. The following example demonstrates the creation of a synthetic dataset, training, and pickling of the resulting model for storage. Trained single-GPU models can also be used to distribute the inference on a Dask cluster, which the `Distributed Model Pickling` section below demonstrates."
   ]
  },
  {
   "cell_type": "code",
   "execution_count": 2,
   "metadata": {
    "execution": {
     "iopub.execute_input": "2021-03-26T15:00:41.747332Z",
     "iopub.status.busy": "2021-03-26T15:00:41.746707Z",
     "iopub.status.idle": "2021-03-26T15:00:45.657624Z",
     "shell.execute_reply": "2021-03-26T15:00:45.657045Z"
    }
   },
   "outputs": [],
   "source": [
    "from cuml.datasets import make_blobs\n",
    "\n",
    "X, y = make_blobs(n_samples=50,\n",
    "                  n_features=10,\n",
    "                  centers=5,\n",
    "                  cluster_std=0.4,\n",
    "                  random_state=0)"
   ]
  },
  {
   "cell_type": "code",
   "execution_count": 3,
   "metadata": {
    "execution": {
     "iopub.execute_input": "2021-03-26T15:00:45.662660Z",
     "iopub.status.busy": "2021-03-26T15:00:45.662052Z",
     "iopub.status.idle": "2021-03-26T15:00:45.926218Z",
     "shell.execute_reply": "2021-03-26T15:00:45.925605Z"
    }
   },
   "outputs": [
    {
     "data": {
      "text/plain": [
       "KMeans(handle=<cuml.raft.common.handle.Handle object at 0x7f76ad463ef0>, n_clusters=5, max_iter=300, tol=0.0001, verbose=4, random_state=1, init='scalable-k-means++', n_init=1, oversampling_factor=2.0, max_samples_per_batch=32768, output_type='input')"
      ]
     },
     "execution_count": 1,
     "metadata": {},
     "output_type": "execute_result"
    }
   ],
   "source": [
    "from cuml.cluster import KMeans\n",
    "\n",
    "model = KMeans(n_clusters=5)\n",
    "\n",
    "model.fit(X)"
   ]
  },
  {
   "cell_type": "code",
   "execution_count": 4,
   "metadata": {
    "execution": {
     "iopub.execute_input": "2021-03-26T15:00:45.930323Z",
     "iopub.status.busy": "2021-03-26T15:00:45.929675Z",
     "iopub.status.idle": "2021-03-26T15:00:45.932146Z",
     "shell.execute_reply": "2021-03-26T15:00:45.932640Z"
    }
   },
   "outputs": [],
   "source": [
    "import pickle\n",
    "\n",
    "pickle.dump(model, open(\"kmeans_model.pkl\", \"wb\"))"
   ]
  },
  {
   "cell_type": "code",
   "execution_count": 5,
   "metadata": {
    "execution": {
     "iopub.execute_input": "2021-03-26T15:00:45.936390Z",
     "iopub.status.busy": "2021-03-26T15:00:45.935771Z",
     "iopub.status.idle": "2021-03-26T15:00:45.938487Z",
     "shell.execute_reply": "2021-03-26T15:00:45.938984Z"
    }
   },
   "outputs": [],
   "source": [
    "model = pickle.load(open(\"kmeans_model.pkl\", \"rb\"))"
   ]
  },
  {
   "cell_type": "code",
   "execution_count": 6,
   "metadata": {
    "execution": {
     "iopub.execute_input": "2021-03-26T15:00:45.943771Z",
     "iopub.status.busy": "2021-03-26T15:00:45.943171Z",
     "iopub.status.idle": "2021-03-26T15:00:45.945772Z",
     "shell.execute_reply": "2021-03-26T15:00:45.946279Z"
    }
   },
   "outputs": [
    {
     "data": {
      "text/plain": [
       "array([[-5.7684636 ,  2.3276033 , -3.7457774 , -1.8541754 , -5.169583  ,\n",
       "         7.667088  ,  2.7118316 ,  8.495609  ,  1.7038484 ,  1.1884269 ],\n",
       "       [ 4.6476874 ,  8.37788   , -9.070581  ,  9.459332  ,  8.450423  ,\n",
       "        -1.0210547 ,  3.392087  , -7.8629856 , -0.7527663 ,  0.48384118],\n",
       "       [-2.9414442 ,  4.6401706 , -4.5027533 ,  2.2855108 ,  1.644645  ,\n",
       "        -2.4937892 , -5.2241607 , -1.5499196 , -8.063638  ,  2.8169358 ],\n",
       "       [-4.271077  ,  5.561165  , -5.6640916 , -1.8229512 , -9.2925    ,\n",
       "         0.730283  ,  4.4586773 , -2.8876226 , -5.125775  ,  9.694357  ],\n",
       "       [ 5.583742  , -4.1515303 ,  4.369667  , -3.00205   ,  3.6388965 ,\n",
       "        -4.3419113 , -3.318711  ,  6.503671  , -6.865036  , -1.0266498 ]],\n",
       "      dtype=float32)"
      ]
     },
     "execution_count": 1,
     "metadata": {},
     "output_type": "execute_result"
    }
   ],
   "source": [
    "model.cluster_centers_"
   ]
  },
  {
   "cell_type": "markdown",
   "metadata": {},
   "source": [
    "## Distributed Model Pickling"
   ]
  },
  {
   "cell_type": "markdown",
   "metadata": {},
   "source": [
    "The distributed estimator wrappers inside of the `cuml.dask` are not intended to be pickled directly. The Dask cuML estimators provide a function `get_combined_model()`, which returns the trained single-GPU model for pickling. The combined model can be used for inference on a single-GPU, and the `ParallelPostFit` wrapper from the [Dask-ML](https://ml.dask.org/meta-estimators.html) library can be used to perform distributed inference on a Dask cluster."
   ]
  },
  {
   "cell_type": "code",
   "execution_count": 7,
   "metadata": {
    "execution": {
     "iopub.execute_input": "2021-03-26T15:00:45.950271Z",
     "iopub.status.busy": "2021-03-26T15:00:45.949615Z",
     "iopub.status.idle": "2021-03-26T15:00:49.067951Z",
     "shell.execute_reply": "2021-03-26T15:00:49.068451Z"
    }
   },
   "outputs": [
    {
     "data": {
      "text/html": [
       "<table style=\"border: 2px solid white;\">\n",
       "<tr>\n",
       "<td style=\"vertical-align: top; border: 0px solid white\">\n",
       "<h3 style=\"text-align: left;\">Client</h3>\n",
       "<ul style=\"text-align: left; list-style: none; margin: 0; padding: 0;\">\n",
       "  <li><b>Scheduler: </b>tcp://127.0.0.1:42689</li>\n",
       "  <li><b>Dashboard: </b><a href='http://127.0.0.1:8787/status' target='_blank'>http://127.0.0.1:8787/status</a></li>\n",
       "</ul>\n",
       "</td>\n",
       "<td style=\"vertical-align: top; border: 0px solid white\">\n",
       "<h3 style=\"text-align: left;\">Cluster</h3>\n",
       "<ul style=\"text-align: left; list-style:none; margin: 0; padding: 0;\">\n",
       "  <li><b>Workers: </b>1</li>\n",
       "  <li><b>Cores: </b>1</li>\n",
       "  <li><b>Memory: </b>515.68 GB</li>\n",
       "</ul>\n",
       "</td>\n",
       "</tr>\n",
       "</table>"
      ],
      "text/plain": [
       "<Client: 'tcp://127.0.0.1:42689' processes=1 threads=1, memory=515.68 GB>"
      ]
     },
     "execution_count": 1,
     "metadata": {},
     "output_type": "execute_result"
    }
   ],
   "source": [
    "from dask.distributed import Client\n",
    "from dask_cuda import LocalCUDACluster\n",
    "\n",
    "cluster = LocalCUDACluster()\n",
    "client = Client(cluster)\n",
    "client"
   ]
  },
  {
   "cell_type": "code",
   "execution_count": 8,
   "metadata": {
    "execution": {
     "iopub.execute_input": "2021-03-26T15:00:49.075119Z",
     "iopub.status.busy": "2021-03-26T15:00:49.074081Z",
     "iopub.status.idle": "2021-03-26T15:00:49.404184Z",
     "shell.execute_reply": "2021-03-26T15:00:49.404709Z"
    }
   },
   "outputs": [],
   "source": [
    "from cuml.dask.datasets import make_blobs\n",
    "\n",
    "n_workers = len(client.scheduler_info()[\"workers\"].keys())\n",
    "\n",
    "X, y = make_blobs(n_samples=5000, \n",
    "                  n_features=30,\n",
    "                  centers=5, \n",
    "                  cluster_std=0.4, \n",
    "                  random_state=0,\n",
    "                  n_parts=n_workers*5)\n",
    "\n",
    "X = X.persist()\n",
    "y = y.persist()"
   ]
  },
  {
   "cell_type": "code",
   "execution_count": 9,
   "metadata": {
    "execution": {
     "iopub.execute_input": "2021-03-26T15:00:49.409893Z",
     "iopub.status.busy": "2021-03-26T15:00:49.408841Z",
     "iopub.status.idle": "2021-03-26T15:00:49.426715Z",
     "shell.execute_reply": "2021-03-26T15:00:49.427272Z"
    }
   },
   "outputs": [],
   "source": [
    "from cuml.dask.cluster import KMeans\n",
    "\n",
    "dist_model = KMeans(n_clusters=5)"
   ]
  },
  {
   "cell_type": "code",
   "execution_count": 10,
   "metadata": {
    "execution": {
     "iopub.execute_input": "2021-03-26T15:00:49.433535Z",
     "iopub.status.busy": "2021-03-26T15:00:49.432914Z",
     "iopub.status.idle": "2021-03-26T15:00:52.248811Z",
     "shell.execute_reply": "2021-03-26T15:00:52.249316Z"
    }
   },
   "outputs": [
    {
     "data": {
      "text/plain": [
       "<cuml.dask.cluster.kmeans.KMeans at 0x7f7650f6ec90>"
      ]
     },
     "execution_count": 1,
     "metadata": {},
     "output_type": "execute_result"
    }
   ],
   "source": [
    "dist_model.fit(X)"
   ]
  },
  {
   "cell_type": "code",
   "execution_count": 11,
   "metadata": {
    "execution": {
     "iopub.execute_input": "2021-03-26T15:00:52.254128Z",
     "iopub.status.busy": "2021-03-26T15:00:52.253464Z",
     "iopub.status.idle": "2021-03-26T15:00:52.263498Z",
     "shell.execute_reply": "2021-03-26T15:00:52.263996Z"
    }
   },
   "outputs": [],
   "source": [
    "import pickle\n",
    "\n",
    "single_gpu_model = dist_model.get_combined_model()\n",
    "pickle.dump(single_gpu_model, open(\"kmeans_model.pkl\", \"wb\"))"
   ]
  },
  {
   "cell_type": "code",
   "execution_count": 12,
   "metadata": {
    "execution": {
     "iopub.execute_input": "2021-03-26T15:00:52.268495Z",
     "iopub.status.busy": "2021-03-26T15:00:52.267835Z",
     "iopub.status.idle": "2021-03-26T15:00:52.270392Z",
     "shell.execute_reply": "2021-03-26T15:00:52.270878Z"
    }
   },
   "outputs": [],
   "source": [
    "single_gpu_model = pickle.load(open(\"kmeans_model.pkl\", \"rb\"))"
   ]
  },
  {
   "cell_type": "code",
   "execution_count": 13,
   "metadata": {
    "execution": {
     "iopub.execute_input": "2021-03-26T15:00:52.277157Z",
     "iopub.status.busy": "2021-03-26T15:00:52.276430Z",
     "iopub.status.idle": "2021-03-26T15:00:52.280283Z",
     "shell.execute_reply": "2021-03-26T15:00:52.279748Z"
    }
   },
   "outputs": [
    {
     "data": {
      "text/plain": [
       "array([[ 4.809875  ,  8.422671  , -9.239023  ,  9.379141  ,  8.49988   ,\n",
       "        -1.059282  ,  3.3437855 , -7.802612  , -0.59463316,  0.26447597,\n",
       "         5.5073953 , -4.1069803 ,  4.2890778 , -2.8172052 ,  3.6150155 ,\n",
       "        -4.1613    , -3.6209643 ,  6.218529  , -6.9460473 , -1.0828307 ,\n",
       "        -5.8267703 ,  2.2258763 , -3.8601215 , -1.6974076 , -5.313418  ,\n",
       "         7.579579  ,  2.9187477 ,  8.540424  ,  1.5523205 ,  1.0841805 ],\n",
       "       [-2.8941855 ,  4.47419   , -4.447567  ,  2.3820987 ,  1.747883  ,\n",
       "        -2.5046248 , -5.2083297 , -1.6937686 , -8.134754  ,  2.6468296 ,\n",
       "        -4.3163624 ,  5.56554   , -5.7321987 , -1.7384951 , -9.344658  ,\n",
       "         0.7084657 ,  4.4358397 , -2.9009001 , -4.948638  ,  9.695301  ,\n",
       "         8.366521  , -6.2474537 , -6.3494725 ,  1.9546974 ,  4.1576157 ,\n",
       "        -9.167903  ,  4.6070676 ,  8.788585  ,  6.864423  ,  2.2319882 ],\n",
       "       [-4.6657133 , -9.558958  ,  6.657228  ,  4.4401307 ,  2.1730304 ,\n",
       "         2.5904036 ,  0.58000994,  6.2550354 , -8.829284  , -0.41399658,\n",
       "         9.831052  ,  7.589735  ,  9.975542  , -5.8561745 , -1.2414309 ,\n",
       "        -2.5572667 , -1.0441563 , -5.24611   , -9.311468  ,  4.636607  ,\n",
       "        -0.11776031, -3.929529  ,  6.207367  , -7.3990135 ,  5.674092  ,\n",
       "        -8.5403    , -7.5186524 , -5.5301213 ,  4.8341303 ,  2.569168  ],\n",
       "       [-6.958109  , -9.760797  , -6.5506096 , -0.4196504 ,  6.068768  ,\n",
       "         3.760288  , -3.975132  ,  6.1493387 , -1.8729936 ,  5.025274  ,\n",
       "        -6.8340993 ,  1.3383294 ,  9.001677  , -0.9864835 ,  9.654021  ,\n",
       "         9.790737  , -8.618676  ,  5.9955792 ,  2.2099135 , -3.6309097 ,\n",
       "         7.0714087 , -7.3946223 , -5.299634  , -6.9737053 , -7.908465  ,\n",
       "         6.6810646 , -5.575639  ,  7.131311  ,  6.5996184 , -8.309574  ],\n",
       "       [ 6.2617536 ,  9.228769  ,  8.358131  ,  9.017297  ,  7.7044663 ,\n",
       "        -1.0047106 , -6.2457666 ,  1.3951724 , -6.976181  , -5.94806   ,\n",
       "         1.0575897 , -0.01074281,  2.821026  ,  1.8389363 , -8.247101  ,\n",
       "         3.0498962 , -8.483244  ,  9.721641  , -7.750272  ,  3.4655957 ,\n",
       "        -3.9312134 , -4.0965166 ,  2.6586986 ,  1.2832462 ,  1.0177819 ,\n",
       "         5.257111  , -1.644438  ,  6.1383214 , -6.884054  , -9.663093  ]],\n",
       "      dtype=float32)"
      ]
     },
     "execution_count": 1,
     "metadata": {},
     "output_type": "execute_result"
    }
   ],
   "source": [
    "single_gpu_model.cluster_centers_"
   ]
  }
 ],
 "metadata": {
  "kernelspec": {
   "display_name": "Python 3",
   "language": "python",
   "name": "python3"
  },
  "language_info": {
   "codemirror_mode": {
    "name": "ipython",
    "version": 3
   },
   "file_extension": ".py",
   "mimetype": "text/x-python",
   "name": "python",
   "nbconvert_exporter": "python",
   "pygments_lexer": "ipython3",
   "version": "3.7.10"
  }
 },
 "nbformat": 4,
 "nbformat_minor": 4
}
