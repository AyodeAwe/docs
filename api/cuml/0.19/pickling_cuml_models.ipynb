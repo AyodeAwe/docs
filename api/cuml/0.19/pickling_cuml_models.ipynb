{
 "cells": [
  {
   "cell_type": "markdown",
   "metadata": {},
   "source": [
    "# Pickling cuML Models for Persistence\n",
    "\n",
    "This notebook demonstrates simple pickling of both single-GPU and multi-GPU cuML models for persistence"
   ]
  },
  {
   "cell_type": "code",
   "execution_count": 1,
   "metadata": {
    "execution": {
     "iopub.execute_input": "2021-04-22T09:45:35.662527Z",
     "iopub.status.busy": "2021-04-22T09:45:35.661109Z",
     "iopub.status.idle": "2021-04-22T09:45:35.664396Z",
     "shell.execute_reply": "2021-04-22T09:45:35.665558Z"
    }
   },
   "outputs": [],
   "source": [
    "import warnings\n",
    "warnings.filterwarnings(\"ignore\", category=FutureWarning)"
   ]
  },
  {
   "cell_type": "markdown",
   "metadata": {},
   "source": [
    "## Single GPU Model Pickling\n",
    "\n",
    "All single-GPU estimators are pickleable. The following example demonstrates the creation of a synthetic dataset, training, and pickling of the resulting model for storage. Trained single-GPU models can also be used to distribute the inference on a Dask cluster, which the `Distributed Model Pickling` section below demonstrates."
   ]
  },
  {
   "cell_type": "code",
   "execution_count": 2,
   "metadata": {
    "execution": {
     "iopub.execute_input": "2021-04-22T09:45:35.675136Z",
     "iopub.status.busy": "2021-04-22T09:45:35.673745Z",
     "iopub.status.idle": "2021-04-22T09:45:40.522906Z",
     "shell.execute_reply": "2021-04-22T09:45:40.524022Z"
    }
   },
   "outputs": [],
   "source": [
    "from cuml.datasets import make_blobs\n",
    "\n",
    "X, y = make_blobs(n_samples=50,\n",
    "                  n_features=10,\n",
    "                  centers=5,\n",
    "                  cluster_std=0.4,\n",
    "                  random_state=0)"
   ]
  },
  {
   "cell_type": "code",
   "execution_count": 3,
   "metadata": {
    "execution": {
     "iopub.execute_input": "2021-04-22T09:45:40.531228Z",
     "iopub.status.busy": "2021-04-22T09:45:40.530081Z",
     "iopub.status.idle": "2021-04-22T09:45:40.815655Z",
     "shell.execute_reply": "2021-04-22T09:45:40.816585Z"
    }
   },
   "outputs": [
    {
     "data": {
      "text/plain": [
       "KMeans()"
      ]
     },
     "execution_count": 1,
     "metadata": {},
     "output_type": "execute_result"
    }
   ],
   "source": [
    "from cuml.cluster import KMeans\n",
    "\n",
    "model = KMeans(n_clusters=5)\n",
    "\n",
    "model.fit(X)"
   ]
  },
  {
   "cell_type": "code",
   "execution_count": 4,
   "metadata": {
    "execution": {
     "iopub.execute_input": "2021-04-22T09:45:40.822837Z",
     "iopub.status.busy": "2021-04-22T09:45:40.821458Z",
     "iopub.status.idle": "2021-04-22T09:45:40.825850Z",
     "shell.execute_reply": "2021-04-22T09:45:40.824655Z"
    }
   },
   "outputs": [],
   "source": [
    "import pickle\n",
    "\n",
    "pickle.dump(model, open(\"kmeans_model.pkl\", \"wb\"))"
   ]
  },
  {
   "cell_type": "code",
   "execution_count": 5,
   "metadata": {
    "execution": {
     "iopub.execute_input": "2021-04-22T09:45:40.831944Z",
     "iopub.status.busy": "2021-04-22T09:45:40.830542Z",
     "iopub.status.idle": "2021-04-22T09:45:40.835031Z",
     "shell.execute_reply": "2021-04-22T09:45:40.834025Z"
    }
   },
   "outputs": [],
   "source": [
    "model = pickle.load(open(\"kmeans_model.pkl\", \"rb\"))"
   ]
  },
  {
   "cell_type": "code",
   "execution_count": 6,
   "metadata": {
    "execution": {
     "iopub.execute_input": "2021-04-22T09:45:40.841969Z",
     "iopub.status.busy": "2021-04-22T09:45:40.840774Z",
     "iopub.status.idle": "2021-04-22T09:45:40.844962Z",
     "shell.execute_reply": "2021-04-22T09:45:40.845906Z"
    }
   },
   "outputs": [
    {
     "data": {
      "text/plain": [
       "array([[-5.7684636 ,  2.3276033 , -3.7457771 , -1.8541754 , -5.169583  ,\n",
       "         7.667088  ,  2.7118318 ,  8.495609  ,  1.7038486 ,  1.1884269 ],\n",
       "       [ 4.647688  ,  8.37788   , -9.070581  ,  9.459332  ,  8.450422  ,\n",
       "        -1.0210547 ,  3.3920872 , -7.8629856 , -0.7527663 ,  0.4838412 ],\n",
       "       [-2.9414442 ,  4.6401706 , -4.5027533 ,  2.2855108 ,  1.644645  ,\n",
       "        -2.493789  , -5.2241607 , -1.5499196 , -8.063638  ,  2.8169358 ],\n",
       "       [-4.2710767 ,  5.5611653 , -5.6640916 , -1.8229512 , -9.2925    ,\n",
       "         0.73028314,  4.4586773 , -2.8876224 , -5.1257744 ,  9.694357  ],\n",
       "       [ 5.5837426 , -4.1515303 ,  4.369667  , -3.00205   ,  3.638897  ,\n",
       "        -4.3419113 , -3.318711  ,  6.503671  , -6.865036  , -1.0266498 ]],\n",
       "      dtype=float32)"
      ]
     },
     "execution_count": 1,
     "metadata": {},
     "output_type": "execute_result"
    }
   ],
   "source": [
    "model.cluster_centers_"
   ]
  },
  {
   "cell_type": "markdown",
   "metadata": {},
   "source": [
    "## Distributed Model Pickling"
   ]
  },
  {
   "cell_type": "markdown",
   "metadata": {},
   "source": [
    "The distributed estimator wrappers inside of the `cuml.dask` are not intended to be pickled directly. The Dask cuML estimators provide a function `get_combined_model()`, which returns the trained single-GPU model for pickling. The combined model can be used for inference on a single-GPU, and the `ParallelPostFit` wrapper from the [Dask-ML](https://ml.dask.org/meta-estimators.html) library can be used to perform distributed inference on a Dask cluster."
   ]
  },
  {
   "cell_type": "code",
   "execution_count": 7,
   "metadata": {
    "execution": {
     "iopub.execute_input": "2021-04-22T09:45:40.851874Z",
     "iopub.status.busy": "2021-04-22T09:45:40.850726Z",
     "iopub.status.idle": "2021-04-22T09:45:45.304266Z",
     "shell.execute_reply": "2021-04-22T09:45:45.305543Z"
    }
   },
   "outputs": [
    {
     "data": {
      "text/html": [
       "<table style=\"border: 2px solid white;\">\n",
       "<tr>\n",
       "<td style=\"vertical-align: top; border: 0px solid white\">\n",
       "<h3 style=\"text-align: left;\">Client</h3>\n",
       "<ul style=\"text-align: left; list-style: none; margin: 0; padding: 0;\">\n",
       "  <li><b>Scheduler: </b>tcp://127.0.0.1:35004</li>\n",
       "  <li><b>Dashboard: </b><a href='http://127.0.0.1:8787/status' target='_blank'>http://127.0.0.1:8787/status</a></li>\n",
       "</ul>\n",
       "</td>\n",
       "<td style=\"vertical-align: top; border: 0px solid white\">\n",
       "<h3 style=\"text-align: left;\">Cluster</h3>\n",
       "<ul style=\"text-align: left; list-style:none; margin: 0; padding: 0;\">\n",
       "  <li><b>Workers: </b>1</li>\n",
       "  <li><b>Cores: </b>1</li>\n",
       "  <li><b>Memory: </b>251.80 GiB</li>\n",
       "</ul>\n",
       "</td>\n",
       "</tr>\n",
       "</table>"
      ],
      "text/plain": [
       "<Client: 'tcp://127.0.0.1:35004' processes=1 threads=1, memory=251.80 GiB>"
      ]
     },
     "execution_count": 1,
     "metadata": {},
     "output_type": "execute_result"
    }
   ],
   "source": [
    "from dask.distributed import Client\n",
    "from dask_cuda import LocalCUDACluster\n",
    "\n",
    "cluster = LocalCUDACluster()\n",
    "client = Client(cluster)\n",
    "client"
   ]
  },
  {
   "cell_type": "code",
   "execution_count": 8,
   "metadata": {
    "execution": {
     "iopub.execute_input": "2021-04-22T09:45:45.320269Z",
     "iopub.status.busy": "2021-04-22T09:45:45.318696Z",
     "iopub.status.idle": "2021-04-22T09:45:45.822131Z",
     "shell.execute_reply": "2021-04-22T09:45:45.822783Z"
    }
   },
   "outputs": [],
   "source": [
    "from cuml.dask.datasets import make_blobs\n",
    "\n",
    "n_workers = len(client.scheduler_info()[\"workers\"].keys())\n",
    "\n",
    "X, y = make_blobs(n_samples=5000, \n",
    "                  n_features=30,\n",
    "                  centers=5, \n",
    "                  cluster_std=0.4, \n",
    "                  random_state=0,\n",
    "                  n_parts=n_workers*5)\n",
    "\n",
    "X = X.persist()\n",
    "y = y.persist()"
   ]
  },
  {
   "cell_type": "code",
   "execution_count": 9,
   "metadata": {
    "execution": {
     "iopub.execute_input": "2021-04-22T09:45:45.834725Z",
     "iopub.status.busy": "2021-04-22T09:45:45.833203Z",
     "iopub.status.idle": "2021-04-22T09:45:45.862104Z",
     "shell.execute_reply": "2021-04-22T09:45:45.863249Z"
    }
   },
   "outputs": [],
   "source": [
    "from cuml.dask.cluster import KMeans\n",
    "\n",
    "dist_model = KMeans(n_clusters=5)"
   ]
  },
  {
   "cell_type": "code",
   "execution_count": 10,
   "metadata": {
    "execution": {
     "iopub.execute_input": "2021-04-22T09:45:45.873761Z",
     "iopub.status.busy": "2021-04-22T09:45:45.872256Z",
     "iopub.status.idle": "2021-04-22T09:45:48.562176Z",
     "shell.execute_reply": "2021-04-22T09:45:48.560803Z"
    }
   },
   "outputs": [
    {
     "data": {
      "text/plain": [
       "<cuml.dask.cluster.kmeans.KMeans at 0x7f3f59de5f90>"
      ]
     },
     "execution_count": 1,
     "metadata": {},
     "output_type": "execute_result"
    }
   ],
   "source": [
    "dist_model.fit(X)"
   ]
  },
  {
   "cell_type": "code",
   "execution_count": 11,
   "metadata": {
    "execution": {
     "iopub.execute_input": "2021-04-22T09:45:48.572968Z",
     "iopub.status.busy": "2021-04-22T09:45:48.571518Z",
     "iopub.status.idle": "2021-04-22T09:45:48.588905Z",
     "shell.execute_reply": "2021-04-22T09:45:48.590087Z"
    }
   },
   "outputs": [],
   "source": [
    "import pickle\n",
    "\n",
    "single_gpu_model = dist_model.get_combined_model()\n",
    "pickle.dump(single_gpu_model, open(\"kmeans_model.pkl\", \"wb\"))"
   ]
  },
  {
   "cell_type": "code",
   "execution_count": 12,
   "metadata": {
    "execution": {
     "iopub.execute_input": "2021-04-22T09:45:48.603586Z",
     "iopub.status.busy": "2021-04-22T09:45:48.602190Z",
     "iopub.status.idle": "2021-04-22T09:45:48.608513Z",
     "shell.execute_reply": "2021-04-22T09:45:48.609679Z"
    }
   },
   "outputs": [],
   "source": [
    "single_gpu_model = pickle.load(open(\"kmeans_model.pkl\", \"rb\"))"
   ]
  },
  {
   "cell_type": "code",
   "execution_count": 13,
   "metadata": {
    "execution": {
     "iopub.execute_input": "2021-04-22T09:45:48.627216Z",
     "iopub.status.busy": "2021-04-22T09:45:48.622959Z",
     "iopub.status.idle": "2021-04-22T09:45:48.631346Z",
     "shell.execute_reply": "2021-04-22T09:45:48.632475Z"
    }
   },
   "outputs": [
    {
     "data": {
      "text/plain": [
       "array([[ 4.809871  ,  8.422669  , -9.239025  ,  9.379147  ,  8.499884  ,\n",
       "        -1.0592817 ,  3.343786  , -7.802611  , -0.5946332 ,  0.264476  ,\n",
       "         5.5073953 , -4.106981  ,  4.289078  , -2.8172042 ,  3.6150157 ,\n",
       "        -4.1612997 , -3.620963  ,  6.21853   , -6.946046  , -1.0828309 ,\n",
       "        -5.826771  ,  2.2258766 , -3.8601217 , -1.697408  , -5.313417  ,\n",
       "         7.579578  ,  2.918748  ,  8.540425  ,  1.5523202 ,  1.0841807 ],\n",
       "       [-2.8941844 ,  4.4741893 , -4.4475675 ,  2.3820987 ,  1.7478834 ,\n",
       "        -2.504625  , -5.2083306 , -1.6937684 , -8.134755  ,  2.6468294 ,\n",
       "        -4.316363  ,  5.565539  , -5.7321997 , -1.7384955 , -9.344653  ,\n",
       "         0.70846575,  4.4358397 , -2.9008996 , -4.94864   ,  9.695303  ,\n",
       "         8.36652   , -6.247453  , -6.349475  ,  1.9546971 ,  4.157616  ,\n",
       "        -9.167902  ,  4.607066  ,  8.788588  ,  6.8644223 ,  2.2319875 ],\n",
       "       [-4.6657147 , -9.558958  ,  6.657228  ,  4.440131  ,  2.1730304 ,\n",
       "         2.590404  ,  0.58001006,  6.255035  , -8.829283  , -0.4139965 ,\n",
       "         9.831055  ,  7.5897346 ,  9.975546  , -5.8561754 , -1.2414304 ,\n",
       "        -2.5572658 , -1.0441566 , -5.2461104 , -9.311467  ,  4.6366053 ,\n",
       "        -0.11776034, -3.9295282 ,  6.207369  , -7.399014  ,  5.674089  ,\n",
       "        -8.540296  , -7.518653  , -5.530121  ,  4.8341317 ,  2.5691679 ],\n",
       "       [-6.95811   , -9.760795  , -6.5506105 , -0.41965035,  6.0687685 ,\n",
       "         3.7602887 , -3.9751315 ,  6.1493382 , -1.872994  ,  5.0252743 ,\n",
       "        -6.834099  ,  1.3383288 ,  9.001677  , -0.98648334,  9.654024  ,\n",
       "         9.790738  , -8.618676  ,  5.995577  ,  2.2099137 , -3.630909  ,\n",
       "         7.0714083 , -7.394622  , -5.2996354 , -6.9737062 , -7.908464  ,\n",
       "         6.6810646 , -5.5756383 ,  7.1313114 ,  6.599616  , -8.309571  ],\n",
       "       [ 6.261753  ,  9.228775  ,  8.35813   ,  9.017301  ,  7.704468  ,\n",
       "        -1.0047104 , -6.245766  ,  1.3951719 , -6.976179  , -5.948059  ,\n",
       "         1.0575898 , -0.01074279,  2.821026  ,  1.8389366 , -8.247102  ,\n",
       "         3.0498967 , -8.483241  ,  9.721642  , -7.750273  ,  3.4655955 ,\n",
       "        -3.9312143 , -4.096515  ,  2.658698  ,  1.2832465 ,  1.0177817 ,\n",
       "         5.2571115 , -1.644438  ,  6.1383224 , -6.8840547 , -9.663093  ]],\n",
       "      dtype=float32)"
      ]
     },
     "execution_count": 1,
     "metadata": {},
     "output_type": "execute_result"
    }
   ],
   "source": [
    "single_gpu_model.cluster_centers_"
   ]
  }
 ],
 "metadata": {
  "kernelspec": {
   "display_name": "Python 3",
   "language": "python",
   "name": "python3"
  },
  "language_info": {
   "codemirror_mode": {
    "name": "ipython",
    "version": 3
   },
   "file_extension": ".py",
   "mimetype": "text/x-python",
   "name": "python",
   "nbconvert_exporter": "python",
   "pygments_lexer": "ipython3",
   "version": "3.7.10"
  }
 },
 "nbformat": 4,
 "nbformat_minor": 4
}
