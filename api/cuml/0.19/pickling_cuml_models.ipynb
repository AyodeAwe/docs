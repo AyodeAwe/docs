{
 "cells": [
  {
   "cell_type": "markdown",
   "metadata": {},
   "source": [
    "# Pickling cuML Models for Persistence\n",
    "\n",
    "This notebook demonstrates simple pickling of both single-GPU and multi-GPU cuML models for persistence"
   ]
  },
  {
   "cell_type": "code",
   "execution_count": 1,
   "metadata": {
    "execution": {
     "iopub.execute_input": "2021-04-20T09:45:49.869233Z",
     "iopub.status.busy": "2021-04-20T09:45:49.867567Z",
     "iopub.status.idle": "2021-04-20T09:45:49.871180Z",
     "shell.execute_reply": "2021-04-20T09:45:49.872277Z"
    }
   },
   "outputs": [],
   "source": [
    "import warnings\n",
    "warnings.filterwarnings(\"ignore\", category=FutureWarning)"
   ]
  },
  {
   "cell_type": "markdown",
   "metadata": {},
   "source": [
    "## Single GPU Model Pickling\n",
    "\n",
    "All single-GPU estimators are pickleable. The following example demonstrates the creation of a synthetic dataset, training, and pickling of the resulting model for storage. Trained single-GPU models can also be used to distribute the inference on a Dask cluster, which the `Distributed Model Pickling` section below demonstrates."
   ]
  },
  {
   "cell_type": "code",
   "execution_count": 2,
   "metadata": {
    "execution": {
     "iopub.execute_input": "2021-04-20T09:45:49.881653Z",
     "iopub.status.busy": "2021-04-20T09:45:49.880376Z",
     "iopub.status.idle": "2021-04-20T09:45:54.826732Z",
     "shell.execute_reply": "2021-04-20T09:45:54.827347Z"
    }
   },
   "outputs": [],
   "source": [
    "from cuml.datasets import make_blobs\n",
    "\n",
    "X, y = make_blobs(n_samples=50,\n",
    "                  n_features=10,\n",
    "                  centers=5,\n",
    "                  cluster_std=0.4,\n",
    "                  random_state=0)"
   ]
  },
  {
   "cell_type": "code",
   "execution_count": 3,
   "metadata": {
    "execution": {
     "iopub.execute_input": "2021-04-20T09:45:54.834944Z",
     "iopub.status.busy": "2021-04-20T09:45:54.833490Z",
     "iopub.status.idle": "2021-04-20T09:45:55.132735Z",
     "shell.execute_reply": "2021-04-20T09:45:55.133950Z"
    }
   },
   "outputs": [
    {
     "data": {
      "text/plain": [
       "KMeans()"
      ]
     },
     "execution_count": 1,
     "metadata": {},
     "output_type": "execute_result"
    }
   ],
   "source": [
    "from cuml.cluster import KMeans\n",
    "\n",
    "model = KMeans(n_clusters=5)\n",
    "\n",
    "model.fit(X)"
   ]
  },
  {
   "cell_type": "code",
   "execution_count": 4,
   "metadata": {
    "execution": {
     "iopub.execute_input": "2021-04-20T09:45:55.140755Z",
     "iopub.status.busy": "2021-04-20T09:45:55.139282Z",
     "iopub.status.idle": "2021-04-20T09:45:55.142303Z",
     "shell.execute_reply": "2021-04-20T09:45:55.143504Z"
    }
   },
   "outputs": [],
   "source": [
    "import pickle\n",
    "\n",
    "pickle.dump(model, open(\"kmeans_model.pkl\", \"wb\"))"
   ]
  },
  {
   "cell_type": "code",
   "execution_count": 5,
   "metadata": {
    "execution": {
     "iopub.execute_input": "2021-04-20T09:45:55.149562Z",
     "iopub.status.busy": "2021-04-20T09:45:55.148233Z",
     "iopub.status.idle": "2021-04-20T09:45:55.151290Z",
     "shell.execute_reply": "2021-04-20T09:45:55.152437Z"
    }
   },
   "outputs": [],
   "source": [
    "model = pickle.load(open(\"kmeans_model.pkl\", \"rb\"))"
   ]
  },
  {
   "cell_type": "code",
   "execution_count": 6,
   "metadata": {
    "execution": {
     "iopub.execute_input": "2021-04-20T09:45:55.160087Z",
     "iopub.status.busy": "2021-04-20T09:45:55.158743Z",
     "iopub.status.idle": "2021-04-20T09:45:55.163242Z",
     "shell.execute_reply": "2021-04-20T09:45:55.164309Z"
    }
   },
   "outputs": [
    {
     "data": {
      "text/plain": [
       "array([[-5.7684636 ,  2.3276033 , -3.7457771 , -1.8541754 , -5.169583  ,\n",
       "         7.667088  ,  2.7118318 ,  8.495609  ,  1.7038486 ,  1.1884269 ],\n",
       "       [ 4.6476874 ,  8.377879  , -9.070581  ,  9.459332  ,  8.450422  ,\n",
       "        -1.0210547 ,  3.3920872 , -7.862985  , -0.75276613,  0.4838412 ],\n",
       "       [-2.9414442 ,  4.6401706 , -4.5027533 ,  2.2855108 ,  1.644645  ,\n",
       "        -2.4937892 , -5.2241607 , -1.5499196 , -8.063638  ,  2.816936  ],\n",
       "       [-4.271077  ,  5.5611653 , -5.6640916 , -1.8229512 , -9.2925    ,\n",
       "         0.730283  ,  4.4586773 , -2.8876226 , -5.125775  ,  9.694357  ],\n",
       "       [ 5.5837426 , -4.1515303 ,  4.369667  , -3.0020502 ,  3.6388965 ,\n",
       "        -4.341912  , -3.318711  ,  6.503671  , -6.865036  , -1.0266498 ]],\n",
       "      dtype=float32)"
      ]
     },
     "execution_count": 1,
     "metadata": {},
     "output_type": "execute_result"
    }
   ],
   "source": [
    "model.cluster_centers_"
   ]
  },
  {
   "cell_type": "markdown",
   "metadata": {},
   "source": [
    "## Distributed Model Pickling"
   ]
  },
  {
   "cell_type": "markdown",
   "metadata": {},
   "source": [
    "The distributed estimator wrappers inside of the `cuml.dask` are not intended to be pickled directly. The Dask cuML estimators provide a function `get_combined_model()`, which returns the trained single-GPU model for pickling. The combined model can be used for inference on a single-GPU, and the `ParallelPostFit` wrapper from the [Dask-ML](https://ml.dask.org/meta-estimators.html) library can be used to perform distributed inference on a Dask cluster."
   ]
  },
  {
   "cell_type": "code",
   "execution_count": 7,
   "metadata": {
    "execution": {
     "iopub.execute_input": "2021-04-20T09:45:55.170764Z",
     "iopub.status.busy": "2021-04-20T09:45:55.169514Z",
     "iopub.status.idle": "2021-04-20T09:46:00.108997Z",
     "shell.execute_reply": "2021-04-20T09:46:00.110152Z"
    }
   },
   "outputs": [
    {
     "data": {
      "text/html": [
       "<table style=\"border: 2px solid white;\">\n",
       "<tr>\n",
       "<td style=\"vertical-align: top; border: 0px solid white\">\n",
       "<h3 style=\"text-align: left;\">Client</h3>\n",
       "<ul style=\"text-align: left; list-style: none; margin: 0; padding: 0;\">\n",
       "  <li><b>Scheduler: </b>tcp://127.0.0.1:40823</li>\n",
       "  <li><b>Dashboard: </b><a href='http://127.0.0.1:8787/status' target='_blank'>http://127.0.0.1:8787/status</a></li>\n",
       "</ul>\n",
       "</td>\n",
       "<td style=\"vertical-align: top; border: 0px solid white\">\n",
       "<h3 style=\"text-align: left;\">Cluster</h3>\n",
       "<ul style=\"text-align: left; list-style:none; margin: 0; padding: 0;\">\n",
       "  <li><b>Workers: </b>1</li>\n",
       "  <li><b>Cores: </b>1</li>\n",
       "  <li><b>Memory: </b>251.80 GiB</li>\n",
       "</ul>\n",
       "</td>\n",
       "</tr>\n",
       "</table>"
      ],
      "text/plain": [
       "<Client: 'tcp://127.0.0.1:40823' processes=1 threads=1, memory=251.80 GiB>"
      ]
     },
     "execution_count": 1,
     "metadata": {},
     "output_type": "execute_result"
    }
   ],
   "source": [
    "from dask.distributed import Client\n",
    "from dask_cuda import LocalCUDACluster\n",
    "\n",
    "cluster = LocalCUDACluster()\n",
    "client = Client(cluster)\n",
    "client"
   ]
  },
  {
   "cell_type": "code",
   "execution_count": 8,
   "metadata": {
    "execution": {
     "iopub.execute_input": "2021-04-20T09:46:00.123655Z",
     "iopub.status.busy": "2021-04-20T09:46:00.122205Z",
     "iopub.status.idle": "2021-04-20T09:46:00.572190Z",
     "shell.execute_reply": "2021-04-20T09:46:00.573430Z"
    }
   },
   "outputs": [],
   "source": [
    "from cuml.dask.datasets import make_blobs\n",
    "\n",
    "n_workers = len(client.scheduler_info()[\"workers\"].keys())\n",
    "\n",
    "X, y = make_blobs(n_samples=5000, \n",
    "                  n_features=30,\n",
    "                  centers=5, \n",
    "                  cluster_std=0.4, \n",
    "                  random_state=0,\n",
    "                  n_parts=n_workers*5)\n",
    "\n",
    "X = X.persist()\n",
    "y = y.persist()"
   ]
  },
  {
   "cell_type": "code",
   "execution_count": 9,
   "metadata": {
    "execution": {
     "iopub.execute_input": "2021-04-20T09:46:00.580768Z",
     "iopub.status.busy": "2021-04-20T09:46:00.579301Z",
     "iopub.status.idle": "2021-04-20T09:46:00.601587Z",
     "shell.execute_reply": "2021-04-20T09:46:00.602734Z"
    }
   },
   "outputs": [],
   "source": [
    "from cuml.dask.cluster import KMeans\n",
    "\n",
    "dist_model = KMeans(n_clusters=5)"
   ]
  },
  {
   "cell_type": "code",
   "execution_count": 10,
   "metadata": {
    "execution": {
     "iopub.execute_input": "2021-04-20T09:46:00.615429Z",
     "iopub.status.busy": "2021-04-20T09:46:00.609966Z",
     "iopub.status.idle": "2021-04-20T09:46:03.270818Z",
     "shell.execute_reply": "2021-04-20T09:46:03.272081Z"
    }
   },
   "outputs": [
    {
     "data": {
      "text/plain": [
       "<cuml.dask.cluster.kmeans.KMeans at 0x7f2ef1445790>"
      ]
     },
     "execution_count": 1,
     "metadata": {},
     "output_type": "execute_result"
    }
   ],
   "source": [
    "dist_model.fit(X)"
   ]
  },
  {
   "cell_type": "code",
   "execution_count": 11,
   "metadata": {
    "execution": {
     "iopub.execute_input": "2021-04-20T09:46:03.283631Z",
     "iopub.status.busy": "2021-04-20T09:46:03.282197Z",
     "iopub.status.idle": "2021-04-20T09:46:03.293769Z",
     "shell.execute_reply": "2021-04-20T09:46:03.294841Z"
    }
   },
   "outputs": [],
   "source": [
    "import pickle\n",
    "\n",
    "single_gpu_model = dist_model.get_combined_model()\n",
    "pickle.dump(single_gpu_model, open(\"kmeans_model.pkl\", \"wb\"))"
   ]
  },
  {
   "cell_type": "code",
   "execution_count": 12,
   "metadata": {
    "execution": {
     "iopub.execute_input": "2021-04-20T09:46:03.302787Z",
     "iopub.status.busy": "2021-04-20T09:46:03.301547Z",
     "iopub.status.idle": "2021-04-20T09:46:03.305773Z",
     "shell.execute_reply": "2021-04-20T09:46:03.306760Z"
    }
   },
   "outputs": [],
   "source": [
    "single_gpu_model = pickle.load(open(\"kmeans_model.pkl\", \"rb\"))"
   ]
  },
  {
   "cell_type": "code",
   "execution_count": 13,
   "metadata": {
    "execution": {
     "iopub.execute_input": "2021-04-20T09:46:03.320763Z",
     "iopub.status.busy": "2021-04-20T09:46:03.319500Z",
     "iopub.status.idle": "2021-04-20T09:46:03.325503Z",
     "shell.execute_reply": "2021-04-20T09:46:03.324408Z"
    }
   },
   "outputs": [
    {
     "data": {
      "text/plain": [
       "array([[ 4.809874  ,  8.422671  , -9.239025  ,  9.379142  ,  8.499882  ,\n",
       "        -1.0592817 ,  3.3437855 , -7.802612  , -0.59463346,  0.26447597,\n",
       "         5.5073953 , -4.1069803 ,  4.289078  , -2.8172054 ,  3.6150153 ,\n",
       "        -4.161299  , -3.6209638 ,  6.2185307 , -6.9460454 , -1.0828307 ,\n",
       "        -5.826772  ,  2.2258768 , -3.8601215 , -1.6974076 , -5.3134174 ,\n",
       "         7.5795774 ,  2.918748  ,  8.540426  ,  1.5523204 ,  1.0841812 ],\n",
       "       [-2.8941848 ,  4.474189  , -4.4475656 ,  2.3820992 ,  1.7478827 ,\n",
       "        -2.504625  , -5.208329  , -1.6937685 , -8.134755  ,  2.64683   ,\n",
       "        -4.3163633 ,  5.5655384 , -5.7321973 , -1.7384956 , -9.344653  ,\n",
       "         0.70846593,  4.435842  , -2.9008994 , -4.9486394 ,  9.695301  ,\n",
       "         8.366519  , -6.2474537 , -6.349474  ,  1.9546967 ,  4.157616  ,\n",
       "        -9.167906  ,  4.6070676 ,  8.788585  ,  6.8644238 ,  2.231988  ],\n",
       "       [-4.665717  , -9.558954  ,  6.6572275 ,  4.440129  ,  2.1730304 ,\n",
       "         2.5904036 ,  0.5800098 ,  6.255036  , -8.829284  , -0.41399658,\n",
       "         9.831054  ,  7.5897346 ,  9.975547  , -5.856176  , -1.2414308 ,\n",
       "        -2.5572665 , -1.0441563 , -5.2461104 , -9.311469  ,  4.6366067 ,\n",
       "        -0.11776034, -3.9295292 ,  6.2073674 , -7.3990145 ,  5.674092  ,\n",
       "        -8.540296  , -7.518654  , -5.5301228 ,  4.834132  ,  2.569168  ],\n",
       "       [-6.958112  , -9.760798  , -6.5506086 , -0.41965035,  6.068768  ,\n",
       "         3.760289  , -3.9751334 ,  6.149339  , -1.872994  ,  5.0252733 ,\n",
       "        -6.8340993 ,  1.3383296 ,  9.001678  , -0.9864834 ,  9.654023  ,\n",
       "         9.790741  , -8.618676  ,  5.995579  ,  2.2099135 , -3.6309094 ,\n",
       "         7.0714087 , -7.3946214 , -5.299635  , -6.9737067 , -7.908465  ,\n",
       "         6.6810646 , -5.575638  ,  7.1313114 ,  6.5996165 , -8.309572  ],\n",
       "       [ 6.2617545 ,  9.228771  ,  8.358132  ,  9.017298  ,  7.704468  ,\n",
       "        -1.0047106 , -6.2457643 ,  1.3951721 , -6.976182  , -5.948059  ,\n",
       "         1.0575897 , -0.01074278,  2.8210254 ,  1.838936  , -8.247101  ,\n",
       "         3.0498965 , -8.48324   ,  9.72164   , -7.750272  ,  3.4655962 ,\n",
       "        -3.9312136 , -4.0965157 ,  2.658698  ,  1.2832458 ,  1.0177817 ,\n",
       "         5.25711   , -1.6444381 ,  6.1383204 , -6.884053  , -9.663092  ]],\n",
       "      dtype=float32)"
      ]
     },
     "execution_count": 1,
     "metadata": {},
     "output_type": "execute_result"
    }
   ],
   "source": [
    "single_gpu_model.cluster_centers_"
   ]
  }
 ],
 "metadata": {
  "kernelspec": {
   "display_name": "Python 3",
   "language": "python",
   "name": "python3"
  },
  "language_info": {
   "codemirror_mode": {
    "name": "ipython",
    "version": 3
   },
   "file_extension": ".py",
   "mimetype": "text/x-python",
   "name": "python",
   "nbconvert_exporter": "python",
   "pygments_lexer": "ipython3",
   "version": "3.7.10"
  }
 },
 "nbformat": 4,
 "nbformat_minor": 4
}
