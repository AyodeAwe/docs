{
 "cells": [
  {
   "cell_type": "markdown",
   "metadata": {},
   "source": [
    "# Pickling cuML Models for Persistence\n",
    "\n",
    "This notebook demonstrates simple pickling of both single-GPU and multi-GPU cuML models for persistence"
   ]
  },
  {
   "cell_type": "code",
   "execution_count": 1,
   "metadata": {
    "execution": {
     "iopub.execute_input": "2021-04-19T09:45:44.324528Z",
     "iopub.status.busy": "2021-04-19T09:45:44.323050Z",
     "iopub.status.idle": "2021-04-19T09:45:44.327806Z",
     "shell.execute_reply": "2021-04-19T09:45:44.326501Z"
    }
   },
   "outputs": [],
   "source": [
    "import warnings\n",
    "warnings.filterwarnings(\"ignore\", category=FutureWarning)"
   ]
  },
  {
   "cell_type": "markdown",
   "metadata": {},
   "source": [
    "## Single GPU Model Pickling\n",
    "\n",
    "All single-GPU estimators are pickleable. The following example demonstrates the creation of a synthetic dataset, training, and pickling of the resulting model for storage. Trained single-GPU models can also be used to distribute the inference on a Dask cluster, which the `Distributed Model Pickling` section below demonstrates."
   ]
  },
  {
   "cell_type": "code",
   "execution_count": 2,
   "metadata": {
    "execution": {
     "iopub.execute_input": "2021-04-19T09:45:44.337238Z",
     "iopub.status.busy": "2021-04-19T09:45:44.335967Z",
     "iopub.status.idle": "2021-04-19T09:45:49.208449Z",
     "shell.execute_reply": "2021-04-19T09:45:49.207166Z"
    }
   },
   "outputs": [],
   "source": [
    "from cuml.datasets import make_blobs\n",
    "\n",
    "X, y = make_blobs(n_samples=50,\n",
    "                  n_features=10,\n",
    "                  centers=5,\n",
    "                  cluster_std=0.4,\n",
    "                  random_state=0)"
   ]
  },
  {
   "cell_type": "code",
   "execution_count": 3,
   "metadata": {
    "execution": {
     "iopub.execute_input": "2021-04-19T09:45:49.216753Z",
     "iopub.status.busy": "2021-04-19T09:45:49.215277Z",
     "iopub.status.idle": "2021-04-19T09:45:49.540818Z",
     "shell.execute_reply": "2021-04-19T09:45:49.542037Z"
    }
   },
   "outputs": [
    {
     "data": {
      "text/plain": [
       "KMeans()"
      ]
     },
     "execution_count": 1,
     "metadata": {},
     "output_type": "execute_result"
    }
   ],
   "source": [
    "from cuml.cluster import KMeans\n",
    "\n",
    "model = KMeans(n_clusters=5)\n",
    "\n",
    "model.fit(X)"
   ]
  },
  {
   "cell_type": "code",
   "execution_count": 4,
   "metadata": {
    "execution": {
     "iopub.execute_input": "2021-04-19T09:45:49.548822Z",
     "iopub.status.busy": "2021-04-19T09:45:49.547364Z",
     "iopub.status.idle": "2021-04-19T09:45:49.550468Z",
     "shell.execute_reply": "2021-04-19T09:45:49.551609Z"
    }
   },
   "outputs": [],
   "source": [
    "import pickle\n",
    "\n",
    "pickle.dump(model, open(\"kmeans_model.pkl\", \"wb\"))"
   ]
  },
  {
   "cell_type": "code",
   "execution_count": 5,
   "metadata": {
    "execution": {
     "iopub.execute_input": "2021-04-19T09:45:49.558159Z",
     "iopub.status.busy": "2021-04-19T09:45:49.556811Z",
     "iopub.status.idle": "2021-04-19T09:45:49.560953Z",
     "shell.execute_reply": "2021-04-19T09:45:49.559718Z"
    }
   },
   "outputs": [],
   "source": [
    "model = pickle.load(open(\"kmeans_model.pkl\", \"rb\"))"
   ]
  },
  {
   "cell_type": "code",
   "execution_count": 6,
   "metadata": {
    "execution": {
     "iopub.execute_input": "2021-04-19T09:45:49.568799Z",
     "iopub.status.busy": "2021-04-19T09:45:49.567460Z",
     "iopub.status.idle": "2021-04-19T09:45:49.571938Z",
     "shell.execute_reply": "2021-04-19T09:45:49.572982Z"
    }
   },
   "outputs": [
    {
     "data": {
      "text/plain": [
       "array([[-5.7684636 ,  2.3276033 , -3.7457774 , -1.8541754 , -5.1695833 ,\n",
       "         7.667088  ,  2.7118318 ,  8.495609  ,  1.7038484 ,  1.1884269 ],\n",
       "       [ 4.647688  ,  8.377879  , -9.070581  ,  9.459332  ,  8.450422  ,\n",
       "        -1.0210547 ,  3.3920872 , -7.862985  , -0.75276613,  0.4838412 ],\n",
       "       [-2.9414442 ,  4.6401706 , -4.5027533 ,  2.2855108 ,  1.644645  ,\n",
       "        -2.493789  , -5.2241607 , -1.5499196 , -8.063638  ,  2.8169358 ],\n",
       "       [-4.271077  ,  5.5611653 , -5.6640916 , -1.8229512 , -9.2925    ,\n",
       "         0.730283  ,  4.458678  , -2.8876226 , -5.1257744 ,  9.694357  ],\n",
       "       [ 5.583742  , -4.1515303 ,  4.369667  , -3.00205   ,  3.6388965 ,\n",
       "        -4.3419113 , -3.318711  ,  6.503671  , -6.865036  , -1.0266498 ]],\n",
       "      dtype=float32)"
      ]
     },
     "execution_count": 1,
     "metadata": {},
     "output_type": "execute_result"
    }
   ],
   "source": [
    "model.cluster_centers_"
   ]
  },
  {
   "cell_type": "markdown",
   "metadata": {},
   "source": [
    "## Distributed Model Pickling"
   ]
  },
  {
   "cell_type": "markdown",
   "metadata": {},
   "source": [
    "The distributed estimator wrappers inside of the `cuml.dask` are not intended to be pickled directly. The Dask cuML estimators provide a function `get_combined_model()`, which returns the trained single-GPU model for pickling. The combined model can be used for inference on a single-GPU, and the `ParallelPostFit` wrapper from the [Dask-ML](https://ml.dask.org/meta-estimators.html) library can be used to perform distributed inference on a Dask cluster."
   ]
  },
  {
   "cell_type": "code",
   "execution_count": 7,
   "metadata": {
    "execution": {
     "iopub.execute_input": "2021-04-19T09:45:49.579749Z",
     "iopub.status.busy": "2021-04-19T09:45:49.578502Z",
     "iopub.status.idle": "2021-04-19T09:45:54.197018Z",
     "shell.execute_reply": "2021-04-19T09:45:54.198236Z"
    }
   },
   "outputs": [
    {
     "data": {
      "text/html": [
       "<table style=\"border: 2px solid white;\">\n",
       "<tr>\n",
       "<td style=\"vertical-align: top; border: 0px solid white\">\n",
       "<h3 style=\"text-align: left;\">Client</h3>\n",
       "<ul style=\"text-align: left; list-style: none; margin: 0; padding: 0;\">\n",
       "  <li><b>Scheduler: </b>tcp://127.0.0.1:38209</li>\n",
       "  <li><b>Dashboard: </b><a href='http://127.0.0.1:8787/status' target='_blank'>http://127.0.0.1:8787/status</a></li>\n",
       "</ul>\n",
       "</td>\n",
       "<td style=\"vertical-align: top; border: 0px solid white\">\n",
       "<h3 style=\"text-align: left;\">Cluster</h3>\n",
       "<ul style=\"text-align: left; list-style:none; margin: 0; padding: 0;\">\n",
       "  <li><b>Workers: </b>1</li>\n",
       "  <li><b>Cores: </b>1</li>\n",
       "  <li><b>Memory: </b>251.80 GiB</li>\n",
       "</ul>\n",
       "</td>\n",
       "</tr>\n",
       "</table>"
      ],
      "text/plain": [
       "<Client: 'tcp://127.0.0.1:38209' processes=1 threads=1, memory=251.80 GiB>"
      ]
     },
     "execution_count": 1,
     "metadata": {},
     "output_type": "execute_result"
    }
   ],
   "source": [
    "from dask.distributed import Client\n",
    "from dask_cuda import LocalCUDACluster\n",
    "\n",
    "cluster = LocalCUDACluster()\n",
    "client = Client(cluster)\n",
    "client"
   ]
  },
  {
   "cell_type": "code",
   "execution_count": 8,
   "metadata": {
    "execution": {
     "iopub.execute_input": "2021-04-19T09:45:54.210268Z",
     "iopub.status.busy": "2021-04-19T09:45:54.208926Z",
     "iopub.status.idle": "2021-04-19T09:45:54.585179Z",
     "shell.execute_reply": "2021-04-19T09:45:54.583779Z"
    }
   },
   "outputs": [],
   "source": [
    "from cuml.dask.datasets import make_blobs\n",
    "\n",
    "n_workers = len(client.scheduler_info()[\"workers\"].keys())\n",
    "\n",
    "X, y = make_blobs(n_samples=5000, \n",
    "                  n_features=30,\n",
    "                  centers=5, \n",
    "                  cluster_std=0.4, \n",
    "                  random_state=0,\n",
    "                  n_parts=n_workers*5)\n",
    "\n",
    "X = X.persist()\n",
    "y = y.persist()"
   ]
  },
  {
   "cell_type": "code",
   "execution_count": 9,
   "metadata": {
    "execution": {
     "iopub.execute_input": "2021-04-19T09:45:54.593985Z",
     "iopub.status.busy": "2021-04-19T09:45:54.592564Z",
     "iopub.status.idle": "2021-04-19T09:45:54.609551Z",
     "shell.execute_reply": "2021-04-19T09:45:54.610696Z"
    }
   },
   "outputs": [],
   "source": [
    "from cuml.dask.cluster import KMeans\n",
    "\n",
    "dist_model = KMeans(n_clusters=5)"
   ]
  },
  {
   "cell_type": "code",
   "execution_count": 10,
   "metadata": {
    "execution": {
     "iopub.execute_input": "2021-04-19T09:45:54.619730Z",
     "iopub.status.busy": "2021-04-19T09:45:54.615704Z",
     "iopub.status.idle": "2021-04-19T09:45:57.481041Z",
     "shell.execute_reply": "2021-04-19T09:45:57.482197Z"
    }
   },
   "outputs": [
    {
     "data": {
      "text/plain": [
       "<cuml.dask.cluster.kmeans.KMeans at 0x7fd83c1103d0>"
      ]
     },
     "execution_count": 1,
     "metadata": {},
     "output_type": "execute_result"
    }
   ],
   "source": [
    "dist_model.fit(X)"
   ]
  },
  {
   "cell_type": "code",
   "execution_count": 11,
   "metadata": {
    "execution": {
     "iopub.execute_input": "2021-04-19T09:45:57.492896Z",
     "iopub.status.busy": "2021-04-19T09:45:57.491498Z",
     "iopub.status.idle": "2021-04-19T09:45:57.508269Z",
     "shell.execute_reply": "2021-04-19T09:45:57.509333Z"
    }
   },
   "outputs": [],
   "source": [
    "import pickle\n",
    "\n",
    "single_gpu_model = dist_model.get_combined_model()\n",
    "pickle.dump(single_gpu_model, open(\"kmeans_model.pkl\", \"wb\"))"
   ]
  },
  {
   "cell_type": "code",
   "execution_count": 12,
   "metadata": {
    "execution": {
     "iopub.execute_input": "2021-04-19T09:45:57.517292Z",
     "iopub.status.busy": "2021-04-19T09:45:57.515958Z",
     "iopub.status.idle": "2021-04-19T09:45:57.520923Z",
     "shell.execute_reply": "2021-04-19T09:45:57.519835Z"
    }
   },
   "outputs": [],
   "source": [
    "single_gpu_model = pickle.load(open(\"kmeans_model.pkl\", \"rb\"))"
   ]
  },
  {
   "cell_type": "code",
   "execution_count": 13,
   "metadata": {
    "execution": {
     "iopub.execute_input": "2021-04-19T09:45:57.532619Z",
     "iopub.status.busy": "2021-04-19T09:45:57.531370Z",
     "iopub.status.idle": "2021-04-19T09:45:57.535988Z",
     "shell.execute_reply": "2021-04-19T09:45:57.536964Z"
    }
   },
   "outputs": [
    {
     "data": {
      "text/plain": [
       "array([[ 4.8098717 ,  8.422669  , -9.23902   ,  9.379146  ,  8.499882  ,\n",
       "        -1.0592815 ,  3.343786  , -7.8026123 , -0.5946333 ,  0.264476  ,\n",
       "         5.5073953 , -4.1069794 ,  4.2890787 , -2.817205  ,  3.6150153 ,\n",
       "        -4.1612997 , -3.6209633 ,  6.218529  , -6.946047  , -1.0828307 ,\n",
       "        -5.8267727 ,  2.225876  , -3.8601213 , -1.6974075 , -5.313418  ,\n",
       "         7.579578  ,  2.9187472 ,  8.540424  ,  1.5523204 ,  1.0841804 ],\n",
       "       [-2.8941853 ,  4.474189  , -4.447566  ,  2.3820992 ,  1.7478834 ,\n",
       "        -2.5046246 , -5.20833   , -1.6937687 , -8.134755  ,  2.64683   ,\n",
       "        -4.3163624 ,  5.5655394 , -5.732199  , -1.7384951 , -9.344655  ,\n",
       "         0.70846575,  4.4358406 , -2.9009    , -4.9486384 ,  9.695302  ,\n",
       "         8.366519  , -6.2474546 , -6.349474  ,  1.9546974 ,  4.1576157 ,\n",
       "        -9.167906  ,  4.607067  ,  8.788587  ,  6.8644233 ,  2.2319882 ],\n",
       "       [-4.665716  , -9.558955  ,  6.6572285 ,  4.44013   ,  2.1730294 ,\n",
       "         2.590404  ,  0.58000994,  6.255036  , -8.82928   , -0.41399652,\n",
       "         9.831049  ,  7.5897346 ,  9.975542  , -5.8561745 , -1.2414304 ,\n",
       "        -2.5572672 , -1.0441563 , -5.24611   , -9.311466  ,  4.636606  ,\n",
       "        -0.11776032, -3.929529  ,  6.207367  , -7.3990135 ,  5.674092  ,\n",
       "        -8.540298  , -7.518652  , -5.530121  ,  4.8341303 ,  2.569168  ],\n",
       "       [-6.9581094 , -9.760794  , -6.5506096 , -0.4196504 ,  6.0687675 ,\n",
       "         3.7602894 , -3.9751334 ,  6.149338  , -1.8729937 ,  5.0252724 ,\n",
       "        -6.8341007 ,  1.3383291 ,  9.001679  , -0.9864833 ,  9.654019  ,\n",
       "         9.790737  , -8.618676  ,  5.9955783 ,  2.2099133 , -3.6309092 ,\n",
       "         7.0714097 , -7.394623  , -5.2996345 , -6.9737062 , -7.908465  ,\n",
       "         6.6810656 , -5.5756392 ,  7.1313086 ,  6.5996175 , -8.309574  ],\n",
       "       [ 6.261754  ,  9.228771  ,  8.358131  ,  9.017301  ,  7.7044663 ,\n",
       "        -1.0047106 , -6.245766  ,  1.3951721 , -6.9761796 , -5.948061  ,\n",
       "         1.0575899 , -0.01074279,  2.8210254 ,  1.8389362 , -8.247102  ,\n",
       "         3.0498965 , -8.483244  ,  9.72164   , -7.7502737 ,  3.4655957 ,\n",
       "        -3.9312136 , -4.0965166 ,  2.6586978 ,  1.2832459 ,  1.0177817 ,\n",
       "         5.2571087 , -1.6444377 ,  6.1383224 , -6.8840556 , -9.663093  ]],\n",
       "      dtype=float32)"
      ]
     },
     "execution_count": 1,
     "metadata": {},
     "output_type": "execute_result"
    }
   ],
   "source": [
    "single_gpu_model.cluster_centers_"
   ]
  }
 ],
 "metadata": {
  "kernelspec": {
   "display_name": "Python 3",
   "language": "python",
   "name": "python3"
  },
  "language_info": {
   "codemirror_mode": {
    "name": "ipython",
    "version": 3
   },
   "file_extension": ".py",
   "mimetype": "text/x-python",
   "name": "python",
   "nbconvert_exporter": "python",
   "pygments_lexer": "ipython3",
   "version": "3.7.10"
  }
 },
 "nbformat": 4,
 "nbformat_minor": 4
}
