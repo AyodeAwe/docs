{
 "cells": [
  {
   "cell_type": "markdown",
   "metadata": {},
   "source": [
    "# Pickling cuML Models for Persistence\n",
    "\n",
    "This notebook demonstrates simple pickling of both single-GPU and multi-GPU cuML models for persistence"
   ]
  },
  {
   "cell_type": "code",
   "execution_count": 1,
   "metadata": {
    "execution": {
     "iopub.execute_input": "2021-04-15T09:45:49.273799Z",
     "iopub.status.busy": "2021-04-15T09:45:49.272409Z",
     "iopub.status.idle": "2021-04-15T09:45:49.277122Z",
     "shell.execute_reply": "2021-04-15T09:45:49.275831Z"
    }
   },
   "outputs": [],
   "source": [
    "import warnings\n",
    "warnings.filterwarnings(\"ignore\", category=FutureWarning)"
   ]
  },
  {
   "cell_type": "markdown",
   "metadata": {},
   "source": [
    "## Single GPU Model Pickling\n",
    "\n",
    "All single-GPU estimators are pickleable. The following example demonstrates the creation of a synthetic dataset, training, and pickling of the resulting model for storage. Trained single-GPU models can also be used to distribute the inference on a Dask cluster, which the `Distributed Model Pickling` section below demonstrates."
   ]
  },
  {
   "cell_type": "code",
   "execution_count": 2,
   "metadata": {
    "execution": {
     "iopub.execute_input": "2021-04-15T09:45:49.285873Z",
     "iopub.status.busy": "2021-04-15T09:45:49.284484Z",
     "iopub.status.idle": "2021-04-15T09:45:53.965955Z",
     "shell.execute_reply": "2021-04-15T09:45:53.967165Z"
    }
   },
   "outputs": [],
   "source": [
    "from cuml.datasets import make_blobs\n",
    "\n",
    "X, y = make_blobs(n_samples=50,\n",
    "                  n_features=10,\n",
    "                  centers=5,\n",
    "                  cluster_std=0.4,\n",
    "                  random_state=0)"
   ]
  },
  {
   "cell_type": "code",
   "execution_count": 3,
   "metadata": {
    "execution": {
     "iopub.execute_input": "2021-04-15T09:45:53.975102Z",
     "iopub.status.busy": "2021-04-15T09:45:53.973665Z",
     "iopub.status.idle": "2021-04-15T09:45:54.447545Z",
     "shell.execute_reply": "2021-04-15T09:45:54.448763Z"
    }
   },
   "outputs": [
    {
     "data": {
      "text/plain": [
       "KMeans()"
      ]
     },
     "execution_count": 1,
     "metadata": {},
     "output_type": "execute_result"
    }
   ],
   "source": [
    "from cuml.cluster import KMeans\n",
    "\n",
    "model = KMeans(n_clusters=5)\n",
    "\n",
    "model.fit(X)"
   ]
  },
  {
   "cell_type": "code",
   "execution_count": 4,
   "metadata": {
    "execution": {
     "iopub.execute_input": "2021-04-15T09:45:54.455644Z",
     "iopub.status.busy": "2021-04-15T09:45:54.454205Z",
     "iopub.status.idle": "2021-04-15T09:45:54.457746Z",
     "shell.execute_reply": "2021-04-15T09:45:54.458842Z"
    }
   },
   "outputs": [],
   "source": [
    "import pickle\n",
    "\n",
    "pickle.dump(model, open(\"kmeans_model.pkl\", \"wb\"))"
   ]
  },
  {
   "cell_type": "code",
   "execution_count": 5,
   "metadata": {
    "execution": {
     "iopub.execute_input": "2021-04-15T09:45:54.465698Z",
     "iopub.status.busy": "2021-04-15T09:45:54.464360Z",
     "iopub.status.idle": "2021-04-15T09:45:54.467776Z",
     "shell.execute_reply": "2021-04-15T09:45:54.468890Z"
    }
   },
   "outputs": [],
   "source": [
    "model = pickle.load(open(\"kmeans_model.pkl\", \"rb\"))"
   ]
  },
  {
   "cell_type": "code",
   "execution_count": 6,
   "metadata": {
    "execution": {
     "iopub.execute_input": "2021-04-15T09:45:54.476819Z",
     "iopub.status.busy": "2021-04-15T09:45:54.475543Z",
     "iopub.status.idle": "2021-04-15T09:45:54.479975Z",
     "shell.execute_reply": "2021-04-15T09:45:54.480972Z"
    }
   },
   "outputs": [
    {
     "data": {
      "text/plain": [
       "array([[-5.7684636 ,  2.3276033 , -3.7457771 , -1.8541754 , -5.1695833 ,\n",
       "         7.667088  ,  2.7118318 ,  8.495609  ,  1.7038484 ,  1.1884269 ],\n",
       "       [ 4.6476874 ,  8.37788   , -9.070581  ,  9.459332  ,  8.450422  ,\n",
       "        -1.0210547 ,  3.392087  , -7.8629856 , -0.7527662 ,  0.48384127],\n",
       "       [-2.9414442 ,  4.6401706 , -4.5027533 ,  2.2855108 ,  1.644645  ,\n",
       "        -2.493789  , -5.2241607 , -1.5499196 , -8.063638  ,  2.816936  ],\n",
       "       [-4.271077  ,  5.561165  , -5.6640916 , -1.8229512 , -9.2925    ,\n",
       "         0.73028314,  4.4586773 , -2.8876226 , -5.1257744 ,  9.694357  ],\n",
       "       [ 5.5837417 , -4.1515303 ,  4.369667  , -3.00205   ,  3.6388965 ,\n",
       "        -4.341912  , -3.318711  ,  6.503671  , -6.865036  , -1.0266498 ]],\n",
       "      dtype=float32)"
      ]
     },
     "execution_count": 1,
     "metadata": {},
     "output_type": "execute_result"
    }
   ],
   "source": [
    "model.cluster_centers_"
   ]
  },
  {
   "cell_type": "markdown",
   "metadata": {},
   "source": [
    "## Distributed Model Pickling"
   ]
  },
  {
   "cell_type": "markdown",
   "metadata": {},
   "source": [
    "The distributed estimator wrappers inside of the `cuml.dask` are not intended to be pickled directly. The Dask cuML estimators provide a function `get_combined_model()`, which returns the trained single-GPU model for pickling. The combined model can be used for inference on a single-GPU, and the `ParallelPostFit` wrapper from the [Dask-ML](https://ml.dask.org/meta-estimators.html) library can be used to perform distributed inference on a Dask cluster."
   ]
  },
  {
   "cell_type": "code",
   "execution_count": 7,
   "metadata": {
    "execution": {
     "iopub.execute_input": "2021-04-15T09:45:54.487734Z",
     "iopub.status.busy": "2021-04-15T09:45:54.486573Z",
     "iopub.status.idle": "2021-04-15T09:45:58.482576Z",
     "shell.execute_reply": "2021-04-15T09:45:58.483691Z"
    }
   },
   "outputs": [
    {
     "data": {
      "text/html": [
       "<table style=\"border: 2px solid white;\">\n",
       "<tr>\n",
       "<td style=\"vertical-align: top; border: 0px solid white\">\n",
       "<h3 style=\"text-align: left;\">Client</h3>\n",
       "<ul style=\"text-align: left; list-style: none; margin: 0; padding: 0;\">\n",
       "  <li><b>Scheduler: </b>tcp://127.0.0.1:33652</li>\n",
       "  <li><b>Dashboard: </b><a href='http://127.0.0.1:8787/status' target='_blank'>http://127.0.0.1:8787/status</a></li>\n",
       "</ul>\n",
       "</td>\n",
       "<td style=\"vertical-align: top; border: 0px solid white\">\n",
       "<h3 style=\"text-align: left;\">Cluster</h3>\n",
       "<ul style=\"text-align: left; list-style:none; margin: 0; padding: 0;\">\n",
       "  <li><b>Workers: </b>1</li>\n",
       "  <li><b>Cores: </b>1</li>\n",
       "  <li><b>Memory: </b>251.80 GiB</li>\n",
       "</ul>\n",
       "</td>\n",
       "</tr>\n",
       "</table>"
      ],
      "text/plain": [
       "<Client: 'tcp://127.0.0.1:33652' processes=1 threads=1, memory=251.80 GiB>"
      ]
     },
     "execution_count": 1,
     "metadata": {},
     "output_type": "execute_result"
    }
   ],
   "source": [
    "from dask.distributed import Client\n",
    "from dask_cuda import LocalCUDACluster\n",
    "\n",
    "cluster = LocalCUDACluster()\n",
    "client = Client(cluster)\n",
    "client"
   ]
  },
  {
   "cell_type": "code",
   "execution_count": 8,
   "metadata": {
    "execution": {
     "iopub.execute_input": "2021-04-15T09:45:58.494099Z",
     "iopub.status.busy": "2021-04-15T09:45:58.492908Z",
     "iopub.status.idle": "2021-04-15T09:45:58.919547Z",
     "shell.execute_reply": "2021-04-15T09:45:58.920724Z"
    }
   },
   "outputs": [],
   "source": [
    "from cuml.dask.datasets import make_blobs\n",
    "\n",
    "n_workers = len(client.scheduler_info()[\"workers\"].keys())\n",
    "\n",
    "X, y = make_blobs(n_samples=5000, \n",
    "                  n_features=30,\n",
    "                  centers=5, \n",
    "                  cluster_std=0.4, \n",
    "                  random_state=0,\n",
    "                  n_parts=n_workers*5)\n",
    "\n",
    "X = X.persist()\n",
    "y = y.persist()"
   ]
  },
  {
   "cell_type": "code",
   "execution_count": 9,
   "metadata": {
    "execution": {
     "iopub.execute_input": "2021-04-15T09:45:58.931302Z",
     "iopub.status.busy": "2021-04-15T09:45:58.929863Z",
     "iopub.status.idle": "2021-04-15T09:45:58.947775Z",
     "shell.execute_reply": "2021-04-15T09:45:58.948907Z"
    }
   },
   "outputs": [],
   "source": [
    "from cuml.dask.cluster import KMeans\n",
    "\n",
    "dist_model = KMeans(n_clusters=5)"
   ]
  },
  {
   "cell_type": "code",
   "execution_count": 10,
   "metadata": {
    "execution": {
     "iopub.execute_input": "2021-04-15T09:45:58.955987Z",
     "iopub.status.busy": "2021-04-15T09:45:58.953795Z",
     "iopub.status.idle": "2021-04-15T09:46:02.106205Z",
     "shell.execute_reply": "2021-04-15T09:46:02.107521Z"
    }
   },
   "outputs": [
    {
     "data": {
      "text/plain": [
       "<cuml.dask.cluster.kmeans.KMeans at 0x7f1f1c1dc690>"
      ]
     },
     "execution_count": 1,
     "metadata": {},
     "output_type": "execute_result"
    }
   ],
   "source": [
    "dist_model.fit(X)"
   ]
  },
  {
   "cell_type": "code",
   "execution_count": 11,
   "metadata": {
    "execution": {
     "iopub.execute_input": "2021-04-15T09:46:02.118084Z",
     "iopub.status.busy": "2021-04-15T09:46:02.116649Z",
     "iopub.status.idle": "2021-04-15T09:46:02.142289Z",
     "shell.execute_reply": "2021-04-15T09:46:02.141148Z"
    }
   },
   "outputs": [],
   "source": [
    "import pickle\n",
    "\n",
    "single_gpu_model = dist_model.get_combined_model()\n",
    "pickle.dump(single_gpu_model, open(\"kmeans_model.pkl\", \"wb\"))"
   ]
  },
  {
   "cell_type": "code",
   "execution_count": 12,
   "metadata": {
    "execution": {
     "iopub.execute_input": "2021-04-15T09:46:02.150341Z",
     "iopub.status.busy": "2021-04-15T09:46:02.149004Z",
     "iopub.status.idle": "2021-04-15T09:46:02.154686Z",
     "shell.execute_reply": "2021-04-15T09:46:02.153302Z"
    }
   },
   "outputs": [],
   "source": [
    "single_gpu_model = pickle.load(open(\"kmeans_model.pkl\", \"rb\"))"
   ]
  },
  {
   "cell_type": "code",
   "execution_count": 13,
   "metadata": {
    "execution": {
     "iopub.execute_input": "2021-04-15T09:46:02.167123Z",
     "iopub.status.busy": "2021-04-15T09:46:02.165811Z",
     "iopub.status.idle": "2021-04-15T09:46:02.171865Z",
     "shell.execute_reply": "2021-04-15T09:46:02.170807Z"
    }
   },
   "outputs": [
    {
     "data": {
      "text/plain": [
       "array([[ 4.8098726 ,  8.422671  , -9.239021  ,  9.379145  ,  8.499881  ,\n",
       "        -1.0592816 ,  3.343786  , -7.802612  , -0.5946334 ,  0.26447597,\n",
       "         5.5073953 , -4.1069794 ,  4.2890787 , -2.817205  ,  3.6150148 ,\n",
       "        -4.1612997 , -3.6209638 ,  6.21853   , -6.9460464 , -1.0828304 ,\n",
       "        -5.8267717 ,  2.225877  , -3.8601213 , -1.6974077 , -5.3134174 ,\n",
       "         7.5795784 ,  2.918748  ,  8.540426  ,  1.5523202 ,  1.0841808 ],\n",
       "       [-2.8941853 ,  4.47419   , -4.4475656 ,  2.382099  ,  1.7478828 ,\n",
       "        -2.5046253 , -5.2083306 , -1.6937685 , -8.134755  ,  2.6468296 ,\n",
       "        -4.3163643 ,  5.565539  , -5.7322    , -1.7384952 , -9.344657  ,\n",
       "         0.7084657 ,  4.4358406 , -2.9009    , -4.948639  ,  9.695305  ,\n",
       "         8.366521  , -6.2474537 , -6.3494716 ,  1.9546971 ,  4.157616  ,\n",
       "        -9.167905  ,  4.6070685 ,  8.788586  ,  6.8644233 ,  2.2319872 ],\n",
       "       [-4.665714  , -9.558955  ,  6.6572275 ,  4.4401298 ,  2.1730304 ,\n",
       "         2.5904033 ,  0.58000994,  6.2550354 , -8.829281  , -0.4139965 ,\n",
       "         9.831051  ,  7.5897355 ,  9.975546  , -5.856174  , -1.2414303 ,\n",
       "        -2.5572662 , -1.0441561 , -5.246111  , -9.311468  ,  4.636606  ,\n",
       "        -0.11776033, -3.9295275 ,  6.207367  , -7.3990145 ,  5.67409   ,\n",
       "        -8.5402975 , -7.518653  , -5.5301228 ,  4.8341303 ,  2.5691676 ],\n",
       "       [-6.958108  , -9.760797  , -6.550611  , -0.41965032,  6.068768  ,\n",
       "         3.7602892 , -3.9751325 ,  6.149339  , -1.8729929 ,  5.0252733 ,\n",
       "        -6.8341002 ,  1.3383292 ,  9.001675  , -0.98648345,  9.654023  ,\n",
       "         9.790739  , -8.618679  ,  5.9955807 ,  2.2099142 , -3.6309092 ,\n",
       "         7.0714097 , -7.394622  , -5.2996345 , -6.9737077 , -7.908463  ,\n",
       "         6.681066  , -5.5756392 ,  7.131308  ,  6.5996175 , -8.309573  ],\n",
       "       [ 6.2617517 ,  9.22877   ,  8.35813   ,  9.0173    ,  7.704467  ,\n",
       "        -1.0047106 , -6.2457647 ,  1.3951719 , -6.9761806 , -5.948058  ,\n",
       "         1.05759   , -0.01074279,  2.8210247 ,  1.8389362 , -8.247102  ,\n",
       "         3.049897  , -8.483241  ,  9.7216425 , -7.7502723 ,  3.4655952 ,\n",
       "        -3.931214  , -4.0965157 ,  2.6586976 ,  1.2832466 ,  1.0177817 ,\n",
       "         5.257111  , -1.644438  ,  6.1383224 , -6.8840537 , -9.663093  ]],\n",
       "      dtype=float32)"
      ]
     },
     "execution_count": 1,
     "metadata": {},
     "output_type": "execute_result"
    }
   ],
   "source": [
    "single_gpu_model.cluster_centers_"
   ]
  }
 ],
 "metadata": {
  "kernelspec": {
   "display_name": "Python 3",
   "language": "python",
   "name": "python3"
  },
  "language_info": {
   "codemirror_mode": {
    "name": "ipython",
    "version": 3
   },
   "file_extension": ".py",
   "mimetype": "text/x-python",
   "name": "python",
   "nbconvert_exporter": "python",
   "pygments_lexer": "ipython3",
   "version": "3.7.10"
  }
 },
 "nbformat": 4,
 "nbformat_minor": 4
}
