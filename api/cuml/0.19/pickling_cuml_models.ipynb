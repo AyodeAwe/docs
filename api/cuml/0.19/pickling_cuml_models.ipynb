{
 "cells": [
  {
   "cell_type": "markdown",
   "metadata": {},
   "source": [
    "# Pickling cuML Models for Persistence\n",
    "\n",
    "This notebook demonstrates simple pickling of both single-GPU and multi-GPU cuML models for persistence"
   ]
  },
  {
   "cell_type": "code",
   "execution_count": 1,
   "metadata": {
    "execution": {
     "iopub.execute_input": "2021-03-18T09:46:21.907066Z",
     "iopub.status.busy": "2021-03-18T09:46:21.905551Z",
     "iopub.status.idle": "2021-03-18T09:46:21.910757Z",
     "shell.execute_reply": "2021-03-18T09:46:21.909147Z"
    }
   },
   "outputs": [],
   "source": [
    "import warnings\n",
    "warnings.filterwarnings(\"ignore\", category=FutureWarning)"
   ]
  },
  {
   "cell_type": "markdown",
   "metadata": {},
   "source": [
    "## Single GPU Model Pickling\n",
    "\n",
    "All single-GPU estimators are pickleable. The following example demonstrates the creation of a synthetic dataset, training, and pickling of the resulting model for storage. Trained single-GPU models can also be used to distribute the inference on a Dask cluster, which the `Distributed Model Pickling` section below demonstrates."
   ]
  },
  {
   "cell_type": "code",
   "execution_count": 2,
   "metadata": {
    "execution": {
     "iopub.execute_input": "2021-03-18T09:46:21.920378Z",
     "iopub.status.busy": "2021-03-18T09:46:21.918984Z",
     "iopub.status.idle": "2021-03-18T09:46:27.391341Z",
     "shell.execute_reply": "2021-03-18T09:46:27.392530Z"
    }
   },
   "outputs": [],
   "source": [
    "from cuml.datasets import make_blobs\n",
    "\n",
    "X, y = make_blobs(n_samples=50,\n",
    "                  n_features=10,\n",
    "                  centers=5,\n",
    "                  cluster_std=0.4,\n",
    "                  random_state=0)"
   ]
  },
  {
   "cell_type": "code",
   "execution_count": 3,
   "metadata": {
    "execution": {
     "iopub.execute_input": "2021-03-18T09:46:27.399968Z",
     "iopub.status.busy": "2021-03-18T09:46:27.398660Z",
     "iopub.status.idle": "2021-03-18T09:46:27.656526Z",
     "shell.execute_reply": "2021-03-18T09:46:27.657922Z"
    }
   },
   "outputs": [
    {
     "data": {
      "text/plain": [
       "KMeans(handle=<cuml.raft.common.handle.Handle object at 0x7f97ceefeaf0>, n_clusters=5, max_iter=300, tol=0.0001, verbose=4, random_state=1, init='scalable-k-means++', n_init=1, oversampling_factor=2.0, max_samples_per_batch=32768, output_type='input')"
      ]
     },
     "execution_count": 1,
     "metadata": {},
     "output_type": "execute_result"
    }
   ],
   "source": [
    "from cuml.cluster import KMeans\n",
    "\n",
    "model = KMeans(n_clusters=5)\n",
    "\n",
    "model.fit(X)"
   ]
  },
  {
   "cell_type": "code",
   "execution_count": 4,
   "metadata": {
    "execution": {
     "iopub.execute_input": "2021-03-18T09:46:27.664365Z",
     "iopub.status.busy": "2021-03-18T09:46:27.662947Z",
     "iopub.status.idle": "2021-03-18T09:46:27.665993Z",
     "shell.execute_reply": "2021-03-18T09:46:27.667118Z"
    }
   },
   "outputs": [],
   "source": [
    "import pickle\n",
    "\n",
    "pickle.dump(model, open(\"kmeans_model.pkl\", \"wb\"))"
   ]
  },
  {
   "cell_type": "code",
   "execution_count": 5,
   "metadata": {
    "execution": {
     "iopub.execute_input": "2021-03-18T09:46:27.673464Z",
     "iopub.status.busy": "2021-03-18T09:46:27.671921Z",
     "iopub.status.idle": "2021-03-18T09:46:27.677239Z",
     "shell.execute_reply": "2021-03-18T09:46:27.675893Z"
    }
   },
   "outputs": [],
   "source": [
    "model = pickle.load(open(\"kmeans_model.pkl\", \"rb\"))"
   ]
  },
  {
   "cell_type": "code",
   "execution_count": 6,
   "metadata": {
    "execution": {
     "iopub.execute_input": "2021-03-18T09:46:27.684113Z",
     "iopub.status.busy": "2021-03-18T09:46:27.682900Z",
     "iopub.status.idle": "2021-03-18T09:46:27.687066Z",
     "shell.execute_reply": "2021-03-18T09:46:27.688250Z"
    }
   },
   "outputs": [
    {
     "data": {
      "text/plain": [
       "array([[-5.7684636 ,  2.3276033 , -3.7457774 , -1.8541754 , -5.1695833 ,\n",
       "         7.667088  ,  2.7118318 ,  8.495609  ,  1.7038484 ,  1.1884269 ],\n",
       "       [ 4.647688  ,  8.37788   , -9.070581  ,  9.459332  ,  8.450423  ,\n",
       "        -1.0210547 ,  3.3920872 , -7.8629856 , -0.7527662 ,  0.48384118],\n",
       "       [-2.9414437 ,  4.6401706 , -4.5027537 ,  2.2855108 ,  1.644645  ,\n",
       "        -2.4937892 , -5.2241607 , -1.5499196 , -8.063638  ,  2.816936  ],\n",
       "       [-4.271077  ,  5.561165  , -5.6640916 , -1.8229512 , -9.2925    ,\n",
       "         0.73028314,  4.4586773 , -2.8876226 , -5.1257744 ,  9.694357  ],\n",
       "       [ 5.5837417 , -4.1515303 ,  4.369667  , -3.0020504 ,  3.638897  ,\n",
       "        -4.341912  , -3.318711  ,  6.503671  , -6.865036  , -1.0266498 ]],\n",
       "      dtype=float32)"
      ]
     },
     "execution_count": 1,
     "metadata": {},
     "output_type": "execute_result"
    }
   ],
   "source": [
    "model.cluster_centers_"
   ]
  },
  {
   "cell_type": "markdown",
   "metadata": {},
   "source": [
    "## Distributed Model Pickling"
   ]
  },
  {
   "cell_type": "markdown",
   "metadata": {},
   "source": [
    "The distributed estimator wrappers inside of the `cuml.dask` are not intended to be pickled directly. The Dask cuML estimators provide a function `get_combined_model()`, which returns the trained single-GPU model for pickling. The combined model can be used for inference on a single-GPU, and the `ParallelPostFit` wrapper from the [Dask-ML](https://ml.dask.org/meta-estimators.html) library can be used to perform distributed inference on a Dask cluster."
   ]
  },
  {
   "cell_type": "code",
   "execution_count": 7,
   "metadata": {
    "execution": {
     "iopub.execute_input": "2021-03-18T09:46:27.694598Z",
     "iopub.status.busy": "2021-03-18T09:46:27.693341Z",
     "iopub.status.idle": "2021-03-18T09:46:31.864958Z",
     "shell.execute_reply": "2021-03-18T09:46:31.863634Z"
    }
   },
   "outputs": [
    {
     "data": {
      "text/html": [
       "<table style=\"border: 2px solid white;\">\n",
       "<tr>\n",
       "<td style=\"vertical-align: top; border: 0px solid white\">\n",
       "<h3 style=\"text-align: left;\">Client</h3>\n",
       "<ul style=\"text-align: left; list-style: none; margin: 0; padding: 0;\">\n",
       "  <li><b>Scheduler: </b>tcp://127.0.0.1:45551</li>\n",
       "  <li><b>Dashboard: </b><a href='http://127.0.0.1:8787/status' target='_blank'>http://127.0.0.1:8787/status</a></li>\n",
       "</ul>\n",
       "</td>\n",
       "<td style=\"vertical-align: top; border: 0px solid white\">\n",
       "<h3 style=\"text-align: left;\">Cluster</h3>\n",
       "<ul style=\"text-align: left; list-style:none; margin: 0; padding: 0;\">\n",
       "  <li><b>Workers: </b>1</li>\n",
       "  <li><b>Cores: </b>1</li>\n",
       "  <li><b>Memory: </b>270.37 GB</li>\n",
       "</ul>\n",
       "</td>\n",
       "</tr>\n",
       "</table>"
      ],
      "text/plain": [
       "<Client: 'tcp://127.0.0.1:45551' processes=1 threads=1, memory=270.37 GB>"
      ]
     },
     "execution_count": 1,
     "metadata": {},
     "output_type": "execute_result"
    }
   ],
   "source": [
    "from dask.distributed import Client\n",
    "from dask_cuda import LocalCUDACluster\n",
    "\n",
    "cluster = LocalCUDACluster()\n",
    "client = Client(cluster)\n",
    "client"
   ]
  },
  {
   "cell_type": "code",
   "execution_count": 8,
   "metadata": {
    "execution": {
     "iopub.execute_input": "2021-03-18T09:46:31.877939Z",
     "iopub.status.busy": "2021-03-18T09:46:31.876464Z",
     "iopub.status.idle": "2021-03-18T09:46:32.351260Z",
     "shell.execute_reply": "2021-03-18T09:46:32.352374Z"
    }
   },
   "outputs": [],
   "source": [
    "from cuml.dask.datasets import make_blobs\n",
    "\n",
    "n_workers = len(client.scheduler_info()[\"workers\"].keys())\n",
    "\n",
    "X, y = make_blobs(n_samples=5000, \n",
    "                  n_features=30,\n",
    "                  centers=5, \n",
    "                  cluster_std=0.4, \n",
    "                  random_state=0,\n",
    "                  n_parts=n_workers*5)\n",
    "\n",
    "X = X.persist()\n",
    "y = y.persist()"
   ]
  },
  {
   "cell_type": "code",
   "execution_count": 9,
   "metadata": {
    "execution": {
     "iopub.execute_input": "2021-03-18T09:46:32.359712Z",
     "iopub.status.busy": "2021-03-18T09:46:32.358382Z",
     "iopub.status.idle": "2021-03-18T09:46:32.387534Z",
     "shell.execute_reply": "2021-03-18T09:46:32.388724Z"
    }
   },
   "outputs": [],
   "source": [
    "from cuml.dask.cluster import KMeans\n",
    "\n",
    "dist_model = KMeans(n_clusters=5)"
   ]
  },
  {
   "cell_type": "code",
   "execution_count": 10,
   "metadata": {
    "execution": {
     "iopub.execute_input": "2021-03-18T09:46:32.395625Z",
     "iopub.status.busy": "2021-03-18T09:46:32.394277Z",
     "iopub.status.idle": "2021-03-18T09:46:36.767094Z",
     "shell.execute_reply": "2021-03-18T09:46:36.768341Z"
    }
   },
   "outputs": [
    {
     "data": {
      "text/plain": [
       "<cuml.dask.cluster.kmeans.KMeans at 0x7f977e4a7850>"
      ]
     },
     "execution_count": 1,
     "metadata": {},
     "output_type": "execute_result"
    }
   ],
   "source": [
    "dist_model.fit(X)"
   ]
  },
  {
   "cell_type": "code",
   "execution_count": 11,
   "metadata": {
    "execution": {
     "iopub.execute_input": "2021-03-18T09:46:36.779304Z",
     "iopub.status.busy": "2021-03-18T09:46:36.777791Z",
     "iopub.status.idle": "2021-03-18T09:46:36.797620Z",
     "shell.execute_reply": "2021-03-18T09:46:36.799061Z"
    }
   },
   "outputs": [],
   "source": [
    "import pickle\n",
    "\n",
    "single_gpu_model = dist_model.get_combined_model()\n",
    "pickle.dump(single_gpu_model, open(\"kmeans_model.pkl\", \"wb\"))"
   ]
  },
  {
   "cell_type": "code",
   "execution_count": 12,
   "metadata": {
    "execution": {
     "iopub.execute_input": "2021-03-18T09:46:36.808068Z",
     "iopub.status.busy": "2021-03-18T09:46:36.806750Z",
     "iopub.status.idle": "2021-03-18T09:46:36.811676Z",
     "shell.execute_reply": "2021-03-18T09:46:36.812756Z"
    }
   },
   "outputs": [],
   "source": [
    "single_gpu_model = pickle.load(open(\"kmeans_model.pkl\", \"rb\"))"
   ]
  },
  {
   "cell_type": "code",
   "execution_count": 13,
   "metadata": {
    "execution": {
     "iopub.execute_input": "2021-03-18T09:46:36.826844Z",
     "iopub.status.busy": "2021-03-18T09:46:36.825524Z",
     "iopub.status.idle": "2021-03-18T09:46:36.831005Z",
     "shell.execute_reply": "2021-03-18T09:46:36.832070Z"
    }
   },
   "outputs": [
    {
     "data": {
      "text/plain": [
       "array([[ 4.809875  ,  8.422671  , -9.239023  ,  9.379142  ,  8.499881  ,\n",
       "        -1.059282  ,  3.3437855 , -7.802612  , -0.59463316,  0.26447597,\n",
       "         5.5073953 , -4.10698   ,  4.2890778 , -2.8172054 ,  3.6150153 ,\n",
       "        -4.1613    , -3.6209643 ,  6.218529  , -6.946047  , -1.0828305 ,\n",
       "        -5.82677   ,  2.2258763 , -3.8601215 , -1.6974076 , -5.313418  ,\n",
       "         7.5795784 ,  2.9187474 ,  8.540424  ,  1.5523206 ,  1.0841805 ],\n",
       "       [-2.8941855 ,  4.47419   , -4.4475675 ,  2.3820987 ,  1.7478832 ,\n",
       "        -2.5046248 , -5.2083306 , -1.6937685 , -8.134755  ,  2.6468298 ,\n",
       "        -4.3163624 ,  5.5655394 , -5.7321978 , -1.7384952 , -9.344658  ,\n",
       "         0.7084658 ,  4.435839  , -2.9009    , -4.948638  ,  9.695302  ,\n",
       "         8.366522  , -6.247453  , -6.3494725 ,  1.9546973 ,  4.1576157 ,\n",
       "        -9.167902  ,  4.6070676 ,  8.788584  ,  6.864423  ,  2.2319882 ],\n",
       "       [-4.6657133 , -9.558956  ,  6.657229  ,  4.4401307 ,  2.1730306 ,\n",
       "         2.5904036 ,  0.58000994,  6.255035  , -8.829285  , -0.41399658,\n",
       "         9.831051  ,  7.5897346 ,  9.975543  , -5.8561754 , -1.2414306 ,\n",
       "        -2.5572665 , -1.0441563 , -5.24611   , -9.311467  ,  4.636607  ,\n",
       "        -0.11776031, -3.929529  ,  6.207367  , -7.399014  ,  5.6740923 ,\n",
       "        -8.540299  , -7.5186524 , -5.530122  ,  4.8341303 ,  2.569168  ],\n",
       "       [-6.9581094 , -9.760797  , -6.5506096 , -0.41965044,  6.068768  ,\n",
       "         3.7602885 , -3.9751325 ,  6.1493387 , -1.8729935 ,  5.025274  ,\n",
       "        -6.8340993 ,  1.3383294 ,  9.0016775 , -0.98648345,  9.654021  ,\n",
       "         9.790737  , -8.618677  ,  5.995579  ,  2.2099133 , -3.6309097 ,\n",
       "         7.0714087 , -7.394622  , -5.2996335 , -6.9737043 , -7.908465  ,\n",
       "         6.6810646 , -5.575639  ,  7.13131   ,  6.5996184 , -8.309575  ],\n",
       "       [ 6.261754  ,  9.22877   ,  8.35813   ,  9.017299  ,  7.704466  ,\n",
       "        -1.0047106 , -6.2457666 ,  1.3951722 , -6.976181  , -5.9480596 ,\n",
       "         1.0575897 , -0.0107428 ,  2.821026  ,  1.8389363 , -8.247101  ,\n",
       "         3.0498962 , -8.483243  ,  9.721641  , -7.7502713 ,  3.465596  ,\n",
       "        -3.9312134 , -4.0965166 ,  2.6586983 ,  1.2832462 ,  1.0177817 ,\n",
       "         5.2571115 , -1.6444381 ,  6.1383214 , -6.884054  , -9.663093  ]],\n",
       "      dtype=float32)"
      ]
     },
     "execution_count": 1,
     "metadata": {},
     "output_type": "execute_result"
    }
   ],
   "source": [
    "single_gpu_model.cluster_centers_"
   ]
  }
 ],
 "metadata": {
  "kernelspec": {
   "display_name": "Python 3",
   "language": "python",
   "name": "python3"
  },
  "language_info": {
   "codemirror_mode": {
    "name": "ipython",
    "version": 3
   },
   "file_extension": ".py",
   "mimetype": "text/x-python",
   "name": "python",
   "nbconvert_exporter": "python",
   "pygments_lexer": "ipython3",
   "version": "3.7.10"
  }
 },
 "nbformat": 4,
 "nbformat_minor": 4
}
