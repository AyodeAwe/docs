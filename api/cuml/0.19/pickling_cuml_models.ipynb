{
 "cells": [
  {
   "cell_type": "markdown",
   "metadata": {},
   "source": [
    "# Pickling cuML Models for Persistence\n",
    "\n",
    "This notebook demonstrates simple pickling of both single-GPU and multi-GPU cuML models for persistence"
   ]
  },
  {
   "cell_type": "code",
   "execution_count": 1,
   "metadata": {
    "execution": {
     "iopub.execute_input": "2021-04-16T09:45:51.604563Z",
     "iopub.status.busy": "2021-04-16T09:45:51.603096Z",
     "iopub.status.idle": "2021-04-16T09:45:51.606594Z",
     "shell.execute_reply": "2021-04-16T09:45:51.607681Z"
    }
   },
   "outputs": [],
   "source": [
    "import warnings\n",
    "warnings.filterwarnings(\"ignore\", category=FutureWarning)"
   ]
  },
  {
   "cell_type": "markdown",
   "metadata": {},
   "source": [
    "## Single GPU Model Pickling\n",
    "\n",
    "All single-GPU estimators are pickleable. The following example demonstrates the creation of a synthetic dataset, training, and pickling of the resulting model for storage. Trained single-GPU models can also be used to distribute the inference on a Dask cluster, which the `Distributed Model Pickling` section below demonstrates."
   ]
  },
  {
   "cell_type": "code",
   "execution_count": 2,
   "metadata": {
    "execution": {
     "iopub.execute_input": "2021-04-16T09:45:51.617064Z",
     "iopub.status.busy": "2021-04-16T09:45:51.615763Z",
     "iopub.status.idle": "2021-04-16T09:45:56.282669Z",
     "shell.execute_reply": "2021-04-16T09:45:56.281289Z"
    }
   },
   "outputs": [],
   "source": [
    "from cuml.datasets import make_blobs\n",
    "\n",
    "X, y = make_blobs(n_samples=50,\n",
    "                  n_features=10,\n",
    "                  centers=5,\n",
    "                  cluster_std=0.4,\n",
    "                  random_state=0)"
   ]
  },
  {
   "cell_type": "code",
   "execution_count": 3,
   "metadata": {
    "execution": {
     "iopub.execute_input": "2021-04-16T09:45:56.290441Z",
     "iopub.status.busy": "2021-04-16T09:45:56.288939Z",
     "iopub.status.idle": "2021-04-16T09:45:56.597349Z",
     "shell.execute_reply": "2021-04-16T09:45:56.598589Z"
    }
   },
   "outputs": [
    {
     "data": {
      "text/plain": [
       "KMeans()"
      ]
     },
     "execution_count": 1,
     "metadata": {},
     "output_type": "execute_result"
    }
   ],
   "source": [
    "from cuml.cluster import KMeans\n",
    "\n",
    "model = KMeans(n_clusters=5)\n",
    "\n",
    "model.fit(X)"
   ]
  },
  {
   "cell_type": "code",
   "execution_count": 4,
   "metadata": {
    "execution": {
     "iopub.execute_input": "2021-04-16T09:45:56.605629Z",
     "iopub.status.busy": "2021-04-16T09:45:56.604128Z",
     "iopub.status.idle": "2021-04-16T09:45:56.607192Z",
     "shell.execute_reply": "2021-04-16T09:45:56.608437Z"
    }
   },
   "outputs": [],
   "source": [
    "import pickle\n",
    "\n",
    "pickle.dump(model, open(\"kmeans_model.pkl\", \"wb\"))"
   ]
  },
  {
   "cell_type": "code",
   "execution_count": 5,
   "metadata": {
    "execution": {
     "iopub.execute_input": "2021-04-16T09:45:56.615040Z",
     "iopub.status.busy": "2021-04-16T09:45:56.613655Z",
     "iopub.status.idle": "2021-04-16T09:45:56.618300Z",
     "shell.execute_reply": "2021-04-16T09:45:56.617040Z"
    }
   },
   "outputs": [],
   "source": [
    "model = pickle.load(open(\"kmeans_model.pkl\", \"rb\"))"
   ]
  },
  {
   "cell_type": "code",
   "execution_count": 6,
   "metadata": {
    "execution": {
     "iopub.execute_input": "2021-04-16T09:45:56.625898Z",
     "iopub.status.busy": "2021-04-16T09:45:56.624626Z",
     "iopub.status.idle": "2021-04-16T09:45:56.629074Z",
     "shell.execute_reply": "2021-04-16T09:45:56.630153Z"
    }
   },
   "outputs": [
    {
     "data": {
      "text/plain": [
       "array([[-5.7684636 ,  2.3276033 , -3.7457774 , -1.8541752 , -5.1695833 ,\n",
       "         7.6670885 ,  2.7118316 ,  8.495609  ,  1.7038486 ,  1.1884269 ],\n",
       "       [ 4.647688  ,  8.37788   , -9.070581  ,  9.459332  ,  8.450422  ,\n",
       "        -1.0210546 ,  3.392087  , -7.8629856 , -0.7527662 ,  0.48384127],\n",
       "       [-2.9414442 ,  4.6401706 , -4.5027533 ,  2.2855108 ,  1.644645  ,\n",
       "        -2.4937892 , -5.2241607 , -1.5499198 , -8.063638  ,  2.8169358 ],\n",
       "       [-4.271077  ,  5.561165  , -5.6640916 , -1.8229512 , -9.2925    ,\n",
       "         0.73028314,  4.4586773 , -2.8876226 , -5.1257744 ,  9.694357  ],\n",
       "       [ 5.5837417 , -4.1515303 ,  4.369667  , -3.00205   ,  3.6388965 ,\n",
       "        -4.341912  , -3.3187115 ,  6.503671  , -6.865036  , -1.0266498 ]],\n",
       "      dtype=float32)"
      ]
     },
     "execution_count": 1,
     "metadata": {},
     "output_type": "execute_result"
    }
   ],
   "source": [
    "model.cluster_centers_"
   ]
  },
  {
   "cell_type": "markdown",
   "metadata": {},
   "source": [
    "## Distributed Model Pickling"
   ]
  },
  {
   "cell_type": "markdown",
   "metadata": {},
   "source": [
    "The distributed estimator wrappers inside of the `cuml.dask` are not intended to be pickled directly. The Dask cuML estimators provide a function `get_combined_model()`, which returns the trained single-GPU model for pickling. The combined model can be used for inference on a single-GPU, and the `ParallelPostFit` wrapper from the [Dask-ML](https://ml.dask.org/meta-estimators.html) library can be used to perform distributed inference on a Dask cluster."
   ]
  },
  {
   "cell_type": "code",
   "execution_count": 7,
   "metadata": {
    "execution": {
     "iopub.execute_input": "2021-04-16T09:45:56.636813Z",
     "iopub.status.busy": "2021-04-16T09:45:56.635543Z",
     "iopub.status.idle": "2021-04-16T09:46:00.748758Z",
     "shell.execute_reply": "2021-04-16T09:46:00.749915Z"
    }
   },
   "outputs": [
    {
     "data": {
      "text/html": [
       "<table style=\"border: 2px solid white;\">\n",
       "<tr>\n",
       "<td style=\"vertical-align: top; border: 0px solid white\">\n",
       "<h3 style=\"text-align: left;\">Client</h3>\n",
       "<ul style=\"text-align: left; list-style: none; margin: 0; padding: 0;\">\n",
       "  <li><b>Scheduler: </b>tcp://127.0.0.1:35184</li>\n",
       "  <li><b>Dashboard: </b><a href='http://127.0.0.1:8787/status' target='_blank'>http://127.0.0.1:8787/status</a></li>\n",
       "</ul>\n",
       "</td>\n",
       "<td style=\"vertical-align: top; border: 0px solid white\">\n",
       "<h3 style=\"text-align: left;\">Cluster</h3>\n",
       "<ul style=\"text-align: left; list-style:none; margin: 0; padding: 0;\">\n",
       "  <li><b>Workers: </b>1</li>\n",
       "  <li><b>Cores: </b>1</li>\n",
       "  <li><b>Memory: </b>251.80 GiB</li>\n",
       "</ul>\n",
       "</td>\n",
       "</tr>\n",
       "</table>"
      ],
      "text/plain": [
       "<Client: 'tcp://127.0.0.1:35184' processes=1 threads=1, memory=251.80 GiB>"
      ]
     },
     "execution_count": 1,
     "metadata": {},
     "output_type": "execute_result"
    }
   ],
   "source": [
    "from dask.distributed import Client\n",
    "from dask_cuda import LocalCUDACluster\n",
    "\n",
    "cluster = LocalCUDACluster()\n",
    "client = Client(cluster)\n",
    "client"
   ]
  },
  {
   "cell_type": "code",
   "execution_count": 8,
   "metadata": {
    "execution": {
     "iopub.execute_input": "2021-04-16T09:46:00.762576Z",
     "iopub.status.busy": "2021-04-16T09:46:00.761193Z",
     "iopub.status.idle": "2021-04-16T09:46:01.201351Z",
     "shell.execute_reply": "2021-04-16T09:46:01.200004Z"
    }
   },
   "outputs": [],
   "source": [
    "from cuml.dask.datasets import make_blobs\n",
    "\n",
    "n_workers = len(client.scheduler_info()[\"workers\"].keys())\n",
    "\n",
    "X, y = make_blobs(n_samples=5000, \n",
    "                  n_features=30,\n",
    "                  centers=5, \n",
    "                  cluster_std=0.4, \n",
    "                  random_state=0,\n",
    "                  n_parts=n_workers*5)\n",
    "\n",
    "X = X.persist()\n",
    "y = y.persist()"
   ]
  },
  {
   "cell_type": "code",
   "execution_count": 9,
   "metadata": {
    "execution": {
     "iopub.execute_input": "2021-04-16T09:46:01.209067Z",
     "iopub.status.busy": "2021-04-16T09:46:01.207575Z",
     "iopub.status.idle": "2021-04-16T09:46:01.231369Z",
     "shell.execute_reply": "2021-04-16T09:46:01.232550Z"
    }
   },
   "outputs": [],
   "source": [
    "from cuml.dask.cluster import KMeans\n",
    "\n",
    "dist_model = KMeans(n_clusters=5)"
   ]
  },
  {
   "cell_type": "code",
   "execution_count": 10,
   "metadata": {
    "execution": {
     "iopub.execute_input": "2021-04-16T09:46:01.242574Z",
     "iopub.status.busy": "2021-04-16T09:46:01.241118Z",
     "iopub.status.idle": "2021-04-16T09:46:03.944739Z",
     "shell.execute_reply": "2021-04-16T09:46:03.945887Z"
    }
   },
   "outputs": [
    {
     "data": {
      "text/plain": [
       "<cuml.dask.cluster.kmeans.KMeans at 0x7f8dd97511d0>"
      ]
     },
     "execution_count": 1,
     "metadata": {},
     "output_type": "execute_result"
    }
   ],
   "source": [
    "dist_model.fit(X)"
   ]
  },
  {
   "cell_type": "code",
   "execution_count": 11,
   "metadata": {
    "execution": {
     "iopub.execute_input": "2021-04-16T09:46:03.957187Z",
     "iopub.status.busy": "2021-04-16T09:46:03.955908Z",
     "iopub.status.idle": "2021-04-16T09:46:03.969796Z",
     "shell.execute_reply": "2021-04-16T09:46:03.970808Z"
    }
   },
   "outputs": [],
   "source": [
    "import pickle\n",
    "\n",
    "single_gpu_model = dist_model.get_combined_model()\n",
    "pickle.dump(single_gpu_model, open(\"kmeans_model.pkl\", \"wb\"))"
   ]
  },
  {
   "cell_type": "code",
   "execution_count": 12,
   "metadata": {
    "execution": {
     "iopub.execute_input": "2021-04-16T09:46:03.978346Z",
     "iopub.status.busy": "2021-04-16T09:46:03.977154Z",
     "iopub.status.idle": "2021-04-16T09:46:03.982558Z",
     "shell.execute_reply": "2021-04-16T09:46:03.981548Z"
    }
   },
   "outputs": [],
   "source": [
    "single_gpu_model = pickle.load(open(\"kmeans_model.pkl\", \"rb\"))"
   ]
  },
  {
   "cell_type": "code",
   "execution_count": 13,
   "metadata": {
    "execution": {
     "iopub.execute_input": "2021-04-16T09:46:03.995173Z",
     "iopub.status.busy": "2021-04-16T09:46:03.993985Z",
     "iopub.status.idle": "2021-04-16T09:46:03.998630Z",
     "shell.execute_reply": "2021-04-16T09:46:03.999591Z"
    }
   },
   "outputs": [
    {
     "data": {
      "text/plain": [
       "array([[ 4.8098726 ,  8.422669  , -9.239023  ,  9.379142  ,  8.499881  ,\n",
       "        -1.0592815 ,  3.3437855 , -7.802613  , -0.59463334,  0.264476  ,\n",
       "         5.5073934 , -4.1069803 ,  4.2890773 , -2.8172054 ,  3.6150153 ,\n",
       "        -4.1612997 , -3.6209645 ,  6.2185307 , -6.9460483 , -1.0828305 ,\n",
       "        -5.8267717 ,  2.2258766 , -3.8601213 , -1.6974075 , -5.3134165 ,\n",
       "         7.5795794 ,  2.9187477 ,  8.540425  ,  1.5523206 ,  1.0841805 ],\n",
       "       [-2.8941846 ,  4.4741874 , -4.4475665 ,  2.3820996 ,  1.7478833 ,\n",
       "        -2.5046248 , -5.20833   , -1.6937683 , -8.134757  ,  2.6468303 ,\n",
       "        -4.3163624 ,  5.565538  , -5.7322    , -1.7384952 , -9.344654  ,\n",
       "         0.7084658 ,  4.43584   , -2.9008996 , -4.9486413 ,  9.695303  ,\n",
       "         8.366522  , -6.2474546 , -6.3494725 ,  1.9546973 ,  4.1576157 ,\n",
       "        -9.167906  ,  4.6070685 ,  8.788585  ,  6.8644214 ,  2.2319875 ],\n",
       "       [-4.6657157 , -9.558956  ,  6.6572294 ,  4.440131  ,  2.1730306 ,\n",
       "         2.5904028 ,  0.5800097 ,  6.2550354 , -8.829283  , -0.41399664,\n",
       "         9.831051  ,  7.5897346 ,  9.975543  , -5.8561745 , -1.24143   ,\n",
       "        -2.5572677 , -1.0441563 , -5.246111  , -9.311469  ,  4.636604  ,\n",
       "        -0.11776032, -3.9295292 ,  6.2073674 , -7.399015  ,  5.674092  ,\n",
       "        -8.540298  , -7.518654  , -5.5301237 ,  4.834131  ,  2.5691674 ],\n",
       "       [-6.9581103 , -9.760792  , -6.5506105 , -0.4196504 ,  6.0687675 ,\n",
       "         3.7602882 , -3.9751325 ,  6.149336  , -1.8729934 ,  5.0252724 ,\n",
       "        -6.834099  ,  1.3383292 ,  9.001676  , -0.9864835 ,  9.654019  ,\n",
       "         9.790737  , -8.618677  ,  5.9955792 ,  2.2099133 , -3.6309092 ,\n",
       "         7.071408  , -7.3946233 , -5.2996335 , -6.973705  , -7.908464  ,\n",
       "         6.6810646 , -5.5756392 ,  7.131311  ,  6.5996165 , -8.309568  ],\n",
       "       [ 6.261753  ,  9.228771  ,  8.358131  ,  9.017292  ,  7.704465  ,\n",
       "        -1.0047107 , -6.2457657 ,  1.395172  , -6.9761825 , -5.9480586 ,\n",
       "         1.0575901 , -0.01074278,  2.8210251 ,  1.8389361 , -8.247101  ,\n",
       "         3.049896  , -8.48324   ,  9.72164   , -7.7502728 ,  3.4655948 ,\n",
       "        -3.9312139 , -4.0965166 ,  2.6586983 ,  1.2832459 ,  1.0177816 ,\n",
       "         5.257111  , -1.6444379 ,  6.1383214 , -6.8840556 , -9.663092  ]],\n",
       "      dtype=float32)"
      ]
     },
     "execution_count": 1,
     "metadata": {},
     "output_type": "execute_result"
    }
   ],
   "source": [
    "single_gpu_model.cluster_centers_"
   ]
  }
 ],
 "metadata": {
  "kernelspec": {
   "display_name": "Python 3",
   "language": "python",
   "name": "python3"
  },
  "language_info": {
   "codemirror_mode": {
    "name": "ipython",
    "version": 3
   },
   "file_extension": ".py",
   "mimetype": "text/x-python",
   "name": "python",
   "nbconvert_exporter": "python",
   "pygments_lexer": "ipython3",
   "version": "3.7.10"
  }
 },
 "nbformat": 4,
 "nbformat_minor": 4
}
