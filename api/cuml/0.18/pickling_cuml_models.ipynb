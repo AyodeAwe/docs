{
 "cells": [
  {
   "cell_type": "markdown",
   "metadata": {},
   "source": [
    "# Pickling cuML Models for Persistence\n",
    "\n",
    "This notebook demonstrates simple pickling of both single-GPU and multi-GPU cuML models for persistence"
   ]
  },
  {
   "cell_type": "code",
   "execution_count": 1,
   "metadata": {
    "execution": {
     "iopub.execute_input": "2020-12-29T11:56:57.417646Z",
     "iopub.status.busy": "2020-12-29T11:56:57.416179Z",
     "iopub.status.idle": "2020-12-29T11:56:57.420369Z",
     "shell.execute_reply": "2020-12-29T11:56:57.421572Z"
    }
   },
   "outputs": [],
   "source": [
    "import warnings\n",
    "warnings.filterwarnings(\"ignore\", category=FutureWarning)"
   ]
  },
  {
   "cell_type": "markdown",
   "metadata": {},
   "source": [
    "## Single GPU Model Pickling\n",
    "\n",
    "All single-GPU estimators are pickleable. The following example demonstrates the creation of a synthetic dataset, training, and pickling of the resulting model for storage. Trained single-GPU models can also be used to distribute the inference on a Dask cluster, which the `Distributed Model Pickling` section below demonstrates."
   ]
  },
  {
   "cell_type": "code",
   "execution_count": 2,
   "metadata": {
    "execution": {
     "iopub.execute_input": "2020-12-29T11:56:57.432334Z",
     "iopub.status.busy": "2020-12-29T11:56:57.430848Z",
     "iopub.status.idle": "2020-12-29T11:57:03.568257Z",
     "shell.execute_reply": "2020-12-29T11:57:03.569455Z"
    }
   },
   "outputs": [],
   "source": [
    "from cuml.datasets import make_blobs\n",
    "\n",
    "X, y = make_blobs(n_samples=50,\n",
    "                  n_features=10,\n",
    "                  centers=5,\n",
    "                  cluster_std=0.4,\n",
    "                  random_state=0)"
   ]
  },
  {
   "cell_type": "code",
   "execution_count": 3,
   "metadata": {
    "execution": {
     "iopub.execute_input": "2020-12-29T11:57:03.581461Z",
     "iopub.status.busy": "2020-12-29T11:57:03.580099Z",
     "iopub.status.idle": "2020-12-29T11:57:03.965403Z",
     "shell.execute_reply": "2020-12-29T11:57:03.964132Z"
    }
   },
   "outputs": [
    {
     "data": {
      "text/plain": [
       "KMeans(handle=<cuml.raft.common.handle.Handle object at 0x7fee786cfd90>, n_clusters=5, max_iter=300, tol=0.0001, verbose=4, random_state=1, init='scalable-k-means++', n_init=1, oversampling_factor=2.0, max_samples_per_batch=32768, output_type='input')"
      ]
     },
     "execution_count": 1,
     "metadata": {},
     "output_type": "execute_result"
    }
   ],
   "source": [
    "from cuml.cluster import KMeans\n",
    "\n",
    "model = KMeans(n_clusters=5)\n",
    "\n",
    "model.fit(X)"
   ]
  },
  {
   "cell_type": "code",
   "execution_count": 4,
   "metadata": {
    "execution": {
     "iopub.execute_input": "2020-12-29T11:57:03.974311Z",
     "iopub.status.busy": "2020-12-29T11:57:03.972858Z",
     "iopub.status.idle": "2020-12-29T11:57:03.978830Z",
     "shell.execute_reply": "2020-12-29T11:57:03.977560Z"
    }
   },
   "outputs": [],
   "source": [
    "import pickle\n",
    "\n",
    "pickle.dump(model, open(\"kmeans_model.pkl\", \"wb\"))"
   ]
  },
  {
   "cell_type": "code",
   "execution_count": 5,
   "metadata": {
    "execution": {
     "iopub.execute_input": "2020-12-29T11:57:03.987763Z",
     "iopub.status.busy": "2020-12-29T11:57:03.986392Z",
     "iopub.status.idle": "2020-12-29T11:57:03.992200Z",
     "shell.execute_reply": "2020-12-29T11:57:03.990789Z"
    }
   },
   "outputs": [],
   "source": [
    "model = pickle.load(open(\"kmeans_model.pkl\", \"rb\"))"
   ]
  },
  {
   "cell_type": "code",
   "execution_count": 6,
   "metadata": {
    "execution": {
     "iopub.execute_input": "2020-12-29T11:57:04.001682Z",
     "iopub.status.busy": "2020-12-29T11:57:04.000323Z",
     "iopub.status.idle": "2020-12-29T11:57:04.004856Z",
     "shell.execute_reply": "2020-12-29T11:57:04.006222Z"
    }
   },
   "outputs": [
    {
     "data": {
      "text/plain": [
       "array([[-5.7684636 ,  2.3276033 , -3.7457774 , -1.8541754 , -5.1695833 ,\n",
       "         7.667088  ,  2.7118318 ,  8.495609  ,  1.7038484 ,  1.1884269 ],\n",
       "       [ 4.647688  ,  8.37788   , -9.070581  ,  9.459332  ,  8.450423  ,\n",
       "        -1.0210547 ,  3.392087  , -7.8629856 , -0.7527662 ,  0.48384118],\n",
       "       [-2.9414437 ,  4.6401706 , -4.5027537 ,  2.2855108 ,  1.644645  ,\n",
       "        -2.4937892 , -5.2241607 , -1.5499196 , -8.063638  ,  2.816936  ],\n",
       "       [-4.271077  ,  5.561165  , -5.6640916 , -1.8229512 , -9.2925    ,\n",
       "         0.73028314,  4.4586773 , -2.8876224 , -5.1257744 ,  9.694357  ],\n",
       "       [ 5.5837417 , -4.1515303 ,  4.369667  , -3.0020504 ,  3.638897  ,\n",
       "        -4.3419113 , -3.3187115 ,  6.503671  , -6.865036  , -1.0266497 ]],\n",
       "      dtype=float32)"
      ]
     },
     "execution_count": 1,
     "metadata": {},
     "output_type": "execute_result"
    }
   ],
   "source": [
    "model.cluster_centers_"
   ]
  },
  {
   "cell_type": "markdown",
   "metadata": {},
   "source": [
    "## Distributed Model Pickling"
   ]
  },
  {
   "cell_type": "markdown",
   "metadata": {},
   "source": [
    "The distributed estimator wrappers inside of the `cuml.dask` are not intended to be pickled directly. The Dask cuML estimators provide a function `get_combined_model()`, which returns the trained single-GPU model for pickling. The combined model can be used for inference on a single-GPU, and the `ParallelPostFit` wrapper from the [Dask-ML](https://ml.dask.org/meta-estimators.html) library can be used to perform distributed inference on a Dask cluster."
   ]
  },
  {
   "cell_type": "code",
   "execution_count": 7,
   "metadata": {
    "execution": {
     "iopub.execute_input": "2020-12-29T11:57:04.016059Z",
     "iopub.status.busy": "2020-12-29T11:57:04.014758Z",
     "iopub.status.idle": "2020-12-29T11:57:07.762254Z",
     "shell.execute_reply": "2020-12-29T11:57:07.763306Z"
    }
   },
   "outputs": [
    {
     "data": {
      "text/html": [
       "<table style=\"border: 2px solid white;\">\n",
       "<tr>\n",
       "<td style=\"vertical-align: top; border: 0px solid white\">\n",
       "<h3 style=\"text-align: left;\">Client</h3>\n",
       "<ul style=\"text-align: left; list-style: none; margin: 0; padding: 0;\">\n",
       "  <li><b>Scheduler: </b>tcp://127.0.0.1:43879</li>\n",
       "  <li><b>Dashboard: </b><a href='http://127.0.0.1:8787/status' target='_blank'>http://127.0.0.1:8787/status</a></li>\n",
       "</ul>\n",
       "</td>\n",
       "<td style=\"vertical-align: top; border: 0px solid white\">\n",
       "<h3 style=\"text-align: left;\">Cluster</h3>\n",
       "<ul style=\"text-align: left; list-style:none; margin: 0; padding: 0;\">\n",
       "  <li><b>Workers: </b>1</li>\n",
       "  <li><b>Cores: </b>1</li>\n",
       "  <li><b>Memory: </b>270.37 GB</li>\n",
       "</ul>\n",
       "</td>\n",
       "</tr>\n",
       "</table>"
      ],
      "text/plain": [
       "<Client: 'tcp://127.0.0.1:43879' processes=1 threads=1, memory=270.37 GB>"
      ]
     },
     "execution_count": 1,
     "metadata": {},
     "output_type": "execute_result"
    }
   ],
   "source": [
    "from dask.distributed import Client\n",
    "from dask_cuda import LocalCUDACluster\n",
    "\n",
    "cluster = LocalCUDACluster()\n",
    "client = Client(cluster)\n",
    "client"
   ]
  },
  {
   "cell_type": "code",
   "execution_count": 8,
   "metadata": {
    "execution": {
     "iopub.execute_input": "2020-12-29T11:57:07.784097Z",
     "iopub.status.busy": "2020-12-29T11:57:07.782540Z",
     "iopub.status.idle": "2020-12-29T11:57:08.265064Z",
     "shell.execute_reply": "2020-12-29T11:57:08.263223Z"
    }
   },
   "outputs": [],
   "source": [
    "from cuml.dask.datasets import make_blobs\n",
    "\n",
    "n_workers = len(client.scheduler_info()[\"workers\"].keys())\n",
    "\n",
    "X, y = make_blobs(n_samples=5000, \n",
    "                  n_features=30,\n",
    "                  centers=5, \n",
    "                  cluster_std=0.4, \n",
    "                  random_state=0,\n",
    "                  n_parts=n_workers*5)\n",
    "\n",
    "X = X.persist()\n",
    "y = y.persist()"
   ]
  },
  {
   "cell_type": "code",
   "execution_count": 9,
   "metadata": {
    "execution": {
     "iopub.execute_input": "2020-12-29T11:57:08.273795Z",
     "iopub.status.busy": "2020-12-29T11:57:08.272539Z",
     "iopub.status.idle": "2020-12-29T11:57:08.293929Z",
     "shell.execute_reply": "2020-12-29T11:57:08.295273Z"
    }
   },
   "outputs": [],
   "source": [
    "from cuml.dask.cluster import KMeans\n",
    "\n",
    "dist_model = KMeans(n_clusters=5)"
   ]
  },
  {
   "cell_type": "code",
   "execution_count": 10,
   "metadata": {
    "execution": {
     "iopub.execute_input": "2020-12-29T11:57:08.305426Z",
     "iopub.status.busy": "2020-12-29T11:57:08.304136Z",
     "iopub.status.idle": "2020-12-29T11:57:13.164600Z",
     "shell.execute_reply": "2020-12-29T11:57:13.165829Z"
    }
   },
   "outputs": [
    {
     "data": {
      "text/plain": [
       "<cuml.dask.cluster.kmeans.KMeans at 0x7fee692a0f10>"
      ]
     },
     "execution_count": 1,
     "metadata": {},
     "output_type": "execute_result"
    }
   ],
   "source": [
    "dist_model.fit(X)"
   ]
  },
  {
   "cell_type": "code",
   "execution_count": 11,
   "metadata": {
    "execution": {
     "iopub.execute_input": "2020-12-29T11:57:13.176429Z",
     "iopub.status.busy": "2020-12-29T11:57:13.174910Z",
     "iopub.status.idle": "2020-12-29T11:57:13.196481Z",
     "shell.execute_reply": "2020-12-29T11:57:13.197644Z"
    }
   },
   "outputs": [],
   "source": [
    "import pickle\n",
    "\n",
    "single_gpu_model = dist_model.get_combined_model()\n",
    "pickle.dump(single_gpu_model, open(\"kmeans_model.pkl\", \"wb\"))"
   ]
  },
  {
   "cell_type": "code",
   "execution_count": 12,
   "metadata": {
    "execution": {
     "iopub.execute_input": "2020-12-29T11:57:13.208960Z",
     "iopub.status.busy": "2020-12-29T11:57:13.207400Z",
     "iopub.status.idle": "2020-12-29T11:57:13.212308Z",
     "shell.execute_reply": "2020-12-29T11:57:13.213498Z"
    }
   },
   "outputs": [],
   "source": [
    "single_gpu_model = pickle.load(open(\"kmeans_model.pkl\", \"rb\"))"
   ]
  },
  {
   "cell_type": "code",
   "execution_count": 13,
   "metadata": {
    "execution": {
     "iopub.execute_input": "2020-12-29T11:57:13.228787Z",
     "iopub.status.busy": "2020-12-29T11:57:13.227416Z",
     "iopub.status.idle": "2020-12-29T11:57:13.233856Z",
     "shell.execute_reply": "2020-12-29T11:57:13.234984Z"
    }
   },
   "outputs": [
    {
     "data": {
      "text/plain": [
       "array([[ 4.809875  ,  8.42267   , -9.239023  ,  9.379143  ,  8.499881  ,\n",
       "        -1.0592818 ,  3.3437855 , -7.8026123 , -0.5946332 ,  0.26447597,\n",
       "         5.5073957 , -4.10698   ,  4.2890778 , -2.8172054 ,  3.615015  ,\n",
       "        -4.1613    , -3.6209643 ,  6.218529  , -6.9460473 , -1.0828305 ,\n",
       "        -5.82677   ,  2.225876  , -3.8601215 , -1.6974076 , -5.3134184 ,\n",
       "         7.579578  ,  2.9187474 ,  8.540423  ,  1.5523204 ,  1.0841804 ],\n",
       "       [-2.8941853 ,  4.4741907 , -4.447567  ,  2.3820987 ,  1.7478832 ,\n",
       "        -2.5046248 , -5.2083306 , -1.6937685 , -8.134755  ,  2.6468296 ,\n",
       "        -4.3163624 ,  5.56554   , -5.7321987 , -1.7384952 , -9.344658  ,\n",
       "         0.7084658 ,  4.4358397 , -2.9009    , -4.948638  ,  9.695302  ,\n",
       "         8.366521  , -6.247453  , -6.3494725 ,  1.9546974 ,  4.157616  ,\n",
       "        -9.167902  ,  4.6070676 ,  8.788584  ,  6.864423  ,  2.2319884 ],\n",
       "       [-4.665713  , -9.558958  ,  6.6572294 ,  4.4401307 ,  2.1730304 ,\n",
       "         2.5904036 ,  0.58000994,  6.255035  , -8.829285  , -0.4139966 ,\n",
       "         9.831052  ,  7.5897346 ,  9.975543  , -5.8561754 , -1.2414309 ,\n",
       "        -2.5572667 , -1.0441562 , -5.24611   , -9.311468  ,  4.636607  ,\n",
       "        -0.11776031, -3.929529  ,  6.2073665 , -7.399014  ,  5.674092  ,\n",
       "        -8.5403    , -7.5186524 , -5.5301213 ,  4.8341303 ,  2.569168  ],\n",
       "       [-6.9581094 , -9.760796  , -6.5506096 , -0.4196504 ,  6.068768  ,\n",
       "         3.7602885 , -3.9751325 ,  6.1493387 , -1.8729934 ,  5.0252733 ,\n",
       "        -6.8340993 ,  1.3383294 ,  9.0016775 , -0.98648345,  9.654021  ,\n",
       "         9.790737  , -8.618677  ,  5.995579  ,  2.2099135 , -3.63091   ,\n",
       "         7.0714083 , -7.394623  , -5.2996345 , -6.9737043 , -7.908465  ,\n",
       "         6.6810646 , -5.575639  ,  7.13131   ,  6.5996184 , -8.309575  ],\n",
       "       [ 6.261753  ,  9.228769  ,  8.35813   ,  9.017298  ,  7.704466  ,\n",
       "        -1.0047107 , -6.2457666 ,  1.3951722 , -6.976181  , -5.9480596 ,\n",
       "         1.0575897 , -0.0107428 ,  2.8210258 ,  1.8389363 , -8.247102  ,\n",
       "         3.0498962 , -8.483243  ,  9.721642  , -7.7502723 ,  3.4655957 ,\n",
       "        -3.9312134 , -4.0965166 ,  2.658699  ,  1.283246  ,  1.0177817 ,\n",
       "         5.2571115 , -1.6444381 ,  6.1383214 , -6.884054  , -9.663093  ]],\n",
       "      dtype=float32)"
      ]
     },
     "execution_count": 1,
     "metadata": {},
     "output_type": "execute_result"
    }
   ],
   "source": [
    "single_gpu_model.cluster_centers_"
   ]
  }
 ],
 "metadata": {
  "kernelspec": {
   "display_name": "Python 3",
   "language": "python",
   "name": "python3"
  },
  "language_info": {
   "codemirror_mode": {
    "name": "ipython",
    "version": 3
   },
   "file_extension": ".py",
   "mimetype": "text/x-python",
   "name": "python",
   "nbconvert_exporter": "python",
   "pygments_lexer": "ipython3",
   "version": "3.7.8"
  }
 },
 "nbformat": 4,
 "nbformat_minor": 4
}
