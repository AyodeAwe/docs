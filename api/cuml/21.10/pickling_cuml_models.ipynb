{
 "cells": [
  {
   "cell_type": "markdown",
   "metadata": {},
   "source": [
    "# Pickling cuML Models for Persistence\n",
    "\n",
    "This notebook demonstrates simple pickling of both single-GPU and multi-GPU cuML models for persistence"
   ]
  },
  {
   "cell_type": "code",
   "execution_count": 1,
   "metadata": {
    "execution": {
     "iopub.execute_input": "2021-10-06T10:29:27.296075Z",
     "iopub.status.busy": "2021-10-06T10:29:27.295074Z",
     "iopub.status.idle": "2021-10-06T10:29:27.299691Z",
     "shell.execute_reply": "2021-10-06T10:29:27.298504Z"
    }
   },
   "outputs": [],
   "source": [
    "import warnings\n",
    "warnings.filterwarnings(\"ignore\", category=FutureWarning)"
   ]
  },
  {
   "cell_type": "markdown",
   "metadata": {},
   "source": [
    "## Single GPU Model Pickling\n",
    "\n",
    "All single-GPU estimators are pickleable. The following example demonstrates the creation of a synthetic dataset, training, and pickling of the resulting model for storage. Trained single-GPU models can also be used to distribute the inference on a Dask cluster, which the `Distributed Model Pickling` section below demonstrates."
   ]
  },
  {
   "cell_type": "code",
   "execution_count": 2,
   "metadata": {
    "execution": {
     "iopub.execute_input": "2021-10-06T10:29:27.306691Z",
     "iopub.status.busy": "2021-10-06T10:29:27.305494Z",
     "iopub.status.idle": "2021-10-06T10:29:31.703065Z",
     "shell.execute_reply": "2021-10-06T10:29:31.704136Z"
    }
   },
   "outputs": [],
   "source": [
    "from cuml.datasets import make_blobs\n",
    "\n",
    "X, y = make_blobs(n_samples=50,\n",
    "                  n_features=10,\n",
    "                  centers=5,\n",
    "                  cluster_std=0.4,\n",
    "                  random_state=0)"
   ]
  },
  {
   "cell_type": "code",
   "execution_count": 3,
   "metadata": {
    "execution": {
     "iopub.execute_input": "2021-10-06T10:29:31.711549Z",
     "iopub.status.busy": "2021-10-06T10:29:31.710103Z",
     "iopub.status.idle": "2021-10-06T10:29:31.983867Z",
     "shell.execute_reply": "2021-10-06T10:29:31.985130Z"
    }
   },
   "outputs": [
    {
     "data": {
      "text/plain": [
       "KMeans()"
      ]
     },
     "execution_count": 3,
     "metadata": {},
     "output_type": "execute_result"
    }
   ],
   "source": [
    "from cuml.cluster import KMeans\n",
    "\n",
    "model = KMeans(n_clusters=5)\n",
    "\n",
    "model.fit(X)"
   ]
  },
  {
   "cell_type": "code",
   "execution_count": 4,
   "metadata": {
    "execution": {
     "iopub.execute_input": "2021-10-06T10:29:31.991798Z",
     "iopub.status.busy": "2021-10-06T10:29:31.990362Z",
     "iopub.status.idle": "2021-10-06T10:29:31.993035Z",
     "shell.execute_reply": "2021-10-06T10:29:31.993753Z"
    }
   },
   "outputs": [],
   "source": [
    "import pickle\n",
    "\n",
    "pickle.dump(model, open(\"kmeans_model.pkl\", \"wb\"))"
   ]
  },
  {
   "cell_type": "code",
   "execution_count": 5,
   "metadata": {
    "execution": {
     "iopub.execute_input": "2021-10-06T10:29:31.998764Z",
     "iopub.status.busy": "2021-10-06T10:29:31.997905Z",
     "iopub.status.idle": "2021-10-06T10:29:32.000690Z",
     "shell.execute_reply": "2021-10-06T10:29:32.001387Z"
    }
   },
   "outputs": [],
   "source": [
    "model = pickle.load(open(\"kmeans_model.pkl\", \"rb\"))"
   ]
  },
  {
   "cell_type": "code",
   "execution_count": 6,
   "metadata": {
    "execution": {
     "iopub.execute_input": "2021-10-06T10:29:32.007567Z",
     "iopub.status.busy": "2021-10-06T10:29:32.006691Z",
     "iopub.status.idle": "2021-10-06T10:29:32.009722Z",
     "shell.execute_reply": "2021-10-06T10:29:32.010439Z"
    }
   },
   "outputs": [
    {
     "data": {
      "text/plain": [
       "array([[ 5.2615476 , -4.0487256 ,  4.464928  , -2.9367518 ,  3.5061095 ,\n",
       "        -4.016832  , -3.463885  ,  6.078449  , -6.953326  , -1.004144  ],\n",
       "       [-4.243999  ,  5.6107073 , -5.669777  , -1.7957243 , -9.255529  ,\n",
       "         0.71774375,  4.4435906 , -2.8747156 , -5.090096  ,  9.684121  ],\n",
       "       [ 4.6749854 ,  8.213465  , -9.07572   ,  9.568374  ,  8.454807  ,\n",
       "        -1.2327975 ,  3.3903713 , -7.828242  , -0.8454461 ,  0.6288572 ],\n",
       "       [-3.008261  ,  4.6259604 , -4.483249  ,  2.228457  ,  1.643532  ,\n",
       "        -2.4505196 , -5.258201  , -1.6679403 , -7.9857535 ,  2.8311467 ],\n",
       "       [-5.6072407 ,  2.2695985 , -3.7516537 , -1.8182005 , -5.1430273 ,\n",
       "         7.599363  ,  2.8252366 ,  8.773042  ,  1.6198314 ,  1.1772048 ]],\n",
       "      dtype=float32)"
      ]
     },
     "execution_count": 6,
     "metadata": {},
     "output_type": "execute_result"
    }
   ],
   "source": [
    "model.cluster_centers_"
   ]
  },
  {
   "cell_type": "markdown",
   "metadata": {},
   "source": [
    "## Distributed Model Pickling"
   ]
  },
  {
   "cell_type": "markdown",
   "metadata": {},
   "source": [
    "The distributed estimator wrappers inside of the `cuml.dask` are not intended to be pickled directly. The Dask cuML estimators provide a function `get_combined_model()`, which returns the trained single-GPU model for pickling. The combined model can be used for inference on a single-GPU, and the `ParallelPostFit` wrapper from the [Dask-ML](https://ml.dask.org/meta-estimators.html) library can be used to perform distributed inference on a Dask cluster."
   ]
  },
  {
   "cell_type": "code",
   "execution_count": 7,
   "metadata": {
    "execution": {
     "iopub.execute_input": "2021-10-06T10:29:32.015775Z",
     "iopub.status.busy": "2021-10-06T10:29:32.014913Z",
     "iopub.status.idle": "2021-10-06T10:29:35.929341Z",
     "shell.execute_reply": "2021-10-06T10:29:35.930560Z"
    }
   },
   "outputs": [
    {
     "data": {
      "text/html": [
       "<div>\n",
       "    <div style=\"width: 24px; height: 24px; background-color: #e1e1e1; border: 3px solid #9D9D9D; border-radius: 5px; position: absolute;\"> </div>\n",
       "    <div style=\"margin-left: 48px;\">\n",
       "        <h3 style=\"margin-bottom: 0px;\">Client</h3>\n",
       "        <p style=\"color: #9D9D9D; margin-bottom: 0px;\">Client-4d76a8ba-2690-11ec-9b46-0242ac110002</p>\n",
       "        <table style=\"width: 100%; text-align: left;\">\n",
       "\n",
       "        <tr>\n",
       "        \n",
       "            <td style=\"text-align: left;\"><strong>Connection method:</strong> Cluster object</td>\n",
       "            <td style=\"text-align: left;\"><strong>Cluster type:</strong> dask_cuda.LocalCUDACluster</td>\n",
       "        \n",
       "        </tr>\n",
       "\n",
       "        \n",
       "            <tr>\n",
       "                <td style=\"text-align: left;\">\n",
       "                    <strong>Dashboard: </strong> <a href=\"http://127.0.0.1:8787/status\" target=\"_blank\">http://127.0.0.1:8787/status</a>\n",
       "                </td>\n",
       "                <td style=\"text-align: left;\"></td>\n",
       "            </tr>\n",
       "        \n",
       "\n",
       "        </table>\n",
       "\n",
       "        \n",
       "            <details>\n",
       "            <summary style=\"margin-bottom: 20px;\"><h3 style=\"display: inline;\">Cluster Info</h3></summary>\n",
       "            <div class=\"jp-RenderedHTMLCommon jp-RenderedHTML jp-mod-trusted jp-OutputArea-output\">\n",
       "    <div style=\"width: 24px; height: 24px; background-color: #e1e1e1; border: 3px solid #9D9D9D; border-radius: 5px; position: absolute;\">\n",
       "    </div>\n",
       "    <div style=\"margin-left: 48px;\">\n",
       "        <h3 style=\"margin-bottom: 0px; margin-top: 0px;\">LocalCUDACluster</h3>\n",
       "        <p style=\"color: #9D9D9D; margin-bottom: 0px;\">598a0ab1</p>\n",
       "        <table style=\"width: 100%; text-align: left;\">\n",
       "            <tr>\n",
       "                <td style=\"text-align: left;\">\n",
       "                    <strong>Dashboard:</strong> <a href=\"http://127.0.0.1:8787/status\" target=\"_blank\">http://127.0.0.1:8787/status</a>\n",
       "                </td>\n",
       "                <td style=\"text-align: left;\">\n",
       "                    <strong>Workers:</strong> 1\n",
       "                </td>\n",
       "            </tr>\n",
       "            <tr>\n",
       "                <td style=\"text-align: left;\">\n",
       "                    <strong>Total threads:</strong> 1\n",
       "                </td>\n",
       "                <td style=\"text-align: left;\">\n",
       "                    <strong>Total memory:</strong> 251.79 GiB\n",
       "                </td>\n",
       "            </tr>\n",
       "            \n",
       "            <tr>\n",
       "    <td style=\"text-align: left;\"><strong>Status:</strong> running</td>\n",
       "    <td style=\"text-align: left;\"><strong>Using processes:</strong> True</td>\n",
       "</tr>\n",
       "\n",
       "            \n",
       "        </table>\n",
       "\n",
       "        <details>\n",
       "            <summary style=\"margin-bottom: 20px;\">\n",
       "                <h3 style=\"display: inline;\">Scheduler Info</h3>\n",
       "            </summary>\n",
       "\n",
       "            <div style=\"\">\n",
       "    <div>\n",
       "        <div style=\"width: 24px; height: 24px; background-color: #FFF7E5; border: 3px solid #FF6132; border-radius: 5px; position: absolute;\"> </div>\n",
       "        <div style=\"margin-left: 48px;\">\n",
       "            <h3 style=\"margin-bottom: 0px;\">Scheduler</h3>\n",
       "            <p style=\"color: #9D9D9D; margin-bottom: 0px;\">Scheduler-de2b65e1-6ff6-4456-8960-082fe452d87d</p>\n",
       "            <table style=\"width: 100%; text-align: left;\">\n",
       "                <tr>\n",
       "                    <td style=\"text-align: left;\">\n",
       "                        <strong>Comm:</strong> tcp://127.0.0.1:32937\n",
       "                    </td>\n",
       "                    <td style=\"text-align: left;\">\n",
       "                        <strong>Workers:</strong> 1\n",
       "                    </td>\n",
       "                </tr>\n",
       "                <tr>\n",
       "                    <td style=\"text-align: left;\">\n",
       "                        <strong>Dashboard:</strong> <a href=\"http://127.0.0.1:8787/status\" target=\"_blank\">http://127.0.0.1:8787/status</a>\n",
       "                    </td>\n",
       "                    <td style=\"text-align: left;\">\n",
       "                        <strong>Total threads:</strong> 1\n",
       "                    </td>\n",
       "                </tr>\n",
       "                <tr>\n",
       "                    <td style=\"text-align: left;\">\n",
       "                        <strong>Started:</strong> Just now\n",
       "                    </td>\n",
       "                    <td style=\"text-align: left;\">\n",
       "                        <strong>Total memory:</strong> 251.79 GiB\n",
       "                    </td>\n",
       "                </tr>\n",
       "            </table>\n",
       "        </div>\n",
       "    </div>\n",
       "\n",
       "    <details style=\"margin-left: 48px;\">\n",
       "        <summary style=\"margin-bottom: 20px;\">\n",
       "            <h3 style=\"display: inline;\">Workers</h3>\n",
       "        </summary>\n",
       "\n",
       "        \n",
       "        <div style=\"margin-bottom: 20px;\">\n",
       "            <div style=\"width: 24px; height: 24px; background-color: #DBF5FF; border: 3px solid #4CC9FF; border-radius: 5px; position: absolute;\"> </div>\n",
       "            <div style=\"margin-left: 48px;\">\n",
       "            <details>\n",
       "                <summary>\n",
       "                    <h4 style=\"margin-bottom: 0px; display: inline;\">Worker: 0</h4>\n",
       "                </summary>\n",
       "                <table style=\"width: 100%; text-align: left;\">\n",
       "                    <tr>\n",
       "                        <td style=\"text-align: left;\">\n",
       "                            <strong>Comm: </strong> tcp://172.17.0.2:43677\n",
       "                        </td>\n",
       "                        <td style=\"text-align: left;\">\n",
       "                            <strong>Total threads: </strong> 1\n",
       "                        </td>\n",
       "                    </tr>\n",
       "                    <tr>\n",
       "                        <td style=\"text-align: left;\">\n",
       "                            <strong>Dashboard: </strong> <a href=\"http://172.17.0.2:41857/status\" target=\"_blank\">http://172.17.0.2:41857/status</a>\n",
       "                        </td>\n",
       "                        <td style=\"text-align: left;\">\n",
       "                            <strong>Memory: </strong> 251.79 GiB\n",
       "                        </td>\n",
       "                    </tr>\n",
       "                    <tr>\n",
       "                        <td style=\"text-align: left;\">\n",
       "                            <strong>Nanny: </strong> tcp://127.0.0.1:37151\n",
       "                        </td>\n",
       "                        <td style=\"text-align: left;\"></td>\n",
       "                    </tr>\n",
       "                    <tr>\n",
       "                        <td colspan=\"2\" style=\"text-align: left;\">\n",
       "                            <strong>Local directory: </strong> /rapids/cuml/docs/source/dask-worker-space/worker-0hlg5umu\n",
       "                        </td>\n",
       "                    </tr>\n",
       "\n",
       "                    \n",
       "                    <tr>\n",
       "                        <td style=\"text-align: left;\">\n",
       "                            <strong>GPU: </strong>Tesla P100-PCIE-16GB\n",
       "                        </td>\n",
       "                        <td style=\"text-align: left;\">\n",
       "                            <strong>GPU memory: </strong> 15.90 GiB\n",
       "                        </td>\n",
       "                    </tr>\n",
       "                    \n",
       "\n",
       "                    \n",
       "\n",
       "                </table>\n",
       "            </details>\n",
       "            </div>\n",
       "        </div>\n",
       "        \n",
       "\n",
       "    </details>\n",
       "</div>\n",
       "\n",
       "        </details>\n",
       "    </div>\n",
       "</div>\n",
       "            </details>\n",
       "        \n",
       "\n",
       "    </div>\n",
       "</div>"
      ],
      "text/plain": [
       "<Client: 'tcp://127.0.0.1:32937' processes=1 threads=1, memory=251.79 GiB>"
      ]
     },
     "execution_count": 7,
     "metadata": {},
     "output_type": "execute_result"
    }
   ],
   "source": [
    "from dask.distributed import Client\n",
    "from dask_cuda import LocalCUDACluster\n",
    "\n",
    "cluster = LocalCUDACluster()\n",
    "client = Client(cluster)\n",
    "client"
   ]
  },
  {
   "cell_type": "code",
   "execution_count": 8,
   "metadata": {
    "execution": {
     "iopub.execute_input": "2021-10-06T10:29:35.940625Z",
     "iopub.status.busy": "2021-10-06T10:29:35.939708Z",
     "iopub.status.idle": "2021-10-06T10:29:36.563045Z",
     "shell.execute_reply": "2021-10-06T10:29:36.564121Z"
    }
   },
   "outputs": [],
   "source": [
    "from cuml.dask.datasets import make_blobs\n",
    "\n",
    "n_workers = len(client.scheduler_info()[\"workers\"].keys())\n",
    "\n",
    "X, y = make_blobs(n_samples=5000, \n",
    "                  n_features=30,\n",
    "                  centers=5, \n",
    "                  cluster_std=0.4, \n",
    "                  random_state=0,\n",
    "                  n_parts=n_workers*5)\n",
    "\n",
    "X = X.persist()\n",
    "y = y.persist()"
   ]
  },
  {
   "cell_type": "code",
   "execution_count": 9,
   "metadata": {
    "execution": {
     "iopub.execute_input": "2021-10-06T10:29:36.572680Z",
     "iopub.status.busy": "2021-10-06T10:29:36.571314Z",
     "iopub.status.idle": "2021-10-06T10:29:36.584304Z",
     "shell.execute_reply": "2021-10-06T10:29:36.585250Z"
    }
   },
   "outputs": [],
   "source": [
    "from cuml.dask.cluster import KMeans\n",
    "\n",
    "dist_model = KMeans(n_clusters=5)"
   ]
  },
  {
   "cell_type": "code",
   "execution_count": 10,
   "metadata": {
    "execution": {
     "iopub.execute_input": "2021-10-06T10:29:36.593205Z",
     "iopub.status.busy": "2021-10-06T10:29:36.592027Z",
     "iopub.status.idle": "2021-10-06T10:29:40.120317Z",
     "shell.execute_reply": "2021-10-06T10:29:40.121472Z"
    }
   },
   "outputs": [
    {
     "data": {
      "text/plain": [
       "<cuml.dask.cluster.kmeans.KMeans at 0x7f9ff0968e10>"
      ]
     },
     "execution_count": 10,
     "metadata": {},
     "output_type": "execute_result"
    }
   ],
   "source": [
    "dist_model.fit(X)"
   ]
  },
  {
   "cell_type": "code",
   "execution_count": 11,
   "metadata": {
    "execution": {
     "iopub.execute_input": "2021-10-06T10:29:40.131604Z",
     "iopub.status.busy": "2021-10-06T10:29:40.130244Z",
     "iopub.status.idle": "2021-10-06T10:29:40.152427Z",
     "shell.execute_reply": "2021-10-06T10:29:40.151420Z"
    }
   },
   "outputs": [],
   "source": [
    "import pickle\n",
    "\n",
    "single_gpu_model = dist_model.get_combined_model()\n",
    "pickle.dump(single_gpu_model, open(\"kmeans_model.pkl\", \"wb\"))"
   ]
  },
  {
   "cell_type": "code",
   "execution_count": 12,
   "metadata": {
    "execution": {
     "iopub.execute_input": "2021-10-06T10:29:40.161052Z",
     "iopub.status.busy": "2021-10-06T10:29:40.159684Z",
     "iopub.status.idle": "2021-10-06T10:29:40.164496Z",
     "shell.execute_reply": "2021-10-06T10:29:40.165449Z"
    }
   },
   "outputs": [],
   "source": [
    "single_gpu_model = pickle.load(open(\"kmeans_model.pkl\", \"rb\"))"
   ]
  },
  {
   "cell_type": "code",
   "execution_count": 13,
   "metadata": {
    "execution": {
     "iopub.execute_input": "2021-10-06T10:29:40.177881Z",
     "iopub.status.busy": "2021-10-06T10:29:40.176459Z",
     "iopub.status.idle": "2021-10-06T10:29:40.181515Z",
     "shell.execute_reply": "2021-10-06T10:29:40.182684Z"
    }
   },
   "outputs": [
    {
     "data": {
      "text/plain": [
       "array([[-2.8796394e+00,  4.4348764e+00, -4.4264812e+00,  2.3959138e+00,\n",
       "         1.7286433e+00, -2.4991989e+00, -5.1794505e+00, -1.6771443e+00,\n",
       "        -8.1329184e+00,  2.6659231e+00, -4.3131094e+00,  5.5827804e+00,\n",
       "        -5.7318325e+00, -1.7427169e+00, -9.3456125e+00,  7.1365541e-01,\n",
       "         4.4255495e+00, -2.9118383e+00, -4.9467435e+00,  9.6786404e+00,\n",
       "         8.4222708e+00, -6.2710238e+00, -6.3596516e+00,  1.9645509e+00,\n",
       "         4.1715994e+00, -9.1683683e+00,  4.6156683e+00,  8.7916489e+00,\n",
       "         6.8754439e+00,  2.2288756e+00],\n",
       "       [-6.9536953e+00, -9.7635889e+00, -6.5648260e+00, -4.3536144e-01,\n",
       "         6.0998111e+00,  3.7550368e+00, -3.9558530e+00,  6.1595502e+00,\n",
       "        -1.8599317e+00,  5.0400324e+00, -6.8397536e+00,  1.3435435e+00,\n",
       "         8.9749002e+00, -9.9621791e-01,  9.6651955e+00,  9.8009653e+00,\n",
       "        -8.6188364e+00,  5.9978385e+00,  2.2295928e+00, -3.6477716e+00,\n",
       "         7.0758524e+00, -7.3772259e+00, -5.3214216e+00, -6.9927955e+00,\n",
       "        -7.9296317e+00,  6.6705360e+00, -5.5850167e+00,  7.1526051e+00,\n",
       "         6.5703206e+00, -8.3389378e+00],\n",
       "       [ 4.8136668e+00,  8.3985243e+00, -9.2161245e+00,  9.4185486e+00,\n",
       "         8.5280876e+00, -1.0969982e+00,  3.3253171e+00, -7.8064361e+00,\n",
       "        -5.9660649e-01,  2.5423878e-01,  5.5004082e+00, -4.1162982e+00,\n",
       "         4.2832375e+00, -2.8173411e+00,  3.6207721e+00, -4.1576204e+00,\n",
       "        -3.6048701e+00,  6.2125411e+00, -6.9081006e+00, -1.0732133e+00,\n",
       "        -5.8362112e+00,  2.2357662e+00, -3.8588784e+00, -1.6835878e+00,\n",
       "        -5.3240361e+00,  7.5769200e+00,  2.9358523e+00,  8.5267382e+00,\n",
       "         1.5667242e+00,  1.0779673e+00],\n",
       "       [-4.6475401e+00, -9.5672178e+00,  6.6923523e+00,  4.4359226e+00,\n",
       "         2.1902726e+00,  2.5834756e+00,  5.9448904e-01,  6.2568669e+00,\n",
       "        -8.7821646e+00, -4.1232014e-01,  9.8151760e+00,  7.5641584e+00,\n",
       "         1.0003009e+01, -5.8680425e+00, -1.2743108e+00, -2.5393445e+00,\n",
       "        -1.0847502e+00, -5.2629204e+00, -9.3071041e+00,  4.6179376e+00,\n",
       "        -9.7068951e-02, -3.9351215e+00,  6.1767278e+00, -7.4346886e+00,\n",
       "         5.6496077e+00, -8.5544844e+00, -7.5265584e+00, -5.5195608e+00,\n",
       "         4.8197656e+00,  2.5235441e+00],\n",
       "       [ 6.2794290e+00,  9.2293968e+00,  8.3403692e+00,  9.0330515e+00,\n",
       "         7.6893492e+00, -9.9538213e-01, -6.2780743e+00,  1.3599329e+00,\n",
       "        -6.9744458e+00, -5.9463472e+00,  1.0695119e+00, -8.0422442e-03,\n",
       "         2.8183131e+00,  1.8317664e+00, -8.2557335e+00,  3.0514305e+00,\n",
       "        -8.4957981e+00,  9.7238503e+00, -7.7455053e+00,  3.4521694e+00,\n",
       "        -3.9248333e+00, -4.1106424e+00,  2.6693087e+00,  1.2985634e+00,\n",
       "         1.0421574e+00,  5.2490635e+00, -1.6496234e+00,  6.1451693e+00,\n",
       "        -6.9103322e+00, -9.6390305e+00]], dtype=float32)"
      ]
     },
     "execution_count": 13,
     "metadata": {},
     "output_type": "execute_result"
    }
   ],
   "source": [
    "single_gpu_model.cluster_centers_"
   ]
  },
  {
   "cell_type": "markdown",
   "metadata": {},
   "source": [
    "## Exporting cuML Random Forest models for inferencing on machines without GPUs"
   ]
  },
  {
   "cell_type": "markdown",
   "metadata": {},
   "source": [
    "Starting with cuML version 21.06, you can export cuML Random Forest models and run predictions with them on machines without an NVIDIA GPUs. The [Treelite](https://github.com/dmlc/treelite) package defines an efficient exchange format that lets you portably move the cuML Random Forest models to other machines. We will refer to the exchange format as \"checkpoints.\"\n",
    "\n",
    "Here are the steps to export the model:\n",
    "\n",
    "1. Call `to_treelite_checkpoint()` to obtain the checkpoint file from the cuML Random Forest model."
   ]
  },
  {
   "cell_type": "code",
   "execution_count": 14,
   "metadata": {
    "execution": {
     "iopub.execute_input": "2021-10-06T10:29:40.193498Z",
     "iopub.status.busy": "2021-10-06T10:29:40.192530Z",
     "iopub.status.idle": "2021-10-06T10:29:40.346255Z",
     "shell.execute_reply": "2021-10-06T10:29:40.347429Z"
    }
   },
   "outputs": [
    {
     "name": "stderr",
     "output_type": "stream",
     "text": [
      "/opt/conda/envs/rapids/lib/python3.7/site-packages/cuml/internals/api_decorators.py:794: UserWarning: For reproducible results in Random Forest Classifier or for almost reproducible results in Random Forest Regressor, n_streams==1 is recommended. If n_streams is > 1, results may vary due to stream/thread timing differences, even when random_state is set\n",
      "  return func(**kwargs)\n"
     ]
    }
   ],
   "source": [
    "from cuml.ensemble import RandomForestClassifier as cumlRandomForestClassifier\n",
    "from sklearn.datasets import load_iris\n",
    "import numpy as np\n",
    "\n",
    "X, y = load_iris(return_X_y=True)\n",
    "X, y = X.astype(np.float32), y.astype(np.int32)\n",
    "clf = cumlRandomForestClassifier(max_depth=3, random_state=0, n_estimators=10)\n",
    "clf.fit(X, y)\n",
    "\n",
    "checkpoint_path = './checkpoint.tl'\n",
    "# Export cuML RF model as Treelite checkpoint\n",
    "clf.convert_to_treelite_model().to_treelite_checkpoint(checkpoint_path)"
   ]
  },
  {
   "cell_type": "markdown",
   "metadata": {},
   "source": [
    "2. Copy the generated checkpoint file `checkpoint.tl` to another machine on which you'd like to run predictions.\n",
    "\n",
    "3. On the target machine, install Treelite by running `pip install treelite` or `conda install -c conda-forge treelite`. The machine does not need to have an NVIDIA GPUs and does not need to have cuML installed.\n",
    "\n",
    "4. You can now load the model from the checkpoint, by running the following on the target machine:"
   ]
  },
  {
   "cell_type": "code",
   "execution_count": 15,
   "metadata": {
    "execution": {
     "iopub.execute_input": "2021-10-06T10:29:40.381346Z",
     "iopub.status.busy": "2021-10-06T10:29:40.351116Z",
     "iopub.status.idle": "2021-10-06T10:29:40.409433Z",
     "shell.execute_reply": "2021-10-06T10:29:40.408002Z"
    }
   },
   "outputs": [
    {
     "name": "stdout",
     "output_type": "stream",
     "text": [
      "[[1.         0.         0.        ]\n",
      " [1.         0.         0.        ]\n",
      " [1.         0.         0.        ]\n",
      " [1.         0.         0.        ]\n",
      " [1.         0.         0.        ]\n",
      " [1.         0.         0.        ]\n",
      " [1.         0.         0.        ]\n",
      " [1.         0.         0.        ]\n",
      " [1.         0.         0.        ]\n",
      " [1.         0.         0.        ]\n",
      " [1.         0.         0.        ]\n",
      " [1.         0.         0.        ]\n",
      " [1.         0.         0.        ]\n",
      " [1.         0.         0.        ]\n",
      " [1.         0.         0.        ]\n",
      " [1.         0.         0.        ]\n",
      " [1.         0.         0.        ]\n",
      " [1.         0.         0.        ]\n",
      " [0.9        0.09166667 0.00833333]\n",
      " [1.         0.         0.        ]\n",
      " [1.         0.         0.        ]\n",
      " [1.         0.         0.        ]\n",
      " [1.         0.         0.        ]\n",
      " [1.         0.         0.        ]\n",
      " [1.         0.         0.        ]\n",
      " [1.         0.         0.        ]\n",
      " [1.         0.         0.        ]\n",
      " [1.         0.         0.        ]\n",
      " [1.         0.         0.        ]\n",
      " [1.         0.         0.        ]\n",
      " [1.         0.         0.        ]\n",
      " [1.         0.         0.        ]\n",
      " [1.         0.         0.        ]\n",
      " [1.         0.         0.        ]\n",
      " [1.         0.         0.        ]\n",
      " [1.         0.         0.        ]\n",
      " [1.         0.         0.        ]\n",
      " [1.         0.         0.        ]\n",
      " [1.         0.         0.        ]\n",
      " [1.         0.         0.        ]\n",
      " [1.         0.         0.        ]\n",
      " [0.9        0.         0.1       ]\n",
      " [1.         0.         0.        ]\n",
      " [1.         0.         0.        ]\n",
      " [1.         0.         0.        ]\n",
      " [1.         0.         0.        ]\n",
      " [1.         0.         0.        ]\n",
      " [1.         0.         0.        ]\n",
      " [1.         0.         0.        ]\n",
      " [1.         0.         0.        ]\n",
      " [0.         0.97452766 0.02547234]\n",
      " [0.         0.97452766 0.02547234]\n",
      " [0.         0.7460598  0.25394017]\n",
      " [0.         0.9871346  0.0128655 ]\n",
      " [0.         0.97452766 0.02547234]\n",
      " [0.         0.97880113 0.02119883]\n",
      " [0.         0.9274122  0.07258771]\n",
      " [0.         0.6388889  0.3611111 ]\n",
      " [0.         0.97452766 0.02547234]\n",
      " [0.         0.9871346  0.0128655 ]\n",
      " [0.         0.85380113 0.14619884]\n",
      " [0.         0.97880113 0.02119883]\n",
      " [0.         0.9300833  0.06991678]\n",
      " [0.         0.9634166  0.03658345]\n",
      " [0.         0.97880113 0.02119883]\n",
      " [0.         0.97452766 0.02547234]\n",
      " [0.         0.97880113 0.02119883]\n",
      " [0.         0.97880113 0.02119883]\n",
      " [0.         0.9300833  0.06991678]\n",
      " [0.         0.97880113 0.02119883]\n",
      " [0.         0.4074123  0.5925877 ]\n",
      " [0.         0.9634166  0.03658345]\n",
      " [0.         0.7460598  0.25394017]\n",
      " [0.         0.9634166  0.03658345]\n",
      " [0.         0.97452766 0.02547234]\n",
      " [0.         0.97452766 0.02547234]\n",
      " [0.         0.81230545 0.18769456]\n",
      " [0.         0.31124604 0.68875396]\n",
      " [0.         0.9634166  0.03658345]\n",
      " [0.         0.97880113 0.02119883]\n",
      " [0.         0.9871346  0.0128655 ]\n",
      " [0.         0.9871346  0.0128655 ]\n",
      " [0.         0.97880113 0.02119883]\n",
      " [0.         0.23505557 0.76494443]\n",
      " [0.         0.9871346  0.0128655 ]\n",
      " [0.         0.91630113 0.08369882]\n",
      " [0.         0.97452766 0.02547234]\n",
      " [0.         0.97452766 0.02547234]\n",
      " [0.         0.97880113 0.02119883]\n",
      " [0.         0.9871346  0.0128655 ]\n",
      " [0.         0.9871346  0.0128655 ]\n",
      " [0.         0.9634166  0.03658345]\n",
      " [0.         0.97880113 0.02119883]\n",
      " [0.         0.88713455 0.11286551]\n",
      " [0.         0.97880113 0.02119883]\n",
      " [0.         0.97880113 0.02119883]\n",
      " [0.         0.97880113 0.02119883]\n",
      " [0.         0.9634166  0.03658345]\n",
      " [0.         0.9871346  0.0128655 ]\n",
      " [0.         0.97880113 0.02119883]\n",
      " [0.         0.01333333 0.9866667 ]\n",
      " [0.         0.08088888 0.91911113]\n",
      " [0.         0.02444444 0.9755556 ]\n",
      " [0.         0.08638889 0.9136111 ]\n",
      " [0.         0.03777778 0.9622222 ]\n",
      " [0.         0.02444444 0.9755556 ]\n",
      " [0.         0.34305555 0.6569444 ]\n",
      " [0.         0.07305555 0.92694443]\n",
      " [0.         0.08638889 0.9136111 ]\n",
      " [0.         0.         1.        ]\n",
      " [0.         0.05644444 0.94355565]\n",
      " [0.         0.03777778 0.9622222 ]\n",
      " [0.         0.03777778 0.9622222 ]\n",
      " [0.         0.17374603 0.826254  ]\n",
      " [0.         0.08088888 0.91911113]\n",
      " [0.         0.01333333 0.9866667 ]\n",
      " [0.         0.08638889 0.9136111 ]\n",
      " [0.         0.         1.        ]\n",
      " [0.         0.02444444 0.9755556 ]\n",
      " [0.         0.32502812 0.67497194]\n",
      " [0.         0.01333333 0.9866667 ]\n",
      " [0.         0.28366667 0.7163333 ]\n",
      " [0.         0.02444444 0.9755556 ]\n",
      " [0.         0.34338892 0.6566111 ]\n",
      " [0.         0.01333333 0.9866667 ]\n",
      " [0.         0.04861111 0.95138896]\n",
      " [0.         0.43185672 0.5681433 ]\n",
      " [0.         0.3322778  0.6677222 ]\n",
      " [0.         0.03777778 0.9622222 ]\n",
      " [0.         0.17861111 0.8213889 ]\n",
      " [0.         0.02444444 0.9755556 ]\n",
      " [0.         0.         1.        ]\n",
      " [0.         0.03777778 0.9622222 ]\n",
      " [0.         0.28217095 0.7178291 ]\n",
      " [0.         0.23905985 0.7609402 ]\n",
      " [0.         0.02444444 0.9755556 ]\n",
      " [0.         0.01333333 0.9866667 ]\n",
      " [0.         0.08638889 0.9136111 ]\n",
      " [0.         0.43185672 0.5681433 ]\n",
      " [0.         0.03777778 0.9622222 ]\n",
      " [0.         0.03777778 0.9622222 ]\n",
      " [0.         0.08088888 0.91911113]\n",
      " [0.         0.08088888 0.91911113]\n",
      " [0.         0.01333333 0.9866667 ]\n",
      " [0.         0.01333333 0.9866667 ]\n",
      " [0.         0.08088888 0.91911113]\n",
      " [0.         0.17374603 0.826254  ]\n",
      " [0.         0.08088888 0.91911113]\n",
      " [0.         0.01333333 0.9866667 ]\n",
      " [0.         0.1295     0.87049997]]\n"
     ]
    }
   ],
   "source": [
    "import treelite\n",
    "\n",
    "# The checkpoint file has been copied over\n",
    "checkpoint_path = './checkpoint.tl'\n",
    "tl_model = treelite.Model.deserialize(checkpoint_path)\n",
    "out_prob = treelite.gtil.predict(tl_model, X, pred_margin=True)\n",
    "print(out_prob)"
   ]
  }
 ],
 "metadata": {
  "kernelspec": {
   "display_name": "Python 3",
   "language": "python",
   "name": "python3"
  },
  "language_info": {
   "codemirror_mode": {
    "name": "ipython",
    "version": 3
   },
   "file_extension": ".py",
   "mimetype": "text/x-python",
   "name": "python",
   "nbconvert_exporter": "python",
   "pygments_lexer": "ipython3",
   "version": "3.7.10"
  }
 },
 "nbformat": 4,
 "nbformat_minor": 4
}
