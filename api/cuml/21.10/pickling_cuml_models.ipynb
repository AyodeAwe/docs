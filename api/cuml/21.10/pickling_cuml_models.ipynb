{
 "cells": [
  {
   "cell_type": "markdown",
   "metadata": {},
   "source": [
    "# Pickling cuML Models for Persistence\n",
    "\n",
    "This notebook demonstrates simple pickling of both single-GPU and multi-GPU cuML models for persistence"
   ]
  },
  {
   "cell_type": "code",
   "execution_count": 1,
   "metadata": {
    "execution": {
     "iopub.execute_input": "2021-09-22T10:15:39.414862Z",
     "iopub.status.busy": "2021-09-22T10:15:39.413963Z",
     "iopub.status.idle": "2021-09-22T10:15:39.416888Z",
     "shell.execute_reply": "2021-09-22T10:15:39.417845Z"
    }
   },
   "outputs": [],
   "source": [
    "import warnings\n",
    "warnings.filterwarnings(\"ignore\", category=FutureWarning)"
   ]
  },
  {
   "cell_type": "markdown",
   "metadata": {},
   "source": [
    "## Single GPU Model Pickling\n",
    "\n",
    "All single-GPU estimators are pickleable. The following example demonstrates the creation of a synthetic dataset, training, and pickling of the resulting model for storage. Trained single-GPU models can also be used to distribute the inference on a Dask cluster, which the `Distributed Model Pickling` section below demonstrates."
   ]
  },
  {
   "cell_type": "code",
   "execution_count": 2,
   "metadata": {
    "execution": {
     "iopub.execute_input": "2021-09-22T10:15:39.424640Z",
     "iopub.status.busy": "2021-09-22T10:15:39.423421Z",
     "iopub.status.idle": "2021-09-22T10:15:43.691686Z",
     "shell.execute_reply": "2021-09-22T10:15:43.692852Z"
    }
   },
   "outputs": [],
   "source": [
    "from cuml.datasets import make_blobs\n",
    "\n",
    "X, y = make_blobs(n_samples=50,\n",
    "                  n_features=10,\n",
    "                  centers=5,\n",
    "                  cluster_std=0.4,\n",
    "                  random_state=0)"
   ]
  },
  {
   "cell_type": "code",
   "execution_count": 3,
   "metadata": {
    "execution": {
     "iopub.execute_input": "2021-09-22T10:15:43.700661Z",
     "iopub.status.busy": "2021-09-22T10:15:43.699174Z",
     "iopub.status.idle": "2021-09-22T10:15:43.963167Z",
     "shell.execute_reply": "2021-09-22T10:15:43.964417Z"
    }
   },
   "outputs": [
    {
     "data": {
      "text/plain": [
       "KMeans()"
      ]
     },
     "execution_count": 3,
     "metadata": {},
     "output_type": "execute_result"
    }
   ],
   "source": [
    "from cuml.cluster import KMeans\n",
    "\n",
    "model = KMeans(n_clusters=5)\n",
    "\n",
    "model.fit(X)"
   ]
  },
  {
   "cell_type": "code",
   "execution_count": 4,
   "metadata": {
    "execution": {
     "iopub.execute_input": "2021-09-22T10:15:43.971047Z",
     "iopub.status.busy": "2021-09-22T10:15:43.969576Z",
     "iopub.status.idle": "2021-09-22T10:15:43.973035Z",
     "shell.execute_reply": "2021-09-22T10:15:43.972267Z"
    }
   },
   "outputs": [],
   "source": [
    "import pickle\n",
    "\n",
    "pickle.dump(model, open(\"kmeans_model.pkl\", \"wb\"))"
   ]
  },
  {
   "cell_type": "code",
   "execution_count": 5,
   "metadata": {
    "execution": {
     "iopub.execute_input": "2021-09-22T10:15:43.978094Z",
     "iopub.status.busy": "2021-09-22T10:15:43.977211Z",
     "iopub.status.idle": "2021-09-22T10:15:43.980538Z",
     "shell.execute_reply": "2021-09-22T10:15:43.981248Z"
    }
   },
   "outputs": [],
   "source": [
    "model = pickle.load(open(\"kmeans_model.pkl\", \"rb\"))"
   ]
  },
  {
   "cell_type": "code",
   "execution_count": 6,
   "metadata": {
    "execution": {
     "iopub.execute_input": "2021-09-22T10:15:43.987673Z",
     "iopub.status.busy": "2021-09-22T10:15:43.986785Z",
     "iopub.status.idle": "2021-09-22T10:15:43.989872Z",
     "shell.execute_reply": "2021-09-22T10:15:43.990605Z"
    }
   },
   "outputs": [
    {
     "data": {
      "text/plain": [
       "array([[ 5.2615476 , -4.0487256 ,  4.464928  , -2.9367518 ,  3.5061095 ,\n",
       "        -4.0168314 , -3.463885  ,  6.0784483 , -6.9533257 , -1.004144  ],\n",
       "       [-4.243999  ,  5.6107073 , -5.669777  , -1.7957245 , -9.255529  ,\n",
       "         0.71774375,  4.4435906 , -2.8747156 , -5.090096  ,  9.684121  ],\n",
       "       [ 4.6749854 ,  8.213466  , -9.07572   ,  9.568374  ,  8.454807  ,\n",
       "        -1.2327975 ,  3.3903713 , -7.828242  , -0.8454461 ,  0.6288572 ],\n",
       "       [-3.008261  ,  4.6259604 , -4.483249  ,  2.228457  ,  1.643532  ,\n",
       "        -2.4505193 , -5.258201  , -1.6679403 , -7.9857535 ,  2.8311467 ],\n",
       "       [-5.6072407 ,  2.2695982 , -3.7516537 , -1.8182005 , -5.143028  ,\n",
       "         7.599363  ,  2.8252366 ,  8.773042  ,  1.6198314 ,  1.1772047 ]],\n",
       "      dtype=float32)"
      ]
     },
     "execution_count": 6,
     "metadata": {},
     "output_type": "execute_result"
    }
   ],
   "source": [
    "model.cluster_centers_"
   ]
  },
  {
   "cell_type": "markdown",
   "metadata": {},
   "source": [
    "## Distributed Model Pickling"
   ]
  },
  {
   "cell_type": "markdown",
   "metadata": {},
   "source": [
    "The distributed estimator wrappers inside of the `cuml.dask` are not intended to be pickled directly. The Dask cuML estimators provide a function `get_combined_model()`, which returns the trained single-GPU model for pickling. The combined model can be used for inference on a single-GPU, and the `ParallelPostFit` wrapper from the [Dask-ML](https://ml.dask.org/meta-estimators.html) library can be used to perform distributed inference on a Dask cluster."
   ]
  },
  {
   "cell_type": "code",
   "execution_count": 7,
   "metadata": {
    "execution": {
     "iopub.execute_input": "2021-09-22T10:15:43.996013Z",
     "iopub.status.busy": "2021-09-22T10:15:43.995136Z",
     "iopub.status.idle": "2021-09-22T10:15:47.591823Z",
     "shell.execute_reply": "2021-09-22T10:15:47.593072Z"
    }
   },
   "outputs": [
    {
     "name": "stderr",
     "output_type": "stream",
     "text": [
      "Unable to start CUDA Context\n",
      "Traceback (most recent call last):\n",
      "  File \"/opt/conda/envs/rapids/lib/python3.7/site-packages/dask_cuda-0+untagged.1.ga884233-py3.7.egg/dask_cuda/initialize.py\", line 43, in _create_cuda_context\n",
      "    if distributed.comm.ucx.cuda_context_created is False:\n",
      "AttributeError: module 'distributed.comm.ucx' has no attribute 'cuda_context_created'\n"
     ]
    },
    {
     "data": {
      "text/html": [
       "\n",
       "            <div>\n",
       "                <div style=\"\n",
       "                    width: 24px;\n",
       "                    height: 24px;\n",
       "                    background-color: #e1e1e1;\n",
       "                    border: 3px solid #9D9D9D;\n",
       "                    border-radius: 5px;\n",
       "                    position: absolute;\"> </div>\n",
       "                <div style=\"margin-left: 48px;\">\n",
       "                    <h3 style=\"margin-bottom: 0px;\">Client</h3>\n",
       "                    <p style=\"color: #9D9D9D; margin-bottom: 0px;\">Client-0dfbb33e-1b8e-11ec-9a65-0242ac110002</p>\n",
       "                    <table style=\"width: 100%; text-align: left;\">\n",
       "                    \n",
       "                <tr>\n",
       "                    <td style=\"text-align: left;\"><strong>Connection method:</strong> Cluster object</td>\n",
       "                    <td style=\"text-align: left;\"><strong>Cluster type:</strong> LocalCUDACluster</td>\n",
       "                </tr>\n",
       "                \n",
       "                <tr>\n",
       "                    <td style=\"text-align: left;\">\n",
       "                        <strong>Dashboard: </strong>\n",
       "                        <a href=\"http://127.0.0.1:8787/status\">http://127.0.0.1:8787/status</a>\n",
       "                    </td>\n",
       "                    <td style=\"text-align: left;\"></td>\n",
       "                </tr>\n",
       "                \n",
       "                    </table>\n",
       "                    \n",
       "                <details>\n",
       "                <summary style=\"margin-bottom: 20px;\"><h3 style=\"display: inline;\">Cluster Info</h3></summary>\n",
       "                \n",
       "            <div class=\"jp-RenderedHTMLCommon jp-RenderedHTML jp-mod-trusted jp-OutputArea-output\">\n",
       "                <div style=\"\n",
       "                    width: 24px;\n",
       "                    height: 24px;\n",
       "                    background-color: #e1e1e1;\n",
       "                    border: 3px solid #9D9D9D;\n",
       "                    border-radius: 5px;\n",
       "                    position: absolute;\"> </div>\n",
       "                <div style=\"margin-left: 48px;\">\n",
       "                    <h3 style=\"margin-bottom: 0px; margin-top: 0px;\">LocalCUDACluster</h3>\n",
       "                    <p style=\"color: #9D9D9D; margin-bottom: 0px;\">a5df60c8</p>\n",
       "                    <table style=\"width: 100%; text-align: left;\">\n",
       "                    \n",
       "            <tr>\n",
       "                <td style=\"text-align: left;\"><strong>Status:</strong> running</td>\n",
       "                <td style=\"text-align: left;\"><strong>Using processes:</strong> True</td>\n",
       "            </tr>\n",
       "        \n",
       "            <tr>\n",
       "                <td style=\"text-align: left;\">\n",
       "                    <strong>Dashboard:</strong> <a href=\"http://127.0.0.1:8787/status\">http://127.0.0.1:8787/status</a>\n",
       "                </td>\n",
       "                <td style=\"text-align: left;\"><strong>Workers:</strong> 1</td>\n",
       "            </tr>\n",
       "            <tr>\n",
       "                <td style=\"text-align: left;\">\n",
       "                    <strong>Total threads:</strong>\n",
       "                    1\n",
       "                </td>\n",
       "                <td style=\"text-align: left;\">\n",
       "                    <strong>Total memory:</strong>\n",
       "                    251.79 GiB\n",
       "                </td>\n",
       "            </tr>\n",
       "        \n",
       "                    </table>\n",
       "                    <details>\n",
       "                    <summary style=\"margin-bottom: 20px;\"><h3 style=\"display: inline;\">Scheduler Info</h3></summary>\n",
       "                    \n",
       "        <div style=\"\">\n",
       "            \n",
       "            <div>\n",
       "                <div style=\"\n",
       "                    width: 24px;\n",
       "                    height: 24px;\n",
       "                    background-color: #FFF7E5;\n",
       "                    border: 3px solid #FF6132;\n",
       "                    border-radius: 5px;\n",
       "                    position: absolute;\"> </div>\n",
       "                <div style=\"margin-left: 48px;\">\n",
       "                    <h3 style=\"margin-bottom: 0px;\">Scheduler</h3>\n",
       "                    <p style=\"color: #9D9D9D; margin-bottom: 0px;\">Scheduler-9de62c3c-078f-465c-b02b-f15732acde15</p>\n",
       "                    <table style=\"width: 100%; text-align: left;\">\n",
       "                        <tr>\n",
       "                            <td style=\"text-align: left;\"><strong>Comm:</strong> tcp://127.0.0.1:43087</td>\n",
       "                            <td style=\"text-align: left;\"><strong>Workers:</strong> 1</td>\n",
       "                        </tr>\n",
       "                        <tr>\n",
       "                            <td style=\"text-align: left;\">\n",
       "                                <strong>Dashboard:</strong> <a href=\"http://127.0.0.1:8787/status\">http://127.0.0.1:8787/status</a>\n",
       "                            </td>\n",
       "                            <td style=\"text-align: left;\">\n",
       "                                <strong>Total threads:</strong>\n",
       "                                1\n",
       "                            </td>\n",
       "                        </tr>\n",
       "                        <tr>\n",
       "                            <td style=\"text-align: left;\">\n",
       "                                <strong>Started:</strong>\n",
       "                                Just now\n",
       "                            </td>\n",
       "                            <td style=\"text-align: left;\">\n",
       "                                <strong>Total memory:</strong>\n",
       "                                251.79 GiB\n",
       "                            </td>\n",
       "                        </tr>\n",
       "                    </table>\n",
       "                </div>\n",
       "            </div>\n",
       "        \n",
       "            <details style=\"margin-left: 48px;\">\n",
       "            <summary style=\"margin-bottom: 20px;\"><h3 style=\"display: inline;\">Workers</h3></summary>\n",
       "            \n",
       "            <div style=\"margin-bottom: 20px;\">\n",
       "                <div style=\"width: 24px;\n",
       "                            height: 24px;\n",
       "                            background-color: #DBF5FF;\n",
       "                            border: 3px solid #4CC9FF;\n",
       "                            border-radius: 5px;\n",
       "                            position: absolute;\"> </div>\n",
       "                <div style=\"margin-left: 48px;\">\n",
       "                <details>\n",
       "                    <summary>\n",
       "                        <h4 style=\"margin-bottom: 0px; display: inline;\">Worker: 0</h4>\n",
       "                    </summary>\n",
       "                    <table style=\"width: 100%; text-align: left;\">\n",
       "                        <tr>\n",
       "                            <td style=\"text-align: left;\"><strong>Comm: </strong> tcp://127.0.0.1:41739</td>\n",
       "                            <td style=\"text-align: left;\"><strong>Total threads: </strong> 1</td>\n",
       "                        </tr>\n",
       "                        <tr>\n",
       "                            <td style=\"text-align: left;\">\n",
       "                                <strong>Dashboard: </strong>\n",
       "                                <a href=\"http://127.0.0.1:33171/status\">http://127.0.0.1:33171/status</a>\n",
       "                            </td>\n",
       "                            <td style=\"text-align: left;\">\n",
       "                                <strong>Memory: </strong>\n",
       "                                251.79 GiB\n",
       "                            </td>\n",
       "                        </tr>\n",
       "                        <tr>\n",
       "                            <td style=\"text-align: left;\"><strong>Nanny: </strong> tcp://127.0.0.1:33367</td>\n",
       "                            <td style=\"text-align: left;\"></td>\n",
       "                        </tr>\n",
       "                        <tr>\n",
       "                            <td colspan=\"2\" style=\"text-align: left;\">\n",
       "                                <strong>Local directory: </strong>\n",
       "                                /rapids/cuml/docs/source/dask-worker-space/worker-_xqlyhc_\n",
       "                            </td>\n",
       "                        </tr>\n",
       "                        \n",
       "                <tr>\n",
       "                    <td style=\"text-align: left;\">\n",
       "                        <strong>GPU: </strong>Tesla P100-PCIE-16GB\n",
       "                    </td>\n",
       "                    <td style=\"text-align: left;\">\n",
       "                        <strong>GPU memory: </strong>\n",
       "                        15.90 GiB\n",
       "                    </td>\n",
       "                </tr>\n",
       "                \n",
       "                        \n",
       "                    </table>\n",
       "                </details>\n",
       "                </div>\n",
       "            </div>\n",
       "            \n",
       "            </details>\n",
       "        </div>\n",
       "        \n",
       "                    </details>\n",
       "                </div>\n",
       "            </div>\n",
       "        \n",
       "                </details>\n",
       "                \n",
       "                </div>\n",
       "            </div>\n",
       "        "
      ],
      "text/plain": [
       "<Client: 'tcp://127.0.0.1:43087' processes=1 threads=1, memory=251.79 GiB>"
      ]
     },
     "execution_count": 7,
     "metadata": {},
     "output_type": "execute_result"
    }
   ],
   "source": [
    "from dask.distributed import Client\n",
    "from dask_cuda import LocalCUDACluster\n",
    "\n",
    "cluster = LocalCUDACluster()\n",
    "client = Client(cluster)\n",
    "client"
   ]
  },
  {
   "cell_type": "code",
   "execution_count": 8,
   "metadata": {
    "execution": {
     "iopub.execute_input": "2021-09-22T10:15:47.602822Z",
     "iopub.status.busy": "2021-09-22T10:15:47.601939Z",
     "iopub.status.idle": "2021-09-22T10:15:48.195744Z",
     "shell.execute_reply": "2021-09-22T10:15:48.196851Z"
    }
   },
   "outputs": [],
   "source": [
    "from cuml.dask.datasets import make_blobs\n",
    "\n",
    "n_workers = len(client.scheduler_info()[\"workers\"].keys())\n",
    "\n",
    "X, y = make_blobs(n_samples=5000, \n",
    "                  n_features=30,\n",
    "                  centers=5, \n",
    "                  cluster_std=0.4, \n",
    "                  random_state=0,\n",
    "                  n_parts=n_workers*5)\n",
    "\n",
    "X = X.persist()\n",
    "y = y.persist()"
   ]
  },
  {
   "cell_type": "code",
   "execution_count": 9,
   "metadata": {
    "execution": {
     "iopub.execute_input": "2021-09-22T10:15:48.213064Z",
     "iopub.status.busy": "2021-09-22T10:15:48.211552Z",
     "iopub.status.idle": "2021-09-22T10:15:48.224156Z",
     "shell.execute_reply": "2021-09-22T10:15:48.225343Z"
    }
   },
   "outputs": [],
   "source": [
    "from cuml.dask.cluster import KMeans\n",
    "\n",
    "dist_model = KMeans(n_clusters=5)"
   ]
  },
  {
   "cell_type": "code",
   "execution_count": 10,
   "metadata": {
    "execution": {
     "iopub.execute_input": "2021-09-22T10:15:48.234268Z",
     "iopub.status.busy": "2021-09-22T10:15:48.232812Z",
     "iopub.status.idle": "2021-09-22T10:15:51.350549Z",
     "shell.execute_reply": "2021-09-22T10:15:51.349318Z"
    }
   },
   "outputs": [
    {
     "data": {
      "text/plain": [
       "<cuml.dask.cluster.kmeans.KMeans at 0x7fb08dcc2890>"
      ]
     },
     "execution_count": 10,
     "metadata": {},
     "output_type": "execute_result"
    }
   ],
   "source": [
    "dist_model.fit(X)"
   ]
  },
  {
   "cell_type": "code",
   "execution_count": 11,
   "metadata": {
    "execution": {
     "iopub.execute_input": "2021-09-22T10:15:51.361046Z",
     "iopub.status.busy": "2021-09-22T10:15:51.359839Z",
     "iopub.status.idle": "2021-09-22T10:15:51.376812Z",
     "shell.execute_reply": "2021-09-22T10:15:51.377825Z"
    }
   },
   "outputs": [],
   "source": [
    "import pickle\n",
    "\n",
    "single_gpu_model = dist_model.get_combined_model()\n",
    "pickle.dump(single_gpu_model, open(\"kmeans_model.pkl\", \"wb\"))"
   ]
  },
  {
   "cell_type": "code",
   "execution_count": 12,
   "metadata": {
    "execution": {
     "iopub.execute_input": "2021-09-22T10:15:51.385647Z",
     "iopub.status.busy": "2021-09-22T10:15:51.384371Z",
     "iopub.status.idle": "2021-09-22T10:15:51.387888Z",
     "shell.execute_reply": "2021-09-22T10:15:51.388755Z"
    }
   },
   "outputs": [],
   "source": [
    "single_gpu_model = pickle.load(open(\"kmeans_model.pkl\", \"rb\"))"
   ]
  },
  {
   "cell_type": "code",
   "execution_count": 13,
   "metadata": {
    "execution": {
     "iopub.execute_input": "2021-09-22T10:15:51.399419Z",
     "iopub.status.busy": "2021-09-22T10:15:51.398535Z",
     "iopub.status.idle": "2021-09-22T10:15:51.403466Z",
     "shell.execute_reply": "2021-09-22T10:15:51.404585Z"
    }
   },
   "outputs": [
    {
     "data": {
      "text/plain": [
       "array([[-2.8796394e+00,  4.4348745e+00, -4.4264822e+00,  2.3959148e+00,\n",
       "         1.7286427e+00, -2.4991987e+00, -5.1794510e+00, -1.6771443e+00,\n",
       "        -8.1329165e+00,  2.6659217e+00, -4.3131113e+00,  5.5827804e+00,\n",
       "        -5.7318325e+00, -1.7427168e+00, -9.3456116e+00,  7.1365553e-01,\n",
       "         4.4255476e+00, -2.9118381e+00, -4.9467459e+00,  9.6786394e+00,\n",
       "         8.4222775e+00, -6.2710242e+00, -6.3596516e+00,  1.9645506e+00,\n",
       "         4.1715984e+00, -9.1683626e+00,  4.6156683e+00,  8.7916470e+00,\n",
       "         6.8754439e+00,  2.2288752e+00],\n",
       "       [-6.9536953e+00, -9.7635889e+00, -6.5648260e+00, -4.3536150e-01,\n",
       "         6.0998106e+00,  3.7550364e+00, -3.9558535e+00,  6.1595521e+00,\n",
       "        -1.8599318e+00,  5.0400314e+00, -6.8397541e+00,  1.3435431e+00,\n",
       "         8.9748993e+00, -9.9621767e-01,  9.6651907e+00,  9.8009710e+00,\n",
       "        -8.6188354e+00,  5.9978371e+00,  2.2295926e+00, -3.6477709e+00,\n",
       "         7.0758500e+00, -7.3772254e+00, -5.3214197e+00, -6.9927964e+00,\n",
       "        -7.9296317e+00,  6.6705356e+00, -5.5850167e+00,  7.1526055e+00,\n",
       "         6.5703201e+00, -8.3389397e+00],\n",
       "       [ 4.8136687e+00,  8.3985300e+00, -9.2161264e+00,  9.4185505e+00,\n",
       "         8.5280838e+00, -1.0969981e+00,  3.3253171e+00, -7.8064384e+00,\n",
       "        -5.9660643e-01,  2.5423875e-01,  5.5004082e+00, -4.1162968e+00,\n",
       "         4.2832375e+00, -2.8173413e+00,  3.6207721e+00, -4.1576223e+00,\n",
       "        -3.6048710e+00,  6.2125416e+00, -6.9080992e+00, -1.0732133e+00,\n",
       "        -5.8362117e+00,  2.2357664e+00, -3.8588781e+00, -1.6835876e+00,\n",
       "        -5.3240376e+00,  7.5769196e+00,  2.9358530e+00,  8.5267372e+00,\n",
       "         1.5667247e+00,  1.0779676e+00],\n",
       "       [-4.6475391e+00, -9.5672121e+00,  6.6923504e+00,  4.4359255e+00,\n",
       "         2.1902721e+00,  2.5834744e+00,  5.9448940e-01,  6.2568669e+00,\n",
       "        -8.7821646e+00, -4.1232014e-01,  9.8151760e+00,  7.5641556e+00,\n",
       "         1.0003011e+01, -5.8680429e+00, -1.2743109e+00, -2.5393453e+00,\n",
       "        -1.0847496e+00, -5.2629199e+00, -9.3071012e+00,  4.6179352e+00,\n",
       "        -9.7068958e-02, -3.9351213e+00,  6.1767273e+00, -7.4346867e+00,\n",
       "         5.6496072e+00, -8.5544806e+00, -7.5265594e+00, -5.5195608e+00,\n",
       "         4.8197637e+00,  2.5235436e+00],\n",
       "       [ 6.2794271e+00,  9.2293987e+00,  8.3403702e+00,  9.0330515e+00,\n",
       "         7.6893501e+00, -9.9538213e-01, -6.2780747e+00,  1.3599329e+00,\n",
       "        -6.9744458e+00, -5.9463453e+00,  1.0695119e+00, -8.0422359e-03,\n",
       "         2.8183136e+00,  1.8317666e+00, -8.2557335e+00,  3.0514319e+00,\n",
       "        -8.4958029e+00,  9.7238493e+00, -7.7455096e+00,  3.4521685e+00,\n",
       "        -3.9248328e+00, -4.1106420e+00,  2.6693094e+00,  1.2985630e+00,\n",
       "         1.0421575e+00,  5.2490616e+00, -1.6496234e+00,  6.1451678e+00,\n",
       "        -6.9103308e+00, -9.6390352e+00]], dtype=float32)"
      ]
     },
     "execution_count": 13,
     "metadata": {},
     "output_type": "execute_result"
    }
   ],
   "source": [
    "single_gpu_model.cluster_centers_"
   ]
  },
  {
   "cell_type": "markdown",
   "metadata": {},
   "source": [
    "## Exporting cuML Random Forest models for inferencing on machines without GPUs"
   ]
  },
  {
   "cell_type": "markdown",
   "metadata": {},
   "source": [
    "Starting with cuML version 21.06, you can export cuML Random Forest models and run predictions with them on machines without an NVIDIA GPUs. The [Treelite](https://github.com/dmlc/treelite) package defines an efficient exchange format that lets you portably move the cuML Random Forest models to other machines. We will refer to the exchange format as \"checkpoints.\"\n",
    "\n",
    "Here are the steps to export the model:\n",
    "\n",
    "1. Call `to_treelite_checkpoint()` to obtain the checkpoint file from the cuML Random Forest model."
   ]
  },
  {
   "cell_type": "code",
   "execution_count": 14,
   "metadata": {
    "execution": {
     "iopub.execute_input": "2021-09-22T10:15:51.415926Z",
     "iopub.status.busy": "2021-09-22T10:15:51.414787Z",
     "iopub.status.idle": "2021-09-22T10:15:51.559785Z",
     "shell.execute_reply": "2021-09-22T10:15:51.560808Z"
    }
   },
   "outputs": [
    {
     "name": "stderr",
     "output_type": "stream",
     "text": [
      "/opt/conda/envs/rapids/lib/python3.7/site-packages/cuml/internals/api_decorators.py:794: UserWarning: For reproducible results in Random Forest Classifier or for almost reproducible results in Random Forest Regressor, n_streams==1 is recommended. If n_streams is > 1, results may vary due to stream/thread timing differences, even when random_state is set\n",
      "  return func(**kwargs)\n"
     ]
    }
   ],
   "source": [
    "from cuml.ensemble import RandomForestClassifier as cumlRandomForestClassifier\n",
    "from sklearn.datasets import load_iris\n",
    "import numpy as np\n",
    "\n",
    "X, y = load_iris(return_X_y=True)\n",
    "X, y = X.astype(np.float32), y.astype(np.int32)\n",
    "clf = cumlRandomForestClassifier(max_depth=3, random_state=0, n_estimators=10)\n",
    "clf.fit(X, y)\n",
    "\n",
    "checkpoint_path = './checkpoint.tl'\n",
    "# Export cuML RF model as Treelite checkpoint\n",
    "clf.convert_to_treelite_model().to_treelite_checkpoint(checkpoint_path)"
   ]
  },
  {
   "cell_type": "markdown",
   "metadata": {},
   "source": [
    "2. Copy the generated checkpoint file `checkpoint.tl` to another machine on which you'd like to run predictions.\n",
    "\n",
    "3. On the target machine, install Treelite by running `pip install treelite` or `conda install -c conda-forge treelite`. The machine does not need to have an NVIDIA GPUs and does not need to have cuML installed.\n",
    "\n",
    "4. You can now load the model from the checkpoint, by running the following on the target machine:"
   ]
  },
  {
   "cell_type": "code",
   "execution_count": 15,
   "metadata": {
    "execution": {
     "iopub.execute_input": "2021-09-22T10:15:51.570478Z",
     "iopub.status.busy": "2021-09-22T10:15:51.569288Z",
     "iopub.status.idle": "2021-09-22T10:15:51.593284Z",
     "shell.execute_reply": "2021-09-22T10:15:51.594346Z"
    }
   },
   "outputs": [
    {
     "name": "stdout",
     "output_type": "stream",
     "text": [
      "[[1.         0.         0.        ]\n",
      " [1.         0.         0.        ]\n",
      " [1.         0.         0.        ]\n",
      " [1.         0.         0.        ]\n",
      " [1.         0.         0.        ]\n",
      " [1.         0.         0.        ]\n",
      " [1.         0.         0.        ]\n",
      " [1.         0.         0.        ]\n",
      " [1.         0.         0.        ]\n",
      " [1.         0.         0.        ]\n",
      " [1.         0.         0.        ]\n",
      " [1.         0.         0.        ]\n",
      " [1.         0.         0.        ]\n",
      " [1.         0.         0.        ]\n",
      " [1.         0.         0.        ]\n",
      " [1.         0.         0.        ]\n",
      " [1.         0.         0.        ]\n",
      " [1.         0.         0.        ]\n",
      " [0.9        0.09166667 0.00833333]\n",
      " [1.         0.         0.        ]\n",
      " [1.         0.         0.        ]\n",
      " [1.         0.         0.        ]\n",
      " [1.         0.         0.        ]\n",
      " [1.         0.         0.        ]\n",
      " [1.         0.         0.        ]\n",
      " [1.         0.         0.        ]\n",
      " [1.         0.         0.        ]\n",
      " [1.         0.         0.        ]\n",
      " [1.         0.         0.        ]\n",
      " [1.         0.         0.        ]\n",
      " [1.         0.         0.        ]\n",
      " [1.         0.         0.        ]\n",
      " [1.         0.         0.        ]\n",
      " [1.         0.         0.        ]\n",
      " [1.         0.         0.        ]\n",
      " [1.         0.         0.        ]\n",
      " [1.         0.         0.        ]\n",
      " [1.         0.         0.        ]\n",
      " [1.         0.         0.        ]\n",
      " [1.         0.         0.        ]\n",
      " [1.         0.         0.        ]\n",
      " [0.9        0.         0.1       ]\n",
      " [1.         0.         0.        ]\n",
      " [1.         0.         0.        ]\n",
      " [1.         0.         0.        ]\n",
      " [1.         0.         0.        ]\n",
      " [1.         0.         0.        ]\n",
      " [1.         0.         0.        ]\n",
      " [1.         0.         0.        ]\n",
      " [1.         0.         0.        ]\n",
      " [0.         0.97452766 0.02547234]\n",
      " [0.         0.97452766 0.02547234]\n",
      " [0.         0.7460598  0.25394017]\n",
      " [0.         0.9871346  0.0128655 ]\n",
      " [0.         0.97452766 0.02547234]\n",
      " [0.         0.97880113 0.02119883]\n",
      " [0.         0.9274122  0.07258771]\n",
      " [0.         0.6388889  0.3611111 ]\n",
      " [0.         0.97452766 0.02547234]\n",
      " [0.         0.9871346  0.0128655 ]\n",
      " [0.         0.85380113 0.14619884]\n",
      " [0.         0.97880113 0.02119883]\n",
      " [0.         0.9300833  0.06991678]\n",
      " [0.         0.9634166  0.03658345]\n",
      " [0.         0.97880113 0.02119883]\n",
      " [0.         0.97452766 0.02547234]\n",
      " [0.         0.97880113 0.02119883]\n",
      " [0.         0.97880113 0.02119883]\n",
      " [0.         0.9300833  0.06991678]\n",
      " [0.         0.97880113 0.02119883]\n",
      " [0.         0.4074123  0.5925877 ]\n",
      " [0.         0.9634166  0.03658345]\n",
      " [0.         0.7460598  0.25394017]\n",
      " [0.         0.9634166  0.03658345]\n",
      " [0.         0.97452766 0.02547234]\n",
      " [0.         0.97452766 0.02547234]\n",
      " [0.         0.81230545 0.18769456]\n",
      " [0.         0.31124604 0.68875396]\n",
      " [0.         0.9634166  0.03658345]\n",
      " [0.         0.97880113 0.02119883]\n",
      " [0.         0.9871346  0.0128655 ]\n",
      " [0.         0.9871346  0.0128655 ]\n",
      " [0.         0.97880113 0.02119883]\n",
      " [0.         0.23505557 0.76494443]\n",
      " [0.         0.9871346  0.0128655 ]\n",
      " [0.         0.91630113 0.08369882]\n",
      " [0.         0.97452766 0.02547234]\n",
      " [0.         0.97452766 0.02547234]\n",
      " [0.         0.97880113 0.02119883]\n",
      " [0.         0.9871346  0.0128655 ]\n",
      " [0.         0.9871346  0.0128655 ]\n",
      " [0.         0.9634166  0.03658345]\n",
      " [0.         0.97880113 0.02119883]\n",
      " [0.         0.88713455 0.11286551]\n",
      " [0.         0.97880113 0.02119883]\n",
      " [0.         0.97880113 0.02119883]\n",
      " [0.         0.97880113 0.02119883]\n",
      " [0.         0.9634166  0.03658345]\n",
      " [0.         0.9871346  0.0128655 ]\n",
      " [0.         0.97880113 0.02119883]\n",
      " [0.         0.01333333 0.9866667 ]\n",
      " [0.         0.08088888 0.91911113]\n",
      " [0.         0.02444444 0.9755556 ]\n",
      " [0.         0.08638889 0.9136111 ]\n",
      " [0.         0.03777778 0.9622222 ]\n",
      " [0.         0.02444444 0.9755556 ]\n",
      " [0.         0.34305555 0.6569444 ]\n",
      " [0.         0.07305555 0.92694443]\n",
      " [0.         0.08638889 0.9136111 ]\n",
      " [0.         0.         1.        ]\n",
      " [0.         0.05644444 0.94355565]\n",
      " [0.         0.03777778 0.9622222 ]\n",
      " [0.         0.03777778 0.9622222 ]\n",
      " [0.         0.17374603 0.826254  ]\n",
      " [0.         0.08088888 0.91911113]\n",
      " [0.         0.01333333 0.9866667 ]\n",
      " [0.         0.08638889 0.9136111 ]\n",
      " [0.         0.         1.        ]\n",
      " [0.         0.02444444 0.9755556 ]\n",
      " [0.         0.32502812 0.67497194]\n",
      " [0.         0.01333333 0.9866667 ]\n",
      " [0.         0.28366667 0.7163333 ]\n",
      " [0.         0.02444444 0.9755556 ]\n",
      " [0.         0.34338892 0.6566111 ]\n",
      " [0.         0.01333333 0.9866667 ]\n",
      " [0.         0.04861111 0.95138896]\n",
      " [0.         0.43185672 0.5681433 ]\n",
      " [0.         0.3322778  0.6677222 ]\n",
      " [0.         0.03777778 0.9622222 ]\n",
      " [0.         0.17861111 0.8213889 ]\n",
      " [0.         0.02444444 0.9755556 ]\n",
      " [0.         0.         1.        ]\n",
      " [0.         0.03777778 0.9622222 ]\n",
      " [0.         0.28217095 0.7178291 ]\n",
      " [0.         0.23905985 0.7609402 ]\n",
      " [0.         0.02444444 0.9755556 ]\n",
      " [0.         0.01333333 0.9866667 ]\n",
      " [0.         0.08638889 0.9136111 ]\n",
      " [0.         0.43185672 0.5681433 ]\n",
      " [0.         0.03777778 0.9622222 ]\n",
      " [0.         0.03777778 0.9622222 ]\n",
      " [0.         0.08088888 0.91911113]\n",
      " [0.         0.08088888 0.91911113]\n",
      " [0.         0.01333333 0.9866667 ]\n",
      " [0.         0.01333333 0.9866667 ]\n",
      " [0.         0.08088888 0.91911113]\n",
      " [0.         0.17374603 0.826254  ]\n",
      " [0.         0.08088888 0.91911113]\n",
      " [0.         0.01333333 0.9866667 ]\n",
      " [0.         0.1295     0.87049997]]\n"
     ]
    }
   ],
   "source": [
    "import treelite\n",
    "\n",
    "# The checkpoint file has been copied over\n",
    "checkpoint_path = './checkpoint.tl'\n",
    "tl_model = treelite.Model.deserialize(checkpoint_path)\n",
    "out_prob = treelite.gtil.predict(tl_model, X, pred_margin=True)\n",
    "print(out_prob)"
   ]
  }
 ],
 "metadata": {
  "kernelspec": {
   "display_name": "Python 3",
   "language": "python",
   "name": "python3"
  },
  "language_info": {
   "codemirror_mode": {
    "name": "ipython",
    "version": 3
   },
   "file_extension": ".py",
   "mimetype": "text/x-python",
   "name": "python",
   "nbconvert_exporter": "python",
   "pygments_lexer": "ipython3",
   "version": "3.7.10"
  }
 },
 "nbformat": 4,
 "nbformat_minor": 4
}
