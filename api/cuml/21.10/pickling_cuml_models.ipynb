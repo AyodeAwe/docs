{
 "cells": [
  {
   "cell_type": "markdown",
   "metadata": {},
   "source": [
    "# Pickling cuML Models for Persistence\n",
    "\n",
    "This notebook demonstrates simple pickling of both single-GPU and multi-GPU cuML models for persistence"
   ]
  },
  {
   "cell_type": "code",
   "execution_count": 1,
   "metadata": {
    "execution": {
     "iopub.execute_input": "2021-08-31T10:04:54.433896Z",
     "iopub.status.busy": "2021-08-31T10:04:54.432908Z",
     "iopub.status.idle": "2021-08-31T10:04:54.437548Z",
     "shell.execute_reply": "2021-08-31T10:04:54.436426Z"
    }
   },
   "outputs": [],
   "source": [
    "import warnings\n",
    "warnings.filterwarnings(\"ignore\", category=FutureWarning)"
   ]
  },
  {
   "cell_type": "markdown",
   "metadata": {},
   "source": [
    "## Single GPU Model Pickling\n",
    "\n",
    "All single-GPU estimators are pickleable. The following example demonstrates the creation of a synthetic dataset, training, and pickling of the resulting model for storage. Trained single-GPU models can also be used to distribute the inference on a Dask cluster, which the `Distributed Model Pickling` section below demonstrates."
   ]
  },
  {
   "cell_type": "code",
   "execution_count": 2,
   "metadata": {
    "execution": {
     "iopub.execute_input": "2021-08-31T10:04:54.444329Z",
     "iopub.status.busy": "2021-08-31T10:04:54.443106Z",
     "iopub.status.idle": "2021-08-31T10:04:58.417857Z",
     "shell.execute_reply": "2021-08-31T10:04:58.418989Z"
    }
   },
   "outputs": [],
   "source": [
    "from cuml.datasets import make_blobs\n",
    "\n",
    "X, y = make_blobs(n_samples=50,\n",
    "                  n_features=10,\n",
    "                  centers=5,\n",
    "                  cluster_std=0.4,\n",
    "                  random_state=0)"
   ]
  },
  {
   "cell_type": "code",
   "execution_count": 3,
   "metadata": {
    "execution": {
     "iopub.execute_input": "2021-08-31T10:04:58.426192Z",
     "iopub.status.busy": "2021-08-31T10:04:58.424769Z",
     "iopub.status.idle": "2021-08-31T10:04:58.684795Z",
     "shell.execute_reply": "2021-08-31T10:04:58.685985Z"
    }
   },
   "outputs": [
    {
     "data": {
      "text/plain": [
       "KMeans()"
      ]
     },
     "execution_count": 3,
     "metadata": {},
     "output_type": "execute_result"
    }
   ],
   "source": [
    "from cuml.cluster import KMeans\n",
    "\n",
    "model = KMeans(n_clusters=5)\n",
    "\n",
    "model.fit(X)"
   ]
  },
  {
   "cell_type": "code",
   "execution_count": 4,
   "metadata": {
    "execution": {
     "iopub.execute_input": "2021-08-31T10:04:58.692305Z",
     "iopub.status.busy": "2021-08-31T10:04:58.690842Z",
     "iopub.status.idle": "2021-08-31T10:04:58.695111Z",
     "shell.execute_reply": "2021-08-31T10:04:58.693939Z"
    }
   },
   "outputs": [],
   "source": [
    "import pickle\n",
    "\n",
    "pickle.dump(model, open(\"kmeans_model.pkl\", \"wb\"))"
   ]
  },
  {
   "cell_type": "code",
   "execution_count": 5,
   "metadata": {
    "execution": {
     "iopub.execute_input": "2021-08-31T10:04:58.700264Z",
     "iopub.status.busy": "2021-08-31T10:04:58.699402Z",
     "iopub.status.idle": "2021-08-31T10:04:58.702283Z",
     "shell.execute_reply": "2021-08-31T10:04:58.702953Z"
    }
   },
   "outputs": [],
   "source": [
    "model = pickle.load(open(\"kmeans_model.pkl\", \"rb\"))"
   ]
  },
  {
   "cell_type": "code",
   "execution_count": 6,
   "metadata": {
    "execution": {
     "iopub.execute_input": "2021-08-31T10:04:58.708928Z",
     "iopub.status.busy": "2021-08-31T10:04:58.708010Z",
     "iopub.status.idle": "2021-08-31T10:04:58.711389Z",
     "shell.execute_reply": "2021-08-31T10:04:58.712198Z"
    }
   },
   "outputs": [
    {
     "data": {
      "text/plain": [
       "array([[ 5.2615476 , -4.0487256 ,  4.464928  , -2.9367518 ,  3.5061095 ,\n",
       "        -4.0168314 , -3.4638855 ,  6.0784483 , -6.953326  , -1.004144  ],\n",
       "       [-4.2439985 ,  5.6107073 , -5.669777  , -1.7957243 , -9.255529  ,\n",
       "         0.71774375,  4.4435897 , -2.874715  , -5.090096  ,  9.68412   ],\n",
       "       [ 4.6749854 ,  8.213466  , -9.075721  ,  9.568374  ,  8.454807  ,\n",
       "        -1.2327975 ,  3.3903713 , -7.828242  , -0.8454461 ,  0.6288572 ],\n",
       "       [-3.008261  ,  4.6259604 , -4.483249  ,  2.228457  ,  1.643532  ,\n",
       "        -2.4505193 , -5.258201  , -1.6679403 , -7.9857535 ,  2.8311467 ],\n",
       "       [-5.6072407 ,  2.2695985 , -3.7516537 , -1.8182005 , -5.143028  ,\n",
       "         7.599363  ,  2.8252366 ,  8.773042  ,  1.6198314 ,  1.1772048 ]],\n",
       "      dtype=float32)"
      ]
     },
     "execution_count": 6,
     "metadata": {},
     "output_type": "execute_result"
    }
   ],
   "source": [
    "model.cluster_centers_"
   ]
  },
  {
   "cell_type": "markdown",
   "metadata": {},
   "source": [
    "## Distributed Model Pickling"
   ]
  },
  {
   "cell_type": "markdown",
   "metadata": {},
   "source": [
    "The distributed estimator wrappers inside of the `cuml.dask` are not intended to be pickled directly. The Dask cuML estimators provide a function `get_combined_model()`, which returns the trained single-GPU model for pickling. The combined model can be used for inference on a single-GPU, and the `ParallelPostFit` wrapper from the [Dask-ML](https://ml.dask.org/meta-estimators.html) library can be used to perform distributed inference on a Dask cluster."
   ]
  },
  {
   "cell_type": "code",
   "execution_count": 7,
   "metadata": {
    "execution": {
     "iopub.execute_input": "2021-08-31T10:04:58.717746Z",
     "iopub.status.busy": "2021-08-31T10:04:58.716761Z",
     "iopub.status.idle": "2021-08-31T10:05:02.089070Z",
     "shell.execute_reply": "2021-08-31T10:05:02.090279Z"
    }
   },
   "outputs": [
    {
     "data": {
      "text/html": [
       "\n",
       "            <div>\n",
       "                <div style=\"\n",
       "                    width: 24px;\n",
       "                    height: 24px;\n",
       "                    background-color: #e1e1e1;\n",
       "                    border: 3px solid #9D9D9D;\n",
       "                    border-radius: 5px;\n",
       "                    position: absolute;\"> </div>\n",
       "                <div style=\"margin-left: 48px;\">\n",
       "                    <h3 style=\"margin-bottom: 0px;\">Client</h3>\n",
       "                    <p style=\"color: #9D9D9D; margin-bottom: 0px;\">Client-e8254280-0a42-11ec-9a99-0242ac110002</p>\n",
       "                    <table style=\"width: 100%; text-align: left;\">\n",
       "                    \n",
       "                <tr>\n",
       "                    <td style=\"text-align: left;\"><strong>Connection method:</strong> Cluster object</td>\n",
       "                    <td style=\"text-align: left;\"><strong>Cluster type:</strong> LocalCUDACluster</td>\n",
       "                </tr>\n",
       "                \n",
       "                <tr>\n",
       "                    <td style=\"text-align: left;\">\n",
       "                        <strong>Dashboard: </strong>\n",
       "                        <a href=\"http://127.0.0.1:8787/status\">http://127.0.0.1:8787/status</a>\n",
       "                    </td>\n",
       "                    <td style=\"text-align: left;\"></td>\n",
       "                </tr>\n",
       "                \n",
       "                    </table>\n",
       "                    \n",
       "                <details>\n",
       "                <summary style=\"margin-bottom: 20px;\"><h3 style=\"display: inline;\">Cluster Info</h3></summary>\n",
       "                \n",
       "            <div class=\"jp-RenderedHTMLCommon jp-RenderedHTML jp-mod-trusted jp-OutputArea-output\">\n",
       "                <div style=\"\n",
       "                    width: 24px;\n",
       "                    height: 24px;\n",
       "                    background-color: #e1e1e1;\n",
       "                    border: 3px solid #9D9D9D;\n",
       "                    border-radius: 5px;\n",
       "                    position: absolute;\"> </div>\n",
       "                <div style=\"margin-left: 48px;\">\n",
       "                    <h3 style=\"margin-bottom: 0px; margin-top: 0px;\">LocalCUDACluster</h3>\n",
       "                    <p style=\"color: #9D9D9D; margin-bottom: 0px;\">138fc2ed</p>\n",
       "                    <table style=\"width: 100%; text-align: left;\">\n",
       "                    \n",
       "            <tr>\n",
       "                <td style=\"text-align: left;\"><strong>Status:</strong> running</td>\n",
       "                <td style=\"text-align: left;\"><strong>Using processes:</strong> True</td>\n",
       "            </tr>\n",
       "        \n",
       "            <tr>\n",
       "                <td style=\"text-align: left;\">\n",
       "                    <strong>Dashboard:</strong> <a href=\"http://127.0.0.1:8787/status\">http://127.0.0.1:8787/status</a>\n",
       "                </td>\n",
       "                <td style=\"text-align: left;\"><strong>Workers:</strong> 1</td>\n",
       "            </tr>\n",
       "            <tr>\n",
       "                <td style=\"text-align: left;\">\n",
       "                    <strong>Total threads:</strong>\n",
       "                    1\n",
       "                </td>\n",
       "                <td style=\"text-align: left;\">\n",
       "                    <strong>Total memory:</strong>\n",
       "                    251.79 GiB\n",
       "                </td>\n",
       "            </tr>\n",
       "        \n",
       "                    </table>\n",
       "                    <details>\n",
       "                    <summary style=\"margin-bottom: 20px;\"><h3 style=\"display: inline;\">Scheduler Info</h3></summary>\n",
       "                    \n",
       "        <div style=\"\">\n",
       "            \n",
       "            <div>\n",
       "                <div style=\"\n",
       "                    width: 24px;\n",
       "                    height: 24px;\n",
       "                    background-color: #FFF7E5;\n",
       "                    border: 3px solid #FF6132;\n",
       "                    border-radius: 5px;\n",
       "                    position: absolute;\"> </div>\n",
       "                <div style=\"margin-left: 48px;\">\n",
       "                    <h3 style=\"margin-bottom: 0px;\">Scheduler</h3>\n",
       "                    <p style=\"color: #9D9D9D; margin-bottom: 0px;\">Scheduler-01cc46fb-56f5-414e-ab8b-5ade0af5cbeb</p>\n",
       "                    <table style=\"width: 100%; text-align: left;\">\n",
       "                        <tr>\n",
       "                            <td style=\"text-align: left;\"><strong>Comm:</strong> tcp://127.0.0.1:45697</td>\n",
       "                            <td style=\"text-align: left;\"><strong>Workers:</strong> 1</td>\n",
       "                        </tr>\n",
       "                        <tr>\n",
       "                            <td style=\"text-align: left;\">\n",
       "                                <strong>Dashboard:</strong> <a href=\"http://127.0.0.1:8787/status\">http://127.0.0.1:8787/status</a>\n",
       "                            </td>\n",
       "                            <td style=\"text-align: left;\">\n",
       "                                <strong>Total threads:</strong>\n",
       "                                1\n",
       "                            </td>\n",
       "                        </tr>\n",
       "                        <tr>\n",
       "                            <td style=\"text-align: left;\">\n",
       "                                <strong>Started:</strong>\n",
       "                                Just now\n",
       "                            </td>\n",
       "                            <td style=\"text-align: left;\">\n",
       "                                <strong>Total memory:</strong>\n",
       "                                251.79 GiB\n",
       "                            </td>\n",
       "                        </tr>\n",
       "                    </table>\n",
       "                </div>\n",
       "            </div>\n",
       "        \n",
       "            <details style=\"margin-left: 48px;\">\n",
       "            <summary style=\"margin-bottom: 20px;\"><h3 style=\"display: inline;\">Workers</h3></summary>\n",
       "            \n",
       "            <div style=\"margin-bottom: 20px;\">\n",
       "                <div style=\"width: 24px;\n",
       "                            height: 24px;\n",
       "                            background-color: #DBF5FF;\n",
       "                            border: 3px solid #4CC9FF;\n",
       "                            border-radius: 5px;\n",
       "                            position: absolute;\"> </div>\n",
       "                <div style=\"margin-left: 48px;\">\n",
       "                <details>\n",
       "                    <summary>\n",
       "                        <h4 style=\"margin-bottom: 0px; display: inline;\">Worker: 0</h4>\n",
       "                    </summary>\n",
       "                    <table style=\"width: 100%; text-align: left;\">\n",
       "                        <tr>\n",
       "                            <td style=\"text-align: left;\"><strong>Comm: </strong> tcp://127.0.0.1:35129</td>\n",
       "                            <td style=\"text-align: left;\"><strong>Total threads: </strong> 1</td>\n",
       "                        </tr>\n",
       "                        <tr>\n",
       "                            <td style=\"text-align: left;\">\n",
       "                                <strong>Dashboard: </strong>\n",
       "                                <a href=\"http://127.0.0.1:35313/status\">http://127.0.0.1:35313/status</a>\n",
       "                            </td>\n",
       "                            <td style=\"text-align: left;\">\n",
       "                                <strong>Memory: </strong>\n",
       "                                251.79 GiB\n",
       "                            </td>\n",
       "                        </tr>\n",
       "                        <tr>\n",
       "                            <td style=\"text-align: left;\"><strong>Nanny: </strong> tcp://127.0.0.1:45807</td>\n",
       "                            <td style=\"text-align: left;\"></td>\n",
       "                        </tr>\n",
       "                        <tr>\n",
       "                            <td colspan=\"2\" style=\"text-align: left;\">\n",
       "                                <strong>Local directory: </strong>\n",
       "                                /rapids/cuml/docs/source/dask-worker-space/worker-8q08_s91\n",
       "                            </td>\n",
       "                        </tr>\n",
       "                        \n",
       "                <tr>\n",
       "                    <td style=\"text-align: left;\">\n",
       "                        <strong>GPU: </strong>Tesla P100-PCIE-16GB\n",
       "                    </td>\n",
       "                    <td style=\"text-align: left;\">\n",
       "                        <strong>GPU memory: </strong>\n",
       "                        15.90 GiB\n",
       "                    </td>\n",
       "                </tr>\n",
       "                \n",
       "                        \n",
       "                    </table>\n",
       "                </details>\n",
       "                </div>\n",
       "            </div>\n",
       "            \n",
       "            </details>\n",
       "        </div>\n",
       "        \n",
       "                    </details>\n",
       "                </div>\n",
       "            </div>\n",
       "        \n",
       "                </details>\n",
       "                \n",
       "                </div>\n",
       "            </div>\n",
       "        "
      ],
      "text/plain": [
       "<Client: 'tcp://127.0.0.1:45697' processes=1 threads=1, memory=251.79 GiB>"
      ]
     },
     "execution_count": 7,
     "metadata": {},
     "output_type": "execute_result"
    }
   ],
   "source": [
    "from dask.distributed import Client\n",
    "from dask_cuda import LocalCUDACluster\n",
    "\n",
    "cluster = LocalCUDACluster()\n",
    "client = Client(cluster)\n",
    "client"
   ]
  },
  {
   "cell_type": "code",
   "execution_count": 8,
   "metadata": {
    "execution": {
     "iopub.execute_input": "2021-08-31T10:05:02.100831Z",
     "iopub.status.busy": "2021-08-31T10:05:02.099367Z",
     "iopub.status.idle": "2021-08-31T10:05:02.677979Z",
     "shell.execute_reply": "2021-08-31T10:05:02.676793Z"
    }
   },
   "outputs": [],
   "source": [
    "from cuml.dask.datasets import make_blobs\n",
    "\n",
    "n_workers = len(client.scheduler_info()[\"workers\"].keys())\n",
    "\n",
    "X, y = make_blobs(n_samples=5000, \n",
    "                  n_features=30,\n",
    "                  centers=5, \n",
    "                  cluster_std=0.4, \n",
    "                  random_state=0,\n",
    "                  n_parts=n_workers*5)\n",
    "\n",
    "X = X.persist()\n",
    "y = y.persist()"
   ]
  },
  {
   "cell_type": "code",
   "execution_count": 9,
   "metadata": {
    "execution": {
     "iopub.execute_input": "2021-08-31T10:05:02.687477Z",
     "iopub.status.busy": "2021-08-31T10:05:02.686070Z",
     "iopub.status.idle": "2021-08-31T10:05:02.697756Z",
     "shell.execute_reply": "2021-08-31T10:05:02.698659Z"
    }
   },
   "outputs": [],
   "source": [
    "from cuml.dask.cluster import KMeans\n",
    "\n",
    "dist_model = KMeans(n_clusters=5)"
   ]
  },
  {
   "cell_type": "code",
   "execution_count": 10,
   "metadata": {
    "execution": {
     "iopub.execute_input": "2021-08-31T10:05:02.709486Z",
     "iopub.status.busy": "2021-08-31T10:05:02.708341Z",
     "iopub.status.idle": "2021-08-31T10:05:05.803060Z",
     "shell.execute_reply": "2021-08-31T10:05:05.804297Z"
    }
   },
   "outputs": [
    {
     "data": {
      "text/plain": [
       "<cuml.dask.cluster.kmeans.KMeans at 0x7fb69c1f54d0>"
      ]
     },
     "execution_count": 10,
     "metadata": {},
     "output_type": "execute_result"
    }
   ],
   "source": [
    "dist_model.fit(X)"
   ]
  },
  {
   "cell_type": "code",
   "execution_count": 11,
   "metadata": {
    "execution": {
     "iopub.execute_input": "2021-08-31T10:05:05.815131Z",
     "iopub.status.busy": "2021-08-31T10:05:05.813699Z",
     "iopub.status.idle": "2021-08-31T10:05:05.831037Z",
     "shell.execute_reply": "2021-08-31T10:05:05.832159Z"
    }
   },
   "outputs": [],
   "source": [
    "import pickle\n",
    "\n",
    "single_gpu_model = dist_model.get_combined_model()\n",
    "pickle.dump(single_gpu_model, open(\"kmeans_model.pkl\", \"wb\"))"
   ]
  },
  {
   "cell_type": "code",
   "execution_count": 12,
   "metadata": {
    "execution": {
     "iopub.execute_input": "2021-08-31T10:05:05.841019Z",
     "iopub.status.busy": "2021-08-31T10:05:05.839464Z",
     "iopub.status.idle": "2021-08-31T10:05:05.845082Z",
     "shell.execute_reply": "2021-08-31T10:05:05.844028Z"
    }
   },
   "outputs": [],
   "source": [
    "single_gpu_model = pickle.load(open(\"kmeans_model.pkl\", \"rb\"))"
   ]
  },
  {
   "cell_type": "code",
   "execution_count": 13,
   "metadata": {
    "execution": {
     "iopub.execute_input": "2021-08-31T10:05:05.856006Z",
     "iopub.status.busy": "2021-08-31T10:05:05.854998Z",
     "iopub.status.idle": "2021-08-31T10:05:05.861392Z",
     "shell.execute_reply": "2021-08-31T10:05:05.860368Z"
    }
   },
   "outputs": [
    {
     "data": {
      "text/plain": [
       "array([[-2.8796391e+00,  4.4348779e+00, -4.4264827e+00,  2.3959138e+00,\n",
       "         1.7286434e+00, -2.4991992e+00, -5.1794524e+00, -1.6771441e+00,\n",
       "        -8.1329165e+00,  2.6659226e+00, -4.3131089e+00,  5.5827799e+00,\n",
       "        -5.7318311e+00, -1.7427168e+00, -9.3456116e+00,  7.1365547e-01,\n",
       "         4.4255505e+00, -2.9118373e+00, -4.9467440e+00,  9.6786423e+00,\n",
       "         8.4222775e+00, -6.2710242e+00, -6.3596501e+00,  1.9645511e+00,\n",
       "         4.1715999e+00, -9.1683645e+00,  4.6156683e+00,  8.7916517e+00,\n",
       "         6.8754430e+00,  2.2288744e+00],\n",
       "       [-6.9536948e+00, -9.7635899e+00, -6.5648255e+00, -4.3536147e-01,\n",
       "         6.0998120e+00,  3.7550368e+00, -3.9558544e+00,  6.1595516e+00,\n",
       "        -1.8599321e+00,  5.0400319e+00, -6.8397532e+00,  1.3435431e+00,\n",
       "         8.9749012e+00, -9.9621749e-01,  9.6651907e+00,  9.8009663e+00,\n",
       "        -8.6188374e+00,  5.9978371e+00,  2.2295933e+00, -3.6477711e+00,\n",
       "         7.0758505e+00, -7.3772259e+00, -5.3214207e+00, -6.9927964e+00,\n",
       "        -7.9296327e+00,  6.6705365e+00, -5.5850177e+00,  7.1526041e+00,\n",
       "         6.5703206e+00, -8.3389378e+00],\n",
       "       [ 4.8136697e+00,  8.3985271e+00, -9.2161255e+00,  9.4185524e+00,\n",
       "         8.5280838e+00, -1.0969980e+00,  3.3253169e+00, -7.8064370e+00,\n",
       "        -5.9660643e-01,  2.5423875e-01,  5.5004077e+00, -4.1162968e+00,\n",
       "         4.2832389e+00, -2.8173409e+00,  3.6207707e+00, -4.1576219e+00,\n",
       "        -3.6048706e+00,  6.2125401e+00, -6.9080987e+00, -1.0732133e+00,\n",
       "        -5.8362117e+00,  2.2357662e+00, -3.8588786e+00, -1.6835878e+00,\n",
       "        -5.3240366e+00,  7.5769196e+00,  2.9358525e+00,  8.5267382e+00,\n",
       "         1.5667245e+00,  1.0779670e+00],\n",
       "       [-4.6475387e+00, -9.5672169e+00,  6.6923523e+00,  4.4359245e+00,\n",
       "         2.1902723e+00,  2.5834756e+00,  5.9448916e-01,  6.2568660e+00,\n",
       "        -8.7821608e+00, -4.1232020e-01,  9.8151751e+00,  7.5641575e+00,\n",
       "         1.0003008e+01, -5.8680415e+00, -1.2743108e+00, -2.5393453e+00,\n",
       "        -1.0847496e+00, -5.2629209e+00, -9.3071012e+00,  4.6179376e+00,\n",
       "        -9.7068958e-02, -3.9351211e+00,  6.1767278e+00, -7.4346890e+00,\n",
       "         5.6496086e+00, -8.5544872e+00, -7.5265579e+00, -5.5195622e+00,\n",
       "         4.8197646e+00,  2.5235448e+00],\n",
       "       [ 6.2794285e+00,  9.2293949e+00,  8.3403702e+00,  9.0330544e+00,\n",
       "         7.6893501e+00, -9.9538207e-01, -6.2780752e+00,  1.3599334e+00,\n",
       "        -6.9744473e+00, -5.9463444e+00,  1.0695119e+00, -8.0422387e-03,\n",
       "         2.8183141e+00,  1.8317668e+00, -8.2557344e+00,  3.0514317e+00,\n",
       "        -8.4958038e+00,  9.7238493e+00, -7.7455077e+00,  3.4521697e+00,\n",
       "        -3.9248340e+00, -4.1106429e+00,  2.6693094e+00,  1.2985628e+00,\n",
       "         1.0421573e+00,  5.2490621e+00, -1.6496241e+00,  6.1451664e+00,\n",
       "        -6.9103332e+00, -9.6390305e+00]], dtype=float32)"
      ]
     },
     "execution_count": 13,
     "metadata": {},
     "output_type": "execute_result"
    }
   ],
   "source": [
    "single_gpu_model.cluster_centers_"
   ]
  },
  {
   "cell_type": "markdown",
   "metadata": {},
   "source": [
    "## Exporting cuML Random Forest models for inferencing on machines without GPUs"
   ]
  },
  {
   "cell_type": "markdown",
   "metadata": {},
   "source": [
    "Starting with cuML version 21.06, you can export cuML Random Forest models and run predictions with them on machines without an NVIDIA GPUs. The [Treelite](https://github.com/dmlc/treelite) package defines an efficient exchange format that lets you portably move the cuML Random Forest models to other machines. We will refer to the exchange format as \"checkpoints.\"\n",
    "\n",
    "Here are the steps to export the model:\n",
    "\n",
    "1. Call `to_treelite_checkpoint()` to obtain the checkpoint file from the cuML Random Forest model."
   ]
  },
  {
   "cell_type": "code",
   "execution_count": 14,
   "metadata": {
    "execution": {
     "iopub.execute_input": "2021-08-31T10:05:05.872255Z",
     "iopub.status.busy": "2021-08-31T10:05:05.871003Z",
     "iopub.status.idle": "2021-08-31T10:05:06.029349Z",
     "shell.execute_reply": "2021-08-31T10:05:06.030450Z"
    }
   },
   "outputs": [
    {
     "name": "stderr",
     "output_type": "stream",
     "text": [
      "/opt/conda/envs/rapids/lib/python3.7/site-packages/cuml/internals/api_decorators.py:794: UserWarning: For reproducible results in Random Forest Classifier or for almost reproducible results in Random Forest Regressor, n_streams==1 is recommended. If n_streams is > 1, results may vary due to stream/thread timing differences, even when random_state is set\n",
      "  return func(**kwargs)\n"
     ]
    }
   ],
   "source": [
    "from cuml.ensemble import RandomForestClassifier as cumlRandomForestClassifier\n",
    "from sklearn.datasets import load_iris\n",
    "import numpy as np\n",
    "\n",
    "X, y = load_iris(return_X_y=True)\n",
    "X, y = X.astype(np.float32), y.astype(np.int32)\n",
    "clf = cumlRandomForestClassifier(max_depth=3, random_state=0, n_estimators=10)\n",
    "clf.fit(X, y)\n",
    "\n",
    "checkpoint_path = './checkpoint.tl'\n",
    "# Export cuML RF model as Treelite checkpoint\n",
    "clf.convert_to_treelite_model().to_treelite_checkpoint(checkpoint_path)"
   ]
  },
  {
   "cell_type": "markdown",
   "metadata": {},
   "source": [
    "2. Copy the generated checkpoint file `checkpoint.tl` to another machine on which you'd like to run predictions.\n",
    "\n",
    "3. On the target machine, install Treelite by running `pip install treelite` or `conda install -c conda-forge treelite`. The machine does not need to have an NVIDIA GPUs and does not need to have cuML installed.\n",
    "\n",
    "4. You can now load the model from the checkpoint, by running the following on the target machine:"
   ]
  },
  {
   "cell_type": "code",
   "execution_count": 15,
   "metadata": {
    "execution": {
     "iopub.execute_input": "2021-08-31T10:05:06.035490Z",
     "iopub.status.busy": "2021-08-31T10:05:06.034271Z",
     "iopub.status.idle": "2021-08-31T10:05:06.054855Z",
     "shell.execute_reply": "2021-08-31T10:05:06.056038Z"
    }
   },
   "outputs": [
    {
     "name": "stdout",
     "output_type": "stream",
     "text": [
      "[[1.  0.  0. ]\n",
      " [1.  0.  0. ]\n",
      " [1.  0.  0. ]\n",
      " [1.  0.  0. ]\n",
      " [1.  0.  0. ]\n",
      " [1.  0.  0. ]\n",
      " [1.  0.  0. ]\n",
      " [1.  0.  0. ]\n",
      " [1.  0.  0. ]\n",
      " [1.  0.  0. ]\n",
      " [1.  0.  0. ]\n",
      " [1.  0.  0. ]\n",
      " [1.  0.  0. ]\n",
      " [1.  0.  0. ]\n",
      " [1.  0.  0. ]\n",
      " [1.  0.  0. ]\n",
      " [1.  0.  0. ]\n",
      " [1.  0.  0. ]\n",
      " [1.  0.  0. ]\n",
      " [1.  0.  0. ]\n",
      " [1.  0.  0. ]\n",
      " [1.  0.  0. ]\n",
      " [1.  0.  0. ]\n",
      " [1.  0.  0. ]\n",
      " [1.  0.  0. ]\n",
      " [1.  0.  0. ]\n",
      " [1.  0.  0. ]\n",
      " [1.  0.  0. ]\n",
      " [1.  0.  0. ]\n",
      " [1.  0.  0. ]\n",
      " [1.  0.  0. ]\n",
      " [1.  0.  0. ]\n",
      " [1.  0.  0. ]\n",
      " [1.  0.  0. ]\n",
      " [1.  0.  0. ]\n",
      " [1.  0.  0. ]\n",
      " [1.  0.  0. ]\n",
      " [1.  0.  0. ]\n",
      " [1.  0.  0. ]\n",
      " [1.  0.  0. ]\n",
      " [1.  0.  0. ]\n",
      " [1.  0.  0. ]\n",
      " [1.  0.  0. ]\n",
      " [1.  0.  0. ]\n",
      " [1.  0.  0. ]\n",
      " [1.  0.  0. ]\n",
      " [1.  0.  0. ]\n",
      " [1.  0.  0. ]\n",
      " [1.  0.  0. ]\n",
      " [1.  0.  0. ]\n",
      " [0.  1.  0. ]\n",
      " [0.  1.  0. ]\n",
      " [0.  0.5 0.5]\n",
      " [0.  1.  0. ]\n",
      " [0.  1.  0. ]\n",
      " [0.  1.  0. ]\n",
      " [0.  1.  0. ]\n",
      " [0.  0.8 0.2]\n",
      " [0.  1.  0. ]\n",
      " [0.  1.  0. ]\n",
      " [0.  1.  0. ]\n",
      " [0.  1.  0. ]\n",
      " [0.  1.  0. ]\n",
      " [0.  1.  0. ]\n",
      " [0.  1.  0. ]\n",
      " [0.  1.  0. ]\n",
      " [0.  1.  0. ]\n",
      " [0.  1.  0. ]\n",
      " [0.  1.  0. ]\n",
      " [0.  1.  0. ]\n",
      " [0.  0.5 0.5]\n",
      " [0.  1.  0. ]\n",
      " [0.  0.5 0.5]\n",
      " [0.  1.  0. ]\n",
      " [0.  1.  0. ]\n",
      " [0.  1.  0. ]\n",
      " [0.  0.8 0.2]\n",
      " [0.  0.3 0.7]\n",
      " [0.  1.  0. ]\n",
      " [0.  1.  0. ]\n",
      " [0.  1.  0. ]\n",
      " [0.  1.  0. ]\n",
      " [0.  1.  0. ]\n",
      " [0.  0.2 0.8]\n",
      " [0.  1.  0. ]\n",
      " [0.  1.  0. ]\n",
      " [0.  1.  0. ]\n",
      " [0.  1.  0. ]\n",
      " [0.  1.  0. ]\n",
      " [0.  1.  0. ]\n",
      " [0.  1.  0. ]\n",
      " [0.  1.  0. ]\n",
      " [0.  1.  0. ]\n",
      " [0.  1.  0. ]\n",
      " [0.  1.  0. ]\n",
      " [0.  1.  0. ]\n",
      " [0.  1.  0. ]\n",
      " [0.  1.  0. ]\n",
      " [0.  1.  0. ]\n",
      " [0.  1.  0. ]\n",
      " [0.  0.  1. ]\n",
      " [0.  0.  1. ]\n",
      " [0.  0.  1. ]\n",
      " [0.  0.  1. ]\n",
      " [0.  0.  1. ]\n",
      " [0.  0.  1. ]\n",
      " [0.  0.8 0.2]\n",
      " [0.  0.  1. ]\n",
      " [0.  0.  1. ]\n",
      " [0.  0.  1. ]\n",
      " [0.  0.  1. ]\n",
      " [0.  0.  1. ]\n",
      " [0.  0.  1. ]\n",
      " [0.  0.  1. ]\n",
      " [0.  0.  1. ]\n",
      " [0.  0.  1. ]\n",
      " [0.  0.  1. ]\n",
      " [0.  0.  1. ]\n",
      " [0.  0.  1. ]\n",
      " [0.  0.3 0.7]\n",
      " [0.  0.  1. ]\n",
      " [0.  0.1 0.9]\n",
      " [0.  0.  1. ]\n",
      " [0.  0.1 0.9]\n",
      " [0.  0.  1. ]\n",
      " [0.  0.  1. ]\n",
      " [0.  0.5 0.5]\n",
      " [0.  0.1 0.9]\n",
      " [0.  0.  1. ]\n",
      " [0.  0.1 0.9]\n",
      " [0.  0.  1. ]\n",
      " [0.  0.  1. ]\n",
      " [0.  0.  1. ]\n",
      " [0.  0.2 0.8]\n",
      " [0.  0.1 0.9]\n",
      " [0.  0.  1. ]\n",
      " [0.  0.  1. ]\n",
      " [0.  0.  1. ]\n",
      " [0.  0.5 0.5]\n",
      " [0.  0.  1. ]\n",
      " [0.  0.  1. ]\n",
      " [0.  0.  1. ]\n",
      " [0.  0.  1. ]\n",
      " [0.  0.  1. ]\n",
      " [0.  0.  1. ]\n",
      " [0.  0.  1. ]\n",
      " [0.  0.  1. ]\n",
      " [0.  0.  1. ]\n",
      " [0.  0.  1. ]\n",
      " [0.  0.  1. ]]\n"
     ]
    }
   ],
   "source": [
    "import treelite\n",
    "\n",
    "# The checkpoint file has been copied over\n",
    "checkpoint_path = './checkpoint.tl'\n",
    "tl_model = treelite.Model.deserialize(checkpoint_path)\n",
    "out_prob = treelite.gtil.predict(tl_model, X, pred_margin=True)\n",
    "print(out_prob)"
   ]
  }
 ],
 "metadata": {
  "kernelspec": {
   "display_name": "Python 3",
   "language": "python",
   "name": "python3"
  },
  "language_info": {
   "codemirror_mode": {
    "name": "ipython",
    "version": 3
   },
   "file_extension": ".py",
   "mimetype": "text/x-python",
   "name": "python",
   "nbconvert_exporter": "python",
   "pygments_lexer": "ipython3",
   "version": "3.7.10"
  }
 },
 "nbformat": 4,
 "nbformat_minor": 4
}
