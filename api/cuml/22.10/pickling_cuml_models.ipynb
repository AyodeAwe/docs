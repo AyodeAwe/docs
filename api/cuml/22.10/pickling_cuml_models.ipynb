{
 "cells": [
  {
   "cell_type": "markdown",
   "metadata": {},
   "source": [
    "# Pickling cuML Models for Persistence\n",
    "\n",
    "This notebook demonstrates simple pickling of both single-GPU and multi-GPU cuML models for persistence"
   ]
  },
  {
   "cell_type": "code",
   "execution_count": 1,
   "metadata": {
    "execution": {
     "iopub.execute_input": "2022-08-19T11:28:14.795792Z",
     "iopub.status.busy": "2022-08-19T11:28:14.795181Z",
     "iopub.status.idle": "2022-08-19T11:28:14.810230Z",
     "shell.execute_reply": "2022-08-19T11:28:14.809417Z"
    }
   },
   "outputs": [],
   "source": [
    "import warnings\n",
    "warnings.filterwarnings(\"ignore\", category=FutureWarning)"
   ]
  },
  {
   "cell_type": "markdown",
   "metadata": {},
   "source": [
    "## Single GPU Model Pickling\n",
    "\n",
    "All single-GPU estimators are pickleable. The following example demonstrates the creation of a synthetic dataset, training, and pickling of the resulting model for storage. Trained single-GPU models can also be used to distribute the inference on a Dask cluster, which the `Distributed Model Pickling` section below demonstrates."
   ]
  },
  {
   "cell_type": "code",
   "execution_count": 2,
   "metadata": {
    "execution": {
     "iopub.execute_input": "2022-08-19T11:28:14.815077Z",
     "iopub.status.busy": "2022-08-19T11:28:14.814750Z",
     "iopub.status.idle": "2022-08-19T11:28:21.983943Z",
     "shell.execute_reply": "2022-08-19T11:28:21.982604Z"
    }
   },
   "outputs": [],
   "source": [
    "from cuml.datasets import make_blobs\n",
    "\n",
    "X, y = make_blobs(n_samples=50,\n",
    "                  n_features=10,\n",
    "                  centers=5,\n",
    "                  cluster_std=0.4,\n",
    "                  random_state=0)"
   ]
  },
  {
   "cell_type": "code",
   "execution_count": 3,
   "metadata": {
    "execution": {
     "iopub.execute_input": "2022-08-19T11:28:21.990756Z",
     "iopub.status.busy": "2022-08-19T11:28:21.990408Z",
     "iopub.status.idle": "2022-08-19T11:28:22.266308Z",
     "shell.execute_reply": "2022-08-19T11:28:22.265510Z"
    }
   },
   "outputs": [
    {
     "data": {
      "text/plain": [
       "KMeans()"
      ]
     },
     "execution_count": 3,
     "metadata": {},
     "output_type": "execute_result"
    }
   ],
   "source": [
    "from cuml.cluster import KMeans\n",
    "\n",
    "model = KMeans(n_clusters=5)\n",
    "\n",
    "model.fit(X)"
   ]
  },
  {
   "cell_type": "code",
   "execution_count": 4,
   "metadata": {
    "execution": {
     "iopub.execute_input": "2022-08-19T11:28:22.272399Z",
     "iopub.status.busy": "2022-08-19T11:28:22.272115Z",
     "iopub.status.idle": "2022-08-19T11:28:22.277920Z",
     "shell.execute_reply": "2022-08-19T11:28:22.276975Z"
    }
   },
   "outputs": [],
   "source": [
    "import pickle\n",
    "\n",
    "pickle.dump(model, open(\"kmeans_model.pkl\", \"wb\"))"
   ]
  },
  {
   "cell_type": "code",
   "execution_count": 5,
   "metadata": {
    "execution": {
     "iopub.execute_input": "2022-08-19T11:28:22.283415Z",
     "iopub.status.busy": "2022-08-19T11:28:22.283057Z",
     "iopub.status.idle": "2022-08-19T11:28:22.289182Z",
     "shell.execute_reply": "2022-08-19T11:28:22.288273Z"
    }
   },
   "outputs": [],
   "source": [
    "model = pickle.load(open(\"kmeans_model.pkl\", \"rb\"))"
   ]
  },
  {
   "cell_type": "code",
   "execution_count": 6,
   "metadata": {
    "execution": {
     "iopub.execute_input": "2022-08-19T11:28:22.293691Z",
     "iopub.status.busy": "2022-08-19T11:28:22.293188Z",
     "iopub.status.idle": "2022-08-19T11:28:22.302027Z",
     "shell.execute_reply": "2022-08-19T11:28:22.301016Z"
    }
   },
   "outputs": [
    {
     "data": {
      "text/plain": [
       "array([[ 4.6749854 ,  8.213466  , -9.075721  ,  9.568374  ,  8.454808  ,\n",
       "        -1.2327975 ,  3.3903713 , -7.828242  , -0.8454461 ,  0.62885725],\n",
       "       [-4.2439985 ,  5.6107073 , -5.669777  , -1.7957245 , -9.255528  ,\n",
       "         0.7177438 ,  4.4435906 , -2.8747153 , -5.090096  ,  9.684121  ],\n",
       "       [ 5.2615476 , -4.0487256 ,  4.464928  , -2.9367518 ,  3.5061095 ,\n",
       "        -4.0168314 , -3.463885  ,  6.0784483 , -6.953326  , -1.004144  ],\n",
       "       [-3.008261  ,  4.625961  , -4.4832497 ,  2.228457  ,  1.643532  ,\n",
       "        -2.4505193 , -5.258201  , -1.6679401 , -7.985754  ,  2.8311467 ],\n",
       "       [-5.6072407 ,  2.2695985 , -3.7516537 , -1.8182003 , -5.143028  ,\n",
       "         7.599363  ,  2.8252366 ,  8.773042  ,  1.6198314 ,  1.1772048 ]],\n",
       "      dtype=float32)"
      ]
     },
     "execution_count": 6,
     "metadata": {},
     "output_type": "execute_result"
    }
   ],
   "source": [
    "model.cluster_centers_"
   ]
  },
  {
   "cell_type": "markdown",
   "metadata": {},
   "source": [
    "## Distributed Model Pickling"
   ]
  },
  {
   "cell_type": "markdown",
   "metadata": {},
   "source": [
    "The distributed estimator wrappers inside of the `cuml.dask` are not intended to be pickled directly. The Dask cuML estimators provide a function `get_combined_model()`, which returns the trained single-GPU model for pickling. The combined model can be used for inference on a single-GPU, and the `ParallelPostFit` wrapper from the [Dask-ML](https://ml.dask.org/meta-estimators.html) library can be used to perform distributed inference on a Dask cluster."
   ]
  },
  {
   "cell_type": "code",
   "execution_count": 7,
   "metadata": {
    "execution": {
     "iopub.execute_input": "2022-08-19T11:28:22.307036Z",
     "iopub.status.busy": "2022-08-19T11:28:22.306658Z",
     "iopub.status.idle": "2022-08-19T11:28:26.279502Z",
     "shell.execute_reply": "2022-08-19T11:28:26.278558Z"
    }
   },
   "outputs": [
    {
     "name": "stderr",
     "output_type": "stream",
     "text": [
      "2022-08-19 11:28:25,721 - distributed.preloading - INFO - Creating preload: dask_cuda.initialize\n",
      "2022-08-19 11:28:25,721 - distributed.preloading - INFO - Import preload module: dask_cuda.initialize\n"
     ]
    },
    {
     "data": {
      "text/html": [
       "<div>\n",
       "    <div style=\"width: 24px; height: 24px; background-color: #e1e1e1; border: 3px solid #9D9D9D; border-radius: 5px; position: absolute;\"> </div>\n",
       "    <div style=\"margin-left: 48px;\">\n",
       "        <h3 style=\"margin-bottom: 0px;\">Client</h3>\n",
       "        <p style=\"color: #9D9D9D; margin-bottom: 0px;\">Client-0aaac76b-1fb2-11ed-903e-0242ac110007</p>\n",
       "        <table style=\"width: 100%; text-align: left;\">\n",
       "\n",
       "        <tr>\n",
       "        \n",
       "            <td style=\"text-align: left;\"><strong>Connection method:</strong> Cluster object</td>\n",
       "            <td style=\"text-align: left;\"><strong>Cluster type:</strong> dask_cuda.LocalCUDACluster</td>\n",
       "        \n",
       "        </tr>\n",
       "\n",
       "        \n",
       "            <tr>\n",
       "                <td style=\"text-align: left;\">\n",
       "                    <strong>Dashboard: </strong> <a href=\"http://127.0.0.1:8787/status\" target=\"_blank\">http://127.0.0.1:8787/status</a>\n",
       "                </td>\n",
       "                <td style=\"text-align: left;\"></td>\n",
       "            </tr>\n",
       "        \n",
       "\n",
       "        </table>\n",
       "\n",
       "        \n",
       "            <details>\n",
       "            <summary style=\"margin-bottom: 20px;\"><h3 style=\"display: inline;\">Cluster Info</h3></summary>\n",
       "            <div class=\"jp-RenderedHTMLCommon jp-RenderedHTML jp-mod-trusted jp-OutputArea-output\">\n",
       "    <div style=\"width: 24px; height: 24px; background-color: #e1e1e1; border: 3px solid #9D9D9D; border-radius: 5px; position: absolute;\">\n",
       "    </div>\n",
       "    <div style=\"margin-left: 48px;\">\n",
       "        <h3 style=\"margin-bottom: 0px; margin-top: 0px;\">LocalCUDACluster</h3>\n",
       "        <p style=\"color: #9D9D9D; margin-bottom: 0px;\">14375c8b</p>\n",
       "        <table style=\"width: 100%; text-align: left;\">\n",
       "            <tr>\n",
       "                <td style=\"text-align: left;\">\n",
       "                    <strong>Dashboard:</strong> <a href=\"http://127.0.0.1:8787/status\" target=\"_blank\">http://127.0.0.1:8787/status</a>\n",
       "                </td>\n",
       "                <td style=\"text-align: left;\">\n",
       "                    <strong>Workers:</strong> 1\n",
       "                </td>\n",
       "            </tr>\n",
       "            <tr>\n",
       "                <td style=\"text-align: left;\">\n",
       "                    <strong>Total threads:</strong> 1\n",
       "                </td>\n",
       "                <td style=\"text-align: left;\">\n",
       "                    <strong>Total memory:</strong> 251.79 GiB\n",
       "                </td>\n",
       "            </tr>\n",
       "            \n",
       "            <tr>\n",
       "    <td style=\"text-align: left;\"><strong>Status:</strong> running</td>\n",
       "    <td style=\"text-align: left;\"><strong>Using processes:</strong> True</td>\n",
       "</tr>\n",
       "\n",
       "            \n",
       "        </table>\n",
       "\n",
       "        <details>\n",
       "            <summary style=\"margin-bottom: 20px;\">\n",
       "                <h3 style=\"display: inline;\">Scheduler Info</h3>\n",
       "            </summary>\n",
       "\n",
       "            <div style=\"\">\n",
       "    <div>\n",
       "        <div style=\"width: 24px; height: 24px; background-color: #FFF7E5; border: 3px solid #FF6132; border-radius: 5px; position: absolute;\"> </div>\n",
       "        <div style=\"margin-left: 48px;\">\n",
       "            <h3 style=\"margin-bottom: 0px;\">Scheduler</h3>\n",
       "            <p style=\"color: #9D9D9D; margin-bottom: 0px;\">Scheduler-a5f8910f-0fb6-4550-a8d8-02e21d17eb2a</p>\n",
       "            <table style=\"width: 100%; text-align: left;\">\n",
       "                <tr>\n",
       "                    <td style=\"text-align: left;\">\n",
       "                        <strong>Comm:</strong> tcp://127.0.0.1:43465\n",
       "                    </td>\n",
       "                    <td style=\"text-align: left;\">\n",
       "                        <strong>Workers:</strong> 1\n",
       "                    </td>\n",
       "                </tr>\n",
       "                <tr>\n",
       "                    <td style=\"text-align: left;\">\n",
       "                        <strong>Dashboard:</strong> <a href=\"http://127.0.0.1:8787/status\" target=\"_blank\">http://127.0.0.1:8787/status</a>\n",
       "                    </td>\n",
       "                    <td style=\"text-align: left;\">\n",
       "                        <strong>Total threads:</strong> 1\n",
       "                    </td>\n",
       "                </tr>\n",
       "                <tr>\n",
       "                    <td style=\"text-align: left;\">\n",
       "                        <strong>Started:</strong> Just now\n",
       "                    </td>\n",
       "                    <td style=\"text-align: left;\">\n",
       "                        <strong>Total memory:</strong> 251.79 GiB\n",
       "                    </td>\n",
       "                </tr>\n",
       "            </table>\n",
       "        </div>\n",
       "    </div>\n",
       "\n",
       "    <details style=\"margin-left: 48px;\">\n",
       "        <summary style=\"margin-bottom: 20px;\">\n",
       "            <h3 style=\"display: inline;\">Workers</h3>\n",
       "        </summary>\n",
       "\n",
       "        \n",
       "        <div style=\"margin-bottom: 20px;\">\n",
       "            <div style=\"width: 24px; height: 24px; background-color: #DBF5FF; border: 3px solid #4CC9FF; border-radius: 5px; position: absolute;\"> </div>\n",
       "            <div style=\"margin-left: 48px;\">\n",
       "            <details>\n",
       "                <summary>\n",
       "                    <h4 style=\"margin-bottom: 0px; display: inline;\">Worker: 0</h4>\n",
       "                </summary>\n",
       "                <table style=\"width: 100%; text-align: left;\">\n",
       "                    <tr>\n",
       "                        <td style=\"text-align: left;\">\n",
       "                            <strong>Comm: </strong> tcp://127.0.0.1:43953\n",
       "                        </td>\n",
       "                        <td style=\"text-align: left;\">\n",
       "                            <strong>Total threads: </strong> 1\n",
       "                        </td>\n",
       "                    </tr>\n",
       "                    <tr>\n",
       "                        <td style=\"text-align: left;\">\n",
       "                            <strong>Dashboard: </strong> <a href=\"http://127.0.0.1:44409/status\" target=\"_blank\">http://127.0.0.1:44409/status</a>\n",
       "                        </td>\n",
       "                        <td style=\"text-align: left;\">\n",
       "                            <strong>Memory: </strong> 251.79 GiB\n",
       "                        </td>\n",
       "                    </tr>\n",
       "                    <tr>\n",
       "                        <td style=\"text-align: left;\">\n",
       "                            <strong>Nanny: </strong> tcp://127.0.0.1:33557\n",
       "                        </td>\n",
       "                        <td style=\"text-align: left;\"></td>\n",
       "                    </tr>\n",
       "                    <tr>\n",
       "                        <td colspan=\"2\" style=\"text-align: left;\">\n",
       "                            <strong>Local directory: </strong> /tmp/dask-worker-space/worker-b080svyz\n",
       "                        </td>\n",
       "                    </tr>\n",
       "\n",
       "                    \n",
       "                    <tr>\n",
       "                        <td style=\"text-align: left;\">\n",
       "                            <strong>GPU: </strong>Tesla V100-PCIE-32GB\n",
       "                        </td>\n",
       "                        <td style=\"text-align: left;\">\n",
       "                            <strong>GPU memory: </strong> 31.75 GiB\n",
       "                        </td>\n",
       "                    </tr>\n",
       "                    \n",
       "\n",
       "                    \n",
       "\n",
       "                </table>\n",
       "            </details>\n",
       "            </div>\n",
       "        </div>\n",
       "        \n",
       "\n",
       "    </details>\n",
       "</div>\n",
       "\n",
       "        </details>\n",
       "    </div>\n",
       "</div>\n",
       "            </details>\n",
       "        \n",
       "\n",
       "    </div>\n",
       "</div>"
      ],
      "text/plain": [
       "<Client: 'tcp://127.0.0.1:43465' processes=1 threads=1, memory=251.79 GiB>"
      ]
     },
     "execution_count": 7,
     "metadata": {},
     "output_type": "execute_result"
    }
   ],
   "source": [
    "from dask.distributed import Client\n",
    "from dask_cuda import LocalCUDACluster\n",
    "\n",
    "cluster = LocalCUDACluster()\n",
    "client = Client(cluster)\n",
    "client"
   ]
  },
  {
   "cell_type": "code",
   "execution_count": 8,
   "metadata": {
    "execution": {
     "iopub.execute_input": "2022-08-19T11:28:26.285893Z",
     "iopub.status.busy": "2022-08-19T11:28:26.285427Z",
     "iopub.status.idle": "2022-08-19T11:28:27.205619Z",
     "shell.execute_reply": "2022-08-19T11:28:27.204079Z"
    }
   },
   "outputs": [],
   "source": [
    "from cuml.dask.datasets import make_blobs\n",
    "\n",
    "n_workers = len(client.scheduler_info()[\"workers\"].keys())\n",
    "\n",
    "X, y = make_blobs(n_samples=5000, \n",
    "                  n_features=30,\n",
    "                  centers=5, \n",
    "                  cluster_std=0.4, \n",
    "                  random_state=0,\n",
    "                  n_parts=n_workers*5)\n",
    "\n",
    "X = X.persist()\n",
    "y = y.persist()"
   ]
  },
  {
   "cell_type": "code",
   "execution_count": 9,
   "metadata": {
    "execution": {
     "iopub.execute_input": "2022-08-19T11:28:27.212596Z",
     "iopub.status.busy": "2022-08-19T11:28:27.211787Z",
     "iopub.status.idle": "2022-08-19T11:28:27.217844Z",
     "shell.execute_reply": "2022-08-19T11:28:27.216890Z"
    }
   },
   "outputs": [],
   "source": [
    "from cuml.dask.cluster import KMeans\n",
    "\n",
    "dist_model = KMeans(n_clusters=5)"
   ]
  },
  {
   "cell_type": "code",
   "execution_count": 10,
   "metadata": {
    "execution": {
     "iopub.execute_input": "2022-08-19T11:28:27.225660Z",
     "iopub.status.busy": "2022-08-19T11:28:27.224636Z",
     "iopub.status.idle": "2022-08-19T11:28:33.517663Z",
     "shell.execute_reply": "2022-08-19T11:28:33.515876Z"
    }
   },
   "outputs": [
    {
     "name": "stderr",
     "output_type": "stream",
     "text": [
      "2022-08-19 11:28:33,148 - distributed.worker - WARNING - Compute Failed\n",
      "Key:       _get_model_attr-ff2c6f0c-51e0-4368-b96d-e8bb4ebd3e3c\n",
      "Function:  _get_model_attr\n",
      "args:      (KMeansMG(), '_ipython_canary_method_should_not_exist_')\n",
      "kwargs:    {}\n",
      "Exception: 'AttributeError(\"Attribute _ipython_canary_method_should_not_exist_ does not exist on model <class \\'cuml.cluster.kmeans_mg.KMeansMG\\'>\")'\n",
      "\n",
      "2022-08-19 11:28:33,170 - distributed.worker - WARNING - Compute Failed\n",
      "Key:       _get_model_attr-de1145a2-03eb-4874-862b-274d31740466\n",
      "Function:  _get_model_attr\n",
      "args:      (KMeansMG(), '_ipython_display_')\n",
      "kwargs:    {}\n",
      "Exception: 'AttributeError(\"Attribute _ipython_display_ does not exist on model <class \\'cuml.cluster.kmeans_mg.KMeansMG\\'>\")'\n",
      "\n",
      "2022-08-19 11:28:33,188 - distributed.worker - WARNING - Compute Failed\n",
      "Key:       _get_model_attr-de450df7-70d0-4a84-af4d-5a8213876737\n",
      "Function:  _get_model_attr\n",
      "args:      (KMeansMG(), '_ipython_canary_method_should_not_exist_')\n",
      "kwargs:    {}\n",
      "Exception: 'AttributeError(\"Attribute _ipython_canary_method_should_not_exist_ does not exist on model <class \\'cuml.cluster.kmeans_mg.KMeansMG\\'>\")'\n",
      "\n",
      "2022-08-19 11:28:33,206 - distributed.worker - WARNING - Compute Failed\n",
      "Key:       _get_model_attr-bf9d640b-1b06-4466-9710-db3222f5d68a\n",
      "Function:  _get_model_attr\n",
      "args:      (KMeansMG(), '_repr_mimebundle_')\n",
      "kwargs:    {}\n",
      "Exception: 'AttributeError(\"Attribute _repr_mimebundle_ does not exist on model <class \\'cuml.cluster.kmeans_mg.KMeansMG\\'>\")'\n",
      "\n",
      "2022-08-19 11:28:33,223 - distributed.worker - WARNING - Compute Failed\n",
      "Key:       _get_model_attr-bfd991cc-efd5-462f-b346-0c0ae0a2bd5d\n",
      "Function:  _get_model_attr\n",
      "args:      (KMeansMG(), '_ipython_canary_method_should_not_exist_')\n",
      "kwargs:    {}\n",
      "Exception: 'AttributeError(\"Attribute _ipython_canary_method_should_not_exist_ does not exist on model <class \\'cuml.cluster.kmeans_mg.KMeansMG\\'>\")'\n",
      "\n",
      "2022-08-19 11:28:33,243 - distributed.worker - WARNING - Compute Failed\n",
      "Key:       _get_model_attr-19265334-501c-4d12-a216-8a66c995eeda\n",
      "Function:  _get_model_attr\n",
      "args:      (KMeansMG(), '_repr_html_')\n",
      "kwargs:    {}\n",
      "Exception: 'AttributeError(\"Attribute _repr_html_ does not exist on model <class \\'cuml.cluster.kmeans_mg.KMeansMG\\'>\")'\n",
      "\n",
      "2022-08-19 11:28:33,255 - distributed.worker - WARNING - Compute Failed\n",
      "Key:       _get_model_attr-269e7c54-98c3-40c0-b7c5-04f16ca75422\n",
      "Function:  _get_model_attr\n",
      "args:      (KMeansMG(), '_ipython_canary_method_should_not_exist_')\n",
      "kwargs:    {}\n",
      "Exception: 'AttributeError(\"Attribute _ipython_canary_method_should_not_exist_ does not exist on model <class \\'cuml.cluster.kmeans_mg.KMeansMG\\'>\")'\n",
      "\n",
      "2022-08-19 11:28:33,267 - distributed.worker - WARNING - Compute Failed\n",
      "Key:       _get_model_attr-9aed091a-5a06-46d9-8195-bd3b38aa99bf\n",
      "Function:  _get_model_attr\n",
      "args:      (KMeansMG(), '_repr_markdown_')\n",
      "kwargs:    {}\n",
      "Exception: 'AttributeError(\"Attribute _repr_markdown_ does not exist on model <class \\'cuml.cluster.kmeans_mg.KMeansMG\\'>\")'\n",
      "\n",
      "2022-08-19 11:28:33,282 - distributed.worker - WARNING - Compute Failed\n",
      "Key:       _get_model_attr-4fe2f707-1e9e-42c6-affa-2a7bc8adf446\n",
      "Function:  _get_model_attr\n",
      "args:      (KMeansMG(), '_ipython_canary_method_should_not_exist_')\n",
      "kwargs:    {}\n",
      "Exception: 'AttributeError(\"Attribute _ipython_canary_method_should_not_exist_ does not exist on model <class \\'cuml.cluster.kmeans_mg.KMeansMG\\'>\")'\n",
      "\n",
      "2022-08-19 11:28:33,302 - distributed.worker - WARNING - Compute Failed\n",
      "Key:       _get_model_attr-d0766d7d-6dfe-4072-b837-dcd9f0720361\n",
      "Function:  _get_model_attr\n",
      "args:      (KMeansMG(), '_repr_svg_')\n",
      "kwargs:    {}\n",
      "Exception: 'AttributeError(\"Attribute _repr_svg_ does not exist on model <class \\'cuml.cluster.kmeans_mg.KMeansMG\\'>\")'\n",
      "\n",
      "2022-08-19 11:28:33,324 - distributed.worker - WARNING - Compute Failed\n",
      "Key:       _get_model_attr-aa4e18de-812d-4ff6-a302-5099c6505f3d\n",
      "Function:  _get_model_attr\n",
      "args:      (KMeansMG(), '_ipython_canary_method_should_not_exist_')\n",
      "kwargs:    {}\n",
      "Exception: 'AttributeError(\"Attribute _ipython_canary_method_should_not_exist_ does not exist on model <class \\'cuml.cluster.kmeans_mg.KMeansMG\\'>\")'\n",
      "\n",
      "2022-08-19 11:28:33,345 - distributed.worker - WARNING - Compute Failed\n",
      "Key:       _get_model_attr-26f4afac-8cd6-47c3-8e26-4ba3e509532b\n",
      "Function:  _get_model_attr\n",
      "args:      (KMeansMG(), '_repr_png_')\n",
      "kwargs:    {}\n",
      "Exception: 'AttributeError(\"Attribute _repr_png_ does not exist on model <class \\'cuml.cluster.kmeans_mg.KMeansMG\\'>\")'\n",
      "\n"
     ]
    },
    {
     "name": "stderr",
     "output_type": "stream",
     "text": [
      "2022-08-19 11:28:33,359 - distributed.worker - WARNING - Compute Failed\n",
      "Key:       _get_model_attr-fda2ee2c-f689-4dd9-91da-f500c3186eb1\n",
      "Function:  _get_model_attr\n",
      "args:      (KMeansMG(), '_ipython_canary_method_should_not_exist_')\n",
      "kwargs:    {}\n",
      "Exception: 'AttributeError(\"Attribute _ipython_canary_method_should_not_exist_ does not exist on model <class \\'cuml.cluster.kmeans_mg.KMeansMG\\'>\")'\n",
      "\n",
      "2022-08-19 11:28:33,373 - distributed.worker - WARNING - Compute Failed\n",
      "Key:       _get_model_attr-75997d69-1fcc-45fb-aff4-04351c84ab96\n",
      "Function:  _get_model_attr\n",
      "args:      (KMeansMG(), '_repr_pdf_')\n",
      "kwargs:    {}\n",
      "Exception: 'AttributeError(\"Attribute _repr_pdf_ does not exist on model <class \\'cuml.cluster.kmeans_mg.KMeansMG\\'>\")'\n",
      "\n",
      "2022-08-19 11:28:33,386 - distributed.worker - WARNING - Compute Failed\n",
      "Key:       _get_model_attr-384edb89-c0a9-4cf9-a5e9-3f33a0885238\n",
      "Function:  _get_model_attr\n",
      "args:      (KMeansMG(), '_ipython_canary_method_should_not_exist_')\n",
      "kwargs:    {}\n",
      "Exception: 'AttributeError(\"Attribute _ipython_canary_method_should_not_exist_ does not exist on model <class \\'cuml.cluster.kmeans_mg.KMeansMG\\'>\")'\n",
      "\n",
      "2022-08-19 11:28:33,409 - distributed.worker - WARNING - Compute Failed\n",
      "Key:       _get_model_attr-b2baa8aa-5b11-4584-9a90-29a41dfb5df1\n",
      "Function:  _get_model_attr\n",
      "args:      (KMeansMG(), '_repr_jpeg_')\n",
      "kwargs:    {}\n",
      "Exception: 'AttributeError(\"Attribute _repr_jpeg_ does not exist on model <class \\'cuml.cluster.kmeans_mg.KMeansMG\\'>\")'\n",
      "\n",
      "2022-08-19 11:28:33,430 - distributed.worker - WARNING - Compute Failed\n",
      "Key:       _get_model_attr-546a4dfe-5cbd-4eda-8a1d-c816f953ffb3\n",
      "Function:  _get_model_attr\n",
      "args:      (KMeansMG(), '_ipython_canary_method_should_not_exist_')\n",
      "kwargs:    {}\n",
      "Exception: 'AttributeError(\"Attribute _ipython_canary_method_should_not_exist_ does not exist on model <class \\'cuml.cluster.kmeans_mg.KMeansMG\\'>\")'\n",
      "\n",
      "2022-08-19 11:28:33,443 - distributed.worker - WARNING - Compute Failed\n",
      "Key:       _get_model_attr-2eafc8b5-a04f-4e93-9fed-e8126842a307\n",
      "Function:  _get_model_attr\n",
      "args:      (KMeansMG(), '_repr_latex_')\n",
      "kwargs:    {}\n",
      "Exception: 'AttributeError(\"Attribute _repr_latex_ does not exist on model <class \\'cuml.cluster.kmeans_mg.KMeansMG\\'>\")'\n",
      "\n",
      "2022-08-19 11:28:33,456 - distributed.worker - WARNING - Compute Failed\n",
      "Key:       _get_model_attr-fe6a842f-302b-452b-87b0-ab4f9ae95133\n",
      "Function:  _get_model_attr\n",
      "args:      (KMeansMG(), '_ipython_canary_method_should_not_exist_')\n",
      "kwargs:    {}\n",
      "Exception: 'AttributeError(\"Attribute _ipython_canary_method_should_not_exist_ does not exist on model <class \\'cuml.cluster.kmeans_mg.KMeansMG\\'>\")'\n",
      "\n",
      "2022-08-19 11:28:33,470 - distributed.worker - WARNING - Compute Failed\n",
      "Key:       _get_model_attr-984a4456-e492-4a7d-b25e-bc22d4e06c32\n",
      "Function:  _get_model_attr\n",
      "args:      (KMeansMG(), '_repr_json_')\n",
      "kwargs:    {}\n",
      "Exception: 'AttributeError(\"Attribute _repr_json_ does not exist on model <class \\'cuml.cluster.kmeans_mg.KMeansMG\\'>\")'\n",
      "\n",
      "2022-08-19 11:28:33,490 - distributed.worker - WARNING - Compute Failed\n",
      "Key:       _get_model_attr-015c030f-b579-4075-a1fc-2eec2a001c4b\n",
      "Function:  _get_model_attr\n",
      "args:      (KMeansMG(), '_ipython_canary_method_should_not_exist_')\n",
      "kwargs:    {}\n",
      "Exception: 'AttributeError(\"Attribute _ipython_canary_method_should_not_exist_ does not exist on model <class \\'cuml.cluster.kmeans_mg.KMeansMG\\'>\")'\n",
      "\n",
      "2022-08-19 11:28:33,505 - distributed.worker - WARNING - Compute Failed\n",
      "Key:       _get_model_attr-ceed6b76-a773-4c99-9346-636d0db199bc\n",
      "Function:  _get_model_attr\n",
      "args:      (KMeansMG(), '_repr_javascript_')\n",
      "kwargs:    {}\n",
      "Exception: 'AttributeError(\"Attribute _repr_javascript_ does not exist on model <class \\'cuml.cluster.kmeans_mg.KMeansMG\\'>\")'\n",
      "\n"
     ]
    },
    {
     "data": {
      "text/plain": [
       "<cuml.dask.cluster.kmeans.KMeans at 0x7f77a37546d0>"
      ]
     },
     "execution_count": 10,
     "metadata": {},
     "output_type": "execute_result"
    }
   ],
   "source": [
    "dist_model.fit(X)"
   ]
  },
  {
   "cell_type": "code",
   "execution_count": 11,
   "metadata": {
    "execution": {
     "iopub.execute_input": "2022-08-19T11:28:33.525507Z",
     "iopub.status.busy": "2022-08-19T11:28:33.524796Z",
     "iopub.status.idle": "2022-08-19T11:28:33.545614Z",
     "shell.execute_reply": "2022-08-19T11:28:33.544473Z"
    }
   },
   "outputs": [],
   "source": [
    "import pickle\n",
    "\n",
    "single_gpu_model = dist_model.get_combined_model()\n",
    "pickle.dump(single_gpu_model, open(\"kmeans_model.pkl\", \"wb\"))"
   ]
  },
  {
   "cell_type": "code",
   "execution_count": 12,
   "metadata": {
    "execution": {
     "iopub.execute_input": "2022-08-19T11:28:33.550991Z",
     "iopub.status.busy": "2022-08-19T11:28:33.550437Z",
     "iopub.status.idle": "2022-08-19T11:28:33.557262Z",
     "shell.execute_reply": "2022-08-19T11:28:33.555988Z"
    }
   },
   "outputs": [],
   "source": [
    "single_gpu_model = pickle.load(open(\"kmeans_model.pkl\", \"rb\"))"
   ]
  },
  {
   "cell_type": "code",
   "execution_count": 13,
   "metadata": {
    "execution": {
     "iopub.execute_input": "2022-08-19T11:28:33.562298Z",
     "iopub.status.busy": "2022-08-19T11:28:33.561299Z",
     "iopub.status.idle": "2022-08-19T11:28:33.573138Z",
     "shell.execute_reply": "2022-08-19T11:28:33.571913Z"
    }
   },
   "outputs": [
    {
     "data": {
      "text/plain": [
       "array([[-4.6475401e+00, -9.5672169e+00,  6.6923523e+00,  4.4359245e+00,\n",
       "         2.1902733e+00,  2.5834756e+00,  5.9448934e-01,  6.2568669e+00,\n",
       "        -8.7821646e+00, -4.1232008e-01,  9.8151770e+00,  7.5641565e+00,\n",
       "         1.0003009e+01, -5.8680429e+00, -1.2743109e+00, -2.5393455e+00,\n",
       "        -1.0847499e+00, -5.2629204e+00, -9.3071022e+00,  4.6179361e+00,\n",
       "        -9.7068958e-02, -3.9351206e+00,  6.1767278e+00, -7.4346881e+00,\n",
       "         5.6496072e+00, -8.5544853e+00, -7.5265589e+00, -5.5195603e+00,\n",
       "         4.8197632e+00,  2.5235438e+00],\n",
       "       [ 6.2794294e+00,  9.2293949e+00,  8.3403711e+00,  9.0330496e+00,\n",
       "         7.6893492e+00, -9.9538219e-01, -6.2780762e+00,  1.3599334e+00,\n",
       "        -6.9744482e+00, -5.9463463e+00,  1.0695117e+00, -8.0422489e-03,\n",
       "         2.8183143e+00,  1.8317667e+00, -8.2557344e+00,  3.0514317e+00,\n",
       "        -8.4958029e+00,  9.7238483e+00, -7.7455091e+00,  3.4521689e+00,\n",
       "        -3.9248335e+00, -4.1106420e+00,  2.6693091e+00,  1.2985630e+00,\n",
       "         1.0421573e+00,  5.2490621e+00, -1.6496236e+00,  6.1451659e+00,\n",
       "        -6.9103327e+00, -9.6390305e+00],\n",
       "       [-2.8796387e+00,  4.4348764e+00, -4.4264808e+00,  2.3959143e+00,\n",
       "         1.7286435e+00, -2.4991984e+00, -5.1794519e+00, -1.6771442e+00,\n",
       "        -8.1329174e+00,  2.6659229e+00, -4.3131099e+00,  5.5827808e+00,\n",
       "        -5.7318306e+00, -1.7427170e+00, -9.3456125e+00,  7.1365565e-01,\n",
       "         4.4255495e+00, -2.9118378e+00, -4.9467440e+00,  9.6786404e+00,\n",
       "         8.4222765e+00, -6.2710242e+00, -6.3596506e+00,  1.9645507e+00,\n",
       "         4.1715999e+00, -9.1683645e+00,  4.6156688e+00,  8.7916489e+00,\n",
       "         6.8754420e+00,  2.2288744e+00],\n",
       "       [-6.9536948e+00, -9.7635880e+00, -6.5648255e+00, -4.3536150e-01,\n",
       "         6.0998111e+00,  3.7550373e+00, -3.9558539e+00,  6.1595521e+00,\n",
       "        -1.8599317e+00,  5.0400305e+00, -6.8397551e+00,  1.3435434e+00,\n",
       "         8.9749012e+00, -9.9621785e-01,  9.6651936e+00,  9.8009653e+00,\n",
       "        -8.6188335e+00,  5.9978361e+00,  2.2295933e+00, -3.6477711e+00,\n",
       "         7.0758505e+00, -7.3772259e+00, -5.3214226e+00, -6.9927955e+00,\n",
       "        -7.9296327e+00,  6.6705356e+00, -5.5850177e+00,  7.1526046e+00,\n",
       "         6.5703206e+00, -8.3389378e+00],\n",
       "       [ 4.8136687e+00,  8.3985281e+00, -9.2161245e+00,  9.4185514e+00,\n",
       "         8.5280886e+00, -1.0969982e+00,  3.3253179e+00, -7.8064380e+00,\n",
       "        -5.9660631e-01,  2.5423869e-01,  5.5004086e+00, -4.1162968e+00,\n",
       "         4.2832379e+00, -2.8173416e+00,  3.6207724e+00, -4.1576219e+00,\n",
       "        -3.6048703e+00,  6.2125401e+00, -6.9080992e+00, -1.0732133e+00,\n",
       "        -5.8362112e+00,  2.2357666e+00, -3.8588789e+00, -1.6835877e+00,\n",
       "        -5.3240366e+00,  7.5769200e+00,  2.9358530e+00,  8.5267372e+00,\n",
       "         1.5667248e+00,  1.0779673e+00]], dtype=float32)"
      ]
     },
     "execution_count": 13,
     "metadata": {},
     "output_type": "execute_result"
    }
   ],
   "source": [
    "single_gpu_model.cluster_centers_"
   ]
  },
  {
   "cell_type": "markdown",
   "metadata": {},
   "source": [
    "## Exporting cuML Random Forest models for inferencing on machines without GPUs"
   ]
  },
  {
   "cell_type": "markdown",
   "metadata": {},
   "source": [
    "Starting with cuML version 21.06, you can export cuML Random Forest models and run predictions with them on machines without an NVIDIA GPUs. The [Treelite](https://github.com/dmlc/treelite) package defines an efficient exchange format that lets you portably move the cuML Random Forest models to other machines. We will refer to the exchange format as \"checkpoints.\"\n",
    "\n",
    "Here are the steps to export the model:\n",
    "\n",
    "1. Call `to_treelite_checkpoint()` to obtain the checkpoint file from the cuML Random Forest model."
   ]
  },
  {
   "cell_type": "code",
   "execution_count": 14,
   "metadata": {
    "execution": {
     "iopub.execute_input": "2022-08-19T11:28:33.577790Z",
     "iopub.status.busy": "2022-08-19T11:28:33.577418Z",
     "iopub.status.idle": "2022-08-19T11:28:33.686849Z",
     "shell.execute_reply": "2022-08-19T11:28:33.685563Z"
    }
   },
   "outputs": [
    {
     "name": "stderr",
     "output_type": "stream",
     "text": [
      "/opt/conda/envs/rapids/lib/python3.9/site-packages/cuml/internals/api_decorators.py:794: UserWarning: For reproducible results in Random Forest Classifier or for almost reproducible results in Random Forest Regressor, n_streams=1 is recommended. If n_streams is > 1, results may vary due to stream/thread timing differences, even when random_state is set\n",
      "  return func(**kwargs)\n"
     ]
    }
   ],
   "source": [
    "from cuml.ensemble import RandomForestClassifier as cumlRandomForestClassifier\n",
    "from sklearn.datasets import load_iris\n",
    "import numpy as np\n",
    "\n",
    "X, y = load_iris(return_X_y=True)\n",
    "X, y = X.astype(np.float32), y.astype(np.int32)\n",
    "clf = cumlRandomForestClassifier(max_depth=3, random_state=0, n_estimators=10)\n",
    "clf.fit(X, y)\n",
    "\n",
    "checkpoint_path = './checkpoint.tl'\n",
    "# Export cuML RF model as Treelite checkpoint\n",
    "clf.convert_to_treelite_model().to_treelite_checkpoint(checkpoint_path)"
   ]
  },
  {
   "cell_type": "markdown",
   "metadata": {},
   "source": [
    "2. Copy the generated checkpoint file `checkpoint.tl` to another machine on which you'd like to run predictions.\n",
    "\n",
    "3. On the target machine, install Treelite by running `pip install treelite` or `conda install -c conda-forge treelite`. The machine does not need to have an NVIDIA GPUs and does not need to have cuML installed.\n",
    "\n",
    "4. You can now load the model from the checkpoint, by running the following on the target machine:"
   ]
  },
  {
   "cell_type": "code",
   "execution_count": 15,
   "metadata": {
    "execution": {
     "iopub.execute_input": "2022-08-19T11:28:33.691168Z",
     "iopub.status.busy": "2022-08-19T11:28:33.690827Z",
     "iopub.status.idle": "2022-08-19T11:28:33.711091Z",
     "shell.execute_reply": "2022-08-19T11:28:33.709763Z"
    }
   },
   "outputs": [
    {
     "name": "stdout",
     "output_type": "stream",
     "text": [
      "[[1.         0.         0.        ]\n",
      " [1.         0.         0.        ]\n",
      " [1.         0.         0.        ]\n",
      " [1.         0.         0.        ]\n",
      " [1.         0.         0.        ]\n",
      " [1.         0.         0.        ]\n",
      " [1.         0.         0.        ]\n",
      " [1.         0.         0.        ]\n",
      " [1.         0.         0.        ]\n",
      " [1.         0.         0.        ]\n",
      " [1.         0.         0.        ]\n",
      " [1.         0.         0.        ]\n",
      " [1.         0.         0.        ]\n",
      " [1.         0.         0.        ]\n",
      " [0.90789473 0.09210526 0.        ]\n",
      " [0.90789473 0.09210526 0.        ]\n",
      " [1.         0.         0.        ]\n",
      " [1.         0.         0.        ]\n",
      " [0.90789473 0.09210526 0.        ]\n",
      " [1.         0.         0.        ]\n",
      " [1.         0.         0.        ]\n",
      " [1.         0.         0.        ]\n",
      " [1.         0.         0.        ]\n",
      " [1.         0.         0.        ]\n",
      " [1.         0.         0.        ]\n",
      " [1.         0.         0.        ]\n",
      " [1.         0.         0.        ]\n",
      " [1.         0.         0.        ]\n",
      " [1.         0.         0.        ]\n",
      " [1.         0.         0.        ]\n",
      " [1.         0.         0.        ]\n",
      " [1.         0.         0.        ]\n",
      " [1.         0.         0.        ]\n",
      " [1.         0.         0.        ]\n",
      " [1.         0.         0.        ]\n",
      " [1.         0.         0.        ]\n",
      " [1.         0.         0.        ]\n",
      " [1.         0.         0.        ]\n",
      " [1.         0.         0.        ]\n",
      " [1.         0.         0.        ]\n",
      " [1.         0.         0.        ]\n",
      " [1.         0.         0.        ]\n",
      " [1.         0.         0.        ]\n",
      " [1.         0.         0.        ]\n",
      " [1.         0.         0.        ]\n",
      " [1.         0.         0.        ]\n",
      " [1.         0.         0.        ]\n",
      " [1.         0.         0.        ]\n",
      " [1.         0.         0.        ]\n",
      " [1.         0.         0.        ]\n",
      " [0.00789474 0.96374357 0.02836171]\n",
      " [0.00789474 0.96374357 0.02836171]\n",
      " [0.00789474 0.7819892  0.2101161 ]\n",
      " [0.         0.99018145 0.00981859]\n",
      " [0.00789474 0.96374357 0.02836171]\n",
      " [0.00789474 0.975835   0.01627021]\n",
      " [0.00789474 0.96374357 0.02836171]\n",
      " [0.         0.8568481  0.14315192]\n",
      " [0.00789474 0.96374357 0.02836171]\n",
      " [0.         0.99018145 0.00981859]\n",
      " [0.         0.99018145 0.00981859]\n",
      " [0.00789474 0.975835   0.01627021]\n",
      " [0.00789474 0.975835   0.01627021]\n",
      " [0.00789474 0.975835   0.01627021]\n",
      " [0.10789473 0.88228667 0.00981859]\n",
      " [0.00789474 0.96374357 0.02836171]\n",
      " [0.00789474 0.98228663 0.00981859]\n",
      " [0.00789474 0.975835   0.01627021]\n",
      " [0.00789474 0.975835   0.01627021]\n",
      " [0.10789473 0.88228667 0.00981859]\n",
      " [0.         0.25154537 0.7484547 ]\n",
      " [0.00789474 0.975835   0.01627021]\n",
      " [0.00789474 0.7819892  0.2101161 ]\n",
      " [0.00789474 0.975835   0.01627021]\n",
      " [0.00789474 0.96374357 0.02836171]\n",
      " [0.00789474 0.96374357 0.02836171]\n",
      " [0.00789474 0.79310024 0.199005  ]\n",
      " [0.         0.451291   0.54870903]\n",
      " [0.00789474 0.975835   0.01627021]\n",
      " [0.10789473 0.87583506 0.01627021]\n",
      " [0.         0.99018145 0.00981859]\n",
      " [0.         0.99018145 0.00981859]\n",
      " [0.10789473 0.87583506 0.01627021]\n",
      " [0.         0.18708128 0.8129188 ]\n",
      " [0.         0.99018145 0.00981859]\n",
      " [0.00789474 0.975835   0.01627021]\n",
      " [0.00789474 0.96374357 0.02836171]\n",
      " [0.00789474 0.96374357 0.02836171]\n",
      " [0.00789474 0.98228663 0.00981859]\n",
      " [0.         0.99018145 0.00981859]\n",
      " [0.         0.99018145 0.00981859]\n",
      " [0.00789474 0.975835   0.01627021]\n",
      " [0.00789474 0.975835   0.01627021]\n",
      " [0.         0.99018145 0.00981859]\n",
      " [0.00789474 0.98228663 0.00981859]\n",
      " [0.00789474 0.975835   0.01627021]\n",
      " [0.00789474 0.975835   0.01627021]\n",
      " [0.00789474 0.975835   0.01627021]\n",
      " [0.         0.99018145 0.00981859]\n",
      " [0.00789474 0.975835   0.01627021]\n",
      " [0.         0.01258634 0.9874137 ]\n",
      " [0.         0.0481924  0.9518076 ]\n",
      " [0.         0.01258634 0.9874137 ]\n",
      " [0.         0.01258634 0.9874137 ]\n",
      " [0.         0.01258634 0.9874137 ]\n",
      " [0.         0.01258634 0.9874137 ]\n",
      " [0.         0.6901814  0.3098186 ]\n",
      " [0.         0.01258634 0.9874137 ]\n",
      " [0.         0.01258634 0.9874137 ]\n",
      " [0.         0.01258634 0.9874137 ]\n",
      " [0.         0.01258634 0.9874137 ]\n",
      " [0.         0.01258634 0.9874137 ]\n",
      " [0.         0.01258634 0.9874137 ]\n",
      " [0.         0.15504913 0.84495085]\n",
      " [0.         0.0481924  0.9518076 ]\n",
      " [0.         0.01258634 0.9874137 ]\n",
      " [0.         0.01258634 0.9874137 ]\n",
      " [0.         0.01258634 0.9874137 ]\n",
      " [0.         0.01258634 0.9874137 ]\n",
      " [0.         0.40701494 0.59298503]\n",
      " [0.         0.01258634 0.9874137 ]\n",
      " [0.         0.14688587 0.8531141 ]\n",
      " [0.         0.01258634 0.9874137 ]\n",
      " [0.         0.28718114 0.71281886]\n",
      " [0.         0.01258634 0.9874137 ]\n",
      " [0.         0.01258634 0.9874137 ]\n",
      " [0.         0.22427265 0.7757274 ]\n",
      " [0.         0.21316154 0.7868384 ]\n",
      " [0.         0.01258634 0.9874137 ]\n",
      " [0.         0.17874795 0.82125205]\n",
      " [0.         0.01258634 0.9874137 ]\n",
      " [0.         0.01258634 0.9874137 ]\n",
      " [0.         0.01258634 0.9874137 ]\n",
      " [0.         0.21682489 0.7831751 ]\n",
      " [0.         0.22515821 0.77484185]\n",
      " [0.         0.01258634 0.9874137 ]\n",
      " [0.         0.01258634 0.9874137 ]\n",
      " [0.         0.01258634 0.9874137 ]\n",
      " [0.         0.22427265 0.7757274 ]\n",
      " [0.         0.01258634 0.9874137 ]\n",
      " [0.         0.01258634 0.9874137 ]\n",
      " [0.         0.01258634 0.9874137 ]\n",
      " [0.         0.0481924  0.9518076 ]\n",
      " [0.         0.01258634 0.9874137 ]\n",
      " [0.         0.01258634 0.9874137 ]\n",
      " [0.         0.01258634 0.9874137 ]\n",
      " [0.         0.20179601 0.798204  ]\n",
      " [0.         0.01258634 0.9874137 ]\n",
      " [0.         0.02091968 0.9790803 ]\n",
      " [0.         0.0481924  0.9518076 ]]\n"
     ]
    }
   ],
   "source": [
    "import treelite\n",
    "\n",
    "# The checkpoint file has been copied over\n",
    "checkpoint_path = './checkpoint.tl'\n",
    "tl_model = treelite.Model.deserialize(checkpoint_path)\n",
    "out_prob = treelite.gtil.predict(tl_model, X, pred_margin=True)\n",
    "print(out_prob)"
   ]
  }
 ],
 "metadata": {
  "kernelspec": {
   "display_name": "Python 3",
   "language": "python",
   "name": "python3"
  },
  "language_info": {
   "codemirror_mode": {
    "name": "ipython",
    "version": 3
   },
   "file_extension": ".py",
   "mimetype": "text/x-python",
   "name": "python",
   "nbconvert_exporter": "python",
   "pygments_lexer": "ipython3",
   "version": "3.9.13"
  }
 },
 "nbformat": 4,
 "nbformat_minor": 4
}
