{
 "cells": [
  {
   "cell_type": "markdown",
   "metadata": {},
   "source": [
    "# Pickling cuML Models for Persistence\n",
    "\n",
    "This notebook demonstrates simple pickling of both single-GPU and multi-GPU cuML models for persistence"
   ]
  },
  {
   "cell_type": "code",
   "execution_count": 1,
   "metadata": {
    "execution": {
     "iopub.execute_input": "2022-10-17T18:31:07.957242Z",
     "iopub.status.busy": "2022-10-17T18:31:07.956255Z",
     "iopub.status.idle": "2022-10-17T18:31:07.972810Z",
     "shell.execute_reply": "2022-10-17T18:31:07.971572Z"
    }
   },
   "outputs": [],
   "source": [
    "import warnings\n",
    "warnings.filterwarnings(\"ignore\", category=FutureWarning)"
   ]
  },
  {
   "cell_type": "markdown",
   "metadata": {},
   "source": [
    "## Single GPU Model Pickling\n",
    "\n",
    "All single-GPU estimators are pickleable. The following example demonstrates the creation of a synthetic dataset, training, and pickling of the resulting model for storage. Trained single-GPU models can also be used to distribute the inference on a Dask cluster, which the `Distributed Model Pickling` section below demonstrates."
   ]
  },
  {
   "cell_type": "code",
   "execution_count": 2,
   "metadata": {
    "execution": {
     "iopub.execute_input": "2022-10-17T18:31:07.978191Z",
     "iopub.status.busy": "2022-10-17T18:31:07.977875Z",
     "iopub.status.idle": "2022-10-17T18:31:12.578709Z",
     "shell.execute_reply": "2022-10-17T18:31:12.577591Z"
    }
   },
   "outputs": [],
   "source": [
    "from cuml.datasets import make_blobs\n",
    "\n",
    "X, y = make_blobs(n_samples=50,\n",
    "                  n_features=10,\n",
    "                  centers=5,\n",
    "                  cluster_std=0.4,\n",
    "                  random_state=0)"
   ]
  },
  {
   "cell_type": "code",
   "execution_count": 3,
   "metadata": {
    "execution": {
     "iopub.execute_input": "2022-10-17T18:31:12.584996Z",
     "iopub.status.busy": "2022-10-17T18:31:12.584594Z",
     "iopub.status.idle": "2022-10-17T18:31:12.779181Z",
     "shell.execute_reply": "2022-10-17T18:31:12.778423Z"
    }
   },
   "outputs": [
    {
     "data": {
      "text/plain": [
       "KMeans()"
      ]
     },
     "execution_count": 3,
     "metadata": {},
     "output_type": "execute_result"
    }
   ],
   "source": [
    "from cuml.cluster import KMeans\n",
    "\n",
    "model = KMeans(n_clusters=5)\n",
    "\n",
    "model.fit(X)"
   ]
  },
  {
   "cell_type": "code",
   "execution_count": 4,
   "metadata": {
    "execution": {
     "iopub.execute_input": "2022-10-17T18:31:12.782518Z",
     "iopub.status.busy": "2022-10-17T18:31:12.782194Z",
     "iopub.status.idle": "2022-10-17T18:31:12.786995Z",
     "shell.execute_reply": "2022-10-17T18:31:12.786114Z"
    }
   },
   "outputs": [],
   "source": [
    "import pickle\n",
    "\n",
    "pickle.dump(model, open(\"kmeans_model.pkl\", \"wb\"))"
   ]
  },
  {
   "cell_type": "code",
   "execution_count": 5,
   "metadata": {
    "execution": {
     "iopub.execute_input": "2022-10-17T18:31:12.790633Z",
     "iopub.status.busy": "2022-10-17T18:31:12.790111Z",
     "iopub.status.idle": "2022-10-17T18:31:12.797899Z",
     "shell.execute_reply": "2022-10-17T18:31:12.796536Z"
    }
   },
   "outputs": [],
   "source": [
    "model = pickle.load(open(\"kmeans_model.pkl\", \"rb\"))"
   ]
  },
  {
   "cell_type": "code",
   "execution_count": 6,
   "metadata": {
    "execution": {
     "iopub.execute_input": "2022-10-17T18:31:12.802010Z",
     "iopub.status.busy": "2022-10-17T18:31:12.801401Z",
     "iopub.status.idle": "2022-10-17T18:31:12.811590Z",
     "shell.execute_reply": "2022-10-17T18:31:12.810535Z"
    }
   },
   "outputs": [
    {
     "data": {
      "text/plain": [
       "array([[ 4.674985  ,  8.213466  , -9.075721  ,  9.568374  ,  8.454808  ,\n",
       "        -1.2327975 ,  3.3903713 , -7.828242  , -0.8454461 ,  0.6288572 ],\n",
       "       [-4.243999  ,  5.6107078 , -5.669777  , -1.7957245 , -9.255528  ,\n",
       "         0.71774375,  4.4435897 , -2.8747153 , -5.090096  ,  9.684121  ],\n",
       "       [ 5.2615476 , -4.0487256 ,  4.464928  , -2.9367518 ,  3.5061095 ,\n",
       "        -4.016832  , -3.4638855 ,  6.078449  , -6.953326  , -1.004144  ],\n",
       "       [-3.008261  ,  4.625961  , -4.483249  ,  2.228457  ,  1.643532  ,\n",
       "        -2.4505196 , -5.258201  , -1.6679403 , -7.985754  ,  2.8311467 ],\n",
       "       [-5.607241  ,  2.2695985 , -3.7516537 , -1.8182003 , -5.143028  ,\n",
       "         7.599363  ,  2.8252366 ,  8.773042  ,  1.6198314 ,  1.1772048 ]],\n",
       "      dtype=float32)"
      ]
     },
     "execution_count": 6,
     "metadata": {},
     "output_type": "execute_result"
    }
   ],
   "source": [
    "model.cluster_centers_"
   ]
  },
  {
   "cell_type": "markdown",
   "metadata": {},
   "source": [
    "## Distributed Model Pickling"
   ]
  },
  {
   "cell_type": "markdown",
   "metadata": {},
   "source": [
    "The distributed estimator wrappers inside of the `cuml.dask` are not intended to be pickled directly. The Dask cuML estimators provide a function `get_combined_model()`, which returns the trained single-GPU model for pickling. The combined model can be used for inference on a single-GPU, and the `ParallelPostFit` wrapper from the [Dask-ML](https://ml.dask.org/meta-estimators.html) library can be used to perform distributed inference on a Dask cluster."
   ]
  },
  {
   "cell_type": "code",
   "execution_count": 7,
   "metadata": {
    "execution": {
     "iopub.execute_input": "2022-10-17T18:31:12.816923Z",
     "iopub.status.busy": "2022-10-17T18:31:12.816352Z",
     "iopub.status.idle": "2022-10-17T18:31:15.437933Z",
     "shell.execute_reply": "2022-10-17T18:31:15.436762Z"
    }
   },
   "outputs": [
    {
     "name": "stderr",
     "output_type": "stream",
     "text": [
      "2022-10-17 18:31:15,013 - distributed.preloading - INFO - Creating preload: dask_cuda.initialize\n",
      "2022-10-17 18:31:15,013 - distributed.preloading - INFO - Import preload module: dask_cuda.initialize\n",
      "2022-10-17 18:31:15,018 - distributed.preloading - INFO - Creating preload: dask_cuda.initialize\n",
      "2022-10-17 18:31:15,018 - distributed.preloading - INFO - Import preload module: dask_cuda.initialize\n"
     ]
    },
    {
     "data": {
      "text/html": [
       "<div>\n",
       "    <div style=\"width: 24px; height: 24px; background-color: #e1e1e1; border: 3px solid #9D9D9D; border-radius: 5px; position: absolute;\"> </div>\n",
       "    <div style=\"margin-left: 48px;\">\n",
       "        <h3 style=\"margin-bottom: 0px;\">Client</h3>\n",
       "        <p style=\"color: #9D9D9D; margin-bottom: 0px;\">Client-e23b3d0b-4e49-11ed-910f-0242ac110002</p>\n",
       "        <table style=\"width: 100%; text-align: left;\">\n",
       "\n",
       "        <tr>\n",
       "        \n",
       "            <td style=\"text-align: left;\"><strong>Connection method:</strong> Cluster object</td>\n",
       "            <td style=\"text-align: left;\"><strong>Cluster type:</strong> dask_cuda.LocalCUDACluster</td>\n",
       "        \n",
       "        </tr>\n",
       "\n",
       "        \n",
       "            <tr>\n",
       "                <td style=\"text-align: left;\">\n",
       "                    <strong>Dashboard: </strong> <a href=\"http://127.0.0.1:8787/status\" target=\"_blank\">http://127.0.0.1:8787/status</a>\n",
       "                </td>\n",
       "                <td style=\"text-align: left;\"></td>\n",
       "            </tr>\n",
       "        \n",
       "\n",
       "        </table>\n",
       "\n",
       "        \n",
       "            <details>\n",
       "            <summary style=\"margin-bottom: 20px;\"><h3 style=\"display: inline;\">Cluster Info</h3></summary>\n",
       "            <div class=\"jp-RenderedHTMLCommon jp-RenderedHTML jp-mod-trusted jp-OutputArea-output\">\n",
       "    <div style=\"width: 24px; height: 24px; background-color: #e1e1e1; border: 3px solid #9D9D9D; border-radius: 5px; position: absolute;\">\n",
       "    </div>\n",
       "    <div style=\"margin-left: 48px;\">\n",
       "        <h3 style=\"margin-bottom: 0px; margin-top: 0px;\">LocalCUDACluster</h3>\n",
       "        <p style=\"color: #9D9D9D; margin-bottom: 0px;\">9c0afd4a</p>\n",
       "        <table style=\"width: 100%; text-align: left;\">\n",
       "            <tr>\n",
       "                <td style=\"text-align: left;\">\n",
       "                    <strong>Dashboard:</strong> <a href=\"http://127.0.0.1:8787/status\" target=\"_blank\">http://127.0.0.1:8787/status</a>\n",
       "                </td>\n",
       "                <td style=\"text-align: left;\">\n",
       "                    <strong>Workers:</strong> 2\n",
       "                </td>\n",
       "            </tr>\n",
       "            <tr>\n",
       "                <td style=\"text-align: left;\">\n",
       "                    <strong>Total threads:</strong> 2\n",
       "                </td>\n",
       "                <td style=\"text-align: left;\">\n",
       "                    <strong>Total memory:</strong> 45.78 GiB\n",
       "                </td>\n",
       "            </tr>\n",
       "            \n",
       "            <tr>\n",
       "    <td style=\"text-align: left;\"><strong>Status:</strong> running</td>\n",
       "    <td style=\"text-align: left;\"><strong>Using processes:</strong> True</td>\n",
       "</tr>\n",
       "\n",
       "            \n",
       "        </table>\n",
       "\n",
       "        <details>\n",
       "            <summary style=\"margin-bottom: 20px;\">\n",
       "                <h3 style=\"display: inline;\">Scheduler Info</h3>\n",
       "            </summary>\n",
       "\n",
       "            <div style=\"\">\n",
       "    <div>\n",
       "        <div style=\"width: 24px; height: 24px; background-color: #FFF7E5; border: 3px solid #FF6132; border-radius: 5px; position: absolute;\"> </div>\n",
       "        <div style=\"margin-left: 48px;\">\n",
       "            <h3 style=\"margin-bottom: 0px;\">Scheduler</h3>\n",
       "            <p style=\"color: #9D9D9D; margin-bottom: 0px;\">Scheduler-05e14934-548f-48a3-a582-52c443df4e12</p>\n",
       "            <table style=\"width: 100%; text-align: left;\">\n",
       "                <tr>\n",
       "                    <td style=\"text-align: left;\">\n",
       "                        <strong>Comm:</strong> tcp://127.0.0.1:34409\n",
       "                    </td>\n",
       "                    <td style=\"text-align: left;\">\n",
       "                        <strong>Workers:</strong> 2\n",
       "                    </td>\n",
       "                </tr>\n",
       "                <tr>\n",
       "                    <td style=\"text-align: left;\">\n",
       "                        <strong>Dashboard:</strong> <a href=\"http://127.0.0.1:8787/status\" target=\"_blank\">http://127.0.0.1:8787/status</a>\n",
       "                    </td>\n",
       "                    <td style=\"text-align: left;\">\n",
       "                        <strong>Total threads:</strong> 2\n",
       "                    </td>\n",
       "                </tr>\n",
       "                <tr>\n",
       "                    <td style=\"text-align: left;\">\n",
       "                        <strong>Started:</strong> Just now\n",
       "                    </td>\n",
       "                    <td style=\"text-align: left;\">\n",
       "                        <strong>Total memory:</strong> 45.78 GiB\n",
       "                    </td>\n",
       "                </tr>\n",
       "            </table>\n",
       "        </div>\n",
       "    </div>\n",
       "\n",
       "    <details style=\"margin-left: 48px;\">\n",
       "        <summary style=\"margin-bottom: 20px;\">\n",
       "            <h3 style=\"display: inline;\">Workers</h3>\n",
       "        </summary>\n",
       "\n",
       "        \n",
       "        <div style=\"margin-bottom: 20px;\">\n",
       "            <div style=\"width: 24px; height: 24px; background-color: #DBF5FF; border: 3px solid #4CC9FF; border-radius: 5px; position: absolute;\"> </div>\n",
       "            <div style=\"margin-left: 48px;\">\n",
       "            <details>\n",
       "                <summary>\n",
       "                    <h4 style=\"margin-bottom: 0px; display: inline;\">Worker: 0</h4>\n",
       "                </summary>\n",
       "                <table style=\"width: 100%; text-align: left;\">\n",
       "                    <tr>\n",
       "                        <td style=\"text-align: left;\">\n",
       "                            <strong>Comm: </strong> tcp://127.0.0.1:45563\n",
       "                        </td>\n",
       "                        <td style=\"text-align: left;\">\n",
       "                            <strong>Total threads: </strong> 1\n",
       "                        </td>\n",
       "                    </tr>\n",
       "                    <tr>\n",
       "                        <td style=\"text-align: left;\">\n",
       "                            <strong>Dashboard: </strong> <a href=\"http://127.0.0.1:39877/status\" target=\"_blank\">http://127.0.0.1:39877/status</a>\n",
       "                        </td>\n",
       "                        <td style=\"text-align: left;\">\n",
       "                            <strong>Memory: </strong> 22.89 GiB\n",
       "                        </td>\n",
       "                    </tr>\n",
       "                    <tr>\n",
       "                        <td style=\"text-align: left;\">\n",
       "                            <strong>Nanny: </strong> tcp://127.0.0.1:34535\n",
       "                        </td>\n",
       "                        <td style=\"text-align: left;\"></td>\n",
       "                    </tr>\n",
       "                    <tr>\n",
       "                        <td colspan=\"2\" style=\"text-align: left;\">\n",
       "                            <strong>Local directory: </strong> /tmp/dask-worker-space/worker-o9hxqjps\n",
       "                        </td>\n",
       "                    </tr>\n",
       "\n",
       "                    \n",
       "                    <tr>\n",
       "                        <td style=\"text-align: left;\">\n",
       "                            <strong>GPU: </strong>Quadro GV100\n",
       "                        </td>\n",
       "                        <td style=\"text-align: left;\">\n",
       "                            <strong>GPU memory: </strong> 32.00 GiB\n",
       "                        </td>\n",
       "                    </tr>\n",
       "                    \n",
       "\n",
       "                    \n",
       "\n",
       "                </table>\n",
       "            </details>\n",
       "            </div>\n",
       "        </div>\n",
       "        \n",
       "        <div style=\"margin-bottom: 20px;\">\n",
       "            <div style=\"width: 24px; height: 24px; background-color: #DBF5FF; border: 3px solid #4CC9FF; border-radius: 5px; position: absolute;\"> </div>\n",
       "            <div style=\"margin-left: 48px;\">\n",
       "            <details>\n",
       "                <summary>\n",
       "                    <h4 style=\"margin-bottom: 0px; display: inline;\">Worker: 1</h4>\n",
       "                </summary>\n",
       "                <table style=\"width: 100%; text-align: left;\">\n",
       "                    <tr>\n",
       "                        <td style=\"text-align: left;\">\n",
       "                            <strong>Comm: </strong> tcp://127.0.0.1:40467\n",
       "                        </td>\n",
       "                        <td style=\"text-align: left;\">\n",
       "                            <strong>Total threads: </strong> 1\n",
       "                        </td>\n",
       "                    </tr>\n",
       "                    <tr>\n",
       "                        <td style=\"text-align: left;\">\n",
       "                            <strong>Dashboard: </strong> <a href=\"http://127.0.0.1:43045/status\" target=\"_blank\">http://127.0.0.1:43045/status</a>\n",
       "                        </td>\n",
       "                        <td style=\"text-align: left;\">\n",
       "                            <strong>Memory: </strong> 22.89 GiB\n",
       "                        </td>\n",
       "                    </tr>\n",
       "                    <tr>\n",
       "                        <td style=\"text-align: left;\">\n",
       "                            <strong>Nanny: </strong> tcp://127.0.0.1:45845\n",
       "                        </td>\n",
       "                        <td style=\"text-align: left;\"></td>\n",
       "                    </tr>\n",
       "                    <tr>\n",
       "                        <td colspan=\"2\" style=\"text-align: left;\">\n",
       "                            <strong>Local directory: </strong> /tmp/dask-worker-space/worker-_pjf6181\n",
       "                        </td>\n",
       "                    </tr>\n",
       "\n",
       "                    \n",
       "                    <tr>\n",
       "                        <td style=\"text-align: left;\">\n",
       "                            <strong>GPU: </strong>Quadro GV100\n",
       "                        </td>\n",
       "                        <td style=\"text-align: left;\">\n",
       "                            <strong>GPU memory: </strong> 32.00 GiB\n",
       "                        </td>\n",
       "                    </tr>\n",
       "                    \n",
       "\n",
       "                    \n",
       "\n",
       "                </table>\n",
       "            </details>\n",
       "            </div>\n",
       "        </div>\n",
       "        \n",
       "\n",
       "    </details>\n",
       "</div>\n",
       "\n",
       "        </details>\n",
       "    </div>\n",
       "</div>\n",
       "            </details>\n",
       "        \n",
       "\n",
       "    </div>\n",
       "</div>"
      ],
      "text/plain": [
       "<Client: 'tcp://127.0.0.1:34409' processes=2 threads=2, memory=45.78 GiB>"
      ]
     },
     "execution_count": 7,
     "metadata": {},
     "output_type": "execute_result"
    }
   ],
   "source": [
    "from dask.distributed import Client\n",
    "from dask_cuda import LocalCUDACluster\n",
    "\n",
    "cluster = LocalCUDACluster()\n",
    "client = Client(cluster)\n",
    "client"
   ]
  },
  {
   "cell_type": "code",
   "execution_count": 8,
   "metadata": {
    "execution": {
     "iopub.execute_input": "2022-10-17T18:31:15.442830Z",
     "iopub.status.busy": "2022-10-17T18:31:15.442375Z",
     "iopub.status.idle": "2022-10-17T18:31:16.133065Z",
     "shell.execute_reply": "2022-10-17T18:31:16.132355Z"
    }
   },
   "outputs": [],
   "source": [
    "from cuml.dask.datasets import make_blobs\n",
    "\n",
    "n_workers = len(client.scheduler_info()[\"workers\"].keys())\n",
    "\n",
    "X, y = make_blobs(n_samples=5000, \n",
    "                  n_features=30,\n",
    "                  centers=5, \n",
    "                  cluster_std=0.4, \n",
    "                  random_state=0,\n",
    "                  n_parts=n_workers*5)\n",
    "\n",
    "X = X.persist()\n",
    "y = y.persist()"
   ]
  },
  {
   "cell_type": "code",
   "execution_count": 9,
   "metadata": {
    "execution": {
     "iopub.execute_input": "2022-10-17T18:31:16.136963Z",
     "iopub.status.busy": "2022-10-17T18:31:16.136650Z",
     "iopub.status.idle": "2022-10-17T18:31:16.141592Z",
     "shell.execute_reply": "2022-10-17T18:31:16.140911Z"
    }
   },
   "outputs": [],
   "source": [
    "from cuml.dask.cluster import KMeans\n",
    "\n",
    "dist_model = KMeans(n_clusters=5)"
   ]
  },
  {
   "cell_type": "code",
   "execution_count": 10,
   "metadata": {
    "execution": {
     "iopub.execute_input": "2022-10-17T18:31:16.145151Z",
     "iopub.status.busy": "2022-10-17T18:31:16.144794Z",
     "iopub.status.idle": "2022-10-17T18:31:21.324388Z",
     "shell.execute_reply": "2022-10-17T18:31:21.322183Z"
    }
   },
   "outputs": [
    {
     "name": "stderr",
     "output_type": "stream",
     "text": [
      "2022-10-17 18:31:20,904 - distributed.worker - WARNING - Compute Failed\n",
      "Key:       _get_model_attr-825a1a92-c781-43b1-a07b-3b74f674f288\n",
      "Function:  _get_model_attr\n",
      "args:      (KMeansMG(), '_ipython_canary_method_should_not_exist_')\n",
      "kwargs:    {}\n",
      "Exception: 'AttributeError(\"Attribute _ipython_canary_method_should_not_exist_ does not exist on model <class \\'cuml.cluster.kmeans_mg.KMeansMG\\'>\")'\n",
      "\n",
      "2022-10-17 18:31:20,923 - distributed.worker - WARNING - Compute Failed\n",
      "Key:       _get_model_attr-8dcbdfd3-8404-4583-b738-40a300477444\n",
      "Function:  _get_model_attr\n",
      "args:      (KMeansMG(), '_ipython_display_')\n",
      "kwargs:    {}\n",
      "Exception: 'AttributeError(\"Attribute _ipython_display_ does not exist on model <class \\'cuml.cluster.kmeans_mg.KMeansMG\\'>\")'\n",
      "\n",
      "2022-10-17 18:31:20,945 - distributed.worker - WARNING - Compute Failed\n",
      "Key:       _get_model_attr-0c28f46a-596d-4c96-bf1c-41dc4e439c07\n",
      "Function:  _get_model_attr\n",
      "args:      (KMeansMG(), '_ipython_canary_method_should_not_exist_')\n",
      "kwargs:    {}\n",
      "Exception: 'AttributeError(\"Attribute _ipython_canary_method_should_not_exist_ does not exist on model <class \\'cuml.cluster.kmeans_mg.KMeansMG\\'>\")'\n",
      "\n",
      "2022-10-17 18:31:20,958 - distributed.worker - WARNING - Compute Failed\n",
      "Key:       _get_model_attr-4e696c5e-5edb-45e3-b038-290202d0a4e9\n",
      "Function:  _get_model_attr\n",
      "args:      (KMeansMG(), '_repr_mimebundle_')\n",
      "kwargs:    {}\n",
      "Exception: 'AttributeError(\"Attribute _repr_mimebundle_ does not exist on model <class \\'cuml.cluster.kmeans_mg.KMeansMG\\'>\")'\n",
      "\n",
      "2022-10-17 18:31:20,979 - distributed.worker - WARNING - Compute Failed\n",
      "Key:       _get_model_attr-26e0ff94-9b2b-4d6a-9f3b-dc1c391ca99d\n",
      "Function:  _get_model_attr\n",
      "args:      (KMeansMG(), '_ipython_canary_method_should_not_exist_')\n",
      "kwargs:    {}\n",
      "Exception: 'AttributeError(\"Attribute _ipython_canary_method_should_not_exist_ does not exist on model <class \\'cuml.cluster.kmeans_mg.KMeansMG\\'>\")'\n",
      "\n",
      "2022-10-17 18:31:20,992 - distributed.worker - WARNING - Compute Failed\n",
      "Key:       _get_model_attr-68e53d45-c372-446c-b786-9f34743b65be\n",
      "Function:  _get_model_attr\n",
      "args:      (KMeansMG(), '_repr_html_')\n",
      "kwargs:    {}\n",
      "Exception: 'AttributeError(\"Attribute _repr_html_ does not exist on model <class \\'cuml.cluster.kmeans_mg.KMeansMG\\'>\")'\n",
      "\n",
      "2022-10-17 18:31:21,006 - distributed.worker - WARNING - Compute Failed\n",
      "Key:       _get_model_attr-56206e5c-e257-4b14-a46d-69971345233b\n",
      "Function:  _get_model_attr\n",
      "args:      (KMeansMG(), '_ipython_canary_method_should_not_exist_')\n",
      "kwargs:    {}\n",
      "Exception: 'AttributeError(\"Attribute _ipython_canary_method_should_not_exist_ does not exist on model <class \\'cuml.cluster.kmeans_mg.KMeansMG\\'>\")'\n",
      "\n",
      "2022-10-17 18:31:21,026 - distributed.worker - WARNING - Compute Failed\n",
      "Key:       _get_model_attr-cd71b80b-1b64-464a-ab69-78b3b9544b69\n",
      "Function:  _get_model_attr\n",
      "args:      (KMeansMG(), '_repr_markdown_')\n",
      "kwargs:    {}\n",
      "Exception: 'AttributeError(\"Attribute _repr_markdown_ does not exist on model <class \\'cuml.cluster.kmeans_mg.KMeansMG\\'>\")'\n",
      "\n",
      "2022-10-17 18:31:21,049 - distributed.worker - WARNING - Compute Failed\n",
      "Key:       _get_model_attr-915530aa-80aa-4848-bdb0-fe592f01ac8e\n",
      "Function:  _get_model_attr\n",
      "args:      (KMeansMG(), '_ipython_canary_method_should_not_exist_')\n",
      "kwargs:    {}\n",
      "Exception: 'AttributeError(\"Attribute _ipython_canary_method_should_not_exist_ does not exist on model <class \\'cuml.cluster.kmeans_mg.KMeansMG\\'>\")'\n",
      "\n",
      "2022-10-17 18:31:21,069 - distributed.worker - WARNING - Compute Failed\n",
      "Key:       _get_model_attr-c2864f49-4c5c-4498-b725-2caf249704d1\n",
      "Function:  _get_model_attr\n",
      "args:      (KMeansMG(), '_repr_svg_')\n",
      "kwargs:    {}\n",
      "Exception: 'AttributeError(\"Attribute _repr_svg_ does not exist on model <class \\'cuml.cluster.kmeans_mg.KMeansMG\\'>\")'\n",
      "\n",
      "2022-10-17 18:31:21,093 - distributed.worker - WARNING - Compute Failed\n",
      "Key:       _get_model_attr-fc468cb4-c2f3-43a0-b954-b136c69e6f0e\n",
      "Function:  _get_model_attr\n",
      "args:      (KMeansMG(), '_ipython_canary_method_should_not_exist_')\n",
      "kwargs:    {}\n",
      "Exception: 'AttributeError(\"Attribute _ipython_canary_method_should_not_exist_ does not exist on model <class \\'cuml.cluster.kmeans_mg.KMeansMG\\'>\")'\n",
      "\n"
     ]
    },
    {
     "name": "stderr",
     "output_type": "stream",
     "text": [
      "2022-10-17 18:31:21,119 - distributed.worker - WARNING - Compute Failed\n",
      "Key:       _get_model_attr-921d1d36-0105-467b-85b3-5e8067680745\n",
      "Function:  _get_model_attr\n",
      "args:      (KMeansMG(), '_repr_png_')\n",
      "kwargs:    {}\n",
      "Exception: 'AttributeError(\"Attribute _repr_png_ does not exist on model <class \\'cuml.cluster.kmeans_mg.KMeansMG\\'>\")'\n",
      "\n",
      "2022-10-17 18:31:21,146 - distributed.worker - WARNING - Compute Failed\n",
      "Key:       _get_model_attr-4c4a0269-19d4-4351-9c3f-ea362db5342d\n",
      "Function:  _get_model_attr\n",
      "args:      (KMeansMG(), '_ipython_canary_method_should_not_exist_')\n",
      "kwargs:    {}\n",
      "Exception: 'AttributeError(\"Attribute _ipython_canary_method_should_not_exist_ does not exist on model <class \\'cuml.cluster.kmeans_mg.KMeansMG\\'>\")'\n",
      "\n",
      "2022-10-17 18:31:21,169 - distributed.worker - WARNING - Compute Failed\n",
      "Key:       _get_model_attr-a1fdd84f-6b5b-49e5-b7e7-ed23c34ccf1b\n",
      "Function:  _get_model_attr\n",
      "args:      (KMeansMG(), '_repr_pdf_')\n",
      "kwargs:    {}\n",
      "Exception: 'AttributeError(\"Attribute _repr_pdf_ does not exist on model <class \\'cuml.cluster.kmeans_mg.KMeansMG\\'>\")'\n",
      "\n",
      "2022-10-17 18:31:21,188 - distributed.worker - WARNING - Compute Failed\n",
      "Key:       _get_model_attr-47673e51-d6ec-4558-8977-d15c913ce7f6\n",
      "Function:  _get_model_attr\n",
      "args:      (KMeansMG(), '_ipython_canary_method_should_not_exist_')\n",
      "kwargs:    {}\n",
      "Exception: 'AttributeError(\"Attribute _ipython_canary_method_should_not_exist_ does not exist on model <class \\'cuml.cluster.kmeans_mg.KMeansMG\\'>\")'\n",
      "\n",
      "2022-10-17 18:31:21,201 - distributed.worker - WARNING - Compute Failed\n",
      "Key:       _get_model_attr-ddde9a35-ec53-465b-89ee-8eaf523d0b55\n",
      "Function:  _get_model_attr\n",
      "args:      (KMeansMG(), '_repr_jpeg_')\n",
      "kwargs:    {}\n",
      "Exception: 'AttributeError(\"Attribute _repr_jpeg_ does not exist on model <class \\'cuml.cluster.kmeans_mg.KMeansMG\\'>\")'\n",
      "\n",
      "2022-10-17 18:31:21,221 - distributed.worker - WARNING - Compute Failed\n",
      "Key:       _get_model_attr-fbef140f-3546-4258-994a-b742a9a4e700\n",
      "Function:  _get_model_attr\n",
      "args:      (KMeansMG(), '_ipython_canary_method_should_not_exist_')\n",
      "kwargs:    {}\n",
      "Exception: 'AttributeError(\"Attribute _ipython_canary_method_should_not_exist_ does not exist on model <class \\'cuml.cluster.kmeans_mg.KMeansMG\\'>\")'\n",
      "\n",
      "2022-10-17 18:31:21,241 - distributed.worker - WARNING - Compute Failed\n",
      "Key:       _get_model_attr-dfd6f40a-d472-4253-9981-6bfdb75785ab\n",
      "Function:  _get_model_attr\n",
      "args:      (KMeansMG(), '_repr_latex_')\n",
      "kwargs:    {}\n",
      "Exception: 'AttributeError(\"Attribute _repr_latex_ does not exist on model <class \\'cuml.cluster.kmeans_mg.KMeansMG\\'>\")'\n",
      "\n",
      "2022-10-17 18:31:21,262 - distributed.worker - WARNING - Compute Failed\n",
      "Key:       _get_model_attr-bad306dc-52ab-492c-a3b6-8d0364c5e28f\n",
      "Function:  _get_model_attr\n",
      "args:      (KMeansMG(), '_ipython_canary_method_should_not_exist_')\n",
      "kwargs:    {}\n",
      "Exception: 'AttributeError(\"Attribute _ipython_canary_method_should_not_exist_ does not exist on model <class \\'cuml.cluster.kmeans_mg.KMeansMG\\'>\")'\n",
      "\n",
      "2022-10-17 18:31:21,275 - distributed.worker - WARNING - Compute Failed\n",
      "Key:       _get_model_attr-901b1568-3f0e-4f55-b0ee-1463a72f33da\n",
      "Function:  _get_model_attr\n",
      "args:      (KMeansMG(), '_repr_json_')\n",
      "kwargs:    {}\n",
      "Exception: 'AttributeError(\"Attribute _repr_json_ does not exist on model <class \\'cuml.cluster.kmeans_mg.KMeansMG\\'>\")'\n",
      "\n",
      "2022-10-17 18:31:21,297 - distributed.worker - WARNING - Compute Failed\n",
      "Key:       _get_model_attr-de0298a8-529d-4f46-94cf-b8cf44673b2a\n",
      "Function:  _get_model_attr\n",
      "args:      (KMeansMG(), '_ipython_canary_method_should_not_exist_')\n",
      "kwargs:    {}\n",
      "Exception: 'AttributeError(\"Attribute _ipython_canary_method_should_not_exist_ does not exist on model <class \\'cuml.cluster.kmeans_mg.KMeansMG\\'>\")'\n",
      "\n",
      "2022-10-17 18:31:21,310 - distributed.worker - WARNING - Compute Failed\n",
      "Key:       _get_model_attr-620b0236-2c01-4e0e-afa3-97615f5bb9e0\n",
      "Function:  _get_model_attr\n",
      "args:      (KMeansMG(), '_repr_javascript_')\n",
      "kwargs:    {}\n",
      "Exception: 'AttributeError(\"Attribute _repr_javascript_ does not exist on model <class \\'cuml.cluster.kmeans_mg.KMeansMG\\'>\")'\n",
      "\n"
     ]
    },
    {
     "data": {
      "text/plain": [
       "<cuml.dask.cluster.kmeans.KMeans at 0x7f50694dfb80>"
      ]
     },
     "execution_count": 10,
     "metadata": {},
     "output_type": "execute_result"
    }
   ],
   "source": [
    "dist_model.fit(X)"
   ]
  },
  {
   "cell_type": "code",
   "execution_count": 11,
   "metadata": {
    "execution": {
     "iopub.execute_input": "2022-10-17T18:31:21.332410Z",
     "iopub.status.busy": "2022-10-17T18:31:21.331736Z",
     "iopub.status.idle": "2022-10-17T18:31:21.358229Z",
     "shell.execute_reply": "2022-10-17T18:31:21.356785Z"
    }
   },
   "outputs": [],
   "source": [
    "import pickle\n",
    "\n",
    "single_gpu_model = dist_model.get_combined_model()\n",
    "pickle.dump(single_gpu_model, open(\"kmeans_model.pkl\", \"wb\"))"
   ]
  },
  {
   "cell_type": "code",
   "execution_count": 12,
   "metadata": {
    "execution": {
     "iopub.execute_input": "2022-10-17T18:31:21.364659Z",
     "iopub.status.busy": "2022-10-17T18:31:21.363986Z",
     "iopub.status.idle": "2022-10-17T18:31:21.372101Z",
     "shell.execute_reply": "2022-10-17T18:31:21.370680Z"
    }
   },
   "outputs": [],
   "source": [
    "single_gpu_model = pickle.load(open(\"kmeans_model.pkl\", \"rb\"))"
   ]
  },
  {
   "cell_type": "code",
   "execution_count": 13,
   "metadata": {
    "execution": {
     "iopub.execute_input": "2022-10-17T18:31:21.378231Z",
     "iopub.status.busy": "2022-10-17T18:31:21.377705Z",
     "iopub.status.idle": "2022-10-17T18:31:21.392081Z",
     "shell.execute_reply": "2022-10-17T18:31:21.389098Z"
    }
   },
   "outputs": [
    {
     "data": {
      "text/plain": [
       "array([[-2.8722029 ,  4.469733  , -4.431363  ,  2.3996615 ,  1.7438415 ,\n",
       "        -2.4938557 , -5.2212667 , -1.7067922 , -8.130271  ,  2.640922  ,\n",
       "        -4.307933  ,  5.579306  , -5.741948  , -1.7193332 , -9.359336  ,\n",
       "         0.7162488 ,  4.4438014 , -2.9173872 , -4.9321446 ,  9.692951  ,\n",
       "         8.393692  , -6.2387223 , -6.363846  ,  1.963377  ,  4.162584  ,\n",
       "        -9.159683  ,  4.6117425 ,  8.8011265 ,  6.855182  ,  2.2458146 ],\n",
       "       [ 4.7991467 ,  8.40242   , -9.21459   ,  9.392472  ,  8.512869  ,\n",
       "        -1.0980053 ,  3.3258235 , -7.802849  , -0.5990244 ,  0.25806773,\n",
       "         5.5174656 , -4.1132016 ,  4.29229   , -2.8411753 ,  3.6327322 ,\n",
       "        -4.173101  , -3.6205482 ,  6.2173705 , -6.9105287 , -1.084521  ,\n",
       "        -5.8539176 ,  2.2375815 , -3.8543427 , -1.6783282 , -5.3225746 ,\n",
       "         7.5756173 ,  2.9321432 ,  8.521326  ,  1.5875132 ,  1.0917971 ],\n",
       "       [-4.655767  , -9.605046  ,  6.6638994 ,  4.435602  ,  2.156688  ,\n",
       "         2.599673  ,  0.6010148 ,  6.262877  , -8.829993  , -0.39445522,\n",
       "         9.801517  ,  7.5849967 , 10.004723  , -5.871637  , -1.2833365 ,\n",
       "        -2.5475292 , -1.0870931 , -5.24391   , -9.321916  ,  4.608157  ,\n",
       "        -0.10159793, -3.946225  ,  6.1869664 , -7.4019923 ,  5.6567736 ,\n",
       "        -8.548569  , -7.5288224 , -5.5547514 ,  4.849038  ,  2.5301983 ],\n",
       "       [-6.928107  , -9.766996  , -6.5138397 , -0.4352563 ,  6.100161  ,\n",
       "         3.7533097 , -3.9653108 ,  6.182776  , -1.850568  ,  5.0282626 ,\n",
       "        -6.8437634 ,  1.3515663 ,  8.996503  , -1.0031245 ,  9.674829  ,\n",
       "         9.7697115 , -8.616943  ,  5.982676  ,  2.2226045 , -3.6281207 ,\n",
       "         7.097991  , -7.3974366 , -5.314036  , -6.9729114 , -7.9171214 ,\n",
       "         6.6703353 , -5.5767226 ,  7.134339  ,  6.6068583 , -8.299497  ],\n",
       "       [ 6.2598996 ,  9.218424  ,  8.374798  ,  9.035377  ,  7.7094774 ,\n",
       "        -1.0123167 , -6.256304  ,  1.3844215 , -6.956254  , -5.965097  ,\n",
       "         1.0701916 , -0.02766196,  2.811688  ,  1.8430995 , -8.250473  ,\n",
       "         3.0570168 , -8.49589   ,  9.738966  , -7.748305  ,  3.43219   ,\n",
       "        -3.9439018 , -4.113308  ,  2.6874819 ,  1.2842503 ,  1.019016  ,\n",
       "         5.26193   , -1.6500071 ,  6.1615205 , -6.911385  , -9.656554  ]],\n",
       "      dtype=float32)"
      ]
     },
     "execution_count": 13,
     "metadata": {},
     "output_type": "execute_result"
    }
   ],
   "source": [
    "single_gpu_model.cluster_centers_"
   ]
  },
  {
   "cell_type": "markdown",
   "metadata": {},
   "source": [
    "## Exporting cuML Random Forest models for inferencing on machines without GPUs"
   ]
  },
  {
   "cell_type": "markdown",
   "metadata": {},
   "source": [
    "Starting with cuML version 21.06, you can export cuML Random Forest models and run predictions with them on machines without an NVIDIA GPUs. The [Treelite](https://github.com/dmlc/treelite) package defines an efficient exchange format that lets you portably move the cuML Random Forest models to other machines. We will refer to the exchange format as \"checkpoints.\"\n",
    "\n",
    "Here are the steps to export the model:\n",
    "\n",
    "1. Call `to_treelite_checkpoint()` to obtain the checkpoint file from the cuML Random Forest model."
   ]
  },
  {
   "cell_type": "code",
   "execution_count": 14,
   "metadata": {
    "execution": {
     "iopub.execute_input": "2022-10-17T18:31:21.399298Z",
     "iopub.status.busy": "2022-10-17T18:31:21.398771Z",
     "iopub.status.idle": "2022-10-17T18:31:21.493363Z",
     "shell.execute_reply": "2022-10-17T18:31:21.492494Z"
    }
   },
   "outputs": [
    {
     "name": "stderr",
     "output_type": "stream",
     "text": [
      "/opt/conda/envs/rapids/lib/python3.9/site-packages/cuml/internals/api_decorators.py:794: UserWarning: For reproducible results in Random Forest Classifier or for almost reproducible results in Random Forest Regressor, n_streams=1 is recommended. If n_streams is > 1, results may vary due to stream/thread timing differences, even when random_state is set\n",
      "  return func(**kwargs)\n"
     ]
    }
   ],
   "source": [
    "from cuml.ensemble import RandomForestClassifier as cumlRandomForestClassifier\n",
    "from sklearn.datasets import load_iris\n",
    "import numpy as np\n",
    "\n",
    "X, y = load_iris(return_X_y=True)\n",
    "X, y = X.astype(np.float32), y.astype(np.int32)\n",
    "clf = cumlRandomForestClassifier(max_depth=3, random_state=0, n_estimators=10)\n",
    "clf.fit(X, y)\n",
    "\n",
    "checkpoint_path = './checkpoint.tl'\n",
    "# Export cuML RF model as Treelite checkpoint\n",
    "clf.convert_to_treelite_model().to_treelite_checkpoint(checkpoint_path)"
   ]
  },
  {
   "cell_type": "markdown",
   "metadata": {},
   "source": [
    "2. Copy the generated checkpoint file `checkpoint.tl` to another machine on which you'd like to run predictions.\n",
    "\n",
    "3. On the target machine, install Treelite by running `pip install treelite` or `conda install -c conda-forge treelite`. The machine does not need to have an NVIDIA GPUs and does not need to have cuML installed.\n",
    "\n",
    "4. You can now load the model from the checkpoint, by running the following on the target machine:"
   ]
  },
  {
   "cell_type": "code",
   "execution_count": 15,
   "metadata": {
    "execution": {
     "iopub.execute_input": "2022-10-17T18:31:21.499249Z",
     "iopub.status.busy": "2022-10-17T18:31:21.497839Z",
     "iopub.status.idle": "2022-10-17T18:31:21.509438Z",
     "shell.execute_reply": "2022-10-17T18:31:21.508910Z"
    }
   },
   "outputs": [
    {
     "name": "stdout",
     "output_type": "stream",
     "text": [
      "[[1.         0.         0.        ]\n",
      " [1.         0.         0.        ]\n",
      " [1.         0.         0.        ]\n",
      " [1.         0.         0.        ]\n",
      " [1.         0.         0.        ]\n",
      " [1.         0.         0.        ]\n",
      " [1.         0.         0.        ]\n",
      " [1.         0.         0.        ]\n",
      " [1.         0.         0.        ]\n",
      " [1.         0.         0.        ]\n",
      " [1.         0.         0.        ]\n",
      " [1.         0.         0.        ]\n",
      " [1.         0.         0.        ]\n",
      " [1.         0.         0.        ]\n",
      " [1.         0.         0.        ]\n",
      " [1.         0.         0.        ]\n",
      " [1.         0.         0.        ]\n",
      " [1.         0.         0.        ]\n",
      " [1.         0.         0.        ]\n",
      " [1.         0.         0.        ]\n",
      " [1.         0.         0.        ]\n",
      " [1.         0.         0.        ]\n",
      " [1.         0.         0.        ]\n",
      " [1.         0.         0.        ]\n",
      " [1.         0.         0.        ]\n",
      " [1.         0.         0.        ]\n",
      " [1.         0.         0.        ]\n",
      " [1.         0.         0.        ]\n",
      " [1.         0.         0.        ]\n",
      " [1.         0.         0.        ]\n",
      " [1.         0.         0.        ]\n",
      " [1.         0.         0.        ]\n",
      " [1.         0.         0.        ]\n",
      " [1.         0.         0.        ]\n",
      " [1.         0.         0.        ]\n",
      " [1.         0.         0.        ]\n",
      " [1.         0.         0.        ]\n",
      " [1.         0.         0.        ]\n",
      " [1.         0.         0.        ]\n",
      " [1.         0.         0.        ]\n",
      " [1.         0.         0.        ]\n",
      " [1.         0.         0.        ]\n",
      " [1.         0.         0.        ]\n",
      " [1.         0.         0.        ]\n",
      " [1.         0.         0.        ]\n",
      " [1.         0.         0.        ]\n",
      " [1.         0.         0.        ]\n",
      " [1.         0.         0.        ]\n",
      " [1.         0.         0.        ]\n",
      " [1.         0.         0.        ]\n",
      " [0.         0.9941856  0.0058144 ]\n",
      " [0.         0.9941856  0.0058144 ]\n",
      " [0.         0.8317397  0.16826029]\n",
      " [0.         0.9841856  0.0158144 ]\n",
      " [0.         0.9941856  0.0058144 ]\n",
      " [0.         0.9941856  0.0058144 ]\n",
      " [0.         0.9941856  0.0058144 ]\n",
      " [0.         0.9841856  0.0158144 ]\n",
      " [0.         0.9941856  0.0058144 ]\n",
      " [0.         0.9941856  0.0058144 ]\n",
      " [0.         0.9841856  0.0158144 ]\n",
      " [0.         0.9941856  0.0058144 ]\n",
      " [0.         0.9841856  0.0158144 ]\n",
      " [0.         0.9941856  0.0058144 ]\n",
      " [0.         0.9941856  0.0058144 ]\n",
      " [0.         0.9941856  0.0058144 ]\n",
      " [0.         0.9941856  0.0058144 ]\n",
      " [0.         0.9941856  0.0058144 ]\n",
      " [0.         0.9841856  0.0158144 ]\n",
      " [0.         0.9841856  0.0158144 ]\n",
      " [0.         0.16169165 0.83830833]\n",
      " [0.         0.9941856  0.0058144 ]\n",
      " [0.         0.8317397  0.16826029]\n",
      " [0.         0.9941856  0.0058144 ]\n",
      " [0.         0.9941856  0.0058144 ]\n",
      " [0.         0.9941856  0.0058144 ]\n",
      " [0.         0.8317397  0.16826029]\n",
      " [0.         0.5163647  0.48363543]\n",
      " [0.         0.9941856  0.0058144 ]\n",
      " [0.         0.9941856  0.0058144 ]\n",
      " [0.         0.9841856  0.0158144 ]\n",
      " [0.         0.9841856  0.0158144 ]\n",
      " [0.         0.9941856  0.0058144 ]\n",
      " [0.         0.3457792  0.65422076]\n",
      " [0.         0.9941856  0.0058144 ]\n",
      " [0.         0.9941856  0.0058144 ]\n",
      " [0.         0.9941856  0.0058144 ]\n",
      " [0.         0.9841856  0.0158144 ]\n",
      " [0.         0.9941856  0.0058144 ]\n",
      " [0.         0.9841856  0.0158144 ]\n",
      " [0.         0.9941856  0.0058144 ]\n",
      " [0.         0.9941856  0.0058144 ]\n",
      " [0.         0.9941856  0.0058144 ]\n",
      " [0.         0.9841856  0.0158144 ]\n",
      " [0.         0.9941856  0.0058144 ]\n",
      " [0.         0.9941856  0.0058144 ]\n",
      " [0.         0.9941856  0.0058144 ]\n",
      " [0.         0.9941856  0.0058144 ]\n",
      " [0.         0.9841856  0.0158144 ]\n",
      " [0.         0.9941856  0.0058144 ]\n",
      " [0.         0.         1.        ]\n",
      " [0.         0.         1.        ]\n",
      " [0.         0.         1.        ]\n",
      " [0.         0.02447553 0.9755244 ]\n",
      " [0.         0.         1.        ]\n",
      " [0.         0.         1.        ]\n",
      " [0.         0.62521124 0.37478876]\n",
      " [0.         0.02447553 0.9755244 ]\n",
      " [0.         0.02447553 0.9755244 ]\n",
      " [0.         0.         1.        ]\n",
      " [0.         0.         1.        ]\n",
      " [0.         0.         1.        ]\n",
      " [0.         0.         1.        ]\n",
      " [0.         0.04102564 0.95897436]\n",
      " [0.         0.         1.        ]\n",
      " [0.         0.         1.        ]\n",
      " [0.         0.02447553 0.9755244 ]\n",
      " [0.         0.         1.        ]\n",
      " [0.         0.         1.        ]\n",
      " [0.         0.600339   0.399661  ]\n",
      " [0.         0.         1.        ]\n",
      " [0.         0.10388279 0.8961172 ]\n",
      " [0.         0.         1.        ]\n",
      " [0.         0.12835832 0.87164164]\n",
      " [0.         0.         1.        ]\n",
      " [0.         0.02447553 0.9755244 ]\n",
      " [0.         0.16169165 0.83830833]\n",
      " [0.         0.12835832 0.87164164]\n",
      " [0.         0.         1.        ]\n",
      " [0.         0.3457792  0.65422076]\n",
      " [0.         0.         1.        ]\n",
      " [0.         0.         1.        ]\n",
      " [0.         0.         1.        ]\n",
      " [0.         0.3457792  0.65422076]\n",
      " [0.         0.3457792  0.65422076]\n",
      " [0.         0.         1.        ]\n",
      " [0.         0.         1.        ]\n",
      " [0.         0.02447553 0.9755244 ]\n",
      " [0.         0.16169165 0.83830833]\n",
      " [0.         0.         1.        ]\n",
      " [0.         0.         1.        ]\n",
      " [0.         0.         1.        ]\n",
      " [0.         0.         1.        ]\n",
      " [0.         0.         1.        ]\n",
      " [0.         0.         1.        ]\n",
      " [0.         0.         1.        ]\n",
      " [0.         0.04102564 0.95897436]\n",
      " [0.         0.         1.        ]\n",
      " [0.         0.         1.        ]\n",
      " [0.         0.02447553 0.9755244 ]]\n"
     ]
    }
   ],
   "source": [
    "import treelite\n",
    "\n",
    "# The checkpoint file has been copied over\n",
    "checkpoint_path = './checkpoint.tl'\n",
    "tl_model = treelite.Model.deserialize(checkpoint_path)\n",
    "out_prob = treelite.gtil.predict(tl_model, X, pred_margin=True)\n",
    "print(out_prob)"
   ]
  }
 ],
 "metadata": {
  "kernelspec": {
   "display_name": "Python 3",
   "language": "python",
   "name": "python3"
  },
  "language_info": {
   "codemirror_mode": {
    "name": "ipython",
    "version": 3
   },
   "file_extension": ".py",
   "mimetype": "text/x-python",
   "name": "python",
   "nbconvert_exporter": "python",
   "pygments_lexer": "ipython3",
   "version": "3.9.13"
  }
 },
 "nbformat": 4,
 "nbformat_minor": 4
}
