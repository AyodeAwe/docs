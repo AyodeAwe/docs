{
 "cells": [
  {
   "cell_type": "markdown",
   "metadata": {},
   "source": [
    "# Pickling cuML Models for Persistence\n",
    "\n",
    "This notebook demonstrates simple pickling of both single-GPU and multi-GPU cuML models for persistence"
   ]
  },
  {
   "cell_type": "code",
   "execution_count": 1,
   "metadata": {
    "execution": {
     "iopub.execute_input": "2022-02-12T10:40:49.856441Z",
     "iopub.status.busy": "2022-02-12T10:40:49.855607Z",
     "iopub.status.idle": "2022-02-12T10:40:49.859806Z",
     "shell.execute_reply": "2022-02-12T10:40:49.858767Z"
    }
   },
   "outputs": [],
   "source": [
    "import warnings\n",
    "warnings.filterwarnings(\"ignore\", category=FutureWarning)"
   ]
  },
  {
   "cell_type": "markdown",
   "metadata": {},
   "source": [
    "## Single GPU Model Pickling\n",
    "\n",
    "All single-GPU estimators are pickleable. The following example demonstrates the creation of a synthetic dataset, training, and pickling of the resulting model for storage. Trained single-GPU models can also be used to distribute the inference on a Dask cluster, which the `Distributed Model Pickling` section below demonstrates."
   ]
  },
  {
   "cell_type": "code",
   "execution_count": 2,
   "metadata": {
    "execution": {
     "iopub.execute_input": "2022-02-12T10:40:49.866298Z",
     "iopub.status.busy": "2022-02-12T10:40:49.865185Z",
     "iopub.status.idle": "2022-02-12T10:40:56.437813Z",
     "shell.execute_reply": "2022-02-12T10:40:56.438940Z"
    }
   },
   "outputs": [],
   "source": [
    "from cuml.datasets import make_blobs\n",
    "\n",
    "X, y = make_blobs(n_samples=50,\n",
    "                  n_features=10,\n",
    "                  centers=5,\n",
    "                  cluster_std=0.4,\n",
    "                  random_state=0)"
   ]
  },
  {
   "cell_type": "code",
   "execution_count": 3,
   "metadata": {
    "execution": {
     "iopub.execute_input": "2022-02-12T10:40:56.446827Z",
     "iopub.status.busy": "2022-02-12T10:40:56.445379Z",
     "iopub.status.idle": "2022-02-12T10:40:56.707715Z",
     "shell.execute_reply": "2022-02-12T10:40:56.708880Z"
    }
   },
   "outputs": [
    {
     "data": {
      "text/plain": [
       "KMeans()"
      ]
     },
     "execution_count": 3,
     "metadata": {},
     "output_type": "execute_result"
    }
   ],
   "source": [
    "from cuml.cluster import KMeans\n",
    "\n",
    "model = KMeans(n_clusters=5)\n",
    "\n",
    "model.fit(X)"
   ]
  },
  {
   "cell_type": "code",
   "execution_count": 4,
   "metadata": {
    "execution": {
     "iopub.execute_input": "2022-02-12T10:40:56.715527Z",
     "iopub.status.busy": "2022-02-12T10:40:56.714119Z",
     "iopub.status.idle": "2022-02-12T10:40:56.717054Z",
     "shell.execute_reply": "2022-02-12T10:40:56.718214Z"
    }
   },
   "outputs": [],
   "source": [
    "import pickle\n",
    "\n",
    "pickle.dump(model, open(\"kmeans_model.pkl\", \"wb\"))"
   ]
  },
  {
   "cell_type": "code",
   "execution_count": 5,
   "metadata": {
    "execution": {
     "iopub.execute_input": "2022-02-12T10:40:56.723874Z",
     "iopub.status.busy": "2022-02-12T10:40:56.723045Z",
     "iopub.status.idle": "2022-02-12T10:40:56.726551Z",
     "shell.execute_reply": "2022-02-12T10:40:56.727227Z"
    }
   },
   "outputs": [],
   "source": [
    "model = pickle.load(open(\"kmeans_model.pkl\", \"rb\"))"
   ]
  },
  {
   "cell_type": "code",
   "execution_count": 6,
   "metadata": {
    "execution": {
     "iopub.execute_input": "2022-02-12T10:40:56.734730Z",
     "iopub.status.busy": "2022-02-12T10:40:56.733832Z",
     "iopub.status.idle": "2022-02-12T10:40:56.737207Z",
     "shell.execute_reply": "2022-02-12T10:40:56.738069Z"
    }
   },
   "outputs": [
    {
     "data": {
      "text/plain": [
       "array([[ 4.674985 ,  8.213465 , -9.075721 ,  9.568374 ,  8.454807 ,\n",
       "        -1.2327974,  3.3903713, -7.828242 , -0.8454461,  0.6288572],\n",
       "       [-4.2439985,  5.6107073, -5.669777 , -1.7957243, -9.255529 ,\n",
       "         0.7177438,  4.4435906, -2.8747156, -5.0900965,  9.684121 ],\n",
       "       [ 5.2615476, -4.0487256,  4.464928 , -2.9367518,  3.5061095,\n",
       "        -4.016832 , -3.4638855,  6.078449 , -6.953326 , -1.004144 ],\n",
       "       [-3.008261 ,  4.6259604, -4.483249 ,  2.228457 ,  1.6435319,\n",
       "        -2.4505196, -5.258201 , -1.6679403, -7.9857535,  2.8311467],\n",
       "       [-5.60724  ,  2.2695985, -3.7516537, -1.8182005, -5.1430273,\n",
       "         7.599363 ,  2.8252368,  8.773042 ,  1.6198314,  1.1772048]],\n",
       "      dtype=float32)"
      ]
     },
     "execution_count": 6,
     "metadata": {},
     "output_type": "execute_result"
    }
   ],
   "source": [
    "model.cluster_centers_"
   ]
  },
  {
   "cell_type": "markdown",
   "metadata": {},
   "source": [
    "## Distributed Model Pickling"
   ]
  },
  {
   "cell_type": "markdown",
   "metadata": {},
   "source": [
    "The distributed estimator wrappers inside of the `cuml.dask` are not intended to be pickled directly. The Dask cuML estimators provide a function `get_combined_model()`, which returns the trained single-GPU model for pickling. The combined model can be used for inference on a single-GPU, and the `ParallelPostFit` wrapper from the [Dask-ML](https://ml.dask.org/meta-estimators.html) library can be used to perform distributed inference on a Dask cluster."
   ]
  },
  {
   "cell_type": "code",
   "execution_count": 7,
   "metadata": {
    "execution": {
     "iopub.execute_input": "2022-02-12T10:40:56.744222Z",
     "iopub.status.busy": "2022-02-12T10:40:56.743236Z",
     "iopub.status.idle": "2022-02-12T10:41:00.254777Z",
     "shell.execute_reply": "2022-02-12T10:41:00.255948Z"
    }
   },
   "outputs": [
    {
     "name": "stderr",
     "output_type": "stream",
     "text": [
      "distributed.preloading - INFO - Import preload module: dask_cuda.initialize\n"
     ]
    },
    {
     "data": {
      "text/html": [
       "<div>\n",
       "    <div style=\"width: 24px; height: 24px; background-color: #e1e1e1; border: 3px solid #9D9D9D; border-radius: 5px; position: absolute;\"> </div>\n",
       "    <div style=\"margin-left: 48px;\">\n",
       "        <h3 style=\"margin-bottom: 0px;\">Client</h3>\n",
       "        <p style=\"color: #9D9D9D; margin-bottom: 0px;\">Client-44a650ff-8bf0-11ec-9ba6-0242ac11000b</p>\n",
       "        <table style=\"width: 100%; text-align: left;\">\n",
       "\n",
       "        <tr>\n",
       "        \n",
       "            <td style=\"text-align: left;\"><strong>Connection method:</strong> Cluster object</td>\n",
       "            <td style=\"text-align: left;\"><strong>Cluster type:</strong> dask_cuda.LocalCUDACluster</td>\n",
       "        \n",
       "        </tr>\n",
       "\n",
       "        \n",
       "            <tr>\n",
       "                <td style=\"text-align: left;\">\n",
       "                    <strong>Dashboard: </strong> <a href=\"http://127.0.0.1:8787/status\" target=\"_blank\">http://127.0.0.1:8787/status</a>\n",
       "                </td>\n",
       "                <td style=\"text-align: left;\"></td>\n",
       "            </tr>\n",
       "        \n",
       "\n",
       "        </table>\n",
       "\n",
       "        \n",
       "            <details>\n",
       "            <summary style=\"margin-bottom: 20px;\"><h3 style=\"display: inline;\">Cluster Info</h3></summary>\n",
       "            <div class=\"jp-RenderedHTMLCommon jp-RenderedHTML jp-mod-trusted jp-OutputArea-output\">\n",
       "    <div style=\"width: 24px; height: 24px; background-color: #e1e1e1; border: 3px solid #9D9D9D; border-radius: 5px; position: absolute;\">\n",
       "    </div>\n",
       "    <div style=\"margin-left: 48px;\">\n",
       "        <h3 style=\"margin-bottom: 0px; margin-top: 0px;\">LocalCUDACluster</h3>\n",
       "        <p style=\"color: #9D9D9D; margin-bottom: 0px;\">fbe96bd4</p>\n",
       "        <table style=\"width: 100%; text-align: left;\">\n",
       "            <tr>\n",
       "                <td style=\"text-align: left;\">\n",
       "                    <strong>Dashboard:</strong> <a href=\"http://127.0.0.1:8787/status\" target=\"_blank\">http://127.0.0.1:8787/status</a>\n",
       "                </td>\n",
       "                <td style=\"text-align: left;\">\n",
       "                    <strong>Workers:</strong> 1\n",
       "                </td>\n",
       "            </tr>\n",
       "            <tr>\n",
       "                <td style=\"text-align: left;\">\n",
       "                    <strong>Total threads:</strong> 1\n",
       "                </td>\n",
       "                <td style=\"text-align: left;\">\n",
       "                    <strong>Total memory:</strong> 251.79 GiB\n",
       "                </td>\n",
       "            </tr>\n",
       "            \n",
       "            <tr>\n",
       "    <td style=\"text-align: left;\"><strong>Status:</strong> running</td>\n",
       "    <td style=\"text-align: left;\"><strong>Using processes:</strong> True</td>\n",
       "</tr>\n",
       "\n",
       "            \n",
       "        </table>\n",
       "\n",
       "        <details>\n",
       "            <summary style=\"margin-bottom: 20px;\">\n",
       "                <h3 style=\"display: inline;\">Scheduler Info</h3>\n",
       "            </summary>\n",
       "\n",
       "            <div style=\"\">\n",
       "    <div>\n",
       "        <div style=\"width: 24px; height: 24px; background-color: #FFF7E5; border: 3px solid #FF6132; border-radius: 5px; position: absolute;\"> </div>\n",
       "        <div style=\"margin-left: 48px;\">\n",
       "            <h3 style=\"margin-bottom: 0px;\">Scheduler</h3>\n",
       "            <p style=\"color: #9D9D9D; margin-bottom: 0px;\">Scheduler-347de6f4-ed43-4a74-b6dd-ca1bd767c7ad</p>\n",
       "            <table style=\"width: 100%; text-align: left;\">\n",
       "                <tr>\n",
       "                    <td style=\"text-align: left;\">\n",
       "                        <strong>Comm:</strong> tcp://127.0.0.1:43291\n",
       "                    </td>\n",
       "                    <td style=\"text-align: left;\">\n",
       "                        <strong>Workers:</strong> 1\n",
       "                    </td>\n",
       "                </tr>\n",
       "                <tr>\n",
       "                    <td style=\"text-align: left;\">\n",
       "                        <strong>Dashboard:</strong> <a href=\"http://127.0.0.1:8787/status\" target=\"_blank\">http://127.0.0.1:8787/status</a>\n",
       "                    </td>\n",
       "                    <td style=\"text-align: left;\">\n",
       "                        <strong>Total threads:</strong> 1\n",
       "                    </td>\n",
       "                </tr>\n",
       "                <tr>\n",
       "                    <td style=\"text-align: left;\">\n",
       "                        <strong>Started:</strong> Just now\n",
       "                    </td>\n",
       "                    <td style=\"text-align: left;\">\n",
       "                        <strong>Total memory:</strong> 251.79 GiB\n",
       "                    </td>\n",
       "                </tr>\n",
       "            </table>\n",
       "        </div>\n",
       "    </div>\n",
       "\n",
       "    <details style=\"margin-left: 48px;\">\n",
       "        <summary style=\"margin-bottom: 20px;\">\n",
       "            <h3 style=\"display: inline;\">Workers</h3>\n",
       "        </summary>\n",
       "\n",
       "        \n",
       "        <div style=\"margin-bottom: 20px;\">\n",
       "            <div style=\"width: 24px; height: 24px; background-color: #DBF5FF; border: 3px solid #4CC9FF; border-radius: 5px; position: absolute;\"> </div>\n",
       "            <div style=\"margin-left: 48px;\">\n",
       "            <details>\n",
       "                <summary>\n",
       "                    <h4 style=\"margin-bottom: 0px; display: inline;\">Worker: 0</h4>\n",
       "                </summary>\n",
       "                <table style=\"width: 100%; text-align: left;\">\n",
       "                    <tr>\n",
       "                        <td style=\"text-align: left;\">\n",
       "                            <strong>Comm: </strong> tcp://127.0.0.1:46869\n",
       "                        </td>\n",
       "                        <td style=\"text-align: left;\">\n",
       "                            <strong>Total threads: </strong> 1\n",
       "                        </td>\n",
       "                    </tr>\n",
       "                    <tr>\n",
       "                        <td style=\"text-align: left;\">\n",
       "                            <strong>Dashboard: </strong> <a href=\"http://127.0.0.1:40329/status\" target=\"_blank\">http://127.0.0.1:40329/status</a>\n",
       "                        </td>\n",
       "                        <td style=\"text-align: left;\">\n",
       "                            <strong>Memory: </strong> 251.79 GiB\n",
       "                        </td>\n",
       "                    </tr>\n",
       "                    <tr>\n",
       "                        <td style=\"text-align: left;\">\n",
       "                            <strong>Nanny: </strong> tcp://127.0.0.1:45537\n",
       "                        </td>\n",
       "                        <td style=\"text-align: left;\"></td>\n",
       "                    </tr>\n",
       "                    <tr>\n",
       "                        <td colspan=\"2\" style=\"text-align: left;\">\n",
       "                            <strong>Local directory: </strong> /rapids/cuml/docs/source/dask-worker-space/worker-lrgliaht\n",
       "                        </td>\n",
       "                    </tr>\n",
       "\n",
       "                    \n",
       "                    <tr>\n",
       "                        <td style=\"text-align: left;\">\n",
       "                            <strong>GPU: </strong>Tesla V100-PCIE-32GB\n",
       "                        </td>\n",
       "                        <td style=\"text-align: left;\">\n",
       "                            <strong>GPU memory: </strong> 31.75 GiB\n",
       "                        </td>\n",
       "                    </tr>\n",
       "                    \n",
       "\n",
       "                    \n",
       "\n",
       "                </table>\n",
       "            </details>\n",
       "            </div>\n",
       "        </div>\n",
       "        \n",
       "\n",
       "    </details>\n",
       "</div>\n",
       "\n",
       "        </details>\n",
       "    </div>\n",
       "</div>\n",
       "            </details>\n",
       "        \n",
       "\n",
       "    </div>\n",
       "</div>"
      ],
      "text/plain": [
       "<Client: 'tcp://127.0.0.1:43291' processes=1 threads=1, memory=251.79 GiB>"
      ]
     },
     "execution_count": 7,
     "metadata": {},
     "output_type": "execute_result"
    }
   ],
   "source": [
    "from dask.distributed import Client\n",
    "from dask_cuda import LocalCUDACluster\n",
    "\n",
    "cluster = LocalCUDACluster()\n",
    "client = Client(cluster)\n",
    "client"
   ]
  },
  {
   "cell_type": "code",
   "execution_count": 8,
   "metadata": {
    "execution": {
     "iopub.execute_input": "2022-02-12T10:41:00.266154Z",
     "iopub.status.busy": "2022-02-12T10:41:00.264775Z",
     "iopub.status.idle": "2022-02-12T10:41:00.858137Z",
     "shell.execute_reply": "2022-02-12T10:41:00.856905Z"
    }
   },
   "outputs": [],
   "source": [
    "from cuml.dask.datasets import make_blobs\n",
    "\n",
    "n_workers = len(client.scheduler_info()[\"workers\"].keys())\n",
    "\n",
    "X, y = make_blobs(n_samples=5000, \n",
    "                  n_features=30,\n",
    "                  centers=5, \n",
    "                  cluster_std=0.4, \n",
    "                  random_state=0,\n",
    "                  n_parts=n_workers*5)\n",
    "\n",
    "X = X.persist()\n",
    "y = y.persist()"
   ]
  },
  {
   "cell_type": "code",
   "execution_count": 9,
   "metadata": {
    "execution": {
     "iopub.execute_input": "2022-02-12T10:41:00.865446Z",
     "iopub.status.busy": "2022-02-12T10:41:00.864069Z",
     "iopub.status.idle": "2022-02-12T10:41:00.877367Z",
     "shell.execute_reply": "2022-02-12T10:41:00.878474Z"
    }
   },
   "outputs": [],
   "source": [
    "from cuml.dask.cluster import KMeans\n",
    "\n",
    "dist_model = KMeans(n_clusters=5)"
   ]
  },
  {
   "cell_type": "code",
   "execution_count": 10,
   "metadata": {
    "execution": {
     "iopub.execute_input": "2022-02-12T10:41:00.885576Z",
     "iopub.status.busy": "2022-02-12T10:41:00.884215Z",
     "iopub.status.idle": "2022-02-12T10:41:05.786728Z",
     "shell.execute_reply": "2022-02-12T10:41:05.787815Z"
    }
   },
   "outputs": [
    {
     "name": "stderr",
     "output_type": "stream",
     "text": [
      "distributed.worker - WARNING - Compute Failed\n",
      "Function:  _get_model_attr\n",
      "args:      (KMeansMG(), '_ipython_canary_method_should_not_exist_')\n",
      "kwargs:    {}\n",
      "Exception: 'AttributeError(\"Attribute _ipython_canary_method_should_not_exist_ does not exist on model <class \\'cuml.cluster.kmeans_mg.KMeansMG\\'>\")'\n",
      "\n",
      "distributed.worker - WARNING - Compute Failed\n",
      "Function:  _get_model_attr\n",
      "args:      (KMeansMG(), '_ipython_display_')\n",
      "kwargs:    {}\n",
      "Exception: 'AttributeError(\"Attribute _ipython_display_ does not exist on model <class \\'cuml.cluster.kmeans_mg.KMeansMG\\'>\")'\n",
      "\n",
      "distributed.worker - WARNING - Compute Failed\n",
      "Function:  _get_model_attr\n",
      "args:      (KMeansMG(), '_ipython_canary_method_should_not_exist_')\n",
      "kwargs:    {}\n",
      "Exception: 'AttributeError(\"Attribute _ipython_canary_method_should_not_exist_ does not exist on model <class \\'cuml.cluster.kmeans_mg.KMeansMG\\'>\")'\n",
      "\n",
      "distributed.worker - WARNING - Compute Failed\n",
      "Function:  _get_model_attr\n",
      "args:      (KMeansMG(), '_repr_mimebundle_')\n",
      "kwargs:    {}\n",
      "Exception: 'AttributeError(\"Attribute _repr_mimebundle_ does not exist on model <class \\'cuml.cluster.kmeans_mg.KMeansMG\\'>\")'\n",
      "\n",
      "distributed.worker - WARNING - Compute Failed\n",
      "Function:  _get_model_attr\n",
      "args:      (KMeansMG(), '_ipython_canary_method_should_not_exist_')\n",
      "kwargs:    {}\n",
      "Exception: 'AttributeError(\"Attribute _ipython_canary_method_should_not_exist_ does not exist on model <class \\'cuml.cluster.kmeans_mg.KMeansMG\\'>\")'\n",
      "\n",
      "distributed.worker - WARNING - Compute Failed\n",
      "Function:  _get_model_attr\n",
      "args:      (KMeansMG(), '_repr_html_')\n",
      "kwargs:    {}\n",
      "Exception: 'AttributeError(\"Attribute _repr_html_ does not exist on model <class \\'cuml.cluster.kmeans_mg.KMeansMG\\'>\")'\n",
      "\n",
      "distributed.worker - WARNING - Compute Failed\n",
      "Function:  _get_model_attr\n",
      "args:      (KMeansMG(), '_ipython_canary_method_should_not_exist_')\n",
      "kwargs:    {}\n",
      "Exception: 'AttributeError(\"Attribute _ipython_canary_method_should_not_exist_ does not exist on model <class \\'cuml.cluster.kmeans_mg.KMeansMG\\'>\")'\n",
      "\n",
      "distributed.worker - WARNING - Compute Failed\n",
      "Function:  _get_model_attr\n",
      "args:      (KMeansMG(), '_repr_markdown_')\n",
      "kwargs:    {}\n",
      "Exception: 'AttributeError(\"Attribute _repr_markdown_ does not exist on model <class \\'cuml.cluster.kmeans_mg.KMeansMG\\'>\")'\n",
      "\n",
      "distributed.worker - WARNING - Compute Failed\n",
      "Function:  _get_model_attr\n",
      "args:      (KMeansMG(), '_ipython_canary_method_should_not_exist_')\n",
      "kwargs:    {}\n",
      "Exception: 'AttributeError(\"Attribute _ipython_canary_method_should_not_exist_ does not exist on model <class \\'cuml.cluster.kmeans_mg.KMeansMG\\'>\")'\n",
      "\n",
      "distributed.worker - WARNING - Compute Failed\n",
      "Function:  _get_model_attr\n",
      "args:      (KMeansMG(), '_repr_svg_')\n",
      "kwargs:    {}\n",
      "Exception: 'AttributeError(\"Attribute _repr_svg_ does not exist on model <class \\'cuml.cluster.kmeans_mg.KMeansMG\\'>\")'\n",
      "\n",
      "distributed.worker - WARNING - Compute Failed\n",
      "Function:  _get_model_attr\n",
      "args:      (KMeansMG(), '_ipython_canary_method_should_not_exist_')\n",
      "kwargs:    {}\n",
      "Exception: 'AttributeError(\"Attribute _ipython_canary_method_should_not_exist_ does not exist on model <class \\'cuml.cluster.kmeans_mg.KMeansMG\\'>\")'\n",
      "\n",
      "distributed.worker - WARNING - Compute Failed\n",
      "Function:  _get_model_attr\n",
      "args:      (KMeansMG(), '_repr_png_')\n",
      "kwargs:    {}\n",
      "Exception: 'AttributeError(\"Attribute _repr_png_ does not exist on model <class \\'cuml.cluster.kmeans_mg.KMeansMG\\'>\")'\n",
      "\n",
      "distributed.worker - WARNING - Compute Failed\n",
      "Function:  _get_model_attr\n",
      "args:      (KMeansMG(), '_ipython_canary_method_should_not_exist_')\n",
      "kwargs:    {}\n",
      "Exception: 'AttributeError(\"Attribute _ipython_canary_method_should_not_exist_ does not exist on model <class \\'cuml.cluster.kmeans_mg.KMeansMG\\'>\")'\n",
      "\n",
      "distributed.worker - WARNING - Compute Failed\n",
      "Function:  _get_model_attr\n",
      "args:      (KMeansMG(), '_repr_pdf_')\n",
      "kwargs:    {}\n",
      "Exception: 'AttributeError(\"Attribute _repr_pdf_ does not exist on model <class \\'cuml.cluster.kmeans_mg.KMeansMG\\'>\")'\n",
      "\n",
      "distributed.worker - WARNING - Compute Failed\n",
      "Function:  _get_model_attr\n",
      "args:      (KMeansMG(), '_ipython_canary_method_should_not_exist_')\n",
      "kwargs:    {}\n",
      "Exception: 'AttributeError(\"Attribute _ipython_canary_method_should_not_exist_ does not exist on model <class \\'cuml.cluster.kmeans_mg.KMeansMG\\'>\")'\n",
      "\n",
      "distributed.worker - WARNING - Compute Failed\n",
      "Function:  _get_model_attr\n",
      "args:      (KMeansMG(), '_repr_jpeg_')\n",
      "kwargs:    {}\n",
      "Exception: 'AttributeError(\"Attribute _repr_jpeg_ does not exist on model <class \\'cuml.cluster.kmeans_mg.KMeansMG\\'>\")'\n",
      "\n"
     ]
    },
    {
     "name": "stderr",
     "output_type": "stream",
     "text": [
      "distributed.worker - WARNING - Compute Failed\n",
      "Function:  _get_model_attr\n",
      "args:      (KMeansMG(), '_ipython_canary_method_should_not_exist_')\n",
      "kwargs:    {}\n",
      "Exception: 'AttributeError(\"Attribute _ipython_canary_method_should_not_exist_ does not exist on model <class \\'cuml.cluster.kmeans_mg.KMeansMG\\'>\")'\n",
      "\n",
      "distributed.worker - WARNING - Compute Failed\n",
      "Function:  _get_model_attr\n",
      "args:      (KMeansMG(), '_repr_latex_')\n",
      "kwargs:    {}\n",
      "Exception: 'AttributeError(\"Attribute _repr_latex_ does not exist on model <class \\'cuml.cluster.kmeans_mg.KMeansMG\\'>\")'\n",
      "\n",
      "distributed.worker - WARNING - Compute Failed\n",
      "Function:  _get_model_attr\n",
      "args:      (KMeansMG(), '_ipython_canary_method_should_not_exist_')\n",
      "kwargs:    {}\n",
      "Exception: 'AttributeError(\"Attribute _ipython_canary_method_should_not_exist_ does not exist on model <class \\'cuml.cluster.kmeans_mg.KMeansMG\\'>\")'\n",
      "\n",
      "distributed.worker - WARNING - Compute Failed\n",
      "Function:  _get_model_attr\n",
      "args:      (KMeansMG(), '_repr_json_')\n",
      "kwargs:    {}\n",
      "Exception: 'AttributeError(\"Attribute _repr_json_ does not exist on model <class \\'cuml.cluster.kmeans_mg.KMeansMG\\'>\")'\n",
      "\n",
      "distributed.worker - WARNING - Compute Failed\n",
      "Function:  _get_model_attr\n",
      "args:      (KMeansMG(), '_ipython_canary_method_should_not_exist_')\n",
      "kwargs:    {}\n",
      "Exception: 'AttributeError(\"Attribute _ipython_canary_method_should_not_exist_ does not exist on model <class \\'cuml.cluster.kmeans_mg.KMeansMG\\'>\")'\n",
      "\n",
      "distributed.worker - WARNING - Compute Failed\n",
      "Function:  _get_model_attr\n",
      "args:      (KMeansMG(), '_repr_javascript_')\n",
      "kwargs:    {}\n",
      "Exception: 'AttributeError(\"Attribute _repr_javascript_ does not exist on model <class \\'cuml.cluster.kmeans_mg.KMeansMG\\'>\")'\n",
      "\n"
     ]
    },
    {
     "data": {
      "text/plain": [
       "<cuml.dask.cluster.kmeans.KMeans at 0x7f2f34e9fb80>"
      ]
     },
     "execution_count": 10,
     "metadata": {},
     "output_type": "execute_result"
    }
   ],
   "source": [
    "dist_model.fit(X)"
   ]
  },
  {
   "cell_type": "code",
   "execution_count": 11,
   "metadata": {
    "execution": {
     "iopub.execute_input": "2022-02-12T10:41:05.797718Z",
     "iopub.status.busy": "2022-02-12T10:41:05.796368Z",
     "iopub.status.idle": "2022-02-12T10:41:05.814442Z",
     "shell.execute_reply": "2022-02-12T10:41:05.815254Z"
    }
   },
   "outputs": [],
   "source": [
    "import pickle\n",
    "\n",
    "single_gpu_model = dist_model.get_combined_model()\n",
    "pickle.dump(single_gpu_model, open(\"kmeans_model.pkl\", \"wb\"))"
   ]
  },
  {
   "cell_type": "code",
   "execution_count": 12,
   "metadata": {
    "execution": {
     "iopub.execute_input": "2022-02-12T10:41:05.823178Z",
     "iopub.status.busy": "2022-02-12T10:41:05.822062Z",
     "iopub.status.idle": "2022-02-12T10:41:05.825187Z",
     "shell.execute_reply": "2022-02-12T10:41:05.826069Z"
    }
   },
   "outputs": [],
   "source": [
    "single_gpu_model = pickle.load(open(\"kmeans_model.pkl\", \"rb\"))"
   ]
  },
  {
   "cell_type": "code",
   "execution_count": 13,
   "metadata": {
    "execution": {
     "iopub.execute_input": "2022-02-12T10:41:05.835230Z",
     "iopub.status.busy": "2022-02-12T10:41:05.834381Z",
     "iopub.status.idle": "2022-02-12T10:41:05.838382Z",
     "shell.execute_reply": "2022-02-12T10:41:05.839213Z"
    }
   },
   "outputs": [
    {
     "data": {
      "text/plain": [
       "array([[-4.6475401e+00, -9.5672159e+00,  6.6923518e+00,  4.4359241e+00,\n",
       "         2.1902735e+00,  2.5834754e+00,  5.9448928e-01,  6.2568665e+00,\n",
       "        -8.7821636e+00, -4.1232011e-01,  9.8151789e+00,  7.5641570e+00,\n",
       "         1.0003009e+01, -5.8680429e+00, -1.2743108e+00, -2.5393453e+00,\n",
       "        -1.0847499e+00, -5.2629199e+00, -9.3071012e+00,  4.6179361e+00,\n",
       "        -9.7068951e-02, -3.9351206e+00,  6.1767278e+00, -7.4346881e+00,\n",
       "         5.6496072e+00, -8.5544844e+00, -7.5265579e+00, -5.5195603e+00,\n",
       "         4.8197632e+00,  2.5235441e+00],\n",
       "       [ 6.2794290e+00,  9.2293949e+00,  8.3403702e+00,  9.0330496e+00,\n",
       "         7.6893492e+00, -9.9538225e-01, -6.2780762e+00,  1.3599335e+00,\n",
       "        -6.9744487e+00, -5.9463468e+00,  1.0695117e+00, -8.0422489e-03,\n",
       "         2.8183143e+00,  1.8317667e+00, -8.2557354e+00,  3.0514317e+00,\n",
       "        -8.4958019e+00,  9.7238493e+00, -7.7455091e+00,  3.4521689e+00,\n",
       "        -3.9248335e+00, -4.1106424e+00,  2.6693091e+00,  1.2985628e+00,\n",
       "         1.0421573e+00,  5.2490625e+00, -1.6496238e+00,  6.1451659e+00,\n",
       "        -6.9103332e+00, -9.6390314e+00],\n",
       "       [-2.8796387e+00,  4.4348760e+00, -4.4264808e+00,  2.3959141e+00,\n",
       "         1.7286434e+00, -2.4991987e+00, -5.1794519e+00, -1.6771442e+00,\n",
       "        -8.1329174e+00,  2.6659231e+00, -4.3131094e+00,  5.5827813e+00,\n",
       "        -5.7318311e+00, -1.7427169e+00, -9.3456125e+00,  7.1365565e-01,\n",
       "         4.4255495e+00, -2.9118381e+00, -4.9467440e+00,  9.6786423e+00,\n",
       "         8.4222746e+00, -6.2710242e+00, -6.3596516e+00,  1.9645509e+00,\n",
       "         4.1715994e+00, -9.1683636e+00,  4.6156688e+00,  8.7916498e+00,\n",
       "         6.8754416e+00,  2.2288752e+00],\n",
       "       [-6.9536953e+00, -9.7635880e+00, -6.5648255e+00, -4.3536147e-01,\n",
       "         6.0998106e+00,  3.7550373e+00, -3.9558537e+00,  6.1595521e+00,\n",
       "        -1.8599317e+00,  5.0400305e+00, -6.8397536e+00,  1.3435433e+00,\n",
       "         8.9749012e+00, -9.9621779e-01,  9.6651936e+00,  9.8009653e+00,\n",
       "        -8.6188335e+00,  5.9978361e+00,  2.2295928e+00, -3.6477714e+00,\n",
       "         7.0758505e+00, -7.3772249e+00, -5.3214226e+00, -6.9927955e+00,\n",
       "        -7.9296317e+00,  6.6705360e+00, -5.5850182e+00,  7.1526046e+00,\n",
       "         6.5703206e+00, -8.3389387e+00],\n",
       "       [ 4.8136687e+00,  8.3985281e+00, -9.2161245e+00,  9.4185524e+00,\n",
       "         8.5280876e+00, -1.0969982e+00,  3.3253176e+00, -7.8064375e+00,\n",
       "        -5.9660631e-01,  2.5423867e-01,  5.5004091e+00, -4.1162968e+00,\n",
       "         4.2832375e+00, -2.8173411e+00,  3.6207724e+00, -4.1576214e+00,\n",
       "        -3.6048703e+00,  6.2125401e+00, -6.9080992e+00, -1.0732133e+00,\n",
       "        -5.8362117e+00,  2.2357666e+00, -3.8588791e+00, -1.6835877e+00,\n",
       "        -5.3240371e+00,  7.5769200e+00,  2.9358525e+00,  8.5267353e+00,\n",
       "         1.5667248e+00,  1.0779674e+00]], dtype=float32)"
      ]
     },
     "execution_count": 13,
     "metadata": {},
     "output_type": "execute_result"
    }
   ],
   "source": [
    "single_gpu_model.cluster_centers_"
   ]
  },
  {
   "cell_type": "markdown",
   "metadata": {},
   "source": [
    "## Exporting cuML Random Forest models for inferencing on machines without GPUs"
   ]
  },
  {
   "cell_type": "markdown",
   "metadata": {},
   "source": [
    "Starting with cuML version 21.06, you can export cuML Random Forest models and run predictions with them on machines without an NVIDIA GPUs. The [Treelite](https://github.com/dmlc/treelite) package defines an efficient exchange format that lets you portably move the cuML Random Forest models to other machines. We will refer to the exchange format as \"checkpoints.\"\n",
    "\n",
    "Here are the steps to export the model:\n",
    "\n",
    "1. Call `to_treelite_checkpoint()` to obtain the checkpoint file from the cuML Random Forest model."
   ]
  },
  {
   "cell_type": "code",
   "execution_count": 14,
   "metadata": {
    "execution": {
     "iopub.execute_input": "2022-02-12T10:41:05.847896Z",
     "iopub.status.busy": "2022-02-12T10:41:05.846840Z",
     "iopub.status.idle": "2022-02-12T10:41:05.955600Z",
     "shell.execute_reply": "2022-02-12T10:41:05.956392Z"
    }
   },
   "outputs": [
    {
     "name": "stderr",
     "output_type": "stream",
     "text": [
      "/opt/conda/envs/rapids/lib/python3.9/site-packages/cuml/internals/api_decorators.py:794: UserWarning: For reproducible results in Random Forest Classifier or for almost reproducible results in Random Forest Regressor, n_streams=1 is recommended. If n_streams is > 1, results may vary due to stream/thread timing differences, even when random_state is set\n",
      "  return func(**kwargs)\n"
     ]
    }
   ],
   "source": [
    "from cuml.ensemble import RandomForestClassifier as cumlRandomForestClassifier\n",
    "from sklearn.datasets import load_iris\n",
    "import numpy as np\n",
    "\n",
    "X, y = load_iris(return_X_y=True)\n",
    "X, y = X.astype(np.float32), y.astype(np.int32)\n",
    "clf = cumlRandomForestClassifier(max_depth=3, random_state=0, n_estimators=10)\n",
    "clf.fit(X, y)\n",
    "\n",
    "checkpoint_path = './checkpoint.tl'\n",
    "# Export cuML RF model as Treelite checkpoint\n",
    "clf.convert_to_treelite_model().to_treelite_checkpoint(checkpoint_path)"
   ]
  },
  {
   "cell_type": "markdown",
   "metadata": {},
   "source": [
    "2. Copy the generated checkpoint file `checkpoint.tl` to another machine on which you'd like to run predictions.\n",
    "\n",
    "3. On the target machine, install Treelite by running `pip install treelite` or `conda install -c conda-forge treelite`. The machine does not need to have an NVIDIA GPUs and does not need to have cuML installed.\n",
    "\n",
    "4. You can now load the model from the checkpoint, by running the following on the target machine:"
   ]
  },
  {
   "cell_type": "code",
   "execution_count": 15,
   "metadata": {
    "execution": {
     "iopub.execute_input": "2022-02-12T10:41:05.972336Z",
     "iopub.status.busy": "2022-02-12T10:41:05.969037Z",
     "iopub.status.idle": "2022-02-12T10:41:05.977346Z",
     "shell.execute_reply": "2022-02-12T10:41:05.976332Z"
    }
   },
   "outputs": [
    {
     "name": "stdout",
     "output_type": "stream",
     "text": [
      "[[1.         0.         0.        ]\n",
      " [1.         0.         0.        ]\n",
      " [1.         0.         0.        ]\n",
      " [1.         0.         0.        ]\n",
      " [1.         0.         0.        ]\n",
      " [1.         0.         0.        ]\n",
      " [1.         0.         0.        ]\n",
      " [1.         0.         0.        ]\n",
      " [1.         0.         0.        ]\n",
      " [1.         0.         0.        ]\n",
      " [1.         0.         0.        ]\n",
      " [1.         0.         0.        ]\n",
      " [1.         0.         0.        ]\n",
      " [1.         0.         0.        ]\n",
      " [1.         0.         0.        ]\n",
      " [1.         0.         0.        ]\n",
      " [1.         0.         0.        ]\n",
      " [1.         0.         0.        ]\n",
      " [0.9        0.1        0.        ]\n",
      " [1.         0.         0.        ]\n",
      " [1.         0.         0.        ]\n",
      " [1.         0.         0.        ]\n",
      " [1.         0.         0.        ]\n",
      " [1.         0.         0.        ]\n",
      " [1.         0.         0.        ]\n",
      " [1.         0.         0.        ]\n",
      " [1.         0.         0.        ]\n",
      " [1.         0.         0.        ]\n",
      " [1.         0.         0.        ]\n",
      " [1.         0.         0.        ]\n",
      " [1.         0.         0.        ]\n",
      " [1.         0.         0.        ]\n",
      " [1.         0.         0.        ]\n",
      " [1.         0.         0.        ]\n",
      " [1.         0.         0.        ]\n",
      " [1.         0.         0.        ]\n",
      " [1.         0.         0.        ]\n",
      " [1.         0.         0.        ]\n",
      " [1.         0.         0.        ]\n",
      " [1.         0.         0.        ]\n",
      " [1.         0.         0.        ]\n",
      " [1.         0.         0.        ]\n",
      " [1.         0.         0.        ]\n",
      " [1.         0.         0.        ]\n",
      " [1.         0.         0.        ]\n",
      " [1.         0.         0.        ]\n",
      " [1.         0.         0.        ]\n",
      " [1.         0.         0.        ]\n",
      " [1.         0.         0.        ]\n",
      " [1.         0.         0.        ]\n",
      " [0.         0.9981133  0.00188679]\n",
      " [0.         0.9981133  0.00188679]\n",
      " [0.         0.5274104  0.47258964]\n",
      " [0.         0.9870021  0.0129979 ]\n",
      " [0.         0.9981133  0.00188679]\n",
      " [0.         0.9981133  0.00188679]\n",
      " [0.         0.9981133  0.00188679]\n",
      " [0.         0.7036687  0.29633126]\n",
      " [0.         0.9981133  0.00188679]\n",
      " [0.         0.9870021  0.0129979 ]\n",
      " [0.         0.9536688  0.04633124]\n",
      " [0.         0.9981133  0.00188679]\n",
      " [0.         0.9981133  0.00188679]\n",
      " [0.         0.9981133  0.00188679]\n",
      " [0.         0.9981133  0.00188679]\n",
      " [0.         0.9981133  0.00188679]\n",
      " [0.         0.9981133  0.00188679]\n",
      " [0.         0.9981133  0.00188679]\n",
      " [0.         0.9981133  0.00188679]\n",
      " [0.         0.9981133  0.00188679]\n",
      " [0.         0.23634085 0.7636592 ]\n",
      " [0.         0.9981133  0.00188679]\n",
      " [0.         0.567213   0.432787  ]\n",
      " [0.         0.9981133  0.00188679]\n",
      " [0.         0.9981133  0.00188679]\n",
      " [0.         0.9981133  0.00188679]\n",
      " [0.         0.60401857 0.3959814 ]\n",
      " [0.         0.41788664 0.5821134 ]\n",
      " [0.         0.9981133  0.00188679]\n",
      " [0.         0.9981133  0.00188679]\n",
      " [0.         0.9870021  0.0129979 ]\n",
      " [0.         0.9870021  0.0129979 ]\n",
      " [0.         0.9981133  0.00188679]\n",
      " [0.         0.30794033 0.6920597 ]\n",
      " [0.1        0.89811325 0.00188679]\n",
      " [0.         0.9981133  0.00188679]\n",
      " [0.         0.9981133  0.00188679]\n",
      " [0.         0.9981133  0.00188679]\n",
      " [0.         0.9981133  0.00188679]\n",
      " [0.         0.9870021  0.0129979 ]\n",
      " [0.         0.9870021  0.0129979 ]\n",
      " [0.         0.9981133  0.00188679]\n",
      " [0.         0.9981133  0.00188679]\n",
      " [0.         0.9536688  0.04633124]\n",
      " [0.         0.9981133  0.00188679]\n",
      " [0.         0.9981133  0.00188679]\n",
      " [0.         0.9981133  0.00188679]\n",
      " [0.         0.9981133  0.00188679]\n",
      " [0.         0.9870021  0.0129979 ]\n",
      " [0.         0.9981133  0.00188679]\n",
      " [0.         0.01794118 0.9820588 ]\n",
      " [0.         0.05149381 0.9485062 ]\n",
      " [0.         0.01169118 0.9883088 ]\n",
      " [0.         0.01169118 0.9883088 ]\n",
      " [0.         0.01169118 0.9883088 ]\n",
      " [0.         0.01169118 0.9883088 ]\n",
      " [0.         0.5655735  0.4344265 ]\n",
      " [0.         0.01169118 0.9883088 ]\n",
      " [0.         0.05149381 0.9485062 ]\n",
      " [0.         0.01794118 0.9820588 ]\n",
      " [0.         0.01794118 0.9820588 ]\n",
      " [0.         0.05149381 0.9485062 ]\n",
      " [0.         0.01169118 0.9883088 ]\n",
      " [0.         0.19290936 0.80709064]\n",
      " [0.         0.03274381 0.9672562 ]\n",
      " [0.         0.01794118 0.9820588 ]\n",
      " [0.         0.01169118 0.9883088 ]\n",
      " [0.         0.01794118 0.9820588 ]\n",
      " [0.         0.05149381 0.9485062 ]\n",
      " [0.         0.44935593 0.5506441 ]\n",
      " [0.         0.01794118 0.9820588 ]\n",
      " [0.         0.2170165  0.78298354]\n",
      " [0.         0.03274381 0.9672562 ]\n",
      " [0.         0.2357665  0.7642335 ]\n",
      " [0.         0.01794118 0.9820588 ]\n",
      " [0.         0.01794118 0.9820588 ]\n",
      " [0.         0.2511435  0.74885654]\n",
      " [0.         0.19596387 0.80403614]\n",
      " [0.         0.03274381 0.9672562 ]\n",
      " [0.         0.10335784 0.8966421 ]\n",
      " [0.         0.03274381 0.9672562 ]\n",
      " [0.         0.01794118 0.9820588 ]\n",
      " [0.         0.03274381 0.9672562 ]\n",
      " [0.         0.28919035 0.7108097 ]\n",
      " [0.         0.20982714 0.79017293]\n",
      " [0.         0.01169118 0.9883088 ]\n",
      " [0.         0.01794118 0.9820588 ]\n",
      " [0.         0.01169118 0.9883088 ]\n",
      " [0.         0.23009086 0.7699092 ]\n",
      " [0.         0.01169118 0.9883088 ]\n",
      " [0.         0.01169118 0.9883088 ]\n",
      " [0.         0.01169118 0.9883088 ]\n",
      " [0.         0.05149381 0.9485062 ]\n",
      " [0.         0.01794118 0.9820588 ]\n",
      " [0.         0.01794118 0.9820588 ]\n",
      " [0.         0.01169118 0.9883088 ]\n",
      " [0.         0.19290936 0.80709064]\n",
      " [0.         0.01169118 0.9883088 ]\n",
      " [0.         0.01794118 0.9820588 ]\n",
      " [0.         0.01169118 0.9883088 ]]\n"
     ]
    }
   ],
   "source": [
    "import treelite\n",
    "\n",
    "# The checkpoint file has been copied over\n",
    "checkpoint_path = './checkpoint.tl'\n",
    "tl_model = treelite.Model.deserialize(checkpoint_path)\n",
    "out_prob = treelite.gtil.predict(tl_model, X, pred_margin=True)\n",
    "print(out_prob)"
   ]
  }
 ],
 "metadata": {
  "kernelspec": {
   "display_name": "Python 3",
   "language": "python",
   "name": "python3"
  },
  "language_info": {
   "codemirror_mode": {
    "name": "ipython",
    "version": 3
   },
   "file_extension": ".py",
   "mimetype": "text/x-python",
   "name": "python",
   "nbconvert_exporter": "python",
   "pygments_lexer": "ipython3",
   "version": "3.9.10"
  }
 },
 "nbformat": 4,
 "nbformat_minor": 4
}
