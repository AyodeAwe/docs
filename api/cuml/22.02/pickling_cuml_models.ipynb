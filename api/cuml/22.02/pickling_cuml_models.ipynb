{
 "cells": [
  {
   "cell_type": "markdown",
   "metadata": {},
   "source": [
    "# Pickling cuML Models for Persistence\n",
    "\n",
    "This notebook demonstrates simple pickling of both single-GPU and multi-GPU cuML models for persistence"
   ]
  },
  {
   "cell_type": "code",
   "execution_count": 1,
   "metadata": {
    "execution": {
     "iopub.execute_input": "2022-01-11T11:37:11.314615Z",
     "iopub.status.busy": "2022-01-11T11:37:11.313722Z",
     "iopub.status.idle": "2022-01-11T11:37:11.317150Z",
     "shell.execute_reply": "2022-01-11T11:37:11.318027Z"
    }
   },
   "outputs": [],
   "source": [
    "import warnings\n",
    "warnings.filterwarnings(\"ignore\", category=FutureWarning)"
   ]
  },
  {
   "cell_type": "markdown",
   "metadata": {},
   "source": [
    "## Single GPU Model Pickling\n",
    "\n",
    "All single-GPU estimators are pickleable. The following example demonstrates the creation of a synthetic dataset, training, and pickling of the resulting model for storage. Trained single-GPU models can also be used to distribute the inference on a Dask cluster, which the `Distributed Model Pickling` section below demonstrates."
   ]
  },
  {
   "cell_type": "code",
   "execution_count": 2,
   "metadata": {
    "execution": {
     "iopub.execute_input": "2022-01-11T11:37:11.324729Z",
     "iopub.status.busy": "2022-01-11T11:37:11.323653Z",
     "iopub.status.idle": "2022-01-11T11:37:17.658020Z",
     "shell.execute_reply": "2022-01-11T11:37:17.659235Z"
    }
   },
   "outputs": [],
   "source": [
    "from cuml.datasets import make_blobs\n",
    "\n",
    "X, y = make_blobs(n_samples=50,\n",
    "                  n_features=10,\n",
    "                  centers=5,\n",
    "                  cluster_std=0.4,\n",
    "                  random_state=0)"
   ]
  },
  {
   "cell_type": "code",
   "execution_count": 3,
   "metadata": {
    "execution": {
     "iopub.execute_input": "2022-01-11T11:37:17.667432Z",
     "iopub.status.busy": "2022-01-11T11:37:17.665922Z",
     "iopub.status.idle": "2022-01-11T11:37:17.946747Z",
     "shell.execute_reply": "2022-01-11T11:37:17.947973Z"
    }
   },
   "outputs": [
    {
     "data": {
      "text/plain": [
       "KMeans()"
      ]
     },
     "execution_count": 3,
     "metadata": {},
     "output_type": "execute_result"
    }
   ],
   "source": [
    "from cuml.cluster import KMeans\n",
    "\n",
    "model = KMeans(n_clusters=5)\n",
    "\n",
    "model.fit(X)"
   ]
  },
  {
   "cell_type": "code",
   "execution_count": 4,
   "metadata": {
    "execution": {
     "iopub.execute_input": "2022-01-11T11:37:17.954773Z",
     "iopub.status.busy": "2022-01-11T11:37:17.953268Z",
     "iopub.status.idle": "2022-01-11T11:37:17.956387Z",
     "shell.execute_reply": "2022-01-11T11:37:17.957604Z"
    }
   },
   "outputs": [],
   "source": [
    "import pickle\n",
    "\n",
    "pickle.dump(model, open(\"kmeans_model.pkl\", \"wb\"))"
   ]
  },
  {
   "cell_type": "code",
   "execution_count": 5,
   "metadata": {
    "execution": {
     "iopub.execute_input": "2022-01-11T11:37:17.963708Z",
     "iopub.status.busy": "2022-01-11T11:37:17.962816Z",
     "iopub.status.idle": "2022-01-11T11:37:17.967294Z",
     "shell.execute_reply": "2022-01-11T11:37:17.966553Z"
    }
   },
   "outputs": [],
   "source": [
    "model = pickle.load(open(\"kmeans_model.pkl\", \"rb\"))"
   ]
  },
  {
   "cell_type": "code",
   "execution_count": 6,
   "metadata": {
    "execution": {
     "iopub.execute_input": "2022-01-11T11:37:17.975787Z",
     "iopub.status.busy": "2022-01-11T11:37:17.974648Z",
     "iopub.status.idle": "2022-01-11T11:37:17.978624Z",
     "shell.execute_reply": "2022-01-11T11:37:17.979568Z"
    }
   },
   "outputs": [
    {
     "data": {
      "text/plain": [
       "array([[ 5.2615476, -4.0487256,  4.464928 , -2.9367518,  3.5061095,\n",
       "        -4.0168314, -3.4638848,  6.078449 , -6.9533257, -1.004144 ],\n",
       "       [-4.2439985,  5.610707 , -5.669777 , -1.7957245, -9.255529 ,\n",
       "         0.7177438,  4.4435897, -2.8747156, -5.090096 ,  9.684121 ],\n",
       "       [ 4.674985 ,  8.213466 , -9.075721 ,  9.568374 ,  8.454808 ,\n",
       "        -1.2327974,  3.3903713, -7.828242 , -0.8454461,  0.6288572],\n",
       "       [-3.008261 ,  4.6259604, -4.4832497,  2.2284572,  1.6435319,\n",
       "        -2.4505198, -5.258201 , -1.6679403, -7.985754 ,  2.8311472],\n",
       "       [-5.6072407,  2.2695985, -3.7516532, -1.8182005, -5.143028 ,\n",
       "         7.599363 ,  2.8252366,  8.773042 ,  1.6198314,  1.1772048]],\n",
       "      dtype=float32)"
      ]
     },
     "execution_count": 6,
     "metadata": {},
     "output_type": "execute_result"
    }
   ],
   "source": [
    "model.cluster_centers_"
   ]
  },
  {
   "cell_type": "markdown",
   "metadata": {},
   "source": [
    "## Distributed Model Pickling"
   ]
  },
  {
   "cell_type": "markdown",
   "metadata": {},
   "source": [
    "The distributed estimator wrappers inside of the `cuml.dask` are not intended to be pickled directly. The Dask cuML estimators provide a function `get_combined_model()`, which returns the trained single-GPU model for pickling. The combined model can be used for inference on a single-GPU, and the `ParallelPostFit` wrapper from the [Dask-ML](https://ml.dask.org/meta-estimators.html) library can be used to perform distributed inference on a Dask cluster."
   ]
  },
  {
   "cell_type": "code",
   "execution_count": 7,
   "metadata": {
    "execution": {
     "iopub.execute_input": "2022-01-11T11:37:17.985855Z",
     "iopub.status.busy": "2022-01-11T11:37:17.984729Z",
     "iopub.status.idle": "2022-01-11T11:37:21.510489Z",
     "shell.execute_reply": "2022-01-11T11:37:21.511568Z"
    }
   },
   "outputs": [
    {
     "data": {
      "text/html": [
       "<div>\n",
       "    <div style=\"width: 24px; height: 24px; background-color: #e1e1e1; border: 3px solid #9D9D9D; border-radius: 5px; position: absolute;\"> </div>\n",
       "    <div style=\"margin-left: 48px;\">\n",
       "        <h3 style=\"margin-bottom: 0px;\">Client</h3>\n",
       "        <p style=\"color: #9D9D9D; margin-bottom: 0px;\">Client-d6d17bc0-72d2-11ec-9eab-0242ac110007</p>\n",
       "        <table style=\"width: 100%; text-align: left;\">\n",
       "\n",
       "        <tr>\n",
       "        \n",
       "            <td style=\"text-align: left;\"><strong>Connection method:</strong> Cluster object</td>\n",
       "            <td style=\"text-align: left;\"><strong>Cluster type:</strong> dask_cuda.LocalCUDACluster</td>\n",
       "        \n",
       "        </tr>\n",
       "\n",
       "        \n",
       "            <tr>\n",
       "                <td style=\"text-align: left;\">\n",
       "                    <strong>Dashboard: </strong> <a href=\"http://127.0.0.1:8787/status\" target=\"_blank\">http://127.0.0.1:8787/status</a>\n",
       "                </td>\n",
       "                <td style=\"text-align: left;\"></td>\n",
       "            </tr>\n",
       "        \n",
       "\n",
       "        </table>\n",
       "\n",
       "        \n",
       "            <details>\n",
       "            <summary style=\"margin-bottom: 20px;\"><h3 style=\"display: inline;\">Cluster Info</h3></summary>\n",
       "            <div class=\"jp-RenderedHTMLCommon jp-RenderedHTML jp-mod-trusted jp-OutputArea-output\">\n",
       "    <div style=\"width: 24px; height: 24px; background-color: #e1e1e1; border: 3px solid #9D9D9D; border-radius: 5px; position: absolute;\">\n",
       "    </div>\n",
       "    <div style=\"margin-left: 48px;\">\n",
       "        <h3 style=\"margin-bottom: 0px; margin-top: 0px;\">LocalCUDACluster</h3>\n",
       "        <p style=\"color: #9D9D9D; margin-bottom: 0px;\">c34a21e4</p>\n",
       "        <table style=\"width: 100%; text-align: left;\">\n",
       "            <tr>\n",
       "                <td style=\"text-align: left;\">\n",
       "                    <strong>Dashboard:</strong> <a href=\"http://127.0.0.1:8787/status\" target=\"_blank\">http://127.0.0.1:8787/status</a>\n",
       "                </td>\n",
       "                <td style=\"text-align: left;\">\n",
       "                    <strong>Workers:</strong> 1\n",
       "                </td>\n",
       "            </tr>\n",
       "            <tr>\n",
       "                <td style=\"text-align: left;\">\n",
       "                    <strong>Total threads:</strong> 1\n",
       "                </td>\n",
       "                <td style=\"text-align: left;\">\n",
       "                    <strong>Total memory:</strong> 251.79 GiB\n",
       "                </td>\n",
       "            </tr>\n",
       "            \n",
       "            <tr>\n",
       "    <td style=\"text-align: left;\"><strong>Status:</strong> running</td>\n",
       "    <td style=\"text-align: left;\"><strong>Using processes:</strong> True</td>\n",
       "</tr>\n",
       "\n",
       "            \n",
       "        </table>\n",
       "\n",
       "        <details>\n",
       "            <summary style=\"margin-bottom: 20px;\">\n",
       "                <h3 style=\"display: inline;\">Scheduler Info</h3>\n",
       "            </summary>\n",
       "\n",
       "            <div style=\"\">\n",
       "    <div>\n",
       "        <div style=\"width: 24px; height: 24px; background-color: #FFF7E5; border: 3px solid #FF6132; border-radius: 5px; position: absolute;\"> </div>\n",
       "        <div style=\"margin-left: 48px;\">\n",
       "            <h3 style=\"margin-bottom: 0px;\">Scheduler</h3>\n",
       "            <p style=\"color: #9D9D9D; margin-bottom: 0px;\">Scheduler-1776358b-a6e3-4112-9ba6-189799f404bc</p>\n",
       "            <table style=\"width: 100%; text-align: left;\">\n",
       "                <tr>\n",
       "                    <td style=\"text-align: left;\">\n",
       "                        <strong>Comm:</strong> tcp://127.0.0.1:35977\n",
       "                    </td>\n",
       "                    <td style=\"text-align: left;\">\n",
       "                        <strong>Workers:</strong> 1\n",
       "                    </td>\n",
       "                </tr>\n",
       "                <tr>\n",
       "                    <td style=\"text-align: left;\">\n",
       "                        <strong>Dashboard:</strong> <a href=\"http://127.0.0.1:8787/status\" target=\"_blank\">http://127.0.0.1:8787/status</a>\n",
       "                    </td>\n",
       "                    <td style=\"text-align: left;\">\n",
       "                        <strong>Total threads:</strong> 1\n",
       "                    </td>\n",
       "                </tr>\n",
       "                <tr>\n",
       "                    <td style=\"text-align: left;\">\n",
       "                        <strong>Started:</strong> Just now\n",
       "                    </td>\n",
       "                    <td style=\"text-align: left;\">\n",
       "                        <strong>Total memory:</strong> 251.79 GiB\n",
       "                    </td>\n",
       "                </tr>\n",
       "            </table>\n",
       "        </div>\n",
       "    </div>\n",
       "\n",
       "    <details style=\"margin-left: 48px;\">\n",
       "        <summary style=\"margin-bottom: 20px;\">\n",
       "            <h3 style=\"display: inline;\">Workers</h3>\n",
       "        </summary>\n",
       "\n",
       "        \n",
       "        <div style=\"margin-bottom: 20px;\">\n",
       "            <div style=\"width: 24px; height: 24px; background-color: #DBF5FF; border: 3px solid #4CC9FF; border-radius: 5px; position: absolute;\"> </div>\n",
       "            <div style=\"margin-left: 48px;\">\n",
       "            <details>\n",
       "                <summary>\n",
       "                    <h4 style=\"margin-bottom: 0px; display: inline;\">Worker: 0</h4>\n",
       "                </summary>\n",
       "                <table style=\"width: 100%; text-align: left;\">\n",
       "                    <tr>\n",
       "                        <td style=\"text-align: left;\">\n",
       "                            <strong>Comm: </strong> tcp://127.0.0.1:44483\n",
       "                        </td>\n",
       "                        <td style=\"text-align: left;\">\n",
       "                            <strong>Total threads: </strong> 1\n",
       "                        </td>\n",
       "                    </tr>\n",
       "                    <tr>\n",
       "                        <td style=\"text-align: left;\">\n",
       "                            <strong>Dashboard: </strong> <a href=\"http://127.0.0.1:37445/status\" target=\"_blank\">http://127.0.0.1:37445/status</a>\n",
       "                        </td>\n",
       "                        <td style=\"text-align: left;\">\n",
       "                            <strong>Memory: </strong> 251.79 GiB\n",
       "                        </td>\n",
       "                    </tr>\n",
       "                    <tr>\n",
       "                        <td style=\"text-align: left;\">\n",
       "                            <strong>Nanny: </strong> tcp://127.0.0.1:40427\n",
       "                        </td>\n",
       "                        <td style=\"text-align: left;\"></td>\n",
       "                    </tr>\n",
       "                    <tr>\n",
       "                        <td colspan=\"2\" style=\"text-align: left;\">\n",
       "                            <strong>Local directory: </strong> /rapids/cuml/docs/source/dask-worker-space/worker-yd8yquhl\n",
       "                        </td>\n",
       "                    </tr>\n",
       "\n",
       "                    \n",
       "                    <tr>\n",
       "                        <td style=\"text-align: left;\">\n",
       "                            <strong>GPU: </strong>Tesla V100-PCIE-32GB\n",
       "                        </td>\n",
       "                        <td style=\"text-align: left;\">\n",
       "                            <strong>GPU memory: </strong> 31.75 GiB\n",
       "                        </td>\n",
       "                    </tr>\n",
       "                    \n",
       "\n",
       "                    \n",
       "\n",
       "                </table>\n",
       "            </details>\n",
       "            </div>\n",
       "        </div>\n",
       "        \n",
       "\n",
       "    </details>\n",
       "</div>\n",
       "\n",
       "        </details>\n",
       "    </div>\n",
       "</div>\n",
       "            </details>\n",
       "        \n",
       "\n",
       "    </div>\n",
       "</div>"
      ],
      "text/plain": [
       "<Client: 'tcp://127.0.0.1:35977' processes=1 threads=1, memory=251.79 GiB>"
      ]
     },
     "execution_count": 7,
     "metadata": {},
     "output_type": "execute_result"
    }
   ],
   "source": [
    "from dask.distributed import Client\n",
    "from dask_cuda import LocalCUDACluster\n",
    "\n",
    "cluster = LocalCUDACluster()\n",
    "client = Client(cluster)\n",
    "client"
   ]
  },
  {
   "cell_type": "code",
   "execution_count": 8,
   "metadata": {
    "execution": {
     "iopub.execute_input": "2022-01-11T11:37:21.519839Z",
     "iopub.status.busy": "2022-01-11T11:37:21.518945Z",
     "iopub.status.idle": "2022-01-11T11:37:22.045792Z",
     "shell.execute_reply": "2022-01-11T11:37:22.044716Z"
    }
   },
   "outputs": [],
   "source": [
    "from cuml.dask.datasets import make_blobs\n",
    "\n",
    "n_workers = len(client.scheduler_info()[\"workers\"].keys())\n",
    "\n",
    "X, y = make_blobs(n_samples=5000, \n",
    "                  n_features=30,\n",
    "                  centers=5, \n",
    "                  cluster_std=0.4, \n",
    "                  random_state=0,\n",
    "                  n_parts=n_workers*5)\n",
    "\n",
    "X = X.persist()\n",
    "y = y.persist()"
   ]
  },
  {
   "cell_type": "code",
   "execution_count": 9,
   "metadata": {
    "execution": {
     "iopub.execute_input": "2022-01-11T11:37:22.051984Z",
     "iopub.status.busy": "2022-01-11T11:37:22.051000Z",
     "iopub.status.idle": "2022-01-11T11:37:22.065804Z",
     "shell.execute_reply": "2022-01-11T11:37:22.066942Z"
    }
   },
   "outputs": [],
   "source": [
    "from cuml.dask.cluster import KMeans\n",
    "\n",
    "dist_model = KMeans(n_clusters=5)"
   ]
  },
  {
   "cell_type": "code",
   "execution_count": 10,
   "metadata": {
    "execution": {
     "iopub.execute_input": "2022-01-11T11:37:22.075777Z",
     "iopub.status.busy": "2022-01-11T11:37:22.073740Z",
     "iopub.status.idle": "2022-01-11T11:37:26.934263Z",
     "shell.execute_reply": "2022-01-11T11:37:26.933343Z"
    }
   },
   "outputs": [
    {
     "data": {
      "text/plain": [
       "<cuml.dask.cluster.kmeans.KMeans at 0x7fe9e07bdd50>"
      ]
     },
     "execution_count": 10,
     "metadata": {},
     "output_type": "execute_result"
    }
   ],
   "source": [
    "dist_model.fit(X)"
   ]
  },
  {
   "cell_type": "code",
   "execution_count": 11,
   "metadata": {
    "execution": {
     "iopub.execute_input": "2022-01-11T11:37:26.945960Z",
     "iopub.status.busy": "2022-01-11T11:37:26.943926Z",
     "iopub.status.idle": "2022-01-11T11:37:26.964759Z",
     "shell.execute_reply": "2022-01-11T11:37:26.965923Z"
    }
   },
   "outputs": [],
   "source": [
    "import pickle\n",
    "\n",
    "single_gpu_model = dist_model.get_combined_model()\n",
    "pickle.dump(single_gpu_model, open(\"kmeans_model.pkl\", \"wb\"))"
   ]
  },
  {
   "cell_type": "code",
   "execution_count": 12,
   "metadata": {
    "execution": {
     "iopub.execute_input": "2022-01-11T11:37:26.975061Z",
     "iopub.status.busy": "2022-01-11T11:37:26.973386Z",
     "iopub.status.idle": "2022-01-11T11:37:26.977849Z",
     "shell.execute_reply": "2022-01-11T11:37:26.978923Z"
    }
   },
   "outputs": [],
   "source": [
    "single_gpu_model = pickle.load(open(\"kmeans_model.pkl\", \"rb\"))"
   ]
  },
  {
   "cell_type": "code",
   "execution_count": 13,
   "metadata": {
    "execution": {
     "iopub.execute_input": "2022-01-11T11:37:26.990152Z",
     "iopub.status.busy": "2022-01-11T11:37:26.989078Z",
     "iopub.status.idle": "2022-01-11T11:37:26.994389Z",
     "shell.execute_reply": "2022-01-11T11:37:26.995506Z"
    }
   },
   "outputs": [
    {
     "data": {
      "text/plain": [
       "array([[-2.8796387e+00,  4.4348760e+00, -4.4264808e+00,  2.3959141e+00,\n",
       "         1.7286435e+00, -2.4991984e+00, -5.1794519e+00, -1.6771443e+00,\n",
       "        -8.1329174e+00,  2.6659231e+00, -4.3131094e+00,  5.5827813e+00,\n",
       "        -5.7318311e+00, -1.7427169e+00, -9.3456116e+00,  7.1365565e-01,\n",
       "         4.4255495e+00, -2.9118381e+00, -4.9467444e+00,  9.6786404e+00,\n",
       "         8.4222746e+00, -6.2710247e+00, -6.3596506e+00,  1.9645509e+00,\n",
       "         4.1715999e+00, -9.1683626e+00,  4.6156683e+00,  8.7916498e+00,\n",
       "         6.8754416e+00,  2.2288747e+00],\n",
       "       [-6.9536953e+00, -9.7635870e+00, -6.5648251e+00, -4.3536150e-01,\n",
       "         6.0998106e+00,  3.7550373e+00, -3.9558537e+00,  6.1595516e+00,\n",
       "        -1.8599316e+00,  5.0400310e+00, -6.8397541e+00,  1.3435433e+00,\n",
       "         8.9749022e+00, -9.9621779e-01,  9.6651945e+00,  9.8009653e+00,\n",
       "        -8.6188345e+00,  5.9978361e+00,  2.2295930e+00, -3.6477711e+00,\n",
       "         7.0758505e+00, -7.3772254e+00, -5.3214226e+00, -6.9927955e+00,\n",
       "        -7.9296317e+00,  6.6705356e+00, -5.5850177e+00,  7.1526051e+00,\n",
       "         6.5703211e+00, -8.3389397e+00],\n",
       "       [ 4.8136683e+00,  8.3985281e+00, -9.2161245e+00,  9.4185514e+00,\n",
       "         8.5280886e+00, -1.0969982e+00,  3.3253176e+00, -7.8064375e+00,\n",
       "        -5.9660631e-01,  2.5423869e-01,  5.5004086e+00, -4.1162968e+00,\n",
       "         4.2832375e+00, -2.8173413e+00,  3.6207721e+00, -4.1576214e+00,\n",
       "        -3.6048703e+00,  6.2125406e+00, -6.9080992e+00, -1.0732135e+00,\n",
       "        -5.8362117e+00,  2.2357669e+00, -3.8588791e+00, -1.6835878e+00,\n",
       "        -5.3240366e+00,  7.5769191e+00,  2.9358530e+00,  8.5267363e+00,\n",
       "         1.5667248e+00,  1.0779674e+00],\n",
       "       [-4.6475391e+00, -9.5672169e+00,  6.6923518e+00,  4.4359236e+00,\n",
       "         2.1902733e+00,  2.5834754e+00,  5.9448934e-01,  6.2568665e+00,\n",
       "        -8.7821646e+00, -4.1232017e-01,  9.8151779e+00,  7.5641565e+00,\n",
       "         1.0003009e+01, -5.8680429e+00, -1.2743109e+00, -2.5393453e+00,\n",
       "        -1.0847498e+00, -5.2629204e+00, -9.3071032e+00,  4.6179361e+00,\n",
       "        -9.7068973e-02, -3.9351208e+00,  6.1767278e+00, -7.4346890e+00,\n",
       "         5.6496067e+00, -8.5544844e+00, -7.5265574e+00, -5.5195603e+00,\n",
       "         4.8197627e+00,  2.5235438e+00],\n",
       "       [ 6.2794294e+00,  9.2293940e+00,  8.3403702e+00,  9.0330496e+00,\n",
       "         7.6893492e+00, -9.9538219e-01, -6.2780762e+00,  1.3599335e+00,\n",
       "        -6.9744492e+00, -5.9463463e+00,  1.0695115e+00, -8.0422461e-03,\n",
       "         2.8183146e+00,  1.8317668e+00, -8.2557354e+00,  3.0514319e+00,\n",
       "        -8.4958029e+00,  9.7238483e+00, -7.7455082e+00,  3.4521692e+00,\n",
       "        -3.9248335e+00, -4.1106420e+00,  2.6693091e+00,  1.2985630e+00,\n",
       "         1.0421573e+00,  5.2490625e+00, -1.6496240e+00,  6.1451659e+00,\n",
       "        -6.9103327e+00, -9.6390314e+00]], dtype=float32)"
      ]
     },
     "execution_count": 13,
     "metadata": {},
     "output_type": "execute_result"
    }
   ],
   "source": [
    "single_gpu_model.cluster_centers_"
   ]
  },
  {
   "cell_type": "markdown",
   "metadata": {},
   "source": [
    "## Exporting cuML Random Forest models for inferencing on machines without GPUs"
   ]
  },
  {
   "cell_type": "markdown",
   "metadata": {},
   "source": [
    "Starting with cuML version 21.06, you can export cuML Random Forest models and run predictions with them on machines without an NVIDIA GPUs. The [Treelite](https://github.com/dmlc/treelite) package defines an efficient exchange format that lets you portably move the cuML Random Forest models to other machines. We will refer to the exchange format as \"checkpoints.\"\n",
    "\n",
    "Here are the steps to export the model:\n",
    "\n",
    "1. Call `to_treelite_checkpoint()` to obtain the checkpoint file from the cuML Random Forest model."
   ]
  },
  {
   "cell_type": "code",
   "execution_count": 14,
   "metadata": {
    "execution": {
     "iopub.execute_input": "2022-01-11T11:37:27.006455Z",
     "iopub.status.busy": "2022-01-11T11:37:27.005145Z",
     "iopub.status.idle": "2022-01-11T11:37:27.153056Z",
     "shell.execute_reply": "2022-01-11T11:37:27.154278Z"
    }
   },
   "outputs": [
    {
     "name": "stderr",
     "output_type": "stream",
     "text": [
      "/opt/conda/envs/rapids/lib/python3.7/site-packages/cuml/internals/api_decorators.py:794: UserWarning: For reproducible results in Random Forest Classifier or for almost reproducible results in Random Forest Regressor, n_streams=1 is recommended. If n_streams is > 1, results may vary due to stream/thread timing differences, even when random_state is set\n",
      "  return func(**kwargs)\n"
     ]
    }
   ],
   "source": [
    "from cuml.ensemble import RandomForestClassifier as cumlRandomForestClassifier\n",
    "from sklearn.datasets import load_iris\n",
    "import numpy as np\n",
    "\n",
    "X, y = load_iris(return_X_y=True)\n",
    "X, y = X.astype(np.float32), y.astype(np.int32)\n",
    "clf = cumlRandomForestClassifier(max_depth=3, random_state=0, n_estimators=10)\n",
    "clf.fit(X, y)\n",
    "\n",
    "checkpoint_path = './checkpoint.tl'\n",
    "# Export cuML RF model as Treelite checkpoint\n",
    "clf.convert_to_treelite_model().to_treelite_checkpoint(checkpoint_path)"
   ]
  },
  {
   "cell_type": "markdown",
   "metadata": {},
   "source": [
    "2. Copy the generated checkpoint file `checkpoint.tl` to another machine on which you'd like to run predictions.\n",
    "\n",
    "3. On the target machine, install Treelite by running `pip install treelite` or `conda install -c conda-forge treelite`. The machine does not need to have an NVIDIA GPUs and does not need to have cuML installed.\n",
    "\n",
    "4. You can now load the model from the checkpoint, by running the following on the target machine:"
   ]
  },
  {
   "cell_type": "code",
   "execution_count": 15,
   "metadata": {
    "execution": {
     "iopub.execute_input": "2022-01-11T11:37:27.159365Z",
     "iopub.status.busy": "2022-01-11T11:37:27.158083Z",
     "iopub.status.idle": "2022-01-11T11:37:27.181994Z",
     "shell.execute_reply": "2022-01-11T11:37:27.183253Z"
    }
   },
   "outputs": [
    {
     "name": "stdout",
     "output_type": "stream",
     "text": [
      "[[1.         0.         0.        ]\n",
      " [1.         0.         0.        ]\n",
      " [1.         0.         0.        ]\n",
      " [1.         0.         0.        ]\n",
      " [1.         0.         0.        ]\n",
      " [1.         0.         0.        ]\n",
      " [1.         0.         0.        ]\n",
      " [1.         0.         0.        ]\n",
      " [1.         0.         0.        ]\n",
      " [1.         0.         0.        ]\n",
      " [1.         0.         0.        ]\n",
      " [1.         0.         0.        ]\n",
      " [1.         0.         0.        ]\n",
      " [1.         0.         0.        ]\n",
      " [1.         0.         0.        ]\n",
      " [1.         0.         0.        ]\n",
      " [1.         0.         0.        ]\n",
      " [1.         0.         0.        ]\n",
      " [0.9        0.09166667 0.00833333]\n",
      " [1.         0.         0.        ]\n",
      " [1.         0.         0.        ]\n",
      " [1.         0.         0.        ]\n",
      " [1.         0.         0.        ]\n",
      " [1.         0.         0.        ]\n",
      " [1.         0.         0.        ]\n",
      " [1.         0.         0.        ]\n",
      " [1.         0.         0.        ]\n",
      " [1.         0.         0.        ]\n",
      " [1.         0.         0.        ]\n",
      " [1.         0.         0.        ]\n",
      " [1.         0.         0.        ]\n",
      " [1.         0.         0.        ]\n",
      " [1.         0.         0.        ]\n",
      " [1.         0.         0.        ]\n",
      " [1.         0.         0.        ]\n",
      " [1.         0.         0.        ]\n",
      " [1.         0.         0.        ]\n",
      " [1.         0.         0.        ]\n",
      " [1.         0.         0.        ]\n",
      " [1.         0.         0.        ]\n",
      " [1.         0.         0.        ]\n",
      " [0.9        0.         0.1       ]\n",
      " [1.         0.         0.        ]\n",
      " [1.         0.         0.        ]\n",
      " [1.         0.         0.        ]\n",
      " [1.         0.         0.        ]\n",
      " [1.         0.         0.        ]\n",
      " [1.         0.         0.        ]\n",
      " [1.         0.         0.        ]\n",
      " [1.         0.         0.        ]\n",
      " [0.         0.97452766 0.02547234]\n",
      " [0.         0.97452766 0.02547234]\n",
      " [0.         0.7460598  0.25394017]\n",
      " [0.         0.9871346  0.0128655 ]\n",
      " [0.         0.97452766 0.02547234]\n",
      " [0.         0.97880113 0.02119883]\n",
      " [0.         0.9274122  0.07258771]\n",
      " [0.         0.6388889  0.3611111 ]\n",
      " [0.         0.97452766 0.02547234]\n",
      " [0.         0.9871346  0.0128655 ]\n",
      " [0.         0.85380113 0.14619884]\n",
      " [0.         0.97880113 0.02119883]\n",
      " [0.         0.9300833  0.06991678]\n",
      " [0.         0.9634166  0.03658345]\n",
      " [0.         0.97880113 0.02119883]\n",
      " [0.         0.97452766 0.02547234]\n",
      " [0.         0.97880113 0.02119883]\n",
      " [0.         0.97880113 0.02119883]\n",
      " [0.         0.9300833  0.06991678]\n",
      " [0.         0.97880113 0.02119883]\n",
      " [0.         0.4074123  0.5925877 ]\n",
      " [0.         0.9634166  0.03658345]\n",
      " [0.         0.7460598  0.25394017]\n",
      " [0.         0.9634166  0.03658345]\n",
      " [0.         0.97452766 0.02547234]\n",
      " [0.         0.97452766 0.02547234]\n",
      " [0.         0.81230545 0.18769456]\n",
      " [0.         0.31124604 0.68875396]\n",
      " [0.         0.9634166  0.03658345]\n",
      " [0.         0.97880113 0.02119883]\n",
      " [0.         0.9871346  0.0128655 ]\n",
      " [0.         0.9871346  0.0128655 ]\n",
      " [0.         0.97880113 0.02119883]\n",
      " [0.         0.23505557 0.76494443]\n",
      " [0.         0.9871346  0.0128655 ]\n",
      " [0.         0.91630113 0.08369882]\n",
      " [0.         0.97452766 0.02547234]\n",
      " [0.         0.97452766 0.02547234]\n",
      " [0.         0.97880113 0.02119883]\n",
      " [0.         0.9871346  0.0128655 ]\n",
      " [0.         0.9871346  0.0128655 ]\n",
      " [0.         0.9634166  0.03658345]\n",
      " [0.         0.97880113 0.02119883]\n",
      " [0.         0.88713455 0.11286551]\n",
      " [0.         0.97880113 0.02119883]\n",
      " [0.         0.97880113 0.02119883]\n",
      " [0.         0.97880113 0.02119883]\n",
      " [0.         0.9634166  0.03658345]\n",
      " [0.         0.9871346  0.0128655 ]\n",
      " [0.         0.97880113 0.02119883]\n",
      " [0.         0.01333333 0.9866667 ]\n",
      " [0.         0.08088888 0.91911113]\n",
      " [0.         0.02444444 0.9755556 ]\n",
      " [0.         0.08638889 0.9136111 ]\n",
      " [0.         0.03777778 0.9622222 ]\n",
      " [0.         0.02444444 0.9755556 ]\n",
      " [0.         0.34305555 0.6569444 ]\n",
      " [0.         0.07305555 0.92694443]\n",
      " [0.         0.08638889 0.9136111 ]\n",
      " [0.         0.         1.        ]\n",
      " [0.         0.05644444 0.94355565]\n",
      " [0.         0.03777778 0.9622222 ]\n",
      " [0.         0.03777778 0.9622222 ]\n",
      " [0.         0.17374603 0.826254  ]\n",
      " [0.         0.08088888 0.91911113]\n",
      " [0.         0.01333333 0.9866667 ]\n",
      " [0.         0.08638889 0.9136111 ]\n",
      " [0.         0.         1.        ]\n",
      " [0.         0.02444444 0.9755556 ]\n",
      " [0.         0.32502812 0.67497194]\n",
      " [0.         0.01333333 0.9866667 ]\n",
      " [0.         0.28366667 0.7163333 ]\n",
      " [0.         0.02444444 0.9755556 ]\n",
      " [0.         0.34338892 0.6566111 ]\n",
      " [0.         0.01333333 0.9866667 ]\n",
      " [0.         0.04861111 0.95138896]\n",
      " [0.         0.43185672 0.5681433 ]\n",
      " [0.         0.3322778  0.6677222 ]\n",
      " [0.         0.03777778 0.9622222 ]\n",
      " [0.         0.17861111 0.8213889 ]\n",
      " [0.         0.02444444 0.9755556 ]\n",
      " [0.         0.         1.        ]\n",
      " [0.         0.03777778 0.9622222 ]\n",
      " [0.         0.28217095 0.7178291 ]\n",
      " [0.         0.23905985 0.7609402 ]\n",
      " [0.         0.02444444 0.9755556 ]\n",
      " [0.         0.01333333 0.9866667 ]\n",
      " [0.         0.08638889 0.9136111 ]\n",
      " [0.         0.43185672 0.5681433 ]\n",
      " [0.         0.03777778 0.9622222 ]\n",
      " [0.         0.03777778 0.9622222 ]\n",
      " [0.         0.08088888 0.91911113]\n",
      " [0.         0.08088888 0.91911113]\n",
      " [0.         0.01333333 0.9866667 ]\n",
      " [0.         0.01333333 0.9866667 ]\n",
      " [0.         0.08088888 0.91911113]\n",
      " [0.         0.17374603 0.826254  ]\n",
      " [0.         0.08088888 0.91911113]\n",
      " [0.         0.01333333 0.9866667 ]\n",
      " [0.         0.1295     0.87049997]]\n"
     ]
    }
   ],
   "source": [
    "import treelite\n",
    "\n",
    "# The checkpoint file has been copied over\n",
    "checkpoint_path = './checkpoint.tl'\n",
    "tl_model = treelite.Model.deserialize(checkpoint_path)\n",
    "out_prob = treelite.gtil.predict(tl_model, X, pred_margin=True)\n",
    "print(out_prob)"
   ]
  }
 ],
 "metadata": {
  "kernelspec": {
   "display_name": "Python 3",
   "language": "python",
   "name": "python3"
  },
  "language_info": {
   "codemirror_mode": {
    "name": "ipython",
    "version": 3
   },
   "file_extension": ".py",
   "mimetype": "text/x-python",
   "name": "python",
   "nbconvert_exporter": "python",
   "pygments_lexer": "ipython3",
   "version": "3.7.12"
  }
 },
 "nbformat": 4,
 "nbformat_minor": 4
}
