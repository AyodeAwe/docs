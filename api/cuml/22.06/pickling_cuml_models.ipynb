{
 "cells": [
  {
   "cell_type": "markdown",
   "metadata": {},
   "source": [
    "# Pickling cuML Models for Persistence\n",
    "\n",
    "This notebook demonstrates simple pickling of both single-GPU and multi-GPU cuML models for persistence"
   ]
  },
  {
   "cell_type": "code",
   "execution_count": 1,
   "metadata": {
    "execution": {
     "iopub.execute_input": "2022-05-30T10:50:24.442015Z",
     "iopub.status.busy": "2022-05-30T10:50:24.441393Z",
     "iopub.status.idle": "2022-05-30T10:50:24.453892Z",
     "shell.execute_reply": "2022-05-30T10:50:24.452930Z"
    }
   },
   "outputs": [],
   "source": [
    "import warnings\n",
    "warnings.filterwarnings(\"ignore\", category=FutureWarning)"
   ]
  },
  {
   "cell_type": "markdown",
   "metadata": {},
   "source": [
    "## Single GPU Model Pickling\n",
    "\n",
    "All single-GPU estimators are pickleable. The following example demonstrates the creation of a synthetic dataset, training, and pickling of the resulting model for storage. Trained single-GPU models can also be used to distribute the inference on a Dask cluster, which the `Distributed Model Pickling` section below demonstrates."
   ]
  },
  {
   "cell_type": "code",
   "execution_count": 2,
   "metadata": {
    "execution": {
     "iopub.execute_input": "2022-05-30T10:50:24.457956Z",
     "iopub.status.busy": "2022-05-30T10:50:24.457679Z",
     "iopub.status.idle": "2022-05-30T10:50:30.940521Z",
     "shell.execute_reply": "2022-05-30T10:50:30.939630Z"
    }
   },
   "outputs": [],
   "source": [
    "from cuml.datasets import make_blobs\n",
    "\n",
    "X, y = make_blobs(n_samples=50,\n",
    "                  n_features=10,\n",
    "                  centers=5,\n",
    "                  cluster_std=0.4,\n",
    "                  random_state=0)"
   ]
  },
  {
   "cell_type": "code",
   "execution_count": 3,
   "metadata": {
    "execution": {
     "iopub.execute_input": "2022-05-30T10:50:30.946377Z",
     "iopub.status.busy": "2022-05-30T10:50:30.946093Z",
     "iopub.status.idle": "2022-05-30T10:50:31.204884Z",
     "shell.execute_reply": "2022-05-30T10:50:31.204131Z"
    }
   },
   "outputs": [
    {
     "data": {
      "text/plain": [
       "KMeans()"
      ]
     },
     "execution_count": 3,
     "metadata": {},
     "output_type": "execute_result"
    }
   ],
   "source": [
    "from cuml.cluster import KMeans\n",
    "\n",
    "model = KMeans(n_clusters=5)\n",
    "\n",
    "model.fit(X)"
   ]
  },
  {
   "cell_type": "code",
   "execution_count": 4,
   "metadata": {
    "execution": {
     "iopub.execute_input": "2022-05-30T10:50:31.210924Z",
     "iopub.status.busy": "2022-05-30T10:50:31.210608Z",
     "iopub.status.idle": "2022-05-30T10:50:31.215579Z",
     "shell.execute_reply": "2022-05-30T10:50:31.214774Z"
    }
   },
   "outputs": [],
   "source": [
    "import pickle\n",
    "\n",
    "pickle.dump(model, open(\"kmeans_model.pkl\", \"wb\"))"
   ]
  },
  {
   "cell_type": "code",
   "execution_count": 5,
   "metadata": {
    "execution": {
     "iopub.execute_input": "2022-05-30T10:50:31.220067Z",
     "iopub.status.busy": "2022-05-30T10:50:31.219726Z",
     "iopub.status.idle": "2022-05-30T10:50:31.225502Z",
     "shell.execute_reply": "2022-05-30T10:50:31.224364Z"
    }
   },
   "outputs": [],
   "source": [
    "model = pickle.load(open(\"kmeans_model.pkl\", \"rb\"))"
   ]
  },
  {
   "cell_type": "code",
   "execution_count": 6,
   "metadata": {
    "execution": {
     "iopub.execute_input": "2022-05-30T10:50:31.229814Z",
     "iopub.status.busy": "2022-05-30T10:50:31.229354Z",
     "iopub.status.idle": "2022-05-30T10:50:31.236463Z",
     "shell.execute_reply": "2022-05-30T10:50:31.235855Z"
    }
   },
   "outputs": [
    {
     "data": {
      "text/plain": [
       "array([[ 4.6749854 ,  8.213466  , -9.075721  ,  9.568374  ,  8.454808  ,\n",
       "        -1.2327975 ,  3.390371  , -7.828242  , -0.8454461 ,  0.62885725],\n",
       "       [-4.243999  ,  5.6107073 , -5.669777  , -1.7957245 , -9.255528  ,\n",
       "         0.71774375,  4.4435906 , -2.8747153 , -5.090096  ,  9.684121  ],\n",
       "       [ 5.2615476 , -4.0487256 ,  4.464928  , -2.9367518 ,  3.5061095 ,\n",
       "        -4.0168314 , -3.463885  ,  6.0784483 , -6.953326  , -1.004144  ],\n",
       "       [-3.008261  ,  4.625961  , -4.483249  ,  2.228457  ,  1.643532  ,\n",
       "        -2.4505193 , -5.258201  , -1.6679401 , -7.985754  ,  2.8311472 ],\n",
       "       [-5.6072407 ,  2.2695985 , -3.7516532 , -1.8182005 , -5.143028  ,\n",
       "         7.599363  ,  2.8252366 ,  8.773042  ,  1.6198314 ,  1.1772048 ]],\n",
       "      dtype=float32)"
      ]
     },
     "execution_count": 6,
     "metadata": {},
     "output_type": "execute_result"
    }
   ],
   "source": [
    "model.cluster_centers_"
   ]
  },
  {
   "cell_type": "markdown",
   "metadata": {},
   "source": [
    "## Distributed Model Pickling"
   ]
  },
  {
   "cell_type": "markdown",
   "metadata": {},
   "source": [
    "The distributed estimator wrappers inside of the `cuml.dask` are not intended to be pickled directly. The Dask cuML estimators provide a function `get_combined_model()`, which returns the trained single-GPU model for pickling. The combined model can be used for inference on a single-GPU, and the `ParallelPostFit` wrapper from the [Dask-ML](https://ml.dask.org/meta-estimators.html) library can be used to perform distributed inference on a Dask cluster."
   ]
  },
  {
   "cell_type": "code",
   "execution_count": 7,
   "metadata": {
    "execution": {
     "iopub.execute_input": "2022-05-30T10:50:31.241044Z",
     "iopub.status.busy": "2022-05-30T10:50:31.240767Z",
     "iopub.status.idle": "2022-05-30T10:50:34.897215Z",
     "shell.execute_reply": "2022-05-30T10:50:34.896373Z"
    }
   },
   "outputs": [
    {
     "name": "stderr",
     "output_type": "stream",
     "text": [
      "2022-05-30 10:50:34,338 - distributed.preloading - INFO - Import preload module: dask_cuda.initialize\n"
     ]
    },
    {
     "data": {
      "text/html": [
       "<div>\n",
       "    <div style=\"width: 24px; height: 24px; background-color: #e1e1e1; border: 3px solid #9D9D9D; border-radius: 5px; position: absolute;\"> </div>\n",
       "    <div style=\"margin-left: 48px;\">\n",
       "        <h3 style=\"margin-bottom: 0px;\">Client</h3>\n",
       "        <p style=\"color: #9D9D9D; margin-bottom: 0px;\">Client-555ba1b3-e006-11ec-8da3-3dc47da1fc8d</p>\n",
       "        <table style=\"width: 100%; text-align: left;\">\n",
       "\n",
       "        <tr>\n",
       "        \n",
       "            <td style=\"text-align: left;\"><strong>Connection method:</strong> Cluster object</td>\n",
       "            <td style=\"text-align: left;\"><strong>Cluster type:</strong> dask_cuda.LocalCUDACluster</td>\n",
       "        \n",
       "        </tr>\n",
       "\n",
       "        \n",
       "            <tr>\n",
       "                <td style=\"text-align: left;\">\n",
       "                    <strong>Dashboard: </strong> <a href=\"http://127.0.0.1:8787/status\" target=\"_blank\">http://127.0.0.1:8787/status</a>\n",
       "                </td>\n",
       "                <td style=\"text-align: left;\"></td>\n",
       "            </tr>\n",
       "        \n",
       "\n",
       "        </table>\n",
       "\n",
       "        \n",
       "            <details>\n",
       "            <summary style=\"margin-bottom: 20px;\"><h3 style=\"display: inline;\">Cluster Info</h3></summary>\n",
       "            <div class=\"jp-RenderedHTMLCommon jp-RenderedHTML jp-mod-trusted jp-OutputArea-output\">\n",
       "    <div style=\"width: 24px; height: 24px; background-color: #e1e1e1; border: 3px solid #9D9D9D; border-radius: 5px; position: absolute;\">\n",
       "    </div>\n",
       "    <div style=\"margin-left: 48px;\">\n",
       "        <h3 style=\"margin-bottom: 0px; margin-top: 0px;\">LocalCUDACluster</h3>\n",
       "        <p style=\"color: #9D9D9D; margin-bottom: 0px;\">fe05ac4a</p>\n",
       "        <table style=\"width: 100%; text-align: left;\">\n",
       "            <tr>\n",
       "                <td style=\"text-align: left;\">\n",
       "                    <strong>Dashboard:</strong> <a href=\"http://127.0.0.1:8787/status\" target=\"_blank\">http://127.0.0.1:8787/status</a>\n",
       "                </td>\n",
       "                <td style=\"text-align: left;\">\n",
       "                    <strong>Workers:</strong> 1\n",
       "                </td>\n",
       "            </tr>\n",
       "            <tr>\n",
       "                <td style=\"text-align: left;\">\n",
       "                    <strong>Total threads:</strong> 1\n",
       "                </td>\n",
       "                <td style=\"text-align: left;\">\n",
       "                    <strong>Total memory:</strong> 251.79 GiB\n",
       "                </td>\n",
       "            </tr>\n",
       "            \n",
       "            <tr>\n",
       "    <td style=\"text-align: left;\"><strong>Status:</strong> running</td>\n",
       "    <td style=\"text-align: left;\"><strong>Using processes:</strong> True</td>\n",
       "</tr>\n",
       "\n",
       "            \n",
       "        </table>\n",
       "\n",
       "        <details>\n",
       "            <summary style=\"margin-bottom: 20px;\">\n",
       "                <h3 style=\"display: inline;\">Scheduler Info</h3>\n",
       "            </summary>\n",
       "\n",
       "            <div style=\"\">\n",
       "    <div>\n",
       "        <div style=\"width: 24px; height: 24px; background-color: #FFF7E5; border: 3px solid #FF6132; border-radius: 5px; position: absolute;\"> </div>\n",
       "        <div style=\"margin-left: 48px;\">\n",
       "            <h3 style=\"margin-bottom: 0px;\">Scheduler</h3>\n",
       "            <p style=\"color: #9D9D9D; margin-bottom: 0px;\">Scheduler-f3cc3018-afe7-4812-a524-d19cf31f87aa</p>\n",
       "            <table style=\"width: 100%; text-align: left;\">\n",
       "                <tr>\n",
       "                    <td style=\"text-align: left;\">\n",
       "                        <strong>Comm:</strong> tcp://127.0.0.1:38471\n",
       "                    </td>\n",
       "                    <td style=\"text-align: left;\">\n",
       "                        <strong>Workers:</strong> 1\n",
       "                    </td>\n",
       "                </tr>\n",
       "                <tr>\n",
       "                    <td style=\"text-align: left;\">\n",
       "                        <strong>Dashboard:</strong> <a href=\"http://127.0.0.1:8787/status\" target=\"_blank\">http://127.0.0.1:8787/status</a>\n",
       "                    </td>\n",
       "                    <td style=\"text-align: left;\">\n",
       "                        <strong>Total threads:</strong> 1\n",
       "                    </td>\n",
       "                </tr>\n",
       "                <tr>\n",
       "                    <td style=\"text-align: left;\">\n",
       "                        <strong>Started:</strong> Just now\n",
       "                    </td>\n",
       "                    <td style=\"text-align: left;\">\n",
       "                        <strong>Total memory:</strong> 251.79 GiB\n",
       "                    </td>\n",
       "                </tr>\n",
       "            </table>\n",
       "        </div>\n",
       "    </div>\n",
       "\n",
       "    <details style=\"margin-left: 48px;\">\n",
       "        <summary style=\"margin-bottom: 20px;\">\n",
       "            <h3 style=\"display: inline;\">Workers</h3>\n",
       "        </summary>\n",
       "\n",
       "        \n",
       "        <div style=\"margin-bottom: 20px;\">\n",
       "            <div style=\"width: 24px; height: 24px; background-color: #DBF5FF; border: 3px solid #4CC9FF; border-radius: 5px; position: absolute;\"> </div>\n",
       "            <div style=\"margin-left: 48px;\">\n",
       "            <details>\n",
       "                <summary>\n",
       "                    <h4 style=\"margin-bottom: 0px; display: inline;\">Worker: 0</h4>\n",
       "                </summary>\n",
       "                <table style=\"width: 100%; text-align: left;\">\n",
       "                    <tr>\n",
       "                        <td style=\"text-align: left;\">\n",
       "                            <strong>Comm: </strong> tcp://127.0.0.1:32791\n",
       "                        </td>\n",
       "                        <td style=\"text-align: left;\">\n",
       "                            <strong>Total threads: </strong> 1\n",
       "                        </td>\n",
       "                    </tr>\n",
       "                    <tr>\n",
       "                        <td style=\"text-align: left;\">\n",
       "                            <strong>Dashboard: </strong> <a href=\"http://127.0.0.1:32871/status\" target=\"_blank\">http://127.0.0.1:32871/status</a>\n",
       "                        </td>\n",
       "                        <td style=\"text-align: left;\">\n",
       "                            <strong>Memory: </strong> 251.79 GiB\n",
       "                        </td>\n",
       "                    </tr>\n",
       "                    <tr>\n",
       "                        <td style=\"text-align: left;\">\n",
       "                            <strong>Nanny: </strong> tcp://127.0.0.1:46589\n",
       "                        </td>\n",
       "                        <td style=\"text-align: left;\"></td>\n",
       "                    </tr>\n",
       "                    <tr>\n",
       "                        <td colspan=\"2\" style=\"text-align: left;\">\n",
       "                            <strong>Local directory: </strong> /rapids/cuml/docs/source/dask-worker-space/worker-4o7k3s93\n",
       "                        </td>\n",
       "                    </tr>\n",
       "\n",
       "                    \n",
       "                    <tr>\n",
       "                        <td style=\"text-align: left;\">\n",
       "                            <strong>GPU: </strong>Tesla V100-PCIE-32GB\n",
       "                        </td>\n",
       "                        <td style=\"text-align: left;\">\n",
       "                            <strong>GPU memory: </strong> 31.75 GiB\n",
       "                        </td>\n",
       "                    </tr>\n",
       "                    \n",
       "\n",
       "                    \n",
       "\n",
       "                </table>\n",
       "            </details>\n",
       "            </div>\n",
       "        </div>\n",
       "        \n",
       "\n",
       "    </details>\n",
       "</div>\n",
       "\n",
       "        </details>\n",
       "    </div>\n",
       "</div>\n",
       "            </details>\n",
       "        \n",
       "\n",
       "    </div>\n",
       "</div>"
      ],
      "text/plain": [
       "<Client: 'tcp://127.0.0.1:38471' processes=1 threads=1, memory=251.79 GiB>"
      ]
     },
     "execution_count": 7,
     "metadata": {},
     "output_type": "execute_result"
    }
   ],
   "source": [
    "from dask.distributed import Client\n",
    "from dask_cuda import LocalCUDACluster\n",
    "\n",
    "cluster = LocalCUDACluster()\n",
    "client = Client(cluster)\n",
    "client"
   ]
  },
  {
   "cell_type": "code",
   "execution_count": 8,
   "metadata": {
    "execution": {
     "iopub.execute_input": "2022-05-30T10:50:34.903631Z",
     "iopub.status.busy": "2022-05-30T10:50:34.903261Z",
     "iopub.status.idle": "2022-05-30T10:50:35.540524Z",
     "shell.execute_reply": "2022-05-30T10:50:35.538204Z"
    }
   },
   "outputs": [],
   "source": [
    "from cuml.dask.datasets import make_blobs\n",
    "\n",
    "n_workers = len(client.scheduler_info()[\"workers\"].keys())\n",
    "\n",
    "X, y = make_blobs(n_samples=5000, \n",
    "                  n_features=30,\n",
    "                  centers=5, \n",
    "                  cluster_std=0.4, \n",
    "                  random_state=0,\n",
    "                  n_parts=n_workers*5)\n",
    "\n",
    "X = X.persist()\n",
    "y = y.persist()"
   ]
  },
  {
   "cell_type": "code",
   "execution_count": 9,
   "metadata": {
    "execution": {
     "iopub.execute_input": "2022-05-30T10:50:35.546908Z",
     "iopub.status.busy": "2022-05-30T10:50:35.546288Z",
     "iopub.status.idle": "2022-05-30T10:50:35.556403Z",
     "shell.execute_reply": "2022-05-30T10:50:35.555372Z"
    }
   },
   "outputs": [],
   "source": [
    "from cuml.dask.cluster import KMeans\n",
    "\n",
    "dist_model = KMeans(n_clusters=5)"
   ]
  },
  {
   "cell_type": "code",
   "execution_count": 10,
   "metadata": {
    "execution": {
     "iopub.execute_input": "2022-05-30T10:50:35.560985Z",
     "iopub.status.busy": "2022-05-30T10:50:35.560483Z",
     "iopub.status.idle": "2022-05-30T10:50:40.679041Z",
     "shell.execute_reply": "2022-05-30T10:50:40.677670Z"
    }
   },
   "outputs": [
    {
     "name": "stderr",
     "output_type": "stream",
     "text": [
      "2022-05-30 10:50:40,407 - distributed.worker - WARNING - Compute Failed\n",
      "Key:       _get_model_attr-72b773b4-6d9c-4f73-99bb-48d0ac35c4d7\n",
      "Function:  _get_model_attr\n",
      "args:      (KMeansMG(), '_ipython_canary_method_should_not_exist_')\n",
      "kwargs:    {}\n",
      "Exception: 'AttributeError(\"Attribute _ipython_canary_method_should_not_exist_ does not exist on model <class \\'cuml.cluster.kmeans_mg.KMeansMG\\'>\")'\n",
      "\n",
      "2022-05-30 10:50:40,418 - distributed.worker - WARNING - Compute Failed\n",
      "Key:       _get_model_attr-9a411ef0-8a98-4e3f-af7f-9cb16d7530be\n",
      "Function:  _get_model_attr\n",
      "args:      (KMeansMG(), '_ipython_display_')\n",
      "kwargs:    {}\n",
      "Exception: 'AttributeError(\"Attribute _ipython_display_ does not exist on model <class \\'cuml.cluster.kmeans_mg.KMeansMG\\'>\")'\n",
      "\n",
      "2022-05-30 10:50:40,430 - distributed.worker - WARNING - Compute Failed\n",
      "Key:       _get_model_attr-839e8911-e23e-449c-9ae2-95e4a78b2432\n",
      "Function:  _get_model_attr\n",
      "args:      (KMeansMG(), '_ipython_canary_method_should_not_exist_')\n",
      "kwargs:    {}\n",
      "Exception: 'AttributeError(\"Attribute _ipython_canary_method_should_not_exist_ does not exist on model <class \\'cuml.cluster.kmeans_mg.KMeansMG\\'>\")'\n",
      "\n",
      "2022-05-30 10:50:40,441 - distributed.worker - WARNING - Compute Failed\n",
      "Key:       _get_model_attr-b64d0974-3410-43e4-9892-9622d09a5e38\n",
      "Function:  _get_model_attr\n",
      "args:      (KMeansMG(), '_repr_mimebundle_')\n",
      "kwargs:    {}\n",
      "Exception: 'AttributeError(\"Attribute _repr_mimebundle_ does not exist on model <class \\'cuml.cluster.kmeans_mg.KMeansMG\\'>\")'\n",
      "\n",
      "2022-05-30 10:50:40,453 - distributed.worker - WARNING - Compute Failed\n",
      "Key:       _get_model_attr-cc23bb64-7c77-4d0e-b354-38ac890ea863\n",
      "Function:  _get_model_attr\n",
      "args:      (KMeansMG(), '_ipython_canary_method_should_not_exist_')\n",
      "kwargs:    {}\n",
      "Exception: 'AttributeError(\"Attribute _ipython_canary_method_should_not_exist_ does not exist on model <class \\'cuml.cluster.kmeans_mg.KMeansMG\\'>\")'\n",
      "\n",
      "2022-05-30 10:50:40,467 - distributed.worker - WARNING - Compute Failed\n",
      "Key:       _get_model_attr-49f96648-ac2a-40ba-9ed7-c9a710d57d69\n",
      "Function:  _get_model_attr\n",
      "args:      (KMeansMG(), '_repr_html_')\n",
      "kwargs:    {}\n",
      "Exception: 'AttributeError(\"Attribute _repr_html_ does not exist on model <class \\'cuml.cluster.kmeans_mg.KMeansMG\\'>\")'\n",
      "\n",
      "2022-05-30 10:50:40,478 - distributed.worker - WARNING - Compute Failed\n",
      "Key:       _get_model_attr-2ed09703-577a-479a-800f-7a9805984ecb\n",
      "Function:  _get_model_attr\n",
      "args:      (KMeansMG(), '_ipython_canary_method_should_not_exist_')\n",
      "kwargs:    {}\n",
      "Exception: 'AttributeError(\"Attribute _ipython_canary_method_should_not_exist_ does not exist on model <class \\'cuml.cluster.kmeans_mg.KMeansMG\\'>\")'\n",
      "\n",
      "2022-05-30 10:50:40,489 - distributed.worker - WARNING - Compute Failed\n",
      "Key:       _get_model_attr-fbf2e8cf-fa23-4f9d-978a-cfa2f65fa650\n",
      "Function:  _get_model_attr\n",
      "args:      (KMeansMG(), '_repr_markdown_')\n",
      "kwargs:    {}\n",
      "Exception: 'AttributeError(\"Attribute _repr_markdown_ does not exist on model <class \\'cuml.cluster.kmeans_mg.KMeansMG\\'>\")'\n",
      "\n",
      "2022-05-30 10:50:40,501 - distributed.worker - WARNING - Compute Failed\n",
      "Key:       _get_model_attr-2471f256-c216-4d5d-b610-32db1bed3582\n",
      "Function:  _get_model_attr\n",
      "args:      (KMeansMG(), '_ipython_canary_method_should_not_exist_')\n",
      "kwargs:    {}\n",
      "Exception: 'AttributeError(\"Attribute _ipython_canary_method_should_not_exist_ does not exist on model <class \\'cuml.cluster.kmeans_mg.KMeansMG\\'>\")'\n",
      "\n",
      "2022-05-30 10:50:40,518 - distributed.worker - WARNING - Compute Failed\n",
      "Key:       _get_model_attr-a0f247ab-ebeb-4d09-8c08-5a0faf6f187d\n",
      "Function:  _get_model_attr\n",
      "args:      (KMeansMG(), '_repr_svg_')\n",
      "kwargs:    {}\n",
      "Exception: 'AttributeError(\"Attribute _repr_svg_ does not exist on model <class \\'cuml.cluster.kmeans_mg.KMeansMG\\'>\")'\n",
      "\n",
      "2022-05-30 10:50:40,530 - distributed.worker - WARNING - Compute Failed\n",
      "Key:       _get_model_attr-4c5a247e-b7e2-4040-bbbd-0d9f7a2a0fcd\n",
      "Function:  _get_model_attr\n",
      "args:      (KMeansMG(), '_ipython_canary_method_should_not_exist_')\n",
      "kwargs:    {}\n",
      "Exception: 'AttributeError(\"Attribute _ipython_canary_method_should_not_exist_ does not exist on model <class \\'cuml.cluster.kmeans_mg.KMeansMG\\'>\")'\n",
      "\n",
      "2022-05-30 10:50:40,544 - distributed.worker - WARNING - Compute Failed\n",
      "Key:       _get_model_attr-763a5454-2246-416d-9f3c-e4ba8cadaec2\n",
      "Function:  _get_model_attr\n",
      "args:      (KMeansMG(), '_repr_png_')\n",
      "kwargs:    {}\n",
      "Exception: 'AttributeError(\"Attribute _repr_png_ does not exist on model <class \\'cuml.cluster.kmeans_mg.KMeansMG\\'>\")'\n",
      "\n",
      "2022-05-30 10:50:40,557 - distributed.worker - WARNING - Compute Failed\n",
      "Key:       _get_model_attr-e23c8665-8f40-4ceb-ba0b-7d28699047aa\n",
      "Function:  _get_model_attr\n",
      "args:      (KMeansMG(), '_ipython_canary_method_should_not_exist_')\n",
      "kwargs:    {}\n",
      "Exception: 'AttributeError(\"Attribute _ipython_canary_method_should_not_exist_ does not exist on model <class \\'cuml.cluster.kmeans_mg.KMeansMG\\'>\")'\n",
      "\n",
      "2022-05-30 10:50:40,569 - distributed.worker - WARNING - Compute Failed\n",
      "Key:       _get_model_attr-16577a8c-e1fe-448b-8386-4dcc1e5e8acc\n",
      "Function:  _get_model_attr\n",
      "args:      (KMeansMG(), '_repr_pdf_')\n",
      "kwargs:    {}\n",
      "Exception: 'AttributeError(\"Attribute _repr_pdf_ does not exist on model <class \\'cuml.cluster.kmeans_mg.KMeansMG\\'>\")'\n",
      "\n",
      "2022-05-30 10:50:40,581 - distributed.worker - WARNING - Compute Failed\n",
      "Key:       _get_model_attr-40a8f211-acd6-4d5f-8066-4d70d602556d\n",
      "Function:  _get_model_attr\n",
      "args:      (KMeansMG(), '_ipython_canary_method_should_not_exist_')\n",
      "kwargs:    {}\n",
      "Exception: 'AttributeError(\"Attribute _ipython_canary_method_should_not_exist_ does not exist on model <class \\'cuml.cluster.kmeans_mg.KMeansMG\\'>\")'\n",
      "\n",
      "2022-05-30 10:50:40,593 - distributed.worker - WARNING - Compute Failed\n",
      "Key:       _get_model_attr-e525c1b5-0439-4fd0-9daa-d29da29203eb\n",
      "Function:  _get_model_attr\n",
      "args:      (KMeansMG(), '_repr_jpeg_')\n",
      "kwargs:    {}\n",
      "Exception: 'AttributeError(\"Attribute _repr_jpeg_ does not exist on model <class \\'cuml.cluster.kmeans_mg.KMeansMG\\'>\")'\n",
      "\n",
      "2022-05-30 10:50:40,606 - distributed.worker - WARNING - Compute Failed\n",
      "Key:       _get_model_attr-ac1c1f7f-8fa7-40a9-ba31-7736f5d2aed8\n",
      "Function:  _get_model_attr\n",
      "args:      (KMeansMG(), '_ipython_canary_method_should_not_exist_')\n",
      "kwargs:    {}\n",
      "Exception: 'AttributeError(\"Attribute _ipython_canary_method_should_not_exist_ does not exist on model <class \\'cuml.cluster.kmeans_mg.KMeansMG\\'>\")'\n",
      "\n"
     ]
    },
    {
     "name": "stderr",
     "output_type": "stream",
     "text": [
      "2022-05-30 10:50:40,619 - distributed.worker - WARNING - Compute Failed\n",
      "Key:       _get_model_attr-c45345a5-4d73-4b44-b32c-a8436b3467ba\n",
      "Function:  _get_model_attr\n",
      "args:      (KMeansMG(), '_repr_latex_')\n",
      "kwargs:    {}\n",
      "Exception: 'AttributeError(\"Attribute _repr_latex_ does not exist on model <class \\'cuml.cluster.kmeans_mg.KMeansMG\\'>\")'\n",
      "\n",
      "2022-05-30 10:50:40,632 - distributed.worker - WARNING - Compute Failed\n",
      "Key:       _get_model_attr-df989c7c-100b-48e5-81d1-1bbbe48689d2\n",
      "Function:  _get_model_attr\n",
      "args:      (KMeansMG(), '_ipython_canary_method_should_not_exist_')\n",
      "kwargs:    {}\n",
      "Exception: 'AttributeError(\"Attribute _ipython_canary_method_should_not_exist_ does not exist on model <class \\'cuml.cluster.kmeans_mg.KMeansMG\\'>\")'\n",
      "\n",
      "2022-05-30 10:50:40,643 - distributed.worker - WARNING - Compute Failed\n",
      "Key:       _get_model_attr-5bfdf9db-32cc-4c40-8d4b-0cdf4c154880\n",
      "Function:  _get_model_attr\n",
      "args:      (KMeansMG(), '_repr_json_')\n",
      "kwargs:    {}\n",
      "Exception: 'AttributeError(\"Attribute _repr_json_ does not exist on model <class \\'cuml.cluster.kmeans_mg.KMeansMG\\'>\")'\n",
      "\n",
      "2022-05-30 10:50:40,655 - distributed.worker - WARNING - Compute Failed\n",
      "Key:       _get_model_attr-b3c5545d-525f-4385-9368-9000bd1bd529\n",
      "Function:  _get_model_attr\n",
      "args:      (KMeansMG(), '_ipython_canary_method_should_not_exist_')\n",
      "kwargs:    {}\n",
      "Exception: 'AttributeError(\"Attribute _ipython_canary_method_should_not_exist_ does not exist on model <class \\'cuml.cluster.kmeans_mg.KMeansMG\\'>\")'\n",
      "\n",
      "2022-05-30 10:50:40,667 - distributed.worker - WARNING - Compute Failed\n",
      "Key:       _get_model_attr-311fb4fb-95da-47ec-9719-8f72783ec618\n",
      "Function:  _get_model_attr\n",
      "args:      (KMeansMG(), '_repr_javascript_')\n",
      "kwargs:    {}\n",
      "Exception: 'AttributeError(\"Attribute _repr_javascript_ does not exist on model <class \\'cuml.cluster.kmeans_mg.KMeansMG\\'>\")'\n",
      "\n"
     ]
    },
    {
     "data": {
      "text/plain": [
       "<cuml.dask.cluster.kmeans.KMeans at 0x7f1a6bc647f0>"
      ]
     },
     "execution_count": 10,
     "metadata": {},
     "output_type": "execute_result"
    }
   ],
   "source": [
    "dist_model.fit(X)"
   ]
  },
  {
   "cell_type": "code",
   "execution_count": 11,
   "metadata": {
    "execution": {
     "iopub.execute_input": "2022-05-30T10:50:40.685413Z",
     "iopub.status.busy": "2022-05-30T10:50:40.684805Z",
     "iopub.status.idle": "2022-05-30T10:50:40.707430Z",
     "shell.execute_reply": "2022-05-30T10:50:40.706023Z"
    }
   },
   "outputs": [],
   "source": [
    "import pickle\n",
    "\n",
    "single_gpu_model = dist_model.get_combined_model()\n",
    "pickle.dump(single_gpu_model, open(\"kmeans_model.pkl\", \"wb\"))"
   ]
  },
  {
   "cell_type": "code",
   "execution_count": 12,
   "metadata": {
    "execution": {
     "iopub.execute_input": "2022-05-30T10:50:40.713103Z",
     "iopub.status.busy": "2022-05-30T10:50:40.712519Z",
     "iopub.status.idle": "2022-05-30T10:50:40.719673Z",
     "shell.execute_reply": "2022-05-30T10:50:40.718918Z"
    }
   },
   "outputs": [],
   "source": [
    "single_gpu_model = pickle.load(open(\"kmeans_model.pkl\", \"rb\"))"
   ]
  },
  {
   "cell_type": "code",
   "execution_count": 13,
   "metadata": {
    "execution": {
     "iopub.execute_input": "2022-05-30T10:50:40.724030Z",
     "iopub.status.busy": "2022-05-30T10:50:40.723672Z",
     "iopub.status.idle": "2022-05-30T10:50:40.733240Z",
     "shell.execute_reply": "2022-05-30T10:50:40.732358Z"
    }
   },
   "outputs": [
    {
     "data": {
      "text/plain": [
       "array([[-4.6475401e+00, -9.5672169e+00,  6.6923518e+00,  4.4359236e+00,\n",
       "         2.1902735e+00,  2.5834751e+00,  5.9448934e-01,  6.2568660e+00,\n",
       "        -8.7821646e+00, -4.1232017e-01,  9.8151770e+00,  7.5641570e+00,\n",
       "         1.0003009e+01, -5.8680429e+00, -1.2743109e+00, -2.5393455e+00,\n",
       "        -1.0847501e+00, -5.2629204e+00, -9.3071012e+00,  4.6179357e+00,\n",
       "        -9.7068973e-02, -3.9351211e+00,  6.1767278e+00, -7.4346886e+00,\n",
       "         5.6496067e+00, -8.5544853e+00, -7.5265584e+00, -5.5195603e+00,\n",
       "         4.8197637e+00,  2.5235441e+00],\n",
       "       [ 6.2794294e+00,  9.2293940e+00,  8.3403702e+00,  9.0330496e+00,\n",
       "         7.6893492e+00, -9.9538213e-01, -6.2780762e+00,  1.3599335e+00,\n",
       "        -6.9744496e+00, -5.9463463e+00,  1.0695117e+00, -8.0422489e-03,\n",
       "         2.8183143e+00,  1.8317667e+00, -8.2557344e+00,  3.0514317e+00,\n",
       "        -8.4958019e+00,  9.7238483e+00, -7.7455082e+00,  3.4521689e+00,\n",
       "        -3.9248335e+00, -4.1106420e+00,  2.6693091e+00,  1.2985630e+00,\n",
       "         1.0421574e+00,  5.2490621e+00, -1.6496240e+00,  6.1451654e+00,\n",
       "        -6.9103322e+00, -9.6390305e+00],\n",
       "       [-2.8796387e+00,  4.4348760e+00, -4.4264808e+00,  2.3959141e+00,\n",
       "         1.7286434e+00, -2.4991987e+00, -5.1794524e+00, -1.6771443e+00,\n",
       "        -8.1329174e+00,  2.6659231e+00, -4.3131099e+00,  5.5827808e+00,\n",
       "        -5.7318311e+00, -1.7427171e+00, -9.3456116e+00,  7.1365565e-01,\n",
       "         4.4255495e+00, -2.9118381e+00, -4.9467444e+00,  9.6786423e+00,\n",
       "         8.4222746e+00, -6.2710242e+00, -6.3596506e+00,  1.9645509e+00,\n",
       "         4.1715994e+00, -9.1683636e+00,  4.6156683e+00,  8.7916498e+00,\n",
       "         6.8754420e+00,  2.2288749e+00],\n",
       "       [-6.9536953e+00, -9.7635889e+00, -6.5648255e+00, -4.3536147e-01,\n",
       "         6.0998116e+00,  3.7550368e+00, -3.9558537e+00,  6.1595521e+00,\n",
       "        -1.8599318e+00,  5.0400310e+00, -6.8397541e+00,  1.3435433e+00,\n",
       "         8.9749022e+00, -9.9621761e-01,  9.6651936e+00,  9.8009653e+00,\n",
       "        -8.6188354e+00,  5.9978366e+00,  2.2295930e+00, -3.6477711e+00,\n",
       "         7.0758510e+00, -7.3772259e+00, -5.3214226e+00, -6.9927955e+00,\n",
       "        -7.9296317e+00,  6.6705356e+00, -5.5850177e+00,  7.1526051e+00,\n",
       "         6.5703216e+00, -8.3389397e+00],\n",
       "       [ 4.8136683e+00,  8.3985291e+00, -9.2161245e+00,  9.4185514e+00,\n",
       "         8.5280876e+00, -1.0969982e+00,  3.3253176e+00, -7.8064370e+00,\n",
       "        -5.9660625e-01,  2.5423869e-01,  5.5004086e+00, -4.1162968e+00,\n",
       "         4.2832379e+00, -2.8173413e+00,  3.6207721e+00, -4.1576219e+00,\n",
       "        -3.6048706e+00,  6.2125406e+00, -6.9080987e+00, -1.0732133e+00,\n",
       "        -5.8362117e+00,  2.2357666e+00, -3.8588789e+00, -1.6835878e+00,\n",
       "        -5.3240361e+00,  7.5769196e+00,  2.9358528e+00,  8.5267382e+00,\n",
       "         1.5667248e+00,  1.0779673e+00]], dtype=float32)"
      ]
     },
     "execution_count": 13,
     "metadata": {},
     "output_type": "execute_result"
    }
   ],
   "source": [
    "single_gpu_model.cluster_centers_"
   ]
  },
  {
   "cell_type": "markdown",
   "metadata": {},
   "source": [
    "## Exporting cuML Random Forest models for inferencing on machines without GPUs"
   ]
  },
  {
   "cell_type": "markdown",
   "metadata": {},
   "source": [
    "Starting with cuML version 21.06, you can export cuML Random Forest models and run predictions with them on machines without an NVIDIA GPUs. The [Treelite](https://github.com/dmlc/treelite) package defines an efficient exchange format that lets you portably move the cuML Random Forest models to other machines. We will refer to the exchange format as \"checkpoints.\"\n",
    "\n",
    "Here are the steps to export the model:\n",
    "\n",
    "1. Call `to_treelite_checkpoint()` to obtain the checkpoint file from the cuML Random Forest model."
   ]
  },
  {
   "cell_type": "code",
   "execution_count": 14,
   "metadata": {
    "execution": {
     "iopub.execute_input": "2022-05-30T10:50:40.737902Z",
     "iopub.status.busy": "2022-05-30T10:50:40.737541Z",
     "iopub.status.idle": "2022-05-30T10:50:40.844271Z",
     "shell.execute_reply": "2022-05-30T10:50:40.843253Z"
    }
   },
   "outputs": [
    {
     "name": "stderr",
     "output_type": "stream",
     "text": [
      "/opt/conda/envs/rapids/lib/python3.9/site-packages/cuml/internals/api_decorators.py:794: UserWarning: For reproducible results in Random Forest Classifier or for almost reproducible results in Random Forest Regressor, n_streams=1 is recommended. If n_streams is > 1, results may vary due to stream/thread timing differences, even when random_state is set\n",
      "  return func(**kwargs)\n"
     ]
    }
   ],
   "source": [
    "from cuml.ensemble import RandomForestClassifier as cumlRandomForestClassifier\n",
    "from sklearn.datasets import load_iris\n",
    "import numpy as np\n",
    "\n",
    "X, y = load_iris(return_X_y=True)\n",
    "X, y = X.astype(np.float32), y.astype(np.int32)\n",
    "clf = cumlRandomForestClassifier(max_depth=3, random_state=0, n_estimators=10)\n",
    "clf.fit(X, y)\n",
    "\n",
    "checkpoint_path = './checkpoint.tl'\n",
    "# Export cuML RF model as Treelite checkpoint\n",
    "clf.convert_to_treelite_model().to_treelite_checkpoint(checkpoint_path)"
   ]
  },
  {
   "cell_type": "markdown",
   "metadata": {},
   "source": [
    "2. Copy the generated checkpoint file `checkpoint.tl` to another machine on which you'd like to run predictions.\n",
    "\n",
    "3. On the target machine, install Treelite by running `pip install treelite` or `conda install -c conda-forge treelite`. The machine does not need to have an NVIDIA GPUs and does not need to have cuML installed.\n",
    "\n",
    "4. You can now load the model from the checkpoint, by running the following on the target machine:"
   ]
  },
  {
   "cell_type": "code",
   "execution_count": 15,
   "metadata": {
    "execution": {
     "iopub.execute_input": "2022-05-30T10:50:40.848193Z",
     "iopub.status.busy": "2022-05-30T10:50:40.847836Z",
     "iopub.status.idle": "2022-05-30T10:50:40.869996Z",
     "shell.execute_reply": "2022-05-30T10:50:40.869107Z"
    }
   },
   "outputs": [
    {
     "name": "stdout",
     "output_type": "stream",
     "text": [
      "[[1.         0.         0.        ]\n",
      " [1.         0.         0.        ]\n",
      " [1.         0.         0.        ]\n",
      " [1.         0.         0.        ]\n",
      " [1.         0.         0.        ]\n",
      " [1.         0.         0.        ]\n",
      " [1.         0.         0.        ]\n",
      " [1.         0.         0.        ]\n",
      " [1.         0.         0.        ]\n",
      " [1.         0.         0.        ]\n",
      " [1.         0.         0.        ]\n",
      " [1.         0.         0.        ]\n",
      " [1.         0.         0.        ]\n",
      " [1.         0.         0.        ]\n",
      " [1.         0.         0.        ]\n",
      " [1.         0.         0.        ]\n",
      " [1.         0.         0.        ]\n",
      " [1.         0.         0.        ]\n",
      " [0.9        0.1        0.        ]\n",
      " [1.         0.         0.        ]\n",
      " [1.         0.         0.        ]\n",
      " [1.         0.         0.        ]\n",
      " [1.         0.         0.        ]\n",
      " [1.         0.         0.        ]\n",
      " [1.         0.         0.        ]\n",
      " [1.         0.         0.        ]\n",
      " [1.         0.         0.        ]\n",
      " [1.         0.         0.        ]\n",
      " [1.         0.         0.        ]\n",
      " [1.         0.         0.        ]\n",
      " [1.         0.         0.        ]\n",
      " [1.         0.         0.        ]\n",
      " [1.         0.         0.        ]\n",
      " [1.         0.         0.        ]\n",
      " [1.         0.         0.        ]\n",
      " [1.         0.         0.        ]\n",
      " [1.         0.         0.        ]\n",
      " [1.         0.         0.        ]\n",
      " [1.         0.         0.        ]\n",
      " [1.         0.         0.        ]\n",
      " [1.         0.         0.        ]\n",
      " [1.         0.         0.        ]\n",
      " [1.         0.         0.        ]\n",
      " [1.         0.         0.        ]\n",
      " [1.         0.         0.        ]\n",
      " [1.         0.         0.        ]\n",
      " [1.         0.         0.        ]\n",
      " [1.         0.         0.        ]\n",
      " [1.         0.         0.        ]\n",
      " [1.         0.         0.        ]\n",
      " [0.         0.9981133  0.00188679]\n",
      " [0.         0.9981133  0.00188679]\n",
      " [0.         0.5274104  0.47258964]\n",
      " [0.         0.9870021  0.0129979 ]\n",
      " [0.         0.9981133  0.00188679]\n",
      " [0.         0.9981133  0.00188679]\n",
      " [0.         0.9981133  0.00188679]\n",
      " [0.         0.7036687  0.29633126]\n",
      " [0.         0.9981133  0.00188679]\n",
      " [0.         0.9870021  0.0129979 ]\n",
      " [0.         0.9536688  0.04633124]\n",
      " [0.         0.9981133  0.00188679]\n",
      " [0.         0.9981133  0.00188679]\n",
      " [0.         0.9981133  0.00188679]\n",
      " [0.         0.9981133  0.00188679]\n",
      " [0.         0.9981133  0.00188679]\n",
      " [0.         0.9981133  0.00188679]\n",
      " [0.         0.9981133  0.00188679]\n",
      " [0.         0.9981133  0.00188679]\n",
      " [0.         0.9981133  0.00188679]\n",
      " [0.         0.23634085 0.7636592 ]\n",
      " [0.         0.9981133  0.00188679]\n",
      " [0.         0.567213   0.432787  ]\n",
      " [0.         0.9981133  0.00188679]\n",
      " [0.         0.9981133  0.00188679]\n",
      " [0.         0.9981133  0.00188679]\n",
      " [0.         0.60401857 0.3959814 ]\n",
      " [0.         0.41788664 0.5821134 ]\n",
      " [0.         0.9981133  0.00188679]\n",
      " [0.         0.9981133  0.00188679]\n",
      " [0.         0.9870021  0.0129979 ]\n",
      " [0.         0.9870021  0.0129979 ]\n",
      " [0.         0.9981133  0.00188679]\n",
      " [0.         0.30794033 0.6920597 ]\n",
      " [0.1        0.89811325 0.00188679]\n",
      " [0.         0.9981133  0.00188679]\n",
      " [0.         0.9981133  0.00188679]\n",
      " [0.         0.9981133  0.00188679]\n",
      " [0.         0.9981133  0.00188679]\n",
      " [0.         0.9870021  0.0129979 ]\n",
      " [0.         0.9870021  0.0129979 ]\n",
      " [0.         0.9981133  0.00188679]\n",
      " [0.         0.9981133  0.00188679]\n",
      " [0.         0.9536688  0.04633124]\n",
      " [0.         0.9981133  0.00188679]\n",
      " [0.         0.9981133  0.00188679]\n",
      " [0.         0.9981133  0.00188679]\n",
      " [0.         0.9981133  0.00188679]\n",
      " [0.         0.9870021  0.0129979 ]\n",
      " [0.         0.9981133  0.00188679]\n",
      " [0.         0.01794118 0.9820588 ]\n",
      " [0.         0.05149381 0.9485062 ]\n",
      " [0.         0.01169118 0.9883088 ]\n",
      " [0.         0.01169118 0.9883088 ]\n",
      " [0.         0.01169118 0.9883088 ]\n",
      " [0.         0.01169118 0.9883088 ]\n",
      " [0.         0.5655735  0.4344265 ]\n",
      " [0.         0.01169118 0.9883088 ]\n",
      " [0.         0.05149381 0.9485062 ]\n",
      " [0.         0.01794118 0.9820588 ]\n",
      " [0.         0.01794118 0.9820588 ]\n",
      " [0.         0.05149381 0.9485062 ]\n",
      " [0.         0.01169118 0.9883088 ]\n",
      " [0.         0.19290936 0.80709064]\n",
      " [0.         0.03274381 0.9672562 ]\n",
      " [0.         0.01794118 0.9820588 ]\n",
      " [0.         0.01169118 0.9883088 ]\n",
      " [0.         0.01794118 0.9820588 ]\n",
      " [0.         0.05149381 0.9485062 ]\n",
      " [0.         0.44935593 0.5506441 ]\n",
      " [0.         0.01794118 0.9820588 ]\n",
      " [0.         0.2170165  0.78298354]\n",
      " [0.         0.03274381 0.9672562 ]\n",
      " [0.         0.2357665  0.7642335 ]\n",
      " [0.         0.01794118 0.9820588 ]\n",
      " [0.         0.01794118 0.9820588 ]\n",
      " [0.         0.2511435  0.74885654]\n",
      " [0.         0.19596387 0.80403614]\n",
      " [0.         0.03274381 0.9672562 ]\n",
      " [0.         0.10335784 0.8966421 ]\n",
      " [0.         0.03274381 0.9672562 ]\n",
      " [0.         0.01794118 0.9820588 ]\n",
      " [0.         0.03274381 0.9672562 ]\n",
      " [0.         0.28919035 0.7108097 ]\n",
      " [0.         0.20982714 0.79017293]\n",
      " [0.         0.01169118 0.9883088 ]\n",
      " [0.         0.01794118 0.9820588 ]\n",
      " [0.         0.01169118 0.9883088 ]\n",
      " [0.         0.23009086 0.7699092 ]\n",
      " [0.         0.01169118 0.9883088 ]\n",
      " [0.         0.01169118 0.9883088 ]\n",
      " [0.         0.01169118 0.9883088 ]\n",
      " [0.         0.05149381 0.9485062 ]\n",
      " [0.         0.01794118 0.9820588 ]\n",
      " [0.         0.01794118 0.9820588 ]\n",
      " [0.         0.01169118 0.9883088 ]\n",
      " [0.         0.19290936 0.80709064]\n",
      " [0.         0.01169118 0.9883088 ]\n",
      " [0.         0.01794118 0.9820588 ]\n",
      " [0.         0.01169118 0.9883088 ]]\n"
     ]
    }
   ],
   "source": [
    "import treelite\n",
    "\n",
    "# The checkpoint file has been copied over\n",
    "checkpoint_path = './checkpoint.tl'\n",
    "tl_model = treelite.Model.deserialize(checkpoint_path)\n",
    "out_prob = treelite.gtil.predict(tl_model, X, pred_margin=True)\n",
    "print(out_prob)"
   ]
  }
 ],
 "metadata": {
  "kernelspec": {
   "display_name": "Python 3",
   "language": "python",
   "name": "python3"
  },
  "language_info": {
   "codemirror_mode": {
    "name": "ipython",
    "version": 3
   },
   "file_extension": ".py",
   "mimetype": "text/x-python",
   "name": "python",
   "nbconvert_exporter": "python",
   "pygments_lexer": "ipython3",
   "version": "3.9.7"
  }
 },
 "nbformat": 4,
 "nbformat_minor": 4
}
