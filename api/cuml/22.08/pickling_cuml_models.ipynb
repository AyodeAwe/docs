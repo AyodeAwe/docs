{
 "cells": [
  {
   "cell_type": "markdown",
   "metadata": {},
   "source": [
    "# Pickling cuML Models for Persistence\n",
    "\n",
    "This notebook demonstrates simple pickling of both single-GPU and multi-GPU cuML models for persistence"
   ]
  },
  {
   "cell_type": "code",
   "execution_count": 1,
   "metadata": {
    "execution": {
     "iopub.execute_input": "2022-08-18T11:14:40.572302Z",
     "iopub.status.busy": "2022-08-18T11:14:40.571623Z",
     "iopub.status.idle": "2022-08-18T11:14:40.586329Z",
     "shell.execute_reply": "2022-08-18T11:14:40.585418Z"
    }
   },
   "outputs": [],
   "source": [
    "import warnings\n",
    "warnings.filterwarnings(\"ignore\", category=FutureWarning)"
   ]
  },
  {
   "cell_type": "markdown",
   "metadata": {},
   "source": [
    "## Single GPU Model Pickling\n",
    "\n",
    "All single-GPU estimators are pickleable. The following example demonstrates the creation of a synthetic dataset, training, and pickling of the resulting model for storage. Trained single-GPU models can also be used to distribute the inference on a Dask cluster, which the `Distributed Model Pickling` section below demonstrates."
   ]
  },
  {
   "cell_type": "code",
   "execution_count": 2,
   "metadata": {
    "execution": {
     "iopub.execute_input": "2022-08-18T11:14:40.591833Z",
     "iopub.status.busy": "2022-08-18T11:14:40.591496Z",
     "iopub.status.idle": "2022-08-18T11:14:47.208878Z",
     "shell.execute_reply": "2022-08-18T11:14:47.207883Z"
    }
   },
   "outputs": [],
   "source": [
    "from cuml.datasets import make_blobs\n",
    "\n",
    "X, y = make_blobs(n_samples=50,\n",
    "                  n_features=10,\n",
    "                  centers=5,\n",
    "                  cluster_std=0.4,\n",
    "                  random_state=0)"
   ]
  },
  {
   "cell_type": "code",
   "execution_count": 3,
   "metadata": {
    "execution": {
     "iopub.execute_input": "2022-08-18T11:14:47.215041Z",
     "iopub.status.busy": "2022-08-18T11:14:47.214749Z",
     "iopub.status.idle": "2022-08-18T11:14:47.485176Z",
     "shell.execute_reply": "2022-08-18T11:14:47.484305Z"
    }
   },
   "outputs": [
    {
     "data": {
      "text/plain": [
       "KMeans()"
      ]
     },
     "execution_count": 3,
     "metadata": {},
     "output_type": "execute_result"
    }
   ],
   "source": [
    "from cuml.cluster import KMeans\n",
    "\n",
    "model = KMeans(n_clusters=5)\n",
    "\n",
    "model.fit(X)"
   ]
  },
  {
   "cell_type": "code",
   "execution_count": 4,
   "metadata": {
    "execution": {
     "iopub.execute_input": "2022-08-18T11:14:47.491384Z",
     "iopub.status.busy": "2022-08-18T11:14:47.491082Z",
     "iopub.status.idle": "2022-08-18T11:14:47.496822Z",
     "shell.execute_reply": "2022-08-18T11:14:47.495794Z"
    }
   },
   "outputs": [],
   "source": [
    "import pickle\n",
    "\n",
    "pickle.dump(model, open(\"kmeans_model.pkl\", \"wb\"))"
   ]
  },
  {
   "cell_type": "code",
   "execution_count": 5,
   "metadata": {
    "execution": {
     "iopub.execute_input": "2022-08-18T11:14:47.500964Z",
     "iopub.status.busy": "2022-08-18T11:14:47.500605Z",
     "iopub.status.idle": "2022-08-18T11:14:47.506654Z",
     "shell.execute_reply": "2022-08-18T11:14:47.505662Z"
    }
   },
   "outputs": [],
   "source": [
    "model = pickle.load(open(\"kmeans_model.pkl\", \"rb\"))"
   ]
  },
  {
   "cell_type": "code",
   "execution_count": 6,
   "metadata": {
    "execution": {
     "iopub.execute_input": "2022-08-18T11:14:47.511109Z",
     "iopub.status.busy": "2022-08-18T11:14:47.510711Z",
     "iopub.status.idle": "2022-08-18T11:14:47.519403Z",
     "shell.execute_reply": "2022-08-18T11:14:47.518471Z"
    }
   },
   "outputs": [
    {
     "data": {
      "text/plain": [
       "array([[ 4.6749854,  8.213465 , -9.075721 ,  9.568374 ,  8.454807 ,\n",
       "        -1.2327974,  3.3903713, -7.828242 , -0.8454461,  0.6288572],\n",
       "       [-4.2439985,  5.6107073, -5.669777 , -1.7957243, -9.255529 ,\n",
       "         0.7177438,  4.4435906, -2.8747156, -5.0900965,  9.684121 ],\n",
       "       [ 5.2615476, -4.0487256,  4.464928 , -2.9367518,  3.5061095,\n",
       "        -4.0168314, -3.463885 ,  6.078449 , -6.953326 , -1.004144 ],\n",
       "       [-3.008261 ,  4.6259604, -4.483249 ,  2.228457 ,  1.6435319,\n",
       "        -2.4505196, -5.258201 , -1.6679403, -7.9857535,  2.8311467],\n",
       "       [-5.6072407,  2.2695985, -3.7516537, -1.8182005, -5.1430273,\n",
       "         7.599363 ,  2.8252368,  8.773042 ,  1.6198314,  1.1772048]],\n",
       "      dtype=float32)"
      ]
     },
     "execution_count": 6,
     "metadata": {},
     "output_type": "execute_result"
    }
   ],
   "source": [
    "model.cluster_centers_"
   ]
  },
  {
   "cell_type": "markdown",
   "metadata": {},
   "source": [
    "## Distributed Model Pickling"
   ]
  },
  {
   "cell_type": "markdown",
   "metadata": {},
   "source": [
    "The distributed estimator wrappers inside of the `cuml.dask` are not intended to be pickled directly. The Dask cuML estimators provide a function `get_combined_model()`, which returns the trained single-GPU model for pickling. The combined model can be used for inference on a single-GPU, and the `ParallelPostFit` wrapper from the [Dask-ML](https://ml.dask.org/meta-estimators.html) library can be used to perform distributed inference on a Dask cluster."
   ]
  },
  {
   "cell_type": "code",
   "execution_count": 7,
   "metadata": {
    "execution": {
     "iopub.execute_input": "2022-08-18T11:14:47.524400Z",
     "iopub.status.busy": "2022-08-18T11:14:47.524052Z",
     "iopub.status.idle": "2022-08-18T11:14:51.213895Z",
     "shell.execute_reply": "2022-08-18T11:14:51.212588Z"
    }
   },
   "outputs": [
    {
     "name": "stderr",
     "output_type": "stream",
     "text": [
      "2022-08-18 11:14:50,730 - distributed.preloading - INFO - Creating preload: dask_cuda.initialize\n",
      "2022-08-18 11:14:50,730 - distributed.preloading - INFO - Import preload module: dask_cuda.initialize\n"
     ]
    },
    {
     "data": {
      "text/html": [
       "<div>\n",
       "    <div style=\"width: 24px; height: 24px; background-color: #e1e1e1; border: 3px solid #9D9D9D; border-radius: 5px; position: absolute;\"> </div>\n",
       "    <div style=\"margin-left: 48px;\">\n",
       "        <h3 style=\"margin-bottom: 0px;\">Client</h3>\n",
       "        <p style=\"color: #9D9D9D; margin-bottom: 0px;\">Client-fa70c34f-1ee6-11ed-9035-0242ac110007</p>\n",
       "        <table style=\"width: 100%; text-align: left;\">\n",
       "\n",
       "        <tr>\n",
       "        \n",
       "            <td style=\"text-align: left;\"><strong>Connection method:</strong> Cluster object</td>\n",
       "            <td style=\"text-align: left;\"><strong>Cluster type:</strong> dask_cuda.LocalCUDACluster</td>\n",
       "        \n",
       "        </tr>\n",
       "\n",
       "        \n",
       "            <tr>\n",
       "                <td style=\"text-align: left;\">\n",
       "                    <strong>Dashboard: </strong> <a href=\"http://127.0.0.1:8787/status\" target=\"_blank\">http://127.0.0.1:8787/status</a>\n",
       "                </td>\n",
       "                <td style=\"text-align: left;\"></td>\n",
       "            </tr>\n",
       "        \n",
       "\n",
       "        </table>\n",
       "\n",
       "        \n",
       "            <details>\n",
       "            <summary style=\"margin-bottom: 20px;\"><h3 style=\"display: inline;\">Cluster Info</h3></summary>\n",
       "            <div class=\"jp-RenderedHTMLCommon jp-RenderedHTML jp-mod-trusted jp-OutputArea-output\">\n",
       "    <div style=\"width: 24px; height: 24px; background-color: #e1e1e1; border: 3px solid #9D9D9D; border-radius: 5px; position: absolute;\">\n",
       "    </div>\n",
       "    <div style=\"margin-left: 48px;\">\n",
       "        <h3 style=\"margin-bottom: 0px; margin-top: 0px;\">LocalCUDACluster</h3>\n",
       "        <p style=\"color: #9D9D9D; margin-bottom: 0px;\">a40a1a5d</p>\n",
       "        <table style=\"width: 100%; text-align: left;\">\n",
       "            <tr>\n",
       "                <td style=\"text-align: left;\">\n",
       "                    <strong>Dashboard:</strong> <a href=\"http://127.0.0.1:8787/status\" target=\"_blank\">http://127.0.0.1:8787/status</a>\n",
       "                </td>\n",
       "                <td style=\"text-align: left;\">\n",
       "                    <strong>Workers:</strong> 1\n",
       "                </td>\n",
       "            </tr>\n",
       "            <tr>\n",
       "                <td style=\"text-align: left;\">\n",
       "                    <strong>Total threads:</strong> 1\n",
       "                </td>\n",
       "                <td style=\"text-align: left;\">\n",
       "                    <strong>Total memory:</strong> 251.79 GiB\n",
       "                </td>\n",
       "            </tr>\n",
       "            \n",
       "            <tr>\n",
       "    <td style=\"text-align: left;\"><strong>Status:</strong> running</td>\n",
       "    <td style=\"text-align: left;\"><strong>Using processes:</strong> True</td>\n",
       "</tr>\n",
       "\n",
       "            \n",
       "        </table>\n",
       "\n",
       "        <details>\n",
       "            <summary style=\"margin-bottom: 20px;\">\n",
       "                <h3 style=\"display: inline;\">Scheduler Info</h3>\n",
       "            </summary>\n",
       "\n",
       "            <div style=\"\">\n",
       "    <div>\n",
       "        <div style=\"width: 24px; height: 24px; background-color: #FFF7E5; border: 3px solid #FF6132; border-radius: 5px; position: absolute;\"> </div>\n",
       "        <div style=\"margin-left: 48px;\">\n",
       "            <h3 style=\"margin-bottom: 0px;\">Scheduler</h3>\n",
       "            <p style=\"color: #9D9D9D; margin-bottom: 0px;\">Scheduler-ff73eda4-2513-4b99-86ea-362e9a793ac9</p>\n",
       "            <table style=\"width: 100%; text-align: left;\">\n",
       "                <tr>\n",
       "                    <td style=\"text-align: left;\">\n",
       "                        <strong>Comm:</strong> tcp://127.0.0.1:40745\n",
       "                    </td>\n",
       "                    <td style=\"text-align: left;\">\n",
       "                        <strong>Workers:</strong> 1\n",
       "                    </td>\n",
       "                </tr>\n",
       "                <tr>\n",
       "                    <td style=\"text-align: left;\">\n",
       "                        <strong>Dashboard:</strong> <a href=\"http://127.0.0.1:8787/status\" target=\"_blank\">http://127.0.0.1:8787/status</a>\n",
       "                    </td>\n",
       "                    <td style=\"text-align: left;\">\n",
       "                        <strong>Total threads:</strong> 1\n",
       "                    </td>\n",
       "                </tr>\n",
       "                <tr>\n",
       "                    <td style=\"text-align: left;\">\n",
       "                        <strong>Started:</strong> Just now\n",
       "                    </td>\n",
       "                    <td style=\"text-align: left;\">\n",
       "                        <strong>Total memory:</strong> 251.79 GiB\n",
       "                    </td>\n",
       "                </tr>\n",
       "            </table>\n",
       "        </div>\n",
       "    </div>\n",
       "\n",
       "    <details style=\"margin-left: 48px;\">\n",
       "        <summary style=\"margin-bottom: 20px;\">\n",
       "            <h3 style=\"display: inline;\">Workers</h3>\n",
       "        </summary>\n",
       "\n",
       "        \n",
       "        <div style=\"margin-bottom: 20px;\">\n",
       "            <div style=\"width: 24px; height: 24px; background-color: #DBF5FF; border: 3px solid #4CC9FF; border-radius: 5px; position: absolute;\"> </div>\n",
       "            <div style=\"margin-left: 48px;\">\n",
       "            <details>\n",
       "                <summary>\n",
       "                    <h4 style=\"margin-bottom: 0px; display: inline;\">Worker: 0</h4>\n",
       "                </summary>\n",
       "                <table style=\"width: 100%; text-align: left;\">\n",
       "                    <tr>\n",
       "                        <td style=\"text-align: left;\">\n",
       "                            <strong>Comm: </strong> tcp://127.0.0.1:44565\n",
       "                        </td>\n",
       "                        <td style=\"text-align: left;\">\n",
       "                            <strong>Total threads: </strong> 1\n",
       "                        </td>\n",
       "                    </tr>\n",
       "                    <tr>\n",
       "                        <td style=\"text-align: left;\">\n",
       "                            <strong>Dashboard: </strong> <a href=\"http://127.0.0.1:38465/status\" target=\"_blank\">http://127.0.0.1:38465/status</a>\n",
       "                        </td>\n",
       "                        <td style=\"text-align: left;\">\n",
       "                            <strong>Memory: </strong> 251.79 GiB\n",
       "                        </td>\n",
       "                    </tr>\n",
       "                    <tr>\n",
       "                        <td style=\"text-align: left;\">\n",
       "                            <strong>Nanny: </strong> tcp://127.0.0.1:43439\n",
       "                        </td>\n",
       "                        <td style=\"text-align: left;\"></td>\n",
       "                    </tr>\n",
       "                    <tr>\n",
       "                        <td colspan=\"2\" style=\"text-align: left;\">\n",
       "                            <strong>Local directory: </strong> /tmp/dask-worker-space/worker-u7efjtvd\n",
       "                        </td>\n",
       "                    </tr>\n",
       "\n",
       "                    \n",
       "                    <tr>\n",
       "                        <td style=\"text-align: left;\">\n",
       "                            <strong>GPU: </strong>Tesla V100-PCIE-32GB\n",
       "                        </td>\n",
       "                        <td style=\"text-align: left;\">\n",
       "                            <strong>GPU memory: </strong> 31.75 GiB\n",
       "                        </td>\n",
       "                    </tr>\n",
       "                    \n",
       "\n",
       "                    \n",
       "\n",
       "                </table>\n",
       "            </details>\n",
       "            </div>\n",
       "        </div>\n",
       "        \n",
       "\n",
       "    </details>\n",
       "</div>\n",
       "\n",
       "        </details>\n",
       "    </div>\n",
       "</div>\n",
       "            </details>\n",
       "        \n",
       "\n",
       "    </div>\n",
       "</div>"
      ],
      "text/plain": [
       "<Client: 'tcp://127.0.0.1:40745' processes=1 threads=1, memory=251.79 GiB>"
      ]
     },
     "execution_count": 7,
     "metadata": {},
     "output_type": "execute_result"
    }
   ],
   "source": [
    "from dask.distributed import Client\n",
    "from dask_cuda import LocalCUDACluster\n",
    "\n",
    "cluster = LocalCUDACluster()\n",
    "client = Client(cluster)\n",
    "client"
   ]
  },
  {
   "cell_type": "code",
   "execution_count": 8,
   "metadata": {
    "execution": {
     "iopub.execute_input": "2022-08-18T11:14:51.220309Z",
     "iopub.status.busy": "2022-08-18T11:14:51.219877Z",
     "iopub.status.idle": "2022-08-18T11:14:52.069834Z",
     "shell.execute_reply": "2022-08-18T11:14:52.068738Z"
    }
   },
   "outputs": [],
   "source": [
    "from cuml.dask.datasets import make_blobs\n",
    "\n",
    "n_workers = len(client.scheduler_info()[\"workers\"].keys())\n",
    "\n",
    "X, y = make_blobs(n_samples=5000, \n",
    "                  n_features=30,\n",
    "                  centers=5, \n",
    "                  cluster_std=0.4, \n",
    "                  random_state=0,\n",
    "                  n_parts=n_workers*5)\n",
    "\n",
    "X = X.persist()\n",
    "y = y.persist()"
   ]
  },
  {
   "cell_type": "code",
   "execution_count": 9,
   "metadata": {
    "execution": {
     "iopub.execute_input": "2022-08-18T11:14:52.076350Z",
     "iopub.status.busy": "2022-08-18T11:14:52.075768Z",
     "iopub.status.idle": "2022-08-18T11:14:52.081178Z",
     "shell.execute_reply": "2022-08-18T11:14:52.080320Z"
    }
   },
   "outputs": [],
   "source": [
    "from cuml.dask.cluster import KMeans\n",
    "\n",
    "dist_model = KMeans(n_clusters=5)"
   ]
  },
  {
   "cell_type": "code",
   "execution_count": 10,
   "metadata": {
    "execution": {
     "iopub.execute_input": "2022-08-18T11:14:52.087549Z",
     "iopub.status.busy": "2022-08-18T11:14:52.087076Z",
     "iopub.status.idle": "2022-08-18T11:14:57.236084Z",
     "shell.execute_reply": "2022-08-18T11:14:57.234286Z"
    }
   },
   "outputs": [
    {
     "name": "stderr",
     "output_type": "stream",
     "text": [
      "2022-08-18 11:14:56,943 - distributed.worker - WARNING - Compute Failed\n",
      "Key:       _get_model_attr-db783c77-f73c-439a-b5aa-18eed94adc99\n",
      "Function:  _get_model_attr\n",
      "args:      (KMeansMG(), '_ipython_canary_method_should_not_exist_')\n",
      "kwargs:    {}\n",
      "Exception: 'AttributeError(\"Attribute _ipython_canary_method_should_not_exist_ does not exist on model <class \\'cuml.cluster.kmeans_mg.KMeansMG\\'>\")'\n",
      "\n",
      "2022-08-18 11:14:56,962 - distributed.worker - WARNING - Compute Failed\n",
      "Key:       _get_model_attr-ac5c4d8c-b984-4a0d-901a-fc97b1e6a7cb\n",
      "Function:  _get_model_attr\n",
      "args:      (KMeansMG(), '_ipython_display_')\n",
      "kwargs:    {}\n",
      "Exception: 'AttributeError(\"Attribute _ipython_display_ does not exist on model <class \\'cuml.cluster.kmeans_mg.KMeansMG\\'>\")'\n",
      "\n",
      "2022-08-18 11:14:56,974 - distributed.worker - WARNING - Compute Failed\n",
      "Key:       _get_model_attr-dbd745c0-2983-4680-af56-80ad5e7afc55\n",
      "Function:  _get_model_attr\n",
      "args:      (KMeansMG(), '_ipython_canary_method_should_not_exist_')\n",
      "kwargs:    {}\n",
      "Exception: 'AttributeError(\"Attribute _ipython_canary_method_should_not_exist_ does not exist on model <class \\'cuml.cluster.kmeans_mg.KMeansMG\\'>\")'\n",
      "\n",
      "2022-08-18 11:14:56,985 - distributed.worker - WARNING - Compute Failed\n",
      "Key:       _get_model_attr-893b58fc-9f81-4f3f-9321-91f188aac609\n",
      "Function:  _get_model_attr\n",
      "args:      (KMeansMG(), '_repr_mimebundle_')\n",
      "kwargs:    {}\n",
      "Exception: 'AttributeError(\"Attribute _repr_mimebundle_ does not exist on model <class \\'cuml.cluster.kmeans_mg.KMeansMG\\'>\")'\n",
      "\n",
      "2022-08-18 11:14:57,007 - distributed.worker - WARNING - Compute Failed\n",
      "Key:       _get_model_attr-5e03b254-43eb-4666-8fe2-28607dcf2120\n",
      "Function:  _get_model_attr\n",
      "args:      (KMeansMG(), '_ipython_canary_method_should_not_exist_')\n",
      "kwargs:    {}\n",
      "Exception: 'AttributeError(\"Attribute _ipython_canary_method_should_not_exist_ does not exist on model <class \\'cuml.cluster.kmeans_mg.KMeansMG\\'>\")'\n",
      "\n",
      "2022-08-18 11:14:57,019 - distributed.worker - WARNING - Compute Failed\n",
      "Key:       _get_model_attr-9c9e099c-9e03-4a53-9ff3-cea5e771f5c8\n",
      "Function:  _get_model_attr\n",
      "args:      (KMeansMG(), '_repr_html_')\n",
      "kwargs:    {}\n",
      "Exception: 'AttributeError(\"Attribute _repr_html_ does not exist on model <class \\'cuml.cluster.kmeans_mg.KMeansMG\\'>\")'\n",
      "\n",
      "2022-08-18 11:14:57,030 - distributed.worker - WARNING - Compute Failed\n",
      "Key:       _get_model_attr-117523f0-5719-45b5-9169-d5fd78a6217f\n",
      "Function:  _get_model_attr\n",
      "args:      (KMeansMG(), '_ipython_canary_method_should_not_exist_')\n",
      "kwargs:    {}\n",
      "Exception: 'AttributeError(\"Attribute _ipython_canary_method_should_not_exist_ does not exist on model <class \\'cuml.cluster.kmeans_mg.KMeansMG\\'>\")'\n",
      "\n",
      "2022-08-18 11:14:57,043 - distributed.worker - WARNING - Compute Failed\n",
      "Key:       _get_model_attr-d6bec4b3-78be-4765-89cf-feb8d1b32a0f\n",
      "Function:  _get_model_attr\n",
      "args:      (KMeansMG(), '_repr_markdown_')\n",
      "kwargs:    {}\n",
      "Exception: 'AttributeError(\"Attribute _repr_markdown_ does not exist on model <class \\'cuml.cluster.kmeans_mg.KMeansMG\\'>\")'\n",
      "\n",
      "2022-08-18 11:14:57,054 - distributed.worker - WARNING - Compute Failed\n",
      "Key:       _get_model_attr-b666e90e-7f08-4207-936a-76745327c13b\n",
      "Function:  _get_model_attr\n",
      "args:      (KMeansMG(), '_ipython_canary_method_should_not_exist_')\n",
      "kwargs:    {}\n",
      "Exception: 'AttributeError(\"Attribute _ipython_canary_method_should_not_exist_ does not exist on model <class \\'cuml.cluster.kmeans_mg.KMeansMG\\'>\")'\n",
      "\n",
      "2022-08-18 11:14:57,065 - distributed.worker - WARNING - Compute Failed\n",
      "Key:       _get_model_attr-14873d39-1deb-424e-b2ee-936e1d9652a7\n",
      "Function:  _get_model_attr\n",
      "args:      (KMeansMG(), '_repr_svg_')\n",
      "kwargs:    {}\n",
      "Exception: 'AttributeError(\"Attribute _repr_svg_ does not exist on model <class \\'cuml.cluster.kmeans_mg.KMeansMG\\'>\")'\n",
      "\n",
      "2022-08-18 11:14:57,076 - distributed.worker - WARNING - Compute Failed\n",
      "Key:       _get_model_attr-bdb2b29d-a2df-4e65-80ba-be669158aa26\n",
      "Function:  _get_model_attr\n",
      "args:      (KMeansMG(), '_ipython_canary_method_should_not_exist_')\n",
      "kwargs:    {}\n",
      "Exception: 'AttributeError(\"Attribute _ipython_canary_method_should_not_exist_ does not exist on model <class \\'cuml.cluster.kmeans_mg.KMeansMG\\'>\")'\n",
      "\n",
      "2022-08-18 11:14:57,087 - distributed.worker - WARNING - Compute Failed\n",
      "Key:       _get_model_attr-5f065be5-252b-4abe-866f-3d35ab7b0de4\n",
      "Function:  _get_model_attr\n",
      "args:      (KMeansMG(), '_repr_png_')\n",
      "kwargs:    {}\n",
      "Exception: 'AttributeError(\"Attribute _repr_png_ does not exist on model <class \\'cuml.cluster.kmeans_mg.KMeansMG\\'>\")'\n",
      "\n",
      "2022-08-18 11:14:57,099 - distributed.worker - WARNING - Compute Failed\n",
      "Key:       _get_model_attr-fac6631a-4e17-4f8f-85a6-17c865162ec4\n",
      "Function:  _get_model_attr\n",
      "args:      (KMeansMG(), '_ipython_canary_method_should_not_exist_')\n",
      "kwargs:    {}\n",
      "Exception: 'AttributeError(\"Attribute _ipython_canary_method_should_not_exist_ does not exist on model <class \\'cuml.cluster.kmeans_mg.KMeansMG\\'>\")'\n",
      "\n",
      "2022-08-18 11:14:57,112 - distributed.worker - WARNING - Compute Failed\n",
      "Key:       _get_model_attr-604da8f6-5fa3-446f-a247-dd06854e34bf\n",
      "Function:  _get_model_attr\n",
      "args:      (KMeansMG(), '_repr_pdf_')\n",
      "kwargs:    {}\n",
      "Exception: 'AttributeError(\"Attribute _repr_pdf_ does not exist on model <class \\'cuml.cluster.kmeans_mg.KMeansMG\\'>\")'\n",
      "\n",
      "2022-08-18 11:14:57,127 - distributed.worker - WARNING - Compute Failed\n",
      "Key:       _get_model_attr-7123826d-748f-4703-a019-1b0e3b421ca3\n",
      "Function:  _get_model_attr\n",
      "args:      (KMeansMG(), '_ipython_canary_method_should_not_exist_')\n",
      "kwargs:    {}\n",
      "Exception: 'AttributeError(\"Attribute _ipython_canary_method_should_not_exist_ does not exist on model <class \\'cuml.cluster.kmeans_mg.KMeansMG\\'>\")'\n",
      "\n"
     ]
    },
    {
     "name": "stderr",
     "output_type": "stream",
     "text": [
      "2022-08-18 11:14:57,146 - distributed.worker - WARNING - Compute Failed\n",
      "Key:       _get_model_attr-4f0b08ad-aa68-41f6-8d22-070bd393bfe4\n",
      "Function:  _get_model_attr\n",
      "args:      (KMeansMG(), '_repr_jpeg_')\n",
      "kwargs:    {}\n",
      "Exception: 'AttributeError(\"Attribute _repr_jpeg_ does not exist on model <class \\'cuml.cluster.kmeans_mg.KMeansMG\\'>\")'\n",
      "\n",
      "2022-08-18 11:14:57,158 - distributed.worker - WARNING - Compute Failed\n",
      "Key:       _get_model_attr-989a48f2-74c3-43d5-99f2-458879db3ccd\n",
      "Function:  _get_model_attr\n",
      "args:      (KMeansMG(), '_ipython_canary_method_should_not_exist_')\n",
      "kwargs:    {}\n",
      "Exception: 'AttributeError(\"Attribute _ipython_canary_method_should_not_exist_ does not exist on model <class \\'cuml.cluster.kmeans_mg.KMeansMG\\'>\")'\n",
      "\n",
      "2022-08-18 11:14:57,168 - distributed.worker - WARNING - Compute Failed\n",
      "Key:       _get_model_attr-4f0902e1-1698-4954-8ecd-c4a387b6adac\n",
      "Function:  _get_model_attr\n",
      "args:      (KMeansMG(), '_repr_latex_')\n",
      "kwargs:    {}\n",
      "Exception: 'AttributeError(\"Attribute _repr_latex_ does not exist on model <class \\'cuml.cluster.kmeans_mg.KMeansMG\\'>\")'\n",
      "\n",
      "2022-08-18 11:14:57,179 - distributed.worker - WARNING - Compute Failed\n",
      "Key:       _get_model_attr-c4fc8041-6a33-4870-809b-ae66882832e1\n",
      "Function:  _get_model_attr\n",
      "args:      (KMeansMG(), '_ipython_canary_method_should_not_exist_')\n",
      "kwargs:    {}\n",
      "Exception: 'AttributeError(\"Attribute _ipython_canary_method_should_not_exist_ does not exist on model <class \\'cuml.cluster.kmeans_mg.KMeansMG\\'>\")'\n",
      "\n",
      "2022-08-18 11:14:57,200 - distributed.worker - WARNING - Compute Failed\n",
      "Key:       _get_model_attr-bfc01adc-5052-4262-a191-348e2839170c\n",
      "Function:  _get_model_attr\n",
      "args:      (KMeansMG(), '_repr_json_')\n",
      "kwargs:    {}\n",
      "Exception: 'AttributeError(\"Attribute _repr_json_ does not exist on model <class \\'cuml.cluster.kmeans_mg.KMeansMG\\'>\")'\n",
      "\n",
      "2022-08-18 11:14:57,212 - distributed.worker - WARNING - Compute Failed\n",
      "Key:       _get_model_attr-9b9629a8-e428-47ea-83c1-c7f8945cdc93\n",
      "Function:  _get_model_attr\n",
      "args:      (KMeansMG(), '_ipython_canary_method_should_not_exist_')\n",
      "kwargs:    {}\n",
      "Exception: 'AttributeError(\"Attribute _ipython_canary_method_should_not_exist_ does not exist on model <class \\'cuml.cluster.kmeans_mg.KMeansMG\\'>\")'\n",
      "\n",
      "2022-08-18 11:14:57,224 - distributed.worker - WARNING - Compute Failed\n",
      "Key:       _get_model_attr-ff3849d1-d339-4eca-93d9-db4fc9699a58\n",
      "Function:  _get_model_attr\n",
      "args:      (KMeansMG(), '_repr_javascript_')\n",
      "kwargs:    {}\n",
      "Exception: 'AttributeError(\"Attribute _repr_javascript_ does not exist on model <class \\'cuml.cluster.kmeans_mg.KMeansMG\\'>\")'\n",
      "\n"
     ]
    },
    {
     "data": {
      "text/plain": [
       "<cuml.dask.cluster.kmeans.KMeans at 0x7ff7bbbfe670>"
      ]
     },
     "execution_count": 10,
     "metadata": {},
     "output_type": "execute_result"
    }
   ],
   "source": [
    "dist_model.fit(X)"
   ]
  },
  {
   "cell_type": "code",
   "execution_count": 11,
   "metadata": {
    "execution": {
     "iopub.execute_input": "2022-08-18T11:14:57.243114Z",
     "iopub.status.busy": "2022-08-18T11:14:57.242593Z",
     "iopub.status.idle": "2022-08-18T11:14:57.266911Z",
     "shell.execute_reply": "2022-08-18T11:14:57.265257Z"
    }
   },
   "outputs": [],
   "source": [
    "import pickle\n",
    "\n",
    "single_gpu_model = dist_model.get_combined_model()\n",
    "pickle.dump(single_gpu_model, open(\"kmeans_model.pkl\", \"wb\"))"
   ]
  },
  {
   "cell_type": "code",
   "execution_count": 12,
   "metadata": {
    "execution": {
     "iopub.execute_input": "2022-08-18T11:14:57.272612Z",
     "iopub.status.busy": "2022-08-18T11:14:57.272092Z",
     "iopub.status.idle": "2022-08-18T11:14:57.279735Z",
     "shell.execute_reply": "2022-08-18T11:14:57.278563Z"
    }
   },
   "outputs": [],
   "source": [
    "single_gpu_model = pickle.load(open(\"kmeans_model.pkl\", \"rb\"))"
   ]
  },
  {
   "cell_type": "code",
   "execution_count": 13,
   "metadata": {
    "execution": {
     "iopub.execute_input": "2022-08-18T11:14:57.285371Z",
     "iopub.status.busy": "2022-08-18T11:14:57.284918Z",
     "iopub.status.idle": "2022-08-18T11:14:57.298342Z",
     "shell.execute_reply": "2022-08-18T11:14:57.297039Z"
    }
   },
   "outputs": [
    {
     "data": {
      "text/plain": [
       "array([[-4.6475396e+00, -9.5672169e+00,  6.6923518e+00,  4.4359241e+00,\n",
       "         2.1902733e+00,  2.5834751e+00,  5.9448940e-01,  6.2568660e+00,\n",
       "        -8.7821636e+00, -4.1232014e-01,  9.8151779e+00,  7.5641570e+00,\n",
       "         1.0003010e+01, -5.8680434e+00, -1.2743108e+00, -2.5393455e+00,\n",
       "        -1.0847499e+00, -5.2629204e+00, -9.3071022e+00,  4.6179361e+00,\n",
       "        -9.7068958e-02, -3.9351208e+00,  6.1767278e+00, -7.4346881e+00,\n",
       "         5.6496067e+00, -8.5544844e+00, -7.5265574e+00, -5.5195603e+00,\n",
       "         4.8197632e+00,  2.5235438e+00],\n",
       "       [ 6.2794294e+00,  9.2293949e+00,  8.3403702e+00,  9.0330496e+00,\n",
       "         7.6893492e+00, -9.9538219e-01, -6.2780757e+00,  1.3599331e+00,\n",
       "        -6.9744487e+00, -5.9463463e+00,  1.0695115e+00, -8.0422480e-03,\n",
       "         2.8183143e+00,  1.8317667e+00, -8.2557344e+00,  3.0514317e+00,\n",
       "        -8.4958019e+00,  9.7238483e+00, -7.7455091e+00,  3.4521694e+00,\n",
       "        -3.9248335e+00, -4.1106420e+00,  2.6693091e+00,  1.2985628e+00,\n",
       "         1.0421573e+00,  5.2490625e+00, -1.6496240e+00,  6.1451659e+00,\n",
       "        -6.9103327e+00, -9.6390314e+00],\n",
       "       [-2.8796387e+00,  4.4348760e+00, -4.4264812e+00,  2.3959141e+00,\n",
       "         1.7286435e+00, -2.4991984e+00, -5.1794519e+00, -1.6771443e+00,\n",
       "        -8.1329174e+00,  2.6659226e+00, -4.3131099e+00,  5.5827813e+00,\n",
       "        -5.7318306e+00, -1.7427170e+00, -9.3456125e+00,  7.1365553e-01,\n",
       "         4.4255495e+00, -2.9118381e+00, -4.9467444e+00,  9.6786413e+00,\n",
       "         8.4222746e+00, -6.2710242e+00, -6.3596516e+00,  1.9645507e+00,\n",
       "         4.1715999e+00, -9.1683636e+00,  4.6156688e+00,  8.7916498e+00,\n",
       "         6.8754416e+00,  2.2288744e+00],\n",
       "       [-6.9536948e+00, -9.7635870e+00, -6.5648260e+00, -4.3536150e-01,\n",
       "         6.0998106e+00,  3.7550373e+00, -3.9558542e+00,  6.1595521e+00,\n",
       "        -1.8599318e+00,  5.0400305e+00, -6.8397546e+00,  1.3435434e+00,\n",
       "         8.9749022e+00, -9.9621767e-01,  9.6651945e+00,  9.8009644e+00,\n",
       "        -8.6188335e+00,  5.9978361e+00,  2.2295928e+00, -3.6477709e+00,\n",
       "         7.0758505e+00, -7.3772259e+00, -5.3214221e+00, -6.9927959e+00,\n",
       "        -7.9296312e+00,  6.6705351e+00, -5.5850182e+00,  7.1526051e+00,\n",
       "         6.5703216e+00, -8.3389387e+00],\n",
       "       [ 4.8136683e+00,  8.3985281e+00, -9.2161236e+00,  9.4185524e+00,\n",
       "         8.5280886e+00, -1.0969982e+00,  3.3253171e+00, -7.8064380e+00,\n",
       "        -5.9660631e-01,  2.5423869e-01,  5.5004086e+00, -4.1162963e+00,\n",
       "         4.2832375e+00, -2.8173413e+00,  3.6207721e+00, -4.1576214e+00,\n",
       "        -3.6048703e+00,  6.2125401e+00, -6.9080997e+00, -1.0732133e+00,\n",
       "        -5.8362122e+00,  2.2357669e+00, -3.8588791e+00, -1.6835878e+00,\n",
       "        -5.3240371e+00,  7.5769196e+00,  2.9358530e+00,  8.5267372e+00,\n",
       "         1.5667247e+00,  1.0779673e+00]], dtype=float32)"
      ]
     },
     "execution_count": 13,
     "metadata": {},
     "output_type": "execute_result"
    }
   ],
   "source": [
    "single_gpu_model.cluster_centers_"
   ]
  },
  {
   "cell_type": "markdown",
   "metadata": {},
   "source": [
    "## Exporting cuML Random Forest models for inferencing on machines without GPUs"
   ]
  },
  {
   "cell_type": "markdown",
   "metadata": {},
   "source": [
    "Starting with cuML version 21.06, you can export cuML Random Forest models and run predictions with them on machines without an NVIDIA GPUs. The [Treelite](https://github.com/dmlc/treelite) package defines an efficient exchange format that lets you portably move the cuML Random Forest models to other machines. We will refer to the exchange format as \"checkpoints.\"\n",
    "\n",
    "Here are the steps to export the model:\n",
    "\n",
    "1. Call `to_treelite_checkpoint()` to obtain the checkpoint file from the cuML Random Forest model."
   ]
  },
  {
   "cell_type": "code",
   "execution_count": 14,
   "metadata": {
    "execution": {
     "iopub.execute_input": "2022-08-18T11:14:57.304373Z",
     "iopub.status.busy": "2022-08-18T11:14:57.303863Z",
     "iopub.status.idle": "2022-08-18T11:14:57.418776Z",
     "shell.execute_reply": "2022-08-18T11:14:57.417467Z"
    }
   },
   "outputs": [
    {
     "name": "stderr",
     "output_type": "stream",
     "text": [
      "/opt/conda/envs/rapids/lib/python3.9/site-packages/cuml/internals/api_decorators.py:794: UserWarning: For reproducible results in Random Forest Classifier or for almost reproducible results in Random Forest Regressor, n_streams=1 is recommended. If n_streams is > 1, results may vary due to stream/thread timing differences, even when random_state is set\n",
      "  return func(**kwargs)\n"
     ]
    }
   ],
   "source": [
    "from cuml.ensemble import RandomForestClassifier as cumlRandomForestClassifier\n",
    "from sklearn.datasets import load_iris\n",
    "import numpy as np\n",
    "\n",
    "X, y = load_iris(return_X_y=True)\n",
    "X, y = X.astype(np.float32), y.astype(np.int32)\n",
    "clf = cumlRandomForestClassifier(max_depth=3, random_state=0, n_estimators=10)\n",
    "clf.fit(X, y)\n",
    "\n",
    "checkpoint_path = './checkpoint.tl'\n",
    "# Export cuML RF model as Treelite checkpoint\n",
    "clf.convert_to_treelite_model().to_treelite_checkpoint(checkpoint_path)"
   ]
  },
  {
   "cell_type": "markdown",
   "metadata": {},
   "source": [
    "2. Copy the generated checkpoint file `checkpoint.tl` to another machine on which you'd like to run predictions.\n",
    "\n",
    "3. On the target machine, install Treelite by running `pip install treelite` or `conda install -c conda-forge treelite`. The machine does not need to have an NVIDIA GPUs and does not need to have cuML installed.\n",
    "\n",
    "4. You can now load the model from the checkpoint, by running the following on the target machine:"
   ]
  },
  {
   "cell_type": "code",
   "execution_count": 15,
   "metadata": {
    "execution": {
     "iopub.execute_input": "2022-08-18T11:14:57.423040Z",
     "iopub.status.busy": "2022-08-18T11:14:57.422682Z",
     "iopub.status.idle": "2022-08-18T11:14:57.442834Z",
     "shell.execute_reply": "2022-08-18T11:14:57.441769Z"
    }
   },
   "outputs": [
    {
     "name": "stdout",
     "output_type": "stream",
     "text": [
      "[[1.         0.         0.        ]\n",
      " [1.         0.         0.        ]\n",
      " [1.         0.         0.        ]\n",
      " [1.         0.         0.        ]\n",
      " [1.         0.         0.        ]\n",
      " [1.         0.         0.        ]\n",
      " [1.         0.         0.        ]\n",
      " [1.         0.         0.        ]\n",
      " [1.         0.         0.        ]\n",
      " [1.         0.         0.        ]\n",
      " [1.         0.         0.        ]\n",
      " [1.         0.         0.        ]\n",
      " [1.         0.         0.        ]\n",
      " [1.         0.         0.        ]\n",
      " [0.90789473 0.09210526 0.        ]\n",
      " [0.90789473 0.09210526 0.        ]\n",
      " [1.         0.         0.        ]\n",
      " [1.         0.         0.        ]\n",
      " [0.90789473 0.09210526 0.        ]\n",
      " [1.         0.         0.        ]\n",
      " [1.         0.         0.        ]\n",
      " [1.         0.         0.        ]\n",
      " [1.         0.         0.        ]\n",
      " [1.         0.         0.        ]\n",
      " [1.         0.         0.        ]\n",
      " [1.         0.         0.        ]\n",
      " [1.         0.         0.        ]\n",
      " [1.         0.         0.        ]\n",
      " [1.         0.         0.        ]\n",
      " [1.         0.         0.        ]\n",
      " [1.         0.         0.        ]\n",
      " [1.         0.         0.        ]\n",
      " [1.         0.         0.        ]\n",
      " [1.         0.         0.        ]\n",
      " [1.         0.         0.        ]\n",
      " [1.         0.         0.        ]\n",
      " [1.         0.         0.        ]\n",
      " [1.         0.         0.        ]\n",
      " [1.         0.         0.        ]\n",
      " [1.         0.         0.        ]\n",
      " [1.         0.         0.        ]\n",
      " [1.         0.         0.        ]\n",
      " [1.         0.         0.        ]\n",
      " [1.         0.         0.        ]\n",
      " [1.         0.         0.        ]\n",
      " [1.         0.         0.        ]\n",
      " [1.         0.         0.        ]\n",
      " [1.         0.         0.        ]\n",
      " [1.         0.         0.        ]\n",
      " [1.         0.         0.        ]\n",
      " [0.00789474 0.96374357 0.02836171]\n",
      " [0.00789474 0.96374357 0.02836171]\n",
      " [0.00789474 0.7819892  0.2101161 ]\n",
      " [0.         0.99018145 0.00981859]\n",
      " [0.00789474 0.96374357 0.02836171]\n",
      " [0.00789474 0.975835   0.01627021]\n",
      " [0.00789474 0.96374357 0.02836171]\n",
      " [0.         0.8568481  0.14315192]\n",
      " [0.00789474 0.96374357 0.02836171]\n",
      " [0.         0.99018145 0.00981859]\n",
      " [0.         0.99018145 0.00981859]\n",
      " [0.00789474 0.975835   0.01627021]\n",
      " [0.00789474 0.975835   0.01627021]\n",
      " [0.00789474 0.975835   0.01627021]\n",
      " [0.10789473 0.88228667 0.00981859]\n",
      " [0.00789474 0.96374357 0.02836171]\n",
      " [0.00789474 0.98228663 0.00981859]\n",
      " [0.00789474 0.975835   0.01627021]\n",
      " [0.00789474 0.975835   0.01627021]\n",
      " [0.10789473 0.88228667 0.00981859]\n",
      " [0.         0.25154537 0.7484547 ]\n",
      " [0.00789474 0.975835   0.01627021]\n",
      " [0.00789474 0.7819892  0.2101161 ]\n",
      " [0.00789474 0.975835   0.01627021]\n",
      " [0.00789474 0.96374357 0.02836171]\n",
      " [0.00789474 0.96374357 0.02836171]\n",
      " [0.00789474 0.79310024 0.199005  ]\n",
      " [0.         0.451291   0.54870903]\n",
      " [0.00789474 0.975835   0.01627021]\n",
      " [0.10789473 0.87583506 0.01627021]\n",
      " [0.         0.99018145 0.00981859]\n",
      " [0.         0.99018145 0.00981859]\n",
      " [0.10789473 0.87583506 0.01627021]\n",
      " [0.         0.18708128 0.8129188 ]\n",
      " [0.         0.99018145 0.00981859]\n",
      " [0.00789474 0.975835   0.01627021]\n",
      " [0.00789474 0.96374357 0.02836171]\n",
      " [0.00789474 0.96374357 0.02836171]\n",
      " [0.00789474 0.98228663 0.00981859]\n",
      " [0.         0.99018145 0.00981859]\n",
      " [0.         0.99018145 0.00981859]\n",
      " [0.00789474 0.975835   0.01627021]\n",
      " [0.00789474 0.975835   0.01627021]\n",
      " [0.         0.99018145 0.00981859]\n",
      " [0.00789474 0.98228663 0.00981859]\n",
      " [0.00789474 0.975835   0.01627021]\n",
      " [0.00789474 0.975835   0.01627021]\n",
      " [0.00789474 0.975835   0.01627021]\n",
      " [0.         0.99018145 0.00981859]\n",
      " [0.00789474 0.975835   0.01627021]\n",
      " [0.         0.01258634 0.9874137 ]\n",
      " [0.         0.0481924  0.9518076 ]\n",
      " [0.         0.01258634 0.9874137 ]\n",
      " [0.         0.01258634 0.9874137 ]\n",
      " [0.         0.01258634 0.9874137 ]\n",
      " [0.         0.01258634 0.9874137 ]\n",
      " [0.         0.6901814  0.3098186 ]\n",
      " [0.         0.01258634 0.9874137 ]\n",
      " [0.         0.01258634 0.9874137 ]\n",
      " [0.         0.01258634 0.9874137 ]\n",
      " [0.         0.01258634 0.9874137 ]\n",
      " [0.         0.01258634 0.9874137 ]\n",
      " [0.         0.01258634 0.9874137 ]\n",
      " [0.         0.15504913 0.84495085]\n",
      " [0.         0.0481924  0.9518076 ]\n",
      " [0.         0.01258634 0.9874137 ]\n",
      " [0.         0.01258634 0.9874137 ]\n",
      " [0.         0.01258634 0.9874137 ]\n",
      " [0.         0.01258634 0.9874137 ]\n",
      " [0.         0.40701494 0.59298503]\n",
      " [0.         0.01258634 0.9874137 ]\n",
      " [0.         0.14688587 0.8531141 ]\n",
      " [0.         0.01258634 0.9874137 ]\n",
      " [0.         0.28718114 0.71281886]\n",
      " [0.         0.01258634 0.9874137 ]\n",
      " [0.         0.01258634 0.9874137 ]\n",
      " [0.         0.22427265 0.7757274 ]\n",
      " [0.         0.21316154 0.7868384 ]\n",
      " [0.         0.01258634 0.9874137 ]\n",
      " [0.         0.17874795 0.82125205]\n",
      " [0.         0.01258634 0.9874137 ]\n",
      " [0.         0.01258634 0.9874137 ]\n",
      " [0.         0.01258634 0.9874137 ]\n",
      " [0.         0.21682489 0.7831751 ]\n",
      " [0.         0.22515821 0.77484185]\n",
      " [0.         0.01258634 0.9874137 ]\n",
      " [0.         0.01258634 0.9874137 ]\n",
      " [0.         0.01258634 0.9874137 ]\n",
      " [0.         0.22427265 0.7757274 ]\n",
      " [0.         0.01258634 0.9874137 ]\n",
      " [0.         0.01258634 0.9874137 ]\n",
      " [0.         0.01258634 0.9874137 ]\n",
      " [0.         0.0481924  0.9518076 ]\n",
      " [0.         0.01258634 0.9874137 ]\n",
      " [0.         0.01258634 0.9874137 ]\n",
      " [0.         0.01258634 0.9874137 ]\n",
      " [0.         0.20179601 0.798204  ]\n",
      " [0.         0.01258634 0.9874137 ]\n",
      " [0.         0.02091968 0.9790803 ]\n",
      " [0.         0.0481924  0.9518076 ]]\n"
     ]
    }
   ],
   "source": [
    "import treelite\n",
    "\n",
    "# The checkpoint file has been copied over\n",
    "checkpoint_path = './checkpoint.tl'\n",
    "tl_model = treelite.Model.deserialize(checkpoint_path)\n",
    "out_prob = treelite.gtil.predict(tl_model, X, pred_margin=True)\n",
    "print(out_prob)"
   ]
  }
 ],
 "metadata": {
  "kernelspec": {
   "display_name": "Python 3",
   "language": "python",
   "name": "python3"
  },
  "language_info": {
   "codemirror_mode": {
    "name": "ipython",
    "version": 3
   },
   "file_extension": ".py",
   "mimetype": "text/x-python",
   "name": "python",
   "nbconvert_exporter": "python",
   "pygments_lexer": "ipython3",
   "version": "3.9.13"
  }
 },
 "nbformat": 4,
 "nbformat_minor": 4
}
