{
 "cells": [
  {
   "cell_type": "markdown",
   "metadata": {},
   "source": [
    "# Pickling cuML Models for Persistence\n",
    "\n",
    "This notebook demonstrates simple pickling of both single-GPU and multi-GPU cuML models for persistence"
   ]
  },
  {
   "cell_type": "code",
   "execution_count": 1,
   "metadata": {
    "execution": {
     "iopub.execute_input": "2022-08-15T11:20:23.015588Z",
     "iopub.status.busy": "2022-08-15T11:20:23.014697Z",
     "iopub.status.idle": "2022-08-15T11:20:23.028627Z",
     "shell.execute_reply": "2022-08-15T11:20:23.027491Z"
    }
   },
   "outputs": [],
   "source": [
    "import warnings\n",
    "warnings.filterwarnings(\"ignore\", category=FutureWarning)"
   ]
  },
  {
   "cell_type": "markdown",
   "metadata": {},
   "source": [
    "## Single GPU Model Pickling\n",
    "\n",
    "All single-GPU estimators are pickleable. The following example demonstrates the creation of a synthetic dataset, training, and pickling of the resulting model for storage. Trained single-GPU models can also be used to distribute the inference on a Dask cluster, which the `Distributed Model Pickling` section below demonstrates."
   ]
  },
  {
   "cell_type": "code",
   "execution_count": 2,
   "metadata": {
    "execution": {
     "iopub.execute_input": "2022-08-15T11:20:23.033367Z",
     "iopub.status.busy": "2022-08-15T11:20:23.032956Z",
     "iopub.status.idle": "2022-08-15T11:20:29.509802Z",
     "shell.execute_reply": "2022-08-15T11:20:29.508860Z"
    }
   },
   "outputs": [],
   "source": [
    "from cuml.datasets import make_blobs\n",
    "\n",
    "X, y = make_blobs(n_samples=50,\n",
    "                  n_features=10,\n",
    "                  centers=5,\n",
    "                  cluster_std=0.4,\n",
    "                  random_state=0)"
   ]
  },
  {
   "cell_type": "code",
   "execution_count": 3,
   "metadata": {
    "execution": {
     "iopub.execute_input": "2022-08-15T11:20:29.514082Z",
     "iopub.status.busy": "2022-08-15T11:20:29.513787Z",
     "iopub.status.idle": "2022-08-15T11:20:29.792079Z",
     "shell.execute_reply": "2022-08-15T11:20:29.791275Z"
    }
   },
   "outputs": [
    {
     "data": {
      "text/plain": [
       "KMeans()"
      ]
     },
     "execution_count": 3,
     "metadata": {},
     "output_type": "execute_result"
    }
   ],
   "source": [
    "from cuml.cluster import KMeans\n",
    "\n",
    "model = KMeans(n_clusters=5)\n",
    "\n",
    "model.fit(X)"
   ]
  },
  {
   "cell_type": "code",
   "execution_count": 4,
   "metadata": {
    "execution": {
     "iopub.execute_input": "2022-08-15T11:20:29.796130Z",
     "iopub.status.busy": "2022-08-15T11:20:29.795748Z",
     "iopub.status.idle": "2022-08-15T11:20:29.801385Z",
     "shell.execute_reply": "2022-08-15T11:20:29.800617Z"
    }
   },
   "outputs": [],
   "source": [
    "import pickle\n",
    "\n",
    "pickle.dump(model, open(\"kmeans_model.pkl\", \"wb\"))"
   ]
  },
  {
   "cell_type": "code",
   "execution_count": 5,
   "metadata": {
    "execution": {
     "iopub.execute_input": "2022-08-15T11:20:29.805205Z",
     "iopub.status.busy": "2022-08-15T11:20:29.804926Z",
     "iopub.status.idle": "2022-08-15T11:20:29.810495Z",
     "shell.execute_reply": "2022-08-15T11:20:29.809693Z"
    }
   },
   "outputs": [],
   "source": [
    "model = pickle.load(open(\"kmeans_model.pkl\", \"rb\"))"
   ]
  },
  {
   "cell_type": "code",
   "execution_count": 6,
   "metadata": {
    "execution": {
     "iopub.execute_input": "2022-08-15T11:20:29.814202Z",
     "iopub.status.busy": "2022-08-15T11:20:29.813923Z",
     "iopub.status.idle": "2022-08-15T11:20:29.821391Z",
     "shell.execute_reply": "2022-08-15T11:20:29.820639Z"
    }
   },
   "outputs": [
    {
     "data": {
      "text/plain": [
       "array([[ 4.6749854 ,  8.213466  , -9.075721  ,  9.568374  ,  8.454808  ,\n",
       "        -1.2327974 ,  3.390371  , -7.828242  , -0.84544617,  0.6288572 ],\n",
       "       [-4.243999  ,  5.6107078 , -5.669777  , -1.7957243 , -9.255528  ,\n",
       "         0.71774375,  4.4435897 , -2.8747153 , -5.0900965 ,  9.684121  ],\n",
       "       [ 5.2615476 , -4.0487256 ,  4.464928  , -2.9367518 ,  3.5061095 ,\n",
       "        -4.016832  , -3.463885  ,  6.078449  , -6.953326  , -1.004144  ],\n",
       "       [-3.008261  ,  4.6259604 , -4.483249  ,  2.228457  ,  1.643532  ,\n",
       "        -2.4505193 , -5.258201  , -1.6679403 , -7.9857535 ,  2.8311467 ],\n",
       "       [-5.6072407 ,  2.2695985 , -3.7516537 , -1.8182003 , -5.143028  ,\n",
       "         7.599363  ,  2.8252366 ,  8.773042  ,  1.6198314 ,  1.1772048 ]],\n",
       "      dtype=float32)"
      ]
     },
     "execution_count": 6,
     "metadata": {},
     "output_type": "execute_result"
    }
   ],
   "source": [
    "model.cluster_centers_"
   ]
  },
  {
   "cell_type": "markdown",
   "metadata": {},
   "source": [
    "## Distributed Model Pickling"
   ]
  },
  {
   "cell_type": "markdown",
   "metadata": {},
   "source": [
    "The distributed estimator wrappers inside of the `cuml.dask` are not intended to be pickled directly. The Dask cuML estimators provide a function `get_combined_model()`, which returns the trained single-GPU model for pickling. The combined model can be used for inference on a single-GPU, and the `ParallelPostFit` wrapper from the [Dask-ML](https://ml.dask.org/meta-estimators.html) library can be used to perform distributed inference on a Dask cluster."
   ]
  },
  {
   "cell_type": "code",
   "execution_count": 7,
   "metadata": {
    "execution": {
     "iopub.execute_input": "2022-08-15T11:20:29.825381Z",
     "iopub.status.busy": "2022-08-15T11:20:29.825018Z",
     "iopub.status.idle": "2022-08-15T11:20:33.644735Z",
     "shell.execute_reply": "2022-08-15T11:20:33.643215Z"
    }
   },
   "outputs": [
    {
     "name": "stderr",
     "output_type": "stream",
     "text": [
      "2022-08-15 11:20:33,130 - distributed.preloading - INFO - Creating preload: dask_cuda.initialize\n",
      "2022-08-15 11:20:33,131 - distributed.preloading - INFO - Import preload module: dask_cuda.initialize\n"
     ]
    },
    {
     "data": {
      "text/html": [
       "<div>\n",
       "    <div style=\"width: 24px; height: 24px; background-color: #e1e1e1; border: 3px solid #9D9D9D; border-radius: 5px; position: absolute;\"> </div>\n",
       "    <div style=\"margin-left: 48px;\">\n",
       "        <h3 style=\"margin-bottom: 0px;\">Client</h3>\n",
       "        <p style=\"color: #9D9D9D; margin-bottom: 0px;\">Client-474fac26-1c8c-11ed-9030-0242ac110007</p>\n",
       "        <table style=\"width: 100%; text-align: left;\">\n",
       "\n",
       "        <tr>\n",
       "        \n",
       "            <td style=\"text-align: left;\"><strong>Connection method:</strong> Cluster object</td>\n",
       "            <td style=\"text-align: left;\"><strong>Cluster type:</strong> dask_cuda.LocalCUDACluster</td>\n",
       "        \n",
       "        </tr>\n",
       "\n",
       "        \n",
       "            <tr>\n",
       "                <td style=\"text-align: left;\">\n",
       "                    <strong>Dashboard: </strong> <a href=\"http://127.0.0.1:8787/status\" target=\"_blank\">http://127.0.0.1:8787/status</a>\n",
       "                </td>\n",
       "                <td style=\"text-align: left;\"></td>\n",
       "            </tr>\n",
       "        \n",
       "\n",
       "        </table>\n",
       "\n",
       "        \n",
       "            <details>\n",
       "            <summary style=\"margin-bottom: 20px;\"><h3 style=\"display: inline;\">Cluster Info</h3></summary>\n",
       "            <div class=\"jp-RenderedHTMLCommon jp-RenderedHTML jp-mod-trusted jp-OutputArea-output\">\n",
       "    <div style=\"width: 24px; height: 24px; background-color: #e1e1e1; border: 3px solid #9D9D9D; border-radius: 5px; position: absolute;\">\n",
       "    </div>\n",
       "    <div style=\"margin-left: 48px;\">\n",
       "        <h3 style=\"margin-bottom: 0px; margin-top: 0px;\">LocalCUDACluster</h3>\n",
       "        <p style=\"color: #9D9D9D; margin-bottom: 0px;\">d1c11e4f</p>\n",
       "        <table style=\"width: 100%; text-align: left;\">\n",
       "            <tr>\n",
       "                <td style=\"text-align: left;\">\n",
       "                    <strong>Dashboard:</strong> <a href=\"http://127.0.0.1:8787/status\" target=\"_blank\">http://127.0.0.1:8787/status</a>\n",
       "                </td>\n",
       "                <td style=\"text-align: left;\">\n",
       "                    <strong>Workers:</strong> 1\n",
       "                </td>\n",
       "            </tr>\n",
       "            <tr>\n",
       "                <td style=\"text-align: left;\">\n",
       "                    <strong>Total threads:</strong> 1\n",
       "                </td>\n",
       "                <td style=\"text-align: left;\">\n",
       "                    <strong>Total memory:</strong> 251.79 GiB\n",
       "                </td>\n",
       "            </tr>\n",
       "            \n",
       "            <tr>\n",
       "    <td style=\"text-align: left;\"><strong>Status:</strong> running</td>\n",
       "    <td style=\"text-align: left;\"><strong>Using processes:</strong> True</td>\n",
       "</tr>\n",
       "\n",
       "            \n",
       "        </table>\n",
       "\n",
       "        <details>\n",
       "            <summary style=\"margin-bottom: 20px;\">\n",
       "                <h3 style=\"display: inline;\">Scheduler Info</h3>\n",
       "            </summary>\n",
       "\n",
       "            <div style=\"\">\n",
       "    <div>\n",
       "        <div style=\"width: 24px; height: 24px; background-color: #FFF7E5; border: 3px solid #FF6132; border-radius: 5px; position: absolute;\"> </div>\n",
       "        <div style=\"margin-left: 48px;\">\n",
       "            <h3 style=\"margin-bottom: 0px;\">Scheduler</h3>\n",
       "            <p style=\"color: #9D9D9D; margin-bottom: 0px;\">Scheduler-cc894e63-a4f6-45f7-9e86-526c9135fae1</p>\n",
       "            <table style=\"width: 100%; text-align: left;\">\n",
       "                <tr>\n",
       "                    <td style=\"text-align: left;\">\n",
       "                        <strong>Comm:</strong> tcp://127.0.0.1:42519\n",
       "                    </td>\n",
       "                    <td style=\"text-align: left;\">\n",
       "                        <strong>Workers:</strong> 1\n",
       "                    </td>\n",
       "                </tr>\n",
       "                <tr>\n",
       "                    <td style=\"text-align: left;\">\n",
       "                        <strong>Dashboard:</strong> <a href=\"http://127.0.0.1:8787/status\" target=\"_blank\">http://127.0.0.1:8787/status</a>\n",
       "                    </td>\n",
       "                    <td style=\"text-align: left;\">\n",
       "                        <strong>Total threads:</strong> 1\n",
       "                    </td>\n",
       "                </tr>\n",
       "                <tr>\n",
       "                    <td style=\"text-align: left;\">\n",
       "                        <strong>Started:</strong> Just now\n",
       "                    </td>\n",
       "                    <td style=\"text-align: left;\">\n",
       "                        <strong>Total memory:</strong> 251.79 GiB\n",
       "                    </td>\n",
       "                </tr>\n",
       "            </table>\n",
       "        </div>\n",
       "    </div>\n",
       "\n",
       "    <details style=\"margin-left: 48px;\">\n",
       "        <summary style=\"margin-bottom: 20px;\">\n",
       "            <h3 style=\"display: inline;\">Workers</h3>\n",
       "        </summary>\n",
       "\n",
       "        \n",
       "        <div style=\"margin-bottom: 20px;\">\n",
       "            <div style=\"width: 24px; height: 24px; background-color: #DBF5FF; border: 3px solid #4CC9FF; border-radius: 5px; position: absolute;\"> </div>\n",
       "            <div style=\"margin-left: 48px;\">\n",
       "            <details>\n",
       "                <summary>\n",
       "                    <h4 style=\"margin-bottom: 0px; display: inline;\">Worker: 0</h4>\n",
       "                </summary>\n",
       "                <table style=\"width: 100%; text-align: left;\">\n",
       "                    <tr>\n",
       "                        <td style=\"text-align: left;\">\n",
       "                            <strong>Comm: </strong> tcp://127.0.0.1:39565\n",
       "                        </td>\n",
       "                        <td style=\"text-align: left;\">\n",
       "                            <strong>Total threads: </strong> 1\n",
       "                        </td>\n",
       "                    </tr>\n",
       "                    <tr>\n",
       "                        <td style=\"text-align: left;\">\n",
       "                            <strong>Dashboard: </strong> <a href=\"http://127.0.0.1:39955/status\" target=\"_blank\">http://127.0.0.1:39955/status</a>\n",
       "                        </td>\n",
       "                        <td style=\"text-align: left;\">\n",
       "                            <strong>Memory: </strong> 251.79 GiB\n",
       "                        </td>\n",
       "                    </tr>\n",
       "                    <tr>\n",
       "                        <td style=\"text-align: left;\">\n",
       "                            <strong>Nanny: </strong> tcp://127.0.0.1:35951\n",
       "                        </td>\n",
       "                        <td style=\"text-align: left;\"></td>\n",
       "                    </tr>\n",
       "                    <tr>\n",
       "                        <td colspan=\"2\" style=\"text-align: left;\">\n",
       "                            <strong>Local directory: </strong> /tmp/dask-worker-space/worker-806af93a\n",
       "                        </td>\n",
       "                    </tr>\n",
       "\n",
       "                    \n",
       "                    <tr>\n",
       "                        <td style=\"text-align: left;\">\n",
       "                            <strong>GPU: </strong>Tesla V100-PCIE-32GB\n",
       "                        </td>\n",
       "                        <td style=\"text-align: left;\">\n",
       "                            <strong>GPU memory: </strong> 31.75 GiB\n",
       "                        </td>\n",
       "                    </tr>\n",
       "                    \n",
       "\n",
       "                    \n",
       "\n",
       "                </table>\n",
       "            </details>\n",
       "            </div>\n",
       "        </div>\n",
       "        \n",
       "\n",
       "    </details>\n",
       "</div>\n",
       "\n",
       "        </details>\n",
       "    </div>\n",
       "</div>\n",
       "            </details>\n",
       "        \n",
       "\n",
       "    </div>\n",
       "</div>"
      ],
      "text/plain": [
       "<Client: 'tcp://127.0.0.1:42519' processes=1 threads=1, memory=251.79 GiB>"
      ]
     },
     "execution_count": 7,
     "metadata": {},
     "output_type": "execute_result"
    }
   ],
   "source": [
    "from dask.distributed import Client\n",
    "from dask_cuda import LocalCUDACluster\n",
    "\n",
    "cluster = LocalCUDACluster()\n",
    "client = Client(cluster)\n",
    "client"
   ]
  },
  {
   "cell_type": "code",
   "execution_count": 8,
   "metadata": {
    "execution": {
     "iopub.execute_input": "2022-08-15T11:20:33.651908Z",
     "iopub.status.busy": "2022-08-15T11:20:33.651314Z",
     "iopub.status.idle": "2022-08-15T11:20:34.557470Z",
     "shell.execute_reply": "2022-08-15T11:20:34.555354Z"
    }
   },
   "outputs": [],
   "source": [
    "from cuml.dask.datasets import make_blobs\n",
    "\n",
    "n_workers = len(client.scheduler_info()[\"workers\"].keys())\n",
    "\n",
    "X, y = make_blobs(n_samples=5000, \n",
    "                  n_features=30,\n",
    "                  centers=5, \n",
    "                  cluster_std=0.4, \n",
    "                  random_state=0,\n",
    "                  n_parts=n_workers*5)\n",
    "\n",
    "X = X.persist()\n",
    "y = y.persist()"
   ]
  },
  {
   "cell_type": "code",
   "execution_count": 9,
   "metadata": {
    "execution": {
     "iopub.execute_input": "2022-08-15T11:20:34.568066Z",
     "iopub.status.busy": "2022-08-15T11:20:34.567655Z",
     "iopub.status.idle": "2022-08-15T11:20:34.574562Z",
     "shell.execute_reply": "2022-08-15T11:20:34.573393Z"
    }
   },
   "outputs": [],
   "source": [
    "from cuml.dask.cluster import KMeans\n",
    "\n",
    "dist_model = KMeans(n_clusters=5)"
   ]
  },
  {
   "cell_type": "code",
   "execution_count": 10,
   "metadata": {
    "execution": {
     "iopub.execute_input": "2022-08-15T11:20:34.580226Z",
     "iopub.status.busy": "2022-08-15T11:20:34.579776Z",
     "iopub.status.idle": "2022-08-15T11:20:40.027052Z",
     "shell.execute_reply": "2022-08-15T11:20:40.025036Z"
    }
   },
   "outputs": [
    {
     "name": "stderr",
     "output_type": "stream",
     "text": [
      "2022-08-15 11:20:39,663 - distributed.worker - WARNING - Compute Failed\n",
      "Key:       _get_model_attr-ca47bc24-58a6-4397-b408-2551c8dc8e89\n",
      "Function:  _get_model_attr\n",
      "args:      (KMeansMG(), '_ipython_canary_method_should_not_exist_')\n",
      "kwargs:    {}\n",
      "Exception: 'AttributeError(\"Attribute _ipython_canary_method_should_not_exist_ does not exist on model <class \\'cuml.cluster.kmeans_mg.KMeansMG\\'>\")'\n",
      "\n",
      "2022-08-15 11:20:39,684 - distributed.worker - WARNING - Compute Failed\n",
      "Key:       _get_model_attr-3739fc1b-26ce-4099-9773-3a6328ed3cbb\n",
      "Function:  _get_model_attr\n",
      "args:      (KMeansMG(), '_ipython_display_')\n",
      "kwargs:    {}\n",
      "Exception: 'AttributeError(\"Attribute _ipython_display_ does not exist on model <class \\'cuml.cluster.kmeans_mg.KMeansMG\\'>\")'\n",
      "\n",
      "2022-08-15 11:20:39,696 - distributed.worker - WARNING - Compute Failed\n",
      "Key:       _get_model_attr-1c199295-a4f4-4bc6-96f4-d7f397aadddf\n",
      "Function:  _get_model_attr\n",
      "args:      (KMeansMG(), '_ipython_canary_method_should_not_exist_')\n",
      "kwargs:    {}\n",
      "Exception: 'AttributeError(\"Attribute _ipython_canary_method_should_not_exist_ does not exist on model <class \\'cuml.cluster.kmeans_mg.KMeansMG\\'>\")'\n",
      "\n",
      "2022-08-15 11:20:39,709 - distributed.worker - WARNING - Compute Failed\n",
      "Key:       _get_model_attr-df58e826-43fb-4a78-97d8-12520ba1933b\n",
      "Function:  _get_model_attr\n",
      "args:      (KMeansMG(), '_repr_mimebundle_')\n",
      "kwargs:    {}\n",
      "Exception: 'AttributeError(\"Attribute _repr_mimebundle_ does not exist on model <class \\'cuml.cluster.kmeans_mg.KMeansMG\\'>\")'\n",
      "\n",
      "2022-08-15 11:20:39,726 - distributed.worker - WARNING - Compute Failed\n",
      "Key:       _get_model_attr-ae57a625-7216-4e3b-8c43-b9530ca182b7\n",
      "Function:  _get_model_attr\n",
      "args:      (KMeansMG(), '_ipython_canary_method_should_not_exist_')\n",
      "kwargs:    {}\n",
      "Exception: 'AttributeError(\"Attribute _ipython_canary_method_should_not_exist_ does not exist on model <class \\'cuml.cluster.kmeans_mg.KMeansMG\\'>\")'\n",
      "\n",
      "2022-08-15 11:20:39,745 - distributed.worker - WARNING - Compute Failed\n",
      "Key:       _get_model_attr-ccaa010f-8f6d-462c-ac50-ce907015e4da\n",
      "Function:  _get_model_attr\n",
      "args:      (KMeansMG(), '_repr_html_')\n",
      "kwargs:    {}\n",
      "Exception: 'AttributeError(\"Attribute _repr_html_ does not exist on model <class \\'cuml.cluster.kmeans_mg.KMeansMG\\'>\")'\n",
      "\n",
      "2022-08-15 11:20:39,760 - distributed.worker - WARNING - Compute Failed\n",
      "Key:       _get_model_attr-33745e64-f8b1-4446-82d7-6dc8d9d1b236\n",
      "Function:  _get_model_attr\n",
      "args:      (KMeansMG(), '_ipython_canary_method_should_not_exist_')\n",
      "kwargs:    {}\n",
      "Exception: 'AttributeError(\"Attribute _ipython_canary_method_should_not_exist_ does not exist on model <class \\'cuml.cluster.kmeans_mg.KMeansMG\\'>\")'\n",
      "\n",
      "2022-08-15 11:20:39,773 - distributed.worker - WARNING - Compute Failed\n",
      "Key:       _get_model_attr-6351d4b5-8553-43d4-ac65-860e60bdd8b1\n",
      "Function:  _get_model_attr\n",
      "args:      (KMeansMG(), '_repr_markdown_')\n",
      "kwargs:    {}\n",
      "Exception: 'AttributeError(\"Attribute _repr_markdown_ does not exist on model <class \\'cuml.cluster.kmeans_mg.KMeansMG\\'>\")'\n",
      "\n",
      "2022-08-15 11:20:39,794 - distributed.worker - WARNING - Compute Failed\n",
      "Key:       _get_model_attr-75a7348c-8720-4527-ba45-2e93f54c5e33\n",
      "Function:  _get_model_attr\n",
      "args:      (KMeansMG(), '_ipython_canary_method_should_not_exist_')\n",
      "kwargs:    {}\n",
      "Exception: 'AttributeError(\"Attribute _ipython_canary_method_should_not_exist_ does not exist on model <class \\'cuml.cluster.kmeans_mg.KMeansMG\\'>\")'\n",
      "\n",
      "2022-08-15 11:20:39,807 - distributed.worker - WARNING - Compute Failed\n",
      "Key:       _get_model_attr-9e9ac17c-906e-4da9-85c1-3774bfea0f59\n",
      "Function:  _get_model_attr\n",
      "args:      (KMeansMG(), '_repr_svg_')\n",
      "kwargs:    {}\n",
      "Exception: 'AttributeError(\"Attribute _repr_svg_ does not exist on model <class \\'cuml.cluster.kmeans_mg.KMeansMG\\'>\")'\n",
      "\n",
      "2022-08-15 11:20:39,820 - distributed.worker - WARNING - Compute Failed\n",
      "Key:       _get_model_attr-25a275a0-6a6d-4cef-ae8e-5c6859bb882a\n",
      "Function:  _get_model_attr\n",
      "args:      (KMeansMG(), '_ipython_canary_method_should_not_exist_')\n",
      "kwargs:    {}\n",
      "Exception: 'AttributeError(\"Attribute _ipython_canary_method_should_not_exist_ does not exist on model <class \\'cuml.cluster.kmeans_mg.KMeansMG\\'>\")'\n",
      "\n",
      "2022-08-15 11:20:39,840 - distributed.worker - WARNING - Compute Failed\n",
      "Key:       _get_model_attr-07d061a8-1b92-4c78-87bf-0aa4c8e9edc3\n",
      "Function:  _get_model_attr\n",
      "args:      (KMeansMG(), '_repr_png_')\n",
      "kwargs:    {}\n",
      "Exception: 'AttributeError(\"Attribute _repr_png_ does not exist on model <class \\'cuml.cluster.kmeans_mg.KMeansMG\\'>\")'\n",
      "\n",
      "2022-08-15 11:20:39,854 - distributed.worker - WARNING - Compute Failed\n",
      "Key:       _get_model_attr-4a37ae23-8cd0-4752-9c50-d0d6d0247f44\n",
      "Function:  _get_model_attr\n",
      "args:      (KMeansMG(), '_ipython_canary_method_should_not_exist_')\n",
      "kwargs:    {}\n",
      "Exception: 'AttributeError(\"Attribute _ipython_canary_method_should_not_exist_ does not exist on model <class \\'cuml.cluster.kmeans_mg.KMeansMG\\'>\")'\n",
      "\n"
     ]
    },
    {
     "name": "stderr",
     "output_type": "stream",
     "text": [
      "2022-08-15 11:20:39,875 - distributed.worker - WARNING - Compute Failed\n",
      "Key:       _get_model_attr-b0ed769c-2386-45c7-888d-f44212c3dda4\n",
      "Function:  _get_model_attr\n",
      "args:      (KMeansMG(), '_repr_pdf_')\n",
      "kwargs:    {}\n",
      "Exception: 'AttributeError(\"Attribute _repr_pdf_ does not exist on model <class \\'cuml.cluster.kmeans_mg.KMeansMG\\'>\")'\n",
      "\n",
      "2022-08-15 11:20:39,896 - distributed.worker - WARNING - Compute Failed\n",
      "Key:       _get_model_attr-74aaa74f-3c2b-4909-97aa-0154d2f60bb3\n",
      "Function:  _get_model_attr\n",
      "args:      (KMeansMG(), '_ipython_canary_method_should_not_exist_')\n",
      "kwargs:    {}\n",
      "Exception: 'AttributeError(\"Attribute _ipython_canary_method_should_not_exist_ does not exist on model <class \\'cuml.cluster.kmeans_mg.KMeansMG\\'>\")'\n",
      "\n",
      "2022-08-15 11:20:39,910 - distributed.worker - WARNING - Compute Failed\n",
      "Key:       _get_model_attr-a839131b-47e7-4596-b774-647289faa8af\n",
      "Function:  _get_model_attr\n",
      "args:      (KMeansMG(), '_repr_jpeg_')\n",
      "kwargs:    {}\n",
      "Exception: 'AttributeError(\"Attribute _repr_jpeg_ does not exist on model <class \\'cuml.cluster.kmeans_mg.KMeansMG\\'>\")'\n",
      "\n",
      "2022-08-15 11:20:39,924 - distributed.worker - WARNING - Compute Failed\n",
      "Key:       _get_model_attr-e3c013f2-80ca-438d-8569-3220ff941db5\n",
      "Function:  _get_model_attr\n",
      "args:      (KMeansMG(), '_ipython_canary_method_should_not_exist_')\n",
      "kwargs:    {}\n",
      "Exception: 'AttributeError(\"Attribute _ipython_canary_method_should_not_exist_ does not exist on model <class \\'cuml.cluster.kmeans_mg.KMeansMG\\'>\")'\n",
      "\n",
      "2022-08-15 11:20:39,937 - distributed.worker - WARNING - Compute Failed\n",
      "Key:       _get_model_attr-07ff5888-87bb-4f07-a4d0-ccf7a395d621\n",
      "Function:  _get_model_attr\n",
      "args:      (KMeansMG(), '_repr_latex_')\n",
      "kwargs:    {}\n",
      "Exception: 'AttributeError(\"Attribute _repr_latex_ does not exist on model <class \\'cuml.cluster.kmeans_mg.KMeansMG\\'>\")'\n",
      "\n",
      "2022-08-15 11:20:39,951 - distributed.worker - WARNING - Compute Failed\n",
      "Key:       _get_model_attr-14767c78-eb40-4d76-b5f7-f9e4dfa7ee09\n",
      "Function:  _get_model_attr\n",
      "args:      (KMeansMG(), '_ipython_canary_method_should_not_exist_')\n",
      "kwargs:    {}\n",
      "Exception: 'AttributeError(\"Attribute _ipython_canary_method_should_not_exist_ does not exist on model <class \\'cuml.cluster.kmeans_mg.KMeansMG\\'>\")'\n",
      "\n",
      "2022-08-15 11:20:39,972 - distributed.worker - WARNING - Compute Failed\n",
      "Key:       _get_model_attr-8b2fd3ca-1c5f-431b-92b8-06e98271a74e\n",
      "Function:  _get_model_attr\n",
      "args:      (KMeansMG(), '_repr_json_')\n",
      "kwargs:    {}\n",
      "Exception: 'AttributeError(\"Attribute _repr_json_ does not exist on model <class \\'cuml.cluster.kmeans_mg.KMeansMG\\'>\")'\n",
      "\n",
      "2022-08-15 11:20:39,993 - distributed.worker - WARNING - Compute Failed\n",
      "Key:       _get_model_attr-65d0b8a9-db3a-44a6-86b9-7ad13df21f8d\n",
      "Function:  _get_model_attr\n",
      "args:      (KMeansMG(), '_ipython_canary_method_should_not_exist_')\n",
      "kwargs:    {}\n",
      "Exception: 'AttributeError(\"Attribute _ipython_canary_method_should_not_exist_ does not exist on model <class \\'cuml.cluster.kmeans_mg.KMeansMG\\'>\")'\n",
      "\n",
      "2022-08-15 11:20:40,014 - distributed.worker - WARNING - Compute Failed\n",
      "Key:       _get_model_attr-862bf202-2d19-4da7-bb99-6d3d297727a6\n",
      "Function:  _get_model_attr\n",
      "args:      (KMeansMG(), '_repr_javascript_')\n",
      "kwargs:    {}\n",
      "Exception: 'AttributeError(\"Attribute _repr_javascript_ does not exist on model <class \\'cuml.cluster.kmeans_mg.KMeansMG\\'>\")'\n",
      "\n"
     ]
    },
    {
     "data": {
      "text/plain": [
       "<cuml.dask.cluster.kmeans.KMeans at 0x7f6e53261ee0>"
      ]
     },
     "execution_count": 10,
     "metadata": {},
     "output_type": "execute_result"
    }
   ],
   "source": [
    "dist_model.fit(X)"
   ]
  },
  {
   "cell_type": "code",
   "execution_count": 11,
   "metadata": {
    "execution": {
     "iopub.execute_input": "2022-08-15T11:20:40.034551Z",
     "iopub.status.busy": "2022-08-15T11:20:40.033963Z",
     "iopub.status.idle": "2022-08-15T11:20:40.060153Z",
     "shell.execute_reply": "2022-08-15T11:20:40.058445Z"
    }
   },
   "outputs": [],
   "source": [
    "import pickle\n",
    "\n",
    "single_gpu_model = dist_model.get_combined_model()\n",
    "pickle.dump(single_gpu_model, open(\"kmeans_model.pkl\", \"wb\"))"
   ]
  },
  {
   "cell_type": "code",
   "execution_count": 12,
   "metadata": {
    "execution": {
     "iopub.execute_input": "2022-08-15T11:20:40.067137Z",
     "iopub.status.busy": "2022-08-15T11:20:40.066403Z",
     "iopub.status.idle": "2022-08-15T11:20:40.074762Z",
     "shell.execute_reply": "2022-08-15T11:20:40.073358Z"
    }
   },
   "outputs": [],
   "source": [
    "single_gpu_model = pickle.load(open(\"kmeans_model.pkl\", \"rb\"))"
   ]
  },
  {
   "cell_type": "code",
   "execution_count": 13,
   "metadata": {
    "execution": {
     "iopub.execute_input": "2022-08-15T11:20:40.080078Z",
     "iopub.status.busy": "2022-08-15T11:20:40.079641Z",
     "iopub.status.idle": "2022-08-15T11:20:40.096117Z",
     "shell.execute_reply": "2022-08-15T11:20:40.094560Z"
    }
   },
   "outputs": [
    {
     "data": {
      "text/plain": [
       "array([[-4.6475396e+00, -9.5672169e+00,  6.6923513e+00,  4.4359241e+00,\n",
       "         2.1902738e+00,  2.5834754e+00,  5.9448928e-01,  6.2568665e+00,\n",
       "        -8.7821636e+00, -4.1232011e-01,  9.8151779e+00,  7.5641570e+00,\n",
       "         1.0003009e+01, -5.8680429e+00, -1.2743107e+00, -2.5393455e+00,\n",
       "        -1.0847498e+00, -5.2629204e+00, -9.3071022e+00,  4.6179361e+00,\n",
       "        -9.7068965e-02, -3.9351206e+00,  6.1767278e+00, -7.4346881e+00,\n",
       "         5.6496077e+00, -8.5544853e+00, -7.5265584e+00, -5.5195608e+00,\n",
       "         4.8197637e+00,  2.5235438e+00],\n",
       "       [ 6.2794294e+00,  9.2293949e+00,  8.3403702e+00,  9.0330496e+00,\n",
       "         7.6893492e+00, -9.9538219e-01, -6.2780762e+00,  1.3599335e+00,\n",
       "        -6.9744487e+00, -5.9463463e+00,  1.0695117e+00, -8.0422461e-03,\n",
       "         2.8183143e+00,  1.8317668e+00, -8.2557354e+00,  3.0514319e+00,\n",
       "        -8.4958029e+00,  9.7238483e+00, -7.7455091e+00,  3.4521692e+00,\n",
       "        -3.9248335e+00, -4.1106420e+00,  2.6693091e+00,  1.2985628e+00,\n",
       "         1.0421574e+00,  5.2490621e+00, -1.6496238e+00,  6.1451659e+00,\n",
       "        -6.9103327e+00, -9.6390305e+00],\n",
       "       [-2.8796384e+00,  4.4348760e+00, -4.4264808e+00,  2.3959138e+00,\n",
       "         1.7286437e+00, -2.4991984e+00, -5.1794519e+00, -1.6771443e+00,\n",
       "        -8.1329174e+00,  2.6659229e+00, -4.3131099e+00,  5.5827813e+00,\n",
       "        -5.7318311e+00, -1.7427169e+00, -9.3456125e+00,  7.1365565e-01,\n",
       "         4.4255495e+00, -2.9118378e+00, -4.9467440e+00,  9.6786413e+00,\n",
       "         8.4222746e+00, -6.2710247e+00, -6.3596501e+00,  1.9645509e+00,\n",
       "         4.1715999e+00, -9.1683645e+00,  4.6156683e+00,  8.7916508e+00,\n",
       "         6.8754416e+00,  2.2288747e+00],\n",
       "       [-6.9536948e+00, -9.7635870e+00, -6.5648260e+00, -4.3536147e-01,\n",
       "         6.0998111e+00,  3.7550371e+00, -3.9558537e+00,  6.1595516e+00,\n",
       "        -1.8599317e+00,  5.0400310e+00, -6.8397541e+00,  1.3435432e+00,\n",
       "         8.9749022e+00, -9.9621767e-01,  9.6651945e+00,  9.8009644e+00,\n",
       "        -8.6188345e+00,  5.9978366e+00,  2.2295933e+00, -3.6477711e+00,\n",
       "         7.0758510e+00, -7.3772259e+00, -5.3214226e+00, -6.9927959e+00,\n",
       "        -7.9296327e+00,  6.6705360e+00, -5.5850177e+00,  7.1526046e+00,\n",
       "         6.5703211e+00, -8.3389397e+00],\n",
       "       [ 4.8136683e+00,  8.3985281e+00, -9.2161245e+00,  9.4185534e+00,\n",
       "         8.5280876e+00, -1.0969982e+00,  3.3253179e+00, -7.8064375e+00,\n",
       "        -5.9660637e-01,  2.5423867e-01,  5.5004096e+00, -4.1162968e+00,\n",
       "         4.2832379e+00, -2.8173411e+00,  3.6207724e+00, -4.1576219e+00,\n",
       "        -3.6048706e+00,  6.2125406e+00, -6.9080992e+00, -1.0732133e+00,\n",
       "        -5.8362122e+00,  2.2357669e+00, -3.8588791e+00, -1.6835878e+00,\n",
       "        -5.3240366e+00,  7.5769200e+00,  2.9358525e+00,  8.5267363e+00,\n",
       "         1.5667248e+00,  1.0779674e+00]], dtype=float32)"
      ]
     },
     "execution_count": 13,
     "metadata": {},
     "output_type": "execute_result"
    }
   ],
   "source": [
    "single_gpu_model.cluster_centers_"
   ]
  },
  {
   "cell_type": "markdown",
   "metadata": {},
   "source": [
    "## Exporting cuML Random Forest models for inferencing on machines without GPUs"
   ]
  },
  {
   "cell_type": "markdown",
   "metadata": {},
   "source": [
    "Starting with cuML version 21.06, you can export cuML Random Forest models and run predictions with them on machines without an NVIDIA GPUs. The [Treelite](https://github.com/dmlc/treelite) package defines an efficient exchange format that lets you portably move the cuML Random Forest models to other machines. We will refer to the exchange format as \"checkpoints.\"\n",
    "\n",
    "Here are the steps to export the model:\n",
    "\n",
    "1. Call `to_treelite_checkpoint()` to obtain the checkpoint file from the cuML Random Forest model."
   ]
  },
  {
   "cell_type": "code",
   "execution_count": 14,
   "metadata": {
    "execution": {
     "iopub.execute_input": "2022-08-15T11:20:40.102022Z",
     "iopub.status.busy": "2022-08-15T11:20:40.101623Z",
     "iopub.status.idle": "2022-08-15T11:20:40.224913Z",
     "shell.execute_reply": "2022-08-15T11:20:40.223937Z"
    }
   },
   "outputs": [
    {
     "name": "stderr",
     "output_type": "stream",
     "text": [
      "/opt/conda/envs/rapids/lib/python3.9/site-packages/cuml/internals/api_decorators.py:794: UserWarning: For reproducible results in Random Forest Classifier or for almost reproducible results in Random Forest Regressor, n_streams=1 is recommended. If n_streams is > 1, results may vary due to stream/thread timing differences, even when random_state is set\n",
      "  return func(**kwargs)\n"
     ]
    }
   ],
   "source": [
    "from cuml.ensemble import RandomForestClassifier as cumlRandomForestClassifier\n",
    "from sklearn.datasets import load_iris\n",
    "import numpy as np\n",
    "\n",
    "X, y = load_iris(return_X_y=True)\n",
    "X, y = X.astype(np.float32), y.astype(np.int32)\n",
    "clf = cumlRandomForestClassifier(max_depth=3, random_state=0, n_estimators=10)\n",
    "clf.fit(X, y)\n",
    "\n",
    "checkpoint_path = './checkpoint.tl'\n",
    "# Export cuML RF model as Treelite checkpoint\n",
    "clf.convert_to_treelite_model().to_treelite_checkpoint(checkpoint_path)"
   ]
  },
  {
   "cell_type": "markdown",
   "metadata": {},
   "source": [
    "2. Copy the generated checkpoint file `checkpoint.tl` to another machine on which you'd like to run predictions.\n",
    "\n",
    "3. On the target machine, install Treelite by running `pip install treelite` or `conda install -c conda-forge treelite`. The machine does not need to have an NVIDIA GPUs and does not need to have cuML installed.\n",
    "\n",
    "4. You can now load the model from the checkpoint, by running the following on the target machine:"
   ]
  },
  {
   "cell_type": "code",
   "execution_count": 15,
   "metadata": {
    "execution": {
     "iopub.execute_input": "2022-08-15T11:20:40.229358Z",
     "iopub.status.busy": "2022-08-15T11:20:40.228900Z",
     "iopub.status.idle": "2022-08-15T11:20:40.248943Z",
     "shell.execute_reply": "2022-08-15T11:20:40.247678Z"
    }
   },
   "outputs": [
    {
     "name": "stdout",
     "output_type": "stream",
     "text": [
      "[[1.         0.         0.        ]\n",
      " [1.         0.         0.        ]\n",
      " [1.         0.         0.        ]\n",
      " [1.         0.         0.        ]\n",
      " [1.         0.         0.        ]\n",
      " [1.         0.         0.        ]\n",
      " [1.         0.         0.        ]\n",
      " [1.         0.         0.        ]\n",
      " [1.         0.         0.        ]\n",
      " [1.         0.         0.        ]\n",
      " [1.         0.         0.        ]\n",
      " [1.         0.         0.        ]\n",
      " [1.         0.         0.        ]\n",
      " [1.         0.         0.        ]\n",
      " [0.90789473 0.09210526 0.        ]\n",
      " [0.90789473 0.09210526 0.        ]\n",
      " [1.         0.         0.        ]\n",
      " [1.         0.         0.        ]\n",
      " [0.90789473 0.09210526 0.        ]\n",
      " [1.         0.         0.        ]\n",
      " [1.         0.         0.        ]\n",
      " [1.         0.         0.        ]\n",
      " [1.         0.         0.        ]\n",
      " [1.         0.         0.        ]\n",
      " [1.         0.         0.        ]\n",
      " [1.         0.         0.        ]\n",
      " [1.         0.         0.        ]\n",
      " [1.         0.         0.        ]\n",
      " [1.         0.         0.        ]\n",
      " [1.         0.         0.        ]\n",
      " [1.         0.         0.        ]\n",
      " [1.         0.         0.        ]\n",
      " [1.         0.         0.        ]\n",
      " [1.         0.         0.        ]\n",
      " [1.         0.         0.        ]\n",
      " [1.         0.         0.        ]\n",
      " [1.         0.         0.        ]\n",
      " [1.         0.         0.        ]\n",
      " [1.         0.         0.        ]\n",
      " [1.         0.         0.        ]\n",
      " [1.         0.         0.        ]\n",
      " [1.         0.         0.        ]\n",
      " [1.         0.         0.        ]\n",
      " [1.         0.         0.        ]\n",
      " [1.         0.         0.        ]\n",
      " [1.         0.         0.        ]\n",
      " [1.         0.         0.        ]\n",
      " [1.         0.         0.        ]\n",
      " [1.         0.         0.        ]\n",
      " [1.         0.         0.        ]\n",
      " [0.00789474 0.96374357 0.02836171]\n",
      " [0.00789474 0.96374357 0.02836171]\n",
      " [0.00789474 0.7819892  0.2101161 ]\n",
      " [0.         0.99018145 0.00981859]\n",
      " [0.00789474 0.96374357 0.02836171]\n",
      " [0.00789474 0.975835   0.01627021]\n",
      " [0.00789474 0.96374357 0.02836171]\n",
      " [0.         0.8568481  0.14315192]\n",
      " [0.00789474 0.96374357 0.02836171]\n",
      " [0.         0.99018145 0.00981859]\n",
      " [0.         0.99018145 0.00981859]\n",
      " [0.00789474 0.975835   0.01627021]\n",
      " [0.00789474 0.975835   0.01627021]\n",
      " [0.00789474 0.975835   0.01627021]\n",
      " [0.10789473 0.88228667 0.00981859]\n",
      " [0.00789474 0.96374357 0.02836171]\n",
      " [0.00789474 0.98228663 0.00981859]\n",
      " [0.00789474 0.975835   0.01627021]\n",
      " [0.00789474 0.975835   0.01627021]\n",
      " [0.10789473 0.88228667 0.00981859]\n",
      " [0.         0.25154537 0.7484547 ]\n",
      " [0.00789474 0.975835   0.01627021]\n",
      " [0.00789474 0.7819892  0.2101161 ]\n",
      " [0.00789474 0.975835   0.01627021]\n",
      " [0.00789474 0.96374357 0.02836171]\n",
      " [0.00789474 0.96374357 0.02836171]\n",
      " [0.00789474 0.79310024 0.199005  ]\n",
      " [0.         0.451291   0.54870903]\n",
      " [0.00789474 0.975835   0.01627021]\n",
      " [0.10789473 0.87583506 0.01627021]\n",
      " [0.         0.99018145 0.00981859]\n",
      " [0.         0.99018145 0.00981859]\n",
      " [0.10789473 0.87583506 0.01627021]\n",
      " [0.         0.18708128 0.8129188 ]\n",
      " [0.         0.99018145 0.00981859]\n",
      " [0.00789474 0.975835   0.01627021]\n",
      " [0.00789474 0.96374357 0.02836171]\n",
      " [0.00789474 0.96374357 0.02836171]\n",
      " [0.00789474 0.98228663 0.00981859]\n",
      " [0.         0.99018145 0.00981859]\n",
      " [0.         0.99018145 0.00981859]\n",
      " [0.00789474 0.975835   0.01627021]\n",
      " [0.00789474 0.975835   0.01627021]\n",
      " [0.         0.99018145 0.00981859]\n",
      " [0.00789474 0.98228663 0.00981859]\n",
      " [0.00789474 0.975835   0.01627021]\n",
      " [0.00789474 0.975835   0.01627021]\n",
      " [0.00789474 0.975835   0.01627021]\n",
      " [0.         0.99018145 0.00981859]\n",
      " [0.00789474 0.975835   0.01627021]\n",
      " [0.         0.01258634 0.9874137 ]\n",
      " [0.         0.0481924  0.9518076 ]\n",
      " [0.         0.01258634 0.9874137 ]\n",
      " [0.         0.01258634 0.9874137 ]\n",
      " [0.         0.01258634 0.9874137 ]\n",
      " [0.         0.01258634 0.9874137 ]\n",
      " [0.         0.6901814  0.3098186 ]\n",
      " [0.         0.01258634 0.9874137 ]\n",
      " [0.         0.01258634 0.9874137 ]\n",
      " [0.         0.01258634 0.9874137 ]\n",
      " [0.         0.01258634 0.9874137 ]\n",
      " [0.         0.01258634 0.9874137 ]\n",
      " [0.         0.01258634 0.9874137 ]\n",
      " [0.         0.15504913 0.84495085]\n",
      " [0.         0.0481924  0.9518076 ]\n",
      " [0.         0.01258634 0.9874137 ]\n",
      " [0.         0.01258634 0.9874137 ]\n",
      " [0.         0.01258634 0.9874137 ]\n",
      " [0.         0.01258634 0.9874137 ]\n",
      " [0.         0.40701494 0.59298503]\n",
      " [0.         0.01258634 0.9874137 ]\n",
      " [0.         0.14688587 0.8531141 ]\n",
      " [0.         0.01258634 0.9874137 ]\n",
      " [0.         0.28718114 0.71281886]\n",
      " [0.         0.01258634 0.9874137 ]\n",
      " [0.         0.01258634 0.9874137 ]\n",
      " [0.         0.22427265 0.7757274 ]\n",
      " [0.         0.21316154 0.7868384 ]\n",
      " [0.         0.01258634 0.9874137 ]\n",
      " [0.         0.17874795 0.82125205]\n",
      " [0.         0.01258634 0.9874137 ]\n",
      " [0.         0.01258634 0.9874137 ]\n",
      " [0.         0.01258634 0.9874137 ]\n",
      " [0.         0.21682489 0.7831751 ]\n",
      " [0.         0.22515821 0.77484185]\n",
      " [0.         0.01258634 0.9874137 ]\n",
      " [0.         0.01258634 0.9874137 ]\n",
      " [0.         0.01258634 0.9874137 ]\n",
      " [0.         0.22427265 0.7757274 ]\n",
      " [0.         0.01258634 0.9874137 ]\n",
      " [0.         0.01258634 0.9874137 ]\n",
      " [0.         0.01258634 0.9874137 ]\n",
      " [0.         0.0481924  0.9518076 ]\n",
      " [0.         0.01258634 0.9874137 ]\n",
      " [0.         0.01258634 0.9874137 ]\n",
      " [0.         0.01258634 0.9874137 ]\n",
      " [0.         0.20179601 0.798204  ]\n",
      " [0.         0.01258634 0.9874137 ]\n",
      " [0.         0.02091968 0.9790803 ]\n",
      " [0.         0.0481924  0.9518076 ]]\n"
     ]
    }
   ],
   "source": [
    "import treelite\n",
    "\n",
    "# The checkpoint file has been copied over\n",
    "checkpoint_path = './checkpoint.tl'\n",
    "tl_model = treelite.Model.deserialize(checkpoint_path)\n",
    "out_prob = treelite.gtil.predict(tl_model, X, pred_margin=True)\n",
    "print(out_prob)"
   ]
  }
 ],
 "metadata": {
  "kernelspec": {
   "display_name": "Python 3",
   "language": "python",
   "name": "python3"
  },
  "language_info": {
   "codemirror_mode": {
    "name": "ipython",
    "version": 3
   },
   "file_extension": ".py",
   "mimetype": "text/x-python",
   "name": "python",
   "nbconvert_exporter": "python",
   "pygments_lexer": "ipython3",
   "version": "3.9.13"
  }
 },
 "nbformat": 4,
 "nbformat_minor": 4
}
