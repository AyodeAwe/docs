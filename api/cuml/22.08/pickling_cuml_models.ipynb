{
 "cells": [
  {
   "cell_type": "markdown",
   "metadata": {},
   "source": [
    "# Pickling cuML Models for Persistence\n",
    "\n",
    "This notebook demonstrates simple pickling of both single-GPU and multi-GPU cuML models for persistence"
   ]
  },
  {
   "cell_type": "code",
   "execution_count": 1,
   "metadata": {
    "execution": {
     "iopub.execute_input": "2022-08-16T11:28:21.691431Z",
     "iopub.status.busy": "2022-08-16T11:28:21.690809Z",
     "iopub.status.idle": "2022-08-16T11:28:21.707360Z",
     "shell.execute_reply": "2022-08-16T11:28:21.706639Z"
    }
   },
   "outputs": [],
   "source": [
    "import warnings\n",
    "warnings.filterwarnings(\"ignore\", category=FutureWarning)"
   ]
  },
  {
   "cell_type": "markdown",
   "metadata": {},
   "source": [
    "## Single GPU Model Pickling\n",
    "\n",
    "All single-GPU estimators are pickleable. The following example demonstrates the creation of a synthetic dataset, training, and pickling of the resulting model for storage. Trained single-GPU models can also be used to distribute the inference on a Dask cluster, which the `Distributed Model Pickling` section below demonstrates."
   ]
  },
  {
   "cell_type": "code",
   "execution_count": 2,
   "metadata": {
    "execution": {
     "iopub.execute_input": "2022-08-16T11:28:21.712335Z",
     "iopub.status.busy": "2022-08-16T11:28:21.712048Z",
     "iopub.status.idle": "2022-08-16T11:28:28.485084Z",
     "shell.execute_reply": "2022-08-16T11:28:28.484094Z"
    }
   },
   "outputs": [],
   "source": [
    "from cuml.datasets import make_blobs\n",
    "\n",
    "X, y = make_blobs(n_samples=50,\n",
    "                  n_features=10,\n",
    "                  centers=5,\n",
    "                  cluster_std=0.4,\n",
    "                  random_state=0)"
   ]
  },
  {
   "cell_type": "code",
   "execution_count": 3,
   "metadata": {
    "execution": {
     "iopub.execute_input": "2022-08-16T11:28:28.491465Z",
     "iopub.status.busy": "2022-08-16T11:28:28.491162Z",
     "iopub.status.idle": "2022-08-16T11:28:28.765843Z",
     "shell.execute_reply": "2022-08-16T11:28:28.764924Z"
    }
   },
   "outputs": [
    {
     "data": {
      "text/plain": [
       "KMeans()"
      ]
     },
     "execution_count": 3,
     "metadata": {},
     "output_type": "execute_result"
    }
   ],
   "source": [
    "from cuml.cluster import KMeans\n",
    "\n",
    "model = KMeans(n_clusters=5)\n",
    "\n",
    "model.fit(X)"
   ]
  },
  {
   "cell_type": "code",
   "execution_count": 4,
   "metadata": {
    "execution": {
     "iopub.execute_input": "2022-08-16T11:28:28.772092Z",
     "iopub.status.busy": "2022-08-16T11:28:28.771815Z",
     "iopub.status.idle": "2022-08-16T11:28:28.776894Z",
     "shell.execute_reply": "2022-08-16T11:28:28.776193Z"
    }
   },
   "outputs": [],
   "source": [
    "import pickle\n",
    "\n",
    "pickle.dump(model, open(\"kmeans_model.pkl\", \"wb\"))"
   ]
  },
  {
   "cell_type": "code",
   "execution_count": 5,
   "metadata": {
    "execution": {
     "iopub.execute_input": "2022-08-16T11:28:28.780890Z",
     "iopub.status.busy": "2022-08-16T11:28:28.780621Z",
     "iopub.status.idle": "2022-08-16T11:28:28.785646Z",
     "shell.execute_reply": "2022-08-16T11:28:28.784899Z"
    }
   },
   "outputs": [],
   "source": [
    "model = pickle.load(open(\"kmeans_model.pkl\", \"rb\"))"
   ]
  },
  {
   "cell_type": "code",
   "execution_count": 6,
   "metadata": {
    "execution": {
     "iopub.execute_input": "2022-08-16T11:28:28.789740Z",
     "iopub.status.busy": "2022-08-16T11:28:28.789311Z",
     "iopub.status.idle": "2022-08-16T11:28:28.795840Z",
     "shell.execute_reply": "2022-08-16T11:28:28.795175Z"
    }
   },
   "outputs": [
    {
     "data": {
      "text/plain": [
       "array([[ 4.674985 ,  8.213465 , -9.075721 ,  9.568374 ,  8.454807 ,\n",
       "        -1.2327974,  3.3903713, -7.828242 , -0.8454461,  0.6288572],\n",
       "       [-4.2439985,  5.6107073, -5.669777 , -1.7957243, -9.255529 ,\n",
       "         0.7177438,  4.4435906, -2.8747156, -5.0900965,  9.684121 ],\n",
       "       [ 5.2615476, -4.0487256,  4.464928 , -2.9367518,  3.5061095,\n",
       "        -4.0168314, -3.463885 ,  6.0784483, -6.953326 , -1.004144 ],\n",
       "       [-3.0082612,  4.6259604, -4.483249 ,  2.228457 ,  1.643532 ,\n",
       "        -2.4505193, -5.258201 , -1.6679404, -7.9857535,  2.8311472],\n",
       "       [-5.60724  ,  2.2695985, -3.7516537, -1.8182003, -5.1430273,\n",
       "         7.599364 ,  2.8252368,  8.773042 ,  1.6198314,  1.1772048]],\n",
       "      dtype=float32)"
      ]
     },
     "execution_count": 6,
     "metadata": {},
     "output_type": "execute_result"
    }
   ],
   "source": [
    "model.cluster_centers_"
   ]
  },
  {
   "cell_type": "markdown",
   "metadata": {},
   "source": [
    "## Distributed Model Pickling"
   ]
  },
  {
   "cell_type": "markdown",
   "metadata": {},
   "source": [
    "The distributed estimator wrappers inside of the `cuml.dask` are not intended to be pickled directly. The Dask cuML estimators provide a function `get_combined_model()`, which returns the trained single-GPU model for pickling. The combined model can be used for inference on a single-GPU, and the `ParallelPostFit` wrapper from the [Dask-ML](https://ml.dask.org/meta-estimators.html) library can be used to perform distributed inference on a Dask cluster."
   ]
  },
  {
   "cell_type": "code",
   "execution_count": 7,
   "metadata": {
    "execution": {
     "iopub.execute_input": "2022-08-16T11:28:28.799973Z",
     "iopub.status.busy": "2022-08-16T11:28:28.799699Z",
     "iopub.status.idle": "2022-08-16T11:28:32.668627Z",
     "shell.execute_reply": "2022-08-16T11:28:32.667066Z"
    }
   },
   "outputs": [
    {
     "name": "stderr",
     "output_type": "stream",
     "text": [
      "2022-08-16 11:28:32,116 - distributed.preloading - INFO - Creating preload: dask_cuda.initialize\n",
      "2022-08-16 11:28:32,116 - distributed.preloading - INFO - Import preload module: dask_cuda.initialize\n"
     ]
    },
    {
     "data": {
      "text/html": [
       "<div>\n",
       "    <div style=\"width: 24px; height: 24px; background-color: #e1e1e1; border: 3px solid #9D9D9D; border-radius: 5px; position: absolute;\"> </div>\n",
       "    <div style=\"margin-left: 48px;\">\n",
       "        <h3 style=\"margin-bottom: 0px;\">Client</h3>\n",
       "        <p style=\"color: #9D9D9D; margin-bottom: 0px;\">Client-8f3c2fb1-1d56-11ed-9033-0242ac110008</p>\n",
       "        <table style=\"width: 100%; text-align: left;\">\n",
       "\n",
       "        <tr>\n",
       "        \n",
       "            <td style=\"text-align: left;\"><strong>Connection method:</strong> Cluster object</td>\n",
       "            <td style=\"text-align: left;\"><strong>Cluster type:</strong> dask_cuda.LocalCUDACluster</td>\n",
       "        \n",
       "        </tr>\n",
       "\n",
       "        \n",
       "            <tr>\n",
       "                <td style=\"text-align: left;\">\n",
       "                    <strong>Dashboard: </strong> <a href=\"http://127.0.0.1:8787/status\" target=\"_blank\">http://127.0.0.1:8787/status</a>\n",
       "                </td>\n",
       "                <td style=\"text-align: left;\"></td>\n",
       "            </tr>\n",
       "        \n",
       "\n",
       "        </table>\n",
       "\n",
       "        \n",
       "            <details>\n",
       "            <summary style=\"margin-bottom: 20px;\"><h3 style=\"display: inline;\">Cluster Info</h3></summary>\n",
       "            <div class=\"jp-RenderedHTMLCommon jp-RenderedHTML jp-mod-trusted jp-OutputArea-output\">\n",
       "    <div style=\"width: 24px; height: 24px; background-color: #e1e1e1; border: 3px solid #9D9D9D; border-radius: 5px; position: absolute;\">\n",
       "    </div>\n",
       "    <div style=\"margin-left: 48px;\">\n",
       "        <h3 style=\"margin-bottom: 0px; margin-top: 0px;\">LocalCUDACluster</h3>\n",
       "        <p style=\"color: #9D9D9D; margin-bottom: 0px;\">1af4c3ca</p>\n",
       "        <table style=\"width: 100%; text-align: left;\">\n",
       "            <tr>\n",
       "                <td style=\"text-align: left;\">\n",
       "                    <strong>Dashboard:</strong> <a href=\"http://127.0.0.1:8787/status\" target=\"_blank\">http://127.0.0.1:8787/status</a>\n",
       "                </td>\n",
       "                <td style=\"text-align: left;\">\n",
       "                    <strong>Workers:</strong> 1\n",
       "                </td>\n",
       "            </tr>\n",
       "            <tr>\n",
       "                <td style=\"text-align: left;\">\n",
       "                    <strong>Total threads:</strong> 1\n",
       "                </td>\n",
       "                <td style=\"text-align: left;\">\n",
       "                    <strong>Total memory:</strong> 251.79 GiB\n",
       "                </td>\n",
       "            </tr>\n",
       "            \n",
       "            <tr>\n",
       "    <td style=\"text-align: left;\"><strong>Status:</strong> running</td>\n",
       "    <td style=\"text-align: left;\"><strong>Using processes:</strong> True</td>\n",
       "</tr>\n",
       "\n",
       "            \n",
       "        </table>\n",
       "\n",
       "        <details>\n",
       "            <summary style=\"margin-bottom: 20px;\">\n",
       "                <h3 style=\"display: inline;\">Scheduler Info</h3>\n",
       "            </summary>\n",
       "\n",
       "            <div style=\"\">\n",
       "    <div>\n",
       "        <div style=\"width: 24px; height: 24px; background-color: #FFF7E5; border: 3px solid #FF6132; border-radius: 5px; position: absolute;\"> </div>\n",
       "        <div style=\"margin-left: 48px;\">\n",
       "            <h3 style=\"margin-bottom: 0px;\">Scheduler</h3>\n",
       "            <p style=\"color: #9D9D9D; margin-bottom: 0px;\">Scheduler-fcaa344d-6b69-4fc5-9f2a-4b164cb87692</p>\n",
       "            <table style=\"width: 100%; text-align: left;\">\n",
       "                <tr>\n",
       "                    <td style=\"text-align: left;\">\n",
       "                        <strong>Comm:</strong> tcp://127.0.0.1:35469\n",
       "                    </td>\n",
       "                    <td style=\"text-align: left;\">\n",
       "                        <strong>Workers:</strong> 1\n",
       "                    </td>\n",
       "                </tr>\n",
       "                <tr>\n",
       "                    <td style=\"text-align: left;\">\n",
       "                        <strong>Dashboard:</strong> <a href=\"http://127.0.0.1:8787/status\" target=\"_blank\">http://127.0.0.1:8787/status</a>\n",
       "                    </td>\n",
       "                    <td style=\"text-align: left;\">\n",
       "                        <strong>Total threads:</strong> 1\n",
       "                    </td>\n",
       "                </tr>\n",
       "                <tr>\n",
       "                    <td style=\"text-align: left;\">\n",
       "                        <strong>Started:</strong> Just now\n",
       "                    </td>\n",
       "                    <td style=\"text-align: left;\">\n",
       "                        <strong>Total memory:</strong> 251.79 GiB\n",
       "                    </td>\n",
       "                </tr>\n",
       "            </table>\n",
       "        </div>\n",
       "    </div>\n",
       "\n",
       "    <details style=\"margin-left: 48px;\">\n",
       "        <summary style=\"margin-bottom: 20px;\">\n",
       "            <h3 style=\"display: inline;\">Workers</h3>\n",
       "        </summary>\n",
       "\n",
       "        \n",
       "        <div style=\"margin-bottom: 20px;\">\n",
       "            <div style=\"width: 24px; height: 24px; background-color: #DBF5FF; border: 3px solid #4CC9FF; border-radius: 5px; position: absolute;\"> </div>\n",
       "            <div style=\"margin-left: 48px;\">\n",
       "            <details>\n",
       "                <summary>\n",
       "                    <h4 style=\"margin-bottom: 0px; display: inline;\">Worker: 0</h4>\n",
       "                </summary>\n",
       "                <table style=\"width: 100%; text-align: left;\">\n",
       "                    <tr>\n",
       "                        <td style=\"text-align: left;\">\n",
       "                            <strong>Comm: </strong> tcp://127.0.0.1:44839\n",
       "                        </td>\n",
       "                        <td style=\"text-align: left;\">\n",
       "                            <strong>Total threads: </strong> 1\n",
       "                        </td>\n",
       "                    </tr>\n",
       "                    <tr>\n",
       "                        <td style=\"text-align: left;\">\n",
       "                            <strong>Dashboard: </strong> <a href=\"http://127.0.0.1:33179/status\" target=\"_blank\">http://127.0.0.1:33179/status</a>\n",
       "                        </td>\n",
       "                        <td style=\"text-align: left;\">\n",
       "                            <strong>Memory: </strong> 251.79 GiB\n",
       "                        </td>\n",
       "                    </tr>\n",
       "                    <tr>\n",
       "                        <td style=\"text-align: left;\">\n",
       "                            <strong>Nanny: </strong> tcp://127.0.0.1:38117\n",
       "                        </td>\n",
       "                        <td style=\"text-align: left;\"></td>\n",
       "                    </tr>\n",
       "                    <tr>\n",
       "                        <td colspan=\"2\" style=\"text-align: left;\">\n",
       "                            <strong>Local directory: </strong> /tmp/dask-worker-space/worker-4q9vbzyp\n",
       "                        </td>\n",
       "                    </tr>\n",
       "\n",
       "                    \n",
       "                    <tr>\n",
       "                        <td style=\"text-align: left;\">\n",
       "                            <strong>GPU: </strong>Tesla V100-PCIE-32GB\n",
       "                        </td>\n",
       "                        <td style=\"text-align: left;\">\n",
       "                            <strong>GPU memory: </strong> 31.75 GiB\n",
       "                        </td>\n",
       "                    </tr>\n",
       "                    \n",
       "\n",
       "                    \n",
       "\n",
       "                </table>\n",
       "            </details>\n",
       "            </div>\n",
       "        </div>\n",
       "        \n",
       "\n",
       "    </details>\n",
       "</div>\n",
       "\n",
       "        </details>\n",
       "    </div>\n",
       "</div>\n",
       "            </details>\n",
       "        \n",
       "\n",
       "    </div>\n",
       "</div>"
      ],
      "text/plain": [
       "<Client: 'tcp://127.0.0.1:35469' processes=1 threads=1, memory=251.79 GiB>"
      ]
     },
     "execution_count": 7,
     "metadata": {},
     "output_type": "execute_result"
    }
   ],
   "source": [
    "from dask.distributed import Client\n",
    "from dask_cuda import LocalCUDACluster\n",
    "\n",
    "cluster = LocalCUDACluster()\n",
    "client = Client(cluster)\n",
    "client"
   ]
  },
  {
   "cell_type": "code",
   "execution_count": 8,
   "metadata": {
    "execution": {
     "iopub.execute_input": "2022-08-16T11:28:32.675263Z",
     "iopub.status.busy": "2022-08-16T11:28:32.674710Z",
     "iopub.status.idle": "2022-08-16T11:28:33.631106Z",
     "shell.execute_reply": "2022-08-16T11:28:33.629478Z"
    }
   },
   "outputs": [],
   "source": [
    "from cuml.dask.datasets import make_blobs\n",
    "\n",
    "n_workers = len(client.scheduler_info()[\"workers\"].keys())\n",
    "\n",
    "X, y = make_blobs(n_samples=5000, \n",
    "                  n_features=30,\n",
    "                  centers=5, \n",
    "                  cluster_std=0.4, \n",
    "                  random_state=0,\n",
    "                  n_parts=n_workers*5)\n",
    "\n",
    "X = X.persist()\n",
    "y = y.persist()"
   ]
  },
  {
   "cell_type": "code",
   "execution_count": 9,
   "metadata": {
    "execution": {
     "iopub.execute_input": "2022-08-16T11:28:33.637423Z",
     "iopub.status.busy": "2022-08-16T11:28:33.637021Z",
     "iopub.status.idle": "2022-08-16T11:28:33.647711Z",
     "shell.execute_reply": "2022-08-16T11:28:33.646281Z"
    }
   },
   "outputs": [],
   "source": [
    "from cuml.dask.cluster import KMeans\n",
    "\n",
    "dist_model = KMeans(n_clusters=5)"
   ]
  },
  {
   "cell_type": "code",
   "execution_count": 10,
   "metadata": {
    "execution": {
     "iopub.execute_input": "2022-08-16T11:28:33.664579Z",
     "iopub.status.busy": "2022-08-16T11:28:33.663679Z",
     "iopub.status.idle": "2022-08-16T11:28:39.970524Z",
     "shell.execute_reply": "2022-08-16T11:28:39.969073Z"
    }
   },
   "outputs": [
    {
     "name": "stderr",
     "output_type": "stream",
     "text": [
      "2022-08-16 11:28:39,653 - distributed.worker - WARNING - Compute Failed\n",
      "Key:       _get_model_attr-22208759-03ec-4860-a253-c03ac411cc32\n",
      "Function:  _get_model_attr\n",
      "args:      (KMeansMG(), '_ipython_canary_method_should_not_exist_')\n",
      "kwargs:    {}\n",
      "Exception: 'AttributeError(\"Attribute _ipython_canary_method_should_not_exist_ does not exist on model <class \\'cuml.cluster.kmeans_mg.KMeansMG\\'>\")'\n",
      "\n",
      "2022-08-16 11:28:39,675 - distributed.worker - WARNING - Compute Failed\n",
      "Key:       _get_model_attr-9fcb113e-def8-4471-8d00-afca794a5168\n",
      "Function:  _get_model_attr\n",
      "args:      (KMeansMG(), '_ipython_display_')\n",
      "kwargs:    {}\n",
      "Exception: 'AttributeError(\"Attribute _ipython_display_ does not exist on model <class \\'cuml.cluster.kmeans_mg.KMeansMG\\'>\")'\n",
      "\n",
      "2022-08-16 11:28:39,686 - distributed.worker - WARNING - Compute Failed\n",
      "Key:       _get_model_attr-7ae61fa7-3ac8-4716-86d8-76e4ccb5aa6f\n",
      "Function:  _get_model_attr\n",
      "args:      (KMeansMG(), '_ipython_canary_method_should_not_exist_')\n",
      "kwargs:    {}\n",
      "Exception: 'AttributeError(\"Attribute _ipython_canary_method_should_not_exist_ does not exist on model <class \\'cuml.cluster.kmeans_mg.KMeansMG\\'>\")'\n",
      "\n",
      "2022-08-16 11:28:39,700 - distributed.worker - WARNING - Compute Failed\n",
      "Key:       _get_model_attr-89947148-c3fa-422b-8255-5b49f65366ec\n",
      "Function:  _get_model_attr\n",
      "args:      (KMeansMG(), '_repr_mimebundle_')\n",
      "kwargs:    {}\n",
      "Exception: 'AttributeError(\"Attribute _repr_mimebundle_ does not exist on model <class \\'cuml.cluster.kmeans_mg.KMeansMG\\'>\")'\n",
      "\n",
      "2022-08-16 11:28:39,720 - distributed.worker - WARNING - Compute Failed\n",
      "Key:       _get_model_attr-5955e176-e2e1-4faa-b9e6-45f205bde19e\n",
      "Function:  _get_model_attr\n",
      "args:      (KMeansMG(), '_ipython_canary_method_should_not_exist_')\n",
      "kwargs:    {}\n",
      "Exception: 'AttributeError(\"Attribute _ipython_canary_method_should_not_exist_ does not exist on model <class \\'cuml.cluster.kmeans_mg.KMeansMG\\'>\")'\n",
      "\n",
      "2022-08-16 11:28:39,734 - distributed.worker - WARNING - Compute Failed\n",
      "Key:       _get_model_attr-1a6e559e-f701-4e04-8dd0-180c0d7f4223\n",
      "Function:  _get_model_attr\n",
      "args:      (KMeansMG(), '_repr_html_')\n",
      "kwargs:    {}\n",
      "Exception: 'AttributeError(\"Attribute _repr_html_ does not exist on model <class \\'cuml.cluster.kmeans_mg.KMeansMG\\'>\")'\n",
      "\n",
      "2022-08-16 11:28:39,747 - distributed.worker - WARNING - Compute Failed\n",
      "Key:       _get_model_attr-61d8b998-00d6-4c8a-b920-530215f3f69d\n",
      "Function:  _get_model_attr\n",
      "args:      (KMeansMG(), '_ipython_canary_method_should_not_exist_')\n",
      "kwargs:    {}\n",
      "Exception: 'AttributeError(\"Attribute _ipython_canary_method_should_not_exist_ does not exist on model <class \\'cuml.cluster.kmeans_mg.KMeansMG\\'>\")'\n",
      "\n",
      "2022-08-16 11:28:39,759 - distributed.worker - WARNING - Compute Failed\n",
      "Key:       _get_model_attr-6668a83b-8ac6-475c-a836-a509ec415e47\n",
      "Function:  _get_model_attr\n",
      "args:      (KMeansMG(), '_repr_markdown_')\n",
      "kwargs:    {}\n",
      "Exception: 'AttributeError(\"Attribute _repr_markdown_ does not exist on model <class \\'cuml.cluster.kmeans_mg.KMeansMG\\'>\")'\n",
      "\n",
      "2022-08-16 11:28:39,771 - distributed.worker - WARNING - Compute Failed\n",
      "Key:       _get_model_attr-4b148187-4719-4c98-9664-9ed5ae5b8d81\n",
      "Function:  _get_model_attr\n",
      "args:      (KMeansMG(), '_ipython_canary_method_should_not_exist_')\n",
      "kwargs:    {}\n",
      "Exception: 'AttributeError(\"Attribute _ipython_canary_method_should_not_exist_ does not exist on model <class \\'cuml.cluster.kmeans_mg.KMeansMG\\'>\")'\n",
      "\n",
      "2022-08-16 11:28:39,785 - distributed.worker - WARNING - Compute Failed\n",
      "Key:       _get_model_attr-0b8a0802-39c0-4b9f-b52e-ef22b59ab7f3\n",
      "Function:  _get_model_attr\n",
      "args:      (KMeansMG(), '_repr_svg_')\n",
      "kwargs:    {}\n",
      "Exception: 'AttributeError(\"Attribute _repr_svg_ does not exist on model <class \\'cuml.cluster.kmeans_mg.KMeansMG\\'>\")'\n",
      "\n",
      "2022-08-16 11:28:39,805 - distributed.worker - WARNING - Compute Failed\n",
      "Key:       _get_model_attr-ed1ec850-9548-4817-85f3-7b3024c88e92\n",
      "Function:  _get_model_attr\n",
      "args:      (KMeansMG(), '_ipython_canary_method_should_not_exist_')\n",
      "kwargs:    {}\n",
      "Exception: 'AttributeError(\"Attribute _ipython_canary_method_should_not_exist_ does not exist on model <class \\'cuml.cluster.kmeans_mg.KMeansMG\\'>\")'\n",
      "\n",
      "2022-08-16 11:28:39,818 - distributed.worker - WARNING - Compute Failed\n",
      "Key:       _get_model_attr-087b0ce5-579e-4c27-ad49-83f792050e06\n",
      "Function:  _get_model_attr\n",
      "args:      (KMeansMG(), '_repr_png_')\n",
      "kwargs:    {}\n",
      "Exception: 'AttributeError(\"Attribute _repr_png_ does not exist on model <class \\'cuml.cluster.kmeans_mg.KMeansMG\\'>\")'\n",
      "\n",
      "2022-08-16 11:28:39,831 - distributed.worker - WARNING - Compute Failed\n",
      "Key:       _get_model_attr-520b0b50-709c-44e0-9fb2-ce6d6688ed30\n",
      "Function:  _get_model_attr\n",
      "args:      (KMeansMG(), '_ipython_canary_method_should_not_exist_')\n",
      "kwargs:    {}\n",
      "Exception: 'AttributeError(\"Attribute _ipython_canary_method_should_not_exist_ does not exist on model <class \\'cuml.cluster.kmeans_mg.KMeansMG\\'>\")'\n",
      "\n",
      "2022-08-16 11:28:39,843 - distributed.worker - WARNING - Compute Failed\n",
      "Key:       _get_model_attr-4f983e25-6936-443a-ba57-356cae6c60c6\n",
      "Function:  _get_model_attr\n",
      "args:      (KMeansMG(), '_repr_pdf_')\n",
      "kwargs:    {}\n",
      "Exception: 'AttributeError(\"Attribute _repr_pdf_ does not exist on model <class \\'cuml.cluster.kmeans_mg.KMeansMG\\'>\")'\n",
      "\n"
     ]
    },
    {
     "name": "stderr",
     "output_type": "stream",
     "text": [
      "2022-08-16 11:28:39,856 - distributed.worker - WARNING - Compute Failed\n",
      "Key:       _get_model_attr-edc3c656-2522-43a1-82d4-f6c2e76030b0\n",
      "Function:  _get_model_attr\n",
      "args:      (KMeansMG(), '_ipython_canary_method_should_not_exist_')\n",
      "kwargs:    {}\n",
      "Exception: 'AttributeError(\"Attribute _ipython_canary_method_should_not_exist_ does not exist on model <class \\'cuml.cluster.kmeans_mg.KMeansMG\\'>\")'\n",
      "\n",
      "2022-08-16 11:28:39,869 - distributed.worker - WARNING - Compute Failed\n",
      "Key:       _get_model_attr-2160666b-2bb7-4888-858b-dd5c9aa83f56\n",
      "Function:  _get_model_attr\n",
      "args:      (KMeansMG(), '_repr_jpeg_')\n",
      "kwargs:    {}\n",
      "Exception: 'AttributeError(\"Attribute _repr_jpeg_ does not exist on model <class \\'cuml.cluster.kmeans_mg.KMeansMG\\'>\")'\n",
      "\n",
      "2022-08-16 11:28:39,882 - distributed.worker - WARNING - Compute Failed\n",
      "Key:       _get_model_attr-f3124acd-0a56-4266-aa50-cbf960780fca\n",
      "Function:  _get_model_attr\n",
      "args:      (KMeansMG(), '_ipython_canary_method_should_not_exist_')\n",
      "kwargs:    {}\n",
      "Exception: 'AttributeError(\"Attribute _ipython_canary_method_should_not_exist_ does not exist on model <class \\'cuml.cluster.kmeans_mg.KMeansMG\\'>\")'\n",
      "\n",
      "2022-08-16 11:28:39,901 - distributed.worker - WARNING - Compute Failed\n",
      "Key:       _get_model_attr-f3390203-890c-410a-9cac-685d350c89be\n",
      "Function:  _get_model_attr\n",
      "args:      (KMeansMG(), '_repr_latex_')\n",
      "kwargs:    {}\n",
      "Exception: 'AttributeError(\"Attribute _repr_latex_ does not exist on model <class \\'cuml.cluster.kmeans_mg.KMeansMG\\'>\")'\n",
      "\n",
      "2022-08-16 11:28:39,915 - distributed.worker - WARNING - Compute Failed\n",
      "Key:       _get_model_attr-2402abfd-0131-4cdc-acb5-f9a0475612a3\n",
      "Function:  _get_model_attr\n",
      "args:      (KMeansMG(), '_ipython_canary_method_should_not_exist_')\n",
      "kwargs:    {}\n",
      "Exception: 'AttributeError(\"Attribute _ipython_canary_method_should_not_exist_ does not exist on model <class \\'cuml.cluster.kmeans_mg.KMeansMG\\'>\")'\n",
      "\n",
      "2022-08-16 11:28:39,935 - distributed.worker - WARNING - Compute Failed\n",
      "Key:       _get_model_attr-d5ea0ac8-cb22-4418-a973-7906faf92d60\n",
      "Function:  _get_model_attr\n",
      "args:      (KMeansMG(), '_repr_json_')\n",
      "kwargs:    {}\n",
      "Exception: 'AttributeError(\"Attribute _repr_json_ does not exist on model <class \\'cuml.cluster.kmeans_mg.KMeansMG\\'>\")'\n",
      "\n",
      "2022-08-16 11:28:39,948 - distributed.worker - WARNING - Compute Failed\n",
      "Key:       _get_model_attr-6d4598f0-df66-4d5c-b1b0-9dcea2d8988c\n",
      "Function:  _get_model_attr\n",
      "args:      (KMeansMG(), '_ipython_canary_method_should_not_exist_')\n",
      "kwargs:    {}\n",
      "Exception: 'AttributeError(\"Attribute _ipython_canary_method_should_not_exist_ does not exist on model <class \\'cuml.cluster.kmeans_mg.KMeansMG\\'>\")'\n",
      "\n",
      "2022-08-16 11:28:39,959 - distributed.worker - WARNING - Compute Failed\n",
      "Key:       _get_model_attr-89bdd8eb-e822-4f3a-b3e7-9a88e969b812\n",
      "Function:  _get_model_attr\n",
      "args:      (KMeansMG(), '_repr_javascript_')\n",
      "kwargs:    {}\n",
      "Exception: 'AttributeError(\"Attribute _repr_javascript_ does not exist on model <class \\'cuml.cluster.kmeans_mg.KMeansMG\\'>\")'\n",
      "\n"
     ]
    },
    {
     "data": {
      "text/plain": [
       "<cuml.dask.cluster.kmeans.KMeans at 0x7f040b94ed00>"
      ]
     },
     "execution_count": 10,
     "metadata": {},
     "output_type": "execute_result"
    }
   ],
   "source": [
    "dist_model.fit(X)"
   ]
  },
  {
   "cell_type": "code",
   "execution_count": 11,
   "metadata": {
    "execution": {
     "iopub.execute_input": "2022-08-16T11:28:39.977083Z",
     "iopub.status.busy": "2022-08-16T11:28:39.976522Z",
     "iopub.status.idle": "2022-08-16T11:28:40.002041Z",
     "shell.execute_reply": "2022-08-16T11:28:40.000593Z"
    }
   },
   "outputs": [],
   "source": [
    "import pickle\n",
    "\n",
    "single_gpu_model = dist_model.get_combined_model()\n",
    "pickle.dump(single_gpu_model, open(\"kmeans_model.pkl\", \"wb\"))"
   ]
  },
  {
   "cell_type": "code",
   "execution_count": 12,
   "metadata": {
    "execution": {
     "iopub.execute_input": "2022-08-16T11:28:40.007344Z",
     "iopub.status.busy": "2022-08-16T11:28:40.006782Z",
     "iopub.status.idle": "2022-08-16T11:28:40.013314Z",
     "shell.execute_reply": "2022-08-16T11:28:40.012493Z"
    }
   },
   "outputs": [],
   "source": [
    "single_gpu_model = pickle.load(open(\"kmeans_model.pkl\", \"rb\"))"
   ]
  },
  {
   "cell_type": "code",
   "execution_count": 13,
   "metadata": {
    "execution": {
     "iopub.execute_input": "2022-08-16T11:28:40.018244Z",
     "iopub.status.busy": "2022-08-16T11:28:40.017899Z",
     "iopub.status.idle": "2022-08-16T11:28:40.028648Z",
     "shell.execute_reply": "2022-08-16T11:28:40.027776Z"
    }
   },
   "outputs": [
    {
     "data": {
      "text/plain": [
       "array([[-4.6475401e+00, -9.5672169e+00,  6.6923513e+00,  4.4359236e+00,\n",
       "         2.1902733e+00,  2.5834756e+00,  5.9448934e-01,  6.2568660e+00,\n",
       "        -8.7821636e+00, -4.1232014e-01,  9.8151770e+00,  7.5641570e+00,\n",
       "         1.0003009e+01, -5.8680434e+00, -1.2743106e+00, -2.5393455e+00,\n",
       "        -1.0847499e+00, -5.2629199e+00, -9.3071022e+00,  4.6179361e+00,\n",
       "        -9.7068958e-02, -3.9351208e+00,  6.1767273e+00, -7.4346886e+00,\n",
       "         5.6496072e+00, -8.5544853e+00, -7.5265579e+00, -5.5195603e+00,\n",
       "         4.8197637e+00,  2.5235438e+00],\n",
       "       [ 6.2794294e+00,  9.2293940e+00,  8.3403702e+00,  9.0330496e+00,\n",
       "         7.6893487e+00, -9.9538225e-01, -6.2780766e+00,  1.3599335e+00,\n",
       "        -6.9744487e+00, -5.9463463e+00,  1.0695117e+00, -8.0422508e-03,\n",
       "         2.8183141e+00,  1.8317667e+00, -8.2557344e+00,  3.0514317e+00,\n",
       "        -8.4958029e+00,  9.7238483e+00, -7.7455091e+00,  3.4521692e+00,\n",
       "        -3.9248335e+00, -4.1106420e+00,  2.6693091e+00,  1.2985628e+00,\n",
       "         1.0421574e+00,  5.2490621e+00, -1.6496238e+00,  6.1451659e+00,\n",
       "        -6.9103332e+00, -9.6390314e+00],\n",
       "       [-2.8796389e+00,  4.4348760e+00, -4.4264808e+00,  2.3959143e+00,\n",
       "         1.7286434e+00, -2.4991984e+00, -5.1794529e+00, -1.6771443e+00,\n",
       "        -8.1329174e+00,  2.6659229e+00, -4.3131094e+00,  5.5827813e+00,\n",
       "        -5.7318311e+00, -1.7427170e+00, -9.3456125e+00,  7.1365577e-01,\n",
       "         4.4255500e+00, -2.9118378e+00, -4.9467440e+00,  9.6786423e+00,\n",
       "         8.4222746e+00, -6.2710242e+00, -6.3596506e+00,  1.9645509e+00,\n",
       "         4.1715999e+00, -9.1683645e+00,  4.6156683e+00,  8.7916498e+00,\n",
       "         6.8754416e+00,  2.2288747e+00],\n",
       "       [-6.9536948e+00, -9.7635880e+00, -6.5648255e+00, -4.3536150e-01,\n",
       "         6.0998116e+00,  3.7550373e+00, -3.9558537e+00,  6.1595516e+00,\n",
       "        -1.8599317e+00,  5.0400305e+00, -6.8397546e+00,  1.3435434e+00,\n",
       "         8.9749002e+00, -9.9621779e-01,  9.6651945e+00,  9.8009644e+00,\n",
       "        -8.6188335e+00,  5.9978366e+00,  2.2295928e+00, -3.6477709e+00,\n",
       "         7.0758505e+00, -7.3772249e+00, -5.3214231e+00, -6.9927955e+00,\n",
       "        -7.9296322e+00,  6.6705360e+00, -5.5850177e+00,  7.1526046e+00,\n",
       "         6.5703216e+00, -8.3389378e+00],\n",
       "       [ 4.8136683e+00,  8.3985281e+00, -9.2161236e+00,  9.4185514e+00,\n",
       "         8.5280867e+00, -1.0969981e+00,  3.3253179e+00, -7.8064375e+00,\n",
       "        -5.9660637e-01,  2.5423867e-01,  5.5004091e+00, -4.1162968e+00,\n",
       "         4.2832375e+00, -2.8173411e+00,  3.6207721e+00, -4.1576214e+00,\n",
       "        -3.6048703e+00,  6.2125401e+00, -6.9080992e+00, -1.0732133e+00,\n",
       "        -5.8362117e+00,  2.2357664e+00, -3.8588789e+00, -1.6835878e+00,\n",
       "        -5.3240361e+00,  7.5769196e+00,  2.9358528e+00,  8.5267372e+00,\n",
       "         1.5667248e+00,  1.0779673e+00]], dtype=float32)"
      ]
     },
     "execution_count": 13,
     "metadata": {},
     "output_type": "execute_result"
    }
   ],
   "source": [
    "single_gpu_model.cluster_centers_"
   ]
  },
  {
   "cell_type": "markdown",
   "metadata": {},
   "source": [
    "## Exporting cuML Random Forest models for inferencing on machines without GPUs"
   ]
  },
  {
   "cell_type": "markdown",
   "metadata": {},
   "source": [
    "Starting with cuML version 21.06, you can export cuML Random Forest models and run predictions with them on machines without an NVIDIA GPUs. The [Treelite](https://github.com/dmlc/treelite) package defines an efficient exchange format that lets you portably move the cuML Random Forest models to other machines. We will refer to the exchange format as \"checkpoints.\"\n",
    "\n",
    "Here are the steps to export the model:\n",
    "\n",
    "1. Call `to_treelite_checkpoint()` to obtain the checkpoint file from the cuML Random Forest model."
   ]
  },
  {
   "cell_type": "code",
   "execution_count": 14,
   "metadata": {
    "execution": {
     "iopub.execute_input": "2022-08-16T11:28:40.034071Z",
     "iopub.status.busy": "2022-08-16T11:28:40.033674Z",
     "iopub.status.idle": "2022-08-16T11:28:40.146758Z",
     "shell.execute_reply": "2022-08-16T11:28:40.145674Z"
    }
   },
   "outputs": [
    {
     "name": "stderr",
     "output_type": "stream",
     "text": [
      "/opt/conda/envs/rapids/lib/python3.9/site-packages/cuml/internals/api_decorators.py:794: UserWarning: For reproducible results in Random Forest Classifier or for almost reproducible results in Random Forest Regressor, n_streams=1 is recommended. If n_streams is > 1, results may vary due to stream/thread timing differences, even when random_state is set\n",
      "  return func(**kwargs)\n"
     ]
    }
   ],
   "source": [
    "from cuml.ensemble import RandomForestClassifier as cumlRandomForestClassifier\n",
    "from sklearn.datasets import load_iris\n",
    "import numpy as np\n",
    "\n",
    "X, y = load_iris(return_X_y=True)\n",
    "X, y = X.astype(np.float32), y.astype(np.int32)\n",
    "clf = cumlRandomForestClassifier(max_depth=3, random_state=0, n_estimators=10)\n",
    "clf.fit(X, y)\n",
    "\n",
    "checkpoint_path = './checkpoint.tl'\n",
    "# Export cuML RF model as Treelite checkpoint\n",
    "clf.convert_to_treelite_model().to_treelite_checkpoint(checkpoint_path)"
   ]
  },
  {
   "cell_type": "markdown",
   "metadata": {},
   "source": [
    "2. Copy the generated checkpoint file `checkpoint.tl` to another machine on which you'd like to run predictions.\n",
    "\n",
    "3. On the target machine, install Treelite by running `pip install treelite` or `conda install -c conda-forge treelite`. The machine does not need to have an NVIDIA GPUs and does not need to have cuML installed.\n",
    "\n",
    "4. You can now load the model from the checkpoint, by running the following on the target machine:"
   ]
  },
  {
   "cell_type": "code",
   "execution_count": 15,
   "metadata": {
    "execution": {
     "iopub.execute_input": "2022-08-16T11:28:40.151263Z",
     "iopub.status.busy": "2022-08-16T11:28:40.150914Z",
     "iopub.status.idle": "2022-08-16T11:28:40.168467Z",
     "shell.execute_reply": "2022-08-16T11:28:40.167349Z"
    }
   },
   "outputs": [
    {
     "name": "stdout",
     "output_type": "stream",
     "text": [
      "[[1.         0.         0.        ]\n",
      " [1.         0.         0.        ]\n",
      " [1.         0.         0.        ]\n",
      " [1.         0.         0.        ]\n",
      " [1.         0.         0.        ]\n",
      " [1.         0.         0.        ]\n",
      " [1.         0.         0.        ]\n",
      " [1.         0.         0.        ]\n",
      " [1.         0.         0.        ]\n",
      " [1.         0.         0.        ]\n",
      " [1.         0.         0.        ]\n",
      " [1.         0.         0.        ]\n",
      " [1.         0.         0.        ]\n",
      " [1.         0.         0.        ]\n",
      " [0.90789473 0.09210526 0.        ]\n",
      " [0.90789473 0.09210526 0.        ]\n",
      " [1.         0.         0.        ]\n",
      " [1.         0.         0.        ]\n",
      " [0.90789473 0.09210526 0.        ]\n",
      " [1.         0.         0.        ]\n",
      " [1.         0.         0.        ]\n",
      " [1.         0.         0.        ]\n",
      " [1.         0.         0.        ]\n",
      " [1.         0.         0.        ]\n",
      " [1.         0.         0.        ]\n",
      " [1.         0.         0.        ]\n",
      " [1.         0.         0.        ]\n",
      " [1.         0.         0.        ]\n",
      " [1.         0.         0.        ]\n",
      " [1.         0.         0.        ]\n",
      " [1.         0.         0.        ]\n",
      " [1.         0.         0.        ]\n",
      " [1.         0.         0.        ]\n",
      " [1.         0.         0.        ]\n",
      " [1.         0.         0.        ]\n",
      " [1.         0.         0.        ]\n",
      " [1.         0.         0.        ]\n",
      " [1.         0.         0.        ]\n",
      " [1.         0.         0.        ]\n",
      " [1.         0.         0.        ]\n",
      " [1.         0.         0.        ]\n",
      " [1.         0.         0.        ]\n",
      " [1.         0.         0.        ]\n",
      " [1.         0.         0.        ]\n",
      " [1.         0.         0.        ]\n",
      " [1.         0.         0.        ]\n",
      " [1.         0.         0.        ]\n",
      " [1.         0.         0.        ]\n",
      " [1.         0.         0.        ]\n",
      " [1.         0.         0.        ]\n",
      " [0.00789474 0.96374357 0.02836171]\n",
      " [0.00789474 0.96374357 0.02836171]\n",
      " [0.00789474 0.7819892  0.2101161 ]\n",
      " [0.         0.99018145 0.00981859]\n",
      " [0.00789474 0.96374357 0.02836171]\n",
      " [0.00789474 0.975835   0.01627021]\n",
      " [0.00789474 0.96374357 0.02836171]\n",
      " [0.         0.8568481  0.14315192]\n",
      " [0.00789474 0.96374357 0.02836171]\n",
      " [0.         0.99018145 0.00981859]\n",
      " [0.         0.99018145 0.00981859]\n",
      " [0.00789474 0.975835   0.01627021]\n",
      " [0.00789474 0.975835   0.01627021]\n",
      " [0.00789474 0.975835   0.01627021]\n",
      " [0.10789473 0.88228667 0.00981859]\n",
      " [0.00789474 0.96374357 0.02836171]\n",
      " [0.00789474 0.98228663 0.00981859]\n",
      " [0.00789474 0.975835   0.01627021]\n",
      " [0.00789474 0.975835   0.01627021]\n",
      " [0.10789473 0.88228667 0.00981859]\n",
      " [0.         0.25154537 0.7484547 ]\n",
      " [0.00789474 0.975835   0.01627021]\n",
      " [0.00789474 0.7819892  0.2101161 ]\n",
      " [0.00789474 0.975835   0.01627021]\n",
      " [0.00789474 0.96374357 0.02836171]\n",
      " [0.00789474 0.96374357 0.02836171]\n",
      " [0.00789474 0.79310024 0.199005  ]\n",
      " [0.         0.451291   0.54870903]\n",
      " [0.00789474 0.975835   0.01627021]\n",
      " [0.10789473 0.87583506 0.01627021]\n",
      " [0.         0.99018145 0.00981859]\n",
      " [0.         0.99018145 0.00981859]\n",
      " [0.10789473 0.87583506 0.01627021]\n",
      " [0.         0.18708128 0.8129188 ]\n",
      " [0.         0.99018145 0.00981859]\n",
      " [0.00789474 0.975835   0.01627021]\n",
      " [0.00789474 0.96374357 0.02836171]\n",
      " [0.00789474 0.96374357 0.02836171]\n",
      " [0.00789474 0.98228663 0.00981859]\n",
      " [0.         0.99018145 0.00981859]\n",
      " [0.         0.99018145 0.00981859]\n",
      " [0.00789474 0.975835   0.01627021]\n",
      " [0.00789474 0.975835   0.01627021]\n",
      " [0.         0.99018145 0.00981859]\n",
      " [0.00789474 0.98228663 0.00981859]\n",
      " [0.00789474 0.975835   0.01627021]\n",
      " [0.00789474 0.975835   0.01627021]\n",
      " [0.00789474 0.975835   0.01627021]\n",
      " [0.         0.99018145 0.00981859]\n",
      " [0.00789474 0.975835   0.01627021]\n",
      " [0.         0.01258634 0.9874137 ]\n",
      " [0.         0.0481924  0.9518076 ]\n",
      " [0.         0.01258634 0.9874137 ]\n",
      " [0.         0.01258634 0.9874137 ]\n",
      " [0.         0.01258634 0.9874137 ]\n",
      " [0.         0.01258634 0.9874137 ]\n",
      " [0.         0.6901814  0.3098186 ]\n",
      " [0.         0.01258634 0.9874137 ]\n",
      " [0.         0.01258634 0.9874137 ]\n",
      " [0.         0.01258634 0.9874137 ]\n",
      " [0.         0.01258634 0.9874137 ]\n",
      " [0.         0.01258634 0.9874137 ]\n",
      " [0.         0.01258634 0.9874137 ]\n",
      " [0.         0.15504913 0.84495085]\n",
      " [0.         0.0481924  0.9518076 ]\n",
      " [0.         0.01258634 0.9874137 ]\n",
      " [0.         0.01258634 0.9874137 ]\n",
      " [0.         0.01258634 0.9874137 ]\n",
      " [0.         0.01258634 0.9874137 ]\n",
      " [0.         0.40701494 0.59298503]\n",
      " [0.         0.01258634 0.9874137 ]\n",
      " [0.         0.14688587 0.8531141 ]\n",
      " [0.         0.01258634 0.9874137 ]\n",
      " [0.         0.28718114 0.71281886]\n",
      " [0.         0.01258634 0.9874137 ]\n",
      " [0.         0.01258634 0.9874137 ]\n",
      " [0.         0.22427265 0.7757274 ]\n",
      " [0.         0.21316154 0.7868384 ]\n",
      " [0.         0.01258634 0.9874137 ]\n",
      " [0.         0.17874795 0.82125205]\n",
      " [0.         0.01258634 0.9874137 ]\n",
      " [0.         0.01258634 0.9874137 ]\n",
      " [0.         0.01258634 0.9874137 ]\n",
      " [0.         0.21682489 0.7831751 ]\n",
      " [0.         0.22515821 0.77484185]\n",
      " [0.         0.01258634 0.9874137 ]\n",
      " [0.         0.01258634 0.9874137 ]\n",
      " [0.         0.01258634 0.9874137 ]\n",
      " [0.         0.22427265 0.7757274 ]\n",
      " [0.         0.01258634 0.9874137 ]\n",
      " [0.         0.01258634 0.9874137 ]\n",
      " [0.         0.01258634 0.9874137 ]\n",
      " [0.         0.0481924  0.9518076 ]\n",
      " [0.         0.01258634 0.9874137 ]\n",
      " [0.         0.01258634 0.9874137 ]\n",
      " [0.         0.01258634 0.9874137 ]\n",
      " [0.         0.20179601 0.798204  ]\n",
      " [0.         0.01258634 0.9874137 ]\n",
      " [0.         0.02091968 0.9790803 ]\n",
      " [0.         0.0481924  0.9518076 ]]\n"
     ]
    }
   ],
   "source": [
    "import treelite\n",
    "\n",
    "# The checkpoint file has been copied over\n",
    "checkpoint_path = './checkpoint.tl'\n",
    "tl_model = treelite.Model.deserialize(checkpoint_path)\n",
    "out_prob = treelite.gtil.predict(tl_model, X, pred_margin=True)\n",
    "print(out_prob)"
   ]
  }
 ],
 "metadata": {
  "kernelspec": {
   "display_name": "Python 3",
   "language": "python",
   "name": "python3"
  },
  "language_info": {
   "codemirror_mode": {
    "name": "ipython",
    "version": 3
   },
   "file_extension": ".py",
   "mimetype": "text/x-python",
   "name": "python",
   "nbconvert_exporter": "python",
   "pygments_lexer": "ipython3",
   "version": "3.9.13"
  }
 },
 "nbformat": 4,
 "nbformat_minor": 4
}
