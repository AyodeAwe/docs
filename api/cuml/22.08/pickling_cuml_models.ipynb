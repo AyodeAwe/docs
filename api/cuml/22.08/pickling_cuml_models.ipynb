{
 "cells": [
  {
   "cell_type": "markdown",
   "metadata": {},
   "source": [
    "# Pickling cuML Models for Persistence\n",
    "\n",
    "This notebook demonstrates simple pickling of both single-GPU and multi-GPU cuML models for persistence"
   ]
  },
  {
   "cell_type": "code",
   "execution_count": 1,
   "metadata": {
    "execution": {
     "iopub.execute_input": "2022-06-23T10:36:07.440257Z",
     "iopub.status.busy": "2022-06-23T10:36:07.439598Z",
     "iopub.status.idle": "2022-06-23T10:36:07.454516Z",
     "shell.execute_reply": "2022-06-23T10:36:07.453410Z"
    }
   },
   "outputs": [],
   "source": [
    "import warnings\n",
    "warnings.filterwarnings(\"ignore\", category=FutureWarning)"
   ]
  },
  {
   "cell_type": "markdown",
   "metadata": {},
   "source": [
    "## Single GPU Model Pickling\n",
    "\n",
    "All single-GPU estimators are pickleable. The following example demonstrates the creation of a synthetic dataset, training, and pickling of the resulting model for storage. Trained single-GPU models can also be used to distribute the inference on a Dask cluster, which the `Distributed Model Pickling` section below demonstrates."
   ]
  },
  {
   "cell_type": "code",
   "execution_count": 2,
   "metadata": {
    "execution": {
     "iopub.execute_input": "2022-06-23T10:36:07.460721Z",
     "iopub.status.busy": "2022-06-23T10:36:07.460348Z",
     "iopub.status.idle": "2022-06-23T10:36:14.136929Z",
     "shell.execute_reply": "2022-06-23T10:36:14.135911Z"
    }
   },
   "outputs": [],
   "source": [
    "from cuml.datasets import make_blobs\n",
    "\n",
    "X, y = make_blobs(n_samples=50,\n",
    "                  n_features=10,\n",
    "                  centers=5,\n",
    "                  cluster_std=0.4,\n",
    "                  random_state=0)"
   ]
  },
  {
   "cell_type": "code",
   "execution_count": 3,
   "metadata": {
    "execution": {
     "iopub.execute_input": "2022-06-23T10:36:14.144089Z",
     "iopub.status.busy": "2022-06-23T10:36:14.143785Z",
     "iopub.status.idle": "2022-06-23T10:36:14.420346Z",
     "shell.execute_reply": "2022-06-23T10:36:14.419590Z"
    }
   },
   "outputs": [
    {
     "data": {
      "text/plain": [
       "KMeans()"
      ]
     },
     "execution_count": 3,
     "metadata": {},
     "output_type": "execute_result"
    }
   ],
   "source": [
    "from cuml.cluster import KMeans\n",
    "\n",
    "model = KMeans(n_clusters=5)\n",
    "\n",
    "model.fit(X)"
   ]
  },
  {
   "cell_type": "code",
   "execution_count": 4,
   "metadata": {
    "execution": {
     "iopub.execute_input": "2022-06-23T10:36:14.426652Z",
     "iopub.status.busy": "2022-06-23T10:36:14.426360Z",
     "iopub.status.idle": "2022-06-23T10:36:14.431831Z",
     "shell.execute_reply": "2022-06-23T10:36:14.430958Z"
    }
   },
   "outputs": [],
   "source": [
    "import pickle\n",
    "\n",
    "pickle.dump(model, open(\"kmeans_model.pkl\", \"wb\"))"
   ]
  },
  {
   "cell_type": "code",
   "execution_count": 5,
   "metadata": {
    "execution": {
     "iopub.execute_input": "2022-06-23T10:36:14.436189Z",
     "iopub.status.busy": "2022-06-23T10:36:14.435827Z",
     "iopub.status.idle": "2022-06-23T10:36:14.441826Z",
     "shell.execute_reply": "2022-06-23T10:36:14.440949Z"
    }
   },
   "outputs": [],
   "source": [
    "model = pickle.load(open(\"kmeans_model.pkl\", \"rb\"))"
   ]
  },
  {
   "cell_type": "code",
   "execution_count": 6,
   "metadata": {
    "execution": {
     "iopub.execute_input": "2022-06-23T10:36:14.446131Z",
     "iopub.status.busy": "2022-06-23T10:36:14.445754Z",
     "iopub.status.idle": "2022-06-23T10:36:14.454121Z",
     "shell.execute_reply": "2022-06-23T10:36:14.453278Z"
    }
   },
   "outputs": [
    {
     "data": {
      "text/plain": [
       "array([[ 4.674985  ,  8.213466  , -9.075721  ,  9.568374  ,  8.454808  ,\n",
       "        -1.2327975 ,  3.3903713 , -7.828242  , -0.8454461 ,  0.6288572 ],\n",
       "       [-4.2439985 ,  5.6107073 , -5.669777  , -1.7957245 , -9.255528  ,\n",
       "         0.71774375,  4.4435906 , -2.8747153 , -5.0900965 ,  9.684121  ],\n",
       "       [ 5.2615476 , -4.0487256 ,  4.464928  , -2.9367518 ,  3.5061095 ,\n",
       "        -4.0168314 , -3.463885  ,  6.0784483 , -6.953326  , -1.004144  ],\n",
       "       [-3.008261  ,  4.625961  , -4.483249  ,  2.228457  ,  1.643532  ,\n",
       "        -2.4505193 , -5.258201  , -1.6679401 , -7.985754  ,  2.8311472 ],\n",
       "       [-5.6072407 ,  2.2695985 , -3.7516537 , -1.8182003 , -5.143028  ,\n",
       "         7.599363  ,  2.8252366 ,  8.773042  ,  1.6198314 ,  1.1772048 ]],\n",
       "      dtype=float32)"
      ]
     },
     "execution_count": 6,
     "metadata": {},
     "output_type": "execute_result"
    }
   ],
   "source": [
    "model.cluster_centers_"
   ]
  },
  {
   "cell_type": "markdown",
   "metadata": {},
   "source": [
    "## Distributed Model Pickling"
   ]
  },
  {
   "cell_type": "markdown",
   "metadata": {},
   "source": [
    "The distributed estimator wrappers inside of the `cuml.dask` are not intended to be pickled directly. The Dask cuML estimators provide a function `get_combined_model()`, which returns the trained single-GPU model for pickling. The combined model can be used for inference on a single-GPU, and the `ParallelPostFit` wrapper from the [Dask-ML](https://ml.dask.org/meta-estimators.html) library can be used to perform distributed inference on a Dask cluster."
   ]
  },
  {
   "cell_type": "code",
   "execution_count": 7,
   "metadata": {
    "execution": {
     "iopub.execute_input": "2022-06-23T10:36:14.458603Z",
     "iopub.status.busy": "2022-06-23T10:36:14.458254Z",
     "iopub.status.idle": "2022-06-23T10:36:18.362292Z",
     "shell.execute_reply": "2022-06-23T10:36:18.361188Z"
    }
   },
   "outputs": [
    {
     "name": "stderr",
     "output_type": "stream",
     "text": [
      "2022-06-23 10:36:17,860 - distributed.preloading - INFO - Creating preload: dask_cuda.initialize\n",
      "2022-06-23 10:36:17,860 - distributed.preloading - INFO - Import preload module: dask_cuda.initialize\n"
     ]
    },
    {
     "data": {
      "text/html": [
       "<div>\n",
       "    <div style=\"width: 24px; height: 24px; background-color: #e1e1e1; border: 3px solid #9D9D9D; border-radius: 5px; position: absolute;\"> </div>\n",
       "    <div style=\"margin-left: 48px;\">\n",
       "        <h3 style=\"margin-bottom: 0px;\">Client</h3>\n",
       "        <p style=\"color: #9D9D9D; margin-bottom: 0px;\">Client-50bcae8f-f2e0-11ec-9037-cd45f9562347</p>\n",
       "        <table style=\"width: 100%; text-align: left;\">\n",
       "\n",
       "        <tr>\n",
       "        \n",
       "            <td style=\"text-align: left;\"><strong>Connection method:</strong> Cluster object</td>\n",
       "            <td style=\"text-align: left;\"><strong>Cluster type:</strong> dask_cuda.LocalCUDACluster</td>\n",
       "        \n",
       "        </tr>\n",
       "\n",
       "        \n",
       "            <tr>\n",
       "                <td style=\"text-align: left;\">\n",
       "                    <strong>Dashboard: </strong> <a href=\"http://127.0.0.1:8787/status\" target=\"_blank\">http://127.0.0.1:8787/status</a>\n",
       "                </td>\n",
       "                <td style=\"text-align: left;\"></td>\n",
       "            </tr>\n",
       "        \n",
       "\n",
       "        </table>\n",
       "\n",
       "        \n",
       "            <details>\n",
       "            <summary style=\"margin-bottom: 20px;\"><h3 style=\"display: inline;\">Cluster Info</h3></summary>\n",
       "            <div class=\"jp-RenderedHTMLCommon jp-RenderedHTML jp-mod-trusted jp-OutputArea-output\">\n",
       "    <div style=\"width: 24px; height: 24px; background-color: #e1e1e1; border: 3px solid #9D9D9D; border-radius: 5px; position: absolute;\">\n",
       "    </div>\n",
       "    <div style=\"margin-left: 48px;\">\n",
       "        <h3 style=\"margin-bottom: 0px; margin-top: 0px;\">LocalCUDACluster</h3>\n",
       "        <p style=\"color: #9D9D9D; margin-bottom: 0px;\">1034f99f</p>\n",
       "        <table style=\"width: 100%; text-align: left;\">\n",
       "            <tr>\n",
       "                <td style=\"text-align: left;\">\n",
       "                    <strong>Dashboard:</strong> <a href=\"http://127.0.0.1:8787/status\" target=\"_blank\">http://127.0.0.1:8787/status</a>\n",
       "                </td>\n",
       "                <td style=\"text-align: left;\">\n",
       "                    <strong>Workers:</strong> 1\n",
       "                </td>\n",
       "            </tr>\n",
       "            <tr>\n",
       "                <td style=\"text-align: left;\">\n",
       "                    <strong>Total threads:</strong> 1\n",
       "                </td>\n",
       "                <td style=\"text-align: left;\">\n",
       "                    <strong>Total memory:</strong> 251.79 GiB\n",
       "                </td>\n",
       "            </tr>\n",
       "            \n",
       "            <tr>\n",
       "    <td style=\"text-align: left;\"><strong>Status:</strong> running</td>\n",
       "    <td style=\"text-align: left;\"><strong>Using processes:</strong> True</td>\n",
       "</tr>\n",
       "\n",
       "            \n",
       "        </table>\n",
       "\n",
       "        <details>\n",
       "            <summary style=\"margin-bottom: 20px;\">\n",
       "                <h3 style=\"display: inline;\">Scheduler Info</h3>\n",
       "            </summary>\n",
       "\n",
       "            <div style=\"\">\n",
       "    <div>\n",
       "        <div style=\"width: 24px; height: 24px; background-color: #FFF7E5; border: 3px solid #FF6132; border-radius: 5px; position: absolute;\"> </div>\n",
       "        <div style=\"margin-left: 48px;\">\n",
       "            <h3 style=\"margin-bottom: 0px;\">Scheduler</h3>\n",
       "            <p style=\"color: #9D9D9D; margin-bottom: 0px;\">Scheduler-137ea3d3-2b59-4b67-9670-33780883e644</p>\n",
       "            <table style=\"width: 100%; text-align: left;\">\n",
       "                <tr>\n",
       "                    <td style=\"text-align: left;\">\n",
       "                        <strong>Comm:</strong> tcp://127.0.0.1:45133\n",
       "                    </td>\n",
       "                    <td style=\"text-align: left;\">\n",
       "                        <strong>Workers:</strong> 1\n",
       "                    </td>\n",
       "                </tr>\n",
       "                <tr>\n",
       "                    <td style=\"text-align: left;\">\n",
       "                        <strong>Dashboard:</strong> <a href=\"http://127.0.0.1:8787/status\" target=\"_blank\">http://127.0.0.1:8787/status</a>\n",
       "                    </td>\n",
       "                    <td style=\"text-align: left;\">\n",
       "                        <strong>Total threads:</strong> 1\n",
       "                    </td>\n",
       "                </tr>\n",
       "                <tr>\n",
       "                    <td style=\"text-align: left;\">\n",
       "                        <strong>Started:</strong> Just now\n",
       "                    </td>\n",
       "                    <td style=\"text-align: left;\">\n",
       "                        <strong>Total memory:</strong> 251.79 GiB\n",
       "                    </td>\n",
       "                </tr>\n",
       "            </table>\n",
       "        </div>\n",
       "    </div>\n",
       "\n",
       "    <details style=\"margin-left: 48px;\">\n",
       "        <summary style=\"margin-bottom: 20px;\">\n",
       "            <h3 style=\"display: inline;\">Workers</h3>\n",
       "        </summary>\n",
       "\n",
       "        \n",
       "        <div style=\"margin-bottom: 20px;\">\n",
       "            <div style=\"width: 24px; height: 24px; background-color: #DBF5FF; border: 3px solid #4CC9FF; border-radius: 5px; position: absolute;\"> </div>\n",
       "            <div style=\"margin-left: 48px;\">\n",
       "            <details>\n",
       "                <summary>\n",
       "                    <h4 style=\"margin-bottom: 0px; display: inline;\">Worker: 0</h4>\n",
       "                </summary>\n",
       "                <table style=\"width: 100%; text-align: left;\">\n",
       "                    <tr>\n",
       "                        <td style=\"text-align: left;\">\n",
       "                            <strong>Comm: </strong> tcp://127.0.0.1:42023\n",
       "                        </td>\n",
       "                        <td style=\"text-align: left;\">\n",
       "                            <strong>Total threads: </strong> 1\n",
       "                        </td>\n",
       "                    </tr>\n",
       "                    <tr>\n",
       "                        <td style=\"text-align: left;\">\n",
       "                            <strong>Dashboard: </strong> <a href=\"http://127.0.0.1:36335/status\" target=\"_blank\">http://127.0.0.1:36335/status</a>\n",
       "                        </td>\n",
       "                        <td style=\"text-align: left;\">\n",
       "                            <strong>Memory: </strong> 251.79 GiB\n",
       "                        </td>\n",
       "                    </tr>\n",
       "                    <tr>\n",
       "                        <td style=\"text-align: left;\">\n",
       "                            <strong>Nanny: </strong> tcp://127.0.0.1:38919\n",
       "                        </td>\n",
       "                        <td style=\"text-align: left;\"></td>\n",
       "                    </tr>\n",
       "                    <tr>\n",
       "                        <td colspan=\"2\" style=\"text-align: left;\">\n",
       "                            <strong>Local directory: </strong> /rapids/cuml/docs/source/dask-worker-space/worker-rydipvf3\n",
       "                        </td>\n",
       "                    </tr>\n",
       "\n",
       "                    \n",
       "                    <tr>\n",
       "                        <td style=\"text-align: left;\">\n",
       "                            <strong>GPU: </strong>Tesla V100-PCIE-32GB\n",
       "                        </td>\n",
       "                        <td style=\"text-align: left;\">\n",
       "                            <strong>GPU memory: </strong> 31.75 GiB\n",
       "                        </td>\n",
       "                    </tr>\n",
       "                    \n",
       "\n",
       "                    \n",
       "\n",
       "                </table>\n",
       "            </details>\n",
       "            </div>\n",
       "        </div>\n",
       "        \n",
       "\n",
       "    </details>\n",
       "</div>\n",
       "\n",
       "        </details>\n",
       "    </div>\n",
       "</div>\n",
       "            </details>\n",
       "        \n",
       "\n",
       "    </div>\n",
       "</div>"
      ],
      "text/plain": [
       "<Client: 'tcp://127.0.0.1:45133' processes=1 threads=1, memory=251.79 GiB>"
      ]
     },
     "execution_count": 7,
     "metadata": {},
     "output_type": "execute_result"
    }
   ],
   "source": [
    "from dask.distributed import Client\n",
    "from dask_cuda import LocalCUDACluster\n",
    "\n",
    "cluster = LocalCUDACluster()\n",
    "client = Client(cluster)\n",
    "client"
   ]
  },
  {
   "cell_type": "code",
   "execution_count": 8,
   "metadata": {
    "execution": {
     "iopub.execute_input": "2022-06-23T10:36:18.368880Z",
     "iopub.status.busy": "2022-06-23T10:36:18.368491Z",
     "iopub.status.idle": "2022-06-23T10:36:19.021146Z",
     "shell.execute_reply": "2022-06-23T10:36:19.019602Z"
    }
   },
   "outputs": [],
   "source": [
    "from cuml.dask.datasets import make_blobs\n",
    "\n",
    "n_workers = len(client.scheduler_info()[\"workers\"].keys())\n",
    "\n",
    "X, y = make_blobs(n_samples=5000, \n",
    "                  n_features=30,\n",
    "                  centers=5, \n",
    "                  cluster_std=0.4, \n",
    "                  random_state=0,\n",
    "                  n_parts=n_workers*5)\n",
    "\n",
    "X = X.persist()\n",
    "y = y.persist()"
   ]
  },
  {
   "cell_type": "code",
   "execution_count": 9,
   "metadata": {
    "execution": {
     "iopub.execute_input": "2022-06-23T10:36:19.026352Z",
     "iopub.status.busy": "2022-06-23T10:36:19.025962Z",
     "iopub.status.idle": "2022-06-23T10:36:19.032516Z",
     "shell.execute_reply": "2022-06-23T10:36:19.031225Z"
    }
   },
   "outputs": [],
   "source": [
    "from cuml.dask.cluster import KMeans\n",
    "\n",
    "dist_model = KMeans(n_clusters=5)"
   ]
  },
  {
   "cell_type": "code",
   "execution_count": 10,
   "metadata": {
    "execution": {
     "iopub.execute_input": "2022-06-23T10:36:19.037701Z",
     "iopub.status.busy": "2022-06-23T10:36:19.037186Z",
     "iopub.status.idle": "2022-06-23T10:36:23.942112Z",
     "shell.execute_reply": "2022-06-23T10:36:23.940161Z"
    }
   },
   "outputs": [
    {
     "name": "stderr",
     "output_type": "stream",
     "text": [
      "2022-06-23 10:36:23,653 - distributed.worker - WARNING - Compute Failed\n",
      "Key:       _get_model_attr-5ef312f3-9589-46ab-8bf7-084e596db6a6\n",
      "Function:  _get_model_attr\n",
      "args:      (KMeansMG(), '_ipython_canary_method_should_not_exist_')\n",
      "kwargs:    {}\n",
      "Exception: 'AttributeError(\"Attribute _ipython_canary_method_should_not_exist_ does not exist on model <class \\'cuml.cluster.kmeans_mg.KMeansMG\\'>\")'\n",
      "\n",
      "2022-06-23 10:36:23,664 - distributed.worker - WARNING - Compute Failed\n",
      "Key:       _get_model_attr-38e5c6f3-390f-4ff1-8c7c-5da0d63d919d\n",
      "Function:  _get_model_attr\n",
      "args:      (KMeansMG(), '_ipython_display_')\n",
      "kwargs:    {}\n",
      "Exception: 'AttributeError(\"Attribute _ipython_display_ does not exist on model <class \\'cuml.cluster.kmeans_mg.KMeansMG\\'>\")'\n",
      "\n",
      "2022-06-23 10:36:23,674 - distributed.worker - WARNING - Compute Failed\n",
      "Key:       _get_model_attr-43560129-00b9-42f6-b19d-d32900c0c58e\n",
      "Function:  _get_model_attr\n",
      "args:      (KMeansMG(), '_ipython_canary_method_should_not_exist_')\n",
      "kwargs:    {}\n",
      "Exception: 'AttributeError(\"Attribute _ipython_canary_method_should_not_exist_ does not exist on model <class \\'cuml.cluster.kmeans_mg.KMeansMG\\'>\")'\n",
      "\n",
      "2022-06-23 10:36:23,686 - distributed.worker - WARNING - Compute Failed\n",
      "Key:       _get_model_attr-ebb53f84-73b4-4364-bb96-2d51fb3c76d0\n",
      "Function:  _get_model_attr\n",
      "args:      (KMeansMG(), '_repr_mimebundle_')\n",
      "kwargs:    {}\n",
      "Exception: 'AttributeError(\"Attribute _repr_mimebundle_ does not exist on model <class \\'cuml.cluster.kmeans_mg.KMeansMG\\'>\")'\n",
      "\n",
      "2022-06-23 10:36:23,698 - distributed.worker - WARNING - Compute Failed\n",
      "Key:       _get_model_attr-9cfa34b2-0744-45bd-95ee-1a7481b3672c\n",
      "Function:  _get_model_attr\n",
      "args:      (KMeansMG(), '_ipython_canary_method_should_not_exist_')\n",
      "kwargs:    {}\n",
      "Exception: 'AttributeError(\"Attribute _ipython_canary_method_should_not_exist_ does not exist on model <class \\'cuml.cluster.kmeans_mg.KMeansMG\\'>\")'\n",
      "\n",
      "2022-06-23 10:36:23,710 - distributed.worker - WARNING - Compute Failed\n",
      "Key:       _get_model_attr-2c5355f6-97aa-4848-87df-c3bd04f61e73\n",
      "Function:  _get_model_attr\n",
      "args:      (KMeansMG(), '_repr_html_')\n",
      "kwargs:    {}\n",
      "Exception: 'AttributeError(\"Attribute _repr_html_ does not exist on model <class \\'cuml.cluster.kmeans_mg.KMeansMG\\'>\")'\n",
      "\n",
      "2022-06-23 10:36:23,722 - distributed.worker - WARNING - Compute Failed\n",
      "Key:       _get_model_attr-399ec19f-753a-41ec-9084-b7743be57f7a\n",
      "Function:  _get_model_attr\n",
      "args:      (KMeansMG(), '_ipython_canary_method_should_not_exist_')\n",
      "kwargs:    {}\n",
      "Exception: 'AttributeError(\"Attribute _ipython_canary_method_should_not_exist_ does not exist on model <class \\'cuml.cluster.kmeans_mg.KMeansMG\\'>\")'\n",
      "\n",
      "2022-06-23 10:36:23,734 - distributed.worker - WARNING - Compute Failed\n",
      "Key:       _get_model_attr-39549789-615c-4545-84aa-0b5d70f59975\n",
      "Function:  _get_model_attr\n",
      "args:      (KMeansMG(), '_repr_markdown_')\n",
      "kwargs:    {}\n",
      "Exception: 'AttributeError(\"Attribute _repr_markdown_ does not exist on model <class \\'cuml.cluster.kmeans_mg.KMeansMG\\'>\")'\n",
      "\n",
      "2022-06-23 10:36:23,750 - distributed.worker - WARNING - Compute Failed\n",
      "Key:       _get_model_attr-8d0fc00e-84b3-4444-ac42-2245ca019126\n",
      "Function:  _get_model_attr\n",
      "args:      (KMeansMG(), '_ipython_canary_method_should_not_exist_')\n",
      "kwargs:    {}\n",
      "Exception: 'AttributeError(\"Attribute _ipython_canary_method_should_not_exist_ does not exist on model <class \\'cuml.cluster.kmeans_mg.KMeansMG\\'>\")'\n",
      "\n",
      "2022-06-23 10:36:23,761 - distributed.worker - WARNING - Compute Failed\n",
      "Key:       _get_model_attr-58d5c8ee-e61f-4770-94d2-7563bcea40b2\n",
      "Function:  _get_model_attr\n",
      "args:      (KMeansMG(), '_repr_svg_')\n",
      "kwargs:    {}\n",
      "Exception: 'AttributeError(\"Attribute _repr_svg_ does not exist on model <class \\'cuml.cluster.kmeans_mg.KMeansMG\\'>\")'\n",
      "\n",
      "2022-06-23 10:36:23,777 - distributed.worker - WARNING - Compute Failed\n",
      "Key:       _get_model_attr-67cedcbb-1c8c-4f18-8e54-9d13c67209d8\n",
      "Function:  _get_model_attr\n",
      "args:      (KMeansMG(), '_ipython_canary_method_should_not_exist_')\n",
      "kwargs:    {}\n",
      "Exception: 'AttributeError(\"Attribute _ipython_canary_method_should_not_exist_ does not exist on model <class \\'cuml.cluster.kmeans_mg.KMeansMG\\'>\")'\n",
      "\n",
      "2022-06-23 10:36:23,799 - distributed.worker - WARNING - Compute Failed\n",
      "Key:       _get_model_attr-a03820c6-bf59-41be-8ca5-bb709aef2790\n",
      "Function:  _get_model_attr\n",
      "args:      (KMeansMG(), '_repr_png_')\n",
      "kwargs:    {}\n",
      "Exception: 'AttributeError(\"Attribute _repr_png_ does not exist on model <class \\'cuml.cluster.kmeans_mg.KMeansMG\\'>\")'\n",
      "\n",
      "2022-06-23 10:36:23,812 - distributed.worker - WARNING - Compute Failed\n",
      "Key:       _get_model_attr-fbe39d3a-b0d8-4a15-8358-55260221e138\n",
      "Function:  _get_model_attr\n",
      "args:      (KMeansMG(), '_ipython_canary_method_should_not_exist_')\n",
      "kwargs:    {}\n",
      "Exception: 'AttributeError(\"Attribute _ipython_canary_method_should_not_exist_ does not exist on model <class \\'cuml.cluster.kmeans_mg.KMeansMG\\'>\")'\n",
      "\n",
      "2022-06-23 10:36:23,825 - distributed.worker - WARNING - Compute Failed\n",
      "Key:       _get_model_attr-c89d4382-a219-4730-b346-a9a27ab0f36c\n",
      "Function:  _get_model_attr\n",
      "args:      (KMeansMG(), '_repr_pdf_')\n",
      "kwargs:    {}\n",
      "Exception: 'AttributeError(\"Attribute _repr_pdf_ does not exist on model <class \\'cuml.cluster.kmeans_mg.KMeansMG\\'>\")'\n",
      "\n",
      "2022-06-23 10:36:23,838 - distributed.worker - WARNING - Compute Failed\n",
      "Key:       _get_model_attr-0d09df18-078c-4204-94a1-cc8a5f2f1822\n",
      "Function:  _get_model_attr\n",
      "args:      (KMeansMG(), '_ipython_canary_method_should_not_exist_')\n",
      "kwargs:    {}\n",
      "Exception: 'AttributeError(\"Attribute _ipython_canary_method_should_not_exist_ does not exist on model <class \\'cuml.cluster.kmeans_mg.KMeansMG\\'>\")'\n",
      "\n",
      "2022-06-23 10:36:23,850 - distributed.worker - WARNING - Compute Failed\n",
      "Key:       _get_model_attr-f277ccc2-df24-421e-9973-3a422a56e1d9\n",
      "Function:  _get_model_attr\n",
      "args:      (KMeansMG(), '_repr_jpeg_')\n",
      "kwargs:    {}\n",
      "Exception: 'AttributeError(\"Attribute _repr_jpeg_ does not exist on model <class \\'cuml.cluster.kmeans_mg.KMeansMG\\'>\")'\n",
      "\n"
     ]
    },
    {
     "name": "stderr",
     "output_type": "stream",
     "text": [
      "2022-06-23 10:36:23,864 - distributed.worker - WARNING - Compute Failed\n",
      "Key:       _get_model_attr-bdbba8f5-e2dd-45e3-ac4e-429e33feb4b6\n",
      "Function:  _get_model_attr\n",
      "args:      (KMeansMG(), '_ipython_canary_method_should_not_exist_')\n",
      "kwargs:    {}\n",
      "Exception: 'AttributeError(\"Attribute _ipython_canary_method_should_not_exist_ does not exist on model <class \\'cuml.cluster.kmeans_mg.KMeansMG\\'>\")'\n",
      "\n",
      "2022-06-23 10:36:23,877 - distributed.worker - WARNING - Compute Failed\n",
      "Key:       _get_model_attr-62cbc987-9b2f-4673-9c36-5cc0afdf38bd\n",
      "Function:  _get_model_attr\n",
      "args:      (KMeansMG(), '_repr_latex_')\n",
      "kwargs:    {}\n",
      "Exception: 'AttributeError(\"Attribute _repr_latex_ does not exist on model <class \\'cuml.cluster.kmeans_mg.KMeansMG\\'>\")'\n",
      "\n",
      "2022-06-23 10:36:23,890 - distributed.worker - WARNING - Compute Failed\n",
      "Key:       _get_model_attr-9f1f533b-4ca5-4a89-b577-79296eeb672a\n",
      "Function:  _get_model_attr\n",
      "args:      (KMeansMG(), '_ipython_canary_method_should_not_exist_')\n",
      "kwargs:    {}\n",
      "Exception: 'AttributeError(\"Attribute _ipython_canary_method_should_not_exist_ does not exist on model <class \\'cuml.cluster.kmeans_mg.KMeansMG\\'>\")'\n",
      "\n",
      "2022-06-23 10:36:23,904 - distributed.worker - WARNING - Compute Failed\n",
      "Key:       _get_model_attr-281d3184-0452-46f3-9850-a343343a102b\n",
      "Function:  _get_model_attr\n",
      "args:      (KMeansMG(), '_repr_json_')\n",
      "kwargs:    {}\n",
      "Exception: 'AttributeError(\"Attribute _repr_json_ does not exist on model <class \\'cuml.cluster.kmeans_mg.KMeansMG\\'>\")'\n",
      "\n",
      "2022-06-23 10:36:23,917 - distributed.worker - WARNING - Compute Failed\n",
      "Key:       _get_model_attr-7ecc38e7-4b9e-4a7e-8592-43fc71adba25\n",
      "Function:  _get_model_attr\n",
      "args:      (KMeansMG(), '_ipython_canary_method_should_not_exist_')\n",
      "kwargs:    {}\n",
      "Exception: 'AttributeError(\"Attribute _ipython_canary_method_should_not_exist_ does not exist on model <class \\'cuml.cluster.kmeans_mg.KMeansMG\\'>\")'\n",
      "\n",
      "2022-06-23 10:36:23,930 - distributed.worker - WARNING - Compute Failed\n",
      "Key:       _get_model_attr-82f0b94a-6579-4a65-9420-c2d18c311564\n",
      "Function:  _get_model_attr\n",
      "args:      (KMeansMG(), '_repr_javascript_')\n",
      "kwargs:    {}\n",
      "Exception: 'AttributeError(\"Attribute _repr_javascript_ does not exist on model <class \\'cuml.cluster.kmeans_mg.KMeansMG\\'>\")'\n",
      "\n"
     ]
    },
    {
     "data": {
      "text/plain": [
       "<cuml.dask.cluster.kmeans.KMeans at 0x7f123674f340>"
      ]
     },
     "execution_count": 10,
     "metadata": {},
     "output_type": "execute_result"
    }
   ],
   "source": [
    "dist_model.fit(X)"
   ]
  },
  {
   "cell_type": "code",
   "execution_count": 11,
   "metadata": {
    "execution": {
     "iopub.execute_input": "2022-06-23T10:36:23.949620Z",
     "iopub.status.busy": "2022-06-23T10:36:23.948964Z",
     "iopub.status.idle": "2022-06-23T10:36:23.972923Z",
     "shell.execute_reply": "2022-06-23T10:36:23.971190Z"
    }
   },
   "outputs": [],
   "source": [
    "import pickle\n",
    "\n",
    "single_gpu_model = dist_model.get_combined_model()\n",
    "pickle.dump(single_gpu_model, open(\"kmeans_model.pkl\", \"wb\"))"
   ]
  },
  {
   "cell_type": "code",
   "execution_count": 12,
   "metadata": {
    "execution": {
     "iopub.execute_input": "2022-06-23T10:36:23.979433Z",
     "iopub.status.busy": "2022-06-23T10:36:23.978801Z",
     "iopub.status.idle": "2022-06-23T10:36:23.987370Z",
     "shell.execute_reply": "2022-06-23T10:36:23.986058Z"
    }
   },
   "outputs": [],
   "source": [
    "single_gpu_model = pickle.load(open(\"kmeans_model.pkl\", \"rb\"))"
   ]
  },
  {
   "cell_type": "code",
   "execution_count": 13,
   "metadata": {
    "execution": {
     "iopub.execute_input": "2022-06-23T10:36:23.993375Z",
     "iopub.status.busy": "2022-06-23T10:36:23.992934Z",
     "iopub.status.idle": "2022-06-23T10:36:24.006407Z",
     "shell.execute_reply": "2022-06-23T10:36:24.005018Z"
    }
   },
   "outputs": [
    {
     "data": {
      "text/plain": [
       "array([[-4.6475396e+00, -9.5672169e+00,  6.6923518e+00,  4.4359241e+00,\n",
       "         2.1902738e+00,  2.5834754e+00,  5.9448928e-01,  6.2568665e+00,\n",
       "        -8.7821655e+00, -4.1232011e-01,  9.8151779e+00,  7.5641570e+00,\n",
       "         1.0003009e+01, -5.8680434e+00, -1.2743107e+00, -2.5393453e+00,\n",
       "        -1.0847499e+00, -5.2629194e+00, -9.3071022e+00,  4.6179357e+00,\n",
       "        -9.7068951e-02, -3.9351208e+00,  6.1767278e+00, -7.4346881e+00,\n",
       "         5.6496077e+00, -8.5544853e+00, -7.5265579e+00, -5.5195603e+00,\n",
       "         4.8197632e+00,  2.5235438e+00],\n",
       "       [ 6.2794299e+00,  9.2293949e+00,  8.3403702e+00,  9.0330496e+00,\n",
       "         7.6893497e+00, -9.9538225e-01, -6.2780766e+00,  1.3599335e+00,\n",
       "        -6.9744492e+00, -5.9463458e+00,  1.0695117e+00, -8.0422480e-03,\n",
       "         2.8183141e+00,  1.8317667e+00, -8.2557344e+00,  3.0514317e+00,\n",
       "        -8.4958019e+00,  9.7238493e+00, -7.7455091e+00,  3.4521692e+00,\n",
       "        -3.9248335e+00, -4.1106424e+00,  2.6693091e+00,  1.2985630e+00,\n",
       "         1.0421574e+00,  5.2490621e+00, -1.6496240e+00,  6.1451659e+00,\n",
       "        -6.9103332e+00, -9.6390314e+00],\n",
       "       [-2.8796387e+00,  4.4348760e+00, -4.4264808e+00,  2.3959143e+00,\n",
       "         1.7286435e+00, -2.4991984e+00, -5.1794529e+00, -1.6771443e+00,\n",
       "        -8.1329174e+00,  2.6659231e+00, -4.3131094e+00,  5.5827804e+00,\n",
       "        -5.7318306e+00, -1.7427171e+00, -9.3456125e+00,  7.1365565e-01,\n",
       "         4.4255495e+00, -2.9118381e+00, -4.9467440e+00,  9.6786423e+00,\n",
       "         8.4222746e+00, -6.2710242e+00, -6.3596506e+00,  1.9645507e+00,\n",
       "         4.1715999e+00, -9.1683626e+00,  4.6156683e+00,  8.7916498e+00,\n",
       "         6.8754416e+00,  2.2288747e+00],\n",
       "       [-6.9536953e+00, -9.7635889e+00, -6.5648260e+00, -4.3536150e-01,\n",
       "         6.0998111e+00,  3.7550373e+00, -3.9558539e+00,  6.1595521e+00,\n",
       "        -1.8599318e+00,  5.0400310e+00, -6.8397541e+00,  1.3435434e+00,\n",
       "         8.9749002e+00, -9.9621779e-01,  9.6651936e+00,  9.8009644e+00,\n",
       "        -8.6188345e+00,  5.9978361e+00,  2.2295928e+00, -3.6477714e+00,\n",
       "         7.0758505e+00, -7.3772259e+00, -5.3214226e+00, -6.9927955e+00,\n",
       "        -7.9296327e+00,  6.6705356e+00, -5.5850172e+00,  7.1526051e+00,\n",
       "         6.5703216e+00, -8.3389378e+00],\n",
       "       [ 4.8136683e+00,  8.3985281e+00, -9.2161255e+00,  9.4185514e+00,\n",
       "         8.5280876e+00, -1.0969982e+00,  3.3253176e+00, -7.8064370e+00,\n",
       "        -5.9660631e-01,  2.5423867e-01,  5.5004091e+00, -4.1162968e+00,\n",
       "         4.2832379e+00, -2.8173409e+00,  3.6207721e+00, -4.1576214e+00,\n",
       "        -3.6048706e+00,  6.2125406e+00, -6.9080997e+00, -1.0732132e+00,\n",
       "        -5.8362122e+00,  2.2357666e+00, -3.8588786e+00, -1.6835878e+00,\n",
       "        -5.3240366e+00,  7.5769200e+00,  2.9358525e+00,  8.5267382e+00,\n",
       "         1.5667248e+00,  1.0779674e+00]], dtype=float32)"
      ]
     },
     "execution_count": 13,
     "metadata": {},
     "output_type": "execute_result"
    }
   ],
   "source": [
    "single_gpu_model.cluster_centers_"
   ]
  },
  {
   "cell_type": "markdown",
   "metadata": {},
   "source": [
    "## Exporting cuML Random Forest models for inferencing on machines without GPUs"
   ]
  },
  {
   "cell_type": "markdown",
   "metadata": {},
   "source": [
    "Starting with cuML version 21.06, you can export cuML Random Forest models and run predictions with them on machines without an NVIDIA GPUs. The [Treelite](https://github.com/dmlc/treelite) package defines an efficient exchange format that lets you portably move the cuML Random Forest models to other machines. We will refer to the exchange format as \"checkpoints.\"\n",
    "\n",
    "Here are the steps to export the model:\n",
    "\n",
    "1. Call `to_treelite_checkpoint()` to obtain the checkpoint file from the cuML Random Forest model."
   ]
  },
  {
   "cell_type": "code",
   "execution_count": 14,
   "metadata": {
    "execution": {
     "iopub.execute_input": "2022-06-23T10:36:24.012303Z",
     "iopub.status.busy": "2022-06-23T10:36:24.011899Z",
     "iopub.status.idle": "2022-06-23T10:36:24.133827Z",
     "shell.execute_reply": "2022-06-23T10:36:24.132583Z"
    }
   },
   "outputs": [
    {
     "name": "stderr",
     "output_type": "stream",
     "text": [
      "/opt/conda/envs/rapids/lib/python3.9/site-packages/cuml/internals/api_decorators.py:794: UserWarning: For reproducible results in Random Forest Classifier or for almost reproducible results in Random Forest Regressor, n_streams=1 is recommended. If n_streams is > 1, results may vary due to stream/thread timing differences, even when random_state is set\n",
      "  return func(**kwargs)\n"
     ]
    }
   ],
   "source": [
    "from cuml.ensemble import RandomForestClassifier as cumlRandomForestClassifier\n",
    "from sklearn.datasets import load_iris\n",
    "import numpy as np\n",
    "\n",
    "X, y = load_iris(return_X_y=True)\n",
    "X, y = X.astype(np.float32), y.astype(np.int32)\n",
    "clf = cumlRandomForestClassifier(max_depth=3, random_state=0, n_estimators=10)\n",
    "clf.fit(X, y)\n",
    "\n",
    "checkpoint_path = './checkpoint.tl'\n",
    "# Export cuML RF model as Treelite checkpoint\n",
    "clf.convert_to_treelite_model().to_treelite_checkpoint(checkpoint_path)"
   ]
  },
  {
   "cell_type": "markdown",
   "metadata": {},
   "source": [
    "2. Copy the generated checkpoint file `checkpoint.tl` to another machine on which you'd like to run predictions.\n",
    "\n",
    "3. On the target machine, install Treelite by running `pip install treelite` or `conda install -c conda-forge treelite`. The machine does not need to have an NVIDIA GPUs and does not need to have cuML installed.\n",
    "\n",
    "4. You can now load the model from the checkpoint, by running the following on the target machine:"
   ]
  },
  {
   "cell_type": "code",
   "execution_count": 15,
   "metadata": {
    "execution": {
     "iopub.execute_input": "2022-06-23T10:36:24.138343Z",
     "iopub.status.busy": "2022-06-23T10:36:24.137963Z",
     "iopub.status.idle": "2022-06-23T10:36:24.157580Z",
     "shell.execute_reply": "2022-06-23T10:36:24.156355Z"
    }
   },
   "outputs": [
    {
     "name": "stdout",
     "output_type": "stream",
     "text": [
      "[[1.         0.         0.        ]\n",
      " [1.         0.         0.        ]\n",
      " [1.         0.         0.        ]\n",
      " [1.         0.         0.        ]\n",
      " [1.         0.         0.        ]\n",
      " [1.         0.         0.        ]\n",
      " [1.         0.         0.        ]\n",
      " [1.         0.         0.        ]\n",
      " [1.         0.         0.        ]\n",
      " [1.         0.         0.        ]\n",
      " [1.         0.         0.        ]\n",
      " [1.         0.         0.        ]\n",
      " [1.         0.         0.        ]\n",
      " [1.         0.         0.        ]\n",
      " [1.         0.         0.        ]\n",
      " [1.         0.         0.        ]\n",
      " [1.         0.         0.        ]\n",
      " [1.         0.         0.        ]\n",
      " [0.9        0.1        0.        ]\n",
      " [1.         0.         0.        ]\n",
      " [1.         0.         0.        ]\n",
      " [1.         0.         0.        ]\n",
      " [1.         0.         0.        ]\n",
      " [1.         0.         0.        ]\n",
      " [1.         0.         0.        ]\n",
      " [1.         0.         0.        ]\n",
      " [1.         0.         0.        ]\n",
      " [1.         0.         0.        ]\n",
      " [1.         0.         0.        ]\n",
      " [1.         0.         0.        ]\n",
      " [1.         0.         0.        ]\n",
      " [1.         0.         0.        ]\n",
      " [1.         0.         0.        ]\n",
      " [1.         0.         0.        ]\n",
      " [1.         0.         0.        ]\n",
      " [1.         0.         0.        ]\n",
      " [1.         0.         0.        ]\n",
      " [1.         0.         0.        ]\n",
      " [1.         0.         0.        ]\n",
      " [1.         0.         0.        ]\n",
      " [1.         0.         0.        ]\n",
      " [1.         0.         0.        ]\n",
      " [1.         0.         0.        ]\n",
      " [1.         0.         0.        ]\n",
      " [1.         0.         0.        ]\n",
      " [1.         0.         0.        ]\n",
      " [1.         0.         0.        ]\n",
      " [1.         0.         0.        ]\n",
      " [1.         0.         0.        ]\n",
      " [1.         0.         0.        ]\n",
      " [0.         0.9981133  0.00188679]\n",
      " [0.         0.9981133  0.00188679]\n",
      " [0.         0.5274104  0.47258964]\n",
      " [0.         0.9870021  0.0129979 ]\n",
      " [0.         0.9981133  0.00188679]\n",
      " [0.         0.9981133  0.00188679]\n",
      " [0.         0.9981133  0.00188679]\n",
      " [0.         0.7036687  0.29633126]\n",
      " [0.         0.9981133  0.00188679]\n",
      " [0.         0.9870021  0.0129979 ]\n",
      " [0.         0.9536688  0.04633124]\n",
      " [0.         0.9981133  0.00188679]\n",
      " [0.         0.9981133  0.00188679]\n",
      " [0.         0.9981133  0.00188679]\n",
      " [0.         0.9981133  0.00188679]\n",
      " [0.         0.9981133  0.00188679]\n",
      " [0.         0.9981133  0.00188679]\n",
      " [0.         0.9981133  0.00188679]\n",
      " [0.         0.9981133  0.00188679]\n",
      " [0.         0.9981133  0.00188679]\n",
      " [0.         0.23634085 0.7636592 ]\n",
      " [0.         0.9981133  0.00188679]\n",
      " [0.         0.567213   0.432787  ]\n",
      " [0.         0.9981133  0.00188679]\n",
      " [0.         0.9981133  0.00188679]\n",
      " [0.         0.9981133  0.00188679]\n",
      " [0.         0.60401857 0.3959814 ]\n",
      " [0.         0.41788664 0.5821134 ]\n",
      " [0.         0.9981133  0.00188679]\n",
      " [0.         0.9981133  0.00188679]\n",
      " [0.         0.9870021  0.0129979 ]\n",
      " [0.         0.9870021  0.0129979 ]\n",
      " [0.         0.9981133  0.00188679]\n",
      " [0.         0.30794033 0.6920597 ]\n",
      " [0.1        0.89811325 0.00188679]\n",
      " [0.         0.9981133  0.00188679]\n",
      " [0.         0.9981133  0.00188679]\n",
      " [0.         0.9981133  0.00188679]\n",
      " [0.         0.9981133  0.00188679]\n",
      " [0.         0.9870021  0.0129979 ]\n",
      " [0.         0.9870021  0.0129979 ]\n",
      " [0.         0.9981133  0.00188679]\n",
      " [0.         0.9981133  0.00188679]\n",
      " [0.         0.9536688  0.04633124]\n",
      " [0.         0.9981133  0.00188679]\n",
      " [0.         0.9981133  0.00188679]\n",
      " [0.         0.9981133  0.00188679]\n",
      " [0.         0.9981133  0.00188679]\n",
      " [0.         0.9870021  0.0129979 ]\n",
      " [0.         0.9981133  0.00188679]\n",
      " [0.         0.01794118 0.9820588 ]\n",
      " [0.         0.05149381 0.9485062 ]\n",
      " [0.         0.01169118 0.9883088 ]\n",
      " [0.         0.01169118 0.9883088 ]\n",
      " [0.         0.01169118 0.9883088 ]\n",
      " [0.         0.01169118 0.9883088 ]\n",
      " [0.         0.5655735  0.4344265 ]\n",
      " [0.         0.01169118 0.9883088 ]\n",
      " [0.         0.05149381 0.9485062 ]\n",
      " [0.         0.01794118 0.9820588 ]\n",
      " [0.         0.01794118 0.9820588 ]\n",
      " [0.         0.05149381 0.9485062 ]\n",
      " [0.         0.01169118 0.9883088 ]\n",
      " [0.         0.19290936 0.80709064]\n",
      " [0.         0.03274381 0.9672562 ]\n",
      " [0.         0.01794118 0.9820588 ]\n",
      " [0.         0.01169118 0.9883088 ]\n",
      " [0.         0.01794118 0.9820588 ]\n",
      " [0.         0.05149381 0.9485062 ]\n",
      " [0.         0.44935593 0.5506441 ]\n",
      " [0.         0.01794118 0.9820588 ]\n",
      " [0.         0.2170165  0.78298354]\n",
      " [0.         0.03274381 0.9672562 ]\n",
      " [0.         0.2357665  0.7642335 ]\n",
      " [0.         0.01794118 0.9820588 ]\n",
      " [0.         0.01794118 0.9820588 ]\n",
      " [0.         0.2511435  0.74885654]\n",
      " [0.         0.19596387 0.80403614]\n",
      " [0.         0.03274381 0.9672562 ]\n",
      " [0.         0.10335784 0.8966421 ]\n",
      " [0.         0.03274381 0.9672562 ]\n",
      " [0.         0.01794118 0.9820588 ]\n",
      " [0.         0.03274381 0.9672562 ]\n",
      " [0.         0.28919035 0.7108097 ]\n",
      " [0.         0.20982714 0.79017293]\n",
      " [0.         0.01169118 0.9883088 ]\n",
      " [0.         0.01794118 0.9820588 ]\n",
      " [0.         0.01169118 0.9883088 ]\n",
      " [0.         0.23009086 0.7699092 ]\n",
      " [0.         0.01169118 0.9883088 ]\n",
      " [0.         0.01169118 0.9883088 ]\n",
      " [0.         0.01169118 0.9883088 ]\n",
      " [0.         0.05149381 0.9485062 ]\n",
      " [0.         0.01794118 0.9820588 ]\n",
      " [0.         0.01794118 0.9820588 ]\n",
      " [0.         0.01169118 0.9883088 ]\n",
      " [0.         0.19290936 0.80709064]\n",
      " [0.         0.01169118 0.9883088 ]\n",
      " [0.         0.01794118 0.9820588 ]\n",
      " [0.         0.01169118 0.9883088 ]]\n"
     ]
    }
   ],
   "source": [
    "import treelite\n",
    "\n",
    "# The checkpoint file has been copied over\n",
    "checkpoint_path = './checkpoint.tl'\n",
    "tl_model = treelite.Model.deserialize(checkpoint_path)\n",
    "out_prob = treelite.gtil.predict(tl_model, X, pred_margin=True)\n",
    "print(out_prob)"
   ]
  }
 ],
 "metadata": {
  "kernelspec": {
   "display_name": "Python 3",
   "language": "python",
   "name": "python3"
  },
  "language_info": {
   "codemirror_mode": {
    "name": "ipython",
    "version": 3
   },
   "file_extension": ".py",
   "mimetype": "text/x-python",
   "name": "python",
   "nbconvert_exporter": "python",
   "pygments_lexer": "ipython3",
   "version": "3.9.7"
  }
 },
 "nbformat": 4,
 "nbformat_minor": 4
}
