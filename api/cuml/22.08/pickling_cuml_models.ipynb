{
 "cells": [
  {
   "cell_type": "markdown",
   "metadata": {},
   "source": [
    "# Pickling cuML Models for Persistence\n",
    "\n",
    "This notebook demonstrates simple pickling of both single-GPU and multi-GPU cuML models for persistence"
   ]
  },
  {
   "cell_type": "code",
   "execution_count": 1,
   "metadata": {
    "execution": {
     "iopub.execute_input": "2022-06-19T10:56:08.396472Z",
     "iopub.status.busy": "2022-06-19T10:56:08.395791Z",
     "iopub.status.idle": "2022-06-19T10:56:08.410637Z",
     "shell.execute_reply": "2022-06-19T10:56:08.409734Z"
    }
   },
   "outputs": [],
   "source": [
    "import warnings\n",
    "warnings.filterwarnings(\"ignore\", category=FutureWarning)"
   ]
  },
  {
   "cell_type": "markdown",
   "metadata": {},
   "source": [
    "## Single GPU Model Pickling\n",
    "\n",
    "All single-GPU estimators are pickleable. The following example demonstrates the creation of a synthetic dataset, training, and pickling of the resulting model for storage. Trained single-GPU models can also be used to distribute the inference on a Dask cluster, which the `Distributed Model Pickling` section below demonstrates."
   ]
  },
  {
   "cell_type": "code",
   "execution_count": 2,
   "metadata": {
    "execution": {
     "iopub.execute_input": "2022-06-19T10:56:08.416864Z",
     "iopub.status.busy": "2022-06-19T10:56:08.416512Z",
     "iopub.status.idle": "2022-06-19T10:56:15.391956Z",
     "shell.execute_reply": "2022-06-19T10:56:15.390176Z"
    }
   },
   "outputs": [],
   "source": [
    "from cuml.datasets import make_blobs\n",
    "\n",
    "X, y = make_blobs(n_samples=50,\n",
    "                  n_features=10,\n",
    "                  centers=5,\n",
    "                  cluster_std=0.4,\n",
    "                  random_state=0)"
   ]
  },
  {
   "cell_type": "code",
   "execution_count": 3,
   "metadata": {
    "execution": {
     "iopub.execute_input": "2022-06-19T10:56:15.399246Z",
     "iopub.status.busy": "2022-06-19T10:56:15.398856Z",
     "iopub.status.idle": "2022-06-19T10:56:15.678074Z",
     "shell.execute_reply": "2022-06-19T10:56:15.676855Z"
    }
   },
   "outputs": [
    {
     "data": {
      "text/plain": [
       "KMeans()"
      ]
     },
     "execution_count": 3,
     "metadata": {},
     "output_type": "execute_result"
    }
   ],
   "source": [
    "from cuml.cluster import KMeans\n",
    "\n",
    "model = KMeans(n_clusters=5)\n",
    "\n",
    "model.fit(X)"
   ]
  },
  {
   "cell_type": "code",
   "execution_count": 4,
   "metadata": {
    "execution": {
     "iopub.execute_input": "2022-06-19T10:56:15.683830Z",
     "iopub.status.busy": "2022-06-19T10:56:15.683565Z",
     "iopub.status.idle": "2022-06-19T10:56:15.690004Z",
     "shell.execute_reply": "2022-06-19T10:56:15.688593Z"
    }
   },
   "outputs": [],
   "source": [
    "import pickle\n",
    "\n",
    "pickle.dump(model, open(\"kmeans_model.pkl\", \"wb\"))"
   ]
  },
  {
   "cell_type": "code",
   "execution_count": 5,
   "metadata": {
    "execution": {
     "iopub.execute_input": "2022-06-19T10:56:15.695932Z",
     "iopub.status.busy": "2022-06-19T10:56:15.695589Z",
     "iopub.status.idle": "2022-06-19T10:56:15.702527Z",
     "shell.execute_reply": "2022-06-19T10:56:15.701178Z"
    }
   },
   "outputs": [],
   "source": [
    "model = pickle.load(open(\"kmeans_model.pkl\", \"rb\"))"
   ]
  },
  {
   "cell_type": "code",
   "execution_count": 6,
   "metadata": {
    "execution": {
     "iopub.execute_input": "2022-06-19T10:56:15.708039Z",
     "iopub.status.busy": "2022-06-19T10:56:15.707642Z",
     "iopub.status.idle": "2022-06-19T10:56:15.717854Z",
     "shell.execute_reply": "2022-06-19T10:56:15.716673Z"
    }
   },
   "outputs": [
    {
     "data": {
      "text/plain": [
       "array([[ 4.6749854 ,  8.213465  , -9.075721  ,  9.568374  ,  8.454808  ,\n",
       "        -1.2327975 ,  3.390371  , -7.828242  , -0.84544617,  0.62885725],\n",
       "       [-4.243999  ,  5.6107073 , -5.669777  , -1.7957243 , -9.255529  ,\n",
       "         0.7177438 ,  4.4435897 , -2.8747156 , -5.0900965 ,  9.684121  ],\n",
       "       [ 5.2615476 , -4.0487256 ,  4.464928  , -2.9367518 ,  3.5061095 ,\n",
       "        -4.0168314 , -3.463885  ,  6.0784483 , -6.953326  , -1.004144  ],\n",
       "       [-3.0082612 ,  4.6259604 , -4.483249  ,  2.228457  ,  1.643532  ,\n",
       "        -2.4505193 , -5.258201  , -1.6679404 , -7.9857535 ,  2.8311472 ],\n",
       "       [-5.60724   ,  2.2695982 , -3.7516537 , -1.8182003 , -5.1430273 ,\n",
       "         7.599363  ,  2.8252368 ,  8.773042  ,  1.6198314 ,  1.1772048 ]],\n",
       "      dtype=float32)"
      ]
     },
     "execution_count": 6,
     "metadata": {},
     "output_type": "execute_result"
    }
   ],
   "source": [
    "model.cluster_centers_"
   ]
  },
  {
   "cell_type": "markdown",
   "metadata": {},
   "source": [
    "## Distributed Model Pickling"
   ]
  },
  {
   "cell_type": "markdown",
   "metadata": {},
   "source": [
    "The distributed estimator wrappers inside of the `cuml.dask` are not intended to be pickled directly. The Dask cuML estimators provide a function `get_combined_model()`, which returns the trained single-GPU model for pickling. The combined model can be used for inference on a single-GPU, and the `ParallelPostFit` wrapper from the [Dask-ML](https://ml.dask.org/meta-estimators.html) library can be used to perform distributed inference on a Dask cluster."
   ]
  },
  {
   "cell_type": "code",
   "execution_count": 7,
   "metadata": {
    "execution": {
     "iopub.execute_input": "2022-06-19T10:56:15.722740Z",
     "iopub.status.busy": "2022-06-19T10:56:15.722395Z",
     "iopub.status.idle": "2022-06-19T10:56:19.680467Z",
     "shell.execute_reply": "2022-06-19T10:56:19.677968Z"
    }
   },
   "outputs": [
    {
     "name": "stderr",
     "output_type": "stream",
     "text": [
      "2022-06-19 10:56:19,094 - distributed.preloading - INFO - Creating preload: dask_cuda.initialize\n",
      "2022-06-19 10:56:19,094 - distributed.preloading - INFO - Import preload module: dask_cuda.initialize\n"
     ]
    },
    {
     "data": {
      "text/html": [
       "<div>\n",
       "    <div style=\"width: 24px; height: 24px; background-color: #e1e1e1; border: 3px solid #9D9D9D; border-radius: 5px; position: absolute;\"> </div>\n",
       "    <div style=\"margin-left: 48px;\">\n",
       "        <h3 style=\"margin-bottom: 0px;\">Client</h3>\n",
       "        <p style=\"color: #9D9D9D; margin-bottom: 0px;\">Client-731ed4b2-efbe-11ec-9031-37f721e7514a</p>\n",
       "        <table style=\"width: 100%; text-align: left;\">\n",
       "\n",
       "        <tr>\n",
       "        \n",
       "            <td style=\"text-align: left;\"><strong>Connection method:</strong> Cluster object</td>\n",
       "            <td style=\"text-align: left;\"><strong>Cluster type:</strong> dask_cuda.LocalCUDACluster</td>\n",
       "        \n",
       "        </tr>\n",
       "\n",
       "        \n",
       "            <tr>\n",
       "                <td style=\"text-align: left;\">\n",
       "                    <strong>Dashboard: </strong> <a href=\"http://127.0.0.1:8787/status\" target=\"_blank\">http://127.0.0.1:8787/status</a>\n",
       "                </td>\n",
       "                <td style=\"text-align: left;\"></td>\n",
       "            </tr>\n",
       "        \n",
       "\n",
       "        </table>\n",
       "\n",
       "        \n",
       "            <details>\n",
       "            <summary style=\"margin-bottom: 20px;\"><h3 style=\"display: inline;\">Cluster Info</h3></summary>\n",
       "            <div class=\"jp-RenderedHTMLCommon jp-RenderedHTML jp-mod-trusted jp-OutputArea-output\">\n",
       "    <div style=\"width: 24px; height: 24px; background-color: #e1e1e1; border: 3px solid #9D9D9D; border-radius: 5px; position: absolute;\">\n",
       "    </div>\n",
       "    <div style=\"margin-left: 48px;\">\n",
       "        <h3 style=\"margin-bottom: 0px; margin-top: 0px;\">LocalCUDACluster</h3>\n",
       "        <p style=\"color: #9D9D9D; margin-bottom: 0px;\">2879cd1d</p>\n",
       "        <table style=\"width: 100%; text-align: left;\">\n",
       "            <tr>\n",
       "                <td style=\"text-align: left;\">\n",
       "                    <strong>Dashboard:</strong> <a href=\"http://127.0.0.1:8787/status\" target=\"_blank\">http://127.0.0.1:8787/status</a>\n",
       "                </td>\n",
       "                <td style=\"text-align: left;\">\n",
       "                    <strong>Workers:</strong> 1\n",
       "                </td>\n",
       "            </tr>\n",
       "            <tr>\n",
       "                <td style=\"text-align: left;\">\n",
       "                    <strong>Total threads:</strong> 1\n",
       "                </td>\n",
       "                <td style=\"text-align: left;\">\n",
       "                    <strong>Total memory:</strong> 251.79 GiB\n",
       "                </td>\n",
       "            </tr>\n",
       "            \n",
       "            <tr>\n",
       "    <td style=\"text-align: left;\"><strong>Status:</strong> running</td>\n",
       "    <td style=\"text-align: left;\"><strong>Using processes:</strong> True</td>\n",
       "</tr>\n",
       "\n",
       "            \n",
       "        </table>\n",
       "\n",
       "        <details>\n",
       "            <summary style=\"margin-bottom: 20px;\">\n",
       "                <h3 style=\"display: inline;\">Scheduler Info</h3>\n",
       "            </summary>\n",
       "\n",
       "            <div style=\"\">\n",
       "    <div>\n",
       "        <div style=\"width: 24px; height: 24px; background-color: #FFF7E5; border: 3px solid #FF6132; border-radius: 5px; position: absolute;\"> </div>\n",
       "        <div style=\"margin-left: 48px;\">\n",
       "            <h3 style=\"margin-bottom: 0px;\">Scheduler</h3>\n",
       "            <p style=\"color: #9D9D9D; margin-bottom: 0px;\">Scheduler-2d5cb459-5bc9-471b-9e01-31c5131ef9ae</p>\n",
       "            <table style=\"width: 100%; text-align: left;\">\n",
       "                <tr>\n",
       "                    <td style=\"text-align: left;\">\n",
       "                        <strong>Comm:</strong> tcp://127.0.0.1:40923\n",
       "                    </td>\n",
       "                    <td style=\"text-align: left;\">\n",
       "                        <strong>Workers:</strong> 1\n",
       "                    </td>\n",
       "                </tr>\n",
       "                <tr>\n",
       "                    <td style=\"text-align: left;\">\n",
       "                        <strong>Dashboard:</strong> <a href=\"http://127.0.0.1:8787/status\" target=\"_blank\">http://127.0.0.1:8787/status</a>\n",
       "                    </td>\n",
       "                    <td style=\"text-align: left;\">\n",
       "                        <strong>Total threads:</strong> 1\n",
       "                    </td>\n",
       "                </tr>\n",
       "                <tr>\n",
       "                    <td style=\"text-align: left;\">\n",
       "                        <strong>Started:</strong> Just now\n",
       "                    </td>\n",
       "                    <td style=\"text-align: left;\">\n",
       "                        <strong>Total memory:</strong> 251.79 GiB\n",
       "                    </td>\n",
       "                </tr>\n",
       "            </table>\n",
       "        </div>\n",
       "    </div>\n",
       "\n",
       "    <details style=\"margin-left: 48px;\">\n",
       "        <summary style=\"margin-bottom: 20px;\">\n",
       "            <h3 style=\"display: inline;\">Workers</h3>\n",
       "        </summary>\n",
       "\n",
       "        \n",
       "        <div style=\"margin-bottom: 20px;\">\n",
       "            <div style=\"width: 24px; height: 24px; background-color: #DBF5FF; border: 3px solid #4CC9FF; border-radius: 5px; position: absolute;\"> </div>\n",
       "            <div style=\"margin-left: 48px;\">\n",
       "            <details>\n",
       "                <summary>\n",
       "                    <h4 style=\"margin-bottom: 0px; display: inline;\">Worker: 0</h4>\n",
       "                </summary>\n",
       "                <table style=\"width: 100%; text-align: left;\">\n",
       "                    <tr>\n",
       "                        <td style=\"text-align: left;\">\n",
       "                            <strong>Comm: </strong> tcp://127.0.0.1:34431\n",
       "                        </td>\n",
       "                        <td style=\"text-align: left;\">\n",
       "                            <strong>Total threads: </strong> 1\n",
       "                        </td>\n",
       "                    </tr>\n",
       "                    <tr>\n",
       "                        <td style=\"text-align: left;\">\n",
       "                            <strong>Dashboard: </strong> <a href=\"http://127.0.0.1:34333/status\" target=\"_blank\">http://127.0.0.1:34333/status</a>\n",
       "                        </td>\n",
       "                        <td style=\"text-align: left;\">\n",
       "                            <strong>Memory: </strong> 251.79 GiB\n",
       "                        </td>\n",
       "                    </tr>\n",
       "                    <tr>\n",
       "                        <td style=\"text-align: left;\">\n",
       "                            <strong>Nanny: </strong> tcp://127.0.0.1:40471\n",
       "                        </td>\n",
       "                        <td style=\"text-align: left;\"></td>\n",
       "                    </tr>\n",
       "                    <tr>\n",
       "                        <td colspan=\"2\" style=\"text-align: left;\">\n",
       "                            <strong>Local directory: </strong> /rapids/cuml/docs/source/dask-worker-space/worker-lwyp1xye\n",
       "                        </td>\n",
       "                    </tr>\n",
       "\n",
       "                    \n",
       "                    <tr>\n",
       "                        <td style=\"text-align: left;\">\n",
       "                            <strong>GPU: </strong>Tesla V100-PCIE-32GB\n",
       "                        </td>\n",
       "                        <td style=\"text-align: left;\">\n",
       "                            <strong>GPU memory: </strong> 31.75 GiB\n",
       "                        </td>\n",
       "                    </tr>\n",
       "                    \n",
       "\n",
       "                    \n",
       "\n",
       "                </table>\n",
       "            </details>\n",
       "            </div>\n",
       "        </div>\n",
       "        \n",
       "\n",
       "    </details>\n",
       "</div>\n",
       "\n",
       "        </details>\n",
       "    </div>\n",
       "</div>\n",
       "            </details>\n",
       "        \n",
       "\n",
       "    </div>\n",
       "</div>"
      ],
      "text/plain": [
       "<Client: 'tcp://127.0.0.1:40923' processes=1 threads=1, memory=251.79 GiB>"
      ]
     },
     "execution_count": 7,
     "metadata": {},
     "output_type": "execute_result"
    }
   ],
   "source": [
    "from dask.distributed import Client\n",
    "from dask_cuda import LocalCUDACluster\n",
    "\n",
    "cluster = LocalCUDACluster()\n",
    "client = Client(cluster)\n",
    "client"
   ]
  },
  {
   "cell_type": "code",
   "execution_count": 8,
   "metadata": {
    "execution": {
     "iopub.execute_input": "2022-06-19T10:56:19.689736Z",
     "iopub.status.busy": "2022-06-19T10:56:19.687685Z",
     "iopub.status.idle": "2022-06-19T10:56:20.323770Z",
     "shell.execute_reply": "2022-06-19T10:56:20.322445Z"
    }
   },
   "outputs": [],
   "source": [
    "from cuml.dask.datasets import make_blobs\n",
    "\n",
    "n_workers = len(client.scheduler_info()[\"workers\"].keys())\n",
    "\n",
    "X, y = make_blobs(n_samples=5000, \n",
    "                  n_features=30,\n",
    "                  centers=5, \n",
    "                  cluster_std=0.4, \n",
    "                  random_state=0,\n",
    "                  n_parts=n_workers*5)\n",
    "\n",
    "X = X.persist()\n",
    "y = y.persist()"
   ]
  },
  {
   "cell_type": "code",
   "execution_count": 9,
   "metadata": {
    "execution": {
     "iopub.execute_input": "2022-06-19T10:56:20.329725Z",
     "iopub.status.busy": "2022-06-19T10:56:20.329357Z",
     "iopub.status.idle": "2022-06-19T10:56:20.335548Z",
     "shell.execute_reply": "2022-06-19T10:56:20.334266Z"
    }
   },
   "outputs": [],
   "source": [
    "from cuml.dask.cluster import KMeans\n",
    "\n",
    "dist_model = KMeans(n_clusters=5)"
   ]
  },
  {
   "cell_type": "code",
   "execution_count": 10,
   "metadata": {
    "execution": {
     "iopub.execute_input": "2022-06-19T10:56:20.340390Z",
     "iopub.status.busy": "2022-06-19T10:56:20.339972Z",
     "iopub.status.idle": "2022-06-19T10:56:25.591022Z",
     "shell.execute_reply": "2022-06-19T10:56:25.588927Z"
    }
   },
   "outputs": [
    {
     "name": "stderr",
     "output_type": "stream",
     "text": [
      "2022-06-19 10:56:25,245 - distributed.worker - WARNING - Compute Failed\n",
      "Key:       _get_model_attr-a0462c5c-c43c-4426-88db-bb3a5bed542a\n",
      "Function:  _get_model_attr\n",
      "args:      (KMeansMG(), '_ipython_canary_method_should_not_exist_')\n",
      "kwargs:    {}\n",
      "Exception: 'AttributeError(\"Attribute _ipython_canary_method_should_not_exist_ does not exist on model <class \\'cuml.cluster.kmeans_mg.KMeansMG\\'>\")'\n",
      "\n",
      "2022-06-19 10:56:25,256 - distributed.worker - WARNING - Compute Failed\n",
      "Key:       _get_model_attr-38f4066c-363b-4207-9151-8ab9c0782db4\n",
      "Function:  _get_model_attr\n",
      "args:      (KMeansMG(), '_ipython_display_')\n",
      "kwargs:    {}\n",
      "Exception: 'AttributeError(\"Attribute _ipython_display_ does not exist on model <class \\'cuml.cluster.kmeans_mg.KMeansMG\\'>\")'\n",
      "\n",
      "2022-06-19 10:56:25,267 - distributed.worker - WARNING - Compute Failed\n",
      "Key:       _get_model_attr-c527ae0b-091b-4513-a85f-58ef237c9108\n",
      "Function:  _get_model_attr\n",
      "args:      (KMeansMG(), '_ipython_canary_method_should_not_exist_')\n",
      "kwargs:    {}\n",
      "Exception: 'AttributeError(\"Attribute _ipython_canary_method_should_not_exist_ does not exist on model <class \\'cuml.cluster.kmeans_mg.KMeansMG\\'>\")'\n",
      "\n",
      "2022-06-19 10:56:25,280 - distributed.worker - WARNING - Compute Failed\n",
      "Key:       _get_model_attr-19f462ba-4902-4073-b915-0c79e4e64ebf\n",
      "Function:  _get_model_attr\n",
      "args:      (KMeansMG(), '_repr_mimebundle_')\n",
      "kwargs:    {}\n",
      "Exception: 'AttributeError(\"Attribute _repr_mimebundle_ does not exist on model <class \\'cuml.cluster.kmeans_mg.KMeansMG\\'>\")'\n",
      "\n",
      "2022-06-19 10:56:25,293 - distributed.worker - WARNING - Compute Failed\n",
      "Key:       _get_model_attr-6a0e4b56-af32-49bb-bcb2-fdd897a0fff8\n",
      "Function:  _get_model_attr\n",
      "args:      (KMeansMG(), '_ipython_canary_method_should_not_exist_')\n",
      "kwargs:    {}\n",
      "Exception: 'AttributeError(\"Attribute _ipython_canary_method_should_not_exist_ does not exist on model <class \\'cuml.cluster.kmeans_mg.KMeansMG\\'>\")'\n",
      "\n",
      "2022-06-19 10:56:25,306 - distributed.worker - WARNING - Compute Failed\n",
      "Key:       _get_model_attr-6f51a033-d0a1-420d-95ae-badc5db6b529\n",
      "Function:  _get_model_attr\n",
      "args:      (KMeansMG(), '_repr_html_')\n",
      "kwargs:    {}\n",
      "Exception: 'AttributeError(\"Attribute _repr_html_ does not exist on model <class \\'cuml.cluster.kmeans_mg.KMeansMG\\'>\")'\n",
      "\n",
      "2022-06-19 10:56:25,320 - distributed.worker - WARNING - Compute Failed\n",
      "Key:       _get_model_attr-628ade1a-2cd4-4a44-8ca4-329f9d3b3f07\n",
      "Function:  _get_model_attr\n",
      "args:      (KMeansMG(), '_ipython_canary_method_should_not_exist_')\n",
      "kwargs:    {}\n",
      "Exception: 'AttributeError(\"Attribute _ipython_canary_method_should_not_exist_ does not exist on model <class \\'cuml.cluster.kmeans_mg.KMeansMG\\'>\")'\n",
      "\n",
      "2022-06-19 10:56:25,341 - distributed.worker - WARNING - Compute Failed\n",
      "Key:       _get_model_attr-4a75f8ca-b343-4d95-8e6c-318ed88d1092\n",
      "Function:  _get_model_attr\n",
      "args:      (KMeansMG(), '_repr_markdown_')\n",
      "kwargs:    {}\n",
      "Exception: 'AttributeError(\"Attribute _repr_markdown_ does not exist on model <class \\'cuml.cluster.kmeans_mg.KMeansMG\\'>\")'\n",
      "\n",
      "2022-06-19 10:56:25,361 - distributed.worker - WARNING - Compute Failed\n",
      "Key:       _get_model_attr-f8c00927-17ed-44e2-b5e5-1070a42bc308\n",
      "Function:  _get_model_attr\n",
      "args:      (KMeansMG(), '_ipython_canary_method_should_not_exist_')\n",
      "kwargs:    {}\n",
      "Exception: 'AttributeError(\"Attribute _ipython_canary_method_should_not_exist_ does not exist on model <class \\'cuml.cluster.kmeans_mg.KMeansMG\\'>\")'\n",
      "\n",
      "2022-06-19 10:56:25,376 - distributed.worker - WARNING - Compute Failed\n",
      "Key:       _get_model_attr-dd6dc4fe-2d92-408d-80ce-71895336ab2e\n",
      "Function:  _get_model_attr\n",
      "args:      (KMeansMG(), '_repr_svg_')\n",
      "kwargs:    {}\n",
      "Exception: 'AttributeError(\"Attribute _repr_svg_ does not exist on model <class \\'cuml.cluster.kmeans_mg.KMeansMG\\'>\")'\n",
      "\n",
      "2022-06-19 10:56:25,389 - distributed.worker - WARNING - Compute Failed\n",
      "Key:       _get_model_attr-efaf57ab-fccd-4bff-9670-706b4e77ea43\n",
      "Function:  _get_model_attr\n",
      "args:      (KMeansMG(), '_ipython_canary_method_should_not_exist_')\n",
      "kwargs:    {}\n",
      "Exception: 'AttributeError(\"Attribute _ipython_canary_method_should_not_exist_ does not exist on model <class \\'cuml.cluster.kmeans_mg.KMeansMG\\'>\")'\n",
      "\n",
      "2022-06-19 10:56:25,410 - distributed.worker - WARNING - Compute Failed\n",
      "Key:       _get_model_attr-bd2426a8-8e43-4bd4-b7e5-1569d9819eb4\n",
      "Function:  _get_model_attr\n",
      "args:      (KMeansMG(), '_repr_png_')\n",
      "kwargs:    {}\n",
      "Exception: 'AttributeError(\"Attribute _repr_png_ does not exist on model <class \\'cuml.cluster.kmeans_mg.KMeansMG\\'>\")'\n",
      "\n",
      "2022-06-19 10:56:25,424 - distributed.worker - WARNING - Compute Failed\n",
      "Key:       _get_model_attr-f9eb4517-2b24-4004-b993-5771b04920f7\n",
      "Function:  _get_model_attr\n",
      "args:      (KMeansMG(), '_ipython_canary_method_should_not_exist_')\n",
      "kwargs:    {}\n",
      "Exception: 'AttributeError(\"Attribute _ipython_canary_method_should_not_exist_ does not exist on model <class \\'cuml.cluster.kmeans_mg.KMeansMG\\'>\")'\n",
      "\n",
      "2022-06-19 10:56:25,437 - distributed.worker - WARNING - Compute Failed\n",
      "Key:       _get_model_attr-807ee45a-70e3-4881-9f5e-5b7a27326408\n",
      "Function:  _get_model_attr\n",
      "args:      (KMeansMG(), '_repr_pdf_')\n",
      "kwargs:    {}\n",
      "Exception: 'AttributeError(\"Attribute _repr_pdf_ does not exist on model <class \\'cuml.cluster.kmeans_mg.KMeansMG\\'>\")'\n",
      "\n"
     ]
    },
    {
     "name": "stderr",
     "output_type": "stream",
     "text": [
      "2022-06-19 10:56:25,457 - distributed.worker - WARNING - Compute Failed\n",
      "Key:       _get_model_attr-9ad39b3d-3299-4db9-8664-14058c4d5c6a\n",
      "Function:  _get_model_attr\n",
      "args:      (KMeansMG(), '_ipython_canary_method_should_not_exist_')\n",
      "kwargs:    {}\n",
      "Exception: 'AttributeError(\"Attribute _ipython_canary_method_should_not_exist_ does not exist on model <class \\'cuml.cluster.kmeans_mg.KMeansMG\\'>\")'\n",
      "\n",
      "2022-06-19 10:56:25,472 - distributed.worker - WARNING - Compute Failed\n",
      "Key:       _get_model_attr-1211a023-3083-4988-8306-dddceb608bdf\n",
      "Function:  _get_model_attr\n",
      "args:      (KMeansMG(), '_repr_jpeg_')\n",
      "kwargs:    {}\n",
      "Exception: 'AttributeError(\"Attribute _repr_jpeg_ does not exist on model <class \\'cuml.cluster.kmeans_mg.KMeansMG\\'>\")'\n",
      "\n",
      "2022-06-19 10:56:25,492 - distributed.worker - WARNING - Compute Failed\n",
      "Key:       _get_model_attr-179567d2-4801-4aaa-99b9-8b2fb8f2d7a1\n",
      "Function:  _get_model_attr\n",
      "args:      (KMeansMG(), '_ipython_canary_method_should_not_exist_')\n",
      "kwargs:    {}\n",
      "Exception: 'AttributeError(\"Attribute _ipython_canary_method_should_not_exist_ does not exist on model <class \\'cuml.cluster.kmeans_mg.KMeansMG\\'>\")'\n",
      "\n",
      "2022-06-19 10:56:25,506 - distributed.worker - WARNING - Compute Failed\n",
      "Key:       _get_model_attr-6dc62dfd-e8d5-47d8-b8b9-3a5ab9ef77cf\n",
      "Function:  _get_model_attr\n",
      "args:      (KMeansMG(), '_repr_latex_')\n",
      "kwargs:    {}\n",
      "Exception: 'AttributeError(\"Attribute _repr_latex_ does not exist on model <class \\'cuml.cluster.kmeans_mg.KMeansMG\\'>\")'\n",
      "\n",
      "2022-06-19 10:56:25,527 - distributed.worker - WARNING - Compute Failed\n",
      "Key:       _get_model_attr-c016f4a3-80be-4ec7-8949-ad423ec12cda\n",
      "Function:  _get_model_attr\n",
      "args:      (KMeansMG(), '_ipython_canary_method_should_not_exist_')\n",
      "kwargs:    {}\n",
      "Exception: 'AttributeError(\"Attribute _ipython_canary_method_should_not_exist_ does not exist on model <class \\'cuml.cluster.kmeans_mg.KMeansMG\\'>\")'\n",
      "\n",
      "2022-06-19 10:56:25,545 - distributed.worker - WARNING - Compute Failed\n",
      "Key:       _get_model_attr-65da3c0f-3bf3-4c2e-b4d0-1ad09bdf808e\n",
      "Function:  _get_model_attr\n",
      "args:      (KMeansMG(), '_repr_json_')\n",
      "kwargs:    {}\n",
      "Exception: 'AttributeError(\"Attribute _repr_json_ does not exist on model <class \\'cuml.cluster.kmeans_mg.KMeansMG\\'>\")'\n",
      "\n",
      "2022-06-19 10:56:25,564 - distributed.worker - WARNING - Compute Failed\n",
      "Key:       _get_model_attr-dc1cd8eb-e67e-401a-82f5-3de6ca351e16\n",
      "Function:  _get_model_attr\n",
      "args:      (KMeansMG(), '_ipython_canary_method_should_not_exist_')\n",
      "kwargs:    {}\n",
      "Exception: 'AttributeError(\"Attribute _ipython_canary_method_should_not_exist_ does not exist on model <class \\'cuml.cluster.kmeans_mg.KMeansMG\\'>\")'\n",
      "\n",
      "2022-06-19 10:56:25,577 - distributed.worker - WARNING - Compute Failed\n",
      "Key:       _get_model_attr-cb964bf1-7afb-4a92-866e-933ccecf9850\n",
      "Function:  _get_model_attr\n",
      "args:      (KMeansMG(), '_repr_javascript_')\n",
      "kwargs:    {}\n",
      "Exception: 'AttributeError(\"Attribute _repr_javascript_ does not exist on model <class \\'cuml.cluster.kmeans_mg.KMeansMG\\'>\")'\n",
      "\n"
     ]
    },
    {
     "data": {
      "text/plain": [
       "<cuml.dask.cluster.kmeans.KMeans at 0x7f24db15e760>"
      ]
     },
     "execution_count": 10,
     "metadata": {},
     "output_type": "execute_result"
    }
   ],
   "source": [
    "dist_model.fit(X)"
   ]
  },
  {
   "cell_type": "code",
   "execution_count": 11,
   "metadata": {
    "execution": {
     "iopub.execute_input": "2022-06-19T10:56:25.598686Z",
     "iopub.status.busy": "2022-06-19T10:56:25.598108Z",
     "iopub.status.idle": "2022-06-19T10:56:25.628498Z",
     "shell.execute_reply": "2022-06-19T10:56:25.626751Z"
    }
   },
   "outputs": [],
   "source": [
    "import pickle\n",
    "\n",
    "single_gpu_model = dist_model.get_combined_model()\n",
    "pickle.dump(single_gpu_model, open(\"kmeans_model.pkl\", \"wb\"))"
   ]
  },
  {
   "cell_type": "code",
   "execution_count": 12,
   "metadata": {
    "execution": {
     "iopub.execute_input": "2022-06-19T10:56:25.634170Z",
     "iopub.status.busy": "2022-06-19T10:56:25.633583Z",
     "iopub.status.idle": "2022-06-19T10:56:25.642735Z",
     "shell.execute_reply": "2022-06-19T10:56:25.641124Z"
    }
   },
   "outputs": [],
   "source": [
    "single_gpu_model = pickle.load(open(\"kmeans_model.pkl\", \"rb\"))"
   ]
  },
  {
   "cell_type": "code",
   "execution_count": 13,
   "metadata": {
    "execution": {
     "iopub.execute_input": "2022-06-19T10:56:25.649168Z",
     "iopub.status.busy": "2022-06-19T10:56:25.648638Z",
     "iopub.status.idle": "2022-06-19T10:56:25.663123Z",
     "shell.execute_reply": "2022-06-19T10:56:25.661616Z"
    }
   },
   "outputs": [
    {
     "data": {
      "text/plain": [
       "array([[-4.6475401e+00, -9.5672169e+00,  6.6923513e+00,  4.4359236e+00,\n",
       "         2.1902738e+00,  2.5834754e+00,  5.9448928e-01,  6.2568669e+00,\n",
       "        -8.7821636e+00, -4.1232011e-01,  9.8151779e+00,  7.5641575e+00,\n",
       "         1.0003010e+01, -5.8680429e+00, -1.2743106e+00, -2.5393453e+00,\n",
       "        -1.0847498e+00, -5.2629199e+00, -9.3071022e+00,  4.6179361e+00,\n",
       "        -9.7068958e-02, -3.9351206e+00,  6.1767278e+00, -7.4346876e+00,\n",
       "         5.6496072e+00, -8.5544853e+00, -7.5265574e+00, -5.5195599e+00,\n",
       "         4.8197632e+00,  2.5235438e+00],\n",
       "       [ 6.2794299e+00,  9.2293949e+00,  8.3403702e+00,  9.0330496e+00,\n",
       "         7.6893492e+00, -9.9538219e-01, -6.2780762e+00,  1.3599334e+00,\n",
       "        -6.9744487e+00, -5.9463463e+00,  1.0695117e+00, -8.0422498e-03,\n",
       "         2.8183143e+00,  1.8317667e+00, -8.2557354e+00,  3.0514319e+00,\n",
       "        -8.4958029e+00,  9.7238493e+00, -7.7455091e+00,  3.4521692e+00,\n",
       "        -3.9248335e+00, -4.1106420e+00,  2.6693091e+00,  1.2985630e+00,\n",
       "         1.0421573e+00,  5.2490621e+00, -1.6496238e+00,  6.1451659e+00,\n",
       "        -6.9103332e+00, -9.6390314e+00],\n",
       "       [-2.8796387e+00,  4.4348760e+00, -4.4264812e+00,  2.3959138e+00,\n",
       "         1.7286434e+00, -2.4991984e+00, -5.1794519e+00, -1.6771443e+00,\n",
       "        -8.1329174e+00,  2.6659226e+00, -4.3131094e+00,  5.5827813e+00,\n",
       "        -5.7318311e+00, -1.7427170e+00, -9.3456125e+00,  7.1365565e-01,\n",
       "         4.4255495e+00, -2.9118381e+00, -4.9467440e+00,  9.6786423e+00,\n",
       "         8.4222765e+00, -6.2710242e+00, -6.3596501e+00,  1.9645507e+00,\n",
       "         4.1715994e+00, -9.1683636e+00,  4.6156683e+00,  8.7916508e+00,\n",
       "         6.8754416e+00,  2.2288747e+00],\n",
       "       [-6.9536943e+00, -9.7635880e+00, -6.5648260e+00, -4.3536147e-01,\n",
       "         6.0998101e+00,  3.7550373e+00, -3.9558537e+00,  6.1595516e+00,\n",
       "        -1.8599318e+00,  5.0400305e+00, -6.8397541e+00,  1.3435432e+00,\n",
       "         8.9749022e+00, -9.9621761e-01,  9.6651936e+00,  9.8009644e+00,\n",
       "        -8.6188335e+00,  5.9978361e+00,  2.2295930e+00, -3.6477711e+00,\n",
       "         7.0758510e+00, -7.3772249e+00, -5.3214221e+00, -6.9927955e+00,\n",
       "        -7.9296327e+00,  6.6705360e+00, -5.5850177e+00,  7.1526051e+00,\n",
       "         6.5703216e+00, -8.3389397e+00],\n",
       "       [ 4.8136687e+00,  8.3985281e+00, -9.2161245e+00,  9.4185514e+00,\n",
       "         8.5280876e+00, -1.0969981e+00,  3.3253179e+00, -7.8064370e+00,\n",
       "        -5.9660625e-01,  2.5423869e-01,  5.5004096e+00, -4.1162968e+00,\n",
       "         4.2832375e+00, -2.8173411e+00,  3.6207721e+00, -4.1576214e+00,\n",
       "        -3.6048703e+00,  6.2125406e+00, -6.9081001e+00, -1.0732135e+00,\n",
       "        -5.8362117e+00,  2.2357666e+00, -3.8588791e+00, -1.6835878e+00,\n",
       "        -5.3240371e+00,  7.5769205e+00,  2.9358530e+00,  8.5267382e+00,\n",
       "         1.5667249e+00,  1.0779674e+00]], dtype=float32)"
      ]
     },
     "execution_count": 13,
     "metadata": {},
     "output_type": "execute_result"
    }
   ],
   "source": [
    "single_gpu_model.cluster_centers_"
   ]
  },
  {
   "cell_type": "markdown",
   "metadata": {},
   "source": [
    "## Exporting cuML Random Forest models for inferencing on machines without GPUs"
   ]
  },
  {
   "cell_type": "markdown",
   "metadata": {},
   "source": [
    "Starting with cuML version 21.06, you can export cuML Random Forest models and run predictions with them on machines without an NVIDIA GPUs. The [Treelite](https://github.com/dmlc/treelite) package defines an efficient exchange format that lets you portably move the cuML Random Forest models to other machines. We will refer to the exchange format as \"checkpoints.\"\n",
    "\n",
    "Here are the steps to export the model:\n",
    "\n",
    "1. Call `to_treelite_checkpoint()` to obtain the checkpoint file from the cuML Random Forest model."
   ]
  },
  {
   "cell_type": "code",
   "execution_count": 14,
   "metadata": {
    "execution": {
     "iopub.execute_input": "2022-06-19T10:56:25.669949Z",
     "iopub.status.busy": "2022-06-19T10:56:25.669446Z",
     "iopub.status.idle": "2022-06-19T10:56:25.787081Z",
     "shell.execute_reply": "2022-06-19T10:56:25.785374Z"
    }
   },
   "outputs": [
    {
     "name": "stderr",
     "output_type": "stream",
     "text": [
      "/opt/conda/envs/rapids/lib/python3.9/site-packages/cuml/internals/api_decorators.py:794: UserWarning: For reproducible results in Random Forest Classifier or for almost reproducible results in Random Forest Regressor, n_streams=1 is recommended. If n_streams is > 1, results may vary due to stream/thread timing differences, even when random_state is set\n",
      "  return func(**kwargs)\n"
     ]
    }
   ],
   "source": [
    "from cuml.ensemble import RandomForestClassifier as cumlRandomForestClassifier\n",
    "from sklearn.datasets import load_iris\n",
    "import numpy as np\n",
    "\n",
    "X, y = load_iris(return_X_y=True)\n",
    "X, y = X.astype(np.float32), y.astype(np.int32)\n",
    "clf = cumlRandomForestClassifier(max_depth=3, random_state=0, n_estimators=10)\n",
    "clf.fit(X, y)\n",
    "\n",
    "checkpoint_path = './checkpoint.tl'\n",
    "# Export cuML RF model as Treelite checkpoint\n",
    "clf.convert_to_treelite_model().to_treelite_checkpoint(checkpoint_path)"
   ]
  },
  {
   "cell_type": "markdown",
   "metadata": {},
   "source": [
    "2. Copy the generated checkpoint file `checkpoint.tl` to another machine on which you'd like to run predictions.\n",
    "\n",
    "3. On the target machine, install Treelite by running `pip install treelite` or `conda install -c conda-forge treelite`. The machine does not need to have an NVIDIA GPUs and does not need to have cuML installed.\n",
    "\n",
    "4. You can now load the model from the checkpoint, by running the following on the target machine:"
   ]
  },
  {
   "cell_type": "code",
   "execution_count": 15,
   "metadata": {
    "execution": {
     "iopub.execute_input": "2022-06-19T10:56:25.795089Z",
     "iopub.status.busy": "2022-06-19T10:56:25.794602Z",
     "iopub.status.idle": "2022-06-19T10:56:25.825691Z",
     "shell.execute_reply": "2022-06-19T10:56:25.824231Z"
    }
   },
   "outputs": [
    {
     "name": "stdout",
     "output_type": "stream",
     "text": [
      "[[1.         0.         0.        ]\n",
      " [1.         0.         0.        ]\n",
      " [1.         0.         0.        ]\n",
      " [1.         0.         0.        ]\n",
      " [1.         0.         0.        ]\n",
      " [1.         0.         0.        ]\n",
      " [1.         0.         0.        ]\n",
      " [1.         0.         0.        ]\n",
      " [1.         0.         0.        ]\n",
      " [1.         0.         0.        ]\n",
      " [1.         0.         0.        ]\n",
      " [1.         0.         0.        ]\n",
      " [1.         0.         0.        ]\n",
      " [1.         0.         0.        ]\n",
      " [1.         0.         0.        ]\n",
      " [1.         0.         0.        ]\n",
      " [1.         0.         0.        ]\n",
      " [1.         0.         0.        ]\n",
      " [0.9        0.1        0.        ]\n",
      " [1.         0.         0.        ]\n",
      " [1.         0.         0.        ]\n",
      " [1.         0.         0.        ]\n",
      " [1.         0.         0.        ]\n",
      " [1.         0.         0.        ]\n",
      " [1.         0.         0.        ]\n",
      " [1.         0.         0.        ]\n",
      " [1.         0.         0.        ]\n",
      " [1.         0.         0.        ]\n",
      " [1.         0.         0.        ]\n",
      " [1.         0.         0.        ]\n",
      " [1.         0.         0.        ]\n",
      " [1.         0.         0.        ]\n",
      " [1.         0.         0.        ]\n",
      " [1.         0.         0.        ]\n",
      " [1.         0.         0.        ]\n",
      " [1.         0.         0.        ]\n",
      " [1.         0.         0.        ]\n",
      " [1.         0.         0.        ]\n",
      " [1.         0.         0.        ]\n",
      " [1.         0.         0.        ]\n",
      " [1.         0.         0.        ]\n",
      " [1.         0.         0.        ]\n",
      " [1.         0.         0.        ]\n",
      " [1.         0.         0.        ]\n",
      " [1.         0.         0.        ]\n",
      " [1.         0.         0.        ]\n",
      " [1.         0.         0.        ]\n",
      " [1.         0.         0.        ]\n",
      " [1.         0.         0.        ]\n",
      " [1.         0.         0.        ]\n",
      " [0.         0.9981133  0.00188679]\n",
      " [0.         0.9981133  0.00188679]\n",
      " [0.         0.5274104  0.47258964]\n",
      " [0.         0.9870021  0.0129979 ]\n",
      " [0.         0.9981133  0.00188679]\n",
      " [0.         0.9981133  0.00188679]\n",
      " [0.         0.9981133  0.00188679]\n",
      " [0.         0.7036687  0.29633126]\n",
      " [0.         0.9981133  0.00188679]\n",
      " [0.         0.9870021  0.0129979 ]\n",
      " [0.         0.9536688  0.04633124]\n",
      " [0.         0.9981133  0.00188679]\n",
      " [0.         0.9981133  0.00188679]\n",
      " [0.         0.9981133  0.00188679]\n",
      " [0.         0.9981133  0.00188679]\n",
      " [0.         0.9981133  0.00188679]\n",
      " [0.         0.9981133  0.00188679]\n",
      " [0.         0.9981133  0.00188679]\n",
      " [0.         0.9981133  0.00188679]\n",
      " [0.         0.9981133  0.00188679]\n",
      " [0.         0.23634085 0.7636592 ]\n",
      " [0.         0.9981133  0.00188679]\n",
      " [0.         0.567213   0.432787  ]\n",
      " [0.         0.9981133  0.00188679]\n",
      " [0.         0.9981133  0.00188679]\n",
      " [0.         0.9981133  0.00188679]\n",
      " [0.         0.60401857 0.3959814 ]\n",
      " [0.         0.41788664 0.5821134 ]\n",
      " [0.         0.9981133  0.00188679]\n",
      " [0.         0.9981133  0.00188679]\n",
      " [0.         0.9870021  0.0129979 ]\n",
      " [0.         0.9870021  0.0129979 ]\n",
      " [0.         0.9981133  0.00188679]\n",
      " [0.         0.30794033 0.6920597 ]\n",
      " [0.1        0.89811325 0.00188679]\n",
      " [0.         0.9981133  0.00188679]\n",
      " [0.         0.9981133  0.00188679]\n",
      " [0.         0.9981133  0.00188679]\n",
      " [0.         0.9981133  0.00188679]\n",
      " [0.         0.9870021  0.0129979 ]\n",
      " [0.         0.9870021  0.0129979 ]\n",
      " [0.         0.9981133  0.00188679]\n",
      " [0.         0.9981133  0.00188679]\n",
      " [0.         0.9536688  0.04633124]\n",
      " [0.         0.9981133  0.00188679]\n",
      " [0.         0.9981133  0.00188679]\n",
      " [0.         0.9981133  0.00188679]\n",
      " [0.         0.9981133  0.00188679]\n",
      " [0.         0.9870021  0.0129979 ]\n",
      " [0.         0.9981133  0.00188679]\n",
      " [0.         0.01794118 0.9820588 ]\n",
      " [0.         0.05149381 0.9485062 ]\n",
      " [0.         0.01169118 0.9883088 ]\n",
      " [0.         0.01169118 0.9883088 ]\n",
      " [0.         0.01169118 0.9883088 ]\n",
      " [0.         0.01169118 0.9883088 ]\n",
      " [0.         0.5655735  0.4344265 ]\n",
      " [0.         0.01169118 0.9883088 ]\n",
      " [0.         0.05149381 0.9485062 ]\n",
      " [0.         0.01794118 0.9820588 ]\n",
      " [0.         0.01794118 0.9820588 ]\n",
      " [0.         0.05149381 0.9485062 ]\n",
      " [0.         0.01169118 0.9883088 ]\n",
      " [0.         0.19290936 0.80709064]\n",
      " [0.         0.03274381 0.9672562 ]\n",
      " [0.         0.01794118 0.9820588 ]\n",
      " [0.         0.01169118 0.9883088 ]\n",
      " [0.         0.01794118 0.9820588 ]\n",
      " [0.         0.05149381 0.9485062 ]\n",
      " [0.         0.44935593 0.5506441 ]\n",
      " [0.         0.01794118 0.9820588 ]\n",
      " [0.         0.2170165  0.78298354]\n",
      " [0.         0.03274381 0.9672562 ]\n",
      " [0.         0.2357665  0.7642335 ]\n",
      " [0.         0.01794118 0.9820588 ]\n",
      " [0.         0.01794118 0.9820588 ]\n",
      " [0.         0.2511435  0.74885654]\n",
      " [0.         0.19596387 0.80403614]\n",
      " [0.         0.03274381 0.9672562 ]\n",
      " [0.         0.10335784 0.8966421 ]\n",
      " [0.         0.03274381 0.9672562 ]\n",
      " [0.         0.01794118 0.9820588 ]\n",
      " [0.         0.03274381 0.9672562 ]\n",
      " [0.         0.28919035 0.7108097 ]\n",
      " [0.         0.20982714 0.79017293]\n",
      " [0.         0.01169118 0.9883088 ]\n",
      " [0.         0.01794118 0.9820588 ]\n",
      " [0.         0.01169118 0.9883088 ]\n",
      " [0.         0.23009086 0.7699092 ]\n",
      " [0.         0.01169118 0.9883088 ]\n",
      " [0.         0.01169118 0.9883088 ]\n",
      " [0.         0.01169118 0.9883088 ]\n",
      " [0.         0.05149381 0.9485062 ]\n",
      " [0.         0.01794118 0.9820588 ]\n",
      " [0.         0.01794118 0.9820588 ]\n",
      " [0.         0.01169118 0.9883088 ]\n",
      " [0.         0.19290936 0.80709064]\n",
      " [0.         0.01169118 0.9883088 ]\n",
      " [0.         0.01794118 0.9820588 ]\n",
      " [0.         0.01169118 0.9883088 ]]\n"
     ]
    }
   ],
   "source": [
    "import treelite\n",
    "\n",
    "# The checkpoint file has been copied over\n",
    "checkpoint_path = './checkpoint.tl'\n",
    "tl_model = treelite.Model.deserialize(checkpoint_path)\n",
    "out_prob = treelite.gtil.predict(tl_model, X, pred_margin=True)\n",
    "print(out_prob)"
   ]
  }
 ],
 "metadata": {
  "kernelspec": {
   "display_name": "Python 3",
   "language": "python",
   "name": "python3"
  },
  "language_info": {
   "codemirror_mode": {
    "name": "ipython",
    "version": 3
   },
   "file_extension": ".py",
   "mimetype": "text/x-python",
   "name": "python",
   "nbconvert_exporter": "python",
   "pygments_lexer": "ipython3",
   "version": "3.9.7"
  }
 },
 "nbformat": 4,
 "nbformat_minor": 4
}
