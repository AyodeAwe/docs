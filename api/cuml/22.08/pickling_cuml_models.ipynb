{
 "cells": [
  {
   "cell_type": "markdown",
   "metadata": {},
   "source": [
    "# Pickling cuML Models for Persistence\n",
    "\n",
    "This notebook demonstrates simple pickling of both single-GPU and multi-GPU cuML models for persistence"
   ]
  },
  {
   "cell_type": "code",
   "execution_count": 1,
   "metadata": {
    "execution": {
     "iopub.execute_input": "2022-08-04T10:53:04.934217Z",
     "iopub.status.busy": "2022-08-04T10:53:04.933577Z",
     "iopub.status.idle": "2022-08-04T10:53:04.948202Z",
     "shell.execute_reply": "2022-08-04T10:53:04.947374Z"
    }
   },
   "outputs": [],
   "source": [
    "import warnings\n",
    "warnings.filterwarnings(\"ignore\", category=FutureWarning)"
   ]
  },
  {
   "cell_type": "markdown",
   "metadata": {},
   "source": [
    "## Single GPU Model Pickling\n",
    "\n",
    "All single-GPU estimators are pickleable. The following example demonstrates the creation of a synthetic dataset, training, and pickling of the resulting model for storage. Trained single-GPU models can also be used to distribute the inference on a Dask cluster, which the `Distributed Model Pickling` section below demonstrates."
   ]
  },
  {
   "cell_type": "code",
   "execution_count": 2,
   "metadata": {
    "execution": {
     "iopub.execute_input": "2022-08-04T10:53:04.953836Z",
     "iopub.status.busy": "2022-08-04T10:53:04.953371Z",
     "iopub.status.idle": "2022-08-04T10:53:11.571103Z",
     "shell.execute_reply": "2022-08-04T10:53:11.570095Z"
    }
   },
   "outputs": [],
   "source": [
    "from cuml.datasets import make_blobs\n",
    "\n",
    "X, y = make_blobs(n_samples=50,\n",
    "                  n_features=10,\n",
    "                  centers=5,\n",
    "                  cluster_std=0.4,\n",
    "                  random_state=0)"
   ]
  },
  {
   "cell_type": "code",
   "execution_count": 3,
   "metadata": {
    "execution": {
     "iopub.execute_input": "2022-08-04T10:53:11.577175Z",
     "iopub.status.busy": "2022-08-04T10:53:11.576847Z",
     "iopub.status.idle": "2022-08-04T10:53:11.845638Z",
     "shell.execute_reply": "2022-08-04T10:53:11.844839Z"
    }
   },
   "outputs": [
    {
     "data": {
      "text/plain": [
       "KMeans()"
      ]
     },
     "execution_count": 3,
     "metadata": {},
     "output_type": "execute_result"
    }
   ],
   "source": [
    "from cuml.cluster import KMeans\n",
    "\n",
    "model = KMeans(n_clusters=5)\n",
    "\n",
    "model.fit(X)"
   ]
  },
  {
   "cell_type": "code",
   "execution_count": 4,
   "metadata": {
    "execution": {
     "iopub.execute_input": "2022-08-04T10:53:11.850444Z",
     "iopub.status.busy": "2022-08-04T10:53:11.850156Z",
     "iopub.status.idle": "2022-08-04T10:53:11.855230Z",
     "shell.execute_reply": "2022-08-04T10:53:11.854411Z"
    }
   },
   "outputs": [],
   "source": [
    "import pickle\n",
    "\n",
    "pickle.dump(model, open(\"kmeans_model.pkl\", \"wb\"))"
   ]
  },
  {
   "cell_type": "code",
   "execution_count": 5,
   "metadata": {
    "execution": {
     "iopub.execute_input": "2022-08-04T10:53:11.859609Z",
     "iopub.status.busy": "2022-08-04T10:53:11.859328Z",
     "iopub.status.idle": "2022-08-04T10:53:11.864586Z",
     "shell.execute_reply": "2022-08-04T10:53:11.863613Z"
    }
   },
   "outputs": [],
   "source": [
    "model = pickle.load(open(\"kmeans_model.pkl\", \"rb\"))"
   ]
  },
  {
   "cell_type": "code",
   "execution_count": 6,
   "metadata": {
    "execution": {
     "iopub.execute_input": "2022-08-04T10:53:11.868682Z",
     "iopub.status.busy": "2022-08-04T10:53:11.868336Z",
     "iopub.status.idle": "2022-08-04T10:53:11.876716Z",
     "shell.execute_reply": "2022-08-04T10:53:11.875669Z"
    }
   },
   "outputs": [
    {
     "data": {
      "text/plain": [
       "array([[ 4.6749854 ,  8.213466  , -9.075721  ,  9.568374  ,  8.454808  ,\n",
       "        -1.2327974 ,  3.390371  , -7.828242  , -0.84544617,  0.6288572 ],\n",
       "       [-4.243999  ,  5.610707  , -5.669777  , -1.7957243 , -9.255528  ,\n",
       "         0.7177438 ,  4.4435897 , -2.8747156 , -5.0900965 ,  9.684121  ],\n",
       "       [ 5.2615476 , -4.0487256 ,  4.464928  , -2.9367518 ,  3.5061095 ,\n",
       "        -4.0168314 , -3.463885  ,  6.078449  , -6.953326  , -1.004144  ],\n",
       "       [-3.008261  ,  4.6259604 , -4.4832487 ,  2.228457  ,  1.6435319 ,\n",
       "        -2.4505196 , -5.258201  , -1.6679403 , -7.9857535 ,  2.8311467 ],\n",
       "       [-5.6072407 ,  2.2695985 , -3.7516537 , -1.8182003 , -5.143028  ,\n",
       "         7.599363  ,  2.8252366 ,  8.773042  ,  1.6198314 ,  1.1772048 ]],\n",
       "      dtype=float32)"
      ]
     },
     "execution_count": 6,
     "metadata": {},
     "output_type": "execute_result"
    }
   ],
   "source": [
    "model.cluster_centers_"
   ]
  },
  {
   "cell_type": "markdown",
   "metadata": {},
   "source": [
    "## Distributed Model Pickling"
   ]
  },
  {
   "cell_type": "markdown",
   "metadata": {},
   "source": [
    "The distributed estimator wrappers inside of the `cuml.dask` are not intended to be pickled directly. The Dask cuML estimators provide a function `get_combined_model()`, which returns the trained single-GPU model for pickling. The combined model can be used for inference on a single-GPU, and the `ParallelPostFit` wrapper from the [Dask-ML](https://ml.dask.org/meta-estimators.html) library can be used to perform distributed inference on a Dask cluster."
   ]
  },
  {
   "cell_type": "code",
   "execution_count": 7,
   "metadata": {
    "execution": {
     "iopub.execute_input": "2022-08-04T10:53:11.881047Z",
     "iopub.status.busy": "2022-08-04T10:53:11.880685Z",
     "iopub.status.idle": "2022-08-04T10:53:15.695579Z",
     "shell.execute_reply": "2022-08-04T10:53:15.694233Z"
    }
   },
   "outputs": [
    {
     "name": "stderr",
     "output_type": "stream",
     "text": [
      "2022-08-04 10:53:15,180 - distributed.preloading - INFO - Creating preload: dask_cuda.initialize\n",
      "2022-08-04 10:53:15,180 - distributed.preloading - INFO - Import preload module: dask_cuda.initialize\n"
     ]
    },
    {
     "data": {
      "text/html": [
       "<div>\n",
       "    <div style=\"width: 24px; height: 24px; background-color: #e1e1e1; border: 3px solid #9D9D9D; border-radius: 5px; position: absolute;\"> </div>\n",
       "    <div style=\"margin-left: 48px;\">\n",
       "        <h3 style=\"margin-bottom: 0px;\">Client</h3>\n",
       "        <p style=\"color: #9D9D9D; margin-bottom: 0px;\">Client-a4785acd-13e3-11ed-9032-1be1e0949593</p>\n",
       "        <table style=\"width: 100%; text-align: left;\">\n",
       "\n",
       "        <tr>\n",
       "        \n",
       "            <td style=\"text-align: left;\"><strong>Connection method:</strong> Cluster object</td>\n",
       "            <td style=\"text-align: left;\"><strong>Cluster type:</strong> dask_cuda.LocalCUDACluster</td>\n",
       "        \n",
       "        </tr>\n",
       "\n",
       "        \n",
       "            <tr>\n",
       "                <td style=\"text-align: left;\">\n",
       "                    <strong>Dashboard: </strong> <a href=\"http://127.0.0.1:8787/status\" target=\"_blank\">http://127.0.0.1:8787/status</a>\n",
       "                </td>\n",
       "                <td style=\"text-align: left;\"></td>\n",
       "            </tr>\n",
       "        \n",
       "\n",
       "        </table>\n",
       "\n",
       "        \n",
       "            <details>\n",
       "            <summary style=\"margin-bottom: 20px;\"><h3 style=\"display: inline;\">Cluster Info</h3></summary>\n",
       "            <div class=\"jp-RenderedHTMLCommon jp-RenderedHTML jp-mod-trusted jp-OutputArea-output\">\n",
       "    <div style=\"width: 24px; height: 24px; background-color: #e1e1e1; border: 3px solid #9D9D9D; border-radius: 5px; position: absolute;\">\n",
       "    </div>\n",
       "    <div style=\"margin-left: 48px;\">\n",
       "        <h3 style=\"margin-bottom: 0px; margin-top: 0px;\">LocalCUDACluster</h3>\n",
       "        <p style=\"color: #9D9D9D; margin-bottom: 0px;\">be0ed0cd</p>\n",
       "        <table style=\"width: 100%; text-align: left;\">\n",
       "            <tr>\n",
       "                <td style=\"text-align: left;\">\n",
       "                    <strong>Dashboard:</strong> <a href=\"http://127.0.0.1:8787/status\" target=\"_blank\">http://127.0.0.1:8787/status</a>\n",
       "                </td>\n",
       "                <td style=\"text-align: left;\">\n",
       "                    <strong>Workers:</strong> 1\n",
       "                </td>\n",
       "            </tr>\n",
       "            <tr>\n",
       "                <td style=\"text-align: left;\">\n",
       "                    <strong>Total threads:</strong> 1\n",
       "                </td>\n",
       "                <td style=\"text-align: left;\">\n",
       "                    <strong>Total memory:</strong> 251.79 GiB\n",
       "                </td>\n",
       "            </tr>\n",
       "            \n",
       "            <tr>\n",
       "    <td style=\"text-align: left;\"><strong>Status:</strong> running</td>\n",
       "    <td style=\"text-align: left;\"><strong>Using processes:</strong> True</td>\n",
       "</tr>\n",
       "\n",
       "            \n",
       "        </table>\n",
       "\n",
       "        <details>\n",
       "            <summary style=\"margin-bottom: 20px;\">\n",
       "                <h3 style=\"display: inline;\">Scheduler Info</h3>\n",
       "            </summary>\n",
       "\n",
       "            <div style=\"\">\n",
       "    <div>\n",
       "        <div style=\"width: 24px; height: 24px; background-color: #FFF7E5; border: 3px solid #FF6132; border-radius: 5px; position: absolute;\"> </div>\n",
       "        <div style=\"margin-left: 48px;\">\n",
       "            <h3 style=\"margin-bottom: 0px;\">Scheduler</h3>\n",
       "            <p style=\"color: #9D9D9D; margin-bottom: 0px;\">Scheduler-a4b4dcf3-3297-459d-be20-d49d74df88a7</p>\n",
       "            <table style=\"width: 100%; text-align: left;\">\n",
       "                <tr>\n",
       "                    <td style=\"text-align: left;\">\n",
       "                        <strong>Comm:</strong> tcp://127.0.0.1:42273\n",
       "                    </td>\n",
       "                    <td style=\"text-align: left;\">\n",
       "                        <strong>Workers:</strong> 1\n",
       "                    </td>\n",
       "                </tr>\n",
       "                <tr>\n",
       "                    <td style=\"text-align: left;\">\n",
       "                        <strong>Dashboard:</strong> <a href=\"http://127.0.0.1:8787/status\" target=\"_blank\">http://127.0.0.1:8787/status</a>\n",
       "                    </td>\n",
       "                    <td style=\"text-align: left;\">\n",
       "                        <strong>Total threads:</strong> 1\n",
       "                    </td>\n",
       "                </tr>\n",
       "                <tr>\n",
       "                    <td style=\"text-align: left;\">\n",
       "                        <strong>Started:</strong> Just now\n",
       "                    </td>\n",
       "                    <td style=\"text-align: left;\">\n",
       "                        <strong>Total memory:</strong> 251.79 GiB\n",
       "                    </td>\n",
       "                </tr>\n",
       "            </table>\n",
       "        </div>\n",
       "    </div>\n",
       "\n",
       "    <details style=\"margin-left: 48px;\">\n",
       "        <summary style=\"margin-bottom: 20px;\">\n",
       "            <h3 style=\"display: inline;\">Workers</h3>\n",
       "        </summary>\n",
       "\n",
       "        \n",
       "        <div style=\"margin-bottom: 20px;\">\n",
       "            <div style=\"width: 24px; height: 24px; background-color: #DBF5FF; border: 3px solid #4CC9FF; border-radius: 5px; position: absolute;\"> </div>\n",
       "            <div style=\"margin-left: 48px;\">\n",
       "            <details>\n",
       "                <summary>\n",
       "                    <h4 style=\"margin-bottom: 0px; display: inline;\">Worker: 0</h4>\n",
       "                </summary>\n",
       "                <table style=\"width: 100%; text-align: left;\">\n",
       "                    <tr>\n",
       "                        <td style=\"text-align: left;\">\n",
       "                            <strong>Comm: </strong> tcp://127.0.0.1:42651\n",
       "                        </td>\n",
       "                        <td style=\"text-align: left;\">\n",
       "                            <strong>Total threads: </strong> 1\n",
       "                        </td>\n",
       "                    </tr>\n",
       "                    <tr>\n",
       "                        <td style=\"text-align: left;\">\n",
       "                            <strong>Dashboard: </strong> <a href=\"http://127.0.0.1:46845/status\" target=\"_blank\">http://127.0.0.1:46845/status</a>\n",
       "                        </td>\n",
       "                        <td style=\"text-align: left;\">\n",
       "                            <strong>Memory: </strong> 251.79 GiB\n",
       "                        </td>\n",
       "                    </tr>\n",
       "                    <tr>\n",
       "                        <td style=\"text-align: left;\">\n",
       "                            <strong>Nanny: </strong> tcp://127.0.0.1:42501\n",
       "                        </td>\n",
       "                        <td style=\"text-align: left;\"></td>\n",
       "                    </tr>\n",
       "                    <tr>\n",
       "                        <td colspan=\"2\" style=\"text-align: left;\">\n",
       "                            <strong>Local directory: </strong> /tmp/dask-worker-space/worker-oy_pdx7d\n",
       "                        </td>\n",
       "                    </tr>\n",
       "\n",
       "                    \n",
       "                    <tr>\n",
       "                        <td style=\"text-align: left;\">\n",
       "                            <strong>GPU: </strong>Tesla V100-PCIE-32GB\n",
       "                        </td>\n",
       "                        <td style=\"text-align: left;\">\n",
       "                            <strong>GPU memory: </strong> 31.75 GiB\n",
       "                        </td>\n",
       "                    </tr>\n",
       "                    \n",
       "\n",
       "                    \n",
       "\n",
       "                </table>\n",
       "            </details>\n",
       "            </div>\n",
       "        </div>\n",
       "        \n",
       "\n",
       "    </details>\n",
       "</div>\n",
       "\n",
       "        </details>\n",
       "    </div>\n",
       "</div>\n",
       "            </details>\n",
       "        \n",
       "\n",
       "    </div>\n",
       "</div>"
      ],
      "text/plain": [
       "<Client: 'tcp://127.0.0.1:42273' processes=1 threads=1, memory=251.79 GiB>"
      ]
     },
     "execution_count": 7,
     "metadata": {},
     "output_type": "execute_result"
    }
   ],
   "source": [
    "from dask.distributed import Client\n",
    "from dask_cuda import LocalCUDACluster\n",
    "\n",
    "cluster = LocalCUDACluster()\n",
    "client = Client(cluster)\n",
    "client"
   ]
  },
  {
   "cell_type": "code",
   "execution_count": 8,
   "metadata": {
    "execution": {
     "iopub.execute_input": "2022-08-04T10:53:15.700769Z",
     "iopub.status.busy": "2022-08-04T10:53:15.700466Z",
     "iopub.status.idle": "2022-08-04T10:53:16.554973Z",
     "shell.execute_reply": "2022-08-04T10:53:16.545013Z"
    }
   },
   "outputs": [],
   "source": [
    "from cuml.dask.datasets import make_blobs\n",
    "\n",
    "n_workers = len(client.scheduler_info()[\"workers\"].keys())\n",
    "\n",
    "X, y = make_blobs(n_samples=5000, \n",
    "                  n_features=30,\n",
    "                  centers=5, \n",
    "                  cluster_std=0.4, \n",
    "                  random_state=0,\n",
    "                  n_parts=n_workers*5)\n",
    "\n",
    "X = X.persist()\n",
    "y = y.persist()"
   ]
  },
  {
   "cell_type": "code",
   "execution_count": 9,
   "metadata": {
    "execution": {
     "iopub.execute_input": "2022-08-04T10:53:16.561917Z",
     "iopub.status.busy": "2022-08-04T10:53:16.561346Z",
     "iopub.status.idle": "2022-08-04T10:53:16.567987Z",
     "shell.execute_reply": "2022-08-04T10:53:16.566768Z"
    }
   },
   "outputs": [],
   "source": [
    "from cuml.dask.cluster import KMeans\n",
    "\n",
    "dist_model = KMeans(n_clusters=5)"
   ]
  },
  {
   "cell_type": "code",
   "execution_count": 10,
   "metadata": {
    "execution": {
     "iopub.execute_input": "2022-08-04T10:53:16.571980Z",
     "iopub.status.busy": "2022-08-04T10:53:16.571552Z",
     "iopub.status.idle": "2022-08-04T10:53:21.964118Z",
     "shell.execute_reply": "2022-08-04T10:53:21.962526Z"
    }
   },
   "outputs": [
    {
     "name": "stderr",
     "output_type": "stream",
     "text": [
      "2022-08-04 10:53:21,654 - distributed.worker - WARNING - Compute Failed\n",
      "Key:       _get_model_attr-da29cfc1-6aa0-4cf4-bf73-9acf6851966e\n",
      "Function:  _get_model_attr\n",
      "args:      (KMeansMG(), '_ipython_canary_method_should_not_exist_')\n",
      "kwargs:    {}\n",
      "Exception: 'AttributeError(\"Attribute _ipython_canary_method_should_not_exist_ does not exist on model <class \\'cuml.cluster.kmeans_mg.KMeansMG\\'>\")'\n",
      "\n",
      "2022-08-04 10:53:21,674 - distributed.worker - WARNING - Compute Failed\n",
      "Key:       _get_model_attr-59c5bc50-cae0-43ff-9779-663eed66595b\n",
      "Function:  _get_model_attr\n",
      "args:      (KMeansMG(), '_ipython_display_')\n",
      "kwargs:    {}\n",
      "Exception: 'AttributeError(\"Attribute _ipython_display_ does not exist on model <class \\'cuml.cluster.kmeans_mg.KMeansMG\\'>\")'\n",
      "\n",
      "2022-08-04 10:53:21,685 - distributed.worker - WARNING - Compute Failed\n",
      "Key:       _get_model_attr-69588a92-f2f9-4a20-a8a9-da0d8c906d1b\n",
      "Function:  _get_model_attr\n",
      "args:      (KMeansMG(), '_ipython_canary_method_should_not_exist_')\n",
      "kwargs:    {}\n",
      "Exception: 'AttributeError(\"Attribute _ipython_canary_method_should_not_exist_ does not exist on model <class \\'cuml.cluster.kmeans_mg.KMeansMG\\'>\")'\n",
      "\n",
      "2022-08-04 10:53:21,699 - distributed.worker - WARNING - Compute Failed\n",
      "Key:       _get_model_attr-6bd8da03-634e-4293-bfb2-b1287b9b0e1d\n",
      "Function:  _get_model_attr\n",
      "args:      (KMeansMG(), '_repr_mimebundle_')\n",
      "kwargs:    {}\n",
      "Exception: 'AttributeError(\"Attribute _repr_mimebundle_ does not exist on model <class \\'cuml.cluster.kmeans_mg.KMeansMG\\'>\")'\n",
      "\n",
      "2022-08-04 10:53:21,711 - distributed.worker - WARNING - Compute Failed\n",
      "Key:       _get_model_attr-6781c7e5-9468-4409-9868-01132b60491f\n",
      "Function:  _get_model_attr\n",
      "args:      (KMeansMG(), '_ipython_canary_method_should_not_exist_')\n",
      "kwargs:    {}\n",
      "Exception: 'AttributeError(\"Attribute _ipython_canary_method_should_not_exist_ does not exist on model <class \\'cuml.cluster.kmeans_mg.KMeansMG\\'>\")'\n",
      "\n",
      "2022-08-04 10:53:21,723 - distributed.worker - WARNING - Compute Failed\n",
      "Key:       _get_model_attr-8a76f897-7165-4914-9b01-4e08da566a00\n",
      "Function:  _get_model_attr\n",
      "args:      (KMeansMG(), '_repr_html_')\n",
      "kwargs:    {}\n",
      "Exception: 'AttributeError(\"Attribute _repr_html_ does not exist on model <class \\'cuml.cluster.kmeans_mg.KMeansMG\\'>\")'\n",
      "\n",
      "2022-08-04 10:53:21,744 - distributed.worker - WARNING - Compute Failed\n",
      "Key:       _get_model_attr-ca75ed62-24ec-489d-ae9a-4d95c2e9bf95\n",
      "Function:  _get_model_attr\n",
      "args:      (KMeansMG(), '_ipython_canary_method_should_not_exist_')\n",
      "kwargs:    {}\n",
      "Exception: 'AttributeError(\"Attribute _ipython_canary_method_should_not_exist_ does not exist on model <class \\'cuml.cluster.kmeans_mg.KMeansMG\\'>\")'\n",
      "\n",
      "2022-08-04 10:53:21,757 - distributed.worker - WARNING - Compute Failed\n",
      "Key:       _get_model_attr-4e9a75f6-b0cb-4b9f-b467-0e47b738601c\n",
      "Function:  _get_model_attr\n",
      "args:      (KMeansMG(), '_repr_markdown_')\n",
      "kwargs:    {}\n",
      "Exception: 'AttributeError(\"Attribute _repr_markdown_ does not exist on model <class \\'cuml.cluster.kmeans_mg.KMeansMG\\'>\")'\n",
      "\n",
      "2022-08-04 10:53:21,770 - distributed.worker - WARNING - Compute Failed\n",
      "Key:       _get_model_attr-943e8f07-50b5-498c-bf20-a3b5f31e067e\n",
      "Function:  _get_model_attr\n",
      "args:      (KMeansMG(), '_ipython_canary_method_should_not_exist_')\n",
      "kwargs:    {}\n",
      "Exception: 'AttributeError(\"Attribute _ipython_canary_method_should_not_exist_ does not exist on model <class \\'cuml.cluster.kmeans_mg.KMeansMG\\'>\")'\n",
      "\n",
      "2022-08-04 10:53:21,782 - distributed.worker - WARNING - Compute Failed\n",
      "Key:       _get_model_attr-e3c8db8f-5971-4bc9-9dd9-10ed6c03fe74\n",
      "Function:  _get_model_attr\n",
      "args:      (KMeansMG(), '_repr_svg_')\n",
      "kwargs:    {}\n",
      "Exception: 'AttributeError(\"Attribute _repr_svg_ does not exist on model <class \\'cuml.cluster.kmeans_mg.KMeansMG\\'>\")'\n",
      "\n",
      "2022-08-04 10:53:21,794 - distributed.worker - WARNING - Compute Failed\n",
      "Key:       _get_model_attr-ec317113-f28f-4300-aaad-fa21148aa94b\n",
      "Function:  _get_model_attr\n",
      "args:      (KMeansMG(), '_ipython_canary_method_should_not_exist_')\n",
      "kwargs:    {}\n",
      "Exception: 'AttributeError(\"Attribute _ipython_canary_method_should_not_exist_ does not exist on model <class \\'cuml.cluster.kmeans_mg.KMeansMG\\'>\")'\n",
      "\n",
      "2022-08-04 10:53:21,806 - distributed.worker - WARNING - Compute Failed\n",
      "Key:       _get_model_attr-2a1ba8b7-9f77-4fb4-beb2-863e87f613d5\n",
      "Function:  _get_model_attr\n",
      "args:      (KMeansMG(), '_repr_png_')\n",
      "kwargs:    {}\n",
      "Exception: 'AttributeError(\"Attribute _repr_png_ does not exist on model <class \\'cuml.cluster.kmeans_mg.KMeansMG\\'>\")'\n",
      "\n",
      "2022-08-04 10:53:21,819 - distributed.worker - WARNING - Compute Failed\n",
      "Key:       _get_model_attr-b64a0999-4d73-4511-8f13-a9784961e254\n",
      "Function:  _get_model_attr\n",
      "args:      (KMeansMG(), '_ipython_canary_method_should_not_exist_')\n",
      "kwargs:    {}\n",
      "Exception: 'AttributeError(\"Attribute _ipython_canary_method_should_not_exist_ does not exist on model <class \\'cuml.cluster.kmeans_mg.KMeansMG\\'>\")'\n",
      "\n",
      "2022-08-04 10:53:21,833 - distributed.worker - WARNING - Compute Failed\n",
      "Key:       _get_model_attr-478e3c88-0952-4704-87b2-55d72dfeabc9\n",
      "Function:  _get_model_attr\n",
      "args:      (KMeansMG(), '_repr_pdf_')\n",
      "kwargs:    {}\n",
      "Exception: 'AttributeError(\"Attribute _repr_pdf_ does not exist on model <class \\'cuml.cluster.kmeans_mg.KMeansMG\\'>\")'\n",
      "\n",
      "2022-08-04 10:53:21,845 - distributed.worker - WARNING - Compute Failed\n",
      "Key:       _get_model_attr-5ce4702a-e3dd-4466-9b0b-6b59acc10e64\n",
      "Function:  _get_model_attr\n",
      "args:      (KMeansMG(), '_ipython_canary_method_should_not_exist_')\n",
      "kwargs:    {}\n",
      "Exception: 'AttributeError(\"Attribute _ipython_canary_method_should_not_exist_ does not exist on model <class \\'cuml.cluster.kmeans_mg.KMeansMG\\'>\")'\n",
      "\n"
     ]
    },
    {
     "name": "stderr",
     "output_type": "stream",
     "text": [
      "2022-08-04 10:53:21,857 - distributed.worker - WARNING - Compute Failed\n",
      "Key:       _get_model_attr-2254cf79-0034-4378-9352-38739adbc44c\n",
      "Function:  _get_model_attr\n",
      "args:      (KMeansMG(), '_repr_jpeg_')\n",
      "kwargs:    {}\n",
      "Exception: 'AttributeError(\"Attribute _repr_jpeg_ does not exist on model <class \\'cuml.cluster.kmeans_mg.KMeansMG\\'>\")'\n",
      "\n",
      "2022-08-04 10:53:21,878 - distributed.worker - WARNING - Compute Failed\n",
      "Key:       _get_model_attr-1773be1d-7f39-4c7b-90ff-3901ccf65038\n",
      "Function:  _get_model_attr\n",
      "args:      (KMeansMG(), '_ipython_canary_method_should_not_exist_')\n",
      "kwargs:    {}\n",
      "Exception: 'AttributeError(\"Attribute _ipython_canary_method_should_not_exist_ does not exist on model <class \\'cuml.cluster.kmeans_mg.KMeansMG\\'>\")'\n",
      "\n",
      "2022-08-04 10:53:21,892 - distributed.worker - WARNING - Compute Failed\n",
      "Key:       _get_model_attr-7f25e99f-e2d2-47f2-8a68-7c0110f38f57\n",
      "Function:  _get_model_attr\n",
      "args:      (KMeansMG(), '_repr_latex_')\n",
      "kwargs:    {}\n",
      "Exception: 'AttributeError(\"Attribute _repr_latex_ does not exist on model <class \\'cuml.cluster.kmeans_mg.KMeansMG\\'>\")'\n",
      "\n",
      "2022-08-04 10:53:21,913 - distributed.worker - WARNING - Compute Failed\n",
      "Key:       _get_model_attr-d2bd59b3-c262-4bfb-933f-42c977081a84\n",
      "Function:  _get_model_attr\n",
      "args:      (KMeansMG(), '_ipython_canary_method_should_not_exist_')\n",
      "kwargs:    {}\n",
      "Exception: 'AttributeError(\"Attribute _ipython_canary_method_should_not_exist_ does not exist on model <class \\'cuml.cluster.kmeans_mg.KMeansMG\\'>\")'\n",
      "\n",
      "2022-08-04 10:53:21,926 - distributed.worker - WARNING - Compute Failed\n",
      "Key:       _get_model_attr-7fbd8f62-7416-4282-85e7-631ff9b96e3b\n",
      "Function:  _get_model_attr\n",
      "args:      (KMeansMG(), '_repr_json_')\n",
      "kwargs:    {}\n",
      "Exception: 'AttributeError(\"Attribute _repr_json_ does not exist on model <class \\'cuml.cluster.kmeans_mg.KMeansMG\\'>\")'\n",
      "\n",
      "2022-08-04 10:53:21,938 - distributed.worker - WARNING - Compute Failed\n",
      "Key:       _get_model_attr-10fa0e9b-8679-4e17-baa5-b4bad35fe1b2\n",
      "Function:  _get_model_attr\n",
      "args:      (KMeansMG(), '_ipython_canary_method_should_not_exist_')\n",
      "kwargs:    {}\n",
      "Exception: 'AttributeError(\"Attribute _ipython_canary_method_should_not_exist_ does not exist on model <class \\'cuml.cluster.kmeans_mg.KMeansMG\\'>\")'\n",
      "\n",
      "2022-08-04 10:53:21,952 - distributed.worker - WARNING - Compute Failed\n",
      "Key:       _get_model_attr-d5178342-72a9-4557-a73d-d3f6cf924590\n",
      "Function:  _get_model_attr\n",
      "args:      (KMeansMG(), '_repr_javascript_')\n",
      "kwargs:    {}\n",
      "Exception: 'AttributeError(\"Attribute _repr_javascript_ does not exist on model <class \\'cuml.cluster.kmeans_mg.KMeansMG\\'>\")'\n",
      "\n"
     ]
    },
    {
     "data": {
      "text/plain": [
       "<cuml.dask.cluster.kmeans.KMeans at 0x7f802219d430>"
      ]
     },
     "execution_count": 10,
     "metadata": {},
     "output_type": "execute_result"
    }
   ],
   "source": [
    "dist_model.fit(X)"
   ]
  },
  {
   "cell_type": "code",
   "execution_count": 11,
   "metadata": {
    "execution": {
     "iopub.execute_input": "2022-08-04T10:53:21.970722Z",
     "iopub.status.busy": "2022-08-04T10:53:21.970135Z",
     "iopub.status.idle": "2022-08-04T10:53:21.993215Z",
     "shell.execute_reply": "2022-08-04T10:53:21.991682Z"
    }
   },
   "outputs": [],
   "source": [
    "import pickle\n",
    "\n",
    "single_gpu_model = dist_model.get_combined_model()\n",
    "pickle.dump(single_gpu_model, open(\"kmeans_model.pkl\", \"wb\"))"
   ]
  },
  {
   "cell_type": "code",
   "execution_count": 12,
   "metadata": {
    "execution": {
     "iopub.execute_input": "2022-08-04T10:53:21.998905Z",
     "iopub.status.busy": "2022-08-04T10:53:21.998324Z",
     "iopub.status.idle": "2022-08-04T10:53:22.005967Z",
     "shell.execute_reply": "2022-08-04T10:53:22.005073Z"
    }
   },
   "outputs": [],
   "source": [
    "single_gpu_model = pickle.load(open(\"kmeans_model.pkl\", \"rb\"))"
   ]
  },
  {
   "cell_type": "code",
   "execution_count": 13,
   "metadata": {
    "execution": {
     "iopub.execute_input": "2022-08-04T10:53:22.011248Z",
     "iopub.status.busy": "2022-08-04T10:53:22.010892Z",
     "iopub.status.idle": "2022-08-04T10:53:22.022251Z",
     "shell.execute_reply": "2022-08-04T10:53:22.020867Z"
    }
   },
   "outputs": [
    {
     "data": {
      "text/plain": [
       "array([[-4.6475401e+00, -9.5672159e+00,  6.6923513e+00,  4.4359236e+00,\n",
       "         2.1902735e+00,  2.5834754e+00,  5.9448928e-01,  6.2568665e+00,\n",
       "        -8.7821636e+00, -4.1232017e-01,  9.8151779e+00,  7.5641570e+00,\n",
       "         1.0003010e+01, -5.8680429e+00, -1.2743108e+00, -2.5393455e+00,\n",
       "        -1.0847498e+00, -5.2629199e+00, -9.3071022e+00,  4.6179361e+00,\n",
       "        -9.7068958e-02, -3.9351211e+00,  6.1767282e+00, -7.4346886e+00,\n",
       "         5.6496072e+00, -8.5544853e+00, -7.5265574e+00, -5.5195599e+00,\n",
       "         4.8197637e+00,  2.5235443e+00],\n",
       "       [ 6.2794294e+00,  9.2293940e+00,  8.3403702e+00,  9.0330496e+00,\n",
       "         7.6893492e+00, -9.9538219e-01, -6.2780762e+00,  1.3599335e+00,\n",
       "        -6.9744492e+00, -5.9463463e+00,  1.0695117e+00, -8.0422480e-03,\n",
       "         2.8183143e+00,  1.8317667e+00, -8.2557354e+00,  3.0514317e+00,\n",
       "        -8.4958029e+00,  9.7238483e+00, -7.7455082e+00,  3.4521689e+00,\n",
       "        -3.9248335e+00, -4.1106420e+00,  2.6693091e+00,  1.2985628e+00,\n",
       "         1.0421574e+00,  5.2490621e+00, -1.6496238e+00,  6.1451659e+00,\n",
       "        -6.9103327e+00, -9.6390314e+00],\n",
       "       [-2.8796389e+00,  4.4348760e+00, -4.4264812e+00,  2.3959141e+00,\n",
       "         1.7286437e+00, -2.4991984e+00, -5.1794529e+00, -1.6771442e+00,\n",
       "        -8.1329174e+00,  2.6659226e+00, -4.3131099e+00,  5.5827813e+00,\n",
       "        -5.7318311e+00, -1.7427171e+00, -9.3456125e+00,  7.1365565e-01,\n",
       "         4.4255495e+00, -2.9118381e+00, -4.9467440e+00,  9.6786413e+00,\n",
       "         8.4222746e+00, -6.2710247e+00, -6.3596501e+00,  1.9645509e+00,\n",
       "         4.1715994e+00, -9.1683645e+00,  4.6156688e+00,  8.7916498e+00,\n",
       "         6.8754416e+00,  2.2288747e+00],\n",
       "       [-6.9536953e+00, -9.7635870e+00, -6.5648255e+00, -4.3536150e-01,\n",
       "         6.0998096e+00,  3.7550371e+00, -3.9558537e+00,  6.1595516e+00,\n",
       "        -1.8599318e+00,  5.0400310e+00, -6.8397551e+00,  1.3435433e+00,\n",
       "         8.9749012e+00, -9.9621767e-01,  9.6651945e+00,  9.8009653e+00,\n",
       "        -8.6188345e+00,  5.9978361e+00,  2.2295930e+00, -3.6477711e+00,\n",
       "         7.0758510e+00, -7.3772254e+00, -5.3214221e+00, -6.9927955e+00,\n",
       "        -7.9296327e+00,  6.6705365e+00, -5.5850177e+00,  7.1526051e+00,\n",
       "         6.5703211e+00, -8.3389387e+00],\n",
       "       [ 4.8136687e+00,  8.3985281e+00, -9.2161245e+00,  9.4185524e+00,\n",
       "         8.5280876e+00, -1.0969981e+00,  3.3253179e+00, -7.8064375e+00,\n",
       "        -5.9660631e-01,  2.5423867e-01,  5.5004096e+00, -4.1162968e+00,\n",
       "         4.2832375e+00, -2.8173416e+00,  3.6207721e+00, -4.1576214e+00,\n",
       "        -3.6048703e+00,  6.2125406e+00, -6.9080997e+00, -1.0732135e+00,\n",
       "        -5.8362117e+00,  2.2357666e+00, -3.8588791e+00, -1.6835879e+00,\n",
       "        -5.3240366e+00,  7.5769196e+00,  2.9358532e+00,  8.5267382e+00,\n",
       "         1.5667249e+00,  1.0779673e+00]], dtype=float32)"
      ]
     },
     "execution_count": 13,
     "metadata": {},
     "output_type": "execute_result"
    }
   ],
   "source": [
    "single_gpu_model.cluster_centers_"
   ]
  },
  {
   "cell_type": "markdown",
   "metadata": {},
   "source": [
    "## Exporting cuML Random Forest models for inferencing on machines without GPUs"
   ]
  },
  {
   "cell_type": "markdown",
   "metadata": {},
   "source": [
    "Starting with cuML version 21.06, you can export cuML Random Forest models and run predictions with them on machines without an NVIDIA GPUs. The [Treelite](https://github.com/dmlc/treelite) package defines an efficient exchange format that lets you portably move the cuML Random Forest models to other machines. We will refer to the exchange format as \"checkpoints.\"\n",
    "\n",
    "Here are the steps to export the model:\n",
    "\n",
    "1. Call `to_treelite_checkpoint()` to obtain the checkpoint file from the cuML Random Forest model."
   ]
  },
  {
   "cell_type": "code",
   "execution_count": 14,
   "metadata": {
    "execution": {
     "iopub.execute_input": "2022-08-04T10:53:22.027898Z",
     "iopub.status.busy": "2022-08-04T10:53:22.027508Z",
     "iopub.status.idle": "2022-08-04T10:53:22.138940Z",
     "shell.execute_reply": "2022-08-04T10:53:22.137981Z"
    }
   },
   "outputs": [
    {
     "name": "stderr",
     "output_type": "stream",
     "text": [
      "/opt/conda/envs/rapids/lib/python3.9/site-packages/cuml/internals/api_decorators.py:794: UserWarning: For reproducible results in Random Forest Classifier or for almost reproducible results in Random Forest Regressor, n_streams=1 is recommended. If n_streams is > 1, results may vary due to stream/thread timing differences, even when random_state is set\n",
      "  return func(**kwargs)\n"
     ]
    }
   ],
   "source": [
    "from cuml.ensemble import RandomForestClassifier as cumlRandomForestClassifier\n",
    "from sklearn.datasets import load_iris\n",
    "import numpy as np\n",
    "\n",
    "X, y = load_iris(return_X_y=True)\n",
    "X, y = X.astype(np.float32), y.astype(np.int32)\n",
    "clf = cumlRandomForestClassifier(max_depth=3, random_state=0, n_estimators=10)\n",
    "clf.fit(X, y)\n",
    "\n",
    "checkpoint_path = './checkpoint.tl'\n",
    "# Export cuML RF model as Treelite checkpoint\n",
    "clf.convert_to_treelite_model().to_treelite_checkpoint(checkpoint_path)"
   ]
  },
  {
   "cell_type": "markdown",
   "metadata": {},
   "source": [
    "2. Copy the generated checkpoint file `checkpoint.tl` to another machine on which you'd like to run predictions.\n",
    "\n",
    "3. On the target machine, install Treelite by running `pip install treelite` or `conda install -c conda-forge treelite`. The machine does not need to have an NVIDIA GPUs and does not need to have cuML installed.\n",
    "\n",
    "4. You can now load the model from the checkpoint, by running the following on the target machine:"
   ]
  },
  {
   "cell_type": "code",
   "execution_count": 15,
   "metadata": {
    "execution": {
     "iopub.execute_input": "2022-08-04T10:53:22.143109Z",
     "iopub.status.busy": "2022-08-04T10:53:22.142757Z",
     "iopub.status.idle": "2022-08-04T10:53:22.165398Z",
     "shell.execute_reply": "2022-08-04T10:53:22.164129Z"
    }
   },
   "outputs": [
    {
     "name": "stdout",
     "output_type": "stream",
     "text": [
      "[[1.         0.         0.        ]\n",
      " [1.         0.         0.        ]\n",
      " [1.         0.         0.        ]\n",
      " [1.         0.         0.        ]\n",
      " [1.         0.         0.        ]\n",
      " [1.         0.         0.        ]\n",
      " [1.         0.         0.        ]\n",
      " [1.         0.         0.        ]\n",
      " [1.         0.         0.        ]\n",
      " [1.         0.         0.        ]\n",
      " [1.         0.         0.        ]\n",
      " [1.         0.         0.        ]\n",
      " [1.         0.         0.        ]\n",
      " [1.         0.         0.        ]\n",
      " [0.90789473 0.09210526 0.        ]\n",
      " [0.90789473 0.09210526 0.        ]\n",
      " [1.         0.         0.        ]\n",
      " [1.         0.         0.        ]\n",
      " [0.90789473 0.09210526 0.        ]\n",
      " [1.         0.         0.        ]\n",
      " [1.         0.         0.        ]\n",
      " [1.         0.         0.        ]\n",
      " [1.         0.         0.        ]\n",
      " [1.         0.         0.        ]\n",
      " [1.         0.         0.        ]\n",
      " [1.         0.         0.        ]\n",
      " [1.         0.         0.        ]\n",
      " [1.         0.         0.        ]\n",
      " [1.         0.         0.        ]\n",
      " [1.         0.         0.        ]\n",
      " [1.         0.         0.        ]\n",
      " [1.         0.         0.        ]\n",
      " [1.         0.         0.        ]\n",
      " [1.         0.         0.        ]\n",
      " [1.         0.         0.        ]\n",
      " [1.         0.         0.        ]\n",
      " [1.         0.         0.        ]\n",
      " [1.         0.         0.        ]\n",
      " [1.         0.         0.        ]\n",
      " [1.         0.         0.        ]\n",
      " [1.         0.         0.        ]\n",
      " [1.         0.         0.        ]\n",
      " [1.         0.         0.        ]\n",
      " [1.         0.         0.        ]\n",
      " [1.         0.         0.        ]\n",
      " [1.         0.         0.        ]\n",
      " [1.         0.         0.        ]\n",
      " [1.         0.         0.        ]\n",
      " [1.         0.         0.        ]\n",
      " [1.         0.         0.        ]\n",
      " [0.00789474 0.96374357 0.02836171]\n",
      " [0.00789474 0.96374357 0.02836171]\n",
      " [0.00789474 0.7819892  0.2101161 ]\n",
      " [0.         0.99018145 0.00981859]\n",
      " [0.00789474 0.96374357 0.02836171]\n",
      " [0.00789474 0.975835   0.01627021]\n",
      " [0.00789474 0.96374357 0.02836171]\n",
      " [0.         0.8568481  0.14315192]\n",
      " [0.00789474 0.96374357 0.02836171]\n",
      " [0.         0.99018145 0.00981859]\n",
      " [0.         0.99018145 0.00981859]\n",
      " [0.00789474 0.975835   0.01627021]\n",
      " [0.00789474 0.975835   0.01627021]\n",
      " [0.00789474 0.975835   0.01627021]\n",
      " [0.10789473 0.88228667 0.00981859]\n",
      " [0.00789474 0.96374357 0.02836171]\n",
      " [0.00789474 0.98228663 0.00981859]\n",
      " [0.00789474 0.975835   0.01627021]\n",
      " [0.00789474 0.975835   0.01627021]\n",
      " [0.10789473 0.88228667 0.00981859]\n",
      " [0.         0.25154537 0.7484547 ]\n",
      " [0.00789474 0.975835   0.01627021]\n",
      " [0.00789474 0.7819892  0.2101161 ]\n",
      " [0.00789474 0.975835   0.01627021]\n",
      " [0.00789474 0.96374357 0.02836171]\n",
      " [0.00789474 0.96374357 0.02836171]\n",
      " [0.00789474 0.79310024 0.199005  ]\n",
      " [0.         0.451291   0.54870903]\n",
      " [0.00789474 0.975835   0.01627021]\n",
      " [0.10789473 0.87583506 0.01627021]\n",
      " [0.         0.99018145 0.00981859]\n",
      " [0.         0.99018145 0.00981859]\n",
      " [0.10789473 0.87583506 0.01627021]\n",
      " [0.         0.18708128 0.8129188 ]\n",
      " [0.         0.99018145 0.00981859]\n",
      " [0.00789474 0.975835   0.01627021]\n",
      " [0.00789474 0.96374357 0.02836171]\n",
      " [0.00789474 0.96374357 0.02836171]\n",
      " [0.00789474 0.98228663 0.00981859]\n",
      " [0.         0.99018145 0.00981859]\n",
      " [0.         0.99018145 0.00981859]\n",
      " [0.00789474 0.975835   0.01627021]\n",
      " [0.00789474 0.975835   0.01627021]\n",
      " [0.         0.99018145 0.00981859]\n",
      " [0.00789474 0.98228663 0.00981859]\n",
      " [0.00789474 0.975835   0.01627021]\n",
      " [0.00789474 0.975835   0.01627021]\n",
      " [0.00789474 0.975835   0.01627021]\n",
      " [0.         0.99018145 0.00981859]\n",
      " [0.00789474 0.975835   0.01627021]\n",
      " [0.         0.01258634 0.9874137 ]\n",
      " [0.         0.0481924  0.9518076 ]\n",
      " [0.         0.01258634 0.9874137 ]\n",
      " [0.         0.01258634 0.9874137 ]\n",
      " [0.         0.01258634 0.9874137 ]\n",
      " [0.         0.01258634 0.9874137 ]\n",
      " [0.         0.6901814  0.3098186 ]\n",
      " [0.         0.01258634 0.9874137 ]\n",
      " [0.         0.01258634 0.9874137 ]\n",
      " [0.         0.01258634 0.9874137 ]\n",
      " [0.         0.01258634 0.9874137 ]\n",
      " [0.         0.01258634 0.9874137 ]\n",
      " [0.         0.01258634 0.9874137 ]\n",
      " [0.         0.15504913 0.84495085]\n",
      " [0.         0.0481924  0.9518076 ]\n",
      " [0.         0.01258634 0.9874137 ]\n",
      " [0.         0.01258634 0.9874137 ]\n",
      " [0.         0.01258634 0.9874137 ]\n",
      " [0.         0.01258634 0.9874137 ]\n",
      " [0.         0.40701494 0.59298503]\n",
      " [0.         0.01258634 0.9874137 ]\n",
      " [0.         0.14688587 0.8531141 ]\n",
      " [0.         0.01258634 0.9874137 ]\n",
      " [0.         0.28718114 0.71281886]\n",
      " [0.         0.01258634 0.9874137 ]\n",
      " [0.         0.01258634 0.9874137 ]\n",
      " [0.         0.22427265 0.7757274 ]\n",
      " [0.         0.21316154 0.7868384 ]\n",
      " [0.         0.01258634 0.9874137 ]\n",
      " [0.         0.17874795 0.82125205]\n",
      " [0.         0.01258634 0.9874137 ]\n",
      " [0.         0.01258634 0.9874137 ]\n",
      " [0.         0.01258634 0.9874137 ]\n",
      " [0.         0.21682489 0.7831751 ]\n",
      " [0.         0.22515821 0.77484185]\n",
      " [0.         0.01258634 0.9874137 ]\n",
      " [0.         0.01258634 0.9874137 ]\n",
      " [0.         0.01258634 0.9874137 ]\n",
      " [0.         0.22427265 0.7757274 ]\n",
      " [0.         0.01258634 0.9874137 ]\n",
      " [0.         0.01258634 0.9874137 ]\n",
      " [0.         0.01258634 0.9874137 ]\n",
      " [0.         0.0481924  0.9518076 ]\n",
      " [0.         0.01258634 0.9874137 ]\n",
      " [0.         0.01258634 0.9874137 ]\n",
      " [0.         0.01258634 0.9874137 ]\n",
      " [0.         0.20179601 0.798204  ]\n",
      " [0.         0.01258634 0.9874137 ]\n",
      " [0.         0.02091968 0.9790803 ]\n",
      " [0.         0.0481924  0.9518076 ]]\n"
     ]
    }
   ],
   "source": [
    "import treelite\n",
    "\n",
    "# The checkpoint file has been copied over\n",
    "checkpoint_path = './checkpoint.tl'\n",
    "tl_model = treelite.Model.deserialize(checkpoint_path)\n",
    "out_prob = treelite.gtil.predict(tl_model, X, pred_margin=True)\n",
    "print(out_prob)"
   ]
  }
 ],
 "metadata": {
  "kernelspec": {
   "display_name": "Python 3",
   "language": "python",
   "name": "python3"
  },
  "language_info": {
   "codemirror_mode": {
    "name": "ipython",
    "version": 3
   },
   "file_extension": ".py",
   "mimetype": "text/x-python",
   "name": "python",
   "nbconvert_exporter": "python",
   "pygments_lexer": "ipython3",
   "version": "3.9.7"
  }
 },
 "nbformat": 4,
 "nbformat_minor": 4
}
