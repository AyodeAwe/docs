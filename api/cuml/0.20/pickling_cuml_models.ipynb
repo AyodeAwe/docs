{
 "cells": [
  {
   "cell_type": "markdown",
   "metadata": {},
   "source": [
    "# Pickling cuML Models for Persistence\n",
    "\n",
    "This notebook demonstrates simple pickling of both single-GPU and multi-GPU cuML models for persistence"
   ]
  },
  {
   "cell_type": "code",
   "execution_count": 1,
   "metadata": {
    "execution": {
     "iopub.execute_input": "2021-04-22T20:50:39.558562Z",
     "iopub.status.busy": "2021-04-22T20:50:39.557073Z",
     "iopub.status.idle": "2021-04-22T20:50:39.561848Z",
     "shell.execute_reply": "2021-04-22T20:50:39.560444Z"
    }
   },
   "outputs": [],
   "source": [
    "import warnings\n",
    "warnings.filterwarnings(\"ignore\", category=FutureWarning)"
   ]
  },
  {
   "cell_type": "markdown",
   "metadata": {},
   "source": [
    "## Single GPU Model Pickling\n",
    "\n",
    "All single-GPU estimators are pickleable. The following example demonstrates the creation of a synthetic dataset, training, and pickling of the resulting model for storage. Trained single-GPU models can also be used to distribute the inference on a Dask cluster, which the `Distributed Model Pickling` section below demonstrates."
   ]
  },
  {
   "cell_type": "code",
   "execution_count": 2,
   "metadata": {
    "execution": {
     "iopub.execute_input": "2021-04-22T20:50:39.571745Z",
     "iopub.status.busy": "2021-04-22T20:50:39.570276Z",
     "iopub.status.idle": "2021-04-22T20:50:45.927666Z",
     "shell.execute_reply": "2021-04-22T20:50:45.928956Z"
    }
   },
   "outputs": [],
   "source": [
    "from cuml.datasets import make_blobs\n",
    "\n",
    "X, y = make_blobs(n_samples=50,\n",
    "                  n_features=10,\n",
    "                  centers=5,\n",
    "                  cluster_std=0.4,\n",
    "                  random_state=0)"
   ]
  },
  {
   "cell_type": "code",
   "execution_count": 3,
   "metadata": {
    "execution": {
     "iopub.execute_input": "2021-04-22T20:50:45.938625Z",
     "iopub.status.busy": "2021-04-22T20:50:45.937125Z",
     "iopub.status.idle": "2021-04-22T20:50:46.331919Z",
     "shell.execute_reply": "2021-04-22T20:50:46.333160Z"
    }
   },
   "outputs": [
    {
     "data": {
      "text/plain": [
       "KMeans()"
      ]
     },
     "execution_count": 1,
     "metadata": {},
     "output_type": "execute_result"
    }
   ],
   "source": [
    "from cuml.cluster import KMeans\n",
    "\n",
    "model = KMeans(n_clusters=5)\n",
    "\n",
    "model.fit(X)"
   ]
  },
  {
   "cell_type": "code",
   "execution_count": 4,
   "metadata": {
    "execution": {
     "iopub.execute_input": "2021-04-22T20:50:46.342623Z",
     "iopub.status.busy": "2021-04-22T20:50:46.341131Z",
     "iopub.status.idle": "2021-04-22T20:50:46.345941Z",
     "shell.execute_reply": "2021-04-22T20:50:46.347137Z"
    }
   },
   "outputs": [],
   "source": [
    "import pickle\n",
    "\n",
    "pickle.dump(model, open(\"kmeans_model.pkl\", \"wb\"))"
   ]
  },
  {
   "cell_type": "code",
   "execution_count": 5,
   "metadata": {
    "execution": {
     "iopub.execute_input": "2021-04-22T20:50:46.356331Z",
     "iopub.status.busy": "2021-04-22T20:50:46.354903Z",
     "iopub.status.idle": "2021-04-22T20:50:46.360601Z",
     "shell.execute_reply": "2021-04-22T20:50:46.359381Z"
    }
   },
   "outputs": [],
   "source": [
    "model = pickle.load(open(\"kmeans_model.pkl\", \"rb\"))"
   ]
  },
  {
   "cell_type": "code",
   "execution_count": 6,
   "metadata": {
    "execution": {
     "iopub.execute_input": "2021-04-22T20:50:46.372283Z",
     "iopub.status.busy": "2021-04-22T20:50:46.370547Z",
     "iopub.status.idle": "2021-04-22T20:50:46.374741Z",
     "shell.execute_reply": "2021-04-22T20:50:46.375553Z"
    }
   },
   "outputs": [
    {
     "data": {
      "text/plain": [
       "array([[-5.7684636 ,  2.3276033 , -3.7457774 , -1.8541754 , -5.169583  ,\n",
       "         7.6670885 ,  2.7118316 ,  8.495609  ,  1.7038484 ,  1.1884269 ],\n",
       "       [ 4.6476874 ,  8.377879  , -9.070581  ,  9.459332  ,  8.450422  ,\n",
       "        -1.0210547 ,  3.3920872 , -7.862985  , -0.7527663 ,  0.48384118],\n",
       "       [-2.9414442 ,  4.6401706 , -4.5027533 ,  2.2855108 ,  1.644645  ,\n",
       "        -2.4937892 , -5.2241607 , -1.5499196 , -8.063638  ,  2.816936  ],\n",
       "       [-4.271077  ,  5.5611653 , -5.6640916 , -1.8229512 , -9.2925    ,\n",
       "         0.730283  ,  4.4586773 , -2.8876226 , -5.125775  ,  9.694357  ],\n",
       "       [ 5.583742  , -4.1515303 ,  4.369667  , -3.0020504 ,  3.638897  ,\n",
       "        -4.3419113 , -3.3187115 ,  6.503671  , -6.865036  , -1.0266498 ]],\n",
       "      dtype=float32)"
      ]
     },
     "execution_count": 1,
     "metadata": {},
     "output_type": "execute_result"
    }
   ],
   "source": [
    "model.cluster_centers_"
   ]
  },
  {
   "cell_type": "markdown",
   "metadata": {},
   "source": [
    "## Distributed Model Pickling"
   ]
  },
  {
   "cell_type": "markdown",
   "metadata": {},
   "source": [
    "The distributed estimator wrappers inside of the `cuml.dask` are not intended to be pickled directly. The Dask cuML estimators provide a function `get_combined_model()`, which returns the trained single-GPU model for pickling. The combined model can be used for inference on a single-GPU, and the `ParallelPostFit` wrapper from the [Dask-ML](https://ml.dask.org/meta-estimators.html) library can be used to perform distributed inference on a Dask cluster."
   ]
  },
  {
   "cell_type": "code",
   "execution_count": 7,
   "metadata": {
    "execution": {
     "iopub.execute_input": "2021-04-22T20:50:46.390634Z",
     "iopub.status.busy": "2021-04-22T20:50:46.388294Z",
     "iopub.status.idle": "2021-04-22T20:50:51.010361Z",
     "shell.execute_reply": "2021-04-22T20:50:51.011364Z"
    }
   },
   "outputs": [
    {
     "data": {
      "text/html": [
       "<table style=\"border: 2px solid white;\">\n",
       "<tr>\n",
       "<td style=\"vertical-align: top; border: 0px solid white\">\n",
       "<h3 style=\"text-align: left;\">Client</h3>\n",
       "<ul style=\"text-align: left; list-style: none; margin: 0; padding: 0;\">\n",
       "  <li><b>Scheduler: </b>tcp://127.0.0.1:43994</li>\n",
       "  <li><b>Dashboard: </b><a href='http://127.0.0.1:8787/status' target='_blank'>http://127.0.0.1:8787/status</a></li>\n",
       "</ul>\n",
       "</td>\n",
       "<td style=\"vertical-align: top; border: 0px solid white\">\n",
       "<h3 style=\"text-align: left;\">Cluster</h3>\n",
       "<ul style=\"text-align: left; list-style:none; margin: 0; padding: 0;\">\n",
       "  <li><b>Workers: </b>1</li>\n",
       "  <li><b>Cores: </b>1</li>\n",
       "  <li><b>Memory: </b>251.80 GiB</li>\n",
       "</ul>\n",
       "</td>\n",
       "</tr>\n",
       "</table>"
      ],
      "text/plain": [
       "<Client: 'tcp://127.0.0.1:43994' processes=1 threads=1, memory=251.80 GiB>"
      ]
     },
     "execution_count": 1,
     "metadata": {},
     "output_type": "execute_result"
    }
   ],
   "source": [
    "from dask.distributed import Client\n",
    "from dask_cuda import LocalCUDACluster\n",
    "\n",
    "cluster = LocalCUDACluster()\n",
    "client = Client(cluster)\n",
    "client"
   ]
  },
  {
   "cell_type": "code",
   "execution_count": 8,
   "metadata": {
    "execution": {
     "iopub.execute_input": "2021-04-22T20:50:51.026455Z",
     "iopub.status.busy": "2021-04-22T20:50:51.022920Z",
     "iopub.status.idle": "2021-04-22T20:50:51.537842Z",
     "shell.execute_reply": "2021-04-22T20:50:51.539048Z"
    }
   },
   "outputs": [],
   "source": [
    "from cuml.dask.datasets import make_blobs\n",
    "\n",
    "n_workers = len(client.scheduler_info()[\"workers\"].keys())\n",
    "\n",
    "X, y = make_blobs(n_samples=5000, \n",
    "                  n_features=30,\n",
    "                  centers=5, \n",
    "                  cluster_std=0.4, \n",
    "                  random_state=0,\n",
    "                  n_parts=n_workers*5)\n",
    "\n",
    "X = X.persist()\n",
    "y = y.persist()"
   ]
  },
  {
   "cell_type": "code",
   "execution_count": 9,
   "metadata": {
    "execution": {
     "iopub.execute_input": "2021-04-22T20:50:51.548187Z",
     "iopub.status.busy": "2021-04-22T20:50:51.546644Z",
     "iopub.status.idle": "2021-04-22T20:50:51.590898Z",
     "shell.execute_reply": "2021-04-22T20:50:51.592124Z"
    }
   },
   "outputs": [],
   "source": [
    "from cuml.dask.cluster import KMeans\n",
    "\n",
    "dist_model = KMeans(n_clusters=5)"
   ]
  },
  {
   "cell_type": "code",
   "execution_count": 10,
   "metadata": {
    "execution": {
     "iopub.execute_input": "2021-04-22T20:50:51.615292Z",
     "iopub.status.busy": "2021-04-22T20:50:51.613774Z",
     "iopub.status.idle": "2021-04-22T20:50:55.208454Z",
     "shell.execute_reply": "2021-04-22T20:50:55.209801Z"
    }
   },
   "outputs": [
    {
     "data": {
      "text/plain": [
       "<cuml.dask.cluster.kmeans.KMeans at 0x7f780aca8c10>"
      ]
     },
     "execution_count": 1,
     "metadata": {},
     "output_type": "execute_result"
    }
   ],
   "source": [
    "dist_model.fit(X)"
   ]
  },
  {
   "cell_type": "code",
   "execution_count": 11,
   "metadata": {
    "execution": {
     "iopub.execute_input": "2021-04-22T20:50:55.223384Z",
     "iopub.status.busy": "2021-04-22T20:50:55.221901Z",
     "iopub.status.idle": "2021-04-22T20:50:55.245429Z",
     "shell.execute_reply": "2021-04-22T20:50:55.246717Z"
    }
   },
   "outputs": [],
   "source": [
    "import pickle\n",
    "\n",
    "single_gpu_model = dist_model.get_combined_model()\n",
    "pickle.dump(single_gpu_model, open(\"kmeans_model.pkl\", \"wb\"))"
   ]
  },
  {
   "cell_type": "code",
   "execution_count": 12,
   "metadata": {
    "execution": {
     "iopub.execute_input": "2021-04-22T20:50:55.257517Z",
     "iopub.status.busy": "2021-04-22T20:50:55.255914Z",
     "iopub.status.idle": "2021-04-22T20:50:55.261167Z",
     "shell.execute_reply": "2021-04-22T20:50:55.259829Z"
    }
   },
   "outputs": [],
   "source": [
    "single_gpu_model = pickle.load(open(\"kmeans_model.pkl\", \"rb\"))"
   ]
  },
  {
   "cell_type": "code",
   "execution_count": 13,
   "metadata": {
    "execution": {
     "iopub.execute_input": "2021-04-22T20:50:55.275647Z",
     "iopub.status.busy": "2021-04-22T20:50:55.274212Z",
     "iopub.status.idle": "2021-04-22T20:50:55.279907Z",
     "shell.execute_reply": "2021-04-22T20:50:55.281119Z"
    }
   },
   "outputs": [
    {
     "data": {
      "text/plain": [
       "array([[ 4.809875  ,  8.422671  , -9.239024  ,  9.379141  ,  8.499881  ,\n",
       "        -1.0592818 ,  3.3437855 , -7.802612  , -0.5946332 ,  0.26447594,\n",
       "         5.5073957 , -4.1069803 ,  4.2890778 , -2.8172052 ,  3.6150155 ,\n",
       "        -4.1613007 , -3.6209643 ,  6.218529  , -6.9460473 , -1.0828305 ,\n",
       "        -5.8267694 ,  2.2258763 , -3.8601215 , -1.6974076 , -5.3134184 ,\n",
       "         7.5795784 ,  2.9187472 ,  8.540423  ,  1.5523206 ,  1.0841805 ],\n",
       "       [-2.8941853 ,  4.4741907 , -4.447567  ,  2.3820987 ,  1.7478832 ,\n",
       "        -2.5046248 , -5.2083306 , -1.6937686 , -8.134754  ,  2.6468296 ,\n",
       "        -4.316362  ,  5.5655394 , -5.732198  , -1.7384952 , -9.344657  ,\n",
       "         0.70846575,  4.435839  , -2.9008996 , -4.948638  ,  9.695302  ,\n",
       "         8.366521  , -6.2474537 , -6.3494725 ,  1.9546974 ,  4.1576166 ,\n",
       "        -9.167902  ,  4.6070685 ,  8.788585  ,  6.8644233 ,  2.2319882 ],\n",
       "       [-4.6657133 , -9.558958  ,  6.657229  ,  4.4401307 ,  2.1730304 ,\n",
       "         2.5904038 ,  0.5800098 ,  6.255035  , -8.829283  , -0.4139966 ,\n",
       "         9.83105   ,  7.589735  ,  9.975543  , -5.856175  , -1.2414308 ,\n",
       "        -2.5572667 , -1.0441563 , -5.2461095 , -9.311468  ,  4.636607  ,\n",
       "        -0.11776029, -3.929529  ,  6.2073665 , -7.399014  ,  5.6740923 ,\n",
       "        -8.5403    , -7.5186524 , -5.5301213 ,  4.8341303 ,  2.569168  ],\n",
       "       [-6.958109  , -9.760796  , -6.5506096 , -0.41965044,  6.068768  ,\n",
       "         3.7602885 , -3.9751325 ,  6.1493382 , -1.8729935 ,  5.0252733 ,\n",
       "        -6.8340993 ,  1.3383294 ,  9.001678  , -0.98648345,  9.65402   ,\n",
       "         9.790738  , -8.618676  ,  5.995579  ,  2.2099133 , -3.63091   ,\n",
       "         7.071409  , -7.3946223 , -5.299633  , -6.9737053 , -7.908466  ,\n",
       "         6.6810646 , -5.575639  ,  7.131311  ,  6.5996184 , -8.309574  ],\n",
       "       [ 6.261754  ,  9.228768  ,  8.358131  ,  9.017298  ,  7.7044663 ,\n",
       "        -1.0047107 , -6.245766  ,  1.3951722 , -6.976181  , -5.948059  ,\n",
       "         1.0575897 , -0.0107428 ,  2.8210256 ,  1.8389362 , -8.247101  ,\n",
       "         3.049896  , -8.483243  ,  9.721641  , -7.7502723 ,  3.4655957 ,\n",
       "        -3.9312136 , -4.0965166 ,  2.658699  ,  1.2832462 ,  1.0177817 ,\n",
       "         5.2571115 , -1.6444379 ,  6.1383214 , -6.884053  , -9.663093  ]],\n",
       "      dtype=float32)"
      ]
     },
     "execution_count": 1,
     "metadata": {},
     "output_type": "execute_result"
    }
   ],
   "source": [
    "single_gpu_model.cluster_centers_"
   ]
  }
 ],
 "metadata": {
  "kernelspec": {
   "display_name": "Python 3",
   "language": "python",
   "name": "python3"
  },
  "language_info": {
   "codemirror_mode": {
    "name": "ipython",
    "version": 3
   },
   "file_extension": ".py",
   "mimetype": "text/x-python",
   "name": "python",
   "nbconvert_exporter": "python",
   "pygments_lexer": "ipython3",
   "version": "3.7.10"
  }
 },
 "nbformat": 4,
 "nbformat_minor": 4
}
