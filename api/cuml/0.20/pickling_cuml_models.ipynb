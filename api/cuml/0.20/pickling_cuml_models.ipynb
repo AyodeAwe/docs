{
 "cells": [
  {
   "cell_type": "markdown",
   "metadata": {},
   "source": [
    "# Pickling cuML Models for Persistence\n",
    "\n",
    "This notebook demonstrates simple pickling of both single-GPU and multi-GPU cuML models for persistence"
   ]
  },
  {
   "cell_type": "code",
   "execution_count": 1,
   "metadata": {
    "execution": {
     "iopub.execute_input": "2021-05-09T09:42:30.302057Z",
     "iopub.status.busy": "2021-05-09T09:42:30.300596Z",
     "iopub.status.idle": "2021-05-09T09:42:30.305899Z",
     "shell.execute_reply": "2021-05-09T09:42:30.304528Z"
    }
   },
   "outputs": [],
   "source": [
    "import warnings\n",
    "warnings.filterwarnings(\"ignore\", category=FutureWarning)"
   ]
  },
  {
   "cell_type": "markdown",
   "metadata": {},
   "source": [
    "## Single GPU Model Pickling\n",
    "\n",
    "All single-GPU estimators are pickleable. The following example demonstrates the creation of a synthetic dataset, training, and pickling of the resulting model for storage. Trained single-GPU models can also be used to distribute the inference on a Dask cluster, which the `Distributed Model Pickling` section below demonstrates."
   ]
  },
  {
   "cell_type": "code",
   "execution_count": 2,
   "metadata": {
    "execution": {
     "iopub.execute_input": "2021-05-09T09:42:30.316182Z",
     "iopub.status.busy": "2021-05-09T09:42:30.314704Z",
     "iopub.status.idle": "2021-05-09T09:42:36.283950Z",
     "shell.execute_reply": "2021-05-09T09:42:36.282663Z"
    }
   },
   "outputs": [],
   "source": [
    "from cuml.datasets import make_blobs\n",
    "\n",
    "X, y = make_blobs(n_samples=50,\n",
    "                  n_features=10,\n",
    "                  centers=5,\n",
    "                  cluster_std=0.4,\n",
    "                  random_state=0)"
   ]
  },
  {
   "cell_type": "code",
   "execution_count": 3,
   "metadata": {
    "execution": {
     "iopub.execute_input": "2021-05-09T09:42:36.291699Z",
     "iopub.status.busy": "2021-05-09T09:42:36.290249Z",
     "iopub.status.idle": "2021-05-09T09:42:36.566178Z",
     "shell.execute_reply": "2021-05-09T09:42:36.567395Z"
    }
   },
   "outputs": [
    {
     "data": {
      "text/plain": [
       "KMeans()"
      ]
     },
     "execution_count": 1,
     "metadata": {},
     "output_type": "execute_result"
    }
   ],
   "source": [
    "from cuml.cluster import KMeans\n",
    "\n",
    "model = KMeans(n_clusters=5)\n",
    "\n",
    "model.fit(X)"
   ]
  },
  {
   "cell_type": "code",
   "execution_count": 4,
   "metadata": {
    "execution": {
     "iopub.execute_input": "2021-05-09T09:42:36.573892Z",
     "iopub.status.busy": "2021-05-09T09:42:36.572456Z",
     "iopub.status.idle": "2021-05-09T09:42:36.575620Z",
     "shell.execute_reply": "2021-05-09T09:42:36.576822Z"
    }
   },
   "outputs": [],
   "source": [
    "import pickle\n",
    "\n",
    "pickle.dump(model, open(\"kmeans_model.pkl\", \"wb\"))"
   ]
  },
  {
   "cell_type": "code",
   "execution_count": 5,
   "metadata": {
    "execution": {
     "iopub.execute_input": "2021-05-09T09:42:36.582974Z",
     "iopub.status.busy": "2021-05-09T09:42:36.581636Z",
     "iopub.status.idle": "2021-05-09T09:42:36.586281Z",
     "shell.execute_reply": "2021-05-09T09:42:36.585159Z"
    }
   },
   "outputs": [],
   "source": [
    "model = pickle.load(open(\"kmeans_model.pkl\", \"rb\"))"
   ]
  },
  {
   "cell_type": "code",
   "execution_count": 6,
   "metadata": {
    "execution": {
     "iopub.execute_input": "2021-05-09T09:42:36.593748Z",
     "iopub.status.busy": "2021-05-09T09:42:36.592408Z",
     "iopub.status.idle": "2021-05-09T09:42:36.597127Z",
     "shell.execute_reply": "2021-05-09T09:42:36.598239Z"
    }
   },
   "outputs": [
    {
     "data": {
      "text/plain": [
       "array([[ 5.2615476, -4.0487256,  4.464928 , -2.9367518,  3.5061095,\n",
       "        -4.0168314, -3.463885 ,  6.078449 , -6.953326 , -1.004144 ],\n",
       "       [-4.243999 ,  5.6107073, -5.669777 , -1.7957245, -9.255528 ,\n",
       "         0.7177438,  4.4435897, -2.8747153, -5.0900965,  9.684121 ],\n",
       "       [ 4.6749854,  8.213466 , -9.07572  ,  9.568374 ,  8.454807 ,\n",
       "        -1.2327975,  3.3903713, -7.8282413, -0.8454461,  0.6288572],\n",
       "       [-3.008261 ,  4.6259604, -4.483249 ,  2.228457 ,  1.643532 ,\n",
       "        -2.4505193, -5.2582016, -1.6679403, -7.9857535,  2.8311467],\n",
       "       [-5.6072407,  2.2695982, -3.7516532, -1.8182005, -5.143028 ,\n",
       "         7.599363 ,  2.8252366,  8.773042 ,  1.6198314,  1.1772048]],\n",
       "      dtype=float32)"
      ]
     },
     "execution_count": 1,
     "metadata": {},
     "output_type": "execute_result"
    }
   ],
   "source": [
    "model.cluster_centers_"
   ]
  },
  {
   "cell_type": "markdown",
   "metadata": {},
   "source": [
    "## Distributed Model Pickling"
   ]
  },
  {
   "cell_type": "markdown",
   "metadata": {},
   "source": [
    "The distributed estimator wrappers inside of the `cuml.dask` are not intended to be pickled directly. The Dask cuML estimators provide a function `get_combined_model()`, which returns the trained single-GPU model for pickling. The combined model can be used for inference on a single-GPU, and the `ParallelPostFit` wrapper from the [Dask-ML](https://ml.dask.org/meta-estimators.html) library can be used to perform distributed inference on a Dask cluster."
   ]
  },
  {
   "cell_type": "code",
   "execution_count": 7,
   "metadata": {
    "execution": {
     "iopub.execute_input": "2021-05-09T09:42:36.604923Z",
     "iopub.status.busy": "2021-05-09T09:42:36.603587Z",
     "iopub.status.idle": "2021-05-09T09:42:40.997972Z",
     "shell.execute_reply": "2021-05-09T09:42:40.999269Z"
    }
   },
   "outputs": [
    {
     "data": {
      "text/html": [
       "<table style=\"border: 2px solid white;\">\n",
       "<tr>\n",
       "<td style=\"vertical-align: top; border: 0px solid white\">\n",
       "<h3 style=\"text-align: left;\">Client</h3>\n",
       "<ul style=\"text-align: left; list-style: none; margin: 0; padding: 0;\">\n",
       "  <li><b>Scheduler: </b>tcp://127.0.0.1:46075</li>\n",
       "  <li><b>Dashboard: </b><a href='http://127.0.0.1:8787/status' target='_blank'>http://127.0.0.1:8787/status</a></li>\n",
       "</ul>\n",
       "</td>\n",
       "<td style=\"vertical-align: top; border: 0px solid white\">\n",
       "<h3 style=\"text-align: left;\">Cluster</h3>\n",
       "<ul style=\"text-align: left; list-style:none; margin: 0; padding: 0;\">\n",
       "  <li><b>Workers: </b>1</li>\n",
       "  <li><b>Cores: </b>1</li>\n",
       "  <li><b>Memory: </b>251.80 GiB</li>\n",
       "</ul>\n",
       "</td>\n",
       "</tr>\n",
       "</table>"
      ],
      "text/plain": [
       "<Client: 'tcp://127.0.0.1:46075' processes=1 threads=1, memory=251.80 GiB>"
      ]
     },
     "execution_count": 1,
     "metadata": {},
     "output_type": "execute_result"
    }
   ],
   "source": [
    "from dask.distributed import Client\n",
    "from dask_cuda import LocalCUDACluster\n",
    "\n",
    "cluster = LocalCUDACluster()\n",
    "client = Client(cluster)\n",
    "client"
   ]
  },
  {
   "cell_type": "code",
   "execution_count": 8,
   "metadata": {
    "execution": {
     "iopub.execute_input": "2021-05-09T09:42:41.010306Z",
     "iopub.status.busy": "2021-05-09T09:42:41.008859Z",
     "iopub.status.idle": "2021-05-09T09:42:41.088542Z",
     "shell.execute_reply": "2021-05-09T09:42:41.087308Z"
    }
   },
   "outputs": [],
   "source": [
    "from cuml.dask.datasets import make_blobs\n",
    "\n",
    "n_workers = len(client.scheduler_info()[\"workers\"].keys())\n",
    "\n",
    "X, y = make_blobs(n_samples=5000, \n",
    "                  n_features=30,\n",
    "                  centers=5, \n",
    "                  cluster_std=0.4, \n",
    "                  random_state=0,\n",
    "                  n_parts=n_workers*5)\n",
    "\n",
    "X = X.persist()\n",
    "y = y.persist()"
   ]
  },
  {
   "cell_type": "code",
   "execution_count": 9,
   "metadata": {
    "execution": {
     "iopub.execute_input": "2021-05-09T09:42:41.096788Z",
     "iopub.status.busy": "2021-05-09T09:42:41.095265Z",
     "iopub.status.idle": "2021-05-09T09:42:41.105831Z",
     "shell.execute_reply": "2021-05-09T09:42:41.107022Z"
    }
   },
   "outputs": [],
   "source": [
    "from cuml.dask.cluster import KMeans\n",
    "\n",
    "dist_model = KMeans(n_clusters=5)"
   ]
  },
  {
   "cell_type": "code",
   "execution_count": 10,
   "metadata": {
    "execution": {
     "iopub.execute_input": "2021-05-09T09:42:41.116475Z",
     "iopub.status.busy": "2021-05-09T09:42:41.115072Z",
     "iopub.status.idle": "2021-05-09T09:42:44.073051Z",
     "shell.execute_reply": "2021-05-09T09:42:44.074252Z"
    }
   },
   "outputs": [
    {
     "data": {
      "text/plain": [
       "<cuml.dask.cluster.kmeans.KMeans at 0x7f94601f4e90>"
      ]
     },
     "execution_count": 1,
     "metadata": {},
     "output_type": "execute_result"
    }
   ],
   "source": [
    "dist_model.fit(X)"
   ]
  },
  {
   "cell_type": "code",
   "execution_count": 11,
   "metadata": {
    "execution": {
     "iopub.execute_input": "2021-05-09T09:42:44.089136Z",
     "iopub.status.busy": "2021-05-09T09:42:44.087714Z",
     "iopub.status.idle": "2021-05-09T09:42:44.101862Z",
     "shell.execute_reply": "2021-05-09T09:42:44.102975Z"
    }
   },
   "outputs": [],
   "source": [
    "import pickle\n",
    "\n",
    "single_gpu_model = dist_model.get_combined_model()\n",
    "pickle.dump(single_gpu_model, open(\"kmeans_model.pkl\", \"wb\"))"
   ]
  },
  {
   "cell_type": "code",
   "execution_count": 12,
   "metadata": {
    "execution": {
     "iopub.execute_input": "2021-05-09T09:42:44.111733Z",
     "iopub.status.busy": "2021-05-09T09:42:44.110402Z",
     "iopub.status.idle": "2021-05-09T09:42:44.116356Z",
     "shell.execute_reply": "2021-05-09T09:42:44.115175Z"
    }
   },
   "outputs": [],
   "source": [
    "single_gpu_model = pickle.load(open(\"kmeans_model.pkl\", \"rb\"))"
   ]
  },
  {
   "cell_type": "code",
   "execution_count": 13,
   "metadata": {
    "execution": {
     "iopub.execute_input": "2021-05-09T09:42:44.130826Z",
     "iopub.status.busy": "2021-05-09T09:42:44.129576Z",
     "iopub.status.idle": "2021-05-09T09:42:44.135256Z",
     "shell.execute_reply": "2021-05-09T09:42:44.136287Z"
    }
   },
   "outputs": [
    {
     "data": {
      "text/plain": [
       "array([[-2.8796394e+00,  4.4348769e+00, -4.4264808e+00,  2.3959136e+00,\n",
       "         1.7286434e+00, -2.4991984e+00, -5.1794505e+00, -1.6771442e+00,\n",
       "        -8.1329155e+00,  2.6659224e+00, -4.3131094e+00,  5.5827813e+00,\n",
       "        -5.7318320e+00, -1.7427167e+00, -9.3456154e+00,  7.1365559e-01,\n",
       "         4.4255500e+00, -2.9118383e+00, -4.9467435e+00,  9.6786413e+00,\n",
       "         8.4222717e+00, -6.2710252e+00, -6.3596501e+00,  1.9645507e+00,\n",
       "         4.1715989e+00, -9.1683645e+00,  4.6156664e+00,  8.7916498e+00,\n",
       "         6.8754425e+00,  2.2288749e+00],\n",
       "       [-6.9536958e+00, -9.7635880e+00, -6.5648260e+00, -4.3536144e-01,\n",
       "         6.0998096e+00,  3.7550368e+00, -3.9558544e+00,  6.1595516e+00,\n",
       "        -1.8599321e+00,  5.0400310e+00, -6.8397555e+00,  1.3435431e+00,\n",
       "         8.9748974e+00, -9.9621773e-01,  9.6651907e+00,  9.8009644e+00,\n",
       "        -8.6188354e+00,  5.9978371e+00,  2.2295930e+00, -3.6477711e+00,\n",
       "         7.0758524e+00, -7.3772264e+00, -5.3214207e+00, -6.9927964e+00,\n",
       "        -7.9296336e+00,  6.6705360e+00, -5.5850172e+00,  7.1526046e+00,\n",
       "         6.5703211e+00, -8.3389397e+00],\n",
       "       [ 4.8136697e+00,  8.3985271e+00, -9.2161283e+00,  9.4185534e+00,\n",
       "         8.5280886e+00, -1.0969981e+00,  3.3253179e+00, -7.8064370e+00,\n",
       "        -5.9660637e-01,  2.5423872e-01,  5.5004091e+00, -4.1162968e+00,\n",
       "         4.2832370e+00, -2.8173411e+00,  3.6207719e+00, -4.1576209e+00,\n",
       "        -3.6048706e+00,  6.2125406e+00, -6.9081006e+00, -1.0732135e+00,\n",
       "        -5.8362122e+00,  2.2357666e+00, -3.8588786e+00, -1.6835879e+00,\n",
       "        -5.3240361e+00,  7.5769196e+00,  2.9358528e+00,  8.5267401e+00,\n",
       "         1.5667245e+00,  1.0779672e+00],\n",
       "       [-4.6475396e+00, -9.5672150e+00,  6.6923518e+00,  4.4359241e+00,\n",
       "         2.1902723e+00,  2.5834754e+00,  5.9448928e-01,  6.2568674e+00,\n",
       "        -8.7821665e+00, -4.1232017e-01,  9.8151779e+00,  7.5641561e+00,\n",
       "         1.0003012e+01, -5.8680420e+00, -1.2743112e+00, -2.5393455e+00,\n",
       "        -1.0847496e+00, -5.2629189e+00, -9.3071012e+00,  4.6179371e+00,\n",
       "        -9.7068965e-02, -3.9351203e+00,  6.1767287e+00, -7.4346876e+00,\n",
       "         5.6496081e+00, -8.5544872e+00, -7.5265574e+00, -5.5195599e+00,\n",
       "         4.8197637e+00,  2.5235443e+00],\n",
       "       [ 6.2794294e+00,  9.2293949e+00,  8.3403692e+00,  9.0330467e+00,\n",
       "         7.6893487e+00, -9.9538183e-01, -6.2780747e+00,  1.3599333e+00,\n",
       "        -6.9744477e+00, -5.9463449e+00,  1.0695117e+00, -8.0422377e-03,\n",
       "         2.8183148e+00,  1.8317666e+00, -8.2557344e+00,  3.0514309e+00,\n",
       "        -8.4958000e+00,  9.7238493e+00, -7.7455077e+00,  3.4521689e+00,\n",
       "        -3.9248328e+00, -4.1106415e+00,  2.6693091e+00,  1.2985628e+00,\n",
       "         1.0421572e+00,  5.2490616e+00, -1.6496238e+00,  6.1451654e+00,\n",
       "        -6.9103332e+00, -9.6390314e+00]], dtype=float32)"
      ]
     },
     "execution_count": 1,
     "metadata": {},
     "output_type": "execute_result"
    }
   ],
   "source": [
    "single_gpu_model.cluster_centers_"
   ]
  }
 ],
 "metadata": {
  "kernelspec": {
   "display_name": "Python 3",
   "language": "python",
   "name": "python3"
  },
  "language_info": {
   "codemirror_mode": {
    "name": "ipython",
    "version": 3
   },
   "file_extension": ".py",
   "mimetype": "text/x-python",
   "name": "python",
   "nbconvert_exporter": "python",
   "pygments_lexer": "ipython3",
   "version": "3.7.10"
  }
 },
 "nbformat": 4,
 "nbformat_minor": 4
}
