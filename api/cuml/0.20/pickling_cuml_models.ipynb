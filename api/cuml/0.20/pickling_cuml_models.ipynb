{
 "cells": [
  {
   "cell_type": "markdown",
   "metadata": {},
   "source": [
    "# Pickling cuML Models for Persistence\n",
    "\n",
    "This notebook demonstrates simple pickling of both single-GPU and multi-GPU cuML models for persistence"
   ]
  },
  {
   "cell_type": "code",
   "execution_count": 1,
   "metadata": {
    "execution": {
     "iopub.execute_input": "2021-05-04T09:50:44.696688Z",
     "iopub.status.busy": "2021-05-04T09:50:44.695107Z",
     "iopub.status.idle": "2021-05-04T09:50:44.698674Z",
     "shell.execute_reply": "2021-05-04T09:50:44.699844Z"
    }
   },
   "outputs": [],
   "source": [
    "import warnings\n",
    "warnings.filterwarnings(\"ignore\", category=FutureWarning)"
   ]
  },
  {
   "cell_type": "markdown",
   "metadata": {},
   "source": [
    "## Single GPU Model Pickling\n",
    "\n",
    "All single-GPU estimators are pickleable. The following example demonstrates the creation of a synthetic dataset, training, and pickling of the resulting model for storage. Trained single-GPU models can also be used to distribute the inference on a Dask cluster, which the `Distributed Model Pickling` section below demonstrates."
   ]
  },
  {
   "cell_type": "code",
   "execution_count": 2,
   "metadata": {
    "execution": {
     "iopub.execute_input": "2021-05-04T09:50:44.710158Z",
     "iopub.status.busy": "2021-05-04T09:50:44.708691Z",
     "iopub.status.idle": "2021-05-04T09:50:49.629923Z",
     "shell.execute_reply": "2021-05-04T09:50:49.631135Z"
    }
   },
   "outputs": [],
   "source": [
    "from cuml.datasets import make_blobs\n",
    "\n",
    "X, y = make_blobs(n_samples=50,\n",
    "                  n_features=10,\n",
    "                  centers=5,\n",
    "                  cluster_std=0.4,\n",
    "                  random_state=0)"
   ]
  },
  {
   "cell_type": "code",
   "execution_count": 3,
   "metadata": {
    "execution": {
     "iopub.execute_input": "2021-05-04T09:50:49.638855Z",
     "iopub.status.busy": "2021-05-04T09:50:49.637386Z",
     "iopub.status.idle": "2021-05-04T09:50:49.926263Z",
     "shell.execute_reply": "2021-05-04T09:50:49.927404Z"
    }
   },
   "outputs": [
    {
     "data": {
      "text/plain": [
       "KMeans()"
      ]
     },
     "execution_count": 1,
     "metadata": {},
     "output_type": "execute_result"
    }
   ],
   "source": [
    "from cuml.cluster import KMeans\n",
    "\n",
    "model = KMeans(n_clusters=5)\n",
    "\n",
    "model.fit(X)"
   ]
  },
  {
   "cell_type": "code",
   "execution_count": 4,
   "metadata": {
    "execution": {
     "iopub.execute_input": "2021-05-04T09:50:49.933725Z",
     "iopub.status.busy": "2021-05-04T09:50:49.932344Z",
     "iopub.status.idle": "2021-05-04T09:50:49.936575Z",
     "shell.execute_reply": "2021-05-04T09:50:49.935339Z"
    }
   },
   "outputs": [],
   "source": [
    "import pickle\n",
    "\n",
    "pickle.dump(model, open(\"kmeans_model.pkl\", \"wb\"))"
   ]
  },
  {
   "cell_type": "code",
   "execution_count": 5,
   "metadata": {
    "execution": {
     "iopub.execute_input": "2021-05-04T09:50:49.943130Z",
     "iopub.status.busy": "2021-05-04T09:50:49.941716Z",
     "iopub.status.idle": "2021-05-04T09:50:49.944958Z",
     "shell.execute_reply": "2021-05-04T09:50:49.946291Z"
    }
   },
   "outputs": [],
   "source": [
    "model = pickle.load(open(\"kmeans_model.pkl\", \"rb\"))"
   ]
  },
  {
   "cell_type": "code",
   "execution_count": 6,
   "metadata": {
    "execution": {
     "iopub.execute_input": "2021-05-04T09:50:49.957398Z",
     "iopub.status.busy": "2021-05-04T09:50:49.955918Z",
     "iopub.status.idle": "2021-05-04T09:50:49.962297Z",
     "shell.execute_reply": "2021-05-04T09:50:49.961072Z"
    }
   },
   "outputs": [
    {
     "data": {
      "text/plain": [
       "array([[-5.7684636,  2.3276033, -3.7457771, -1.8541752, -5.1695833,\n",
       "         7.667088 ,  2.7118318,  8.495609 ,  1.7038484,  1.1884269],\n",
       "       [ 4.647688 ,  8.37788  , -9.070581 ,  9.459332 ,  8.450422 ,\n",
       "        -1.0210547,  3.3920872, -7.8629856, -0.7527663,  0.4838412],\n",
       "       [-2.9414442,  4.6401706, -4.5027533,  2.2855108,  1.644645 ,\n",
       "        -2.493789 , -5.2241607, -1.5499196, -8.063638 ,  2.816936 ],\n",
       "       [-4.2710767,  5.5611653, -5.6640916, -1.8229512, -9.2925   ,\n",
       "         0.730283 ,  4.4586773, -2.8876224, -5.1257744,  9.694357 ],\n",
       "       [ 5.5837417, -4.1515303,  4.3696666, -3.00205  ,  3.638897 ,\n",
       "        -4.3419113, -3.318711 ,  6.503671 , -6.865037 , -1.0266498]],\n",
       "      dtype=float32)"
      ]
     },
     "execution_count": 1,
     "metadata": {},
     "output_type": "execute_result"
    }
   ],
   "source": [
    "model.cluster_centers_"
   ]
  },
  {
   "cell_type": "markdown",
   "metadata": {},
   "source": [
    "## Distributed Model Pickling"
   ]
  },
  {
   "cell_type": "markdown",
   "metadata": {},
   "source": [
    "The distributed estimator wrappers inside of the `cuml.dask` are not intended to be pickled directly. The Dask cuML estimators provide a function `get_combined_model()`, which returns the trained single-GPU model for pickling. The combined model can be used for inference on a single-GPU, and the `ParallelPostFit` wrapper from the [Dask-ML](https://ml.dask.org/meta-estimators.html) library can be used to perform distributed inference on a Dask cluster."
   ]
  },
  {
   "cell_type": "code",
   "execution_count": 7,
   "metadata": {
    "execution": {
     "iopub.execute_input": "2021-05-04T09:50:49.971562Z",
     "iopub.status.busy": "2021-05-04T09:50:49.970184Z",
     "iopub.status.idle": "2021-05-04T09:50:54.241371Z",
     "shell.execute_reply": "2021-05-04T09:50:54.242630Z"
    }
   },
   "outputs": [
    {
     "data": {
      "text/html": [
       "<table style=\"border: 2px solid white;\">\n",
       "<tr>\n",
       "<td style=\"vertical-align: top; border: 0px solid white\">\n",
       "<h3 style=\"text-align: left;\">Client</h3>\n",
       "<ul style=\"text-align: left; list-style: none; margin: 0; padding: 0;\">\n",
       "  <li><b>Scheduler: </b>tcp://127.0.0.1:43683</li>\n",
       "  <li><b>Dashboard: </b><a href='http://127.0.0.1:8787/status' target='_blank'>http://127.0.0.1:8787/status</a></li>\n",
       "</ul>\n",
       "</td>\n",
       "<td style=\"vertical-align: top; border: 0px solid white\">\n",
       "<h3 style=\"text-align: left;\">Cluster</h3>\n",
       "<ul style=\"text-align: left; list-style:none; margin: 0; padding: 0;\">\n",
       "  <li><b>Workers: </b>1</li>\n",
       "  <li><b>Cores: </b>1</li>\n",
       "  <li><b>Memory: </b>251.80 GiB</li>\n",
       "</ul>\n",
       "</td>\n",
       "</tr>\n",
       "</table>"
      ],
      "text/plain": [
       "<Client: 'tcp://127.0.0.1:43683' processes=1 threads=1, memory=251.80 GiB>"
      ]
     },
     "execution_count": 1,
     "metadata": {},
     "output_type": "execute_result"
    }
   ],
   "source": [
    "from dask.distributed import Client\n",
    "from dask_cuda import LocalCUDACluster\n",
    "\n",
    "cluster = LocalCUDACluster()\n",
    "client = Client(cluster)\n",
    "client"
   ]
  },
  {
   "cell_type": "code",
   "execution_count": 8,
   "metadata": {
    "execution": {
     "iopub.execute_input": "2021-05-04T09:50:54.258581Z",
     "iopub.status.busy": "2021-05-04T09:50:54.257101Z",
     "iopub.status.idle": "2021-05-04T09:50:54.824125Z",
     "shell.execute_reply": "2021-05-04T09:50:54.825361Z"
    }
   },
   "outputs": [],
   "source": [
    "from cuml.dask.datasets import make_blobs\n",
    "\n",
    "n_workers = len(client.scheduler_info()[\"workers\"].keys())\n",
    "\n",
    "X, y = make_blobs(n_samples=5000, \n",
    "                  n_features=30,\n",
    "                  centers=5, \n",
    "                  cluster_std=0.4, \n",
    "                  random_state=0,\n",
    "                  n_parts=n_workers*5)\n",
    "\n",
    "X = X.persist()\n",
    "y = y.persist()"
   ]
  },
  {
   "cell_type": "code",
   "execution_count": 9,
   "metadata": {
    "execution": {
     "iopub.execute_input": "2021-05-04T09:50:54.841034Z",
     "iopub.status.busy": "2021-05-04T09:50:54.839480Z",
     "iopub.status.idle": "2021-05-04T09:50:54.873367Z",
     "shell.execute_reply": "2021-05-04T09:50:54.872063Z"
    }
   },
   "outputs": [],
   "source": [
    "from cuml.dask.cluster import KMeans\n",
    "\n",
    "dist_model = KMeans(n_clusters=5)"
   ]
  },
  {
   "cell_type": "code",
   "execution_count": 10,
   "metadata": {
    "execution": {
     "iopub.execute_input": "2021-05-04T09:50:54.886838Z",
     "iopub.status.busy": "2021-05-04T09:50:54.885021Z",
     "iopub.status.idle": "2021-05-04T09:50:57.789586Z",
     "shell.execute_reply": "2021-05-04T09:50:57.790868Z"
    }
   },
   "outputs": [
    {
     "data": {
      "text/plain": [
       "<cuml.dask.cluster.kmeans.KMeans at 0x7f1f94140310>"
      ]
     },
     "execution_count": 1,
     "metadata": {},
     "output_type": "execute_result"
    }
   ],
   "source": [
    "dist_model.fit(X)"
   ]
  },
  {
   "cell_type": "code",
   "execution_count": 11,
   "metadata": {
    "execution": {
     "iopub.execute_input": "2021-05-04T09:50:57.803093Z",
     "iopub.status.busy": "2021-05-04T09:50:57.801477Z",
     "iopub.status.idle": "2021-05-04T09:50:57.831251Z",
     "shell.execute_reply": "2021-05-04T09:50:57.829820Z"
    }
   },
   "outputs": [],
   "source": [
    "import pickle\n",
    "\n",
    "single_gpu_model = dist_model.get_combined_model()\n",
    "pickle.dump(single_gpu_model, open(\"kmeans_model.pkl\", \"wb\"))"
   ]
  },
  {
   "cell_type": "code",
   "execution_count": 12,
   "metadata": {
    "execution": {
     "iopub.execute_input": "2021-05-04T09:50:57.840842Z",
     "iopub.status.busy": "2021-05-04T09:50:57.839409Z",
     "iopub.status.idle": "2021-05-04T09:50:57.844065Z",
     "shell.execute_reply": "2021-05-04T09:50:57.845200Z"
    }
   },
   "outputs": [],
   "source": [
    "single_gpu_model = pickle.load(open(\"kmeans_model.pkl\", \"rb\"))"
   ]
  },
  {
   "cell_type": "code",
   "execution_count": 13,
   "metadata": {
    "execution": {
     "iopub.execute_input": "2021-05-04T09:50:57.861155Z",
     "iopub.status.busy": "2021-05-04T09:50:57.859733Z",
     "iopub.status.idle": "2021-05-04T09:50:57.864761Z",
     "shell.execute_reply": "2021-05-04T09:50:57.865880Z"
    }
   },
   "outputs": [
    {
     "data": {
      "text/plain": [
       "array([[ 4.8098717 ,  8.422668  , -9.239024  ,  9.379143  ,  8.499881  ,\n",
       "        -1.059282  ,  3.3437858 , -7.802612  , -0.5946334 ,  0.26447594,\n",
       "         5.507395  , -4.1069803 ,  4.2890773 , -2.8172054 ,  3.615015  ,\n",
       "        -4.1613    , -3.6209629 ,  6.21853   , -6.9460444 , -1.0828305 ,\n",
       "        -5.82677   ,  2.2258768 , -3.8601217 , -1.6974076 , -5.313416  ,\n",
       "         7.5795784 ,  2.9187474 ,  8.540423  ,  1.55232   ,  1.0841804 ],\n",
       "       [-2.8941855 ,  4.4741883 , -4.4475656 ,  2.3820994 ,  1.7478834 ,\n",
       "        -2.504625  , -5.2083306 , -1.6937689 , -8.134755  ,  2.6468303 ,\n",
       "        -4.3163657 ,  5.565538  , -5.732198  , -1.738495  , -9.344655  ,\n",
       "         0.7084659 ,  4.4358416 , -2.9008994 , -4.948639  ,  9.695303  ,\n",
       "         8.366521  , -6.2474527 , -6.3494716 ,  1.9546973 ,  4.1576157 ,\n",
       "        -9.167903  ,  4.607067  ,  8.788588  ,  6.864422  ,  2.2319877 ],\n",
       "       [-4.6657143 , -9.558954  ,  6.657229  ,  4.440131  ,  2.1730309 ,\n",
       "         2.5904038 ,  0.5800098 ,  6.255035  , -8.829282  , -0.4139965 ,\n",
       "         9.831049  ,  7.5897355 ,  9.975542  , -5.856176  , -1.2414308 ,\n",
       "        -2.5572672 , -1.0441563 , -5.246112  , -9.311467  ,  4.636606  ,\n",
       "        -0.11776032, -3.9295287 ,  6.2073684 , -7.399013  ,  5.67409   ,\n",
       "        -8.540298  , -7.518653  , -5.5301228 ,  4.834131  ,  2.5691674 ],\n",
       "       [-6.9581094 , -9.760797  , -6.5506096 , -0.4196504 ,  6.068768  ,\n",
       "         3.7602887 , -3.9751325 ,  6.1493373 , -1.8729934 ,  5.0252733 ,\n",
       "        -6.8341    ,  1.3383291 ,  9.001675  , -0.9864834 ,  9.654021  ,\n",
       "         9.79074   , -8.618679  ,  5.995579  ,  2.209914  , -3.6309092 ,\n",
       "         7.071408  , -7.394621  , -5.299635  , -6.973705  , -7.908466  ,\n",
       "         6.681063  , -5.5756373 ,  7.1313114 ,  6.5996184 , -8.30957   ],\n",
       "       [ 6.261754  ,  9.228767  ,  8.358132  ,  9.0173    ,  7.704466  ,\n",
       "        -1.0047108 , -6.245765  ,  1.3951718 , -6.9761806 , -5.948059  ,\n",
       "         1.05759   , -0.01074279,  2.8210256 ,  1.8389364 , -8.247101  ,\n",
       "         3.0498962 , -8.48324   ,  9.721643  , -7.7502723 ,  3.4655957 ,\n",
       "        -3.9312143 , -4.0965157 ,  2.6586974 ,  1.2832458 ,  1.0177817 ,\n",
       "         5.257112  , -1.644438  ,  6.138322  , -6.884054  , -9.663093  ]],\n",
       "      dtype=float32)"
      ]
     },
     "execution_count": 1,
     "metadata": {},
     "output_type": "execute_result"
    }
   ],
   "source": [
    "single_gpu_model.cluster_centers_"
   ]
  }
 ],
 "metadata": {
  "kernelspec": {
   "display_name": "Python 3",
   "language": "python",
   "name": "python3"
  },
  "language_info": {
   "codemirror_mode": {
    "name": "ipython",
    "version": 3
   },
   "file_extension": ".py",
   "mimetype": "text/x-python",
   "name": "python",
   "nbconvert_exporter": "python",
   "pygments_lexer": "ipython3",
   "version": "3.7.10"
  }
 },
 "nbformat": 4,
 "nbformat_minor": 4
}
