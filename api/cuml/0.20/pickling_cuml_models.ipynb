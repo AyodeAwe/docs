{
 "cells": [
  {
   "cell_type": "markdown",
   "metadata": {},
   "source": [
    "# Pickling cuML Models for Persistence\n",
    "\n",
    "This notebook demonstrates simple pickling of both single-GPU and multi-GPU cuML models for persistence"
   ]
  },
  {
   "cell_type": "code",
   "execution_count": 1,
   "metadata": {
    "execution": {
     "iopub.execute_input": "2021-05-05T09:47:28.691260Z",
     "iopub.status.busy": "2021-05-05T09:47:28.689699Z",
     "iopub.status.idle": "2021-05-05T09:47:28.693600Z",
     "shell.execute_reply": "2021-05-05T09:47:28.694832Z"
    }
   },
   "outputs": [],
   "source": [
    "import warnings\n",
    "warnings.filterwarnings(\"ignore\", category=FutureWarning)"
   ]
  },
  {
   "cell_type": "markdown",
   "metadata": {},
   "source": [
    "## Single GPU Model Pickling\n",
    "\n",
    "All single-GPU estimators are pickleable. The following example demonstrates the creation of a synthetic dataset, training, and pickling of the resulting model for storage. Trained single-GPU models can also be used to distribute the inference on a Dask cluster, which the `Distributed Model Pickling` section below demonstrates."
   ]
  },
  {
   "cell_type": "code",
   "execution_count": 2,
   "metadata": {
    "execution": {
     "iopub.execute_input": "2021-05-05T09:47:28.705079Z",
     "iopub.status.busy": "2021-05-05T09:47:28.703505Z",
     "iopub.status.idle": "2021-05-05T09:47:33.440264Z",
     "shell.execute_reply": "2021-05-05T09:47:33.441440Z"
    }
   },
   "outputs": [],
   "source": [
    "from cuml.datasets import make_blobs\n",
    "\n",
    "X, y = make_blobs(n_samples=50,\n",
    "                  n_features=10,\n",
    "                  centers=5,\n",
    "                  cluster_std=0.4,\n",
    "                  random_state=0)"
   ]
  },
  {
   "cell_type": "code",
   "execution_count": 3,
   "metadata": {
    "execution": {
     "iopub.execute_input": "2021-05-05T09:47:33.452480Z",
     "iopub.status.busy": "2021-05-05T09:47:33.451008Z",
     "iopub.status.idle": "2021-05-05T09:47:33.802087Z",
     "shell.execute_reply": "2021-05-05T09:47:33.800773Z"
    }
   },
   "outputs": [
    {
     "data": {
      "text/plain": [
       "KMeans()"
      ]
     },
     "execution_count": 1,
     "metadata": {},
     "output_type": "execute_result"
    }
   ],
   "source": [
    "from cuml.cluster import KMeans\n",
    "\n",
    "model = KMeans(n_clusters=5)\n",
    "\n",
    "model.fit(X)"
   ]
  },
  {
   "cell_type": "code",
   "execution_count": 4,
   "metadata": {
    "execution": {
     "iopub.execute_input": "2021-05-05T09:47:33.812366Z",
     "iopub.status.busy": "2021-05-05T09:47:33.810907Z",
     "iopub.status.idle": "2021-05-05T09:47:33.815884Z",
     "shell.execute_reply": "2021-05-05T09:47:33.814518Z"
    }
   },
   "outputs": [],
   "source": [
    "import pickle\n",
    "\n",
    "pickle.dump(model, open(\"kmeans_model.pkl\", \"wb\"))"
   ]
  },
  {
   "cell_type": "code",
   "execution_count": 5,
   "metadata": {
    "execution": {
     "iopub.execute_input": "2021-05-05T09:47:33.824470Z",
     "iopub.status.busy": "2021-05-05T09:47:33.823105Z",
     "iopub.status.idle": "2021-05-05T09:47:33.829470Z",
     "shell.execute_reply": "2021-05-05T09:47:33.828150Z"
    }
   },
   "outputs": [],
   "source": [
    "model = pickle.load(open(\"kmeans_model.pkl\", \"rb\"))"
   ]
  },
  {
   "cell_type": "code",
   "execution_count": 6,
   "metadata": {
    "execution": {
     "iopub.execute_input": "2021-05-05T09:47:33.840481Z",
     "iopub.status.busy": "2021-05-05T09:47:33.839194Z",
     "iopub.status.idle": "2021-05-05T09:47:33.845602Z",
     "shell.execute_reply": "2021-05-05T09:47:33.844530Z"
    }
   },
   "outputs": [
    {
     "data": {
      "text/plain": [
       "array([[-5.7684636 ,  2.3276033 , -3.7457774 , -1.8541754 , -5.1695833 ,\n",
       "         7.667088  ,  2.7118318 ,  8.495609  ,  1.7038484 ,  1.1884269 ],\n",
       "       [ 4.647688  ,  8.37788   , -9.070581  ,  9.459332  ,  8.450423  ,\n",
       "        -1.0210547 ,  3.3920872 , -7.862985  , -0.75276613,  0.48384127],\n",
       "       [-2.9414442 ,  4.6401706 , -4.5027533 ,  2.2855108 ,  1.644645  ,\n",
       "        -2.4937892 , -5.2241607 , -1.5499196 , -8.063638  ,  2.816936  ],\n",
       "       [-4.271077  ,  5.5611653 , -5.6640916 , -1.8229512 , -9.2925    ,\n",
       "         0.730283  ,  4.4586773 , -2.8876226 , -5.1257744 ,  9.694357  ],\n",
       "       [ 5.5837426 , -4.1515303 ,  4.369667  , -3.00205   ,  3.638897  ,\n",
       "        -4.3419113 , -3.318711  ,  6.503671  , -6.865036  , -1.0266498 ]],\n",
       "      dtype=float32)"
      ]
     },
     "execution_count": 1,
     "metadata": {},
     "output_type": "execute_result"
    }
   ],
   "source": [
    "model.cluster_centers_"
   ]
  },
  {
   "cell_type": "markdown",
   "metadata": {},
   "source": [
    "## Distributed Model Pickling"
   ]
  },
  {
   "cell_type": "markdown",
   "metadata": {},
   "source": [
    "The distributed estimator wrappers inside of the `cuml.dask` are not intended to be pickled directly. The Dask cuML estimators provide a function `get_combined_model()`, which returns the trained single-GPU model for pickling. The combined model can be used for inference on a single-GPU, and the `ParallelPostFit` wrapper from the [Dask-ML](https://ml.dask.org/meta-estimators.html) library can be used to perform distributed inference on a Dask cluster."
   ]
  },
  {
   "cell_type": "code",
   "execution_count": 7,
   "metadata": {
    "execution": {
     "iopub.execute_input": "2021-05-05T09:47:33.854763Z",
     "iopub.status.busy": "2021-05-05T09:47:33.853479Z",
     "iopub.status.idle": "2021-05-05T09:47:38.412874Z",
     "shell.execute_reply": "2021-05-05T09:47:38.411466Z"
    }
   },
   "outputs": [
    {
     "data": {
      "text/html": [
       "<table style=\"border: 2px solid white;\">\n",
       "<tr>\n",
       "<td style=\"vertical-align: top; border: 0px solid white\">\n",
       "<h3 style=\"text-align: left;\">Client</h3>\n",
       "<ul style=\"text-align: left; list-style: none; margin: 0; padding: 0;\">\n",
       "  <li><b>Scheduler: </b>tcp://127.0.0.1:35546</li>\n",
       "  <li><b>Dashboard: </b><a href='http://127.0.0.1:8787/status' target='_blank'>http://127.0.0.1:8787/status</a></li>\n",
       "</ul>\n",
       "</td>\n",
       "<td style=\"vertical-align: top; border: 0px solid white\">\n",
       "<h3 style=\"text-align: left;\">Cluster</h3>\n",
       "<ul style=\"text-align: left; list-style:none; margin: 0; padding: 0;\">\n",
       "  <li><b>Workers: </b>1</li>\n",
       "  <li><b>Cores: </b>1</li>\n",
       "  <li><b>Memory: </b>251.80 GiB</li>\n",
       "</ul>\n",
       "</td>\n",
       "</tr>\n",
       "</table>"
      ],
      "text/plain": [
       "<Client: 'tcp://127.0.0.1:35546' processes=1 threads=1, memory=251.80 GiB>"
      ]
     },
     "execution_count": 1,
     "metadata": {},
     "output_type": "execute_result"
    }
   ],
   "source": [
    "from dask.distributed import Client\n",
    "from dask_cuda import LocalCUDACluster\n",
    "\n",
    "cluster = LocalCUDACluster()\n",
    "client = Client(cluster)\n",
    "client"
   ]
  },
  {
   "cell_type": "code",
   "execution_count": 8,
   "metadata": {
    "execution": {
     "iopub.execute_input": "2021-05-05T09:47:38.428898Z",
     "iopub.status.busy": "2021-05-05T09:47:38.427370Z",
     "iopub.status.idle": "2021-05-05T09:47:38.926449Z",
     "shell.execute_reply": "2021-05-05T09:47:38.925202Z"
    }
   },
   "outputs": [],
   "source": [
    "from cuml.dask.datasets import make_blobs\n",
    "\n",
    "n_workers = len(client.scheduler_info()[\"workers\"].keys())\n",
    "\n",
    "X, y = make_blobs(n_samples=5000, \n",
    "                  n_features=30,\n",
    "                  centers=5, \n",
    "                  cluster_std=0.4, \n",
    "                  random_state=0,\n",
    "                  n_parts=n_workers*5)\n",
    "\n",
    "X = X.persist()\n",
    "y = y.persist()"
   ]
  },
  {
   "cell_type": "code",
   "execution_count": 9,
   "metadata": {
    "execution": {
     "iopub.execute_input": "2021-05-05T09:47:38.938943Z",
     "iopub.status.busy": "2021-05-05T09:47:38.937440Z",
     "iopub.status.idle": "2021-05-05T09:47:38.972356Z",
     "shell.execute_reply": "2021-05-05T09:47:38.970829Z"
    }
   },
   "outputs": [],
   "source": [
    "from cuml.dask.cluster import KMeans\n",
    "\n",
    "dist_model = KMeans(n_clusters=5)"
   ]
  },
  {
   "cell_type": "code",
   "execution_count": 10,
   "metadata": {
    "execution": {
     "iopub.execute_input": "2021-05-05T09:47:38.982407Z",
     "iopub.status.busy": "2021-05-05T09:47:38.980491Z",
     "iopub.status.idle": "2021-05-05T09:47:42.149948Z",
     "shell.execute_reply": "2021-05-05T09:47:42.151208Z"
    }
   },
   "outputs": [
    {
     "data": {
      "text/plain": [
       "<cuml.dask.cluster.kmeans.KMeans at 0x7f1841060110>"
      ]
     },
     "execution_count": 1,
     "metadata": {},
     "output_type": "execute_result"
    }
   ],
   "source": [
    "dist_model.fit(X)"
   ]
  },
  {
   "cell_type": "code",
   "execution_count": 11,
   "metadata": {
    "execution": {
     "iopub.execute_input": "2021-05-05T09:47:42.166090Z",
     "iopub.status.busy": "2021-05-05T09:47:42.164631Z",
     "iopub.status.idle": "2021-05-05T09:47:42.191464Z",
     "shell.execute_reply": "2021-05-05T09:47:42.192638Z"
    }
   },
   "outputs": [],
   "source": [
    "import pickle\n",
    "\n",
    "single_gpu_model = dist_model.get_combined_model()\n",
    "pickle.dump(single_gpu_model, open(\"kmeans_model.pkl\", \"wb\"))"
   ]
  },
  {
   "cell_type": "code",
   "execution_count": 12,
   "metadata": {
    "execution": {
     "iopub.execute_input": "2021-05-05T09:47:42.201646Z",
     "iopub.status.busy": "2021-05-05T09:47:42.200343Z",
     "iopub.status.idle": "2021-05-05T09:47:42.204946Z",
     "shell.execute_reply": "2021-05-05T09:47:42.206224Z"
    }
   },
   "outputs": [],
   "source": [
    "single_gpu_model = pickle.load(open(\"kmeans_model.pkl\", \"rb\"))"
   ]
  },
  {
   "cell_type": "code",
   "execution_count": 13,
   "metadata": {
    "execution": {
     "iopub.execute_input": "2021-05-05T09:47:42.219734Z",
     "iopub.status.busy": "2021-05-05T09:47:42.218456Z",
     "iopub.status.idle": "2021-05-05T09:47:42.223881Z",
     "shell.execute_reply": "2021-05-05T09:47:42.224864Z"
    }
   },
   "outputs": [
    {
     "data": {
      "text/plain": [
       "array([[ 4.809872  ,  8.42267   , -9.239022  ,  9.379146  ,  8.499881  ,\n",
       "        -1.0592816 ,  3.343786  , -7.802612  , -0.59463346,  0.26447597,\n",
       "         5.5073943 , -4.10698   ,  4.289078  , -2.8172052 ,  3.615014  ,\n",
       "        -4.1612988 , -3.6209643 ,  6.21853   , -6.946047  , -1.0828308 ,\n",
       "        -5.8267713 ,  2.2258759 , -3.8601205 , -1.6974078 , -5.313418  ,\n",
       "         7.579579  ,  2.9187472 ,  8.540426  ,  1.5523202 ,  1.0841806 ],\n",
       "       [-2.8941853 ,  4.4741874 , -4.4475656 ,  2.3820994 ,  1.7478833 ,\n",
       "        -2.5046248 , -5.208329  , -1.6937687 , -8.134756  ,  2.6468298 ,\n",
       "        -4.316364  ,  5.56554   , -5.732199  , -1.738495  , -9.344659  ,\n",
       "         0.7084658 ,  4.4358387 , -2.9008987 , -4.9486394 ,  9.695301  ,\n",
       "         8.366519  , -6.2474537 , -6.3494725 ,  1.9546974 ,  4.1576147 ,\n",
       "        -9.167901  ,  4.6070666 ,  8.788586  ,  6.864423  ,  2.2319884 ],\n",
       "       [-4.6657157 , -9.558953  ,  6.657227  ,  4.44013   ,  2.1730306 ,\n",
       "         2.5904045 ,  0.5800097 ,  6.255036  , -8.829285  , -0.4139966 ,\n",
       "         9.831049  ,  7.5897355 ,  9.975545  , -5.8561745 , -1.2414306 ,\n",
       "        -2.5572672 , -1.0441561 , -5.2461085 , -9.311472  ,  4.636606  ,\n",
       "        -0.11776034, -3.9295287 ,  6.2073674 , -7.3990145 ,  5.674093  ,\n",
       "        -8.5402975 , -7.5186534 , -5.5301223 ,  4.834131  ,  2.5691679 ],\n",
       "       [-6.958109  , -9.760794  , -6.55061   , -0.4196505 ,  6.0687666 ,\n",
       "         3.7602887 , -3.975133  ,  6.149339  , -1.8729937 ,  5.025273  ,\n",
       "        -6.8340993 ,  1.3383292 ,  9.001676  , -0.9864836 ,  9.65402   ,\n",
       "         9.790737  , -8.618674  ,  5.9955792 ,  2.2099137 , -3.63091   ,\n",
       "         7.071409  , -7.394621  , -5.299634  , -6.973706  , -7.908463  ,\n",
       "         6.681062  , -5.575639  ,  7.1313086 ,  6.5996175 , -8.309573  ],\n",
       "       [ 6.261754  ,  9.228768  ,  8.358131  ,  9.017298  ,  7.7044673 ,\n",
       "        -1.0047107 , -6.245766  ,  1.3951724 , -6.9761806 , -5.948061  ,\n",
       "         1.0575898 , -0.01074278,  2.8210258 ,  1.8389364 , -8.247102  ,\n",
       "         3.0498962 , -8.48324   ,  9.7216425 , -7.750272  ,  3.4655957 ,\n",
       "        -3.9312139 , -4.0965157 ,  2.6586983 ,  1.2832462 ,  1.0177817 ,\n",
       "         5.2571115 , -1.6444378 ,  6.1383224 , -6.884053  , -9.6630945 ]],\n",
       "      dtype=float32)"
      ]
     },
     "execution_count": 1,
     "metadata": {},
     "output_type": "execute_result"
    }
   ],
   "source": [
    "single_gpu_model.cluster_centers_"
   ]
  }
 ],
 "metadata": {
  "kernelspec": {
   "display_name": "Python 3",
   "language": "python",
   "name": "python3"
  },
  "language_info": {
   "codemirror_mode": {
    "name": "ipython",
    "version": 3
   },
   "file_extension": ".py",
   "mimetype": "text/x-python",
   "name": "python",
   "nbconvert_exporter": "python",
   "pygments_lexer": "ipython3",
   "version": "3.7.10"
  }
 },
 "nbformat": 4,
 "nbformat_minor": 4
}
