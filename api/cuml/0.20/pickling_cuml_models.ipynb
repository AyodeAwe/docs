{
 "cells": [
  {
   "cell_type": "markdown",
   "metadata": {},
   "source": [
    "# Pickling cuML Models for Persistence\n",
    "\n",
    "This notebook demonstrates simple pickling of both single-GPU and multi-GPU cuML models for persistence"
   ]
  },
  {
   "cell_type": "code",
   "execution_count": 1,
   "metadata": {
    "execution": {
     "iopub.execute_input": "2021-05-07T09:46:49.702741Z",
     "iopub.status.busy": "2021-05-07T09:46:49.698741Z",
     "iopub.status.idle": "2021-05-07T09:46:49.706353Z",
     "shell.execute_reply": "2021-05-07T09:46:49.707532Z"
    }
   },
   "outputs": [],
   "source": [
    "import warnings\n",
    "warnings.filterwarnings(\"ignore\", category=FutureWarning)"
   ]
  },
  {
   "cell_type": "markdown",
   "metadata": {},
   "source": [
    "## Single GPU Model Pickling\n",
    "\n",
    "All single-GPU estimators are pickleable. The following example demonstrates the creation of a synthetic dataset, training, and pickling of the resulting model for storage. Trained single-GPU models can also be used to distribute the inference on a Dask cluster, which the `Distributed Model Pickling` section below demonstrates."
   ]
  },
  {
   "cell_type": "code",
   "execution_count": 2,
   "metadata": {
    "execution": {
     "iopub.execute_input": "2021-05-07T09:46:49.717843Z",
     "iopub.status.busy": "2021-05-07T09:46:49.716335Z",
     "iopub.status.idle": "2021-05-07T09:46:54.707259Z",
     "shell.execute_reply": "2021-05-07T09:46:54.708481Z"
    }
   },
   "outputs": [],
   "source": [
    "from cuml.datasets import make_blobs\n",
    "\n",
    "X, y = make_blobs(n_samples=50,\n",
    "                  n_features=10,\n",
    "                  centers=5,\n",
    "                  cluster_std=0.4,\n",
    "                  random_state=0)"
   ]
  },
  {
   "cell_type": "code",
   "execution_count": 3,
   "metadata": {
    "execution": {
     "iopub.execute_input": "2021-05-07T09:46:54.720083Z",
     "iopub.status.busy": "2021-05-07T09:46:54.718563Z",
     "iopub.status.idle": "2021-05-07T09:46:55.174107Z",
     "shell.execute_reply": "2021-05-07T09:46:55.175368Z"
    }
   },
   "outputs": [
    {
     "data": {
      "text/plain": [
       "KMeans()"
      ]
     },
     "execution_count": 1,
     "metadata": {},
     "output_type": "execute_result"
    }
   ],
   "source": [
    "from cuml.cluster import KMeans\n",
    "\n",
    "model = KMeans(n_clusters=5)\n",
    "\n",
    "model.fit(X)"
   ]
  },
  {
   "cell_type": "code",
   "execution_count": 4,
   "metadata": {
    "execution": {
     "iopub.execute_input": "2021-05-07T09:46:55.184096Z",
     "iopub.status.busy": "2021-05-07T09:46:55.182601Z",
     "iopub.status.idle": "2021-05-07T09:46:55.187655Z",
     "shell.execute_reply": "2021-05-07T09:46:55.186489Z"
    }
   },
   "outputs": [],
   "source": [
    "import pickle\n",
    "\n",
    "pickle.dump(model, open(\"kmeans_model.pkl\", \"wb\"))"
   ]
  },
  {
   "cell_type": "code",
   "execution_count": 5,
   "metadata": {
    "execution": {
     "iopub.execute_input": "2021-05-07T09:46:55.196072Z",
     "iopub.status.busy": "2021-05-07T09:46:55.194669Z",
     "iopub.status.idle": "2021-05-07T09:46:55.199062Z",
     "shell.execute_reply": "2021-05-07T09:46:55.197923Z"
    }
   },
   "outputs": [],
   "source": [
    "model = pickle.load(open(\"kmeans_model.pkl\", \"rb\"))"
   ]
  },
  {
   "cell_type": "code",
   "execution_count": 6,
   "metadata": {
    "execution": {
     "iopub.execute_input": "2021-05-07T09:46:55.208720Z",
     "iopub.status.busy": "2021-05-07T09:46:55.207395Z",
     "iopub.status.idle": "2021-05-07T09:46:55.211977Z",
     "shell.execute_reply": "2021-05-07T09:46:55.213040Z"
    }
   },
   "outputs": [
    {
     "data": {
      "text/plain": [
       "array([[-5.7684636 ,  2.3276033 , -3.7457774 , -1.8541752 , -5.1695833 ,\n",
       "         7.667088  ,  2.7118316 ,  8.495609  ,  1.7038486 ,  1.1884269 ],\n",
       "       [ 4.6476874 ,  8.377879  , -9.070581  ,  9.459332  ,  8.450422  ,\n",
       "        -1.0210547 ,  3.3920872 , -7.862985  , -0.75276613,  0.48384127],\n",
       "       [-2.9414442 ,  4.6401706 , -4.5027533 ,  2.2855108 ,  1.644645  ,\n",
       "        -2.4937892 , -5.2241607 , -1.5499196 , -8.063638  ,  2.8169358 ],\n",
       "       [-4.271077  ,  5.561165  , -5.6640916 , -1.8229512 , -9.2925    ,\n",
       "         0.730283  ,  4.4586773 , -2.8876226 , -5.1257744 ,  9.694357  ],\n",
       "       [ 5.5837417 , -4.1515303 ,  4.369667  , -3.00205   ,  3.6388965 ,\n",
       "        -4.341912  , -3.3187115 ,  6.503671  , -6.865036  , -1.0266498 ]],\n",
       "      dtype=float32)"
      ]
     },
     "execution_count": 1,
     "metadata": {},
     "output_type": "execute_result"
    }
   ],
   "source": [
    "model.cluster_centers_"
   ]
  },
  {
   "cell_type": "markdown",
   "metadata": {},
   "source": [
    "## Distributed Model Pickling"
   ]
  },
  {
   "cell_type": "markdown",
   "metadata": {},
   "source": [
    "The distributed estimator wrappers inside of the `cuml.dask` are not intended to be pickled directly. The Dask cuML estimators provide a function `get_combined_model()`, which returns the trained single-GPU model for pickling. The combined model can be used for inference on a single-GPU, and the `ParallelPostFit` wrapper from the [Dask-ML](https://ml.dask.org/meta-estimators.html) library can be used to perform distributed inference on a Dask cluster."
   ]
  },
  {
   "cell_type": "code",
   "execution_count": 7,
   "metadata": {
    "execution": {
     "iopub.execute_input": "2021-05-07T09:46:55.221247Z",
     "iopub.status.busy": "2021-05-07T09:46:55.220003Z",
     "iopub.status.idle": "2021-05-07T09:46:59.391690Z",
     "shell.execute_reply": "2021-05-07T09:46:59.393078Z"
    }
   },
   "outputs": [
    {
     "data": {
      "text/html": [
       "<table style=\"border: 2px solid white;\">\n",
       "<tr>\n",
       "<td style=\"vertical-align: top; border: 0px solid white\">\n",
       "<h3 style=\"text-align: left;\">Client</h3>\n",
       "<ul style=\"text-align: left; list-style: none; margin: 0; padding: 0;\">\n",
       "  <li><b>Scheduler: </b>tcp://127.0.0.1:44475</li>\n",
       "  <li><b>Dashboard: </b><a href='http://127.0.0.1:8787/status' target='_blank'>http://127.0.0.1:8787/status</a></li>\n",
       "</ul>\n",
       "</td>\n",
       "<td style=\"vertical-align: top; border: 0px solid white\">\n",
       "<h3 style=\"text-align: left;\">Cluster</h3>\n",
       "<ul style=\"text-align: left; list-style:none; margin: 0; padding: 0;\">\n",
       "  <li><b>Workers: </b>1</li>\n",
       "  <li><b>Cores: </b>1</li>\n",
       "  <li><b>Memory: </b>251.80 GiB</li>\n",
       "</ul>\n",
       "</td>\n",
       "</tr>\n",
       "</table>"
      ],
      "text/plain": [
       "<Client: 'tcp://127.0.0.1:44475' processes=1 threads=1, memory=251.80 GiB>"
      ]
     },
     "execution_count": 1,
     "metadata": {},
     "output_type": "execute_result"
    }
   ],
   "source": [
    "from dask.distributed import Client\n",
    "from dask_cuda import LocalCUDACluster\n",
    "\n",
    "cluster = LocalCUDACluster()\n",
    "client = Client(cluster)\n",
    "client"
   ]
  },
  {
   "cell_type": "code",
   "execution_count": 8,
   "metadata": {
    "execution": {
     "iopub.execute_input": "2021-05-07T09:46:59.408270Z",
     "iopub.status.busy": "2021-05-07T09:46:59.406653Z",
     "iopub.status.idle": "2021-05-07T09:46:59.967583Z",
     "shell.execute_reply": "2021-05-07T09:46:59.966262Z"
    }
   },
   "outputs": [],
   "source": [
    "from cuml.dask.datasets import make_blobs\n",
    "\n",
    "n_workers = len(client.scheduler_info()[\"workers\"].keys())\n",
    "\n",
    "X, y = make_blobs(n_samples=5000, \n",
    "                  n_features=30,\n",
    "                  centers=5, \n",
    "                  cluster_std=0.4, \n",
    "                  random_state=0,\n",
    "                  n_parts=n_workers*5)\n",
    "\n",
    "X = X.persist()\n",
    "y = y.persist()"
   ]
  },
  {
   "cell_type": "code",
   "execution_count": 9,
   "metadata": {
    "execution": {
     "iopub.execute_input": "2021-05-07T09:46:59.977525Z",
     "iopub.status.busy": "2021-05-07T09:46:59.975991Z",
     "iopub.status.idle": "2021-05-07T09:47:00.016792Z",
     "shell.execute_reply": "2021-05-07T09:47:00.015481Z"
    }
   },
   "outputs": [],
   "source": [
    "from cuml.dask.cluster import KMeans\n",
    "\n",
    "dist_model = KMeans(n_clusters=5)"
   ]
  },
  {
   "cell_type": "code",
   "execution_count": 10,
   "metadata": {
    "execution": {
     "iopub.execute_input": "2021-05-07T09:47:00.029231Z",
     "iopub.status.busy": "2021-05-07T09:47:00.027774Z",
     "iopub.status.idle": "2021-05-07T09:47:02.998220Z",
     "shell.execute_reply": "2021-05-07T09:47:02.999291Z"
    }
   },
   "outputs": [
    {
     "data": {
      "text/plain": [
       "<cuml.dask.cluster.kmeans.KMeans at 0x7f5b9a3ec0d0>"
      ]
     },
     "execution_count": 1,
     "metadata": {},
     "output_type": "execute_result"
    }
   ],
   "source": [
    "dist_model.fit(X)"
   ]
  },
  {
   "cell_type": "code",
   "execution_count": 11,
   "metadata": {
    "execution": {
     "iopub.execute_input": "2021-05-07T09:47:03.011263Z",
     "iopub.status.busy": "2021-05-07T09:47:03.009735Z",
     "iopub.status.idle": "2021-05-07T09:47:03.027437Z",
     "shell.execute_reply": "2021-05-07T09:47:03.026142Z"
    }
   },
   "outputs": [],
   "source": [
    "import pickle\n",
    "\n",
    "single_gpu_model = dist_model.get_combined_model()\n",
    "pickle.dump(single_gpu_model, open(\"kmeans_model.pkl\", \"wb\"))"
   ]
  },
  {
   "cell_type": "code",
   "execution_count": 12,
   "metadata": {
    "execution": {
     "iopub.execute_input": "2021-05-07T09:47:03.035695Z",
     "iopub.status.busy": "2021-05-07T09:47:03.034251Z",
     "iopub.status.idle": "2021-05-07T09:47:03.038779Z",
     "shell.execute_reply": "2021-05-07T09:47:03.039963Z"
    }
   },
   "outputs": [],
   "source": [
    "single_gpu_model = pickle.load(open(\"kmeans_model.pkl\", \"rb\"))"
   ]
  },
  {
   "cell_type": "code",
   "execution_count": 13,
   "metadata": {
    "execution": {
     "iopub.execute_input": "2021-05-07T09:47:03.058530Z",
     "iopub.status.busy": "2021-05-07T09:47:03.055079Z",
     "iopub.status.idle": "2021-05-07T09:47:03.064060Z",
     "shell.execute_reply": "2021-05-07T09:47:03.062797Z"
    }
   },
   "outputs": [
    {
     "data": {
      "text/plain": [
       "array([[ 4.8098717 ,  8.422669  , -9.239025  ,  9.379146  ,  8.499883  ,\n",
       "        -1.0592813 ,  3.3437855 , -7.802612  , -0.59463334,  0.26447597,\n",
       "         5.5073957 , -4.1069794 ,  4.2890773 , -2.8172052 ,  3.6150153 ,\n",
       "        -4.1612988 , -3.620964  ,  6.218531  , -6.946046  , -1.0828305 ,\n",
       "        -5.8267717 ,  2.2258766 , -3.860121  , -1.6974077 , -5.3134165 ,\n",
       "         7.5795784 ,  2.9187474 ,  8.540426  ,  1.5523202 ,  1.0841808 ],\n",
       "       [-2.8941855 ,  4.474188  , -4.4475675 ,  2.3820996 ,  1.7478836 ,\n",
       "        -2.5046253 , -5.2083306 , -1.693768  , -8.134756  ,  2.6468294 ,\n",
       "        -4.316365  ,  5.56554   , -5.732198  , -1.7384955 , -9.344652  ,\n",
       "         0.7084659 ,  4.435841  , -2.9008994 , -4.9486365 ,  9.695306  ,\n",
       "         8.366522  , -6.2474527 , -6.3494735 ,  1.9546969 ,  4.1576157 ,\n",
       "        -9.1679    ,  4.607067  ,  8.788584  ,  6.8644238 ,  2.2319877 ],\n",
       "       [-4.665714  , -9.558954  ,  6.657228  ,  4.4401298 ,  2.173031  ,\n",
       "         2.590404  ,  0.58000994,  6.255036  , -8.829284  , -0.4139965 ,\n",
       "         9.831053  ,  7.5897355 ,  9.975544  , -5.8561745 , -1.2414299 ,\n",
       "        -2.5572662 , -1.0441562 , -5.246112  , -9.311465  ,  4.636607  ,\n",
       "        -0.11776033, -3.9295285 ,  6.207367  , -7.399015  ,  5.6740913 ,\n",
       "        -8.540297  , -7.5186534 , -5.5301228 ,  4.8341303 ,  2.569167  ],\n",
       "       [-6.958111  , -9.760798  , -6.550611  , -0.41965035,  6.0687685 ,\n",
       "         3.7602887 , -3.975133  ,  6.1493373 , -1.8729932 ,  5.0252748 ,\n",
       "        -6.834097  ,  1.338329  ,  9.0016775 , -0.9864835 ,  9.654018  ,\n",
       "         9.79074   , -8.618677  ,  5.9955792 ,  2.2099135 , -3.6309094 ,\n",
       "         7.0714083 , -7.3946214 , -5.2996345 , -6.973706  , -7.908463  ,\n",
       "         6.681065  , -5.575641  ,  7.131311  ,  6.599617  , -8.309569  ],\n",
       "       [ 6.2617536 ,  9.228767  ,  8.35813   ,  9.017296  ,  7.704465  ,\n",
       "        -1.0047106 , -6.2457657 ,  1.3951721 , -6.9761796 , -5.948059  ,\n",
       "         1.0575899 , -0.01074279,  2.8210251 ,  1.8389362 , -8.247102  ,\n",
       "         3.0498965 , -8.483242  ,  9.721644  , -7.750272  ,  3.4655957 ,\n",
       "        -3.9312136 , -4.0965166 ,  2.6586986 ,  1.2832459 ,  1.0177817 ,\n",
       "         5.2571087 , -1.644438  ,  6.1383233 , -6.8840513 , -9.663093  ]],\n",
       "      dtype=float32)"
      ]
     },
     "execution_count": 1,
     "metadata": {},
     "output_type": "execute_result"
    }
   ],
   "source": [
    "single_gpu_model.cluster_centers_"
   ]
  }
 ],
 "metadata": {
  "kernelspec": {
   "display_name": "Python 3",
   "language": "python",
   "name": "python3"
  },
  "language_info": {
   "codemirror_mode": {
    "name": "ipython",
    "version": 3
   },
   "file_extension": ".py",
   "mimetype": "text/x-python",
   "name": "python",
   "nbconvert_exporter": "python",
   "pygments_lexer": "ipython3",
   "version": "3.7.10"
  }
 },
 "nbformat": 4,
 "nbformat_minor": 4
}
