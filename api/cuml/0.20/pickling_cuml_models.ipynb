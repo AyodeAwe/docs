{
 "cells": [
  {
   "cell_type": "markdown",
   "metadata": {},
   "source": [
    "# Pickling cuML Models for Persistence\n",
    "\n",
    "This notebook demonstrates simple pickling of both single-GPU and multi-GPU cuML models for persistence"
   ]
  },
  {
   "cell_type": "code",
   "execution_count": 1,
   "metadata": {
    "execution": {
     "iopub.execute_input": "2021-04-27T17:56:35.467670Z",
     "iopub.status.busy": "2021-04-27T17:56:35.466210Z",
     "iopub.status.idle": "2021-04-27T17:56:35.471021Z",
     "shell.execute_reply": "2021-04-27T17:56:35.469767Z"
    }
   },
   "outputs": [],
   "source": [
    "import warnings\n",
    "warnings.filterwarnings(\"ignore\", category=FutureWarning)"
   ]
  },
  {
   "cell_type": "markdown",
   "metadata": {},
   "source": [
    "## Single GPU Model Pickling\n",
    "\n",
    "All single-GPU estimators are pickleable. The following example demonstrates the creation of a synthetic dataset, training, and pickling of the resulting model for storage. Trained single-GPU models can also be used to distribute the inference on a Dask cluster, which the `Distributed Model Pickling` section below demonstrates."
   ]
  },
  {
   "cell_type": "code",
   "execution_count": 2,
   "metadata": {
    "execution": {
     "iopub.execute_input": "2021-04-27T17:56:35.480279Z",
     "iopub.status.busy": "2021-04-27T17:56:35.478921Z",
     "iopub.status.idle": "2021-04-27T17:56:40.197585Z",
     "shell.execute_reply": "2021-04-27T17:56:40.198841Z"
    }
   },
   "outputs": [],
   "source": [
    "from cuml.datasets import make_blobs\n",
    "\n",
    "X, y = make_blobs(n_samples=50,\n",
    "                  n_features=10,\n",
    "                  centers=5,\n",
    "                  cluster_std=0.4,\n",
    "                  random_state=0)"
   ]
  },
  {
   "cell_type": "code",
   "execution_count": 3,
   "metadata": {
    "execution": {
     "iopub.execute_input": "2021-04-27T17:56:40.213219Z",
     "iopub.status.busy": "2021-04-27T17:56:40.211757Z",
     "iopub.status.idle": "2021-04-27T17:56:40.688067Z",
     "shell.execute_reply": "2021-04-27T17:56:40.689275Z"
    }
   },
   "outputs": [
    {
     "data": {
      "text/plain": [
       "KMeans()"
      ]
     },
     "execution_count": 1,
     "metadata": {},
     "output_type": "execute_result"
    }
   ],
   "source": [
    "from cuml.cluster import KMeans\n",
    "\n",
    "model = KMeans(n_clusters=5)\n",
    "\n",
    "model.fit(X)"
   ]
  },
  {
   "cell_type": "code",
   "execution_count": 4,
   "metadata": {
    "execution": {
     "iopub.execute_input": "2021-04-27T17:56:40.698416Z",
     "iopub.status.busy": "2021-04-27T17:56:40.697053Z",
     "iopub.status.idle": "2021-04-27T17:56:40.702423Z",
     "shell.execute_reply": "2021-04-27T17:56:40.701094Z"
    }
   },
   "outputs": [],
   "source": [
    "import pickle\n",
    "\n",
    "pickle.dump(model, open(\"kmeans_model.pkl\", \"wb\"))"
   ]
  },
  {
   "cell_type": "code",
   "execution_count": 5,
   "metadata": {
    "execution": {
     "iopub.execute_input": "2021-04-27T17:56:40.710331Z",
     "iopub.status.busy": "2021-04-27T17:56:40.709081Z",
     "iopub.status.idle": "2021-04-27T17:56:40.713386Z",
     "shell.execute_reply": "2021-04-27T17:56:40.714155Z"
    }
   },
   "outputs": [],
   "source": [
    "model = pickle.load(open(\"kmeans_model.pkl\", \"rb\"))"
   ]
  },
  {
   "cell_type": "code",
   "execution_count": 6,
   "metadata": {
    "execution": {
     "iopub.execute_input": "2021-04-27T17:56:40.723572Z",
     "iopub.status.busy": "2021-04-27T17:56:40.722322Z",
     "iopub.status.idle": "2021-04-27T17:56:40.726816Z",
     "shell.execute_reply": "2021-04-27T17:56:40.727873Z"
    }
   },
   "outputs": [
    {
     "data": {
      "text/plain": [
       "array([[-5.7684636 ,  2.3276033 , -3.7457774 , -1.8541754 , -5.1695833 ,\n",
       "         7.667088  ,  2.7118318 ,  8.495609  ,  1.7038484 ,  1.1884269 ],\n",
       "       [ 4.647688  ,  8.377879  , -9.070581  ,  9.459332  ,  8.450422  ,\n",
       "        -1.0210547 ,  3.3920872 , -7.8629856 , -0.75276613,  0.4838412 ],\n",
       "       [-2.9414442 ,  4.6401706 , -4.5027533 ,  2.2855108 ,  1.644645  ,\n",
       "        -2.4937892 , -5.2241607 , -1.5499196 , -8.063638  ,  2.816936  ],\n",
       "       [-4.271077  ,  5.5611653 , -5.6640916 , -1.8229512 , -9.2925    ,\n",
       "         0.730283  ,  4.4586773 , -2.8876224 , -5.1257744 ,  9.694357  ],\n",
       "       [ 5.5837426 , -4.1515303 ,  4.369667  , -3.0020502 ,  3.6388965 ,\n",
       "        -4.341912  , -3.3187115 ,  6.503671  , -6.865036  , -1.0266498 ]],\n",
       "      dtype=float32)"
      ]
     },
     "execution_count": 1,
     "metadata": {},
     "output_type": "execute_result"
    }
   ],
   "source": [
    "model.cluster_centers_"
   ]
  },
  {
   "cell_type": "markdown",
   "metadata": {},
   "source": [
    "## Distributed Model Pickling"
   ]
  },
  {
   "cell_type": "markdown",
   "metadata": {},
   "source": [
    "The distributed estimator wrappers inside of the `cuml.dask` are not intended to be pickled directly. The Dask cuML estimators provide a function `get_combined_model()`, which returns the trained single-GPU model for pickling. The combined model can be used for inference on a single-GPU, and the `ParallelPostFit` wrapper from the [Dask-ML](https://ml.dask.org/meta-estimators.html) library can be used to perform distributed inference on a Dask cluster."
   ]
  },
  {
   "cell_type": "code",
   "execution_count": 7,
   "metadata": {
    "execution": {
     "iopub.execute_input": "2021-04-27T17:56:40.736180Z",
     "iopub.status.busy": "2021-04-27T17:56:40.734882Z",
     "iopub.status.idle": "2021-04-27T17:56:45.149862Z",
     "shell.execute_reply": "2021-04-27T17:56:45.148579Z"
    }
   },
   "outputs": [
    {
     "data": {
      "text/html": [
       "<table style=\"border: 2px solid white;\">\n",
       "<tr>\n",
       "<td style=\"vertical-align: top; border: 0px solid white\">\n",
       "<h3 style=\"text-align: left;\">Client</h3>\n",
       "<ul style=\"text-align: left; list-style: none; margin: 0; padding: 0;\">\n",
       "  <li><b>Scheduler: </b>tcp://127.0.0.1:43218</li>\n",
       "  <li><b>Dashboard: </b><a href='http://127.0.0.1:8787/status' target='_blank'>http://127.0.0.1:8787/status</a></li>\n",
       "</ul>\n",
       "</td>\n",
       "<td style=\"vertical-align: top; border: 0px solid white\">\n",
       "<h3 style=\"text-align: left;\">Cluster</h3>\n",
       "<ul style=\"text-align: left; list-style:none; margin: 0; padding: 0;\">\n",
       "  <li><b>Workers: </b>1</li>\n",
       "  <li><b>Cores: </b>1</li>\n",
       "  <li><b>Memory: </b>251.80 GiB</li>\n",
       "</ul>\n",
       "</td>\n",
       "</tr>\n",
       "</table>"
      ],
      "text/plain": [
       "<Client: 'tcp://127.0.0.1:43218' processes=1 threads=1, memory=251.80 GiB>"
      ]
     },
     "execution_count": 1,
     "metadata": {},
     "output_type": "execute_result"
    }
   ],
   "source": [
    "from dask.distributed import Client\n",
    "from dask_cuda import LocalCUDACluster\n",
    "\n",
    "cluster = LocalCUDACluster()\n",
    "client = Client(cluster)\n",
    "client"
   ]
  },
  {
   "cell_type": "code",
   "execution_count": 8,
   "metadata": {
    "execution": {
     "iopub.execute_input": "2021-04-27T17:56:45.163920Z",
     "iopub.status.busy": "2021-04-27T17:56:45.162413Z",
     "iopub.status.idle": "2021-04-27T17:56:45.576643Z",
     "shell.execute_reply": "2021-04-27T17:56:45.577259Z"
    }
   },
   "outputs": [],
   "source": [
    "from cuml.dask.datasets import make_blobs\n",
    "\n",
    "n_workers = len(client.scheduler_info()[\"workers\"].keys())\n",
    "\n",
    "X, y = make_blobs(n_samples=5000, \n",
    "                  n_features=30,\n",
    "                  centers=5, \n",
    "                  cluster_std=0.4, \n",
    "                  random_state=0,\n",
    "                  n_parts=n_workers*5)\n",
    "\n",
    "X = X.persist()\n",
    "y = y.persist()"
   ]
  },
  {
   "cell_type": "code",
   "execution_count": 9,
   "metadata": {
    "execution": {
     "iopub.execute_input": "2021-04-27T17:56:45.585806Z",
     "iopub.status.busy": "2021-04-27T17:56:45.584306Z",
     "iopub.status.idle": "2021-04-27T17:56:45.616691Z",
     "shell.execute_reply": "2021-04-27T17:56:45.617599Z"
    }
   },
   "outputs": [],
   "source": [
    "from cuml.dask.cluster import KMeans\n",
    "\n",
    "dist_model = KMeans(n_clusters=5)"
   ]
  },
  {
   "cell_type": "code",
   "execution_count": 10,
   "metadata": {
    "execution": {
     "iopub.execute_input": "2021-04-27T17:56:45.628910Z",
     "iopub.status.busy": "2021-04-27T17:56:45.627435Z",
     "iopub.status.idle": "2021-04-27T17:56:48.493494Z",
     "shell.execute_reply": "2021-04-27T17:56:48.494852Z"
    }
   },
   "outputs": [
    {
     "data": {
      "text/plain": [
       "<cuml.dask.cluster.kmeans.KMeans at 0x7f9088d4ff10>"
      ]
     },
     "execution_count": 1,
     "metadata": {},
     "output_type": "execute_result"
    }
   ],
   "source": [
    "dist_model.fit(X)"
   ]
  },
  {
   "cell_type": "code",
   "execution_count": 11,
   "metadata": {
    "execution": {
     "iopub.execute_input": "2021-04-27T17:56:48.509371Z",
     "iopub.status.busy": "2021-04-27T17:56:48.504353Z",
     "iopub.status.idle": "2021-04-27T17:56:48.523948Z",
     "shell.execute_reply": "2021-04-27T17:56:48.525226Z"
    }
   },
   "outputs": [],
   "source": [
    "import pickle\n",
    "\n",
    "single_gpu_model = dist_model.get_combined_model()\n",
    "pickle.dump(single_gpu_model, open(\"kmeans_model.pkl\", \"wb\"))"
   ]
  },
  {
   "cell_type": "code",
   "execution_count": 12,
   "metadata": {
    "execution": {
     "iopub.execute_input": "2021-04-27T17:56:48.534386Z",
     "iopub.status.busy": "2021-04-27T17:56:48.532938Z",
     "iopub.status.idle": "2021-04-27T17:56:48.537229Z",
     "shell.execute_reply": "2021-04-27T17:56:48.538371Z"
    }
   },
   "outputs": [],
   "source": [
    "single_gpu_model = pickle.load(open(\"kmeans_model.pkl\", \"rb\"))"
   ]
  },
  {
   "cell_type": "code",
   "execution_count": 13,
   "metadata": {
    "execution": {
     "iopub.execute_input": "2021-04-27T17:56:48.552376Z",
     "iopub.status.busy": "2021-04-27T17:56:48.550902Z",
     "iopub.status.idle": "2021-04-27T17:56:48.556165Z",
     "shell.execute_reply": "2021-04-27T17:56:48.557326Z"
    }
   },
   "outputs": [
    {
     "data": {
      "text/plain": [
       "array([[ 4.8098736 ,  8.42267   , -9.239022  ,  9.379145  ,  8.499884  ,\n",
       "        -1.059282  ,  3.3437867 , -7.802611  , -0.5946333 ,  0.26447597,\n",
       "         5.5073934 , -4.106979  ,  4.2890773 , -2.8172052 ,  3.6150153 ,\n",
       "        -4.1612997 , -3.620963  ,  6.2185297 , -6.946048  , -1.0828307 ,\n",
       "        -5.8267717 ,  2.2258759 , -3.8601217 , -1.6974076 , -5.3134174 ,\n",
       "         7.579577  ,  2.9187472 ,  8.540424  ,  1.55232   ,  1.0841808 ],\n",
       "       [-2.894186  ,  4.474186  , -4.4475656 ,  2.3820992 ,  1.7478833 ,\n",
       "        -2.5046246 , -5.208329  , -1.6937685 , -8.134755  ,  2.6468306 ,\n",
       "        -4.3163633 ,  5.565539  , -5.732198  , -1.7384956 , -9.344657  ,\n",
       "         0.7084657 ,  4.4358406 , -2.9009008 , -4.948638  ,  9.695301  ,\n",
       "         8.36652   , -6.247455  , -6.3494744 ,  1.9546975 ,  4.157616  ,\n",
       "        -9.167902  ,  4.607068  ,  8.788583  ,  6.8644223 ,  2.2319875 ],\n",
       "       [-4.6657147 , -9.558955  ,  6.65723   ,  4.44013   ,  2.17303   ,\n",
       "         2.5904036 ,  0.58001006,  6.2550335 , -8.829284  , -0.4139966 ,\n",
       "         9.831053  ,  7.589735  ,  9.975548  , -5.8561735 , -1.2414306 ,\n",
       "        -2.557267  , -1.0441564 , -5.2461104 , -9.31147   ,  4.6366053 ,\n",
       "        -0.11776031, -3.929529  ,  6.207367  , -7.399014  ,  5.6740923 ,\n",
       "        -8.540297  , -7.5186524 , -5.5301223 ,  4.834131  ,  2.5691683 ],\n",
       "       [-6.95811   , -9.760799  , -6.55061   , -0.4196506 ,  6.0687675 ,\n",
       "         3.7602887 , -3.9751325 ,  6.1493382 , -1.8729941 ,  5.025272  ,\n",
       "        -6.834099  ,  1.3383291 ,  9.001679  , -0.9864834 ,  9.65402   ,\n",
       "         9.790737  , -8.618678  ,  5.995578  ,  2.2099128 , -3.6309097 ,\n",
       "         7.071408  , -7.394623  , -5.2996345 , -6.973707  , -7.908462  ,\n",
       "         6.6810646 , -5.575639  ,  7.1313086 ,  6.5996184 , -8.30957   ],\n",
       "       [ 6.2617526 ,  9.228769  ,  8.358131  ,  9.017301  ,  7.704466  ,\n",
       "        -1.0047106 , -6.245768  ,  1.3951721 , -6.9761815 , -5.948061  ,\n",
       "         1.0575899 , -0.01074279,  2.8210251 ,  1.8389366 , -8.247103  ,\n",
       "         3.0498965 , -8.483242  ,  9.721639  , -7.7502723 ,  3.4655955 ,\n",
       "        -3.9312143 , -4.096515  ,  2.6586986 ,  1.2832462 ,  1.0177819 ,\n",
       "         5.257111  , -1.644438  ,  6.138321  , -6.884055  , -9.663094  ]],\n",
       "      dtype=float32)"
      ]
     },
     "execution_count": 1,
     "metadata": {},
     "output_type": "execute_result"
    }
   ],
   "source": [
    "single_gpu_model.cluster_centers_"
   ]
  }
 ],
 "metadata": {
  "kernelspec": {
   "display_name": "Python 3",
   "language": "python",
   "name": "python3"
  },
  "language_info": {
   "codemirror_mode": {
    "name": "ipython",
    "version": 3
   },
   "file_extension": ".py",
   "mimetype": "text/x-python",
   "name": "python",
   "nbconvert_exporter": "python",
   "pygments_lexer": "ipython3",
   "version": "3.7.10"
  }
 },
 "nbformat": 4,
 "nbformat_minor": 4
}
