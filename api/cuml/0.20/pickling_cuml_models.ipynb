{
 "cells": [
  {
   "cell_type": "markdown",
   "metadata": {},
   "source": [
    "# Pickling cuML Models for Persistence\n",
    "\n",
    "This notebook demonstrates simple pickling of both single-GPU and multi-GPU cuML models for persistence"
   ]
  },
  {
   "cell_type": "code",
   "execution_count": 1,
   "metadata": {
    "execution": {
     "iopub.execute_input": "2021-05-06T09:56:46.548824Z",
     "iopub.status.busy": "2021-05-06T09:56:46.547365Z",
     "iopub.status.idle": "2021-05-06T09:56:46.552226Z",
     "shell.execute_reply": "2021-05-06T09:56:46.550862Z"
    }
   },
   "outputs": [],
   "source": [
    "import warnings\n",
    "warnings.filterwarnings(\"ignore\", category=FutureWarning)"
   ]
  },
  {
   "cell_type": "markdown",
   "metadata": {},
   "source": [
    "## Single GPU Model Pickling\n",
    "\n",
    "All single-GPU estimators are pickleable. The following example demonstrates the creation of a synthetic dataset, training, and pickling of the resulting model for storage. Trained single-GPU models can also be used to distribute the inference on a Dask cluster, which the `Distributed Model Pickling` section below demonstrates."
   ]
  },
  {
   "cell_type": "code",
   "execution_count": 2,
   "metadata": {
    "execution": {
     "iopub.execute_input": "2021-05-06T09:56:46.561621Z",
     "iopub.status.busy": "2021-05-06T09:56:46.560252Z",
     "iopub.status.idle": "2021-05-06T09:56:50.814754Z",
     "shell.execute_reply": "2021-05-06T09:56:50.815895Z"
    }
   },
   "outputs": [],
   "source": [
    "from cuml.datasets import make_blobs\n",
    "\n",
    "X, y = make_blobs(n_samples=50,\n",
    "                  n_features=10,\n",
    "                  centers=5,\n",
    "                  cluster_std=0.4,\n",
    "                  random_state=0)"
   ]
  },
  {
   "cell_type": "code",
   "execution_count": 3,
   "metadata": {
    "execution": {
     "iopub.execute_input": "2021-05-06T09:56:50.827471Z",
     "iopub.status.busy": "2021-05-06T09:56:50.826012Z",
     "iopub.status.idle": "2021-05-06T09:56:51.278929Z",
     "shell.execute_reply": "2021-05-06T09:56:51.280177Z"
    }
   },
   "outputs": [
    {
     "data": {
      "text/plain": [
       "KMeans()"
      ]
     },
     "execution_count": 1,
     "metadata": {},
     "output_type": "execute_result"
    }
   ],
   "source": [
    "from cuml.cluster import KMeans\n",
    "\n",
    "model = KMeans(n_clusters=5)\n",
    "\n",
    "model.fit(X)"
   ]
  },
  {
   "cell_type": "code",
   "execution_count": 4,
   "metadata": {
    "execution": {
     "iopub.execute_input": "2021-05-06T09:56:51.287455Z",
     "iopub.status.busy": "2021-05-06T09:56:51.285993Z",
     "iopub.status.idle": "2021-05-06T09:56:51.289688Z",
     "shell.execute_reply": "2021-05-06T09:56:51.290842Z"
    }
   },
   "outputs": [],
   "source": [
    "import pickle\n",
    "\n",
    "pickle.dump(model, open(\"kmeans_model.pkl\", \"wb\"))"
   ]
  },
  {
   "cell_type": "code",
   "execution_count": 5,
   "metadata": {
    "execution": {
     "iopub.execute_input": "2021-05-06T09:56:51.297865Z",
     "iopub.status.busy": "2021-05-06T09:56:51.296515Z",
     "iopub.status.idle": "2021-05-06T09:56:51.299955Z",
     "shell.execute_reply": "2021-05-06T09:56:51.301035Z"
    }
   },
   "outputs": [],
   "source": [
    "model = pickle.load(open(\"kmeans_model.pkl\", \"rb\"))"
   ]
  },
  {
   "cell_type": "code",
   "execution_count": 6,
   "metadata": {
    "execution": {
     "iopub.execute_input": "2021-05-06T09:56:51.309451Z",
     "iopub.status.busy": "2021-05-06T09:56:51.308087Z",
     "iopub.status.idle": "2021-05-06T09:56:51.312874Z",
     "shell.execute_reply": "2021-05-06T09:56:51.314003Z"
    }
   },
   "outputs": [
    {
     "data": {
      "text/plain": [
       "array([[-5.7684636 ,  2.3276033 , -3.7457771 , -1.8541754 , -5.169583  ,\n",
       "         7.667088  ,  2.7118318 ,  8.495609  ,  1.7038486 ,  1.1884269 ],\n",
       "       [ 4.6476874 ,  8.37788   , -9.070581  ,  9.459332  ,  8.450423  ,\n",
       "        -1.0210547 ,  3.3920872 , -7.8629856 , -0.75276613,  0.48384127],\n",
       "       [-2.9414442 ,  4.6401706 , -4.5027533 ,  2.2855108 ,  1.644645  ,\n",
       "        -2.4937892 , -5.2241607 , -1.5499196 , -8.063638  ,  2.816936  ],\n",
       "       [-4.271077  ,  5.5611653 , -5.6640916 , -1.8229512 , -9.2925    ,\n",
       "         0.730283  ,  4.4586773 , -2.8876226 , -5.1257744 ,  9.694357  ],\n",
       "       [ 5.5837426 , -4.1515303 ,  4.369667  , -3.0020502 ,  3.6388965 ,\n",
       "        -4.341912  , -3.318711  ,  6.503671  , -6.865036  , -1.0266498 ]],\n",
       "      dtype=float32)"
      ]
     },
     "execution_count": 1,
     "metadata": {},
     "output_type": "execute_result"
    }
   ],
   "source": [
    "model.cluster_centers_"
   ]
  },
  {
   "cell_type": "markdown",
   "metadata": {},
   "source": [
    "## Distributed Model Pickling"
   ]
  },
  {
   "cell_type": "markdown",
   "metadata": {},
   "source": [
    "The distributed estimator wrappers inside of the `cuml.dask` are not intended to be pickled directly. The Dask cuML estimators provide a function `get_combined_model()`, which returns the trained single-GPU model for pickling. The combined model can be used for inference on a single-GPU, and the `ParallelPostFit` wrapper from the [Dask-ML](https://ml.dask.org/meta-estimators.html) library can be used to perform distributed inference on a Dask cluster."
   ]
  },
  {
   "cell_type": "code",
   "execution_count": 7,
   "metadata": {
    "execution": {
     "iopub.execute_input": "2021-05-06T09:56:51.321467Z",
     "iopub.status.busy": "2021-05-06T09:56:51.320178Z",
     "iopub.status.idle": "2021-05-06T09:56:55.505813Z",
     "shell.execute_reply": "2021-05-06T09:56:55.506962Z"
    }
   },
   "outputs": [
    {
     "data": {
      "text/html": [
       "<table style=\"border: 2px solid white;\">\n",
       "<tr>\n",
       "<td style=\"vertical-align: top; border: 0px solid white\">\n",
       "<h3 style=\"text-align: left;\">Client</h3>\n",
       "<ul style=\"text-align: left; list-style: none; margin: 0; padding: 0;\">\n",
       "  <li><b>Scheduler: </b>tcp://127.0.0.1:43282</li>\n",
       "  <li><b>Dashboard: </b><a href='http://127.0.0.1:8787/status' target='_blank'>http://127.0.0.1:8787/status</a></li>\n",
       "</ul>\n",
       "</td>\n",
       "<td style=\"vertical-align: top; border: 0px solid white\">\n",
       "<h3 style=\"text-align: left;\">Cluster</h3>\n",
       "<ul style=\"text-align: left; list-style:none; margin: 0; padding: 0;\">\n",
       "  <li><b>Workers: </b>1</li>\n",
       "  <li><b>Cores: </b>1</li>\n",
       "  <li><b>Memory: </b>251.80 GiB</li>\n",
       "</ul>\n",
       "</td>\n",
       "</tr>\n",
       "</table>"
      ],
      "text/plain": [
       "<Client: 'tcp://127.0.0.1:43282' processes=1 threads=1, memory=251.80 GiB>"
      ]
     },
     "execution_count": 1,
     "metadata": {},
     "output_type": "execute_result"
    }
   ],
   "source": [
    "from dask.distributed import Client\n",
    "from dask_cuda import LocalCUDACluster\n",
    "\n",
    "cluster = LocalCUDACluster()\n",
    "client = Client(cluster)\n",
    "client"
   ]
  },
  {
   "cell_type": "code",
   "execution_count": 8,
   "metadata": {
    "execution": {
     "iopub.execute_input": "2021-05-06T09:56:55.521415Z",
     "iopub.status.busy": "2021-05-06T09:56:55.519511Z",
     "iopub.status.idle": "2021-05-06T09:56:55.993461Z",
     "shell.execute_reply": "2021-05-06T09:56:55.992156Z"
    }
   },
   "outputs": [],
   "source": [
    "from cuml.dask.datasets import make_blobs\n",
    "\n",
    "n_workers = len(client.scheduler_info()[\"workers\"].keys())\n",
    "\n",
    "X, y = make_blobs(n_samples=5000, \n",
    "                  n_features=30,\n",
    "                  centers=5, \n",
    "                  cluster_std=0.4, \n",
    "                  random_state=0,\n",
    "                  n_parts=n_workers*5)\n",
    "\n",
    "X = X.persist()\n",
    "y = y.persist()"
   ]
  },
  {
   "cell_type": "code",
   "execution_count": 9,
   "metadata": {
    "execution": {
     "iopub.execute_input": "2021-05-06T09:56:56.001539Z",
     "iopub.status.busy": "2021-05-06T09:56:56.000050Z",
     "iopub.status.idle": "2021-05-06T09:56:56.025599Z",
     "shell.execute_reply": "2021-05-06T09:56:56.026760Z"
    }
   },
   "outputs": [],
   "source": [
    "from cuml.dask.cluster import KMeans\n",
    "\n",
    "dist_model = KMeans(n_clusters=5)"
   ]
  },
  {
   "cell_type": "code",
   "execution_count": 10,
   "metadata": {
    "execution": {
     "iopub.execute_input": "2021-05-06T09:56:56.038053Z",
     "iopub.status.busy": "2021-05-06T09:56:56.036588Z",
     "iopub.status.idle": "2021-05-06T09:56:58.872940Z",
     "shell.execute_reply": "2021-05-06T09:56:58.874109Z"
    }
   },
   "outputs": [
    {
     "data": {
      "text/plain": [
       "<cuml.dask.cluster.kmeans.KMeans at 0x7f19676d6bd0>"
      ]
     },
     "execution_count": 1,
     "metadata": {},
     "output_type": "execute_result"
    }
   ],
   "source": [
    "dist_model.fit(X)"
   ]
  },
  {
   "cell_type": "code",
   "execution_count": 11,
   "metadata": {
    "execution": {
     "iopub.execute_input": "2021-05-06T09:56:58.885562Z",
     "iopub.status.busy": "2021-05-06T09:56:58.884191Z",
     "iopub.status.idle": "2021-05-06T09:56:58.896203Z",
     "shell.execute_reply": "2021-05-06T09:56:58.897160Z"
    }
   },
   "outputs": [],
   "source": [
    "import pickle\n",
    "\n",
    "single_gpu_model = dist_model.get_combined_model()\n",
    "pickle.dump(single_gpu_model, open(\"kmeans_model.pkl\", \"wb\"))"
   ]
  },
  {
   "cell_type": "code",
   "execution_count": 12,
   "metadata": {
    "execution": {
     "iopub.execute_input": "2021-05-06T09:56:58.905013Z",
     "iopub.status.busy": "2021-05-06T09:56:58.903791Z",
     "iopub.status.idle": "2021-05-06T09:56:58.907997Z",
     "shell.execute_reply": "2021-05-06T09:56:58.908889Z"
    }
   },
   "outputs": [],
   "source": [
    "single_gpu_model = pickle.load(open(\"kmeans_model.pkl\", \"rb\"))"
   ]
  },
  {
   "cell_type": "code",
   "execution_count": 13,
   "metadata": {
    "execution": {
     "iopub.execute_input": "2021-05-06T09:56:58.925259Z",
     "iopub.status.busy": "2021-05-06T09:56:58.924203Z",
     "iopub.status.idle": "2021-05-06T09:56:58.929742Z",
     "shell.execute_reply": "2021-05-06T09:56:58.928854Z"
    }
   },
   "outputs": [
    {
     "data": {
      "text/plain": [
       "array([[ 4.809873  ,  8.42267   , -9.239023  ,  9.379146  ,  8.499882  ,\n",
       "        -1.0592817 ,  3.3437858 , -7.8026104 , -0.59463334,  0.264476  ,\n",
       "         5.5073943 , -4.1069794 ,  4.2890778 , -2.8172042 ,  3.615015  ,\n",
       "        -4.1612997 , -3.6209633 ,  6.2185297 , -6.9460473 , -1.0828307 ,\n",
       "        -5.8267713 ,  2.2258785 , -3.8601217 , -1.6974078 , -5.313417  ,\n",
       "         7.5795784 ,  2.918748  ,  8.540424  ,  1.5523204 ,  1.0841808 ],\n",
       "       [-2.8941858 ,  4.47419   , -4.447567  ,  2.382099  ,  1.7478831 ,\n",
       "        -2.5046244 , -5.2083297 , -1.6937687 , -8.134755  ,  2.6468298 ,\n",
       "        -4.3163643 ,  5.565539  , -5.7321978 , -1.7384952 , -9.344657  ,\n",
       "         0.70846575,  4.43584   , -2.9008994 , -4.9486384 ,  9.695303  ,\n",
       "         8.366519  , -6.247453  , -6.3494725 ,  1.9546974 ,  4.1576157 ,\n",
       "        -9.167901  ,  4.607067  ,  8.788585  ,  6.864423  ,  2.2319872 ],\n",
       "       [-4.6657157 , -9.558957  ,  6.657227  ,  4.4401298 ,  2.17303   ,\n",
       "         2.5904047 ,  0.58000976,  6.2550364 , -8.829279  , -0.4139966 ,\n",
       "         9.831053  ,  7.589734  ,  9.97554   , -5.856177  , -1.2414306 ,\n",
       "        -2.5572677 , -1.0441563 , -5.24611   , -9.311465  ,  4.6366057 ,\n",
       "        -0.11776037, -3.9295287 ,  6.2073708 , -7.3990145 ,  5.6740904 ,\n",
       "        -8.540296  , -7.5186524 , -5.5301237 ,  4.8341284 ,  2.5691679 ],\n",
       "       [-6.9581094 , -9.760794  , -6.5506105 , -0.41965035,  6.0687666 ,\n",
       "         3.7602882 , -3.975133  ,  6.1493382 , -1.8729936 ,  5.0252724 ,\n",
       "        -6.8340993 ,  1.3383292 ,  9.001679  , -0.9864836 ,  9.654024  ,\n",
       "         9.790739  , -8.618676  ,  5.995581  ,  2.2099133 , -3.6309094 ,\n",
       "         7.0714097 , -7.394621  , -5.2996316 , -6.9737053 , -7.908463  ,\n",
       "         6.681064  , -5.57564   ,  7.1313105 ,  6.599617  , -8.309572  ],\n",
       "       [ 6.261753  ,  9.22877   ,  8.358128  ,  9.017302  ,  7.704466  ,\n",
       "        -1.0047106 , -6.2457643 ,  1.3951719 , -6.9761796 , -5.94806   ,\n",
       "         1.0575901 , -0.01074279,  2.821025  ,  1.8389366 , -8.247102  ,\n",
       "         3.049896  , -8.483241  ,  9.72164   , -7.7502728 ,  3.4655957 ,\n",
       "        -3.9312146 , -4.096516  ,  2.6586986 ,  1.283246  ,  1.0177819 ,\n",
       "         5.2571106 , -1.644438  ,  6.138323  , -6.8840537 , -9.663094  ]],\n",
       "      dtype=float32)"
      ]
     },
     "execution_count": 1,
     "metadata": {},
     "output_type": "execute_result"
    }
   ],
   "source": [
    "single_gpu_model.cluster_centers_"
   ]
  }
 ],
 "metadata": {
  "kernelspec": {
   "display_name": "Python 3",
   "language": "python",
   "name": "python3"
  },
  "language_info": {
   "codemirror_mode": {
    "name": "ipython",
    "version": 3
   },
   "file_extension": ".py",
   "mimetype": "text/x-python",
   "name": "python",
   "nbconvert_exporter": "python",
   "pygments_lexer": "ipython3",
   "version": "3.7.10"
  }
 },
 "nbformat": 4,
 "nbformat_minor": 4
}
