{
 "cells": [
  {
   "cell_type": "markdown",
   "metadata": {},
   "source": [
    "# Pickling cuML Models for Persistence\n",
    "\n",
    "This notebook demonstrates simple pickling of both single-GPU and multi-GPU cuML models for persistence"
   ]
  },
  {
   "cell_type": "code",
   "execution_count": 1,
   "metadata": {
    "execution": {
     "iopub.execute_input": "2021-05-01T09:51:14.951409Z",
     "iopub.status.busy": "2021-05-01T09:51:14.949770Z",
     "iopub.status.idle": "2021-05-01T09:51:14.953417Z",
     "shell.execute_reply": "2021-05-01T09:51:14.954704Z"
    }
   },
   "outputs": [],
   "source": [
    "import warnings\n",
    "warnings.filterwarnings(\"ignore\", category=FutureWarning)"
   ]
  },
  {
   "cell_type": "markdown",
   "metadata": {},
   "source": [
    "## Single GPU Model Pickling\n",
    "\n",
    "All single-GPU estimators are pickleable. The following example demonstrates the creation of a synthetic dataset, training, and pickling of the resulting model for storage. Trained single-GPU models can also be used to distribute the inference on a Dask cluster, which the `Distributed Model Pickling` section below demonstrates."
   ]
  },
  {
   "cell_type": "code",
   "execution_count": 2,
   "metadata": {
    "execution": {
     "iopub.execute_input": "2021-05-01T09:51:14.965792Z",
     "iopub.status.busy": "2021-05-01T09:51:14.963468Z",
     "iopub.status.idle": "2021-05-01T09:51:20.159375Z",
     "shell.execute_reply": "2021-05-01T09:51:20.160622Z"
    }
   },
   "outputs": [],
   "source": [
    "from cuml.datasets import make_blobs\n",
    "\n",
    "X, y = make_blobs(n_samples=50,\n",
    "                  n_features=10,\n",
    "                  centers=5,\n",
    "                  cluster_std=0.4,\n",
    "                  random_state=0)"
   ]
  },
  {
   "cell_type": "code",
   "execution_count": 3,
   "metadata": {
    "execution": {
     "iopub.execute_input": "2021-05-01T09:51:20.172517Z",
     "iopub.status.busy": "2021-05-01T09:51:20.170986Z",
     "iopub.status.idle": "2021-05-01T09:51:20.559928Z",
     "shell.execute_reply": "2021-05-01T09:51:20.558541Z"
    }
   },
   "outputs": [
    {
     "data": {
      "text/plain": [
       "KMeans()"
      ]
     },
     "execution_count": 1,
     "metadata": {},
     "output_type": "execute_result"
    }
   ],
   "source": [
    "from cuml.cluster import KMeans\n",
    "\n",
    "model = KMeans(n_clusters=5)\n",
    "\n",
    "model.fit(X)"
   ]
  },
  {
   "cell_type": "code",
   "execution_count": 4,
   "metadata": {
    "execution": {
     "iopub.execute_input": "2021-05-01T09:51:20.569343Z",
     "iopub.status.busy": "2021-05-01T09:51:20.567901Z",
     "iopub.status.idle": "2021-05-01T09:51:20.573704Z",
     "shell.execute_reply": "2021-05-01T09:51:20.572390Z"
    }
   },
   "outputs": [],
   "source": [
    "import pickle\n",
    "\n",
    "pickle.dump(model, open(\"kmeans_model.pkl\", \"wb\"))"
   ]
  },
  {
   "cell_type": "code",
   "execution_count": 5,
   "metadata": {
    "execution": {
     "iopub.execute_input": "2021-05-01T09:51:20.583208Z",
     "iopub.status.busy": "2021-05-01T09:51:20.581767Z",
     "iopub.status.idle": "2021-05-01T09:51:20.585849Z",
     "shell.execute_reply": "2021-05-01T09:51:20.587071Z"
    }
   },
   "outputs": [],
   "source": [
    "model = pickle.load(open(\"kmeans_model.pkl\", \"rb\"))"
   ]
  },
  {
   "cell_type": "code",
   "execution_count": 6,
   "metadata": {
    "execution": {
     "iopub.execute_input": "2021-05-01T09:51:20.601789Z",
     "iopub.status.busy": "2021-05-01T09:51:20.599396Z",
     "iopub.status.idle": "2021-05-01T09:51:20.607097Z",
     "shell.execute_reply": "2021-05-01T09:51:20.603122Z"
    }
   },
   "outputs": [
    {
     "data": {
      "text/plain": [
       "array([[-5.7684636,  2.3276033, -3.7457771, -1.8541754, -5.1695833,\n",
       "         7.667088 ,  2.7118318,  8.495609 ,  1.7038484,  1.1884269],\n",
       "       [ 4.6476874,  8.37788  , -9.070581 ,  9.459332 ,  8.450422 ,\n",
       "        -1.0210547,  3.3920872, -7.8629856, -0.7527663,  0.4838412],\n",
       "       [-2.9414442,  4.6401706, -4.5027537,  2.2855108,  1.644645 ,\n",
       "        -2.4937892, -5.2241607, -1.5499196, -8.063638 ,  2.816936 ],\n",
       "       [-4.2710767,  5.561165 , -5.6640916, -1.8229512, -9.2925   ,\n",
       "         0.730283 ,  4.4586773, -2.8876224, -5.125775 ,  9.694357 ],\n",
       "       [ 5.5837417, -4.1515303,  4.369667 , -3.00205  ,  3.6388965,\n",
       "        -4.341912 , -3.318711 ,  6.503671 , -6.865036 , -1.0266498]],\n",
       "      dtype=float32)"
      ]
     },
     "execution_count": 1,
     "metadata": {},
     "output_type": "execute_result"
    }
   ],
   "source": [
    "model.cluster_centers_"
   ]
  },
  {
   "cell_type": "markdown",
   "metadata": {},
   "source": [
    "## Distributed Model Pickling"
   ]
  },
  {
   "cell_type": "markdown",
   "metadata": {},
   "source": [
    "The distributed estimator wrappers inside of the `cuml.dask` are not intended to be pickled directly. The Dask cuML estimators provide a function `get_combined_model()`, which returns the trained single-GPU model for pickling. The combined model can be used for inference on a single-GPU, and the `ParallelPostFit` wrapper from the [Dask-ML](https://ml.dask.org/meta-estimators.html) library can be used to perform distributed inference on a Dask cluster."
   ]
  },
  {
   "cell_type": "code",
   "execution_count": 7,
   "metadata": {
    "execution": {
     "iopub.execute_input": "2021-05-01T09:51:20.616521Z",
     "iopub.status.busy": "2021-05-01T09:51:20.615081Z",
     "iopub.status.idle": "2021-05-01T09:51:24.916408Z",
     "shell.execute_reply": "2021-05-01T09:51:24.914968Z"
    }
   },
   "outputs": [
    {
     "data": {
      "text/html": [
       "<table style=\"border: 2px solid white;\">\n",
       "<tr>\n",
       "<td style=\"vertical-align: top; border: 0px solid white\">\n",
       "<h3 style=\"text-align: left;\">Client</h3>\n",
       "<ul style=\"text-align: left; list-style: none; margin: 0; padding: 0;\">\n",
       "  <li><b>Scheduler: </b>tcp://127.0.0.1:39764</li>\n",
       "  <li><b>Dashboard: </b><a href='http://127.0.0.1:8787/status' target='_blank'>http://127.0.0.1:8787/status</a></li>\n",
       "</ul>\n",
       "</td>\n",
       "<td style=\"vertical-align: top; border: 0px solid white\">\n",
       "<h3 style=\"text-align: left;\">Cluster</h3>\n",
       "<ul style=\"text-align: left; list-style:none; margin: 0; padding: 0;\">\n",
       "  <li><b>Workers: </b>1</li>\n",
       "  <li><b>Cores: </b>1</li>\n",
       "  <li><b>Memory: </b>251.80 GiB</li>\n",
       "</ul>\n",
       "</td>\n",
       "</tr>\n",
       "</table>"
      ],
      "text/plain": [
       "<Client: 'tcp://127.0.0.1:39764' processes=1 threads=1, memory=251.80 GiB>"
      ]
     },
     "execution_count": 1,
     "metadata": {},
     "output_type": "execute_result"
    }
   ],
   "source": [
    "from dask.distributed import Client\n",
    "from dask_cuda import LocalCUDACluster\n",
    "\n",
    "cluster = LocalCUDACluster()\n",
    "client = Client(cluster)\n",
    "client"
   ]
  },
  {
   "cell_type": "code",
   "execution_count": 8,
   "metadata": {
    "execution": {
     "iopub.execute_input": "2021-05-01T09:51:24.931259Z",
     "iopub.status.busy": "2021-05-01T09:51:24.929672Z",
     "iopub.status.idle": "2021-05-01T09:51:25.503365Z",
     "shell.execute_reply": "2021-05-01T09:51:25.504590Z"
    }
   },
   "outputs": [],
   "source": [
    "from cuml.dask.datasets import make_blobs\n",
    "\n",
    "n_workers = len(client.scheduler_info()[\"workers\"].keys())\n",
    "\n",
    "X, y = make_blobs(n_samples=5000, \n",
    "                  n_features=30,\n",
    "                  centers=5, \n",
    "                  cluster_std=0.4, \n",
    "                  random_state=0,\n",
    "                  n_parts=n_workers*5)\n",
    "\n",
    "X = X.persist()\n",
    "y = y.persist()"
   ]
  },
  {
   "cell_type": "code",
   "execution_count": 9,
   "metadata": {
    "execution": {
     "iopub.execute_input": "2021-05-01T09:51:25.516027Z",
     "iopub.status.busy": "2021-05-01T09:51:25.514436Z",
     "iopub.status.idle": "2021-05-01T09:51:25.547807Z",
     "shell.execute_reply": "2021-05-01T09:51:25.546503Z"
    }
   },
   "outputs": [],
   "source": [
    "from cuml.dask.cluster import KMeans\n",
    "\n",
    "dist_model = KMeans(n_clusters=5)"
   ]
  },
  {
   "cell_type": "code",
   "execution_count": 10,
   "metadata": {
    "execution": {
     "iopub.execute_input": "2021-05-01T09:51:25.561303Z",
     "iopub.status.busy": "2021-05-01T09:51:25.559864Z",
     "iopub.status.idle": "2021-05-01T09:51:28.646952Z",
     "shell.execute_reply": "2021-05-01T09:51:28.645558Z"
    }
   },
   "outputs": [
    {
     "data": {
      "text/plain": [
       "<cuml.dask.cluster.kmeans.KMeans at 0x7f9be2153f10>"
      ]
     },
     "execution_count": 1,
     "metadata": {},
     "output_type": "execute_result"
    }
   ],
   "source": [
    "dist_model.fit(X)"
   ]
  },
  {
   "cell_type": "code",
   "execution_count": 11,
   "metadata": {
    "execution": {
     "iopub.execute_input": "2021-05-01T09:51:28.660258Z",
     "iopub.status.busy": "2021-05-01T09:51:28.658604Z",
     "iopub.status.idle": "2021-05-01T09:51:28.681149Z",
     "shell.execute_reply": "2021-05-01T09:51:28.679801Z"
    }
   },
   "outputs": [],
   "source": [
    "import pickle\n",
    "\n",
    "single_gpu_model = dist_model.get_combined_model()\n",
    "pickle.dump(single_gpu_model, open(\"kmeans_model.pkl\", \"wb\"))"
   ]
  },
  {
   "cell_type": "code",
   "execution_count": 12,
   "metadata": {
    "execution": {
     "iopub.execute_input": "2021-05-01T09:51:28.690909Z",
     "iopub.status.busy": "2021-05-01T09:51:28.689382Z",
     "iopub.status.idle": "2021-05-01T09:51:28.695518Z",
     "shell.execute_reply": "2021-05-01T09:51:28.694248Z"
    }
   },
   "outputs": [],
   "source": [
    "single_gpu_model = pickle.load(open(\"kmeans_model.pkl\", \"rb\"))"
   ]
  },
  {
   "cell_type": "code",
   "execution_count": 13,
   "metadata": {
    "execution": {
     "iopub.execute_input": "2021-05-01T09:51:28.705142Z",
     "iopub.status.busy": "2021-05-01T09:51:28.703690Z",
     "iopub.status.idle": "2021-05-01T09:51:28.715237Z",
     "shell.execute_reply": "2021-05-01T09:51:28.716396Z"
    }
   },
   "outputs": [
    {
     "data": {
      "text/plain": [
       "array([[ 4.8098736 ,  8.422669  , -9.239022  ,  9.379145  ,  8.49988   ,\n",
       "        -1.0592818 ,  3.3437862 , -7.8026123 , -0.59463334,  0.264476  ,\n",
       "         5.5073934 , -4.1069803 ,  4.2890778 , -2.8172047 ,  3.6150157 ,\n",
       "        -4.161299  , -3.6209629 ,  6.218531  , -6.946048  , -1.0828304 ,\n",
       "        -5.8267703 ,  2.2258766 , -3.8601215 , -1.6974078 , -5.3134165 ,\n",
       "         7.5795784 ,  2.9187477 ,  8.540424  ,  1.5523201 ,  1.0841808 ],\n",
       "       [-2.894185  ,  4.4741883 , -4.4475665 ,  2.3820996 ,  1.7478832 ,\n",
       "        -2.504625  , -5.208329  , -1.6937685 , -8.134755  ,  2.6468294 ,\n",
       "        -4.3163667 ,  5.565539  , -5.732199  , -1.7384957 , -9.344654  ,\n",
       "         0.7084657 ,  4.43584   , -2.900899  , -4.9486413 ,  9.695299  ,\n",
       "         8.366522  , -6.247453  , -6.349474  ,  1.9546974 ,  4.1576147 ,\n",
       "        -9.167908  ,  4.607068  ,  8.788586  ,  6.8644233 ,  2.231987  ],\n",
       "       [-4.6657143 , -9.558956  ,  6.6572294 ,  4.4401298 ,  2.1730304 ,\n",
       "         2.5904038 ,  0.58000994,  6.255034  , -8.829284  , -0.41399646,\n",
       "         9.83105   ,  7.589735  ,  9.975543  , -5.856174  , -1.2414305 ,\n",
       "        -2.5572672 , -1.0441561 , -5.2461104 , -9.31147   ,  4.6366057 ,\n",
       "        -0.11776033, -3.9295285 ,  6.2073684 , -7.3990145 ,  5.6740923 ,\n",
       "        -8.540297  , -7.5186534 , -5.5301237 ,  4.8341317 ,  2.5691679 ],\n",
       "       [-6.9581094 , -9.760798  , -6.550612  , -0.41965038,  6.0687675 ,\n",
       "         3.7602892 , -3.975132  ,  6.149338  , -1.8729937 ,  5.025274  ,\n",
       "        -6.834099  ,  1.3383291 ,  9.001679  , -0.9864835 ,  9.654022  ,\n",
       "         9.790738  , -8.618679  ,  5.9955797 ,  2.2099142 , -3.6309092 ,\n",
       "         7.071407  , -7.394623  , -5.299633  , -6.973706  , -7.908463  ,\n",
       "         6.681064  , -5.5756383 ,  7.1313086 ,  6.5996184 , -8.30957   ],\n",
       "       [ 6.2617526 ,  9.228765  ,  8.35813   ,  9.017298  ,  7.704466  ,\n",
       "        -1.0047106 , -6.2457666 ,  1.395172  , -6.9761825 , -5.94806   ,\n",
       "         1.05759   , -0.01074279,  2.8210256 ,  1.8389368 , -8.247102  ,\n",
       "         3.0498962 , -8.483241  ,  9.721641  , -7.7502728 ,  3.465595  ,\n",
       "        -3.9312136 , -4.0965166 ,  2.6586976 ,  1.2832462 ,  1.0177816 ,\n",
       "         5.2571096 , -1.644438  ,  6.138324  , -6.884053  , -9.663093  ]],\n",
       "      dtype=float32)"
      ]
     },
     "execution_count": 1,
     "metadata": {},
     "output_type": "execute_result"
    }
   ],
   "source": [
    "single_gpu_model.cluster_centers_"
   ]
  }
 ],
 "metadata": {
  "kernelspec": {
   "display_name": "Python 3",
   "language": "python",
   "name": "python3"
  },
  "language_info": {
   "codemirror_mode": {
    "name": "ipython",
    "version": 3
   },
   "file_extension": ".py",
   "mimetype": "text/x-python",
   "name": "python",
   "nbconvert_exporter": "python",
   "pygments_lexer": "ipython3",
   "version": "3.7.10"
  }
 },
 "nbformat": 4,
 "nbformat_minor": 4
}
