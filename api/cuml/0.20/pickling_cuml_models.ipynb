{
 "cells": [
  {
   "cell_type": "markdown",
   "metadata": {},
   "source": [
    "# Pickling cuML Models for Persistence\n",
    "\n",
    "This notebook demonstrates simple pickling of both single-GPU and multi-GPU cuML models for persistence"
   ]
  },
  {
   "cell_type": "code",
   "execution_count": 1,
   "metadata": {
    "execution": {
     "iopub.execute_input": "2021-04-28T09:52:19.864907Z",
     "iopub.status.busy": "2021-04-28T09:52:19.863545Z",
     "iopub.status.idle": "2021-04-28T09:52:19.867525Z",
     "shell.execute_reply": "2021-04-28T09:52:19.866374Z"
    }
   },
   "outputs": [],
   "source": [
    "import warnings\n",
    "warnings.filterwarnings(\"ignore\", category=FutureWarning)"
   ]
  },
  {
   "cell_type": "markdown",
   "metadata": {},
   "source": [
    "## Single GPU Model Pickling\n",
    "\n",
    "All single-GPU estimators are pickleable. The following example demonstrates the creation of a synthetic dataset, training, and pickling of the resulting model for storage. Trained single-GPU models can also be used to distribute the inference on a Dask cluster, which the `Distributed Model Pickling` section below demonstrates."
   ]
  },
  {
   "cell_type": "code",
   "execution_count": 2,
   "metadata": {
    "execution": {
     "iopub.execute_input": "2021-04-28T09:52:19.876484Z",
     "iopub.status.busy": "2021-04-28T09:52:19.875162Z",
     "iopub.status.idle": "2021-04-28T09:52:24.226556Z",
     "shell.execute_reply": "2021-04-28T09:52:24.227722Z"
    }
   },
   "outputs": [],
   "source": [
    "from cuml.datasets import make_blobs\n",
    "\n",
    "X, y = make_blobs(n_samples=50,\n",
    "                  n_features=10,\n",
    "                  centers=5,\n",
    "                  cluster_std=0.4,\n",
    "                  random_state=0)"
   ]
  },
  {
   "cell_type": "code",
   "execution_count": 3,
   "metadata": {
    "execution": {
     "iopub.execute_input": "2021-04-28T09:52:24.235423Z",
     "iopub.status.busy": "2021-04-28T09:52:24.233983Z",
     "iopub.status.idle": "2021-04-28T09:52:24.621910Z",
     "shell.execute_reply": "2021-04-28T09:52:24.623128Z"
    }
   },
   "outputs": [
    {
     "data": {
      "text/plain": [
       "KMeans()"
      ]
     },
     "execution_count": 1,
     "metadata": {},
     "output_type": "execute_result"
    }
   ],
   "source": [
    "from cuml.cluster import KMeans\n",
    "\n",
    "model = KMeans(n_clusters=5)\n",
    "\n",
    "model.fit(X)"
   ]
  },
  {
   "cell_type": "code",
   "execution_count": 4,
   "metadata": {
    "execution": {
     "iopub.execute_input": "2021-04-28T09:52:24.630661Z",
     "iopub.status.busy": "2021-04-28T09:52:24.629203Z",
     "iopub.status.idle": "2021-04-28T09:52:24.632264Z",
     "shell.execute_reply": "2021-04-28T09:52:24.633383Z"
    }
   },
   "outputs": [],
   "source": [
    "import pickle\n",
    "\n",
    "pickle.dump(model, open(\"kmeans_model.pkl\", \"wb\"))"
   ]
  },
  {
   "cell_type": "code",
   "execution_count": 5,
   "metadata": {
    "execution": {
     "iopub.execute_input": "2021-04-28T09:52:24.640031Z",
     "iopub.status.busy": "2021-04-28T09:52:24.638665Z",
     "iopub.status.idle": "2021-04-28T09:52:24.642369Z",
     "shell.execute_reply": "2021-04-28T09:52:24.643498Z"
    }
   },
   "outputs": [],
   "source": [
    "model = pickle.load(open(\"kmeans_model.pkl\", \"rb\"))"
   ]
  },
  {
   "cell_type": "code",
   "execution_count": 6,
   "metadata": {
    "execution": {
     "iopub.execute_input": "2021-04-28T09:52:24.651642Z",
     "iopub.status.busy": "2021-04-28T09:52:24.650285Z",
     "iopub.status.idle": "2021-04-28T09:52:24.655025Z",
     "shell.execute_reply": "2021-04-28T09:52:24.656171Z"
    }
   },
   "outputs": [
    {
     "data": {
      "text/plain": [
       "array([[-5.7684636 ,  2.3276033 , -3.7457774 , -1.8541754 , -5.169583  ,\n",
       "         7.667088  ,  2.7118316 ,  8.495609  ,  1.7038484 ,  1.188427  ],\n",
       "       [ 4.6476874 ,  8.37788   , -9.070581  ,  9.459332  ,  8.450422  ,\n",
       "        -1.0210547 ,  3.3920872 , -7.8629856 , -0.7527663 ,  0.48384127],\n",
       "       [-2.9414442 ,  4.6401706 , -4.5027533 ,  2.2855108 ,  1.644645  ,\n",
       "        -2.4937892 , -5.2241607 , -1.5499196 , -8.063638  ,  2.816936  ],\n",
       "       [-4.271077  ,  5.561165  , -5.6640916 , -1.8229512 , -9.2925    ,\n",
       "         0.730283  ,  4.4586773 , -2.8876224 , -5.1257744 ,  9.694357  ],\n",
       "       [ 5.5837426 , -4.1515303 ,  4.369667  , -3.0020502 ,  3.6388965 ,\n",
       "        -4.341912  , -3.3187115 ,  6.503671  , -6.865036  , -1.0266498 ]],\n",
       "      dtype=float32)"
      ]
     },
     "execution_count": 1,
     "metadata": {},
     "output_type": "execute_result"
    }
   ],
   "source": [
    "model.cluster_centers_"
   ]
  },
  {
   "cell_type": "markdown",
   "metadata": {},
   "source": [
    "## Distributed Model Pickling"
   ]
  },
  {
   "cell_type": "markdown",
   "metadata": {},
   "source": [
    "The distributed estimator wrappers inside of the `cuml.dask` are not intended to be pickled directly. The Dask cuML estimators provide a function `get_combined_model()`, which returns the trained single-GPU model for pickling. The combined model can be used for inference on a single-GPU, and the `ParallelPostFit` wrapper from the [Dask-ML](https://ml.dask.org/meta-estimators.html) library can be used to perform distributed inference on a Dask cluster."
   ]
  },
  {
   "cell_type": "code",
   "execution_count": 7,
   "metadata": {
    "execution": {
     "iopub.execute_input": "2021-04-28T09:52:24.663129Z",
     "iopub.status.busy": "2021-04-28T09:52:24.661876Z",
     "iopub.status.idle": "2021-04-28T09:52:28.836824Z",
     "shell.execute_reply": "2021-04-28T09:52:28.837900Z"
    }
   },
   "outputs": [
    {
     "data": {
      "text/html": [
       "<table style=\"border: 2px solid white;\">\n",
       "<tr>\n",
       "<td style=\"vertical-align: top; border: 0px solid white\">\n",
       "<h3 style=\"text-align: left;\">Client</h3>\n",
       "<ul style=\"text-align: left; list-style: none; margin: 0; padding: 0;\">\n",
       "  <li><b>Scheduler: </b>tcp://127.0.0.1:35948</li>\n",
       "  <li><b>Dashboard: </b><a href='http://127.0.0.1:8787/status' target='_blank'>http://127.0.0.1:8787/status</a></li>\n",
       "</ul>\n",
       "</td>\n",
       "<td style=\"vertical-align: top; border: 0px solid white\">\n",
       "<h3 style=\"text-align: left;\">Cluster</h3>\n",
       "<ul style=\"text-align: left; list-style:none; margin: 0; padding: 0;\">\n",
       "  <li><b>Workers: </b>1</li>\n",
       "  <li><b>Cores: </b>1</li>\n",
       "  <li><b>Memory: </b>251.80 GiB</li>\n",
       "</ul>\n",
       "</td>\n",
       "</tr>\n",
       "</table>"
      ],
      "text/plain": [
       "<Client: 'tcp://127.0.0.1:35948' processes=1 threads=1, memory=251.80 GiB>"
      ]
     },
     "execution_count": 1,
     "metadata": {},
     "output_type": "execute_result"
    }
   ],
   "source": [
    "from dask.distributed import Client\n",
    "from dask_cuda import LocalCUDACluster\n",
    "\n",
    "cluster = LocalCUDACluster()\n",
    "client = Client(cluster)\n",
    "client"
   ]
  },
  {
   "cell_type": "code",
   "execution_count": 8,
   "metadata": {
    "execution": {
     "iopub.execute_input": "2021-04-28T09:52:28.850473Z",
     "iopub.status.busy": "2021-04-28T09:52:28.848374Z",
     "iopub.status.idle": "2021-04-28T09:52:29.315767Z",
     "shell.execute_reply": "2021-04-28T09:52:29.316945Z"
    }
   },
   "outputs": [],
   "source": [
    "from cuml.dask.datasets import make_blobs\n",
    "\n",
    "n_workers = len(client.scheduler_info()[\"workers\"].keys())\n",
    "\n",
    "X, y = make_blobs(n_samples=5000, \n",
    "                  n_features=30,\n",
    "                  centers=5, \n",
    "                  cluster_std=0.4, \n",
    "                  random_state=0,\n",
    "                  n_parts=n_workers*5)\n",
    "\n",
    "X = X.persist()\n",
    "y = y.persist()"
   ]
  },
  {
   "cell_type": "code",
   "execution_count": 9,
   "metadata": {
    "execution": {
     "iopub.execute_input": "2021-04-28T09:52:29.325639Z",
     "iopub.status.busy": "2021-04-28T09:52:29.324195Z",
     "iopub.status.idle": "2021-04-28T09:52:29.344407Z",
     "shell.execute_reply": "2021-04-28T09:52:29.345470Z"
    }
   },
   "outputs": [],
   "source": [
    "from cuml.dask.cluster import KMeans\n",
    "\n",
    "dist_model = KMeans(n_clusters=5)"
   ]
  },
  {
   "cell_type": "code",
   "execution_count": 10,
   "metadata": {
    "execution": {
     "iopub.execute_input": "2021-04-28T09:52:29.352657Z",
     "iopub.status.busy": "2021-04-28T09:52:29.350623Z",
     "iopub.status.idle": "2021-04-28T09:52:32.323578Z",
     "shell.execute_reply": "2021-04-28T09:52:32.324768Z"
    }
   },
   "outputs": [
    {
     "data": {
      "text/plain": [
       "<cuml.dask.cluster.kmeans.KMeans at 0x7fb950f3f750>"
      ]
     },
     "execution_count": 1,
     "metadata": {},
     "output_type": "execute_result"
    }
   ],
   "source": [
    "dist_model.fit(X)"
   ]
  },
  {
   "cell_type": "code",
   "execution_count": 11,
   "metadata": {
    "execution": {
     "iopub.execute_input": "2021-04-28T09:52:32.337524Z",
     "iopub.status.busy": "2021-04-28T09:52:32.335899Z",
     "iopub.status.idle": "2021-04-28T09:52:32.351454Z",
     "shell.execute_reply": "2021-04-28T09:52:32.352534Z"
    }
   },
   "outputs": [],
   "source": [
    "import pickle\n",
    "\n",
    "single_gpu_model = dist_model.get_combined_model()\n",
    "pickle.dump(single_gpu_model, open(\"kmeans_model.pkl\", \"wb\"))"
   ]
  },
  {
   "cell_type": "code",
   "execution_count": 12,
   "metadata": {
    "execution": {
     "iopub.execute_input": "2021-04-28T09:52:32.360452Z",
     "iopub.status.busy": "2021-04-28T09:52:32.359083Z",
     "iopub.status.idle": "2021-04-28T09:52:32.364205Z",
     "shell.execute_reply": "2021-04-28T09:52:32.362917Z"
    }
   },
   "outputs": [],
   "source": [
    "single_gpu_model = pickle.load(open(\"kmeans_model.pkl\", \"rb\"))"
   ]
  },
  {
   "cell_type": "code",
   "execution_count": 13,
   "metadata": {
    "execution": {
     "iopub.execute_input": "2021-04-28T09:52:32.376196Z",
     "iopub.status.busy": "2021-04-28T09:52:32.374920Z",
     "iopub.status.idle": "2021-04-28T09:52:32.379215Z",
     "shell.execute_reply": "2021-04-28T09:52:32.380214Z"
    }
   },
   "outputs": [
    {
     "data": {
      "text/plain": [
       "array([[ 4.8098755 ,  8.422669  , -9.239024  ,  9.379145  ,  8.499884  ,\n",
       "        -1.059282  ,  3.3437855 , -7.802613  , -0.5946332 ,  0.26447603,\n",
       "         5.5073943 , -4.106981  ,  4.2890778 , -2.8172052 ,  3.6150157 ,\n",
       "        -4.1612988 , -3.620963  ,  6.218531  , -6.946047  , -1.0828308 ,\n",
       "        -5.8267717 ,  2.225877  , -3.8601208 , -1.697408  , -5.3134165 ,\n",
       "         7.579576  ,  2.9187472 ,  8.540427  ,  1.5523202 ,  1.0841805 ],\n",
       "       [-2.8941855 ,  4.4741883 , -4.447565  ,  2.3820984 ,  1.7478834 ,\n",
       "        -2.5046256 , -5.2083316 , -1.6937687 , -8.134756  ,  2.6468298 ,\n",
       "        -4.3163643 ,  5.565539  , -5.732198  , -1.7384952 , -9.34466   ,\n",
       "         0.7084659 ,  4.435841  , -2.900899  , -4.9486384 ,  9.695302  ,\n",
       "         8.36652   , -6.247453  , -6.349472  ,  1.9546973 ,  4.157616  ,\n",
       "        -9.167903  ,  4.6070685 ,  8.788585  ,  6.864422  ,  2.2319877 ],\n",
       "       [-4.6657147 , -9.558957  ,  6.6572266 ,  4.440131  ,  2.1730297 ,\n",
       "         2.5904038 ,  0.5800101 ,  6.255037  , -8.829285  , -0.41399652,\n",
       "         9.831048  ,  7.5897326 ,  9.975545  , -5.8561764 , -1.2414303 ,\n",
       "        -2.557267  , -1.0441563 , -5.2461114 , -9.311469  ,  4.636606  ,\n",
       "        -0.11776034, -3.9295282 ,  6.2073684 , -7.399013  ,  5.6740932 ,\n",
       "        -8.540297  , -7.518653  , -5.5301213 ,  4.8341317 ,  2.5691679 ],\n",
       "       [-6.958111  , -9.760795  , -6.550608  , -0.4196505 ,  6.0687685 ,\n",
       "         3.7602887 , -3.9751325 ,  6.1493373 , -1.8729936 ,  5.0252748 ,\n",
       "        -6.834098  ,  1.3383288 ,  9.0016775 , -0.9864835 ,  9.654023  ,\n",
       "         9.790738  , -8.618679  ,  5.995579  ,  2.2099137 , -3.6309094 ,\n",
       "         7.0714087 , -7.3946214 , -5.2996316 , -6.9737053 , -7.908464  ,\n",
       "         6.681064  , -5.5756383 ,  7.131311  ,  6.599617  , -8.309574  ],\n",
       "       [ 6.2617517 ,  9.228771  ,  8.358131  ,  9.017297  ,  7.7044673 ,\n",
       "        -1.0047106 , -6.2457666 ,  1.3951716 , -6.9761786 , -5.948062  ,\n",
       "         1.0575897 , -0.01074278,  2.8210251 ,  1.8389363 , -8.247101  ,\n",
       "         3.0498965 , -8.483245  ,  9.721639  , -7.7502723 ,  3.465595  ,\n",
       "        -3.9312134 , -4.0965166 ,  2.6586986 ,  1.2832456 ,  1.0177819 ,\n",
       "         5.2571115 , -1.6444379 ,  6.138323  , -6.8840537 , -9.663093  ]],\n",
       "      dtype=float32)"
      ]
     },
     "execution_count": 1,
     "metadata": {},
     "output_type": "execute_result"
    }
   ],
   "source": [
    "single_gpu_model.cluster_centers_"
   ]
  }
 ],
 "metadata": {
  "kernelspec": {
   "display_name": "Python 3",
   "language": "python",
   "name": "python3"
  },
  "language_info": {
   "codemirror_mode": {
    "name": "ipython",
    "version": 3
   },
   "file_extension": ".py",
   "mimetype": "text/x-python",
   "name": "python",
   "nbconvert_exporter": "python",
   "pygments_lexer": "ipython3",
   "version": "3.7.10"
  }
 },
 "nbformat": 4,
 "nbformat_minor": 4
}
