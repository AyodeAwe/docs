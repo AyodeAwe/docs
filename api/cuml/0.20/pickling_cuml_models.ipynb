{
 "cells": [
  {
   "cell_type": "markdown",
   "metadata": {},
   "source": [
    "# Pickling cuML Models for Persistence\n",
    "\n",
    "This notebook demonstrates simple pickling of both single-GPU and multi-GPU cuML models for persistence"
   ]
  },
  {
   "cell_type": "code",
   "execution_count": 1,
   "metadata": {
    "execution": {
     "iopub.execute_input": "2021-05-11T09:45:00.766400Z",
     "iopub.status.busy": "2021-05-11T09:45:00.764766Z",
     "iopub.status.idle": "2021-05-11T09:45:00.769988Z",
     "shell.execute_reply": "2021-05-11T09:45:00.768603Z"
    }
   },
   "outputs": [],
   "source": [
    "import warnings\n",
    "warnings.filterwarnings(\"ignore\", category=FutureWarning)"
   ]
  },
  {
   "cell_type": "markdown",
   "metadata": {},
   "source": [
    "## Single GPU Model Pickling\n",
    "\n",
    "All single-GPU estimators are pickleable. The following example demonstrates the creation of a synthetic dataset, training, and pickling of the resulting model for storage. Trained single-GPU models can also be used to distribute the inference on a Dask cluster, which the `Distributed Model Pickling` section below demonstrates."
   ]
  },
  {
   "cell_type": "code",
   "execution_count": 2,
   "metadata": {
    "execution": {
     "iopub.execute_input": "2021-05-11T09:45:00.779943Z",
     "iopub.status.busy": "2021-05-11T09:45:00.778453Z",
     "iopub.status.idle": "2021-05-11T09:45:06.407342Z",
     "shell.execute_reply": "2021-05-11T09:45:06.408537Z"
    }
   },
   "outputs": [],
   "source": [
    "from cuml.datasets import make_blobs\n",
    "\n",
    "X, y = make_blobs(n_samples=50,\n",
    "                  n_features=10,\n",
    "                  centers=5,\n",
    "                  cluster_std=0.4,\n",
    "                  random_state=0)"
   ]
  },
  {
   "cell_type": "code",
   "execution_count": 3,
   "metadata": {
    "execution": {
     "iopub.execute_input": "2021-05-11T09:45:06.419551Z",
     "iopub.status.busy": "2021-05-11T09:45:06.418089Z",
     "iopub.status.idle": "2021-05-11T09:45:06.827268Z",
     "shell.execute_reply": "2021-05-11T09:45:06.828522Z"
    }
   },
   "outputs": [
    {
     "data": {
      "text/plain": [
       "KMeans()"
      ]
     },
     "execution_count": 1,
     "metadata": {},
     "output_type": "execute_result"
    }
   ],
   "source": [
    "from cuml.cluster import KMeans\n",
    "\n",
    "model = KMeans(n_clusters=5)\n",
    "\n",
    "model.fit(X)"
   ]
  },
  {
   "cell_type": "code",
   "execution_count": 4,
   "metadata": {
    "execution": {
     "iopub.execute_input": "2021-05-11T09:45:06.836196Z",
     "iopub.status.busy": "2021-05-11T09:45:06.834704Z",
     "iopub.status.idle": "2021-05-11T09:45:06.839805Z",
     "shell.execute_reply": "2021-05-11T09:45:06.838643Z"
    }
   },
   "outputs": [],
   "source": [
    "import pickle\n",
    "\n",
    "pickle.dump(model, open(\"kmeans_model.pkl\", \"wb\"))"
   ]
  },
  {
   "cell_type": "code",
   "execution_count": 5,
   "metadata": {
    "execution": {
     "iopub.execute_input": "2021-05-11T09:45:06.847601Z",
     "iopub.status.busy": "2021-05-11T09:45:06.845545Z",
     "iopub.status.idle": "2021-05-11T09:45:06.851012Z",
     "shell.execute_reply": "2021-05-11T09:45:06.849706Z"
    }
   },
   "outputs": [],
   "source": [
    "model = pickle.load(open(\"kmeans_model.pkl\", \"rb\"))"
   ]
  },
  {
   "cell_type": "code",
   "execution_count": 6,
   "metadata": {
    "execution": {
     "iopub.execute_input": "2021-05-11T09:45:06.859432Z",
     "iopub.status.busy": "2021-05-11T09:45:06.858478Z",
     "iopub.status.idle": "2021-05-11T09:45:06.863240Z",
     "shell.execute_reply": "2021-05-11T09:45:06.864027Z"
    }
   },
   "outputs": [
    {
     "data": {
      "text/plain": [
       "array([[ 5.2615476, -4.0487256,  4.464928 , -2.9367518,  3.5061095,\n",
       "        -4.016832 , -3.463885 ,  6.078449 , -6.9533257, -1.004144 ],\n",
       "       [-4.2439985,  5.6107073, -5.669777 , -1.7957243, -9.255529 ,\n",
       "         0.7177438,  4.4435897, -2.874715 , -5.090096 ,  9.684122 ],\n",
       "       [ 4.6749854,  8.213466 , -9.07572  ,  9.568374 ,  8.454807 ,\n",
       "        -1.2327975,  3.3903713, -7.8282413, -0.8454461,  0.6288572],\n",
       "       [-3.008261 ,  4.625961 , -4.483249 ,  2.228457 ,  1.643532 ,\n",
       "        -2.4505193, -5.2582016, -1.6679403, -7.9857535,  2.8311467],\n",
       "       [-5.6072407,  2.2695982, -3.7516537, -1.8182003, -5.1430273,\n",
       "         7.599364 ,  2.8252368,  8.773042 ,  1.6198314,  1.1772048]],\n",
       "      dtype=float32)"
      ]
     },
     "execution_count": 1,
     "metadata": {},
     "output_type": "execute_result"
    }
   ],
   "source": [
    "model.cluster_centers_"
   ]
  },
  {
   "cell_type": "markdown",
   "metadata": {},
   "source": [
    "## Distributed Model Pickling"
   ]
  },
  {
   "cell_type": "markdown",
   "metadata": {},
   "source": [
    "The distributed estimator wrappers inside of the `cuml.dask` are not intended to be pickled directly. The Dask cuML estimators provide a function `get_combined_model()`, which returns the trained single-GPU model for pickling. The combined model can be used for inference on a single-GPU, and the `ParallelPostFit` wrapper from the [Dask-ML](https://ml.dask.org/meta-estimators.html) library can be used to perform distributed inference on a Dask cluster."
   ]
  },
  {
   "cell_type": "code",
   "execution_count": 7,
   "metadata": {
    "execution": {
     "iopub.execute_input": "2021-05-11T09:45:06.872601Z",
     "iopub.status.busy": "2021-05-11T09:45:06.871672Z",
     "iopub.status.idle": "2021-05-11T09:45:11.358176Z",
     "shell.execute_reply": "2021-05-11T09:45:11.359514Z"
    }
   },
   "outputs": [
    {
     "data": {
      "text/html": [
       "<table style=\"border: 2px solid white;\">\n",
       "<tr>\n",
       "<td style=\"vertical-align: top; border: 0px solid white\">\n",
       "<h3 style=\"text-align: left;\">Client</h3>\n",
       "<ul style=\"text-align: left; list-style: none; margin: 0; padding: 0;\">\n",
       "  <li><b>Scheduler: </b>tcp://127.0.0.1:35979</li>\n",
       "  <li><b>Dashboard: </b><a href='http://127.0.0.1:8787/status' target='_blank'>http://127.0.0.1:8787/status</a></li>\n",
       "</ul>\n",
       "</td>\n",
       "<td style=\"vertical-align: top; border: 0px solid white\">\n",
       "<h3 style=\"text-align: left;\">Cluster</h3>\n",
       "<ul style=\"text-align: left; list-style:none; margin: 0; padding: 0;\">\n",
       "  <li><b>Workers: </b>1</li>\n",
       "  <li><b>Cores: </b>1</li>\n",
       "  <li><b>Memory: </b>251.80 GiB</li>\n",
       "</ul>\n",
       "</td>\n",
       "</tr>\n",
       "</table>"
      ],
      "text/plain": [
       "<Client: 'tcp://127.0.0.1:35979' processes=1 threads=1, memory=251.80 GiB>"
      ]
     },
     "execution_count": 1,
     "metadata": {},
     "output_type": "execute_result"
    }
   ],
   "source": [
    "from dask.distributed import Client\n",
    "from dask_cuda import LocalCUDACluster\n",
    "\n",
    "cluster = LocalCUDACluster()\n",
    "client = Client(cluster)\n",
    "client"
   ]
  },
  {
   "cell_type": "code",
   "execution_count": 8,
   "metadata": {
    "execution": {
     "iopub.execute_input": "2021-05-11T09:45:11.374727Z",
     "iopub.status.busy": "2021-05-11T09:45:11.373089Z",
     "iopub.status.idle": "2021-05-11T09:45:11.476220Z",
     "shell.execute_reply": "2021-05-11T09:45:11.474923Z"
    }
   },
   "outputs": [],
   "source": [
    "from cuml.dask.datasets import make_blobs\n",
    "\n",
    "n_workers = len(client.scheduler_info()[\"workers\"].keys())\n",
    "\n",
    "X, y = make_blobs(n_samples=5000, \n",
    "                  n_features=30,\n",
    "                  centers=5, \n",
    "                  cluster_std=0.4, \n",
    "                  random_state=0,\n",
    "                  n_parts=n_workers*5)\n",
    "\n",
    "X = X.persist()\n",
    "y = y.persist()"
   ]
  },
  {
   "cell_type": "code",
   "execution_count": 9,
   "metadata": {
    "execution": {
     "iopub.execute_input": "2021-05-11T09:45:11.484602Z",
     "iopub.status.busy": "2021-05-11T09:45:11.483075Z",
     "iopub.status.idle": "2021-05-11T09:45:11.495588Z",
     "shell.execute_reply": "2021-05-11T09:45:11.496720Z"
    }
   },
   "outputs": [],
   "source": [
    "from cuml.dask.cluster import KMeans\n",
    "\n",
    "dist_model = KMeans(n_clusters=5)"
   ]
  },
  {
   "cell_type": "code",
   "execution_count": 10,
   "metadata": {
    "execution": {
     "iopub.execute_input": "2021-05-11T09:45:11.506741Z",
     "iopub.status.busy": "2021-05-11T09:45:11.505298Z",
     "iopub.status.idle": "2021-05-11T09:45:14.801402Z",
     "shell.execute_reply": "2021-05-11T09:45:14.802684Z"
    }
   },
   "outputs": [
    {
     "data": {
      "text/plain": [
       "<cuml.dask.cluster.kmeans.KMeans at 0x7f502e618710>"
      ]
     },
     "execution_count": 1,
     "metadata": {},
     "output_type": "execute_result"
    }
   ],
   "source": [
    "dist_model.fit(X)"
   ]
  },
  {
   "cell_type": "code",
   "execution_count": 11,
   "metadata": {
    "execution": {
     "iopub.execute_input": "2021-05-11T09:45:14.814687Z",
     "iopub.status.busy": "2021-05-11T09:45:14.813124Z",
     "iopub.status.idle": "2021-05-11T09:45:14.829983Z",
     "shell.execute_reply": "2021-05-11T09:45:14.828755Z"
    }
   },
   "outputs": [],
   "source": [
    "import pickle\n",
    "\n",
    "single_gpu_model = dist_model.get_combined_model()\n",
    "pickle.dump(single_gpu_model, open(\"kmeans_model.pkl\", \"wb\"))"
   ]
  },
  {
   "cell_type": "code",
   "execution_count": 12,
   "metadata": {
    "execution": {
     "iopub.execute_input": "2021-05-11T09:45:14.838402Z",
     "iopub.status.busy": "2021-05-11T09:45:14.836935Z",
     "iopub.status.idle": "2021-05-11T09:45:14.842436Z",
     "shell.execute_reply": "2021-05-11T09:45:14.840979Z"
    }
   },
   "outputs": [],
   "source": [
    "single_gpu_model = pickle.load(open(\"kmeans_model.pkl\", \"rb\"))"
   ]
  },
  {
   "cell_type": "code",
   "execution_count": 13,
   "metadata": {
    "execution": {
     "iopub.execute_input": "2021-05-11T09:45:14.855204Z",
     "iopub.status.busy": "2021-05-11T09:45:14.853744Z",
     "iopub.status.idle": "2021-05-11T09:45:14.859355Z",
     "shell.execute_reply": "2021-05-11T09:45:14.860572Z"
    }
   },
   "outputs": [
    {
     "data": {
      "text/plain": [
       "array([[-2.8796387e+00,  4.4348760e+00, -4.4264808e+00,  2.3959141e+00,\n",
       "         1.7286437e+00, -2.4991984e+00, -5.1794519e+00, -1.6771442e+00,\n",
       "        -8.1329165e+00,  2.6659229e+00, -4.3131099e+00,  5.5827813e+00,\n",
       "        -5.7318306e+00, -1.7427168e+00, -9.3456125e+00,  7.1365565e-01,\n",
       "         4.4255500e+00, -2.9118376e+00, -4.9467444e+00,  9.6786423e+00,\n",
       "         8.4222736e+00, -6.2710242e+00, -6.3596501e+00,  1.9645507e+00,\n",
       "         4.1715994e+00, -9.1683636e+00,  4.6156683e+00,  8.7916479e+00,\n",
       "         6.8754416e+00,  2.2288747e+00],\n",
       "       [-6.9536953e+00, -9.7635870e+00, -6.5648260e+00, -4.3536150e-01,\n",
       "         6.0998106e+00,  3.7550375e+00, -3.9558539e+00,  6.1595521e+00,\n",
       "        -1.8599318e+00,  5.0400305e+00, -6.8397551e+00,  1.3435433e+00,\n",
       "         8.9749022e+00, -9.9621773e-01,  9.6651955e+00,  9.8009663e+00,\n",
       "        -8.6188364e+00,  5.9978371e+00,  2.2295926e+00, -3.6477711e+00,\n",
       "         7.0758514e+00, -7.3772264e+00, -5.3214231e+00, -6.9927959e+00,\n",
       "        -7.9296331e+00,  6.6705365e+00, -5.5850177e+00,  7.1526051e+00,\n",
       "         6.5703216e+00, -8.3389397e+00],\n",
       "       [ 4.8136678e+00,  8.3985281e+00, -9.2161245e+00,  9.4185524e+00,\n",
       "         8.5280886e+00, -1.0969982e+00,  3.3253176e+00, -7.8064361e+00,\n",
       "        -5.9660631e-01,  2.5423864e-01,  5.5004082e+00, -4.1162963e+00,\n",
       "         4.2832375e+00, -2.8173411e+00,  3.6207721e+00, -4.1576214e+00,\n",
       "        -3.6048706e+00,  6.2125406e+00, -6.9080997e+00, -1.0732135e+00,\n",
       "        -5.8362112e+00,  2.2357669e+00, -3.8588786e+00, -1.6835877e+00,\n",
       "        -5.3240371e+00,  7.5769191e+00,  2.9358530e+00,  8.5267363e+00,\n",
       "         1.5667247e+00,  1.0779674e+00],\n",
       "       [-4.6475406e+00, -9.5672178e+00,  6.6923513e+00,  4.4359236e+00,\n",
       "         2.1902738e+00,  2.5834756e+00,  5.9448940e-01,  6.2568665e+00,\n",
       "        -8.7821655e+00, -4.1232014e-01,  9.8151770e+00,  7.5641570e+00,\n",
       "         1.0003010e+01, -5.8680434e+00, -1.2743111e+00, -2.5393457e+00,\n",
       "        -1.0847499e+00, -5.2629204e+00, -9.3071022e+00,  4.6179357e+00,\n",
       "        -9.7068965e-02, -3.9351208e+00,  6.1767273e+00, -7.4346881e+00,\n",
       "         5.6496072e+00, -8.5544844e+00, -7.5265570e+00, -5.5195603e+00,\n",
       "         4.8197627e+00,  2.5235438e+00],\n",
       "       [ 6.2794290e+00,  9.2293940e+00,  8.3403702e+00,  9.0330496e+00,\n",
       "         7.6893492e+00, -9.9538225e-01, -6.2780757e+00,  1.3599334e+00,\n",
       "        -6.9744482e+00, -5.9463458e+00,  1.0695117e+00, -8.0422517e-03,\n",
       "         2.8183141e+00,  1.8317666e+00, -8.2557344e+00,  3.0514317e+00,\n",
       "        -8.4958010e+00,  9.7238474e+00, -7.7455082e+00,  3.4521687e+00,\n",
       "        -3.9248331e+00, -4.1106420e+00,  2.6693089e+00,  1.2985626e+00,\n",
       "         1.0421573e+00,  5.2490616e+00, -1.6496239e+00,  6.1451659e+00,\n",
       "        -6.9103327e+00, -9.6390305e+00]], dtype=float32)"
      ]
     },
     "execution_count": 1,
     "metadata": {},
     "output_type": "execute_result"
    }
   ],
   "source": [
    "single_gpu_model.cluster_centers_"
   ]
  }
 ],
 "metadata": {
  "kernelspec": {
   "display_name": "Python 3",
   "language": "python",
   "name": "python3"
  },
  "language_info": {
   "codemirror_mode": {
    "name": "ipython",
    "version": 3
   },
   "file_extension": ".py",
   "mimetype": "text/x-python",
   "name": "python",
   "nbconvert_exporter": "python",
   "pygments_lexer": "ipython3",
   "version": "3.7.10"
  }
 },
 "nbformat": 4,
 "nbformat_minor": 4
}
