{
 "cells": [
  {
   "cell_type": "markdown",
   "metadata": {},
   "source": [
    "# Pickling cuML Models for Persistence\n",
    "\n",
    "This notebook demonstrates simple pickling of both single-GPU and multi-GPU cuML models for persistence"
   ]
  },
  {
   "cell_type": "code",
   "execution_count": 1,
   "metadata": {
    "execution": {
     "iopub.execute_input": "2021-05-13T09:39:14.938545Z",
     "iopub.status.busy": "2021-05-13T09:39:14.937448Z",
     "iopub.status.idle": "2021-05-13T09:39:14.941405Z",
     "shell.execute_reply": "2021-05-13T09:39:14.940528Z"
    }
   },
   "outputs": [],
   "source": [
    "import warnings\n",
    "warnings.filterwarnings(\"ignore\", category=FutureWarning)"
   ]
  },
  {
   "cell_type": "markdown",
   "metadata": {},
   "source": [
    "## Single GPU Model Pickling\n",
    "\n",
    "All single-GPU estimators are pickleable. The following example demonstrates the creation of a synthetic dataset, training, and pickling of the resulting model for storage. Trained single-GPU models can also be used to distribute the inference on a Dask cluster, which the `Distributed Model Pickling` section below demonstrates."
   ]
  },
  {
   "cell_type": "code",
   "execution_count": 2,
   "metadata": {
    "execution": {
     "iopub.execute_input": "2021-05-13T09:39:14.949126Z",
     "iopub.status.busy": "2021-05-13T09:39:14.948234Z",
     "iopub.status.idle": "2021-05-13T09:39:20.051800Z",
     "shell.execute_reply": "2021-05-13T09:39:20.049502Z"
    }
   },
   "outputs": [],
   "source": [
    "from cuml.datasets import make_blobs\n",
    "\n",
    "X, y = make_blobs(n_samples=50,\n",
    "                  n_features=10,\n",
    "                  centers=5,\n",
    "                  cluster_std=0.4,\n",
    "                  random_state=0)"
   ]
  },
  {
   "cell_type": "code",
   "execution_count": 3,
   "metadata": {
    "execution": {
     "iopub.execute_input": "2021-05-13T09:39:20.061134Z",
     "iopub.status.busy": "2021-05-13T09:39:20.059651Z",
     "iopub.status.idle": "2021-05-13T09:39:20.380544Z",
     "shell.execute_reply": "2021-05-13T09:39:20.381792Z"
    }
   },
   "outputs": [
    {
     "data": {
      "text/plain": [
       "KMeans()"
      ]
     },
     "execution_count": 1,
     "metadata": {},
     "output_type": "execute_result"
    }
   ],
   "source": [
    "from cuml.cluster import KMeans\n",
    "\n",
    "model = KMeans(n_clusters=5)\n",
    "\n",
    "model.fit(X)"
   ]
  },
  {
   "cell_type": "code",
   "execution_count": 4,
   "metadata": {
    "execution": {
     "iopub.execute_input": "2021-05-13T09:39:20.388556Z",
     "iopub.status.busy": "2021-05-13T09:39:20.387075Z",
     "iopub.status.idle": "2021-05-13T09:39:20.390088Z",
     "shell.execute_reply": "2021-05-13T09:39:20.391240Z"
    }
   },
   "outputs": [],
   "source": [
    "import pickle\n",
    "\n",
    "pickle.dump(model, open(\"kmeans_model.pkl\", \"wb\"))"
   ]
  },
  {
   "cell_type": "code",
   "execution_count": 5,
   "metadata": {
    "execution": {
     "iopub.execute_input": "2021-05-13T09:39:20.397655Z",
     "iopub.status.busy": "2021-05-13T09:39:20.396285Z",
     "iopub.status.idle": "2021-05-13T09:39:20.399305Z",
     "shell.execute_reply": "2021-05-13T09:39:20.400473Z"
    }
   },
   "outputs": [],
   "source": [
    "model = pickle.load(open(\"kmeans_model.pkl\", \"rb\"))"
   ]
  },
  {
   "cell_type": "code",
   "execution_count": 6,
   "metadata": {
    "execution": {
     "iopub.execute_input": "2021-05-13T09:39:20.407858Z",
     "iopub.status.busy": "2021-05-13T09:39:20.406557Z",
     "iopub.status.idle": "2021-05-13T09:39:20.411138Z",
     "shell.execute_reply": "2021-05-13T09:39:20.412242Z"
    }
   },
   "outputs": [
    {
     "data": {
      "text/plain": [
       "array([[ 5.2615476 , -4.0487256 ,  4.464928  , -2.9367518 ,  3.5061095 ,\n",
       "        -4.016832  , -3.463885  ,  6.078449  , -6.953326  , -1.004144  ],\n",
       "       [-4.2439985 ,  5.6107073 , -5.669777  , -1.7957243 , -9.255529  ,\n",
       "         0.7177438 ,  4.4435897 , -2.874715  , -5.090096  ,  9.684121  ],\n",
       "       [ 4.674985  ,  8.213466  , -9.07572   ,  9.568373  ,  8.454808  ,\n",
       "        -1.2327975 ,  3.3903713 , -7.828242  , -0.84544605,  0.6288572 ],\n",
       "       [-3.008261  ,  4.6259604 , -4.483249  ,  2.228457  ,  1.643532  ,\n",
       "        -2.4505193 , -5.258201  , -1.6679403 , -7.985753  ,  2.8311467 ],\n",
       "       [-5.6072407 ,  2.2695985 , -3.7516537 , -1.8182003 , -5.143028  ,\n",
       "         7.599363  ,  2.8252368 ,  8.773042  ,  1.6198314 ,  1.1772048 ]],\n",
       "      dtype=float32)"
      ]
     },
     "execution_count": 1,
     "metadata": {},
     "output_type": "execute_result"
    }
   ],
   "source": [
    "model.cluster_centers_"
   ]
  },
  {
   "cell_type": "markdown",
   "metadata": {},
   "source": [
    "## Distributed Model Pickling"
   ]
  },
  {
   "cell_type": "markdown",
   "metadata": {},
   "source": [
    "The distributed estimator wrappers inside of the `cuml.dask` are not intended to be pickled directly. The Dask cuML estimators provide a function `get_combined_model()`, which returns the trained single-GPU model for pickling. The combined model can be used for inference on a single-GPU, and the `ParallelPostFit` wrapper from the [Dask-ML](https://ml.dask.org/meta-estimators.html) library can be used to perform distributed inference on a Dask cluster."
   ]
  },
  {
   "cell_type": "code",
   "execution_count": 7,
   "metadata": {
    "execution": {
     "iopub.execute_input": "2021-05-13T09:39:20.419067Z",
     "iopub.status.busy": "2021-05-13T09:39:20.417790Z",
     "iopub.status.idle": "2021-05-13T09:39:24.515799Z",
     "shell.execute_reply": "2021-05-13T09:39:24.517069Z"
    }
   },
   "outputs": [
    {
     "data": {
      "text/html": [
       "<table style=\"border: 2px solid white;\">\n",
       "<tr>\n",
       "<td style=\"vertical-align: top; border: 0px solid white\">\n",
       "<h3 style=\"text-align: left;\">Client</h3>\n",
       "<ul style=\"text-align: left; list-style: none; margin: 0; padding: 0;\">\n",
       "  <li><b>Scheduler: </b>tcp://127.0.0.1:34139</li>\n",
       "  <li><b>Dashboard: </b><a href='http://127.0.0.1:8787/status' target='_blank'>http://127.0.0.1:8787/status</a></li>\n",
       "</ul>\n",
       "</td>\n",
       "<td style=\"vertical-align: top; border: 0px solid white\">\n",
       "<h3 style=\"text-align: left;\">Cluster</h3>\n",
       "<ul style=\"text-align: left; list-style:none; margin: 0; padding: 0;\">\n",
       "  <li><b>Workers: </b>1</li>\n",
       "  <li><b>Cores: </b>1</li>\n",
       "  <li><b>Memory: </b>251.80 GiB</li>\n",
       "</ul>\n",
       "</td>\n",
       "</tr>\n",
       "</table>"
      ],
      "text/plain": [
       "<Client: 'tcp://127.0.0.1:34139' processes=1 threads=1, memory=251.80 GiB>"
      ]
     },
     "execution_count": 1,
     "metadata": {},
     "output_type": "execute_result"
    }
   ],
   "source": [
    "from dask.distributed import Client\n",
    "from dask_cuda import LocalCUDACluster\n",
    "\n",
    "cluster = LocalCUDACluster()\n",
    "client = Client(cluster)\n",
    "client"
   ]
  },
  {
   "cell_type": "code",
   "execution_count": 8,
   "metadata": {
    "execution": {
     "iopub.execute_input": "2021-05-13T09:39:24.529527Z",
     "iopub.status.busy": "2021-05-13T09:39:24.528071Z",
     "iopub.status.idle": "2021-05-13T09:39:24.605850Z",
     "shell.execute_reply": "2021-05-13T09:39:24.604320Z"
    }
   },
   "outputs": [],
   "source": [
    "from cuml.dask.datasets import make_blobs\n",
    "\n",
    "n_workers = len(client.scheduler_info()[\"workers\"].keys())\n",
    "\n",
    "X, y = make_blobs(n_samples=5000, \n",
    "                  n_features=30,\n",
    "                  centers=5, \n",
    "                  cluster_std=0.4, \n",
    "                  random_state=0,\n",
    "                  n_parts=n_workers*5)\n",
    "\n",
    "X = X.persist()\n",
    "y = y.persist()"
   ]
  },
  {
   "cell_type": "code",
   "execution_count": 9,
   "metadata": {
    "execution": {
     "iopub.execute_input": "2021-05-13T09:39:24.613381Z",
     "iopub.status.busy": "2021-05-13T09:39:24.611900Z",
     "iopub.status.idle": "2021-05-13T09:39:24.623983Z",
     "shell.execute_reply": "2021-05-13T09:39:24.625141Z"
    }
   },
   "outputs": [],
   "source": [
    "from cuml.dask.cluster import KMeans\n",
    "\n",
    "dist_model = KMeans(n_clusters=5)"
   ]
  },
  {
   "cell_type": "code",
   "execution_count": 10,
   "metadata": {
    "execution": {
     "iopub.execute_input": "2021-05-13T09:39:24.631996Z",
     "iopub.status.busy": "2021-05-13T09:39:24.630638Z",
     "iopub.status.idle": "2021-05-13T09:39:27.457972Z",
     "shell.execute_reply": "2021-05-13T09:39:27.456039Z"
    }
   },
   "outputs": [
    {
     "data": {
      "text/plain": [
       "<cuml.dask.cluster.kmeans.KMeans at 0x7f80a19d0950>"
      ]
     },
     "execution_count": 1,
     "metadata": {},
     "output_type": "execute_result"
    }
   ],
   "source": [
    "dist_model.fit(X)"
   ]
  },
  {
   "cell_type": "code",
   "execution_count": 11,
   "metadata": {
    "execution": {
     "iopub.execute_input": "2021-05-13T09:39:27.469436Z",
     "iopub.status.busy": "2021-05-13T09:39:27.467631Z",
     "iopub.status.idle": "2021-05-13T09:39:27.500480Z",
     "shell.execute_reply": "2021-05-13T09:39:27.498836Z"
    }
   },
   "outputs": [],
   "source": [
    "import pickle\n",
    "\n",
    "single_gpu_model = dist_model.get_combined_model()\n",
    "pickle.dump(single_gpu_model, open(\"kmeans_model.pkl\", \"wb\"))"
   ]
  },
  {
   "cell_type": "code",
   "execution_count": 12,
   "metadata": {
    "execution": {
     "iopub.execute_input": "2021-05-13T09:39:27.510246Z",
     "iopub.status.busy": "2021-05-13T09:39:27.508684Z",
     "iopub.status.idle": "2021-05-13T09:39:27.514310Z",
     "shell.execute_reply": "2021-05-13T09:39:27.513153Z"
    }
   },
   "outputs": [],
   "source": [
    "single_gpu_model = pickle.load(open(\"kmeans_model.pkl\", \"rb\"))"
   ]
  },
  {
   "cell_type": "code",
   "execution_count": 13,
   "metadata": {
    "execution": {
     "iopub.execute_input": "2021-05-13T09:39:27.529194Z",
     "iopub.status.busy": "2021-05-13T09:39:27.527673Z",
     "iopub.status.idle": "2021-05-13T09:39:27.532937Z",
     "shell.execute_reply": "2021-05-13T09:39:27.534176Z"
    }
   },
   "outputs": [
    {
     "data": {
      "text/plain": [
       "array([[-2.8796391e+00,  4.4348769e+00, -4.4264812e+00,  2.3959138e+00,\n",
       "         1.7286437e+00, -2.4991987e+00, -5.1794510e+00, -1.6771438e+00,\n",
       "        -8.1329174e+00,  2.6659229e+00, -4.3131094e+00,  5.5827808e+00,\n",
       "        -5.7318320e+00, -1.7427167e+00, -9.3456125e+00,  7.1365571e-01,\n",
       "         4.4255500e+00, -2.9118373e+00, -4.9467440e+00,  9.6786442e+00,\n",
       "         8.4222765e+00, -6.2710247e+00, -6.3596501e+00,  1.9645507e+00,\n",
       "         4.1715989e+00, -9.1683617e+00,  4.6156664e+00,  8.7916460e+00,\n",
       "         6.8754425e+00,  2.2288756e+00],\n",
       "       [-6.9536958e+00, -9.7635832e+00, -6.5648251e+00, -4.3536144e-01,\n",
       "         6.0998111e+00,  3.7550368e+00, -3.9558542e+00,  6.1595511e+00,\n",
       "        -1.8599322e+00,  5.0400295e+00, -6.8397546e+00,  1.3435428e+00,\n",
       "         8.9749031e+00, -9.9621779e-01,  9.6651936e+00,  9.8009682e+00,\n",
       "        -8.6188354e+00,  5.9978375e+00,  2.2295933e+00, -3.6477718e+00,\n",
       "         7.0758533e+00, -7.3772268e+00, -5.3214235e+00, -6.9927964e+00,\n",
       "        -7.9296331e+00,  6.6705351e+00, -5.5850177e+00,  7.1526036e+00,\n",
       "         6.5703211e+00, -8.3389387e+00],\n",
       "       [ 4.8136678e+00,  8.3985291e+00, -9.2161245e+00,  9.4185486e+00,\n",
       "         8.5280838e+00, -1.0969982e+00,  3.3253171e+00, -7.8064361e+00,\n",
       "        -5.9660625e-01,  2.5423869e-01,  5.5004072e+00, -4.1162972e+00,\n",
       "         4.2832370e+00, -2.8173413e+00,  3.6207726e+00, -4.1576214e+00,\n",
       "        -3.6048706e+00,  6.2125416e+00, -6.9081006e+00, -1.0732132e+00,\n",
       "        -5.8362103e+00,  2.2357671e+00, -3.8588784e+00, -1.6835874e+00,\n",
       "        -5.3240366e+00,  7.5769176e+00,  2.9358532e+00,  8.5267382e+00,\n",
       "         1.5667244e+00,  1.0779678e+00],\n",
       "       [-4.6475406e+00, -9.5672169e+00,  6.6923518e+00,  4.4359212e+00,\n",
       "         2.1902723e+00,  2.5834749e+00,  5.9448910e-01,  6.2568655e+00,\n",
       "        -8.7821627e+00, -4.1232017e-01,  9.8151789e+00,  7.5641575e+00,\n",
       "         1.0003015e+01, -5.8680420e+00, -1.2743106e+00, -2.5393457e+00,\n",
       "        -1.0847498e+00, -5.2629194e+00, -9.3071032e+00,  4.6179361e+00,\n",
       "        -9.7068973e-02, -3.9351211e+00,  6.1767287e+00, -7.4346900e+00,\n",
       "         5.6496072e+00, -8.5544844e+00, -7.5265565e+00, -5.5195594e+00,\n",
       "         4.8197641e+00,  2.5235441e+00],\n",
       "       [ 6.2794266e+00,  9.2293959e+00,  8.3403711e+00,  9.0330496e+00,\n",
       "         7.6893487e+00, -9.9538195e-01, -6.2780752e+00,  1.3599333e+00,\n",
       "        -6.9744468e+00, -5.9463453e+00,  1.0695118e+00, -8.0422387e-03,\n",
       "         2.8183141e+00,  1.8317664e+00, -8.2557335e+00,  3.0514309e+00,\n",
       "        -8.4957981e+00,  9.7238483e+00, -7.7455082e+00,  3.4521687e+00,\n",
       "        -3.9248343e+00, -4.1106420e+00,  2.6693096e+00,  1.2985630e+00,\n",
       "         1.0421573e+00,  5.2490621e+00, -1.6496240e+00,  6.1451669e+00,\n",
       "        -6.9103332e+00, -9.6390314e+00]], dtype=float32)"
      ]
     },
     "execution_count": 1,
     "metadata": {},
     "output_type": "execute_result"
    }
   ],
   "source": [
    "single_gpu_model.cluster_centers_"
   ]
  }
 ],
 "metadata": {
  "kernelspec": {
   "display_name": "Python 3",
   "language": "python",
   "name": "python3"
  },
  "language_info": {
   "codemirror_mode": {
    "name": "ipython",
    "version": 3
   },
   "file_extension": ".py",
   "mimetype": "text/x-python",
   "name": "python",
   "nbconvert_exporter": "python",
   "pygments_lexer": "ipython3",
   "version": "3.7.10"
  }
 },
 "nbformat": 4,
 "nbformat_minor": 4
}
