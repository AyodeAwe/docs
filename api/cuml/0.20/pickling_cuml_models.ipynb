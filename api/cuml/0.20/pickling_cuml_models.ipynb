{
 "cells": [
  {
   "cell_type": "markdown",
   "metadata": {},
   "source": [
    "# Pickling cuML Models for Persistence\n",
    "\n",
    "This notebook demonstrates simple pickling of both single-GPU and multi-GPU cuML models for persistence"
   ]
  },
  {
   "cell_type": "code",
   "execution_count": 1,
   "metadata": {
    "execution": {
     "iopub.execute_input": "2021-05-08T09:56:11.046625Z",
     "iopub.status.busy": "2021-05-08T09:56:11.045115Z",
     "iopub.status.idle": "2021-05-08T09:56:11.049000Z",
     "shell.execute_reply": "2021-05-08T09:56:11.050217Z"
    }
   },
   "outputs": [],
   "source": [
    "import warnings\n",
    "warnings.filterwarnings(\"ignore\", category=FutureWarning)"
   ]
  },
  {
   "cell_type": "markdown",
   "metadata": {},
   "source": [
    "## Single GPU Model Pickling\n",
    "\n",
    "All single-GPU estimators are pickleable. The following example demonstrates the creation of a synthetic dataset, training, and pickling of the resulting model for storage. Trained single-GPU models can also be used to distribute the inference on a Dask cluster, which the `Distributed Model Pickling` section below demonstrates."
   ]
  },
  {
   "cell_type": "code",
   "execution_count": 2,
   "metadata": {
    "execution": {
     "iopub.execute_input": "2021-05-08T09:56:11.060721Z",
     "iopub.status.busy": "2021-05-08T09:56:11.059214Z",
     "iopub.status.idle": "2021-05-08T09:56:17.080871Z",
     "shell.execute_reply": "2021-05-08T09:56:17.082091Z"
    }
   },
   "outputs": [],
   "source": [
    "from cuml.datasets import make_blobs\n",
    "\n",
    "X, y = make_blobs(n_samples=50,\n",
    "                  n_features=10,\n",
    "                  centers=5,\n",
    "                  cluster_std=0.4,\n",
    "                  random_state=0)"
   ]
  },
  {
   "cell_type": "code",
   "execution_count": 3,
   "metadata": {
    "execution": {
     "iopub.execute_input": "2021-05-08T09:56:17.093723Z",
     "iopub.status.busy": "2021-05-08T09:56:17.092287Z",
     "iopub.status.idle": "2021-05-08T09:56:17.414245Z",
     "shell.execute_reply": "2021-05-08T09:56:17.415428Z"
    }
   },
   "outputs": [
    {
     "data": {
      "text/plain": [
       "KMeans()"
      ]
     },
     "execution_count": 1,
     "metadata": {},
     "output_type": "execute_result"
    }
   ],
   "source": [
    "from cuml.cluster import KMeans\n",
    "\n",
    "model = KMeans(n_clusters=5)\n",
    "\n",
    "model.fit(X)"
   ]
  },
  {
   "cell_type": "code",
   "execution_count": 4,
   "metadata": {
    "execution": {
     "iopub.execute_input": "2021-05-08T09:56:17.424146Z",
     "iopub.status.busy": "2021-05-08T09:56:17.422623Z",
     "iopub.status.idle": "2021-05-08T09:56:17.428418Z",
     "shell.execute_reply": "2021-05-08T09:56:17.427220Z"
    }
   },
   "outputs": [],
   "source": [
    "import pickle\n",
    "\n",
    "pickle.dump(model, open(\"kmeans_model.pkl\", \"wb\"))"
   ]
  },
  {
   "cell_type": "code",
   "execution_count": 5,
   "metadata": {
    "execution": {
     "iopub.execute_input": "2021-05-08T09:56:17.436844Z",
     "iopub.status.busy": "2021-05-08T09:56:17.435423Z",
     "iopub.status.idle": "2021-05-08T09:56:17.441016Z",
     "shell.execute_reply": "2021-05-08T09:56:17.439798Z"
    }
   },
   "outputs": [],
   "source": [
    "model = pickle.load(open(\"kmeans_model.pkl\", \"rb\"))"
   ]
  },
  {
   "cell_type": "code",
   "execution_count": 6,
   "metadata": {
    "execution": {
     "iopub.execute_input": "2021-05-08T09:56:17.450455Z",
     "iopub.status.busy": "2021-05-08T09:56:17.449069Z",
     "iopub.status.idle": "2021-05-08T09:56:17.453933Z",
     "shell.execute_reply": "2021-05-08T09:56:17.455092Z"
    }
   },
   "outputs": [
    {
     "data": {
      "text/plain": [
       "array([[ 5.2615476 , -4.0487256 ,  4.464928  , -2.9367518 ,  3.5061095 ,\n",
       "        -4.0168314 , -3.463885  ,  6.078449  , -6.953326  , -1.004144  ],\n",
       "       [-4.243999  ,  5.6107073 , -5.669777  , -1.7957243 , -9.255528  ,\n",
       "         0.71774375,  4.4435897 , -2.8747153 , -5.0900965 ,  9.684121  ],\n",
       "       [ 4.6749854 ,  8.213466  , -9.07572   ,  9.568374  ,  8.454807  ,\n",
       "        -1.2327975 ,  3.3903713 , -7.828242  , -0.8454461 ,  0.6288572 ],\n",
       "       [-3.008261  ,  4.6259604 , -4.483249  ,  2.228457  ,  1.643532  ,\n",
       "        -2.4505196 , -5.258201  , -1.6679403 , -7.9857535 ,  2.8311472 ],\n",
       "       [-5.6072407 ,  2.2695985 , -3.7516537 , -1.8182005 , -5.143028  ,\n",
       "         7.599363  ,  2.8252366 ,  8.773042  ,  1.6198314 ,  1.1772048 ]],\n",
       "      dtype=float32)"
      ]
     },
     "execution_count": 1,
     "metadata": {},
     "output_type": "execute_result"
    }
   ],
   "source": [
    "model.cluster_centers_"
   ]
  },
  {
   "cell_type": "markdown",
   "metadata": {},
   "source": [
    "## Distributed Model Pickling"
   ]
  },
  {
   "cell_type": "markdown",
   "metadata": {},
   "source": [
    "The distributed estimator wrappers inside of the `cuml.dask` are not intended to be pickled directly. The Dask cuML estimators provide a function `get_combined_model()`, which returns the trained single-GPU model for pickling. The combined model can be used for inference on a single-GPU, and the `ParallelPostFit` wrapper from the [Dask-ML](https://ml.dask.org/meta-estimators.html) library can be used to perform distributed inference on a Dask cluster."
   ]
  },
  {
   "cell_type": "code",
   "execution_count": 7,
   "metadata": {
    "execution": {
     "iopub.execute_input": "2021-05-08T09:56:17.464055Z",
     "iopub.status.busy": "2021-05-08T09:56:17.462605Z",
     "iopub.status.idle": "2021-05-08T09:56:21.751648Z",
     "shell.execute_reply": "2021-05-08T09:56:21.752926Z"
    }
   },
   "outputs": [
    {
     "data": {
      "text/html": [
       "<table style=\"border: 2px solid white;\">\n",
       "<tr>\n",
       "<td style=\"vertical-align: top; border: 0px solid white\">\n",
       "<h3 style=\"text-align: left;\">Client</h3>\n",
       "<ul style=\"text-align: left; list-style: none; margin: 0; padding: 0;\">\n",
       "  <li><b>Scheduler: </b>tcp://127.0.0.1:37476</li>\n",
       "  <li><b>Dashboard: </b><a href='http://127.0.0.1:8787/status' target='_blank'>http://127.0.0.1:8787/status</a></li>\n",
       "</ul>\n",
       "</td>\n",
       "<td style=\"vertical-align: top; border: 0px solid white\">\n",
       "<h3 style=\"text-align: left;\">Cluster</h3>\n",
       "<ul style=\"text-align: left; list-style:none; margin: 0; padding: 0;\">\n",
       "  <li><b>Workers: </b>1</li>\n",
       "  <li><b>Cores: </b>1</li>\n",
       "  <li><b>Memory: </b>251.80 GiB</li>\n",
       "</ul>\n",
       "</td>\n",
       "</tr>\n",
       "</table>"
      ],
      "text/plain": [
       "<Client: 'tcp://127.0.0.1:37476' processes=1 threads=1, memory=251.80 GiB>"
      ]
     },
     "execution_count": 1,
     "metadata": {},
     "output_type": "execute_result"
    }
   ],
   "source": [
    "from dask.distributed import Client\n",
    "from dask_cuda import LocalCUDACluster\n",
    "\n",
    "cluster = LocalCUDACluster()\n",
    "client = Client(cluster)\n",
    "client"
   ]
  },
  {
   "cell_type": "code",
   "execution_count": 8,
   "metadata": {
    "execution": {
     "iopub.execute_input": "2021-05-08T09:56:21.766485Z",
     "iopub.status.busy": "2021-05-08T09:56:21.764205Z",
     "iopub.status.idle": "2021-05-08T09:56:21.874888Z",
     "shell.execute_reply": "2021-05-08T09:56:21.876123Z"
    }
   },
   "outputs": [],
   "source": [
    "from cuml.dask.datasets import make_blobs\n",
    "\n",
    "n_workers = len(client.scheduler_info()[\"workers\"].keys())\n",
    "\n",
    "X, y = make_blobs(n_samples=5000, \n",
    "                  n_features=30,\n",
    "                  centers=5, \n",
    "                  cluster_std=0.4, \n",
    "                  random_state=0,\n",
    "                  n_parts=n_workers*5)\n",
    "\n",
    "X = X.persist()\n",
    "y = y.persist()"
   ]
  },
  {
   "cell_type": "code",
   "execution_count": 9,
   "metadata": {
    "execution": {
     "iopub.execute_input": "2021-05-08T09:56:21.886020Z",
     "iopub.status.busy": "2021-05-08T09:56:21.884689Z",
     "iopub.status.idle": "2021-05-08T09:56:21.903274Z",
     "shell.execute_reply": "2021-05-08T09:56:21.902173Z"
    }
   },
   "outputs": [],
   "source": [
    "from cuml.dask.cluster import KMeans\n",
    "\n",
    "dist_model = KMeans(n_clusters=5)"
   ]
  },
  {
   "cell_type": "code",
   "execution_count": 10,
   "metadata": {
    "execution": {
     "iopub.execute_input": "2021-05-08T09:56:21.914869Z",
     "iopub.status.busy": "2021-05-08T09:56:21.913577Z",
     "iopub.status.idle": "2021-05-08T09:56:25.021151Z",
     "shell.execute_reply": "2021-05-08T09:56:25.018941Z"
    }
   },
   "outputs": [
    {
     "data": {
      "text/plain": [
       "<cuml.dask.cluster.kmeans.KMeans at 0x7f98b3041550>"
      ]
     },
     "execution_count": 1,
     "metadata": {},
     "output_type": "execute_result"
    }
   ],
   "source": [
    "dist_model.fit(X)"
   ]
  },
  {
   "cell_type": "code",
   "execution_count": 11,
   "metadata": {
    "execution": {
     "iopub.execute_input": "2021-05-08T09:56:25.034729Z",
     "iopub.status.busy": "2021-05-08T09:56:25.032971Z",
     "iopub.status.idle": "2021-05-08T09:56:25.064112Z",
     "shell.execute_reply": "2021-05-08T09:56:25.065497Z"
    }
   },
   "outputs": [],
   "source": [
    "import pickle\n",
    "\n",
    "single_gpu_model = dist_model.get_combined_model()\n",
    "pickle.dump(single_gpu_model, open(\"kmeans_model.pkl\", \"wb\"))"
   ]
  },
  {
   "cell_type": "code",
   "execution_count": 12,
   "metadata": {
    "execution": {
     "iopub.execute_input": "2021-05-08T09:56:25.076645Z",
     "iopub.status.busy": "2021-05-08T09:56:25.075028Z",
     "iopub.status.idle": "2021-05-08T09:56:25.080945Z",
     "shell.execute_reply": "2021-05-08T09:56:25.079634Z"
    }
   },
   "outputs": [],
   "source": [
    "single_gpu_model = pickle.load(open(\"kmeans_model.pkl\", \"rb\"))"
   ]
  },
  {
   "cell_type": "code",
   "execution_count": 13,
   "metadata": {
    "execution": {
     "iopub.execute_input": "2021-05-08T09:56:25.097416Z",
     "iopub.status.busy": "2021-05-08T09:56:25.095918Z",
     "iopub.status.idle": "2021-05-08T09:56:25.101604Z",
     "shell.execute_reply": "2021-05-08T09:56:25.102883Z"
    }
   },
   "outputs": [
    {
     "data": {
      "text/plain": [
       "array([[-2.8796396e+00,  4.4348779e+00, -4.4264793e+00,  2.3959134e+00,\n",
       "         1.7286431e+00, -2.4991989e+00, -5.1794496e+00, -1.6771443e+00,\n",
       "        -8.1329165e+00,  2.6659234e+00, -4.3131084e+00,  5.5827813e+00,\n",
       "        -5.7318306e+00, -1.7427169e+00, -9.3456125e+00,  7.1365571e-01,\n",
       "         4.4255495e+00, -2.9118376e+00, -4.9467444e+00,  9.6786404e+00,\n",
       "         8.4222727e+00, -6.2710223e+00, -6.3596506e+00,  1.9645503e+00,\n",
       "         4.1715994e+00, -9.1683645e+00,  4.6156664e+00,  8.7916489e+00,\n",
       "         6.8754439e+00,  2.2288756e+00],\n",
       "       [-6.9536963e+00, -9.7635860e+00, -6.5648260e+00, -4.3536147e-01,\n",
       "         6.0998116e+00,  3.7550368e+00, -3.9558532e+00,  6.1595516e+00,\n",
       "        -1.8599319e+00,  5.0400310e+00, -6.8397560e+00,  1.3435433e+00,\n",
       "         8.9748974e+00, -9.9621797e-01,  9.6651936e+00,  9.8009644e+00,\n",
       "        -8.6188421e+00,  5.9978395e+00,  2.2295928e+00, -3.6477704e+00,\n",
       "         7.0758510e+00, -7.3772254e+00, -5.3214226e+00, -6.9927959e+00,\n",
       "        -7.9296327e+00,  6.6705356e+00, -5.5850177e+00,  7.1526041e+00,\n",
       "         6.5703211e+00, -8.3389416e+00],\n",
       "       [ 4.8136668e+00,  8.3985262e+00, -9.2161312e+00,  9.4185514e+00,\n",
       "         8.5280876e+00, -1.0969983e+00,  3.3253169e+00, -7.8064375e+00,\n",
       "        -5.9660625e-01,  2.5423875e-01,  5.5004072e+00, -4.1162963e+00,\n",
       "         4.2832375e+00, -2.8173401e+00,  3.6207726e+00, -4.1576195e+00,\n",
       "        -3.6048708e+00,  6.2125406e+00, -6.9080982e+00, -1.0732137e+00,\n",
       "        -5.8362103e+00,  2.2357659e+00, -3.8588784e+00, -1.6835877e+00,\n",
       "        -5.3240371e+00,  7.5769181e+00,  2.9358523e+00,  8.5267353e+00,\n",
       "         1.5667247e+00,  1.0779672e+00],\n",
       "       [-4.6475401e+00, -9.5672178e+00,  6.6923518e+00,  4.4359226e+00,\n",
       "         2.1902733e+00,  2.5834754e+00,  5.9448928e-01,  6.2568665e+00,\n",
       "        -8.7821617e+00, -4.1232008e-01,  9.8151779e+00,  7.5641561e+00,\n",
       "         1.0003012e+01, -5.8680439e+00, -1.2743115e+00, -2.5393460e+00,\n",
       "        -1.0847497e+00, -5.2629185e+00, -9.3071070e+00,  4.6179366e+00,\n",
       "        -9.7068980e-02, -3.9351211e+00,  6.1767302e+00, -7.4346881e+00,\n",
       "         5.6496100e+00, -8.5544806e+00, -7.5265589e+00, -5.5195580e+00,\n",
       "         4.8197641e+00,  2.5235438e+00],\n",
       "       [ 6.2794294e+00,  9.2293978e+00,  8.3403702e+00,  9.0330496e+00,\n",
       "         7.6893482e+00, -9.9538207e-01, -6.2780752e+00,  1.3599337e+00,\n",
       "        -6.9744458e+00, -5.9463468e+00,  1.0695119e+00, -8.0422340e-03,\n",
       "         2.8183141e+00,  1.8317665e+00, -8.2557335e+00,  3.0514314e+00,\n",
       "        -8.4957991e+00,  9.7238512e+00, -7.7455058e+00,  3.4521685e+00,\n",
       "        -3.9248331e+00, -4.1106415e+00,  2.6693089e+00,  1.2985631e+00,\n",
       "         1.0421572e+00,  5.2490635e+00, -1.6496236e+00,  6.1451654e+00,\n",
       "        -6.9103341e+00, -9.6390324e+00]], dtype=float32)"
      ]
     },
     "execution_count": 1,
     "metadata": {},
     "output_type": "execute_result"
    }
   ],
   "source": [
    "single_gpu_model.cluster_centers_"
   ]
  }
 ],
 "metadata": {
  "kernelspec": {
   "display_name": "Python 3",
   "language": "python",
   "name": "python3"
  },
  "language_info": {
   "codemirror_mode": {
    "name": "ipython",
    "version": 3
   },
   "file_extension": ".py",
   "mimetype": "text/x-python",
   "name": "python",
   "nbconvert_exporter": "python",
   "pygments_lexer": "ipython3",
   "version": "3.7.10"
  }
 },
 "nbformat": 4,
 "nbformat_minor": 4
}
