{
 "cells": [
  {
   "cell_type": "markdown",
   "metadata": {},
   "source": [
    "# Pickling cuML Models for Persistence\n",
    "\n",
    "This notebook demonstrates simple pickling of both single-GPU and multi-GPU cuML models for persistence"
   ]
  },
  {
   "cell_type": "code",
   "execution_count": 1,
   "metadata": {
    "execution": {
     "iopub.execute_input": "2021-05-02T09:49:02.298897Z",
     "iopub.status.busy": "2021-05-02T09:49:02.290007Z",
     "iopub.status.idle": "2021-05-02T09:49:02.301638Z",
     "shell.execute_reply": "2021-05-02T09:49:02.302931Z"
    }
   },
   "outputs": [],
   "source": [
    "import warnings\n",
    "warnings.filterwarnings(\"ignore\", category=FutureWarning)"
   ]
  },
  {
   "cell_type": "markdown",
   "metadata": {},
   "source": [
    "## Single GPU Model Pickling\n",
    "\n",
    "All single-GPU estimators are pickleable. The following example demonstrates the creation of a synthetic dataset, training, and pickling of the resulting model for storage. Trained single-GPU models can also be used to distribute the inference on a Dask cluster, which the `Distributed Model Pickling` section below demonstrates."
   ]
  },
  {
   "cell_type": "code",
   "execution_count": 2,
   "metadata": {
    "execution": {
     "iopub.execute_input": "2021-05-02T09:49:02.313182Z",
     "iopub.status.busy": "2021-05-02T09:49:02.311069Z",
     "iopub.status.idle": "2021-05-02T09:49:07.670386Z",
     "shell.execute_reply": "2021-05-02T09:49:07.672441Z"
    }
   },
   "outputs": [],
   "source": [
    "from cuml.datasets import make_blobs\n",
    "\n",
    "X, y = make_blobs(n_samples=50,\n",
    "                  n_features=10,\n",
    "                  centers=5,\n",
    "                  cluster_std=0.4,\n",
    "                  random_state=0)"
   ]
  },
  {
   "cell_type": "code",
   "execution_count": 3,
   "metadata": {
    "execution": {
     "iopub.execute_input": "2021-05-02T09:49:07.685067Z",
     "iopub.status.busy": "2021-05-02T09:49:07.683576Z",
     "iopub.status.idle": "2021-05-02T09:49:08.142728Z",
     "shell.execute_reply": "2021-05-02T09:49:08.144020Z"
    }
   },
   "outputs": [
    {
     "data": {
      "text/plain": [
       "KMeans()"
      ]
     },
     "execution_count": 1,
     "metadata": {},
     "output_type": "execute_result"
    }
   ],
   "source": [
    "from cuml.cluster import KMeans\n",
    "\n",
    "model = KMeans(n_clusters=5)\n",
    "\n",
    "model.fit(X)"
   ]
  },
  {
   "cell_type": "code",
   "execution_count": 4,
   "metadata": {
    "execution": {
     "iopub.execute_input": "2021-05-02T09:49:08.153913Z",
     "iopub.status.busy": "2021-05-02T09:49:08.152408Z",
     "iopub.status.idle": "2021-05-02T09:49:08.156202Z",
     "shell.execute_reply": "2021-05-02T09:49:08.157042Z"
    }
   },
   "outputs": [],
   "source": [
    "import pickle\n",
    "\n",
    "pickle.dump(model, open(\"kmeans_model.pkl\", \"wb\"))"
   ]
  },
  {
   "cell_type": "code",
   "execution_count": 5,
   "metadata": {
    "execution": {
     "iopub.execute_input": "2021-05-02T09:49:08.164321Z",
     "iopub.status.busy": "2021-05-02T09:49:08.163284Z",
     "iopub.status.idle": "2021-05-02T09:49:08.168822Z",
     "shell.execute_reply": "2021-05-02T09:49:08.167900Z"
    }
   },
   "outputs": [],
   "source": [
    "model = pickle.load(open(\"kmeans_model.pkl\", \"rb\"))"
   ]
  },
  {
   "cell_type": "code",
   "execution_count": 6,
   "metadata": {
    "execution": {
     "iopub.execute_input": "2021-05-02T09:49:08.178771Z",
     "iopub.status.busy": "2021-05-02T09:49:08.177745Z",
     "iopub.status.idle": "2021-05-02T09:49:08.182447Z",
     "shell.execute_reply": "2021-05-02T09:49:08.183264Z"
    }
   },
   "outputs": [
    {
     "data": {
      "text/plain": [
       "array([[-5.7684636 ,  2.3276033 , -3.7457774 , -1.8541754 , -5.1695833 ,\n",
       "         7.667088  ,  2.7118318 ,  8.495609  ,  1.7038484 ,  1.1884269 ],\n",
       "       [ 4.6476874 ,  8.37788   , -9.070581  ,  9.459332  ,  8.450422  ,\n",
       "        -1.0210547 ,  3.3920872 , -7.8629856 , -0.75276613,  0.48384127],\n",
       "       [-2.9414442 ,  4.6401706 , -4.5027533 ,  2.2855108 ,  1.644645  ,\n",
       "        -2.4937892 , -5.2241607 , -1.5499196 , -8.063638  ,  2.816936  ],\n",
       "       [-4.2710767 ,  5.5611653 , -5.6640916 , -1.8229512 , -9.2925    ,\n",
       "         0.730283  ,  4.4586773 , -2.8876224 , -5.125775  ,  9.694357  ],\n",
       "       [ 5.5837417 , -4.1515303 ,  4.369667  , -3.00205   ,  3.6388965 ,\n",
       "        -4.341912  , -3.3187115 ,  6.503671  , -6.865036  , -1.0266498 ]],\n",
       "      dtype=float32)"
      ]
     },
     "execution_count": 1,
     "metadata": {},
     "output_type": "execute_result"
    }
   ],
   "source": [
    "model.cluster_centers_"
   ]
  },
  {
   "cell_type": "markdown",
   "metadata": {},
   "source": [
    "## Distributed Model Pickling"
   ]
  },
  {
   "cell_type": "markdown",
   "metadata": {},
   "source": [
    "The distributed estimator wrappers inside of the `cuml.dask` are not intended to be pickled directly. The Dask cuML estimators provide a function `get_combined_model()`, which returns the trained single-GPU model for pickling. The combined model can be used for inference on a single-GPU, and the `ParallelPostFit` wrapper from the [Dask-ML](https://ml.dask.org/meta-estimators.html) library can be used to perform distributed inference on a Dask cluster."
   ]
  },
  {
   "cell_type": "code",
   "execution_count": 7,
   "metadata": {
    "execution": {
     "iopub.execute_input": "2021-05-02T09:49:08.191770Z",
     "iopub.status.busy": "2021-05-02T09:49:08.190741Z",
     "iopub.status.idle": "2021-05-02T09:49:12.702051Z",
     "shell.execute_reply": "2021-05-02T09:49:12.703331Z"
    }
   },
   "outputs": [
    {
     "data": {
      "text/html": [
       "<table style=\"border: 2px solid white;\">\n",
       "<tr>\n",
       "<td style=\"vertical-align: top; border: 0px solid white\">\n",
       "<h3 style=\"text-align: left;\">Client</h3>\n",
       "<ul style=\"text-align: left; list-style: none; margin: 0; padding: 0;\">\n",
       "  <li><b>Scheduler: </b>tcp://127.0.0.1:34415</li>\n",
       "  <li><b>Dashboard: </b><a href='http://127.0.0.1:8787/status' target='_blank'>http://127.0.0.1:8787/status</a></li>\n",
       "</ul>\n",
       "</td>\n",
       "<td style=\"vertical-align: top; border: 0px solid white\">\n",
       "<h3 style=\"text-align: left;\">Cluster</h3>\n",
       "<ul style=\"text-align: left; list-style:none; margin: 0; padding: 0;\">\n",
       "  <li><b>Workers: </b>1</li>\n",
       "  <li><b>Cores: </b>1</li>\n",
       "  <li><b>Memory: </b>251.80 GiB</li>\n",
       "</ul>\n",
       "</td>\n",
       "</tr>\n",
       "</table>"
      ],
      "text/plain": [
       "<Client: 'tcp://127.0.0.1:34415' processes=1 threads=1, memory=251.80 GiB>"
      ]
     },
     "execution_count": 1,
     "metadata": {},
     "output_type": "execute_result"
    }
   ],
   "source": [
    "from dask.distributed import Client\n",
    "from dask_cuda import LocalCUDACluster\n",
    "\n",
    "cluster = LocalCUDACluster()\n",
    "client = Client(cluster)\n",
    "client"
   ]
  },
  {
   "cell_type": "code",
   "execution_count": 8,
   "metadata": {
    "execution": {
     "iopub.execute_input": "2021-05-02T09:49:12.718461Z",
     "iopub.status.busy": "2021-05-02T09:49:12.717051Z",
     "iopub.status.idle": "2021-05-02T09:49:13.180618Z",
     "shell.execute_reply": "2021-05-02T09:49:13.182114Z"
    }
   },
   "outputs": [],
   "source": [
    "from cuml.dask.datasets import make_blobs\n",
    "\n",
    "n_workers = len(client.scheduler_info()[\"workers\"].keys())\n",
    "\n",
    "X, y = make_blobs(n_samples=5000, \n",
    "                  n_features=30,\n",
    "                  centers=5, \n",
    "                  cluster_std=0.4, \n",
    "                  random_state=0,\n",
    "                  n_parts=n_workers*5)\n",
    "\n",
    "X = X.persist()\n",
    "y = y.persist()"
   ]
  },
  {
   "cell_type": "code",
   "execution_count": 9,
   "metadata": {
    "execution": {
     "iopub.execute_input": "2021-05-02T09:49:13.191972Z",
     "iopub.status.busy": "2021-05-02T09:49:13.190439Z",
     "iopub.status.idle": "2021-05-02T09:49:13.216976Z",
     "shell.execute_reply": "2021-05-02T09:49:13.215576Z"
    }
   },
   "outputs": [],
   "source": [
    "from cuml.dask.cluster import KMeans\n",
    "\n",
    "dist_model = KMeans(n_clusters=5)"
   ]
  },
  {
   "cell_type": "code",
   "execution_count": 10,
   "metadata": {
    "execution": {
     "iopub.execute_input": "2021-05-02T09:49:13.224988Z",
     "iopub.status.busy": "2021-05-02T09:49:13.223120Z",
     "iopub.status.idle": "2021-05-02T09:49:16.223932Z",
     "shell.execute_reply": "2021-05-02T09:49:16.225107Z"
    }
   },
   "outputs": [
    {
     "data": {
      "text/plain": [
       "<cuml.dask.cluster.kmeans.KMeans at 0x7fa6c5b26250>"
      ]
     },
     "execution_count": 1,
     "metadata": {},
     "output_type": "execute_result"
    }
   ],
   "source": [
    "dist_model.fit(X)"
   ]
  },
  {
   "cell_type": "code",
   "execution_count": 11,
   "metadata": {
    "execution": {
     "iopub.execute_input": "2021-05-02T09:49:16.237359Z",
     "iopub.status.busy": "2021-05-02T09:49:16.236109Z",
     "iopub.status.idle": "2021-05-02T09:49:16.254011Z",
     "shell.execute_reply": "2021-05-02T09:49:16.254723Z"
    }
   },
   "outputs": [],
   "source": [
    "import pickle\n",
    "\n",
    "single_gpu_model = dist_model.get_combined_model()\n",
    "pickle.dump(single_gpu_model, open(\"kmeans_model.pkl\", \"wb\"))"
   ]
  },
  {
   "cell_type": "code",
   "execution_count": 12,
   "metadata": {
    "execution": {
     "iopub.execute_input": "2021-05-02T09:49:16.262311Z",
     "iopub.status.busy": "2021-05-02T09:49:16.261411Z",
     "iopub.status.idle": "2021-05-02T09:49:16.266394Z",
     "shell.execute_reply": "2021-05-02T09:49:16.265608Z"
    }
   },
   "outputs": [],
   "source": [
    "single_gpu_model = pickle.load(open(\"kmeans_model.pkl\", \"rb\"))"
   ]
  },
  {
   "cell_type": "code",
   "execution_count": 13,
   "metadata": {
    "execution": {
     "iopub.execute_input": "2021-05-02T09:49:16.282337Z",
     "iopub.status.busy": "2021-05-02T09:49:16.281429Z",
     "iopub.status.idle": "2021-05-02T09:49:16.286931Z",
     "shell.execute_reply": "2021-05-02T09:49:16.288156Z"
    }
   },
   "outputs": [
    {
     "data": {
      "text/plain": [
       "array([[ 4.8098755 ,  8.422671  , -9.239025  ,  9.37914   ,  8.49988   ,\n",
       "        -1.0592817 ,  3.3437848 , -7.802612  , -0.5946331 ,  0.26447597,\n",
       "         5.5073934 , -4.1069803 ,  4.289078  , -2.8172052 ,  3.615015  ,\n",
       "        -4.1613    , -3.6209633 ,  6.2185316 , -6.946046  , -1.0828304 ,\n",
       "        -5.826772  ,  2.2258773 , -3.860121  , -1.6974077 , -5.3134174 ,\n",
       "         7.5795784 ,  2.9187477 ,  8.540427  ,  1.55232   ,  1.0841808 ],\n",
       "       [-2.894185  ,  4.4741917 , -4.447567  ,  2.3820992 ,  1.7478831 ,\n",
       "        -2.504625  , -5.208331  , -1.6937686 , -8.134757  ,  2.646829  ,\n",
       "        -4.3163624 ,  5.565539  , -5.7322006 , -1.7384953 , -9.344655  ,\n",
       "         0.70846575,  4.4358387 , -2.9008987 , -4.948639  ,  9.695303  ,\n",
       "         8.36652   , -6.247454  , -6.3494725 ,  1.9546973 ,  4.1576157 ,\n",
       "        -9.167902  ,  4.6070657 ,  8.788583  ,  6.8644238 ,  2.2319868 ],\n",
       "       [-4.6657147 , -9.558953  ,  6.657229  ,  4.4401293 ,  2.1730306 ,\n",
       "         2.5904038 ,  0.5800095 ,  6.2550354 , -8.829282  , -0.41399655,\n",
       "         9.831052  ,  7.589733  ,  9.975542  , -5.856176  , -1.2414312 ,\n",
       "        -2.5572667 , -1.0441564 , -5.2461095 , -9.311469  ,  4.6366076 ,\n",
       "        -0.11776038, -3.9295292 ,  6.207369  , -7.399014  ,  5.6740913 ,\n",
       "        -8.540297  , -7.518655  , -5.5301237 ,  4.83413   ,  2.569168  ],\n",
       "       [-6.9581084 , -9.760793  , -6.5506124 , -0.41965044,  6.068768  ,\n",
       "         3.7602894 , -3.975132  ,  6.149337  , -1.8729934 ,  5.025274  ,\n",
       "        -6.8341002 ,  1.3383293 ,  9.001678  , -0.98648345,  9.65402   ,\n",
       "         9.790739  , -8.618677  ,  5.9955792 ,  2.2099142 , -3.6309097 ,\n",
       "         7.071409  , -7.3946223 , -5.2996335 , -6.973705  , -7.908462  ,\n",
       "         6.681064  , -5.575639  ,  7.131309  ,  6.5996165 , -8.30957   ],\n",
       "       [ 6.2617526 ,  9.228773  ,  8.35813   ,  9.017297  ,  7.704466  ,\n",
       "        -1.0047106 , -6.245765  ,  1.395172  , -6.9761806 , -5.9480596 ,\n",
       "         1.05759   , -0.01074278,  2.821025  ,  1.8389363 , -8.247102  ,\n",
       "         3.0498967 , -8.483243  ,  9.721643  , -7.7502728 ,  3.4655964 ,\n",
       "        -3.9312139 , -4.0965176 ,  2.6586986 ,  1.2832465 ,  1.0177816 ,\n",
       "         5.25711   , -1.6444379 ,  6.1383224 , -6.884055  , -9.6630945 ]],\n",
       "      dtype=float32)"
      ]
     },
     "execution_count": 1,
     "metadata": {},
     "output_type": "execute_result"
    }
   ],
   "source": [
    "single_gpu_model.cluster_centers_"
   ]
  }
 ],
 "metadata": {
  "kernelspec": {
   "display_name": "Python 3",
   "language": "python",
   "name": "python3"
  },
  "language_info": {
   "codemirror_mode": {
    "name": "ipython",
    "version": 3
   },
   "file_extension": ".py",
   "mimetype": "text/x-python",
   "name": "python",
   "nbconvert_exporter": "python",
   "pygments_lexer": "ipython3",
   "version": "3.7.10"
  }
 },
 "nbformat": 4,
 "nbformat_minor": 4
}
