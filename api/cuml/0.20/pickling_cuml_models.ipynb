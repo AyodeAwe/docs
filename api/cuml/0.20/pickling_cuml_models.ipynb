{
 "cells": [
  {
   "cell_type": "markdown",
   "metadata": {},
   "source": [
    "# Pickling cuML Models for Persistence\n",
    "\n",
    "This notebook demonstrates simple pickling of both single-GPU and multi-GPU cuML models for persistence"
   ]
  },
  {
   "cell_type": "code",
   "execution_count": 1,
   "metadata": {
    "execution": {
     "iopub.execute_input": "2021-05-12T09:44:11.898424Z",
     "iopub.status.busy": "2021-05-12T09:44:11.896832Z",
     "iopub.status.idle": "2021-05-12T09:44:11.902051Z",
     "shell.execute_reply": "2021-05-12T09:44:11.900676Z"
    }
   },
   "outputs": [],
   "source": [
    "import warnings\n",
    "warnings.filterwarnings(\"ignore\", category=FutureWarning)"
   ]
  },
  {
   "cell_type": "markdown",
   "metadata": {},
   "source": [
    "## Single GPU Model Pickling\n",
    "\n",
    "All single-GPU estimators are pickleable. The following example demonstrates the creation of a synthetic dataset, training, and pickling of the resulting model for storage. Trained single-GPU models can also be used to distribute the inference on a Dask cluster, which the `Distributed Model Pickling` section below demonstrates."
   ]
  },
  {
   "cell_type": "code",
   "execution_count": 2,
   "metadata": {
    "execution": {
     "iopub.execute_input": "2021-05-12T09:44:11.912179Z",
     "iopub.status.busy": "2021-05-12T09:44:11.910730Z",
     "iopub.status.idle": "2021-05-12T09:44:17.448534Z",
     "shell.execute_reply": "2021-05-12T09:44:17.447175Z"
    }
   },
   "outputs": [],
   "source": [
    "from cuml.datasets import make_blobs\n",
    "\n",
    "X, y = make_blobs(n_samples=50,\n",
    "                  n_features=10,\n",
    "                  centers=5,\n",
    "                  cluster_std=0.4,\n",
    "                  random_state=0)"
   ]
  },
  {
   "cell_type": "code",
   "execution_count": 3,
   "metadata": {
    "execution": {
     "iopub.execute_input": "2021-05-12T09:44:17.457383Z",
     "iopub.status.busy": "2021-05-12T09:44:17.455908Z",
     "iopub.status.idle": "2021-05-12T09:44:17.843139Z",
     "shell.execute_reply": "2021-05-12T09:44:17.844379Z"
    }
   },
   "outputs": [
    {
     "data": {
      "text/plain": [
       "KMeans()"
      ]
     },
     "execution_count": 1,
     "metadata": {},
     "output_type": "execute_result"
    }
   ],
   "source": [
    "from cuml.cluster import KMeans\n",
    "\n",
    "model = KMeans(n_clusters=5)\n",
    "\n",
    "model.fit(X)"
   ]
  },
  {
   "cell_type": "code",
   "execution_count": 4,
   "metadata": {
    "execution": {
     "iopub.execute_input": "2021-05-12T09:44:17.857187Z",
     "iopub.status.busy": "2021-05-12T09:44:17.855374Z",
     "iopub.status.idle": "2021-05-12T09:44:17.859958Z",
     "shell.execute_reply": "2021-05-12T09:44:17.858650Z"
    }
   },
   "outputs": [],
   "source": [
    "import pickle\n",
    "\n",
    "pickle.dump(model, open(\"kmeans_model.pkl\", \"wb\"))"
   ]
  },
  {
   "cell_type": "code",
   "execution_count": 5,
   "metadata": {
    "execution": {
     "iopub.execute_input": "2021-05-12T09:44:17.869611Z",
     "iopub.status.busy": "2021-05-12T09:44:17.868174Z",
     "iopub.status.idle": "2021-05-12T09:44:17.872887Z",
     "shell.execute_reply": "2021-05-12T09:44:17.874034Z"
    }
   },
   "outputs": [],
   "source": [
    "model = pickle.load(open(\"kmeans_model.pkl\", \"rb\"))"
   ]
  },
  {
   "cell_type": "code",
   "execution_count": 6,
   "metadata": {
    "execution": {
     "iopub.execute_input": "2021-05-12T09:44:17.885097Z",
     "iopub.status.busy": "2021-05-12T09:44:17.883679Z",
     "iopub.status.idle": "2021-05-12T09:44:17.889021Z",
     "shell.execute_reply": "2021-05-12T09:44:17.890233Z"
    }
   },
   "outputs": [
    {
     "data": {
      "text/plain": [
       "array([[ 5.2615476 , -4.0487256 ,  4.464928  , -2.9367518 ,  3.5061095 ,\n",
       "        -4.016832  , -3.463885  ,  6.078449  , -6.9533257 , -1.004144  ],\n",
       "       [-4.2439985 ,  5.6107073 , -5.669777  , -1.7957246 , -9.255529  ,\n",
       "         0.7177438 ,  4.4435897 , -2.874715  , -5.090096  ,  9.684121  ],\n",
       "       [ 4.6749854 ,  8.213466  , -9.075721  ,  9.568374  ,  8.454808  ,\n",
       "        -1.2327975 ,  3.3903713 , -7.828242  , -0.8454461 ,  0.62885725],\n",
       "       [-3.008261  ,  4.625961  , -4.483249  ,  2.228457  ,  1.643532  ,\n",
       "        -2.4505193 , -5.2582016 , -1.6679403 , -7.9857535 ,  2.8311467 ],\n",
       "       [-5.6072407 ,  2.2695985 , -3.7516532 , -1.8182003 , -5.143028  ,\n",
       "         7.599364  ,  2.8252366 ,  8.773042  ,  1.6198314 ,  1.1772048 ]],\n",
       "      dtype=float32)"
      ]
     },
     "execution_count": 1,
     "metadata": {},
     "output_type": "execute_result"
    }
   ],
   "source": [
    "model.cluster_centers_"
   ]
  },
  {
   "cell_type": "markdown",
   "metadata": {},
   "source": [
    "## Distributed Model Pickling"
   ]
  },
  {
   "cell_type": "markdown",
   "metadata": {},
   "source": [
    "The distributed estimator wrappers inside of the `cuml.dask` are not intended to be pickled directly. The Dask cuML estimators provide a function `get_combined_model()`, which returns the trained single-GPU model for pickling. The combined model can be used for inference on a single-GPU, and the `ParallelPostFit` wrapper from the [Dask-ML](https://ml.dask.org/meta-estimators.html) library can be used to perform distributed inference on a Dask cluster."
   ]
  },
  {
   "cell_type": "code",
   "execution_count": 7,
   "metadata": {
    "execution": {
     "iopub.execute_input": "2021-05-12T09:44:17.899642Z",
     "iopub.status.busy": "2021-05-12T09:44:17.898247Z",
     "iopub.status.idle": "2021-05-12T09:44:22.565999Z",
     "shell.execute_reply": "2021-05-12T09:44:22.567472Z"
    }
   },
   "outputs": [
    {
     "data": {
      "text/html": [
       "<table style=\"border: 2px solid white;\">\n",
       "<tr>\n",
       "<td style=\"vertical-align: top; border: 0px solid white\">\n",
       "<h3 style=\"text-align: left;\">Client</h3>\n",
       "<ul style=\"text-align: left; list-style: none; margin: 0; padding: 0;\">\n",
       "  <li><b>Scheduler: </b>tcp://127.0.0.1:40145</li>\n",
       "  <li><b>Dashboard: </b><a href='http://127.0.0.1:8787/status' target='_blank'>http://127.0.0.1:8787/status</a></li>\n",
       "</ul>\n",
       "</td>\n",
       "<td style=\"vertical-align: top; border: 0px solid white\">\n",
       "<h3 style=\"text-align: left;\">Cluster</h3>\n",
       "<ul style=\"text-align: left; list-style:none; margin: 0; padding: 0;\">\n",
       "  <li><b>Workers: </b>1</li>\n",
       "  <li><b>Cores: </b>1</li>\n",
       "  <li><b>Memory: </b>251.80 GiB</li>\n",
       "</ul>\n",
       "</td>\n",
       "</tr>\n",
       "</table>"
      ],
      "text/plain": [
       "<Client: 'tcp://127.0.0.1:40145' processes=1 threads=1, memory=251.80 GiB>"
      ]
     },
     "execution_count": 1,
     "metadata": {},
     "output_type": "execute_result"
    }
   ],
   "source": [
    "from dask.distributed import Client\n",
    "from dask_cuda import LocalCUDACluster\n",
    "\n",
    "cluster = LocalCUDACluster()\n",
    "client = Client(cluster)\n",
    "client"
   ]
  },
  {
   "cell_type": "code",
   "execution_count": 8,
   "metadata": {
    "execution": {
     "iopub.execute_input": "2021-05-12T09:44:22.584284Z",
     "iopub.status.busy": "2021-05-12T09:44:22.582760Z",
     "iopub.status.idle": "2021-05-12T09:44:22.709653Z",
     "shell.execute_reply": "2021-05-12T09:44:22.708352Z"
    }
   },
   "outputs": [],
   "source": [
    "from cuml.dask.datasets import make_blobs\n",
    "\n",
    "n_workers = len(client.scheduler_info()[\"workers\"].keys())\n",
    "\n",
    "X, y = make_blobs(n_samples=5000, \n",
    "                  n_features=30,\n",
    "                  centers=5, \n",
    "                  cluster_std=0.4, \n",
    "                  random_state=0,\n",
    "                  n_parts=n_workers*5)\n",
    "\n",
    "X = X.persist()\n",
    "y = y.persist()"
   ]
  },
  {
   "cell_type": "code",
   "execution_count": 9,
   "metadata": {
    "execution": {
     "iopub.execute_input": "2021-05-12T09:44:22.720489Z",
     "iopub.status.busy": "2021-05-12T09:44:22.718927Z",
     "iopub.status.idle": "2021-05-12T09:44:22.736314Z",
     "shell.execute_reply": "2021-05-12T09:44:22.735052Z"
    }
   },
   "outputs": [],
   "source": [
    "from cuml.dask.cluster import KMeans\n",
    "\n",
    "dist_model = KMeans(n_clusters=5)"
   ]
  },
  {
   "cell_type": "code",
   "execution_count": 10,
   "metadata": {
    "execution": {
     "iopub.execute_input": "2021-05-12T09:44:22.748465Z",
     "iopub.status.busy": "2021-05-12T09:44:22.747148Z",
     "iopub.status.idle": "2021-05-12T09:44:26.075640Z",
     "shell.execute_reply": "2021-05-12T09:44:26.076875Z"
    }
   },
   "outputs": [
    {
     "data": {
      "text/plain": [
       "<cuml.dask.cluster.kmeans.KMeans at 0x7f3242724410>"
      ]
     },
     "execution_count": 1,
     "metadata": {},
     "output_type": "execute_result"
    }
   ],
   "source": [
    "dist_model.fit(X)"
   ]
  },
  {
   "cell_type": "code",
   "execution_count": 11,
   "metadata": {
    "execution": {
     "iopub.execute_input": "2021-05-12T09:44:26.087254Z",
     "iopub.status.busy": "2021-05-12T09:44:26.085753Z",
     "iopub.status.idle": "2021-05-12T09:44:26.108457Z",
     "shell.execute_reply": "2021-05-12T09:44:26.109937Z"
    }
   },
   "outputs": [],
   "source": [
    "import pickle\n",
    "\n",
    "single_gpu_model = dist_model.get_combined_model()\n",
    "pickle.dump(single_gpu_model, open(\"kmeans_model.pkl\", \"wb\"))"
   ]
  },
  {
   "cell_type": "code",
   "execution_count": 12,
   "metadata": {
    "execution": {
     "iopub.execute_input": "2021-05-12T09:44:26.120282Z",
     "iopub.status.busy": "2021-05-12T09:44:26.118650Z",
     "iopub.status.idle": "2021-05-12T09:44:26.125056Z",
     "shell.execute_reply": "2021-05-12T09:44:26.123699Z"
    }
   },
   "outputs": [],
   "source": [
    "single_gpu_model = pickle.load(open(\"kmeans_model.pkl\", \"rb\"))"
   ]
  },
  {
   "cell_type": "code",
   "execution_count": 13,
   "metadata": {
    "execution": {
     "iopub.execute_input": "2021-05-12T09:44:26.139905Z",
     "iopub.status.busy": "2021-05-12T09:44:26.138399Z",
     "iopub.status.idle": "2021-05-12T09:44:26.145665Z",
     "shell.execute_reply": "2021-05-12T09:44:26.146961Z"
    }
   },
   "outputs": [
    {
     "data": {
      "text/plain": [
       "array([[-2.8796387e+00,  4.4348764e+00, -4.4264812e+00,  2.3959143e+00,\n",
       "         1.7286433e+00, -2.4991984e+00, -5.1794515e+00, -1.6771442e+00,\n",
       "        -8.1329165e+00,  2.6659224e+00, -4.3131094e+00,  5.5827818e+00,\n",
       "        -5.7318311e+00, -1.7427169e+00, -9.3456125e+00,  7.1365553e-01,\n",
       "         4.4255500e+00, -2.9118376e+00, -4.9467444e+00,  9.6786413e+00,\n",
       "         8.4222736e+00, -6.2710242e+00, -6.3596501e+00,  1.9645507e+00,\n",
       "         4.1715989e+00, -9.1683636e+00,  4.6156683e+00,  8.7916479e+00,\n",
       "         6.8754416e+00,  2.2288749e+00],\n",
       "       [-6.9536953e+00, -9.7635880e+00, -6.5648255e+00, -4.3536153e-01,\n",
       "         6.0998106e+00,  3.7550375e+00, -3.9558537e+00,  6.1595526e+00,\n",
       "        -1.8599318e+00,  5.0400310e+00, -6.8397551e+00,  1.3435434e+00,\n",
       "         8.9749022e+00, -9.9621773e-01,  9.6651945e+00,  9.8009663e+00,\n",
       "        -8.6188364e+00,  5.9978371e+00,  2.2295928e+00, -3.6477711e+00,\n",
       "         7.0758514e+00, -7.3772264e+00, -5.3214231e+00, -6.9927959e+00,\n",
       "        -7.9296331e+00,  6.6705365e+00, -5.5850177e+00,  7.1526046e+00,\n",
       "         6.5703220e+00, -8.3389397e+00],\n",
       "       [ 4.8136683e+00,  8.3985281e+00, -9.2161236e+00,  9.4185524e+00,\n",
       "         8.5280886e+00, -1.0969982e+00,  3.3253176e+00, -7.8064370e+00,\n",
       "        -5.9660637e-01,  2.5423867e-01,  5.5004082e+00, -4.1162963e+00,\n",
       "         4.2832375e+00, -2.8173413e+00,  3.6207721e+00, -4.1576214e+00,\n",
       "        -3.6048701e+00,  6.2125401e+00, -6.9080992e+00, -1.0732135e+00,\n",
       "        -5.8362112e+00,  2.2357666e+00, -3.8588786e+00, -1.6835877e+00,\n",
       "        -5.3240371e+00,  7.5769196e+00,  2.9358530e+00,  8.5267363e+00,\n",
       "         1.5667247e+00,  1.0779674e+00],\n",
       "       [-4.6475406e+00, -9.5672178e+00,  6.6923518e+00,  4.4359241e+00,\n",
       "         2.1902738e+00,  2.5834756e+00,  5.9448940e-01,  6.2568665e+00,\n",
       "        -8.7821636e+00, -4.1232014e-01,  9.8151779e+00,  7.5641570e+00,\n",
       "         1.0003010e+01, -5.8680439e+00, -1.2743111e+00, -2.5393457e+00,\n",
       "        -1.0847501e+00, -5.2629199e+00, -9.3071022e+00,  4.6179361e+00,\n",
       "        -9.7068965e-02, -3.9351208e+00,  6.1767273e+00, -7.4346886e+00,\n",
       "         5.6496072e+00, -8.5544844e+00, -7.5265574e+00, -5.5195603e+00,\n",
       "         4.8197627e+00,  2.5235438e+00],\n",
       "       [ 6.2794290e+00,  9.2293940e+00,  8.3403702e+00,  9.0330486e+00,\n",
       "         7.6893482e+00, -9.9538213e-01, -6.2780757e+00,  1.3599334e+00,\n",
       "        -6.9744492e+00, -5.9463458e+00,  1.0695117e+00, -8.0422498e-03,\n",
       "         2.8183141e+00,  1.8317667e+00, -8.2557344e+00,  3.0514314e+00,\n",
       "        -8.4958019e+00,  9.7238474e+00, -7.7455082e+00,  3.4521687e+00,\n",
       "        -3.9248333e+00, -4.1106420e+00,  2.6693089e+00,  1.2985626e+00,\n",
       "         1.0421573e+00,  5.2490621e+00, -1.6496238e+00,  6.1451659e+00,\n",
       "        -6.9103327e+00, -9.6390305e+00]], dtype=float32)"
      ]
     },
     "execution_count": 1,
     "metadata": {},
     "output_type": "execute_result"
    }
   ],
   "source": [
    "single_gpu_model.cluster_centers_"
   ]
  }
 ],
 "metadata": {
  "kernelspec": {
   "display_name": "Python 3",
   "language": "python",
   "name": "python3"
  },
  "language_info": {
   "codemirror_mode": {
    "name": "ipython",
    "version": 3
   },
   "file_extension": ".py",
   "mimetype": "text/x-python",
   "name": "python",
   "nbconvert_exporter": "python",
   "pygments_lexer": "ipython3",
   "version": "3.7.10"
  }
 },
 "nbformat": 4,
 "nbformat_minor": 4
}
