{
 "cells": [
  {
   "cell_type": "markdown",
   "metadata": {},
   "source": [
    "# Pickling cuML Models for Persistence\n",
    "\n",
    "This notebook demonstrates simple pickling of both single-GPU and multi-GPU cuML models for persistence"
   ]
  },
  {
   "cell_type": "code",
   "execution_count": 1,
   "metadata": {
    "execution": {
     "iopub.execute_input": "2021-05-03T09:49:30.496717Z",
     "iopub.status.busy": "2021-05-03T09:49:30.495088Z",
     "iopub.status.idle": "2021-05-03T09:49:30.498622Z",
     "shell.execute_reply": "2021-05-03T09:49:30.499850Z"
    }
   },
   "outputs": [],
   "source": [
    "import warnings\n",
    "warnings.filterwarnings(\"ignore\", category=FutureWarning)"
   ]
  },
  {
   "cell_type": "markdown",
   "metadata": {},
   "source": [
    "## Single GPU Model Pickling\n",
    "\n",
    "All single-GPU estimators are pickleable. The following example demonstrates the creation of a synthetic dataset, training, and pickling of the resulting model for storage. Trained single-GPU models can also be used to distribute the inference on a Dask cluster, which the `Distributed Model Pickling` section below demonstrates."
   ]
  },
  {
   "cell_type": "code",
   "execution_count": 2,
   "metadata": {
    "execution": {
     "iopub.execute_input": "2021-05-03T09:49:30.509189Z",
     "iopub.status.busy": "2021-05-03T09:49:30.507709Z",
     "iopub.status.idle": "2021-05-03T09:49:35.134499Z",
     "shell.execute_reply": "2021-05-03T09:49:35.135738Z"
    }
   },
   "outputs": [],
   "source": [
    "from cuml.datasets import make_blobs\n",
    "\n",
    "X, y = make_blobs(n_samples=50,\n",
    "                  n_features=10,\n",
    "                  centers=5,\n",
    "                  cluster_std=0.4,\n",
    "                  random_state=0)"
   ]
  },
  {
   "cell_type": "code",
   "execution_count": 3,
   "metadata": {
    "execution": {
     "iopub.execute_input": "2021-05-03T09:49:35.143501Z",
     "iopub.status.busy": "2021-05-03T09:49:35.142068Z",
     "iopub.status.idle": "2021-05-03T09:49:35.538129Z",
     "shell.execute_reply": "2021-05-03T09:49:35.539353Z"
    }
   },
   "outputs": [
    {
     "data": {
      "text/plain": [
       "KMeans()"
      ]
     },
     "execution_count": 1,
     "metadata": {},
     "output_type": "execute_result"
    }
   ],
   "source": [
    "from cuml.cluster import KMeans\n",
    "\n",
    "model = KMeans(n_clusters=5)\n",
    "\n",
    "model.fit(X)"
   ]
  },
  {
   "cell_type": "code",
   "execution_count": 4,
   "metadata": {
    "execution": {
     "iopub.execute_input": "2021-05-03T09:49:35.546551Z",
     "iopub.status.busy": "2021-05-03T09:49:35.545101Z",
     "iopub.status.idle": "2021-05-03T09:49:35.548671Z",
     "shell.execute_reply": "2021-05-03T09:49:35.549727Z"
    }
   },
   "outputs": [],
   "source": [
    "import pickle\n",
    "\n",
    "pickle.dump(model, open(\"kmeans_model.pkl\", \"wb\"))"
   ]
  },
  {
   "cell_type": "code",
   "execution_count": 5,
   "metadata": {
    "execution": {
     "iopub.execute_input": "2021-05-03T09:49:35.556796Z",
     "iopub.status.busy": "2021-05-03T09:49:35.555434Z",
     "iopub.status.idle": "2021-05-03T09:49:35.558940Z",
     "shell.execute_reply": "2021-05-03T09:49:35.560033Z"
    }
   },
   "outputs": [],
   "source": [
    "model = pickle.load(open(\"kmeans_model.pkl\", \"rb\"))"
   ]
  },
  {
   "cell_type": "code",
   "execution_count": 6,
   "metadata": {
    "execution": {
     "iopub.execute_input": "2021-05-03T09:49:35.568435Z",
     "iopub.status.busy": "2021-05-03T09:49:35.567075Z",
     "iopub.status.idle": "2021-05-03T09:49:35.571769Z",
     "shell.execute_reply": "2021-05-03T09:49:35.572886Z"
    }
   },
   "outputs": [
    {
     "data": {
      "text/plain": [
       "array([[-5.768463 ,  2.3276033, -3.7457774, -1.8541752, -5.1695833,\n",
       "         7.6670885,  2.7118318,  8.495609 ,  1.7038484,  1.1884269],\n",
       "       [ 4.647688 ,  8.37788  , -9.070582 ,  9.459332 ,  8.450423 ,\n",
       "        -1.0210547,  3.3920872, -7.862985 , -0.7527662,  0.4838412],\n",
       "       [-2.9414437,  4.6401706, -4.5027533,  2.2855108,  1.644645 ,\n",
       "        -2.4937892, -5.2241607, -1.5499196, -8.063638 ,  2.816936 ],\n",
       "       [-4.271077 ,  5.5611653, -5.6640916, -1.8229512, -9.2925   ,\n",
       "         0.730283 ,  4.4586773, -2.8876224, -5.1257744,  9.694357 ],\n",
       "       [ 5.5837426, -4.1515303,  4.369667 , -3.0020502,  3.6388965,\n",
       "        -4.341912 , -3.318711 ,  6.503671 , -6.865036 , -1.0266498]],\n",
       "      dtype=float32)"
      ]
     },
     "execution_count": 1,
     "metadata": {},
     "output_type": "execute_result"
    }
   ],
   "source": [
    "model.cluster_centers_"
   ]
  },
  {
   "cell_type": "markdown",
   "metadata": {},
   "source": [
    "## Distributed Model Pickling"
   ]
  },
  {
   "cell_type": "markdown",
   "metadata": {},
   "source": [
    "The distributed estimator wrappers inside of the `cuml.dask` are not intended to be pickled directly. The Dask cuML estimators provide a function `get_combined_model()`, which returns the trained single-GPU model for pickling. The combined model can be used for inference on a single-GPU, and the `ParallelPostFit` wrapper from the [Dask-ML](https://ml.dask.org/meta-estimators.html) library can be used to perform distributed inference on a Dask cluster."
   ]
  },
  {
   "cell_type": "code",
   "execution_count": 7,
   "metadata": {
    "execution": {
     "iopub.execute_input": "2021-05-03T09:49:35.580317Z",
     "iopub.status.busy": "2021-05-03T09:49:35.579056Z",
     "iopub.status.idle": "2021-05-03T09:49:39.687206Z",
     "shell.execute_reply": "2021-05-03T09:49:39.688437Z"
    }
   },
   "outputs": [
    {
     "data": {
      "text/html": [
       "<table style=\"border: 2px solid white;\">\n",
       "<tr>\n",
       "<td style=\"vertical-align: top; border: 0px solid white\">\n",
       "<h3 style=\"text-align: left;\">Client</h3>\n",
       "<ul style=\"text-align: left; list-style: none; margin: 0; padding: 0;\">\n",
       "  <li><b>Scheduler: </b>tcp://127.0.0.1:34868</li>\n",
       "  <li><b>Dashboard: </b><a href='http://127.0.0.1:8787/status' target='_blank'>http://127.0.0.1:8787/status</a></li>\n",
       "</ul>\n",
       "</td>\n",
       "<td style=\"vertical-align: top; border: 0px solid white\">\n",
       "<h3 style=\"text-align: left;\">Cluster</h3>\n",
       "<ul style=\"text-align: left; list-style:none; margin: 0; padding: 0;\">\n",
       "  <li><b>Workers: </b>1</li>\n",
       "  <li><b>Cores: </b>1</li>\n",
       "  <li><b>Memory: </b>251.80 GiB</li>\n",
       "</ul>\n",
       "</td>\n",
       "</tr>\n",
       "</table>"
      ],
      "text/plain": [
       "<Client: 'tcp://127.0.0.1:34868' processes=1 threads=1, memory=251.80 GiB>"
      ]
     },
     "execution_count": 1,
     "metadata": {},
     "output_type": "execute_result"
    }
   ],
   "source": [
    "from dask.distributed import Client\n",
    "from dask_cuda import LocalCUDACluster\n",
    "\n",
    "cluster = LocalCUDACluster()\n",
    "client = Client(cluster)\n",
    "client"
   ]
  },
  {
   "cell_type": "code",
   "execution_count": 8,
   "metadata": {
    "execution": {
     "iopub.execute_input": "2021-05-03T09:49:39.700902Z",
     "iopub.status.busy": "2021-05-03T09:49:39.699461Z",
     "iopub.status.idle": "2021-05-03T09:49:40.175505Z",
     "shell.execute_reply": "2021-05-03T09:49:40.174279Z"
    }
   },
   "outputs": [],
   "source": [
    "from cuml.dask.datasets import make_blobs\n",
    "\n",
    "n_workers = len(client.scheduler_info()[\"workers\"].keys())\n",
    "\n",
    "X, y = make_blobs(n_samples=5000, \n",
    "                  n_features=30,\n",
    "                  centers=5, \n",
    "                  cluster_std=0.4, \n",
    "                  random_state=0,\n",
    "                  n_parts=n_workers*5)\n",
    "\n",
    "X = X.persist()\n",
    "y = y.persist()"
   ]
  },
  {
   "cell_type": "code",
   "execution_count": 9,
   "metadata": {
    "execution": {
     "iopub.execute_input": "2021-05-03T09:49:40.183888Z",
     "iopub.status.busy": "2021-05-03T09:49:40.182424Z",
     "iopub.status.idle": "2021-05-03T09:49:40.212202Z",
     "shell.execute_reply": "2021-05-03T09:49:40.210952Z"
    }
   },
   "outputs": [],
   "source": [
    "from cuml.dask.cluster import KMeans\n",
    "\n",
    "dist_model = KMeans(n_clusters=5)"
   ]
  },
  {
   "cell_type": "code",
   "execution_count": 10,
   "metadata": {
    "execution": {
     "iopub.execute_input": "2021-05-03T09:49:40.222551Z",
     "iopub.status.busy": "2021-05-03T09:49:40.221126Z",
     "iopub.status.idle": "2021-05-03T09:49:43.222643Z",
     "shell.execute_reply": "2021-05-03T09:49:43.224077Z"
    }
   },
   "outputs": [
    {
     "data": {
      "text/plain": [
       "<cuml.dask.cluster.kmeans.KMeans at 0x7fdc2c1bc4d0>"
      ]
     },
     "execution_count": 1,
     "metadata": {},
     "output_type": "execute_result"
    }
   ],
   "source": [
    "dist_model.fit(X)"
   ]
  },
  {
   "cell_type": "code",
   "execution_count": 11,
   "metadata": {
    "execution": {
     "iopub.execute_input": "2021-05-03T09:49:43.233144Z",
     "iopub.status.busy": "2021-05-03T09:49:43.231720Z",
     "iopub.status.idle": "2021-05-03T09:49:43.249574Z",
     "shell.execute_reply": "2021-05-03T09:49:43.250634Z"
    }
   },
   "outputs": [],
   "source": [
    "import pickle\n",
    "\n",
    "single_gpu_model = dist_model.get_combined_model()\n",
    "pickle.dump(single_gpu_model, open(\"kmeans_model.pkl\", \"wb\"))"
   ]
  },
  {
   "cell_type": "code",
   "execution_count": 12,
   "metadata": {
    "execution": {
     "iopub.execute_input": "2021-05-03T09:49:43.257777Z",
     "iopub.status.busy": "2021-05-03T09:49:43.256531Z",
     "iopub.status.idle": "2021-05-03T09:49:43.260767Z",
     "shell.execute_reply": "2021-05-03T09:49:43.259688Z"
    }
   },
   "outputs": [],
   "source": [
    "single_gpu_model = pickle.load(open(\"kmeans_model.pkl\", \"rb\"))"
   ]
  },
  {
   "cell_type": "code",
   "execution_count": 13,
   "metadata": {
    "execution": {
     "iopub.execute_input": "2021-05-03T09:49:43.273425Z",
     "iopub.status.busy": "2021-05-03T09:49:43.271476Z",
     "iopub.status.idle": "2021-05-03T09:49:43.277654Z",
     "shell.execute_reply": "2021-05-03T09:49:43.276627Z"
    }
   },
   "outputs": [
    {
     "data": {
      "text/plain": [
       "array([[ 4.809874  ,  8.422671  , -9.239021  ,  9.379146  ,  8.499885  ,\n",
       "        -1.0592821 ,  3.3437858 , -7.802612  , -0.59463334,  0.264476  ,\n",
       "         5.5073943 , -4.1069794 ,  4.2890778 , -2.8172047 ,  3.615016  ,\n",
       "        -4.1612988 , -3.6209633 ,  6.218532  , -6.9460464 , -1.0828309 ,\n",
       "        -5.8267694 ,  2.2258768 , -3.8601222 , -1.6974077 , -5.3134174 ,\n",
       "         7.579578  ,  2.9187474 ,  8.540425  ,  1.5523201 ,  1.0841806 ],\n",
       "       [-2.894185  ,  4.47419   , -4.447567  ,  2.3820999 ,  1.747883  ,\n",
       "        -2.5046256 , -5.2083306 , -1.6937685 , -8.134755  ,  2.6468296 ,\n",
       "        -4.316363  ,  5.5655394 , -5.732198  , -1.7384952 , -9.344654  ,\n",
       "         0.7084657 ,  4.43584   , -2.9008996 , -4.9486394 ,  9.695304  ,\n",
       "         8.366521  , -6.247453  , -6.3494744 ,  1.9546975 ,  4.1576157 ,\n",
       "        -9.1679    ,  4.6070685 ,  8.788588  ,  6.8644238 ,  2.2319875 ],\n",
       "       [-4.6657143 , -9.558955  ,  6.657227  ,  4.44013   ,  2.1730301 ,\n",
       "         2.5904036 ,  0.5800098 ,  6.255035  , -8.829283  , -0.4139965 ,\n",
       "         9.831049  ,  7.5897336 ,  9.975545  , -5.856174  , -1.2414306 ,\n",
       "        -2.5572662 , -1.0441567 , -5.2461095 , -9.311469  ,  4.636607  ,\n",
       "        -0.11776034, -3.9295287 ,  6.2073665 , -7.3990145 ,  5.6740913 ,\n",
       "        -8.540296  , -7.518652  , -5.530121  ,  4.834131  ,  2.5691683 ],\n",
       "       [-6.9581094 , -9.760797  , -6.550611  , -0.4196504 ,  6.0687685 ,\n",
       "         3.760289  , -3.9751325 ,  6.149338  , -1.8729936 ,  5.0252743 ,\n",
       "        -6.8340993 ,  1.3383291 ,  9.001678  , -0.9864833 ,  9.654022  ,\n",
       "         9.790741  , -8.618679  ,  5.9955783 ,  2.209914  , -3.6309102 ,\n",
       "         7.0714097 , -7.394623  , -5.2996335 , -6.973705  , -7.908463  ,\n",
       "         6.6810656 , -5.5756407 ,  7.13131   ,  6.599618  , -8.309569  ],\n",
       "       [ 6.261753  ,  9.228773  ,  8.35813   ,  9.017295  ,  7.704466  ,\n",
       "        -1.0047106 , -6.2457666 ,  1.3951724 , -6.9761806 , -5.9480586 ,\n",
       "         1.0575898 , -0.01074279,  2.821025  ,  1.838936  , -8.247103  ,\n",
       "         3.0498958 , -8.483243  ,  9.721642  , -7.750272  ,  3.4655952 ,\n",
       "        -3.931214  , -4.096515  ,  2.6586983 ,  1.2832458 ,  1.0177819 ,\n",
       "         5.257112  , -1.6444379 ,  6.1383233 , -6.8840523 , -9.663094  ]],\n",
       "      dtype=float32)"
      ]
     },
     "execution_count": 1,
     "metadata": {},
     "output_type": "execute_result"
    }
   ],
   "source": [
    "single_gpu_model.cluster_centers_"
   ]
  }
 ],
 "metadata": {
  "kernelspec": {
   "display_name": "Python 3",
   "language": "python",
   "name": "python3"
  },
  "language_info": {
   "codemirror_mode": {
    "name": "ipython",
    "version": 3
   },
   "file_extension": ".py",
   "mimetype": "text/x-python",
   "name": "python",
   "nbconvert_exporter": "python",
   "pygments_lexer": "ipython3",
   "version": "3.7.10"
  }
 },
 "nbformat": 4,
 "nbformat_minor": 4
}
