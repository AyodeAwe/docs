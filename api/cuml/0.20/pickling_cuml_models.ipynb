{
 "cells": [
  {
   "cell_type": "markdown",
   "metadata": {},
   "source": [
    "# Pickling cuML Models for Persistence\n",
    "\n",
    "This notebook demonstrates simple pickling of both single-GPU and multi-GPU cuML models for persistence"
   ]
  },
  {
   "cell_type": "code",
   "execution_count": 1,
   "metadata": {
    "execution": {
     "iopub.execute_input": "2021-04-29T09:54:10.856418Z",
     "iopub.status.busy": "2021-04-29T09:54:10.855504Z",
     "iopub.status.idle": "2021-04-29T09:54:10.858697Z",
     "shell.execute_reply": "2021-04-29T09:54:10.859403Z"
    }
   },
   "outputs": [],
   "source": [
    "import warnings\n",
    "warnings.filterwarnings(\"ignore\", category=FutureWarning)"
   ]
  },
  {
   "cell_type": "markdown",
   "metadata": {},
   "source": [
    "## Single GPU Model Pickling\n",
    "\n",
    "All single-GPU estimators are pickleable. The following example demonstrates the creation of a synthetic dataset, training, and pickling of the resulting model for storage. Trained single-GPU models can also be used to distribute the inference on a Dask cluster, which the `Distributed Model Pickling` section below demonstrates."
   ]
  },
  {
   "cell_type": "code",
   "execution_count": 2,
   "metadata": {
    "execution": {
     "iopub.execute_input": "2021-04-29T09:54:10.867447Z",
     "iopub.status.busy": "2021-04-29T09:54:10.866565Z",
     "iopub.status.idle": "2021-04-29T09:54:16.075601Z",
     "shell.execute_reply": "2021-04-29T09:54:16.076597Z"
    }
   },
   "outputs": [],
   "source": [
    "from cuml.datasets import make_blobs\n",
    "\n",
    "X, y = make_blobs(n_samples=50,\n",
    "                  n_features=10,\n",
    "                  centers=5,\n",
    "                  cluster_std=0.4,\n",
    "                  random_state=0)"
   ]
  },
  {
   "cell_type": "code",
   "execution_count": 3,
   "metadata": {
    "execution": {
     "iopub.execute_input": "2021-04-29T09:54:16.084203Z",
     "iopub.status.busy": "2021-04-29T09:54:16.082721Z",
     "iopub.status.idle": "2021-04-29T09:54:16.452879Z",
     "shell.execute_reply": "2021-04-29T09:54:16.454110Z"
    }
   },
   "outputs": [
    {
     "data": {
      "text/plain": [
       "KMeans()"
      ]
     },
     "execution_count": 1,
     "metadata": {},
     "output_type": "execute_result"
    }
   ],
   "source": [
    "from cuml.cluster import KMeans\n",
    "\n",
    "model = KMeans(n_clusters=5)\n",
    "\n",
    "model.fit(X)"
   ]
  },
  {
   "cell_type": "code",
   "execution_count": 4,
   "metadata": {
    "execution": {
     "iopub.execute_input": "2021-04-29T09:54:16.460347Z",
     "iopub.status.busy": "2021-04-29T09:54:16.458878Z",
     "iopub.status.idle": "2021-04-29T09:54:16.462480Z",
     "shell.execute_reply": "2021-04-29T09:54:16.463640Z"
    }
   },
   "outputs": [],
   "source": [
    "import pickle\n",
    "\n",
    "pickle.dump(model, open(\"kmeans_model.pkl\", \"wb\"))"
   ]
  },
  {
   "cell_type": "code",
   "execution_count": 5,
   "metadata": {
    "execution": {
     "iopub.execute_input": "2021-04-29T09:54:16.469647Z",
     "iopub.status.busy": "2021-04-29T09:54:16.468400Z",
     "iopub.status.idle": "2021-04-29T09:54:16.471675Z",
     "shell.execute_reply": "2021-04-29T09:54:16.472691Z"
    }
   },
   "outputs": [],
   "source": [
    "model = pickle.load(open(\"kmeans_model.pkl\", \"rb\"))"
   ]
  },
  {
   "cell_type": "code",
   "execution_count": 6,
   "metadata": {
    "execution": {
     "iopub.execute_input": "2021-04-29T09:54:16.480063Z",
     "iopub.status.busy": "2021-04-29T09:54:16.478788Z",
     "iopub.status.idle": "2021-04-29T09:54:16.483057Z",
     "shell.execute_reply": "2021-04-29T09:54:16.484047Z"
    }
   },
   "outputs": [
    {
     "data": {
      "text/plain": [
       "array([[-5.7684636 ,  2.3276033 , -3.7457771 , -1.8541752 , -5.1695833 ,\n",
       "         7.6670885 ,  2.7118318 ,  8.495609  ,  1.7038486 ,  1.1884269 ],\n",
       "       [ 4.647688  ,  8.37788   , -9.070581  ,  9.459332  ,  8.450423  ,\n",
       "        -1.0210546 ,  3.3920872 , -7.862985  , -0.7527662 ,  0.48384127],\n",
       "       [-2.9414442 ,  4.6401706 , -4.5027533 ,  2.2855108 ,  1.644645  ,\n",
       "        -2.4937892 , -5.2241607 , -1.5499198 , -8.063638  ,  2.816936  ],\n",
       "       [-4.2710767 ,  5.5611653 , -5.6640916 , -1.8229512 , -9.2925    ,\n",
       "         0.730283  ,  4.4586773 , -2.8876224 , -5.1257744 ,  9.694357  ],\n",
       "       [ 5.5837426 , -4.1515303 ,  4.369667  , -3.00205   ,  3.638897  ,\n",
       "        -4.3419113 , -3.318711  ,  6.503671  , -6.865036  , -1.0266498 ]],\n",
       "      dtype=float32)"
      ]
     },
     "execution_count": 1,
     "metadata": {},
     "output_type": "execute_result"
    }
   ],
   "source": [
    "model.cluster_centers_"
   ]
  },
  {
   "cell_type": "markdown",
   "metadata": {},
   "source": [
    "## Distributed Model Pickling"
   ]
  },
  {
   "cell_type": "markdown",
   "metadata": {},
   "source": [
    "The distributed estimator wrappers inside of the `cuml.dask` are not intended to be pickled directly. The Dask cuML estimators provide a function `get_combined_model()`, which returns the trained single-GPU model for pickling. The combined model can be used for inference on a single-GPU, and the `ParallelPostFit` wrapper from the [Dask-ML](https://ml.dask.org/meta-estimators.html) library can be used to perform distributed inference on a Dask cluster."
   ]
  },
  {
   "cell_type": "code",
   "execution_count": 7,
   "metadata": {
    "execution": {
     "iopub.execute_input": "2021-04-29T09:54:16.490356Z",
     "iopub.status.busy": "2021-04-29T09:54:16.489177Z",
     "iopub.status.idle": "2021-04-29T09:54:20.838222Z",
     "shell.execute_reply": "2021-04-29T09:54:20.838800Z"
    }
   },
   "outputs": [
    {
     "data": {
      "text/html": [
       "<table style=\"border: 2px solid white;\">\n",
       "<tr>\n",
       "<td style=\"vertical-align: top; border: 0px solid white\">\n",
       "<h3 style=\"text-align: left;\">Client</h3>\n",
       "<ul style=\"text-align: left; list-style: none; margin: 0; padding: 0;\">\n",
       "  <li><b>Scheduler: </b>tcp://127.0.0.1:38231</li>\n",
       "  <li><b>Dashboard: </b><a href='http://127.0.0.1:8787/status' target='_blank'>http://127.0.0.1:8787/status</a></li>\n",
       "</ul>\n",
       "</td>\n",
       "<td style=\"vertical-align: top; border: 0px solid white\">\n",
       "<h3 style=\"text-align: left;\">Cluster</h3>\n",
       "<ul style=\"text-align: left; list-style:none; margin: 0; padding: 0;\">\n",
       "  <li><b>Workers: </b>1</li>\n",
       "  <li><b>Cores: </b>1</li>\n",
       "  <li><b>Memory: </b>251.80 GiB</li>\n",
       "</ul>\n",
       "</td>\n",
       "</tr>\n",
       "</table>"
      ],
      "text/plain": [
       "<Client: 'tcp://127.0.0.1:38231' processes=1 threads=1, memory=251.80 GiB>"
      ]
     },
     "execution_count": 1,
     "metadata": {},
     "output_type": "execute_result"
    }
   ],
   "source": [
    "from dask.distributed import Client\n",
    "from dask_cuda import LocalCUDACluster\n",
    "\n",
    "cluster = LocalCUDACluster()\n",
    "client = Client(cluster)\n",
    "client"
   ]
  },
  {
   "cell_type": "code",
   "execution_count": 8,
   "metadata": {
    "execution": {
     "iopub.execute_input": "2021-04-29T09:54:20.848459Z",
     "iopub.status.busy": "2021-04-29T09:54:20.847706Z",
     "iopub.status.idle": "2021-04-29T09:54:21.259743Z",
     "shell.execute_reply": "2021-04-29T09:54:21.258941Z"
    }
   },
   "outputs": [],
   "source": [
    "from cuml.dask.datasets import make_blobs\n",
    "\n",
    "n_workers = len(client.scheduler_info()[\"workers\"].keys())\n",
    "\n",
    "X, y = make_blobs(n_samples=5000, \n",
    "                  n_features=30,\n",
    "                  centers=5, \n",
    "                  cluster_std=0.4, \n",
    "                  random_state=0,\n",
    "                  n_parts=n_workers*5)\n",
    "\n",
    "X = X.persist()\n",
    "y = y.persist()"
   ]
  },
  {
   "cell_type": "code",
   "execution_count": 9,
   "metadata": {
    "execution": {
     "iopub.execute_input": "2021-04-29T09:54:21.266647Z",
     "iopub.status.busy": "2021-04-29T09:54:21.265195Z",
     "iopub.status.idle": "2021-04-29T09:54:21.288456Z",
     "shell.execute_reply": "2021-04-29T09:54:21.289471Z"
    }
   },
   "outputs": [],
   "source": [
    "from cuml.dask.cluster import KMeans\n",
    "\n",
    "dist_model = KMeans(n_clusters=5)"
   ]
  },
  {
   "cell_type": "code",
   "execution_count": 10,
   "metadata": {
    "execution": {
     "iopub.execute_input": "2021-04-29T09:54:21.298861Z",
     "iopub.status.busy": "2021-04-29T09:54:21.297698Z",
     "iopub.status.idle": "2021-04-29T09:54:24.481639Z",
     "shell.execute_reply": "2021-04-29T09:54:24.480398Z"
    }
   },
   "outputs": [
    {
     "data": {
      "text/plain": [
       "<cuml.dask.cluster.kmeans.KMeans at 0x7f83da325c10>"
      ]
     },
     "execution_count": 1,
     "metadata": {},
     "output_type": "execute_result"
    }
   ],
   "source": [
    "dist_model.fit(X)"
   ]
  },
  {
   "cell_type": "code",
   "execution_count": 11,
   "metadata": {
    "execution": {
     "iopub.execute_input": "2021-04-29T09:54:24.492002Z",
     "iopub.status.busy": "2021-04-29T09:54:24.491205Z",
     "iopub.status.idle": "2021-04-29T09:54:24.505826Z",
     "shell.execute_reply": "2021-04-29T09:54:24.506430Z"
    }
   },
   "outputs": [],
   "source": [
    "import pickle\n",
    "\n",
    "single_gpu_model = dist_model.get_combined_model()\n",
    "pickle.dump(single_gpu_model, open(\"kmeans_model.pkl\", \"wb\"))"
   ]
  },
  {
   "cell_type": "code",
   "execution_count": 12,
   "metadata": {
    "execution": {
     "iopub.execute_input": "2021-04-29T09:54:24.513815Z",
     "iopub.status.busy": "2021-04-29T09:54:24.513045Z",
     "iopub.status.idle": "2021-04-29T09:54:24.517140Z",
     "shell.execute_reply": "2021-04-29T09:54:24.517727Z"
    }
   },
   "outputs": [],
   "source": [
    "single_gpu_model = pickle.load(open(\"kmeans_model.pkl\", \"rb\"))"
   ]
  },
  {
   "cell_type": "code",
   "execution_count": 13,
   "metadata": {
    "execution": {
     "iopub.execute_input": "2021-04-29T09:54:24.532301Z",
     "iopub.status.busy": "2021-04-29T09:54:24.531503Z",
     "iopub.status.idle": "2021-04-29T09:54:24.536019Z",
     "shell.execute_reply": "2021-04-29T09:54:24.536614Z"
    }
   },
   "outputs": [
    {
     "data": {
      "text/plain": [
       "array([[ 4.8098736 ,  8.422671  , -9.239025  ,  9.379145  ,  8.499881  ,\n",
       "        -1.0592818 ,  3.3437855 , -7.802612  , -0.5946332 ,  0.264476  ,\n",
       "         5.507396  , -4.10698   ,  4.2890773 , -2.817205  ,  3.6150148 ,\n",
       "        -4.1613    , -3.620963  ,  6.218531  , -6.946047  , -1.0828309 ,\n",
       "        -5.826771  ,  2.225877  , -3.8601217 , -1.6974075 , -5.3134174 ,\n",
       "         7.579579  ,  2.918748  ,  8.540424  ,  1.5523204 ,  1.0841804 ],\n",
       "       [-2.8941853 ,  4.474187  , -4.4475675 ,  2.382099  ,  1.7478834 ,\n",
       "        -2.5046253 , -5.2083297 , -1.6937685 , -8.134755  ,  2.64683   ,\n",
       "        -4.316362  ,  5.5655394 , -5.7321997 , -1.7384951 , -9.344655  ,\n",
       "         0.7084659 ,  4.4358406 , -2.9008994 , -4.9486394 ,  9.695303  ,\n",
       "         8.36652   , -6.2474537 , -6.349474  ,  1.9546975 ,  4.1576157 ,\n",
       "        -9.167904  ,  4.607067  ,  8.788589  ,  6.8644238 ,  2.2319884 ],\n",
       "       [-4.6657147 , -9.558956  ,  6.657228  ,  4.4401307 ,  2.1730306 ,\n",
       "         2.5904043 ,  0.58000976,  6.255035  , -8.829284  , -0.41399658,\n",
       "         9.831049  ,  7.589734  ,  9.975547  , -5.8561754 , -1.2414303 ,\n",
       "        -2.5572672 , -1.0441562 , -5.2461114 , -9.311467  ,  4.636607  ,\n",
       "        -0.11776031, -3.9295282 ,  6.207367  , -7.399014  ,  5.6740932 ,\n",
       "        -8.540297  , -7.518653  , -5.5301223 ,  4.83413   ,  2.5691676 ],\n",
       "       [-6.95811   , -9.760794  , -6.55061   , -0.4196505 ,  6.068767  ,\n",
       "         3.7602882 , -3.9751325 ,  6.149338  , -1.8729936 ,  5.025274  ,\n",
       "        -6.8341002 ,  1.3383288 ,  9.001676  , -0.9864835 ,  9.654022  ,\n",
       "         9.790737  , -8.618677  ,  5.9955792 ,  2.2099133 , -3.6309102 ,\n",
       "         7.071408  , -7.3946223 , -5.2996325 , -6.9737053 , -7.908464  ,\n",
       "         6.681064  , -5.575639  ,  7.131311  ,  6.5996184 , -8.309572  ],\n",
       "       [ 6.2617545 ,  9.22877   ,  8.358131  ,  9.017302  ,  7.7044663 ,\n",
       "        -1.0047106 , -6.245766  ,  1.395172  , -6.9761815 , -5.948059  ,\n",
       "         1.0575894 , -0.01074278,  2.8210251 ,  1.8389363 , -8.247101  ,\n",
       "         3.0498965 , -8.483243  ,  9.721639  , -7.750272  ,  3.465596  ,\n",
       "        -3.9312143 , -4.0965166 ,  2.658698  ,  1.2832459 ,  1.0177816 ,\n",
       "         5.257111  , -1.6444381 ,  6.138322  , -6.8840537 , -9.663094  ]],\n",
       "      dtype=float32)"
      ]
     },
     "execution_count": 1,
     "metadata": {},
     "output_type": "execute_result"
    }
   ],
   "source": [
    "single_gpu_model.cluster_centers_"
   ]
  }
 ],
 "metadata": {
  "kernelspec": {
   "display_name": "Python 3",
   "language": "python",
   "name": "python3"
  },
  "language_info": {
   "codemirror_mode": {
    "name": "ipython",
    "version": 3
   },
   "file_extension": ".py",
   "mimetype": "text/x-python",
   "name": "python",
   "nbconvert_exporter": "python",
   "pygments_lexer": "ipython3",
   "version": "3.7.10"
  }
 },
 "nbformat": 4,
 "nbformat_minor": 4
}
