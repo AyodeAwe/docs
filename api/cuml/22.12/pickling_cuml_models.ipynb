{
 "cells": [
  {
   "cell_type": "markdown",
   "metadata": {},
   "source": [
    "# Pickling cuML Models for Persistence\n",
    "\n",
    "This notebook demonstrates simple pickling of both single-GPU and multi-GPU cuML models for persistence"
   ]
  },
  {
   "cell_type": "code",
   "execution_count": 1,
   "metadata": {
    "execution": {
     "iopub.execute_input": "2022-10-17T18:03:34.765158Z",
     "iopub.status.busy": "2022-10-17T18:03:34.764390Z",
     "iopub.status.idle": "2022-10-17T18:03:34.780550Z",
     "shell.execute_reply": "2022-10-17T18:03:34.779578Z"
    }
   },
   "outputs": [],
   "source": [
    "import warnings\n",
    "warnings.filterwarnings(\"ignore\", category=FutureWarning)"
   ]
  },
  {
   "cell_type": "markdown",
   "metadata": {},
   "source": [
    "## Single GPU Model Pickling\n",
    "\n",
    "All single-GPU estimators are pickleable. The following example demonstrates the creation of a synthetic dataset, training, and pickling of the resulting model for storage. Trained single-GPU models can also be used to distribute the inference on a Dask cluster, which the `Distributed Model Pickling` section below demonstrates."
   ]
  },
  {
   "cell_type": "code",
   "execution_count": 2,
   "metadata": {
    "execution": {
     "iopub.execute_input": "2022-10-17T18:03:34.786091Z",
     "iopub.status.busy": "2022-10-17T18:03:34.785634Z",
     "iopub.status.idle": "2022-10-17T18:03:40.122361Z",
     "shell.execute_reply": "2022-10-17T18:03:40.121604Z"
    }
   },
   "outputs": [],
   "source": [
    "from cuml.datasets import make_blobs\n",
    "\n",
    "X, y = make_blobs(n_samples=50,\n",
    "                  n_features=10,\n",
    "                  centers=5,\n",
    "                  cluster_std=0.4,\n",
    "                  random_state=0)"
   ]
  },
  {
   "cell_type": "code",
   "execution_count": 3,
   "metadata": {
    "execution": {
     "iopub.execute_input": "2022-10-17T18:03:40.128012Z",
     "iopub.status.busy": "2022-10-17T18:03:40.127678Z",
     "iopub.status.idle": "2022-10-17T18:03:40.315327Z",
     "shell.execute_reply": "2022-10-17T18:03:40.314533Z"
    }
   },
   "outputs": [
    {
     "data": {
      "text/plain": [
       "KMeans()"
      ]
     },
     "execution_count": 3,
     "metadata": {},
     "output_type": "execute_result"
    }
   ],
   "source": [
    "from cuml.cluster import KMeans\n",
    "\n",
    "model = KMeans(n_clusters=5)\n",
    "\n",
    "model.fit(X)"
   ]
  },
  {
   "cell_type": "code",
   "execution_count": 4,
   "metadata": {
    "execution": {
     "iopub.execute_input": "2022-10-17T18:03:40.322983Z",
     "iopub.status.busy": "2022-10-17T18:03:40.322656Z",
     "iopub.status.idle": "2022-10-17T18:03:40.327496Z",
     "shell.execute_reply": "2022-10-17T18:03:40.326751Z"
    }
   },
   "outputs": [],
   "source": [
    "import pickle\n",
    "\n",
    "pickle.dump(model, open(\"kmeans_model.pkl\", \"wb\"))"
   ]
  },
  {
   "cell_type": "code",
   "execution_count": 5,
   "metadata": {
    "execution": {
     "iopub.execute_input": "2022-10-17T18:03:40.332125Z",
     "iopub.status.busy": "2022-10-17T18:03:40.331761Z",
     "iopub.status.idle": "2022-10-17T18:03:40.337236Z",
     "shell.execute_reply": "2022-10-17T18:03:40.336145Z"
    }
   },
   "outputs": [],
   "source": [
    "model = pickle.load(open(\"kmeans_model.pkl\", \"rb\"))"
   ]
  },
  {
   "cell_type": "code",
   "execution_count": 6,
   "metadata": {
    "execution": {
     "iopub.execute_input": "2022-10-17T18:03:40.342599Z",
     "iopub.status.busy": "2022-10-17T18:03:40.342172Z",
     "iopub.status.idle": "2022-10-17T18:03:40.351091Z",
     "shell.execute_reply": "2022-10-17T18:03:40.349987Z"
    }
   },
   "outputs": [
    {
     "data": {
      "text/plain": [
       "array([[ 4.6749854 ,  8.213466  , -9.075721  ,  9.568374  ,  8.454808  ,\n",
       "        -1.2327975 ,  3.390371  , -7.8282413 , -0.8454461 ,  0.62885725],\n",
       "       [-4.243999  ,  5.610707  , -5.669777  , -1.7957243 , -9.255528  ,\n",
       "         0.7177438 ,  4.4435897 , -2.874715  , -5.0900965 ,  9.684121  ],\n",
       "       [ 5.2615476 , -4.0487256 ,  4.464928  , -2.9367518 ,  3.5061095 ,\n",
       "        -4.016832  , -3.4638855 ,  6.078449  , -6.953326  , -1.004144  ],\n",
       "       [-3.008261  ,  4.6259604 , -4.4832487 ,  2.228457  ,  1.6435319 ,\n",
       "        -2.4505196 , -5.258201  , -1.6679403 , -7.9857535 ,  2.8311467 ],\n",
       "       [-5.6072407 ,  2.2695985 , -3.7516537 , -1.8182003 , -5.1430283 ,\n",
       "         7.599363  ,  2.8252368 ,  8.773042  ,  1.6198314 ,  1.1772048 ]],\n",
       "      dtype=float32)"
      ]
     },
     "execution_count": 6,
     "metadata": {},
     "output_type": "execute_result"
    }
   ],
   "source": [
    "model.cluster_centers_"
   ]
  },
  {
   "cell_type": "markdown",
   "metadata": {},
   "source": [
    "## Distributed Model Pickling"
   ]
  },
  {
   "cell_type": "markdown",
   "metadata": {},
   "source": [
    "The distributed estimator wrappers inside of the `cuml.dask` are not intended to be pickled directly. The Dask cuML estimators provide a function `get_combined_model()`, which returns the trained single-GPU model for pickling. The combined model can be used for inference on a single-GPU, and the `ParallelPostFit` wrapper from the [Dask-ML](https://ml.dask.org/meta-estimators.html) library can be used to perform distributed inference on a Dask cluster."
   ]
  },
  {
   "cell_type": "code",
   "execution_count": 7,
   "metadata": {
    "execution": {
     "iopub.execute_input": "2022-10-17T18:03:40.356853Z",
     "iopub.status.busy": "2022-10-17T18:03:40.356245Z",
     "iopub.status.idle": "2022-10-17T18:03:43.077164Z",
     "shell.execute_reply": "2022-10-17T18:03:43.075435Z"
    }
   },
   "outputs": [
    {
     "name": "stderr",
     "output_type": "stream",
     "text": [
      "2022-10-17 18:03:42,611 - distributed.preloading - INFO - Creating preload: dask_cuda.initialize\n",
      "2022-10-17 18:03:42,611 - distributed.preloading - INFO - Import preload module: dask_cuda.initialize\n",
      "2022-10-17 18:03:42,612 - distributed.preloading - INFO - Creating preload: dask_cuda.initialize\n",
      "2022-10-17 18:03:42,612 - distributed.preloading - INFO - Import preload module: dask_cuda.initialize\n"
     ]
    },
    {
     "data": {
      "text/html": [
       "<div>\n",
       "    <div style=\"width: 24px; height: 24px; background-color: #e1e1e1; border: 3px solid #9D9D9D; border-radius: 5px; position: absolute;\"> </div>\n",
       "    <div style=\"margin-left: 48px;\">\n",
       "        <h3 style=\"margin-bottom: 0px;\">Client</h3>\n",
       "        <p style=\"color: #9D9D9D; margin-bottom: 0px;\">Client-0957760b-4e46-11ed-8498-0242ac110002</p>\n",
       "        <table style=\"width: 100%; text-align: left;\">\n",
       "\n",
       "        <tr>\n",
       "        \n",
       "            <td style=\"text-align: left;\"><strong>Connection method:</strong> Cluster object</td>\n",
       "            <td style=\"text-align: left;\"><strong>Cluster type:</strong> dask_cuda.LocalCUDACluster</td>\n",
       "        \n",
       "        </tr>\n",
       "\n",
       "        \n",
       "            <tr>\n",
       "                <td style=\"text-align: left;\">\n",
       "                    <strong>Dashboard: </strong> <a href=\"http://127.0.0.1:8787/status\" target=\"_blank\">http://127.0.0.1:8787/status</a>\n",
       "                </td>\n",
       "                <td style=\"text-align: left;\"></td>\n",
       "            </tr>\n",
       "        \n",
       "\n",
       "        </table>\n",
       "\n",
       "        \n",
       "            <details>\n",
       "            <summary style=\"margin-bottom: 20px;\"><h3 style=\"display: inline;\">Cluster Info</h3></summary>\n",
       "            <div class=\"jp-RenderedHTMLCommon jp-RenderedHTML jp-mod-trusted jp-OutputArea-output\">\n",
       "    <div style=\"width: 24px; height: 24px; background-color: #e1e1e1; border: 3px solid #9D9D9D; border-radius: 5px; position: absolute;\">\n",
       "    </div>\n",
       "    <div style=\"margin-left: 48px;\">\n",
       "        <h3 style=\"margin-bottom: 0px; margin-top: 0px;\">LocalCUDACluster</h3>\n",
       "        <p style=\"color: #9D9D9D; margin-bottom: 0px;\">cc69172c</p>\n",
       "        <table style=\"width: 100%; text-align: left;\">\n",
       "            <tr>\n",
       "                <td style=\"text-align: left;\">\n",
       "                    <strong>Dashboard:</strong> <a href=\"http://127.0.0.1:8787/status\" target=\"_blank\">http://127.0.0.1:8787/status</a>\n",
       "                </td>\n",
       "                <td style=\"text-align: left;\">\n",
       "                    <strong>Workers:</strong> 2\n",
       "                </td>\n",
       "            </tr>\n",
       "            <tr>\n",
       "                <td style=\"text-align: left;\">\n",
       "                    <strong>Total threads:</strong> 2\n",
       "                </td>\n",
       "                <td style=\"text-align: left;\">\n",
       "                    <strong>Total memory:</strong> 45.78 GiB\n",
       "                </td>\n",
       "            </tr>\n",
       "            \n",
       "            <tr>\n",
       "    <td style=\"text-align: left;\"><strong>Status:</strong> running</td>\n",
       "    <td style=\"text-align: left;\"><strong>Using processes:</strong> True</td>\n",
       "</tr>\n",
       "\n",
       "            \n",
       "        </table>\n",
       "\n",
       "        <details>\n",
       "            <summary style=\"margin-bottom: 20px;\">\n",
       "                <h3 style=\"display: inline;\">Scheduler Info</h3>\n",
       "            </summary>\n",
       "\n",
       "            <div style=\"\">\n",
       "    <div>\n",
       "        <div style=\"width: 24px; height: 24px; background-color: #FFF7E5; border: 3px solid #FF6132; border-radius: 5px; position: absolute;\"> </div>\n",
       "        <div style=\"margin-left: 48px;\">\n",
       "            <h3 style=\"margin-bottom: 0px;\">Scheduler</h3>\n",
       "            <p style=\"color: #9D9D9D; margin-bottom: 0px;\">Scheduler-d75dfd2f-6ba5-4a22-bd46-9d33c16c6413</p>\n",
       "            <table style=\"width: 100%; text-align: left;\">\n",
       "                <tr>\n",
       "                    <td style=\"text-align: left;\">\n",
       "                        <strong>Comm:</strong> tcp://127.0.0.1:45987\n",
       "                    </td>\n",
       "                    <td style=\"text-align: left;\">\n",
       "                        <strong>Workers:</strong> 2\n",
       "                    </td>\n",
       "                </tr>\n",
       "                <tr>\n",
       "                    <td style=\"text-align: left;\">\n",
       "                        <strong>Dashboard:</strong> <a href=\"http://127.0.0.1:8787/status\" target=\"_blank\">http://127.0.0.1:8787/status</a>\n",
       "                    </td>\n",
       "                    <td style=\"text-align: left;\">\n",
       "                        <strong>Total threads:</strong> 2\n",
       "                    </td>\n",
       "                </tr>\n",
       "                <tr>\n",
       "                    <td style=\"text-align: left;\">\n",
       "                        <strong>Started:</strong> Just now\n",
       "                    </td>\n",
       "                    <td style=\"text-align: left;\">\n",
       "                        <strong>Total memory:</strong> 45.78 GiB\n",
       "                    </td>\n",
       "                </tr>\n",
       "            </table>\n",
       "        </div>\n",
       "    </div>\n",
       "\n",
       "    <details style=\"margin-left: 48px;\">\n",
       "        <summary style=\"margin-bottom: 20px;\">\n",
       "            <h3 style=\"display: inline;\">Workers</h3>\n",
       "        </summary>\n",
       "\n",
       "        \n",
       "        <div style=\"margin-bottom: 20px;\">\n",
       "            <div style=\"width: 24px; height: 24px; background-color: #DBF5FF; border: 3px solid #4CC9FF; border-radius: 5px; position: absolute;\"> </div>\n",
       "            <div style=\"margin-left: 48px;\">\n",
       "            <details>\n",
       "                <summary>\n",
       "                    <h4 style=\"margin-bottom: 0px; display: inline;\">Worker: 0</h4>\n",
       "                </summary>\n",
       "                <table style=\"width: 100%; text-align: left;\">\n",
       "                    <tr>\n",
       "                        <td style=\"text-align: left;\">\n",
       "                            <strong>Comm: </strong> tcp://127.0.0.1:39787\n",
       "                        </td>\n",
       "                        <td style=\"text-align: left;\">\n",
       "                            <strong>Total threads: </strong> 1\n",
       "                        </td>\n",
       "                    </tr>\n",
       "                    <tr>\n",
       "                        <td style=\"text-align: left;\">\n",
       "                            <strong>Dashboard: </strong> <a href=\"http://127.0.0.1:36161/status\" target=\"_blank\">http://127.0.0.1:36161/status</a>\n",
       "                        </td>\n",
       "                        <td style=\"text-align: left;\">\n",
       "                            <strong>Memory: </strong> 22.89 GiB\n",
       "                        </td>\n",
       "                    </tr>\n",
       "                    <tr>\n",
       "                        <td style=\"text-align: left;\">\n",
       "                            <strong>Nanny: </strong> tcp://127.0.0.1:36079\n",
       "                        </td>\n",
       "                        <td style=\"text-align: left;\"></td>\n",
       "                    </tr>\n",
       "                    <tr>\n",
       "                        <td colspan=\"2\" style=\"text-align: left;\">\n",
       "                            <strong>Local directory: </strong> /tmp/dask-worker-space/worker-hanxjo3k\n",
       "                        </td>\n",
       "                    </tr>\n",
       "\n",
       "                    \n",
       "                    <tr>\n",
       "                        <td style=\"text-align: left;\">\n",
       "                            <strong>GPU: </strong>Quadro GV100\n",
       "                        </td>\n",
       "                        <td style=\"text-align: left;\">\n",
       "                            <strong>GPU memory: </strong> 32.00 GiB\n",
       "                        </td>\n",
       "                    </tr>\n",
       "                    \n",
       "\n",
       "                    \n",
       "\n",
       "                </table>\n",
       "            </details>\n",
       "            </div>\n",
       "        </div>\n",
       "        \n",
       "        <div style=\"margin-bottom: 20px;\">\n",
       "            <div style=\"width: 24px; height: 24px; background-color: #DBF5FF; border: 3px solid #4CC9FF; border-radius: 5px; position: absolute;\"> </div>\n",
       "            <div style=\"margin-left: 48px;\">\n",
       "            <details>\n",
       "                <summary>\n",
       "                    <h4 style=\"margin-bottom: 0px; display: inline;\">Worker: 1</h4>\n",
       "                </summary>\n",
       "                <table style=\"width: 100%; text-align: left;\">\n",
       "                    <tr>\n",
       "                        <td style=\"text-align: left;\">\n",
       "                            <strong>Comm: </strong> tcp://127.0.0.1:45543\n",
       "                        </td>\n",
       "                        <td style=\"text-align: left;\">\n",
       "                            <strong>Total threads: </strong> 1\n",
       "                        </td>\n",
       "                    </tr>\n",
       "                    <tr>\n",
       "                        <td style=\"text-align: left;\">\n",
       "                            <strong>Dashboard: </strong> <a href=\"http://127.0.0.1:36879/status\" target=\"_blank\">http://127.0.0.1:36879/status</a>\n",
       "                        </td>\n",
       "                        <td style=\"text-align: left;\">\n",
       "                            <strong>Memory: </strong> 22.89 GiB\n",
       "                        </td>\n",
       "                    </tr>\n",
       "                    <tr>\n",
       "                        <td style=\"text-align: left;\">\n",
       "                            <strong>Nanny: </strong> tcp://127.0.0.1:39215\n",
       "                        </td>\n",
       "                        <td style=\"text-align: left;\"></td>\n",
       "                    </tr>\n",
       "                    <tr>\n",
       "                        <td colspan=\"2\" style=\"text-align: left;\">\n",
       "                            <strong>Local directory: </strong> /tmp/dask-worker-space/worker-88twsuw0\n",
       "                        </td>\n",
       "                    </tr>\n",
       "\n",
       "                    \n",
       "                    <tr>\n",
       "                        <td style=\"text-align: left;\">\n",
       "                            <strong>GPU: </strong>Quadro GV100\n",
       "                        </td>\n",
       "                        <td style=\"text-align: left;\">\n",
       "                            <strong>GPU memory: </strong> 32.00 GiB\n",
       "                        </td>\n",
       "                    </tr>\n",
       "                    \n",
       "\n",
       "                    \n",
       "\n",
       "                </table>\n",
       "            </details>\n",
       "            </div>\n",
       "        </div>\n",
       "        \n",
       "\n",
       "    </details>\n",
       "</div>\n",
       "\n",
       "        </details>\n",
       "    </div>\n",
       "</div>\n",
       "            </details>\n",
       "        \n",
       "\n",
       "    </div>\n",
       "</div>"
      ],
      "text/plain": [
       "<Client: 'tcp://127.0.0.1:45987' processes=2 threads=2, memory=45.78 GiB>"
      ]
     },
     "execution_count": 7,
     "metadata": {},
     "output_type": "execute_result"
    }
   ],
   "source": [
    "from dask.distributed import Client\n",
    "from dask_cuda import LocalCUDACluster\n",
    "\n",
    "cluster = LocalCUDACluster()\n",
    "client = Client(cluster)\n",
    "client"
   ]
  },
  {
   "cell_type": "code",
   "execution_count": 8,
   "metadata": {
    "execution": {
     "iopub.execute_input": "2022-10-17T18:03:43.084133Z",
     "iopub.status.busy": "2022-10-17T18:03:43.083577Z",
     "iopub.status.idle": "2022-10-17T18:03:43.782201Z",
     "shell.execute_reply": "2022-10-17T18:03:43.773131Z"
    }
   },
   "outputs": [],
   "source": [
    "from cuml.dask.datasets import make_blobs\n",
    "\n",
    "n_workers = len(client.scheduler_info()[\"workers\"].keys())\n",
    "\n",
    "X, y = make_blobs(n_samples=5000, \n",
    "                  n_features=30,\n",
    "                  centers=5, \n",
    "                  cluster_std=0.4, \n",
    "                  random_state=0,\n",
    "                  n_parts=n_workers*5)\n",
    "\n",
    "X = X.persist()\n",
    "y = y.persist()"
   ]
  },
  {
   "cell_type": "code",
   "execution_count": 9,
   "metadata": {
    "execution": {
     "iopub.execute_input": "2022-10-17T18:03:43.793124Z",
     "iopub.status.busy": "2022-10-17T18:03:43.792526Z",
     "iopub.status.idle": "2022-10-17T18:03:43.798849Z",
     "shell.execute_reply": "2022-10-17T18:03:43.797750Z"
    }
   },
   "outputs": [],
   "source": [
    "from cuml.dask.cluster import KMeans\n",
    "\n",
    "dist_model = KMeans(n_clusters=5)"
   ]
  },
  {
   "cell_type": "code",
   "execution_count": 10,
   "metadata": {
    "execution": {
     "iopub.execute_input": "2022-10-17T18:03:43.805985Z",
     "iopub.status.busy": "2022-10-17T18:03:43.805348Z",
     "iopub.status.idle": "2022-10-17T18:03:49.385329Z",
     "shell.execute_reply": "2022-10-17T18:03:49.382684Z"
    }
   },
   "outputs": [
    {
     "name": "stderr",
     "output_type": "stream",
     "text": [
      "2022-10-17 18:03:48,934 - distributed.worker - WARNING - Compute Failed\n",
      "Key:       _get_model_attr-55fc5ec5-16ef-4b0d-bbb4-4178b83c23d1\n",
      "Function:  _get_model_attr\n",
      "args:      (KMeansMG(), '_ipython_canary_method_should_not_exist_')\n",
      "kwargs:    {}\n",
      "Exception: 'AttributeError(\"Attribute _ipython_canary_method_should_not_exist_ does not exist on model <class \\'cuml.cluster.kmeans_mg.KMeansMG\\'>\")'\n",
      "\n",
      "2022-10-17 18:03:48,945 - distributed.worker - WARNING - Compute Failed\n",
      "Key:       _get_model_attr-ceec6c5b-2555-4b77-b45a-b08c63ca6575\n",
      "Function:  _get_model_attr\n",
      "args:      (KMeansMG(), '_ipython_display_')\n",
      "kwargs:    {}\n",
      "Exception: 'AttributeError(\"Attribute _ipython_display_ does not exist on model <class \\'cuml.cluster.kmeans_mg.KMeansMG\\'>\")'\n",
      "\n",
      "2022-10-17 18:03:48,970 - distributed.worker - WARNING - Compute Failed\n",
      "Key:       _get_model_attr-14be6f07-b8c9-43fe-814f-c2a92e1d5f69\n",
      "Function:  _get_model_attr\n",
      "args:      (KMeansMG(), '_ipython_canary_method_should_not_exist_')\n",
      "kwargs:    {}\n",
      "Exception: 'AttributeError(\"Attribute _ipython_canary_method_should_not_exist_ does not exist on model <class \\'cuml.cluster.kmeans_mg.KMeansMG\\'>\")'\n",
      "\n",
      "2022-10-17 18:03:48,994 - distributed.worker - WARNING - Compute Failed\n",
      "Key:       _get_model_attr-5054efd5-e5e2-49ea-a6bf-650a155b1a53\n",
      "Function:  _get_model_attr\n",
      "args:      (KMeansMG(), '_repr_mimebundle_')\n",
      "kwargs:    {}\n",
      "Exception: 'AttributeError(\"Attribute _repr_mimebundle_ does not exist on model <class \\'cuml.cluster.kmeans_mg.KMeansMG\\'>\")'\n",
      "\n",
      "2022-10-17 18:03:49,016 - distributed.worker - WARNING - Compute Failed\n",
      "Key:       _get_model_attr-ab4ed533-e0ab-4968-8d3a-ffac6d6c0e93\n",
      "Function:  _get_model_attr\n",
      "args:      (KMeansMG(), '_ipython_canary_method_should_not_exist_')\n",
      "kwargs:    {}\n",
      "Exception: 'AttributeError(\"Attribute _ipython_canary_method_should_not_exist_ does not exist on model <class \\'cuml.cluster.kmeans_mg.KMeansMG\\'>\")'\n",
      "\n",
      "2022-10-17 18:03:49,039 - distributed.worker - WARNING - Compute Failed\n",
      "Key:       _get_model_attr-64b5753b-e257-4049-8c3b-5e540d4a4546\n",
      "Function:  _get_model_attr\n",
      "args:      (KMeansMG(), '_repr_html_')\n",
      "kwargs:    {}\n",
      "Exception: 'AttributeError(\"Attribute _repr_html_ does not exist on model <class \\'cuml.cluster.kmeans_mg.KMeansMG\\'>\")'\n",
      "\n",
      "2022-10-17 18:03:49,061 - distributed.worker - WARNING - Compute Failed\n",
      "Key:       _get_model_attr-d37558e0-f945-4357-9ebb-7ff6f25ac62c\n",
      "Function:  _get_model_attr\n",
      "args:      (KMeansMG(), '_ipython_canary_method_should_not_exist_')\n",
      "kwargs:    {}\n",
      "Exception: 'AttributeError(\"Attribute _ipython_canary_method_should_not_exist_ does not exist on model <class \\'cuml.cluster.kmeans_mg.KMeansMG\\'>\")'\n",
      "\n",
      "2022-10-17 18:03:49,082 - distributed.worker - WARNING - Compute Failed\n",
      "Key:       _get_model_attr-1b3c5658-51b2-4f56-949b-0f389e66c7dc\n",
      "Function:  _get_model_attr\n",
      "args:      (KMeansMG(), '_repr_markdown_')\n",
      "kwargs:    {}\n",
      "Exception: 'AttributeError(\"Attribute _repr_markdown_ does not exist on model <class \\'cuml.cluster.kmeans_mg.KMeansMG\\'>\")'\n",
      "\n",
      "2022-10-17 18:03:49,103 - distributed.worker - WARNING - Compute Failed\n",
      "Key:       _get_model_attr-8de34c1f-7348-4b4d-a783-2315adad1e70\n",
      "Function:  _get_model_attr\n",
      "args:      (KMeansMG(), '_ipython_canary_method_should_not_exist_')\n",
      "kwargs:    {}\n",
      "Exception: 'AttributeError(\"Attribute _ipython_canary_method_should_not_exist_ does not exist on model <class \\'cuml.cluster.kmeans_mg.KMeansMG\\'>\")'\n",
      "\n",
      "2022-10-17 18:03:49,126 - distributed.worker - WARNING - Compute Failed\n",
      "Key:       _get_model_attr-0b9b8465-e4a8-4c5f-a464-36b28e15c4fe\n",
      "Function:  _get_model_attr\n",
      "args:      (KMeansMG(), '_repr_svg_')\n",
      "kwargs:    {}\n",
      "Exception: 'AttributeError(\"Attribute _repr_svg_ does not exist on model <class \\'cuml.cluster.kmeans_mg.KMeansMG\\'>\")'\n",
      "\n"
     ]
    },
    {
     "name": "stderr",
     "output_type": "stream",
     "text": [
      "2022-10-17 18:03:49,148 - distributed.worker - WARNING - Compute Failed\n",
      "Key:       _get_model_attr-01fccfff-5a64-4f21-b3b1-35a73e29cc8d\n",
      "Function:  _get_model_attr\n",
      "args:      (KMeansMG(), '_ipython_canary_method_should_not_exist_')\n",
      "kwargs:    {}\n",
      "Exception: 'AttributeError(\"Attribute _ipython_canary_method_should_not_exist_ does not exist on model <class \\'cuml.cluster.kmeans_mg.KMeansMG\\'>\")'\n",
      "\n",
      "2022-10-17 18:03:49,169 - distributed.worker - WARNING - Compute Failed\n",
      "Key:       _get_model_attr-0af9c862-8887-4131-af39-dcc9d370d4e8\n",
      "Function:  _get_model_attr\n",
      "args:      (KMeansMG(), '_repr_png_')\n",
      "kwargs:    {}\n",
      "Exception: 'AttributeError(\"Attribute _repr_png_ does not exist on model <class \\'cuml.cluster.kmeans_mg.KMeansMG\\'>\")'\n",
      "\n",
      "2022-10-17 18:03:49,186 - distributed.worker - WARNING - Compute Failed\n",
      "Key:       _get_model_attr-d12f47dc-50f9-43e7-8fa2-7dfb5fc64bf5\n",
      "Function:  _get_model_attr\n",
      "args:      (KMeansMG(), '_ipython_canary_method_should_not_exist_')\n",
      "kwargs:    {}\n",
      "Exception: 'AttributeError(\"Attribute _ipython_canary_method_should_not_exist_ does not exist on model <class \\'cuml.cluster.kmeans_mg.KMeansMG\\'>\")'\n",
      "\n",
      "2022-10-17 18:03:49,207 - distributed.worker - WARNING - Compute Failed\n",
      "Key:       _get_model_attr-ad32e580-72b2-4669-9fbc-13581c88b9fb\n",
      "Function:  _get_model_attr\n",
      "args:      (KMeansMG(), '_repr_pdf_')\n",
      "kwargs:    {}\n",
      "Exception: 'AttributeError(\"Attribute _repr_pdf_ does not exist on model <class \\'cuml.cluster.kmeans_mg.KMeansMG\\'>\")'\n",
      "\n",
      "2022-10-17 18:03:49,229 - distributed.worker - WARNING - Compute Failed\n",
      "Key:       _get_model_attr-255e9fb3-28d9-4703-8cad-75c237ff2ea9\n",
      "Function:  _get_model_attr\n",
      "args:      (KMeansMG(), '_ipython_canary_method_should_not_exist_')\n",
      "kwargs:    {}\n",
      "Exception: 'AttributeError(\"Attribute _ipython_canary_method_should_not_exist_ does not exist on model <class \\'cuml.cluster.kmeans_mg.KMeansMG\\'>\")'\n",
      "\n",
      "2022-10-17 18:03:49,250 - distributed.worker - WARNING - Compute Failed\n",
      "Key:       _get_model_attr-8c23df13-6082-4821-93a4-9fcf17e2f7bc\n",
      "Function:  _get_model_attr\n",
      "args:      (KMeansMG(), '_repr_jpeg_')\n",
      "kwargs:    {}\n",
      "Exception: 'AttributeError(\"Attribute _repr_jpeg_ does not exist on model <class \\'cuml.cluster.kmeans_mg.KMeansMG\\'>\")'\n",
      "\n",
      "2022-10-17 18:03:49,270 - distributed.worker - WARNING - Compute Failed\n",
      "Key:       _get_model_attr-4fddd13d-552e-46ac-9c25-6828694f3aeb\n",
      "Function:  _get_model_attr\n",
      "args:      (KMeansMG(), '_ipython_canary_method_should_not_exist_')\n",
      "kwargs:    {}\n",
      "Exception: 'AttributeError(\"Attribute _ipython_canary_method_should_not_exist_ does not exist on model <class \\'cuml.cluster.kmeans_mg.KMeansMG\\'>\")'\n",
      "\n",
      "2022-10-17 18:03:49,292 - distributed.worker - WARNING - Compute Failed\n",
      "Key:       _get_model_attr-cac16123-6b4b-425d-8724-1801aae67f25\n",
      "Function:  _get_model_attr\n",
      "args:      (KMeansMG(), '_repr_latex_')\n",
      "kwargs:    {}\n",
      "Exception: 'AttributeError(\"Attribute _repr_latex_ does not exist on model <class \\'cuml.cluster.kmeans_mg.KMeansMG\\'>\")'\n",
      "\n",
      "2022-10-17 18:03:49,306 - distributed.worker - WARNING - Compute Failed\n",
      "Key:       _get_model_attr-73f0df53-7e84-4e7d-a37b-0b6a41451baf\n",
      "Function:  _get_model_attr\n",
      "args:      (KMeansMG(), '_ipython_canary_method_should_not_exist_')\n",
      "kwargs:    {}\n",
      "Exception: 'AttributeError(\"Attribute _ipython_canary_method_should_not_exist_ does not exist on model <class \\'cuml.cluster.kmeans_mg.KMeansMG\\'>\")'\n",
      "\n",
      "2022-10-17 18:03:49,327 - distributed.worker - WARNING - Compute Failed\n",
      "Key:       _get_model_attr-3708fd80-2178-4e3b-935e-ec172b5d548d\n",
      "Function:  _get_model_attr\n",
      "args:      (KMeansMG(), '_repr_json_')\n",
      "kwargs:    {}\n",
      "Exception: 'AttributeError(\"Attribute _repr_json_ does not exist on model <class \\'cuml.cluster.kmeans_mg.KMeansMG\\'>\")'\n",
      "\n"
     ]
    },
    {
     "name": "stderr",
     "output_type": "stream",
     "text": [
      "2022-10-17 18:03:49,349 - distributed.worker - WARNING - Compute Failed\n",
      "Key:       _get_model_attr-3425ce2a-f1c2-4eef-990d-8ef3f8bb1c7f\n",
      "Function:  _get_model_attr\n",
      "args:      (KMeansMG(), '_ipython_canary_method_should_not_exist_')\n",
      "kwargs:    {}\n",
      "Exception: 'AttributeError(\"Attribute _ipython_canary_method_should_not_exist_ does not exist on model <class \\'cuml.cluster.kmeans_mg.KMeansMG\\'>\")'\n",
      "\n",
      "2022-10-17 18:03:49,371 - distributed.worker - WARNING - Compute Failed\n",
      "Key:       _get_model_attr-56cb5716-fd7e-465d-911b-7ab635a05096\n",
      "Function:  _get_model_attr\n",
      "args:      (KMeansMG(), '_repr_javascript_')\n",
      "kwargs:    {}\n",
      "Exception: 'AttributeError(\"Attribute _repr_javascript_ does not exist on model <class \\'cuml.cluster.kmeans_mg.KMeansMG\\'>\")'\n",
      "\n"
     ]
    },
    {
     "data": {
      "text/plain": [
       "<cuml.dask.cluster.kmeans.KMeans at 0x7ff932c54f10>"
      ]
     },
     "execution_count": 10,
     "metadata": {},
     "output_type": "execute_result"
    }
   ],
   "source": [
    "dist_model.fit(X)"
   ]
  },
  {
   "cell_type": "code",
   "execution_count": 11,
   "metadata": {
    "execution": {
     "iopub.execute_input": "2022-10-17T18:03:49.391805Z",
     "iopub.status.busy": "2022-10-17T18:03:49.391240Z",
     "iopub.status.idle": "2022-10-17T18:03:49.418732Z",
     "shell.execute_reply": "2022-10-17T18:03:49.416629Z"
    }
   },
   "outputs": [],
   "source": [
    "import pickle\n",
    "\n",
    "single_gpu_model = dist_model.get_combined_model()\n",
    "pickle.dump(single_gpu_model, open(\"kmeans_model.pkl\", \"wb\"))"
   ]
  },
  {
   "cell_type": "code",
   "execution_count": 12,
   "metadata": {
    "execution": {
     "iopub.execute_input": "2022-10-17T18:03:49.428219Z",
     "iopub.status.busy": "2022-10-17T18:03:49.427126Z",
     "iopub.status.idle": "2022-10-17T18:03:49.437462Z",
     "shell.execute_reply": "2022-10-17T18:03:49.434639Z"
    }
   },
   "outputs": [],
   "source": [
    "single_gpu_model = pickle.load(open(\"kmeans_model.pkl\", \"rb\"))"
   ]
  },
  {
   "cell_type": "code",
   "execution_count": 13,
   "metadata": {
    "execution": {
     "iopub.execute_input": "2022-10-17T18:03:49.444192Z",
     "iopub.status.busy": "2022-10-17T18:03:49.443360Z",
     "iopub.status.idle": "2022-10-17T18:03:49.453294Z",
     "shell.execute_reply": "2022-10-17T18:03:49.452380Z"
    }
   },
   "outputs": [
    {
     "data": {
      "text/plain": [
       "array([[-4.6557665 , -9.605046  ,  6.6638994 ,  4.435602  ,  2.156688  ,\n",
       "         2.599673  ,  0.6010148 ,  6.262877  , -8.829993  , -0.39445522,\n",
       "         9.801517  ,  7.584996  , 10.004724  , -5.8716373 , -1.2833364 ,\n",
       "        -2.5475292 , -1.0870931 , -5.2439094 , -9.321915  ,  4.6081567 ,\n",
       "        -0.10159794, -3.9462247 ,  6.1869664 , -7.401992  ,  5.6567736 ,\n",
       "        -8.548569  , -7.5288224 , -5.5547514 ,  4.849038  ,  2.5301983 ],\n",
       "       [ 4.7991467 ,  8.40242   , -9.21459   ,  9.392471  ,  8.512869  ,\n",
       "        -1.0980052 ,  3.3258238 , -7.80285   , -0.5990244 ,  0.25806776,\n",
       "         5.5174656 , -4.113201  ,  4.29229   , -2.8411753 ,  3.6327324 ,\n",
       "        -4.173102  , -3.6205482 ,  6.2173705 , -6.9105277 , -1.084521  ,\n",
       "        -5.8539176 ,  2.2375815 , -3.8543427 , -1.6783282 , -5.322575  ,\n",
       "         7.575617  ,  2.9321434 ,  8.521326  ,  1.5875131 ,  1.0917971 ],\n",
       "       [-2.872203  ,  4.469733  , -4.431363  ,  2.3996613 ,  1.7438418 ,\n",
       "        -2.4938552 , -5.2212667 , -1.7067925 , -8.130271  ,  2.6409218 ,\n",
       "        -4.307933  ,  5.579306  , -5.741948  , -1.7193332 , -9.359335  ,\n",
       "         0.7162489 ,  4.4438004 , -2.917387  , -4.9321446 ,  9.692951  ,\n",
       "         8.393692  , -6.2387233 , -6.363846  ,  1.963377  ,  4.162584  ,\n",
       "        -9.159682  ,  4.6117425 ,  8.8011265 ,  6.8551817 ,  2.2458148 ],\n",
       "       [-6.928107  , -9.766996  , -6.5138397 , -0.43525633,  6.100162  ,\n",
       "         3.7533102 , -3.9653108 ,  6.1827755 , -1.850568  ,  5.028263  ,\n",
       "        -6.843763  ,  1.3515666 ,  8.996503  , -1.0031245 ,  9.674829  ,\n",
       "         9.7697115 , -8.616943  ,  5.982676  ,  2.2226048 , -3.6281207 ,\n",
       "         7.0979915 , -7.3974366 , -5.3140364 , -6.9729123 , -7.9171224 ,\n",
       "         6.6703353 , -5.5767226 ,  7.13434   ,  6.606858  , -8.299497  ],\n",
       "       [ 6.2599006 ,  9.218424  ,  8.374798  ,  9.035377  ,  7.7094774 ,\n",
       "        -1.0123167 , -6.2563047 ,  1.3844215 , -6.956254  , -5.965097  ,\n",
       "         1.0701916 , -0.02766196,  2.811688  ,  1.8430991 , -8.250472  ,\n",
       "         3.0570164 , -8.49589   ,  9.738966  , -7.748305  ,  3.4321895 ,\n",
       "        -3.9439018 , -4.113308  ,  2.6874824 ,  1.2842503 ,  1.019016  ,\n",
       "         5.26193   , -1.6500072 ,  6.1615205 , -6.911384  , -9.656554  ]],\n",
       "      dtype=float32)"
      ]
     },
     "execution_count": 13,
     "metadata": {},
     "output_type": "execute_result"
    }
   ],
   "source": [
    "single_gpu_model.cluster_centers_"
   ]
  },
  {
   "cell_type": "markdown",
   "metadata": {},
   "source": [
    "## Exporting cuML Random Forest models for inferencing on machines without GPUs"
   ]
  },
  {
   "cell_type": "markdown",
   "metadata": {},
   "source": [
    "Starting with cuML version 21.06, you can export cuML Random Forest models and run predictions with them on machines without an NVIDIA GPUs. The [Treelite](https://github.com/dmlc/treelite) package defines an efficient exchange format that lets you portably move the cuML Random Forest models to other machines. We will refer to the exchange format as \"checkpoints.\"\n",
    "\n",
    "Here are the steps to export the model:\n",
    "\n",
    "1. Call `to_treelite_checkpoint()` to obtain the checkpoint file from the cuML Random Forest model."
   ]
  },
  {
   "cell_type": "code",
   "execution_count": 14,
   "metadata": {
    "execution": {
     "iopub.execute_input": "2022-10-17T18:03:49.456302Z",
     "iopub.status.busy": "2022-10-17T18:03:49.455897Z",
     "iopub.status.idle": "2022-10-17T18:03:49.538635Z",
     "shell.execute_reply": "2022-10-17T18:03:49.537633Z"
    }
   },
   "outputs": [
    {
     "name": "stderr",
     "output_type": "stream",
     "text": [
      "/opt/conda/envs/rapids/lib/python3.9/site-packages/cuml/internals/api_decorators.py:794: UserWarning: For reproducible results in Random Forest Classifier or for almost reproducible results in Random Forest Regressor, n_streams=1 is recommended. If n_streams is > 1, results may vary due to stream/thread timing differences, even when random_state is set\n",
      "  return func(**kwargs)\n"
     ]
    }
   ],
   "source": [
    "from cuml.ensemble import RandomForestClassifier as cumlRandomForestClassifier\n",
    "from sklearn.datasets import load_iris\n",
    "import numpy as np\n",
    "\n",
    "X, y = load_iris(return_X_y=True)\n",
    "X, y = X.astype(np.float32), y.astype(np.int32)\n",
    "clf = cumlRandomForestClassifier(max_depth=3, random_state=0, n_estimators=10)\n",
    "clf.fit(X, y)\n",
    "\n",
    "checkpoint_path = './checkpoint.tl'\n",
    "# Export cuML RF model as Treelite checkpoint\n",
    "clf.convert_to_treelite_model().to_treelite_checkpoint(checkpoint_path)"
   ]
  },
  {
   "cell_type": "markdown",
   "metadata": {},
   "source": [
    "2. Copy the generated checkpoint file `checkpoint.tl` to another machine on which you'd like to run predictions.\n",
    "\n",
    "3. On the target machine, install Treelite by running `pip install treelite` or `conda install -c conda-forge treelite`. The machine does not need to have an NVIDIA GPUs and does not need to have cuML installed.\n",
    "\n",
    "4. You can now load the model from the checkpoint, by running the following on the target machine:"
   ]
  },
  {
   "cell_type": "code",
   "execution_count": 15,
   "metadata": {
    "execution": {
     "iopub.execute_input": "2022-10-17T18:03:49.545201Z",
     "iopub.status.busy": "2022-10-17T18:03:49.543856Z",
     "iopub.status.idle": "2022-10-17T18:03:49.553782Z",
     "shell.execute_reply": "2022-10-17T18:03:49.553254Z"
    }
   },
   "outputs": [
    {
     "name": "stdout",
     "output_type": "stream",
     "text": [
      "[[1.         0.         0.        ]\n",
      " [1.         0.         0.        ]\n",
      " [1.         0.         0.        ]\n",
      " [1.         0.         0.        ]\n",
      " [1.         0.         0.        ]\n",
      " [1.         0.         0.        ]\n",
      " [1.         0.         0.        ]\n",
      " [1.         0.         0.        ]\n",
      " [1.         0.         0.        ]\n",
      " [1.         0.         0.        ]\n",
      " [1.         0.         0.        ]\n",
      " [1.         0.         0.        ]\n",
      " [1.         0.         0.        ]\n",
      " [1.         0.         0.        ]\n",
      " [1.         0.         0.        ]\n",
      " [1.         0.         0.        ]\n",
      " [1.         0.         0.        ]\n",
      " [1.         0.         0.        ]\n",
      " [1.         0.         0.        ]\n",
      " [1.         0.         0.        ]\n",
      " [1.         0.         0.        ]\n",
      " [1.         0.         0.        ]\n",
      " [1.         0.         0.        ]\n",
      " [1.         0.         0.        ]\n",
      " [1.         0.         0.        ]\n",
      " [1.         0.         0.        ]\n",
      " [1.         0.         0.        ]\n",
      " [1.         0.         0.        ]\n",
      " [1.         0.         0.        ]\n",
      " [1.         0.         0.        ]\n",
      " [1.         0.         0.        ]\n",
      " [1.         0.         0.        ]\n",
      " [1.         0.         0.        ]\n",
      " [1.         0.         0.        ]\n",
      " [1.         0.         0.        ]\n",
      " [1.         0.         0.        ]\n",
      " [1.         0.         0.        ]\n",
      " [1.         0.         0.        ]\n",
      " [1.         0.         0.        ]\n",
      " [1.         0.         0.        ]\n",
      " [1.         0.         0.        ]\n",
      " [1.         0.         0.        ]\n",
      " [1.         0.         0.        ]\n",
      " [1.         0.         0.        ]\n",
      " [1.         0.         0.        ]\n",
      " [1.         0.         0.        ]\n",
      " [1.         0.         0.        ]\n",
      " [1.         0.         0.        ]\n",
      " [1.         0.         0.        ]\n",
      " [1.         0.         0.        ]\n",
      " [0.         0.9941856  0.0058144 ]\n",
      " [0.         0.9941856  0.0058144 ]\n",
      " [0.         0.8317397  0.16826029]\n",
      " [0.         0.9841856  0.0158144 ]\n",
      " [0.         0.9941856  0.0058144 ]\n",
      " [0.         0.9941856  0.0058144 ]\n",
      " [0.         0.9941856  0.0058144 ]\n",
      " [0.         0.9841856  0.0158144 ]\n",
      " [0.         0.9941856  0.0058144 ]\n",
      " [0.         0.9941856  0.0058144 ]\n",
      " [0.         0.9841856  0.0158144 ]\n",
      " [0.         0.9941856  0.0058144 ]\n",
      " [0.         0.9841856  0.0158144 ]\n",
      " [0.         0.9941856  0.0058144 ]\n",
      " [0.         0.9941856  0.0058144 ]\n",
      " [0.         0.9941856  0.0058144 ]\n",
      " [0.         0.9941856  0.0058144 ]\n",
      " [0.         0.9941856  0.0058144 ]\n",
      " [0.         0.9841856  0.0158144 ]\n",
      " [0.         0.9841856  0.0158144 ]\n",
      " [0.         0.16169165 0.83830833]\n",
      " [0.         0.9941856  0.0058144 ]\n",
      " [0.         0.8317397  0.16826029]\n",
      " [0.         0.9941856  0.0058144 ]\n",
      " [0.         0.9941856  0.0058144 ]\n",
      " [0.         0.9941856  0.0058144 ]\n",
      " [0.         0.8317397  0.16826029]\n",
      " [0.         0.5163647  0.48363543]\n",
      " [0.         0.9941856  0.0058144 ]\n",
      " [0.         0.9941856  0.0058144 ]\n",
      " [0.         0.9841856  0.0158144 ]\n",
      " [0.         0.9841856  0.0158144 ]\n",
      " [0.         0.9941856  0.0058144 ]\n",
      " [0.         0.3457792  0.65422076]\n",
      " [0.         0.9941856  0.0058144 ]\n",
      " [0.         0.9941856  0.0058144 ]\n",
      " [0.         0.9941856  0.0058144 ]\n",
      " [0.         0.9841856  0.0158144 ]\n",
      " [0.         0.9941856  0.0058144 ]\n",
      " [0.         0.9841856  0.0158144 ]\n",
      " [0.         0.9941856  0.0058144 ]\n",
      " [0.         0.9941856  0.0058144 ]\n",
      " [0.         0.9941856  0.0058144 ]\n",
      " [0.         0.9841856  0.0158144 ]\n",
      " [0.         0.9941856  0.0058144 ]\n",
      " [0.         0.9941856  0.0058144 ]\n",
      " [0.         0.9941856  0.0058144 ]\n",
      " [0.         0.9941856  0.0058144 ]\n",
      " [0.         0.9841856  0.0158144 ]\n",
      " [0.         0.9941856  0.0058144 ]\n",
      " [0.         0.         1.        ]\n",
      " [0.         0.         1.        ]\n",
      " [0.         0.         1.        ]\n",
      " [0.         0.02447553 0.9755244 ]\n",
      " [0.         0.         1.        ]\n",
      " [0.         0.         1.        ]\n",
      " [0.         0.62521124 0.37478876]\n",
      " [0.         0.02447553 0.9755244 ]\n",
      " [0.         0.02447553 0.9755244 ]\n",
      " [0.         0.         1.        ]\n",
      " [0.         0.         1.        ]\n",
      " [0.         0.         1.        ]\n",
      " [0.         0.         1.        ]\n",
      " [0.         0.04102564 0.95897436]\n",
      " [0.         0.         1.        ]\n",
      " [0.         0.         1.        ]\n",
      " [0.         0.02447553 0.9755244 ]\n",
      " [0.         0.         1.        ]\n",
      " [0.         0.         1.        ]\n",
      " [0.         0.600339   0.399661  ]\n",
      " [0.         0.         1.        ]\n",
      " [0.         0.10388279 0.8961172 ]\n",
      " [0.         0.         1.        ]\n",
      " [0.         0.12835832 0.87164164]\n",
      " [0.         0.         1.        ]\n",
      " [0.         0.02447553 0.9755244 ]\n",
      " [0.         0.16169165 0.83830833]\n",
      " [0.         0.12835832 0.87164164]\n",
      " [0.         0.         1.        ]\n",
      " [0.         0.3457792  0.65422076]\n",
      " [0.         0.         1.        ]\n",
      " [0.         0.         1.        ]\n",
      " [0.         0.         1.        ]\n",
      " [0.         0.3457792  0.65422076]\n",
      " [0.         0.3457792  0.65422076]\n",
      " [0.         0.         1.        ]\n",
      " [0.         0.         1.        ]\n",
      " [0.         0.02447553 0.9755244 ]\n",
      " [0.         0.16169165 0.83830833]\n",
      " [0.         0.         1.        ]\n",
      " [0.         0.         1.        ]\n",
      " [0.         0.         1.        ]\n",
      " [0.         0.         1.        ]\n",
      " [0.         0.         1.        ]\n",
      " [0.         0.         1.        ]\n",
      " [0.         0.         1.        ]\n",
      " [0.         0.04102564 0.95897436]\n",
      " [0.         0.         1.        ]\n",
      " [0.         0.         1.        ]\n",
      " [0.         0.02447553 0.9755244 ]]\n"
     ]
    }
   ],
   "source": [
    "import treelite\n",
    "\n",
    "# The checkpoint file has been copied over\n",
    "checkpoint_path = './checkpoint.tl'\n",
    "tl_model = treelite.Model.deserialize(checkpoint_path)\n",
    "out_prob = treelite.gtil.predict(tl_model, X, pred_margin=True)\n",
    "print(out_prob)"
   ]
  }
 ],
 "metadata": {
  "kernelspec": {
   "display_name": "Python 3",
   "language": "python",
   "name": "python3"
  },
  "language_info": {
   "codemirror_mode": {
    "name": "ipython",
    "version": 3
   },
   "file_extension": ".py",
   "mimetype": "text/x-python",
   "name": "python",
   "nbconvert_exporter": "python",
   "pygments_lexer": "ipython3",
   "version": "3.9.13"
  }
 },
 "nbformat": 4,
 "nbformat_minor": 4
}
