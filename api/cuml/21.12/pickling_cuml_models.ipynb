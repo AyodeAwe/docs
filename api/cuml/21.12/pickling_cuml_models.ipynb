{
 "cells": [
  {
   "cell_type": "markdown",
   "metadata": {},
   "source": [
    "# Pickling cuML Models for Persistence\n",
    "\n",
    "This notebook demonstrates simple pickling of both single-GPU and multi-GPU cuML models for persistence"
   ]
  },
  {
   "cell_type": "code",
   "execution_count": 1,
   "metadata": {
    "execution": {
     "iopub.execute_input": "2021-12-04T11:26:43.814095Z",
     "iopub.status.busy": "2021-12-04T11:26:43.813311Z",
     "iopub.status.idle": "2021-12-04T11:26:43.817318Z",
     "shell.execute_reply": "2021-12-04T11:26:43.816277Z"
    }
   },
   "outputs": [],
   "source": [
    "import warnings\n",
    "warnings.filterwarnings(\"ignore\", category=FutureWarning)"
   ]
  },
  {
   "cell_type": "markdown",
   "metadata": {},
   "source": [
    "## Single GPU Model Pickling\n",
    "\n",
    "All single-GPU estimators are pickleable. The following example demonstrates the creation of a synthetic dataset, training, and pickling of the resulting model for storage. Trained single-GPU models can also be used to distribute the inference on a Dask cluster, which the `Distributed Model Pickling` section below demonstrates."
   ]
  },
  {
   "cell_type": "code",
   "execution_count": 2,
   "metadata": {
    "execution": {
     "iopub.execute_input": "2021-12-04T11:26:43.823589Z",
     "iopub.status.busy": "2021-12-04T11:26:43.822516Z",
     "iopub.status.idle": "2021-12-04T11:26:49.449431Z",
     "shell.execute_reply": "2021-12-04T11:26:49.450426Z"
    }
   },
   "outputs": [],
   "source": [
    "from cuml.datasets import make_blobs\n",
    "\n",
    "X, y = make_blobs(n_samples=50,\n",
    "                  n_features=10,\n",
    "                  centers=5,\n",
    "                  cluster_std=0.4,\n",
    "                  random_state=0)"
   ]
  },
  {
   "cell_type": "code",
   "execution_count": 3,
   "metadata": {
    "execution": {
     "iopub.execute_input": "2021-12-04T11:26:49.457619Z",
     "iopub.status.busy": "2021-12-04T11:26:49.456341Z",
     "iopub.status.idle": "2021-12-04T11:26:49.783627Z",
     "shell.execute_reply": "2021-12-04T11:26:49.785134Z"
    }
   },
   "outputs": [
    {
     "data": {
      "text/plain": [
       "KMeans()"
      ]
     },
     "execution_count": 3,
     "metadata": {},
     "output_type": "execute_result"
    }
   ],
   "source": [
    "from cuml.cluster import KMeans\n",
    "\n",
    "model = KMeans(n_clusters=5)\n",
    "\n",
    "model.fit(X)"
   ]
  },
  {
   "cell_type": "code",
   "execution_count": 4,
   "metadata": {
    "execution": {
     "iopub.execute_input": "2021-12-04T11:26:49.792117Z",
     "iopub.status.busy": "2021-12-04T11:26:49.790621Z",
     "iopub.status.idle": "2021-12-04T11:26:49.794459Z",
     "shell.execute_reply": "2021-12-04T11:26:49.795277Z"
    }
   },
   "outputs": [],
   "source": [
    "import pickle\n",
    "\n",
    "pickle.dump(model, open(\"kmeans_model.pkl\", \"wb\"))"
   ]
  },
  {
   "cell_type": "code",
   "execution_count": 5,
   "metadata": {
    "execution": {
     "iopub.execute_input": "2021-12-04T11:26:49.801255Z",
     "iopub.status.busy": "2021-12-04T11:26:49.800378Z",
     "iopub.status.idle": "2021-12-04T11:26:49.803891Z",
     "shell.execute_reply": "2021-12-04T11:26:49.804644Z"
    }
   },
   "outputs": [],
   "source": [
    "model = pickle.load(open(\"kmeans_model.pkl\", \"rb\"))"
   ]
  },
  {
   "cell_type": "code",
   "execution_count": 6,
   "metadata": {
    "execution": {
     "iopub.execute_input": "2021-12-04T11:26:49.813047Z",
     "iopub.status.busy": "2021-12-04T11:26:49.812133Z",
     "iopub.status.idle": "2021-12-04T11:26:49.815387Z",
     "shell.execute_reply": "2021-12-04T11:26:49.816156Z"
    }
   },
   "outputs": [
    {
     "data": {
      "text/plain": [
       "array([[ 5.2615476 , -4.0487256 ,  4.464928  , -2.9367518 ,  3.5061095 ,\n",
       "        -4.0168314 , -3.463885  ,  6.078449  , -6.953326  , -1.004144  ],\n",
       "       [-4.243999  ,  5.610707  , -5.6697764 , -1.7957243 , -9.255529  ,\n",
       "         0.7177438 ,  4.4435897 , -2.8747153 , -5.0900965 ,  9.684121  ],\n",
       "       [ 4.6749854 ,  8.213465  , -9.075721  ,  9.568374  ,  8.454807  ,\n",
       "        -1.2327975 ,  3.3903713 , -7.828242  , -0.8454461 ,  0.62885725],\n",
       "       [-3.008261  ,  4.625961  , -4.483249  ,  2.228457  ,  1.6435319 ,\n",
       "        -2.4505193 , -5.258201  , -1.6679403 , -7.9857535 ,  2.8311467 ],\n",
       "       [-5.6072407 ,  2.2695985 , -3.7516537 , -1.8182003 , -5.1430283 ,\n",
       "         7.599363  ,  2.8252366 ,  8.773042  ,  1.6198314 ,  1.1772047 ]],\n",
       "      dtype=float32)"
      ]
     },
     "execution_count": 6,
     "metadata": {},
     "output_type": "execute_result"
    }
   ],
   "source": [
    "model.cluster_centers_"
   ]
  },
  {
   "cell_type": "markdown",
   "metadata": {},
   "source": [
    "## Distributed Model Pickling"
   ]
  },
  {
   "cell_type": "markdown",
   "metadata": {},
   "source": [
    "The distributed estimator wrappers inside of the `cuml.dask` are not intended to be pickled directly. The Dask cuML estimators provide a function `get_combined_model()`, which returns the trained single-GPU model for pickling. The combined model can be used for inference on a single-GPU, and the `ParallelPostFit` wrapper from the [Dask-ML](https://ml.dask.org/meta-estimators.html) library can be used to perform distributed inference on a Dask cluster."
   ]
  },
  {
   "cell_type": "code",
   "execution_count": 7,
   "metadata": {
    "execution": {
     "iopub.execute_input": "2021-12-04T11:26:49.822361Z",
     "iopub.status.busy": "2021-12-04T11:26:49.821322Z",
     "iopub.status.idle": "2021-12-04T11:26:53.526561Z",
     "shell.execute_reply": "2021-12-04T11:26:53.527371Z"
    }
   },
   "outputs": [
    {
     "data": {
      "text/html": [
       "<div>\n",
       "    <div style=\"width: 24px; height: 24px; background-color: #e1e1e1; border: 3px solid #9D9D9D; border-radius: 5px; position: absolute;\"> </div>\n",
       "    <div style=\"margin-left: 48px;\">\n",
       "        <h3 style=\"margin-bottom: 0px;\">Client</h3>\n",
       "        <p style=\"color: #9D9D9D; margin-bottom: 0px;\">Client-14cdbf66-54f5-11ec-9d8d-0242ac110002</p>\n",
       "        <table style=\"width: 100%; text-align: left;\">\n",
       "\n",
       "        <tr>\n",
       "        \n",
       "            <td style=\"text-align: left;\"><strong>Connection method:</strong> Cluster object</td>\n",
       "            <td style=\"text-align: left;\"><strong>Cluster type:</strong> dask_cuda.LocalCUDACluster</td>\n",
       "        \n",
       "        </tr>\n",
       "\n",
       "        \n",
       "            <tr>\n",
       "                <td style=\"text-align: left;\">\n",
       "                    <strong>Dashboard: </strong> <a href=\"http://127.0.0.1:8787/status\" target=\"_blank\">http://127.0.0.1:8787/status</a>\n",
       "                </td>\n",
       "                <td style=\"text-align: left;\"></td>\n",
       "            </tr>\n",
       "        \n",
       "\n",
       "        </table>\n",
       "\n",
       "        \n",
       "            <details>\n",
       "            <summary style=\"margin-bottom: 20px;\"><h3 style=\"display: inline;\">Cluster Info</h3></summary>\n",
       "            <div class=\"jp-RenderedHTMLCommon jp-RenderedHTML jp-mod-trusted jp-OutputArea-output\">\n",
       "    <div style=\"width: 24px; height: 24px; background-color: #e1e1e1; border: 3px solid #9D9D9D; border-radius: 5px; position: absolute;\">\n",
       "    </div>\n",
       "    <div style=\"margin-left: 48px;\">\n",
       "        <h3 style=\"margin-bottom: 0px; margin-top: 0px;\">LocalCUDACluster</h3>\n",
       "        <p style=\"color: #9D9D9D; margin-bottom: 0px;\">c9be6236</p>\n",
       "        <table style=\"width: 100%; text-align: left;\">\n",
       "            <tr>\n",
       "                <td style=\"text-align: left;\">\n",
       "                    <strong>Dashboard:</strong> <a href=\"http://127.0.0.1:8787/status\" target=\"_blank\">http://127.0.0.1:8787/status</a>\n",
       "                </td>\n",
       "                <td style=\"text-align: left;\">\n",
       "                    <strong>Workers:</strong> 1\n",
       "                </td>\n",
       "            </tr>\n",
       "            <tr>\n",
       "                <td style=\"text-align: left;\">\n",
       "                    <strong>Total threads:</strong> 1\n",
       "                </td>\n",
       "                <td style=\"text-align: left;\">\n",
       "                    <strong>Total memory:</strong> 251.79 GiB\n",
       "                </td>\n",
       "            </tr>\n",
       "            \n",
       "            <tr>\n",
       "    <td style=\"text-align: left;\"><strong>Status:</strong> running</td>\n",
       "    <td style=\"text-align: left;\"><strong>Using processes:</strong> True</td>\n",
       "</tr>\n",
       "\n",
       "            \n",
       "        </table>\n",
       "\n",
       "        <details>\n",
       "            <summary style=\"margin-bottom: 20px;\">\n",
       "                <h3 style=\"display: inline;\">Scheduler Info</h3>\n",
       "            </summary>\n",
       "\n",
       "            <div style=\"\">\n",
       "    <div>\n",
       "        <div style=\"width: 24px; height: 24px; background-color: #FFF7E5; border: 3px solid #FF6132; border-radius: 5px; position: absolute;\"> </div>\n",
       "        <div style=\"margin-left: 48px;\">\n",
       "            <h3 style=\"margin-bottom: 0px;\">Scheduler</h3>\n",
       "            <p style=\"color: #9D9D9D; margin-bottom: 0px;\">Scheduler-2542a7d4-f2d3-4c3b-8e3a-e51c9af90fb1</p>\n",
       "            <table style=\"width: 100%; text-align: left;\">\n",
       "                <tr>\n",
       "                    <td style=\"text-align: left;\">\n",
       "                        <strong>Comm:</strong> tcp://127.0.0.1:38019\n",
       "                    </td>\n",
       "                    <td style=\"text-align: left;\">\n",
       "                        <strong>Workers:</strong> 1\n",
       "                    </td>\n",
       "                </tr>\n",
       "                <tr>\n",
       "                    <td style=\"text-align: left;\">\n",
       "                        <strong>Dashboard:</strong> <a href=\"http://127.0.0.1:8787/status\" target=\"_blank\">http://127.0.0.1:8787/status</a>\n",
       "                    </td>\n",
       "                    <td style=\"text-align: left;\">\n",
       "                        <strong>Total threads:</strong> 1\n",
       "                    </td>\n",
       "                </tr>\n",
       "                <tr>\n",
       "                    <td style=\"text-align: left;\">\n",
       "                        <strong>Started:</strong> Just now\n",
       "                    </td>\n",
       "                    <td style=\"text-align: left;\">\n",
       "                        <strong>Total memory:</strong> 251.79 GiB\n",
       "                    </td>\n",
       "                </tr>\n",
       "            </table>\n",
       "        </div>\n",
       "    </div>\n",
       "\n",
       "    <details style=\"margin-left: 48px;\">\n",
       "        <summary style=\"margin-bottom: 20px;\">\n",
       "            <h3 style=\"display: inline;\">Workers</h3>\n",
       "        </summary>\n",
       "\n",
       "        \n",
       "        <div style=\"margin-bottom: 20px;\">\n",
       "            <div style=\"width: 24px; height: 24px; background-color: #DBF5FF; border: 3px solid #4CC9FF; border-radius: 5px; position: absolute;\"> </div>\n",
       "            <div style=\"margin-left: 48px;\">\n",
       "            <details>\n",
       "                <summary>\n",
       "                    <h4 style=\"margin-bottom: 0px; display: inline;\">Worker: 0</h4>\n",
       "                </summary>\n",
       "                <table style=\"width: 100%; text-align: left;\">\n",
       "                    <tr>\n",
       "                        <td style=\"text-align: left;\">\n",
       "                            <strong>Comm: </strong> tcp://127.0.0.1:45145\n",
       "                        </td>\n",
       "                        <td style=\"text-align: left;\">\n",
       "                            <strong>Total threads: </strong> 1\n",
       "                        </td>\n",
       "                    </tr>\n",
       "                    <tr>\n",
       "                        <td style=\"text-align: left;\">\n",
       "                            <strong>Dashboard: </strong> <a href=\"http://127.0.0.1:45777/status\" target=\"_blank\">http://127.0.0.1:45777/status</a>\n",
       "                        </td>\n",
       "                        <td style=\"text-align: left;\">\n",
       "                            <strong>Memory: </strong> 251.79 GiB\n",
       "                        </td>\n",
       "                    </tr>\n",
       "                    <tr>\n",
       "                        <td style=\"text-align: left;\">\n",
       "                            <strong>Nanny: </strong> tcp://127.0.0.1:41723\n",
       "                        </td>\n",
       "                        <td style=\"text-align: left;\"></td>\n",
       "                    </tr>\n",
       "                    <tr>\n",
       "                        <td colspan=\"2\" style=\"text-align: left;\">\n",
       "                            <strong>Local directory: </strong> /rapids/cuml/docs/source/dask-worker-space/worker-rrr1m975\n",
       "                        </td>\n",
       "                    </tr>\n",
       "\n",
       "                    \n",
       "                    <tr>\n",
       "                        <td style=\"text-align: left;\">\n",
       "                            <strong>GPU: </strong>Tesla V100-PCIE-32GB\n",
       "                        </td>\n",
       "                        <td style=\"text-align: left;\">\n",
       "                            <strong>GPU memory: </strong> 31.75 GiB\n",
       "                        </td>\n",
       "                    </tr>\n",
       "                    \n",
       "\n",
       "                    \n",
       "\n",
       "                </table>\n",
       "            </details>\n",
       "            </div>\n",
       "        </div>\n",
       "        \n",
       "\n",
       "    </details>\n",
       "</div>\n",
       "\n",
       "        </details>\n",
       "    </div>\n",
       "</div>\n",
       "            </details>\n",
       "        \n",
       "\n",
       "    </div>\n",
       "</div>"
      ],
      "text/plain": [
       "<Client: 'tcp://127.0.0.1:38019' processes=1 threads=1, memory=251.79 GiB>"
      ]
     },
     "execution_count": 7,
     "metadata": {},
     "output_type": "execute_result"
    }
   ],
   "source": [
    "from dask.distributed import Client\n",
    "from dask_cuda import LocalCUDACluster\n",
    "\n",
    "cluster = LocalCUDACluster()\n",
    "client = Client(cluster)\n",
    "client"
   ]
  },
  {
   "cell_type": "code",
   "execution_count": 8,
   "metadata": {
    "execution": {
     "iopub.execute_input": "2021-12-04T11:26:53.537225Z",
     "iopub.status.busy": "2021-12-04T11:26:53.535980Z",
     "iopub.status.idle": "2021-12-04T11:26:54.133993Z",
     "shell.execute_reply": "2021-12-04T11:26:54.133129Z"
    }
   },
   "outputs": [],
   "source": [
    "from cuml.dask.datasets import make_blobs\n",
    "\n",
    "n_workers = len(client.scheduler_info()[\"workers\"].keys())\n",
    "\n",
    "X, y = make_blobs(n_samples=5000, \n",
    "                  n_features=30,\n",
    "                  centers=5, \n",
    "                  cluster_std=0.4, \n",
    "                  random_state=0,\n",
    "                  n_parts=n_workers*5)\n",
    "\n",
    "X = X.persist()\n",
    "y = y.persist()"
   ]
  },
  {
   "cell_type": "code",
   "execution_count": 9,
   "metadata": {
    "execution": {
     "iopub.execute_input": "2021-12-04T11:26:54.141856Z",
     "iopub.status.busy": "2021-12-04T11:26:54.140312Z",
     "iopub.status.idle": "2021-12-04T11:26:54.155718Z",
     "shell.execute_reply": "2021-12-04T11:26:54.156339Z"
    }
   },
   "outputs": [],
   "source": [
    "from cuml.dask.cluster import KMeans\n",
    "\n",
    "dist_model = KMeans(n_clusters=5)"
   ]
  },
  {
   "cell_type": "code",
   "execution_count": 10,
   "metadata": {
    "execution": {
     "iopub.execute_input": "2021-12-04T11:26:54.162804Z",
     "iopub.status.busy": "2021-12-04T11:26:54.162035Z",
     "iopub.status.idle": "2021-12-04T11:26:58.020423Z",
     "shell.execute_reply": "2021-12-04T11:26:58.021682Z"
    }
   },
   "outputs": [
    {
     "data": {
      "text/plain": [
       "<cuml.dask.cluster.kmeans.KMeans at 0x7fdeb1a30890>"
      ]
     },
     "execution_count": 10,
     "metadata": {},
     "output_type": "execute_result"
    }
   ],
   "source": [
    "dist_model.fit(X)"
   ]
  },
  {
   "cell_type": "code",
   "execution_count": 11,
   "metadata": {
    "execution": {
     "iopub.execute_input": "2021-12-04T11:26:58.031312Z",
     "iopub.status.busy": "2021-12-04T11:26:58.030124Z",
     "iopub.status.idle": "2021-12-04T11:26:58.047068Z",
     "shell.execute_reply": "2021-12-04T11:26:58.048099Z"
    }
   },
   "outputs": [],
   "source": [
    "import pickle\n",
    "\n",
    "single_gpu_model = dist_model.get_combined_model()\n",
    "pickle.dump(single_gpu_model, open(\"kmeans_model.pkl\", \"wb\"))"
   ]
  },
  {
   "cell_type": "code",
   "execution_count": 12,
   "metadata": {
    "execution": {
     "iopub.execute_input": "2021-12-04T11:26:58.055821Z",
     "iopub.status.busy": "2021-12-04T11:26:58.054795Z",
     "iopub.status.idle": "2021-12-04T11:26:58.058704Z",
     "shell.execute_reply": "2021-12-04T11:26:58.059487Z"
    }
   },
   "outputs": [],
   "source": [
    "single_gpu_model = pickle.load(open(\"kmeans_model.pkl\", \"rb\"))"
   ]
  },
  {
   "cell_type": "code",
   "execution_count": 13,
   "metadata": {
    "execution": {
     "iopub.execute_input": "2021-12-04T11:26:58.069807Z",
     "iopub.status.busy": "2021-12-04T11:26:58.068712Z",
     "iopub.status.idle": "2021-12-04T11:26:58.073557Z",
     "shell.execute_reply": "2021-12-04T11:26:58.074299Z"
    }
   },
   "outputs": [
    {
     "data": {
      "text/plain": [
       "array([[-2.8796387e+00,  4.4348760e+00, -4.4264808e+00,  2.3959141e+00,\n",
       "         1.7286434e+00, -2.4991987e+00, -5.1794524e+00, -1.6771444e+00,\n",
       "        -8.1329174e+00,  2.6659229e+00, -4.3131099e+00,  5.5827813e+00,\n",
       "        -5.7318316e+00, -1.7427170e+00, -9.3456125e+00,  7.1365565e-01,\n",
       "         4.4255495e+00, -2.9118378e+00, -4.9467440e+00,  9.6786423e+00,\n",
       "         8.4222765e+00, -6.2710247e+00, -6.3596516e+00,  1.9645509e+00,\n",
       "         4.1715999e+00, -9.1683636e+00,  4.6156683e+00,  8.7916498e+00,\n",
       "         6.8754416e+00,  2.2288747e+00],\n",
       "       [-6.9536948e+00, -9.7635880e+00, -6.5648255e+00, -4.3536147e-01,\n",
       "         6.0998106e+00,  3.7550373e+00, -3.9558542e+00,  6.1595526e+00,\n",
       "        -1.8599318e+00,  5.0400305e+00, -6.8397551e+00,  1.3435434e+00,\n",
       "         8.9749012e+00, -9.9621761e-01,  9.6651945e+00,  9.8009653e+00,\n",
       "        -8.6188345e+00,  5.9978366e+00,  2.2295930e+00, -3.6477711e+00,\n",
       "         7.0758505e+00, -7.3772259e+00, -5.3214226e+00, -6.9927955e+00,\n",
       "        -7.9296317e+00,  6.6705360e+00, -5.5850182e+00,  7.1526046e+00,\n",
       "         6.5703206e+00, -8.3389387e+00],\n",
       "       [ 4.8136683e+00,  8.3985281e+00, -9.2161245e+00,  9.4185524e+00,\n",
       "         8.5280876e+00, -1.0969982e+00,  3.3253171e+00, -7.8064365e+00,\n",
       "        -5.9660637e-01,  2.5423869e-01,  5.5004086e+00, -4.1162963e+00,\n",
       "         4.2832375e+00, -2.8173416e+00,  3.6207724e+00, -4.1576219e+00,\n",
       "        -3.6048706e+00,  6.2125406e+00, -6.9080997e+00, -1.0732135e+00,\n",
       "        -5.8362112e+00,  2.2357666e+00, -3.8588789e+00, -1.6835877e+00,\n",
       "        -5.3240361e+00,  7.5769196e+00,  2.9358528e+00,  8.5267372e+00,\n",
       "         1.5667248e+00,  1.0779674e+00],\n",
       "       [-4.6475396e+00, -9.5672178e+00,  6.6923518e+00,  4.4359236e+00,\n",
       "         2.1902735e+00,  2.5834754e+00,  5.9448928e-01,  6.2568665e+00,\n",
       "        -8.7821627e+00, -4.1232011e-01,  9.8151779e+00,  7.5641570e+00,\n",
       "         1.0003010e+01, -5.8680434e+00, -1.2743106e+00, -2.5393453e+00,\n",
       "        -1.0847499e+00, -5.2629204e+00, -9.3071012e+00,  4.6179366e+00,\n",
       "        -9.7068958e-02, -3.9351208e+00,  6.1767268e+00, -7.4346881e+00,\n",
       "         5.6496072e+00, -8.5544853e+00, -7.5265574e+00, -5.5195599e+00,\n",
       "         4.8197632e+00,  2.5235438e+00],\n",
       "       [ 6.2794294e+00,  9.2293949e+00,  8.3403702e+00,  9.0330496e+00,\n",
       "         7.6893497e+00, -9.9538219e-01, -6.2780757e+00,  1.3599334e+00,\n",
       "        -6.9744492e+00, -5.9463468e+00,  1.0695117e+00, -8.0422489e-03,\n",
       "         2.8183141e+00,  1.8317667e+00, -8.2557344e+00,  3.0514317e+00,\n",
       "        -8.4958029e+00,  9.7238483e+00, -7.7455082e+00,  3.4521692e+00,\n",
       "        -3.9248335e+00, -4.1106415e+00,  2.6693091e+00,  1.2985628e+00,\n",
       "         1.0421573e+00,  5.2490625e+00, -1.6496238e+00,  6.1451659e+00,\n",
       "        -6.9103332e+00, -9.6390305e+00]], dtype=float32)"
      ]
     },
     "execution_count": 13,
     "metadata": {},
     "output_type": "execute_result"
    }
   ],
   "source": [
    "single_gpu_model.cluster_centers_"
   ]
  },
  {
   "cell_type": "markdown",
   "metadata": {},
   "source": [
    "## Exporting cuML Random Forest models for inferencing on machines without GPUs"
   ]
  },
  {
   "cell_type": "markdown",
   "metadata": {},
   "source": [
    "Starting with cuML version 21.06, you can export cuML Random Forest models and run predictions with them on machines without an NVIDIA GPUs. The [Treelite](https://github.com/dmlc/treelite) package defines an efficient exchange format that lets you portably move the cuML Random Forest models to other machines. We will refer to the exchange format as \"checkpoints.\"\n",
    "\n",
    "Here are the steps to export the model:\n",
    "\n",
    "1. Call `to_treelite_checkpoint()` to obtain the checkpoint file from the cuML Random Forest model."
   ]
  },
  {
   "cell_type": "code",
   "execution_count": 14,
   "metadata": {
    "execution": {
     "iopub.execute_input": "2021-12-04T11:26:58.084914Z",
     "iopub.status.busy": "2021-12-04T11:26:58.083579Z",
     "iopub.status.idle": "2021-12-04T11:26:58.230444Z",
     "shell.execute_reply": "2021-12-04T11:26:58.231491Z"
    }
   },
   "outputs": [
    {
     "name": "stderr",
     "output_type": "stream",
     "text": [
      "/opt/conda/envs/rapids/lib/python3.7/site-packages/cuml/internals/api_decorators.py:794: UserWarning: For reproducible results in Random Forest Classifier or for almost reproducible results in Random Forest Regressor, n_streams=1 is recommended. If n_streams is > 1, results may vary due to stream/thread timing differences, even when random_state is set\n",
      "  return func(**kwargs)\n"
     ]
    }
   ],
   "source": [
    "from cuml.ensemble import RandomForestClassifier as cumlRandomForestClassifier\n",
    "from sklearn.datasets import load_iris\n",
    "import numpy as np\n",
    "\n",
    "X, y = load_iris(return_X_y=True)\n",
    "X, y = X.astype(np.float32), y.astype(np.int32)\n",
    "clf = cumlRandomForestClassifier(max_depth=3, random_state=0, n_estimators=10)\n",
    "clf.fit(X, y)\n",
    "\n",
    "checkpoint_path = './checkpoint.tl'\n",
    "# Export cuML RF model as Treelite checkpoint\n",
    "clf.convert_to_treelite_model().to_treelite_checkpoint(checkpoint_path)"
   ]
  },
  {
   "cell_type": "markdown",
   "metadata": {},
   "source": [
    "2. Copy the generated checkpoint file `checkpoint.tl` to another machine on which you'd like to run predictions.\n",
    "\n",
    "3. On the target machine, install Treelite by running `pip install treelite` or `conda install -c conda-forge treelite`. The machine does not need to have an NVIDIA GPUs and does not need to have cuML installed.\n",
    "\n",
    "4. You can now load the model from the checkpoint, by running the following on the target machine:"
   ]
  },
  {
   "cell_type": "code",
   "execution_count": 15,
   "metadata": {
    "execution": {
     "iopub.execute_input": "2021-12-04T11:26:58.236283Z",
     "iopub.status.busy": "2021-12-04T11:26:58.235128Z",
     "iopub.status.idle": "2021-12-04T11:26:58.274983Z",
     "shell.execute_reply": "2021-12-04T11:26:58.276107Z"
    }
   },
   "outputs": [
    {
     "name": "stdout",
     "output_type": "stream",
     "text": [
      "[[1.         0.         0.        ]\n",
      " [1.         0.         0.        ]\n",
      " [1.         0.         0.        ]\n",
      " [1.         0.         0.        ]\n",
      " [1.         0.         0.        ]\n",
      " [1.         0.         0.        ]\n",
      " [1.         0.         0.        ]\n",
      " [1.         0.         0.        ]\n",
      " [1.         0.         0.        ]\n",
      " [1.         0.         0.        ]\n",
      " [1.         0.         0.        ]\n",
      " [1.         0.         0.        ]\n",
      " [1.         0.         0.        ]\n",
      " [1.         0.         0.        ]\n",
      " [1.         0.         0.        ]\n",
      " [1.         0.         0.        ]\n",
      " [1.         0.         0.        ]\n",
      " [1.         0.         0.        ]\n",
      " [0.9        0.09166667 0.00833333]\n",
      " [1.         0.         0.        ]\n",
      " [1.         0.         0.        ]\n",
      " [1.         0.         0.        ]\n",
      " [1.         0.         0.        ]\n",
      " [1.         0.         0.        ]\n",
      " [1.         0.         0.        ]\n",
      " [1.         0.         0.        ]\n",
      " [1.         0.         0.        ]\n",
      " [1.         0.         0.        ]\n",
      " [1.         0.         0.        ]\n",
      " [1.         0.         0.        ]\n",
      " [1.         0.         0.        ]\n",
      " [1.         0.         0.        ]\n",
      " [1.         0.         0.        ]\n",
      " [1.         0.         0.        ]\n",
      " [1.         0.         0.        ]\n",
      " [1.         0.         0.        ]\n",
      " [1.         0.         0.        ]\n",
      " [1.         0.         0.        ]\n",
      " [1.         0.         0.        ]\n",
      " [1.         0.         0.        ]\n",
      " [1.         0.         0.        ]\n",
      " [0.9        0.         0.1       ]\n",
      " [1.         0.         0.        ]\n",
      " [1.         0.         0.        ]\n",
      " [1.         0.         0.        ]\n",
      " [1.         0.         0.        ]\n",
      " [1.         0.         0.        ]\n",
      " [1.         0.         0.        ]\n",
      " [1.         0.         0.        ]\n",
      " [1.         0.         0.        ]\n",
      " [0.         0.97452766 0.02547234]\n",
      " [0.         0.97452766 0.02547234]\n",
      " [0.         0.7460598  0.25394017]\n",
      " [0.         0.9871346  0.0128655 ]\n",
      " [0.         0.97452766 0.02547234]\n",
      " [0.         0.97880113 0.02119883]\n",
      " [0.         0.9274122  0.07258771]\n",
      " [0.         0.6388889  0.3611111 ]\n",
      " [0.         0.97452766 0.02547234]\n",
      " [0.         0.9871346  0.0128655 ]\n",
      " [0.         0.85380113 0.14619884]\n",
      " [0.         0.97880113 0.02119883]\n",
      " [0.         0.9300833  0.06991678]\n",
      " [0.         0.9634166  0.03658345]\n",
      " [0.         0.97880113 0.02119883]\n",
      " [0.         0.97452766 0.02547234]\n",
      " [0.         0.97880113 0.02119883]\n",
      " [0.         0.97880113 0.02119883]\n",
      " [0.         0.9300833  0.06991678]\n",
      " [0.         0.97880113 0.02119883]\n",
      " [0.         0.4074123  0.5925877 ]\n",
      " [0.         0.9634166  0.03658345]\n",
      " [0.         0.7460598  0.25394017]\n",
      " [0.         0.9634166  0.03658345]\n",
      " [0.         0.97452766 0.02547234]\n",
      " [0.         0.97452766 0.02547234]\n",
      " [0.         0.81230545 0.18769456]\n",
      " [0.         0.31124604 0.68875396]\n",
      " [0.         0.9634166  0.03658345]\n",
      " [0.         0.97880113 0.02119883]\n",
      " [0.         0.9871346  0.0128655 ]\n",
      " [0.         0.9871346  0.0128655 ]\n",
      " [0.         0.97880113 0.02119883]\n",
      " [0.         0.23505557 0.76494443]\n",
      " [0.         0.9871346  0.0128655 ]\n",
      " [0.         0.91630113 0.08369882]\n",
      " [0.         0.97452766 0.02547234]\n",
      " [0.         0.97452766 0.02547234]\n",
      " [0.         0.97880113 0.02119883]\n",
      " [0.         0.9871346  0.0128655 ]\n",
      " [0.         0.9871346  0.0128655 ]\n",
      " [0.         0.9634166  0.03658345]\n",
      " [0.         0.97880113 0.02119883]\n",
      " [0.         0.88713455 0.11286551]\n",
      " [0.         0.97880113 0.02119883]\n",
      " [0.         0.97880113 0.02119883]\n",
      " [0.         0.97880113 0.02119883]\n",
      " [0.         0.9634166  0.03658345]\n",
      " [0.         0.9871346  0.0128655 ]\n",
      " [0.         0.97880113 0.02119883]\n",
      " [0.         0.01333333 0.9866667 ]\n",
      " [0.         0.08088888 0.91911113]\n",
      " [0.         0.02444444 0.9755556 ]\n",
      " [0.         0.08638889 0.9136111 ]\n",
      " [0.         0.03777778 0.9622222 ]\n",
      " [0.         0.02444444 0.9755556 ]\n",
      " [0.         0.34305555 0.6569444 ]\n",
      " [0.         0.07305555 0.92694443]\n",
      " [0.         0.08638889 0.9136111 ]\n",
      " [0.         0.         1.        ]\n",
      " [0.         0.05644444 0.94355565]\n",
      " [0.         0.03777778 0.9622222 ]\n",
      " [0.         0.03777778 0.9622222 ]\n",
      " [0.         0.17374603 0.826254  ]\n",
      " [0.         0.08088888 0.91911113]\n",
      " [0.         0.01333333 0.9866667 ]\n",
      " [0.         0.08638889 0.9136111 ]\n",
      " [0.         0.         1.        ]\n",
      " [0.         0.02444444 0.9755556 ]\n",
      " [0.         0.32502812 0.67497194]\n",
      " [0.         0.01333333 0.9866667 ]\n",
      " [0.         0.28366667 0.7163333 ]\n",
      " [0.         0.02444444 0.9755556 ]\n",
      " [0.         0.34338892 0.6566111 ]\n",
      " [0.         0.01333333 0.9866667 ]\n",
      " [0.         0.04861111 0.95138896]\n",
      " [0.         0.43185672 0.5681433 ]\n",
      " [0.         0.3322778  0.6677222 ]\n",
      " [0.         0.03777778 0.9622222 ]\n",
      " [0.         0.17861111 0.8213889 ]\n",
      " [0.         0.02444444 0.9755556 ]\n",
      " [0.         0.         1.        ]\n",
      " [0.         0.03777778 0.9622222 ]\n",
      " [0.         0.28217095 0.7178291 ]\n",
      " [0.         0.23905985 0.7609402 ]\n",
      " [0.         0.02444444 0.9755556 ]\n",
      " [0.         0.01333333 0.9866667 ]\n",
      " [0.         0.08638889 0.9136111 ]\n",
      " [0.         0.43185672 0.5681433 ]\n",
      " [0.         0.03777778 0.9622222 ]\n",
      " [0.         0.03777778 0.9622222 ]\n",
      " [0.         0.08088888 0.91911113]\n",
      " [0.         0.08088888 0.91911113]\n",
      " [0.         0.01333333 0.9866667 ]\n",
      " [0.         0.01333333 0.9866667 ]\n",
      " [0.         0.08088888 0.91911113]\n",
      " [0.         0.17374603 0.826254  ]\n",
      " [0.         0.08088888 0.91911113]\n",
      " [0.         0.01333333 0.9866667 ]\n",
      " [0.         0.1295     0.87049997]]\n"
     ]
    }
   ],
   "source": [
    "import treelite\n",
    "\n",
    "# The checkpoint file has been copied over\n",
    "checkpoint_path = './checkpoint.tl'\n",
    "tl_model = treelite.Model.deserialize(checkpoint_path)\n",
    "out_prob = treelite.gtil.predict(tl_model, X, pred_margin=True)\n",
    "print(out_prob)"
   ]
  }
 ],
 "metadata": {
  "kernelspec": {
   "display_name": "Python 3",
   "language": "python",
   "name": "python3"
  },
  "language_info": {
   "codemirror_mode": {
    "name": "ipython",
    "version": 3
   },
   "file_extension": ".py",
   "mimetype": "text/x-python",
   "name": "python",
   "nbconvert_exporter": "python",
   "pygments_lexer": "ipython3",
   "version": "3.7.12"
  }
 },
 "nbformat": 4,
 "nbformat_minor": 4
}
